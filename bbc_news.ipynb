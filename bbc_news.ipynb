{
 "cells": [
  {
   "metadata": {},
   "cell_type": "markdown",
   "source": [
    "## BBC News Classification with NMF Project\n",
    "\n",
    "University of Colorado, Boulder - CSCA 5632: Unsupervised Algorithms in Machine Learning\n",
    "\n",
    "### Project\n",
    "\n",
    "This project is about categorizing the BBC News articles using matrix factorization to predict the category. The project will work to follow a typical machine learning project, with an exception that the specific unsupervised model, Non-negative Matrix Factorization (NMF), is already determined. After evaluations have been perfomed for the NMF model, the project will then select and compare the performance for against a supervised model. The guidelines for this project are as follows:\n",
    "\n",
    "#### Step 1. Exploratory Data Analysis\n",
    "\n",
    "In this section we will inspect, visualize, and clean the data. As part of the process, we will also select a word embedding method and review associated visualizations and statistics. Following a review of the EDA, we will then generate a plan for the analysis, including data cleaning, preprocessing, and feature engineering steps.\n",
    "\n",
    "#### Step 2. Building and training the unsupervised model\n",
    "\n",
    "In this section we will build a model using the Non-negative Matrix Factorization method and predict train and test data labels. The model's performance across various hyperparameter configurations will be evaluated to determine the optimal configuration. The performance will be inpected through results of the accuracy score and confusion matrix. Finally, we may look at additional methods to improve the final model performance.\n",
    "\n",
    "#### Step 3. Compare with supervised learning\n",
    "\n",
    "In this section we will evaluate and select a supervised model to generate the predicted category and compare the test results with the NMF model. This comparison will also include an evaluation of how each model performs based on the size of the training data.\n",
    "\n",
    "#### Step 4. Project Report and Conclusion\n",
    "\n",
    "Finally, we will evaluate the project results."
   ],
   "id": "d98b8608a567561a"
  },
  {
   "metadata": {},
   "cell_type": "markdown",
   "source": "Import the necessary libraries",
   "id": "7062708819df17ef"
  },
  {
   "metadata": {},
   "cell_type": "code",
   "outputs": [],
   "execution_count": null,
   "source": [
    "from collections import Counter\n",
    "import itertools\n",
    "import numpy as np\n",
    "import os\n",
    "import pandas as pd\n",
    "import re\n",
    "\n",
    "import matplotlib.pyplot as plt\n",
    "import plotly.express as px\n",
    "import seaborn as sns\n",
    "\n",
    "import nltk\n",
    "from nltk import pos_tag\n",
    "from nltk.corpus import stopwords, wordnet\n",
    "from nltk.stem import SnowballStemmer, WordNetLemmatizer\n",
    "from sklearn.base import BaseEstimator, TransformerMixin\n",
    "from sklearn.decomposition import NMF\n",
    "from sklearn.feature_extraction.text import TfidfVectorizer\n",
    "from sklearn.metrics import accuracy_score, confusion_matrix, classification_report\n",
    "from sklearn.model_selection import train_test_split\n",
    "from sklearn.pipeline import Pipeline\n",
    "from sklearn.svm import LinearSVC\n",
    "import spacy\n",
    "\n",
    "# Download the following required data resources if not already downloaded and needed\n",
    "\n",
    "# NLTK stopwords\n",
    "nltk.download('stopwords', quiet=True)\n",
    "\n",
    "# If using WordNetLemmatizer with POS tag support, you'll need the following NLTK data sets\n",
    "nltk.download('wordnet')\n",
    "nltk.download('averaged_perceptron_tagger')\n",
    "\n",
    "# If using the spaCy lemmatizer, you'll need the following spaCy data set downloaded\n",
    "#  for spaCy english words:\n",
    "# !python -m spacy download en_core_web_sm\n"
   ],
   "id": "f846acb2c26cbaac"
  },
  {
   "metadata": {
    "ExecuteTime": {
     "end_time": "2025-07-31T19:26:48.680252Z",
     "start_time": "2025-07-31T19:26:48.675708Z"
    }
   },
   "cell_type": "code",
   "source": [
    "# list project data files\n",
    "for dirname, _, filenames in os.walk('/kaggle/input'):\n",
    "    for filename in filenames:\n",
    "        print(os.path.join(dirname, filename))"
   ],
   "id": "b07cad39b1c82c9b",
   "outputs": [
    {
     "name": "stdout",
     "output_type": "stream",
     "text": [
      "/kaggle/input\\learn-ai-bbc\\BBC News Sample Solution.csv\n",
      "/kaggle/input\\learn-ai-bbc\\BBC News Test.csv\n",
      "/kaggle/input\\learn-ai-bbc\\BBC News Train.csv\n"
     ]
    }
   ],
   "execution_count": 64
  },
  {
   "metadata": {},
   "cell_type": "markdown",
   "source": "### Load the data files",
   "id": "43ff099efcaa8704"
  },
  {
   "metadata": {
    "ExecuteTime": {
     "end_time": "2025-08-01T01:48:50.998202Z",
     "start_time": "2025-08-01T01:48:50.942818Z"
    }
   },
   "cell_type": "code",
   "source": [
    "bbcnews_train = pd.read_csv('/kaggle/input/learn-ai-bbc/BBC News Train.csv')\n",
    "bbcnews_test = pd.read_csv('/kaggle/input/learn-ai-bbc/BBC News Test.csv')\n",
    "submission_sample = pd.read_csv('/kaggle/input/learn-ai-bbc/BBC News Sample Solution.csv')"
   ],
   "id": "fe05e0257f480ff3",
   "outputs": [],
   "execution_count": 127
  },
  {
   "metadata": {},
   "cell_type": "markdown",
   "source": "### Step 1. Exploratory Data Analysis (EDA)",
   "id": "73e38ebd4dc7941b"
  },
  {
   "metadata": {},
   "cell_type": "markdown",
   "source": [
    "#### Examine data sets\n",
    "\n",
    "Let's take a look at the train, test, and sample submission data sets"
   ],
   "id": "bbd402612b650bc5"
  },
  {
   "metadata": {
    "ExecuteTime": {
     "end_time": "2025-07-31T20:29:08.398205Z",
     "start_time": "2025-07-31T20:29:08.386822Z"
    }
   },
   "cell_type": "code",
   "source": [
    "print(f'Train data set: {bbcnews_train.shape}\\n')\n",
    "print(bbcnews_train.info())\n",
    "bbcnews_train.head()"
   ],
   "id": "d46ce94f5a63026c",
   "outputs": [
    {
     "name": "stdout",
     "output_type": "stream",
     "text": [
      "Train data set: (1490, 3)\n",
      "\n",
      "<class 'pandas.core.frame.DataFrame'>\n",
      "RangeIndex: 1490 entries, 0 to 1489\n",
      "Data columns (total 3 columns):\n",
      " #   Column     Non-Null Count  Dtype \n",
      "---  ------     --------------  ----- \n",
      " 0   ArticleId  1490 non-null   int64 \n",
      " 1   Text       1490 non-null   object\n",
      " 2   Category   1490 non-null   object\n",
      "dtypes: int64(1), object(2)\n",
      "memory usage: 35.1+ KB\n",
      "None\n"
     ]
    },
    {
     "data": {
      "text/plain": [
       "   ArticleId                                               Text  Category\n",
       "0       1833  worldcom ex-boss launches defence lawyers defe...  business\n",
       "1        154  german business confidence slides german busin...  business\n",
       "2       1101  bbc poll indicates economic gloom citizens in ...  business\n",
       "3       1976  lifestyle  governs mobile choice  faster  bett...      tech\n",
       "4        917  enron bosses in $168m payout eighteen former e...  business"
      ],
      "text/html": [
       "<div>\n",
       "<style scoped>\n",
       "    .dataframe tbody tr th:only-of-type {\n",
       "        vertical-align: middle;\n",
       "    }\n",
       "\n",
       "    .dataframe tbody tr th {\n",
       "        vertical-align: top;\n",
       "    }\n",
       "\n",
       "    .dataframe thead th {\n",
       "        text-align: right;\n",
       "    }\n",
       "</style>\n",
       "<table border=\"1\" class=\"dataframe\">\n",
       "  <thead>\n",
       "    <tr style=\"text-align: right;\">\n",
       "      <th></th>\n",
       "      <th>ArticleId</th>\n",
       "      <th>Text</th>\n",
       "      <th>Category</th>\n",
       "    </tr>\n",
       "  </thead>\n",
       "  <tbody>\n",
       "    <tr>\n",
       "      <th>0</th>\n",
       "      <td>1833</td>\n",
       "      <td>worldcom ex-boss launches defence lawyers defe...</td>\n",
       "      <td>business</td>\n",
       "    </tr>\n",
       "    <tr>\n",
       "      <th>1</th>\n",
       "      <td>154</td>\n",
       "      <td>german business confidence slides german busin...</td>\n",
       "      <td>business</td>\n",
       "    </tr>\n",
       "    <tr>\n",
       "      <th>2</th>\n",
       "      <td>1101</td>\n",
       "      <td>bbc poll indicates economic gloom citizens in ...</td>\n",
       "      <td>business</td>\n",
       "    </tr>\n",
       "    <tr>\n",
       "      <th>3</th>\n",
       "      <td>1976</td>\n",
       "      <td>lifestyle  governs mobile choice  faster  bett...</td>\n",
       "      <td>tech</td>\n",
       "    </tr>\n",
       "    <tr>\n",
       "      <th>4</th>\n",
       "      <td>917</td>\n",
       "      <td>enron bosses in $168m payout eighteen former e...</td>\n",
       "      <td>business</td>\n",
       "    </tr>\n",
       "  </tbody>\n",
       "</table>\n",
       "</div>"
      ]
     },
     "execution_count": 90,
     "metadata": {},
     "output_type": "execute_result"
    }
   ],
   "execution_count": 90
  },
  {
   "metadata": {
    "ExecuteTime": {
     "end_time": "2025-07-31T19:31:12.085615Z",
     "start_time": "2025-07-31T19:31:12.073503Z"
    }
   },
   "cell_type": "code",
   "source": [
    "print(f'Test data set: {bbcnews_test.shape}\\n')\n",
    "print(bbcnews_test.info())\n",
    "bbcnews_test.head()"
   ],
   "id": "1595080ec31d31ee",
   "outputs": [
    {
     "name": "stdout",
     "output_type": "stream",
     "text": [
      "Test data set: (735, 2)\n",
      "\n",
      "<class 'pandas.core.frame.DataFrame'>\n",
      "RangeIndex: 735 entries, 0 to 734\n",
      "Data columns (total 2 columns):\n",
      " #   Column     Non-Null Count  Dtype \n",
      "---  ------     --------------  ----- \n",
      " 0   ArticleId  735 non-null    int64 \n",
      " 1   Text       735 non-null    object\n",
      "dtypes: int64(1), object(1)\n",
      "memory usage: 11.6+ KB\n",
      "None\n"
     ]
    },
    {
     "data": {
      "text/plain": [
       "   ArticleId                                               Text\n",
       "0       1018  qpr keeper day heads for preston queens park r...\n",
       "1       1319  software watching while you work software that...\n",
       "2       1138  d arcy injury adds to ireland woe gordon d arc...\n",
       "3        459  india s reliance family feud heats up the ongo...\n",
       "4       1020  boro suffer morrison injury blow middlesbrough..."
      ],
      "text/html": [
       "<div>\n",
       "<style scoped>\n",
       "    .dataframe tbody tr th:only-of-type {\n",
       "        vertical-align: middle;\n",
       "    }\n",
       "\n",
       "    .dataframe tbody tr th {\n",
       "        vertical-align: top;\n",
       "    }\n",
       "\n",
       "    .dataframe thead th {\n",
       "        text-align: right;\n",
       "    }\n",
       "</style>\n",
       "<table border=\"1\" class=\"dataframe\">\n",
       "  <thead>\n",
       "    <tr style=\"text-align: right;\">\n",
       "      <th></th>\n",
       "      <th>ArticleId</th>\n",
       "      <th>Text</th>\n",
       "    </tr>\n",
       "  </thead>\n",
       "  <tbody>\n",
       "    <tr>\n",
       "      <th>0</th>\n",
       "      <td>1018</td>\n",
       "      <td>qpr keeper day heads for preston queens park r...</td>\n",
       "    </tr>\n",
       "    <tr>\n",
       "      <th>1</th>\n",
       "      <td>1319</td>\n",
       "      <td>software watching while you work software that...</td>\n",
       "    </tr>\n",
       "    <tr>\n",
       "      <th>2</th>\n",
       "      <td>1138</td>\n",
       "      <td>d arcy injury adds to ireland woe gordon d arc...</td>\n",
       "    </tr>\n",
       "    <tr>\n",
       "      <th>3</th>\n",
       "      <td>459</td>\n",
       "      <td>india s reliance family feud heats up the ongo...</td>\n",
       "    </tr>\n",
       "    <tr>\n",
       "      <th>4</th>\n",
       "      <td>1020</td>\n",
       "      <td>boro suffer morrison injury blow middlesbrough...</td>\n",
       "    </tr>\n",
       "  </tbody>\n",
       "</table>\n",
       "</div>"
      ]
     },
     "execution_count": 69,
     "metadata": {},
     "output_type": "execute_result"
    }
   ],
   "execution_count": 69
  },
  {
   "metadata": {
    "ExecuteTime": {
     "end_time": "2025-07-31T19:31:46.390868Z",
     "start_time": "2025-07-31T19:31:46.383044Z"
    }
   },
   "cell_type": "code",
   "source": [
    "print(f'Sample submission data set: {submission_sample.shape}\\n')\n",
    "submission_sample"
   ],
   "id": "50012f285944ac09",
   "outputs": [
    {
     "name": "stdout",
     "output_type": "stream",
     "text": [
      "Sample submission data set: (735, 2)\n",
      "\n"
     ]
    },
    {
     "data": {
      "text/plain": [
       "     ArticleId       Category\n",
       "0         1018          sport\n",
       "1         1319           tech\n",
       "2         1138       business\n",
       "3          459  entertainment\n",
       "4         1020       politics\n",
       "..         ...            ...\n",
       "730       1923          sport\n",
       "731        373           tech\n",
       "732       1704       business\n",
       "733        206  entertainment\n",
       "734        471       politics\n",
       "\n",
       "[735 rows x 2 columns]"
      ],
      "text/html": [
       "<div>\n",
       "<style scoped>\n",
       "    .dataframe tbody tr th:only-of-type {\n",
       "        vertical-align: middle;\n",
       "    }\n",
       "\n",
       "    .dataframe tbody tr th {\n",
       "        vertical-align: top;\n",
       "    }\n",
       "\n",
       "    .dataframe thead th {\n",
       "        text-align: right;\n",
       "    }\n",
       "</style>\n",
       "<table border=\"1\" class=\"dataframe\">\n",
       "  <thead>\n",
       "    <tr style=\"text-align: right;\">\n",
       "      <th></th>\n",
       "      <th>ArticleId</th>\n",
       "      <th>Category</th>\n",
       "    </tr>\n",
       "  </thead>\n",
       "  <tbody>\n",
       "    <tr>\n",
       "      <th>0</th>\n",
       "      <td>1018</td>\n",
       "      <td>sport</td>\n",
       "    </tr>\n",
       "    <tr>\n",
       "      <th>1</th>\n",
       "      <td>1319</td>\n",
       "      <td>tech</td>\n",
       "    </tr>\n",
       "    <tr>\n",
       "      <th>2</th>\n",
       "      <td>1138</td>\n",
       "      <td>business</td>\n",
       "    </tr>\n",
       "    <tr>\n",
       "      <th>3</th>\n",
       "      <td>459</td>\n",
       "      <td>entertainment</td>\n",
       "    </tr>\n",
       "    <tr>\n",
       "      <th>4</th>\n",
       "      <td>1020</td>\n",
       "      <td>politics</td>\n",
       "    </tr>\n",
       "    <tr>\n",
       "      <th>...</th>\n",
       "      <td>...</td>\n",
       "      <td>...</td>\n",
       "    </tr>\n",
       "    <tr>\n",
       "      <th>730</th>\n",
       "      <td>1923</td>\n",
       "      <td>sport</td>\n",
       "    </tr>\n",
       "    <tr>\n",
       "      <th>731</th>\n",
       "      <td>373</td>\n",
       "      <td>tech</td>\n",
       "    </tr>\n",
       "    <tr>\n",
       "      <th>732</th>\n",
       "      <td>1704</td>\n",
       "      <td>business</td>\n",
       "    </tr>\n",
       "    <tr>\n",
       "      <th>733</th>\n",
       "      <td>206</td>\n",
       "      <td>entertainment</td>\n",
       "    </tr>\n",
       "    <tr>\n",
       "      <th>734</th>\n",
       "      <td>471</td>\n",
       "      <td>politics</td>\n",
       "    </tr>\n",
       "  </tbody>\n",
       "</table>\n",
       "<p>735 rows × 2 columns</p>\n",
       "</div>"
      ]
     },
     "execution_count": 70,
     "metadata": {},
     "output_type": "execute_result"
    }
   ],
   "execution_count": 70
  },
  {
   "metadata": {},
   "cell_type": "markdown",
   "source": [
    "Confirmed that the training data has 1490 rows, containing no NaN/None/null values, and the following three columns:\n",
    "* ArticleId - Article id, unique # given to the record\n",
    "* Text - text of the header and article\n",
    "* Category - cateogry of the article (tech, business, sport, entertainment, politics)\n",
    "\n",
    "The test set has 735 rows, containing no NaN/None/null values, with the ArticleId and Text data, without the Category label. This is the data set that will be used for the submission.\n",
    "\n",
    "The sample submission format inclcudes only the ArticleId and predicted Category."
   ],
   "id": "56a884ceda4c2672"
  },
  {
   "metadata": {},
   "cell_type": "markdown",
   "source": "#### Explore distributions of data by category",
   "id": "7c48236dcd734ad4"
  },
  {
   "metadata": {
    "ExecuteTime": {
     "end_time": "2025-07-31T20:03:30.451825Z",
     "start_time": "2025-07-31T20:03:30.443668Z"
    }
   },
   "cell_type": "code",
   "outputs": [
    {
     "data": {
      "text/plain": [
       "               ArticleId  Text\n",
       "Category                      \n",
       "business             336   336\n",
       "entertainment        273   273\n",
       "politics             274   274\n",
       "sport                346   346\n",
       "tech                 261   261"
      ],
      "text/html": [
       "<div>\n",
       "<style scoped>\n",
       "    .dataframe tbody tr th:only-of-type {\n",
       "        vertical-align: middle;\n",
       "    }\n",
       "\n",
       "    .dataframe tbody tr th {\n",
       "        vertical-align: top;\n",
       "    }\n",
       "\n",
       "    .dataframe thead th {\n",
       "        text-align: right;\n",
       "    }\n",
       "</style>\n",
       "<table border=\"1\" class=\"dataframe\">\n",
       "  <thead>\n",
       "    <tr style=\"text-align: right;\">\n",
       "      <th></th>\n",
       "      <th>ArticleId</th>\n",
       "      <th>Text</th>\n",
       "    </tr>\n",
       "    <tr>\n",
       "      <th>Category</th>\n",
       "      <th></th>\n",
       "      <th></th>\n",
       "    </tr>\n",
       "  </thead>\n",
       "  <tbody>\n",
       "    <tr>\n",
       "      <th>business</th>\n",
       "      <td>336</td>\n",
       "      <td>336</td>\n",
       "    </tr>\n",
       "    <tr>\n",
       "      <th>entertainment</th>\n",
       "      <td>273</td>\n",
       "      <td>273</td>\n",
       "    </tr>\n",
       "    <tr>\n",
       "      <th>politics</th>\n",
       "      <td>274</td>\n",
       "      <td>274</td>\n",
       "    </tr>\n",
       "    <tr>\n",
       "      <th>sport</th>\n",
       "      <td>346</td>\n",
       "      <td>346</td>\n",
       "    </tr>\n",
       "    <tr>\n",
       "      <th>tech</th>\n",
       "      <td>261</td>\n",
       "      <td>261</td>\n",
       "    </tr>\n",
       "  </tbody>\n",
       "</table>\n",
       "</div>"
      ]
     },
     "execution_count": 73,
     "metadata": {},
     "output_type": "execute_result"
    }
   ],
   "execution_count": 73,
   "source": [
    "# list categories and count for each\n",
    "bbcnews_train.groupby('Category').count()"
   ],
   "id": "93850245fd6e3355"
  },
  {
   "metadata": {},
   "cell_type": "markdown",
   "source": "#### Let's generate some visualizations",
   "id": "874b4a20a39599ad"
  },
  {
   "metadata": {
    "ExecuteTime": {
     "end_time": "2025-07-31T20:27:26.118464Z",
     "start_time": "2025-07-31T20:27:25.953336Z"
    }
   },
   "cell_type": "code",
   "source": [
    "# Plot the number of articles in each category\n",
    "\n",
    "# Get counts by categorry\n",
    "category_counts = bbcnews_train['Category'].value_counts()\n",
    "\n",
    "# Create a bar plot\n",
    "plt.figure(figsize=(10, 6))\n",
    "ax = category_counts.plot(kind='bar', color='steelblue')\n",
    "\n",
    "# Add horizontal lines for mean and median\n",
    "ax.axhline(y=mean_count, color='red', linestyle='--', linewidth=1.5, label=f'Mean: {category_counts.mean():.1f}')\n",
    "ax.axhline(y=category_counts.median(), color='green', linestyle=':', linewidth=1.5, label=f'Median: {category_counts.median():.1f}')\n",
    "\n",
    "plt.title('Number of BBC News Articles by Category', fontsize=16)\n",
    "plt.xlabel('Category', fontsize=14)\n",
    "plt.ylabel('Number of Articles', fontsize=14)\n",
    "plt.xticks(rotation=45)\n",
    "plt.grid(axis='y', linestyle='--', alpha=0.7)\n",
    "plt.legend()\n",
    "\n",
    "# Add the counts on top of each bar\n",
    "for i, count in enumerate(category_counts):\n",
    "    plt.text(i, count + 5, str(count), ha='center', fontweight='bold')\n",
    "\n",
    "plt.tight_layout()\n",
    "plt.show()\n"
   ],
   "id": "28cc9fe973731b8f",
   "outputs": [
    {
     "data": {
      "text/plain": [
       "<Figure size 1000x600 with 1 Axes>"
      ],
      "image/png": "[encoded data removed]"
     },
     "metadata": {},
     "output_type": "display_data"
    }
   ],
   "execution_count": 87
  },
  {
   "metadata": {
    "ExecuteTime": {
     "end_time": "2025-07-31T20:17:51.951151Z",
     "start_time": "2025-07-31T20:17:51.752536Z"
    }
   },
   "cell_type": "code",
   "source": [
    "# Distribution of article length by category\n",
    "\n",
    "# Calculate the length for each article\n",
    "bbcnews_train['text_length'] = bbcnews_train['Text'].apply(len)\n",
    "\n",
    "# Create a box plot to compare text length by category\n",
    "category_colors = {\n",
    "    'business': '#1f77b4',      # blue\n",
    "    'entertainment': '#ff7f0e', # orange\n",
    "    'politics': '#2ca02c',      # green\n",
    "    'sport': '#d62728',         # red\n",
    "    'tech': '#9467bd'           # purple\n",
    "}\n",
    "plt.figure(figsize=(12, 6))\n",
    "sns.boxplot(x='Category', y='text_length', data=bbcnews_train, palette=category_colors, hue='Category')\n",
    "plt.title('Distribution of Text Length by Category', fontsize=14)\n",
    "plt.xlabel('Category', fontsize=12)\n",
    "plt.ylabel('Text Length (characters)', fontsize=12)\n",
    "plt.grid(axis='y', alpha=0.3)\n",
    "plt.xticks(rotation=45)\n",
    "\n",
    "plt.tight_layout()\n",
    "plt.show()"
   ],
   "id": "2ff89786a251c650",
   "outputs": [
    {
     "data": {
      "text/plain": [
       "<Figure size 1200x600 with 1 Axes>"
      ],
      "image/png": "[encoded data removed]"
     },
     "metadata": {},
     "output_type": "display_data"
    }
   ],
   "execution_count": 82
  },
  {
   "metadata": {
    "ExecuteTime": {
     "end_time": "2025-07-31T20:43:56.372641Z",
     "start_time": "2025-07-31T20:43:56.170288Z"
    }
   },
   "cell_type": "code",
   "source": [
    "# Plot the distribution of word counts\n",
    "\n",
    "# Calculate the word count for each article\n",
    "bbcnews_train['word_count'] = bbcnews_train['Text'].apply(lambda x: len(str(x).split()))\n",
    "\n",
    "plt.figure(figsize=(12, 6))\n",
    "sns.boxplot(x='Category', y='word_count', data=bbcnews_train, palette=category_colors, hue='Category')\n",
    "plt.title('Distribution of Word Count by Category', fontsize=14)\n",
    "plt.xlabel('Category', fontsize=12)\n",
    "plt.ylabel('Word Count', fontsize=12)\n",
    "plt.grid(axis='y', alpha=0.3)\n",
    "plt.xticks(rotation=45)\n",
    "\n",
    "plt.tight_layout()\n",
    "plt.show()\n"
   ],
   "id": "266fee815ae391a9",
   "outputs": [
    {
     "data": {
      "text/plain": [
       "<Figure size 1200x600 with 1 Axes>"
      ],
      "image/png": "[encoded data removed]"
     },
     "metadata": {},
     "output_type": "display_data"
    }
   ],
   "execution_count": 96
  },
  {
   "metadata": {},
   "cell_type": "markdown",
   "source": "#### Let's explore the distribution of words across all articles",
   "id": "954436301660858b"
  },
  {
   "metadata": {
    "ExecuteTime": {
     "end_time": "2025-07-31T20:48:38.652345Z",
     "start_time": "2025-07-31T20:48:38.267210Z"
    }
   },
   "cell_type": "code",
   "source": [
    "# The the distribution of the word count for all articles\n",
    "plt.figure(figsize=(12, 8))\n",
    "\n",
    "# Create the histogram of word counts\n",
    "bins = np.linspace(0, bbcnews_train['word_count'].max(), 100)\n",
    "n, bins, patches = plt.hist(bbcnews_train['word_count'], bins=bins,\n",
    "                            color='#3498db', alpha=0.8, edgecolor='white', linewidth=0.5)\n",
    "\n",
    "# Calculate statistics\n",
    "mean_val = bbcnews_train['word_count'].mean()\n",
    "median_val = bbcnews_train['word_count'].median()\n",
    "mode_val = bbcnews_train['word_count'].mode()[0]\n",
    "std_val = bbcnews_train['word_count'].std()\n",
    "\n",
    "# Add vertical lines for mean and median (with thinner lines)\n",
    "plt.axvline(x=mean_val, color='red', linestyle='--', linewidth=0.8, label=f'Mean: {mean_val:.0f}')\n",
    "plt.axvline(x=median_val, color='green', linestyle=':', linewidth=0.8, label=f'Median: {median_val:.0f}')\n",
    "\n",
    "plt.title('Distribution of Word Counts in BBC News Articles', fontsize=16, pad=20)\n",
    "plt.xlabel('Word Count', fontsize=14, labelpad=10)\n",
    "plt.ylabel('Frequency', fontsize=14, labelpad=10)\n",
    "plt.grid(axis='y', alpha=0.3, linestyle='--')\n",
    "plt.xticks(fontsize=12)\n",
    "plt.yticks(fontsize=12)\n",
    "plt.legend(fontsize=12)\n",
    "\n",
    "plt.tight_layout()\n",
    "plt.show()\n",
    "\n",
    "# Associated boxplot for the word count distribution\n",
    "plt.figure(figsize=(12, 4))\n",
    "ax = sns.boxplot(x=bbcnews_train['word_count'], color='#3498db')\n",
    "\n",
    "# Calculate and display whisker values\n",
    "Q1 = bbcnews_train['word_count'].quantile(0.25)\n",
    "Q3 = bbcnews_train['word_count'].quantile(0.75)\n",
    "IQR = Q3 - Q1\n",
    "lower_whisker = Q1 - 1.5 * IQR\n",
    "upper_whisker = Q3 + 1.5 * IQR\n",
    "\n",
    "# Text annotations\n",
    "plt.text(upper_whisker, -0.3, f'Max Normal: {upper_whisker:.0f}', ha='center', va='bottom', fontweight='bold')  # plot upper whisker\n",
    "plt.title('Boxplot of Word Counts', fontsize=16, pad=20)\n",
    "plt.xlabel('Word Count', fontsize=14, labelpad=10)\n",
    "plt.grid(axis='x', alpha=0.3, linestyle='--')\n",
    "plt.tight_layout()\n",
    "plt.show()\n"
   ],
   "id": "ebde5fc43c5970f1",
   "outputs": [
    {
     "data": {
      "text/plain": [
       "<Figure size 1200x800 with 1 Axes>"
      ],
      "image/png": "[encoded data removed]"
     },
     "metadata": {},
     "output_type": "display_data"
    },
    {
     "data": {
      "text/plain": [
       "<Figure size 1200x400 with 1 Axes>"
      ],
      "image/png": "[encoded data removed]"
     },
     "metadata": {},
     "output_type": "display_data"
    }
   ],
   "execution_count": 100
  },
  {
   "metadata": {},
   "cell_type": "markdown",
   "source": "The data looks to have some significant outliers, where the number of words in some articles exceed the max normal of 792. Given that these are news articles, a general principle in jouranlism is to provide the most newsworthy information (who, what, when, where, why) towards the beginning of the article (inverted pyramid structure). Based on this principle, we can likely truncate the longer articles and still retain the necessary text to categorize it appropriately. We can play with some options and compare the results.",
   "id": "54a7cbd03e1e0a23"
  },
  {
   "metadata": {},
   "cell_type": "markdown",
   "source": "#### Check for duplicates",
   "id": "385c7d4309762b70"
  },
  {
   "metadata": {
    "ExecuteTime": {
     "end_time": "2025-07-31T20:29:24.411616Z",
     "start_time": "2025-07-31T20:29:24.396560Z"
    }
   },
   "cell_type": "code",
   "source": "bbcnews_train.nunique()",
   "id": "f6bf525f036be3db",
   "outputs": [
    {
     "data": {
      "text/plain": [
       "ArticleId    1490\n",
       "Text         1440\n",
       "Category        5\n",
       "dtype: int64"
      ]
     },
     "execution_count": 91,
     "metadata": {},
     "output_type": "execute_result"
    }
   ],
   "execution_count": 91
  },
  {
   "metadata": {},
   "cell_type": "markdown",
   "source": "It looks like we have 50 articles where the text is not unique. Let's explore that further.",
   "id": "3a7cd087b3ef3d16"
  },
  {
   "metadata": {
    "ExecuteTime": {
     "end_time": "2025-07-31T20:30:36.947405Z",
     "start_time": "2025-07-31T20:30:36.930393Z"
    }
   },
   "cell_type": "code",
   "source": [
    "# Find duplicate rows in the training dataset where 'Text' is not unique\n",
    "train_duplicates = bbcnews_train[bbcnews_train.duplicated(subset=['Text'], keep=False)]\n",
    "print(f\"Number of duplicate rows: {len(train_duplicates)}\")\n",
    "display(train_duplicates.sort_values(by='Text'))\n"
   ],
   "id": "994849786ce2a135",
   "outputs": [
    {
     "name": "stdout",
     "output_type": "stream",
     "text": [
      "Number of duplicate rows: 100\n"
     ]
    },
    {
     "data": {
      "text/plain": [
       "      ArticleId                                               Text  \\\n",
       "494        1326  ask jeeves joins web log market ask jeeves has...   \n",
       "228        1098  ask jeeves joins web log market ask jeeves has...   \n",
       "1430       1042  aviator  creator  in oscars snub the man who s...   \n",
       "695         374  aviator  creator  in oscars snub the man who s...   \n",
       "443        1847  blind student  hears in colour  a blind studen...   \n",
       "...         ...                                                ...   \n",
       "1047        789  virus poses as christmas e-mail security firms...   \n",
       "1409        957  web radio takes spanish rap global spin the ra...   \n",
       "616         110  web radio takes spanish rap global spin the ra...   \n",
       "63         2017  what high-definition will do to dvds first it ...   \n",
       "1439       1111  what high-definition will do to dvds first it ...   \n",
       "\n",
       "           Category  \n",
       "494            tech  \n",
       "228            tech  \n",
       "1430  entertainment  \n",
       "695   entertainment  \n",
       "443            tech  \n",
       "...             ...  \n",
       "1047           tech  \n",
       "1409           tech  \n",
       "616            tech  \n",
       "63             tech  \n",
       "1439           tech  \n",
       "\n",
       "[100 rows x 3 columns]"
      ],
      "text/html": [
       "<div>\n",
       "<style scoped>\n",
       "    .dataframe tbody tr th:only-of-type {\n",
       "        vertical-align: middle;\n",
       "    }\n",
       "\n",
       "    .dataframe tbody tr th {\n",
       "        vertical-align: top;\n",
       "    }\n",
       "\n",
       "    .dataframe thead th {\n",
       "        text-align: right;\n",
       "    }\n",
       "</style>\n",
       "<table border=\"1\" class=\"dataframe\">\n",
       "  <thead>\n",
       "    <tr style=\"text-align: right;\">\n",
       "      <th></th>\n",
       "      <th>ArticleId</th>\n",
       "      <th>Text</th>\n",
       "      <th>Category</th>\n",
       "    </tr>\n",
       "  </thead>\n",
       "  <tbody>\n",
       "    <tr>\n",
       "      <th>494</th>\n",
       "      <td>1326</td>\n",
       "      <td>ask jeeves joins web log market ask jeeves has...</td>\n",
       "      <td>tech</td>\n",
       "    </tr>\n",
       "    <tr>\n",
       "      <th>228</th>\n",
       "      <td>1098</td>\n",
       "      <td>ask jeeves joins web log market ask jeeves has...</td>\n",
       "      <td>tech</td>\n",
       "    </tr>\n",
       "    <tr>\n",
       "      <th>1430</th>\n",
       "      <td>1042</td>\n",
       "      <td>aviator  creator  in oscars snub the man who s...</td>\n",
       "      <td>entertainment</td>\n",
       "    </tr>\n",
       "    <tr>\n",
       "      <th>695</th>\n",
       "      <td>374</td>\n",
       "      <td>aviator  creator  in oscars snub the man who s...</td>\n",
       "      <td>entertainment</td>\n",
       "    </tr>\n",
       "    <tr>\n",
       "      <th>443</th>\n",
       "      <td>1847</td>\n",
       "      <td>blind student  hears in colour  a blind studen...</td>\n",
       "      <td>tech</td>\n",
       "    </tr>\n",
       "    <tr>\n",
       "      <th>...</th>\n",
       "      <td>...</td>\n",
       "      <td>...</td>\n",
       "      <td>...</td>\n",
       "    </tr>\n",
       "    <tr>\n",
       "      <th>1047</th>\n",
       "      <td>789</td>\n",
       "      <td>virus poses as christmas e-mail security firms...</td>\n",
       "      <td>tech</td>\n",
       "    </tr>\n",
       "    <tr>\n",
       "      <th>1409</th>\n",
       "      <td>957</td>\n",
       "      <td>web radio takes spanish rap global spin the ra...</td>\n",
       "      <td>tech</td>\n",
       "    </tr>\n",
       "    <tr>\n",
       "      <th>616</th>\n",
       "      <td>110</td>\n",
       "      <td>web radio takes spanish rap global spin the ra...</td>\n",
       "      <td>tech</td>\n",
       "    </tr>\n",
       "    <tr>\n",
       "      <th>63</th>\n",
       "      <td>2017</td>\n",
       "      <td>what high-definition will do to dvds first it ...</td>\n",
       "      <td>tech</td>\n",
       "    </tr>\n",
       "    <tr>\n",
       "      <th>1439</th>\n",
       "      <td>1111</td>\n",
       "      <td>what high-definition will do to dvds first it ...</td>\n",
       "      <td>tech</td>\n",
       "    </tr>\n",
       "  </tbody>\n",
       "</table>\n",
       "<p>100 rows × 3 columns</p>\n",
       "</div>"
      ]
     },
     "metadata": {},
     "output_type": "display_data"
    }
   ],
   "execution_count": 92
  },
  {
   "metadata": {},
   "cell_type": "markdown",
   "source": "Let's verify that articles with identical text is also labeled with the same category",
   "id": "7f5999c3cf6fa242"
  },
  {
   "metadata": {
    "ExecuteTime": {
     "end_time": "2025-07-31T20:31:20.737364Z",
     "start_time": "2025-07-31T20:31:20.714386Z"
    }
   },
   "cell_type": "code",
   "source": [
    "# Group duplicates by Text and check if all rows in each group have the same Category\n",
    "print(\"Analysis of duplicate texts in training dataset:\")\n",
    "for text, group in train_duplicates.groupby('Text'):\n",
    "    categories = group['Category'].unique()\n",
    "    if len(categories) == 1:\n",
    "        print(f\"Text (truncated): '{text[:50]}...' has {len(group)} duplicates, all with category: {categories[0]}\")\n",
    "    else:\n",
    "        print(f\"Text (truncated): '{text[:50]}...' has {len(group)} duplicates with different categories: {categories}\")\n",
    "\n",
    "# Count how many duplicate texts have consistent vs inconsistent categories\n",
    "same_category = 0\n",
    "different_category = 0\n",
    "\n",
    "for text, group in train_duplicates.groupby('Text'):\n",
    "    if len(group['Category'].unique()) == 1:\n",
    "        same_category += 1\n",
    "    else:\n",
    "        different_category += 1\n",
    "\n",
    "print(f\"\\nSummary:\")\n",
    "print(f\"- Duplicate texts with the same category: {same_category}\")\n",
    "print(f\"- Duplicate texts with different categories: {different_category}\")"
   ],
   "id": "91213655aac053ae",
   "outputs": [
    {
     "name": "stdout",
     "output_type": "stream",
     "text": [
      "Analysis of duplicate texts in training dataset:\n",
      "Text (truncated): 'ask jeeves joins web log market ask jeeves has bou...' has 2 duplicates, all with category: tech\n",
      "Text (truncated): 'aviator  creator  in oscars snub the man who said ...' has 2 duplicates, all with category: entertainment\n",
      "Text (truncated): 'blind student  hears in colour  a blind student ha...' has 2 duplicates, all with category: tech\n",
      "Text (truncated): 'bortolami predicts dour contest italy skipper marc...' has 2 duplicates, all with category: sport\n",
      "Text (truncated): 'britons fed up with net service a survey conducted...' has 2 duplicates, all with category: tech\n",
      "Text (truncated): 'brown outlines third term vision gordon brown has ...' has 2 duplicates, all with category: politics\n",
      "Text (truncated): 'california sets fines for spyware the makers of co...' has 2 duplicates, all with category: tech\n",
      "Text (truncated): 'camera phones are  must-haves  four times more mob...' has 2 duplicates, all with category: tech\n",
      "Text (truncated): 'commodore finds new lease of life the once-famous ...' has 2 duplicates, all with category: tech\n",
      "Text (truncated): 'de niro film leads us box office film star robert ...' has 2 duplicates, all with category: entertainment\n",
      "Text (truncated): 'debate needed  on donations cap a cap on donations...' has 2 duplicates, all with category: politics\n",
      "Text (truncated): 'digital guru floats sub-$100 pc nicholas negropont...' has 2 duplicates, all with category: tech\n",
      "Text (truncated): 'doors open at biggest gadget fair thousands of tec...' has 2 duplicates, all with category: tech\n",
      "Text (truncated): 'downloads enter us singles chart digital music dow...' has 2 duplicates, all with category: entertainment\n",
      "Text (truncated): 'economy  strong  in election year uk businesses ar...' has 2 duplicates, all with category: business\n",
      "Text (truncated): 'ferguson rues failure to cut gap boss sir alex fer...' has 2 duplicates, all with category: sport\n",
      "Text (truncated): 'format wars could  confuse users  technology firms...' has 2 duplicates, all with category: tech\n",
      "Text (truncated): 'fox attacks blair s tory  lies  tony blair lied wh...' has 2 duplicates, all with category: politics\n",
      "Text (truncated): 'freeze on anti-spam campaign a campaign by lycos e...' has 2 duplicates, all with category: tech\n",
      "Text (truncated): 'gadget market  to grow in 2005  the explosion in c...' has 2 duplicates, all with category: tech\n",
      "Text (truncated): 'hague  given up  his pm ambition former conservati...' has 2 duplicates, all with category: politics\n",
      "Text (truncated): 'holmes starts 2005 with gb events kelly holmes wil...' has 2 duplicates, all with category: sport\n",
      "Text (truncated): 'hotspot users gain free net calls people using wir...' has 2 duplicates, all with category: tech\n",
      "Text (truncated): 'howard denies split over id cards michael howard h...' has 2 duplicates, all with category: politics\n",
      "Text (truncated): 'junk e-mails on relentless rise spam traffic is up...' has 2 duplicates, all with category: tech\n",
      "Text (truncated): 'microsoft gets the blogging bug software giant mic...' has 2 duplicates, all with category: tech\n",
      "Text (truncated): 'microsoft seeking spyware trojan microsoft is inve...' has 2 duplicates, all with category: tech\n",
      "Text (truncated): 'mobiles  not media players yet  mobiles are not ye...' has 2 duplicates, all with category: tech\n",
      "Text (truncated): 'mobiles rack up 20 years of use mobile phones in t...' has 2 duplicates, all with category: tech\n",
      "Text (truncated): 'more power to the people says hp the digital revol...' has 2 duplicates, all with category: tech\n",
      "Text (truncated): 'mps issued with blackberry threat mps will be thro...' has 2 duplicates, all with category: politics\n",
      "Text (truncated): 'musical treatment for capra film the classic film ...' has 2 duplicates, all with category: entertainment\n",
      "Text (truncated): 'pop band busted to  take a break  chart-topping po...' has 2 duplicates, all with category: entertainment\n",
      "Text (truncated): 'prince crowned  top music earner  prince earned mo...' has 2 duplicates, all with category: entertainment\n",
      "Text (truncated): 'queen recruit singer for new tour the remaining me...' has 2 duplicates, all with category: entertainment\n",
      "Text (truncated): 'ray dvd beats box office takings oscar-nominated f...' has 2 duplicates, all with category: entertainment\n",
      "Text (truncated): 'schools to take part in mock poll record numbers o...' has 2 duplicates, all with category: politics\n",
      "Text (truncated): 'security warning over  fbi virus  the us federal b...' has 2 duplicates, all with category: tech\n",
      "Text (truncated): 'singer s film to show at festival a documentary wh...' has 2 duplicates, all with category: entertainment\n",
      "Text (truncated): 'spain coach faces racism inquiry spain s football ...' has 2 duplicates, all with category: sport\n",
      "Text (truncated): 'spam e-mails tempt net shoppers computer users acr...' has 2 duplicates, all with category: tech\n",
      "Text (truncated): 'stars pay tribute to actor davis hollywood stars i...' has 2 duplicates, all with category: entertainment\n",
      "Text (truncated): 't-mobile bets on  pocket office  t-mobile has laun...' has 2 duplicates, all with category: tech\n",
      "Text (truncated): 'talks aim to avert pension strike talks aimed at a...' has 2 duplicates, all with category: politics\n",
      "Text (truncated): 'ultimate game  award for doom 3 sci-fi shooter doo...' has 2 duplicates, all with category: tech\n",
      "Text (truncated): 'us duo in first spam conviction a brother and sist...' has 2 duplicates, all with category: tech\n",
      "Text (truncated): 'us peer-to-peer pirates convicted the first convic...' has 2 duplicates, all with category: tech\n",
      "Text (truncated): 'virus poses as christmas e-mail security firms are...' has 2 duplicates, all with category: tech\n",
      "Text (truncated): 'web radio takes spanish rap global spin the radio ...' has 2 duplicates, all with category: tech\n",
      "Text (truncated): 'what high-definition will do to dvds first it was ...' has 2 duplicates, all with category: tech\n",
      "\n",
      "Summary:\n",
      "- Duplicate texts with the same category: 50\n",
      "- Duplicate texts with different categories: 0\n"
     ]
    }
   ],
   "execution_count": 93
  },
  {
   "metadata": {},
   "cell_type": "markdown",
   "source": "We found no article text duplicates with different categories, so we should just remove the duplicates. Let's take a quick look at the structure of an article.",
   "id": "f99feb630357ad9e"
  },
  {
   "metadata": {
    "ExecuteTime": {
     "end_time": "2025-07-31T20:59:28.007893Z",
     "start_time": "2025-07-31T20:59:28.002644Z"
    }
   },
   "cell_type": "code",
   "source": [
    "print(f'Article[0]: {bbcnews_train['Text'][0]}\\n')\n",
    "print(f'Article[1]: {bbcnews_train['Text'][1]}\\n')"
   ],
   "id": "8917d8efa654cedd",
   "outputs": [
    {
     "name": "stdout",
     "output_type": "stream",
     "text": [
      "Article[0]: worldcom ex-boss launches defence lawyers defending former worldcom chief bernie ebbers against a battery of fraud charges have called a company whistleblower as their first witness.  cynthia cooper  worldcom s ex-head of internal accounting  alerted directors to irregular accounting practices at the us telecoms giant in 2002. her warnings led to the collapse of the firm following the discovery of an $11bn (£5.7bn) accounting fraud. mr ebbers has pleaded not guilty to charges of fraud and conspiracy.  prosecution lawyers have argued that mr ebbers orchestrated a series of accounting tricks at worldcom  ordering employees to hide expenses and inflate revenues to meet wall street earnings estimates. but ms cooper  who now runs her own consulting business  told a jury in new york on wednesday that external auditors arthur andersen had approved worldcom s accounting in early 2001 and 2002. she said andersen had given a  green light  to the procedures and practices used by worldcom. mr ebber s lawyers have said he was unaware of the fraud  arguing that auditors did not alert him to any problems.  ms cooper also said that during shareholder meetings mr ebbers often passed over technical questions to the company s finance chief  giving only  brief  answers himself. the prosecution s star witness  former worldcom financial chief scott sullivan  has said that mr ebbers ordered accounting adjustments at the firm  telling him to  hit our books . however  ms cooper said mr sullivan had not mentioned  anything uncomfortable  about worldcom s accounting during a 2001 audit committee meeting. mr ebbers could face a jail sentence of 85 years if convicted of all the charges he is facing. worldcom emerged from bankruptcy protection in 2004  and is now known as mci. last week  mci agreed to a buyout by verizon communications in a deal valued at $6.75bn.\n",
      "\n",
      "Article[1]: german business confidence slides german business confidence fell in february knocking hopes of a speedy recovery in europe s largest economy.  munich-based research institute ifo said that its confidence index fell to 95.5 in february from 97.5 in january  its first decline in three months. the study found that the outlook in both the manufacturing and retail sectors had worsened. observers had been hoping that a more confident business sector would signal that economic activity was picking up.   we re surprised that the ifo index has taken such a knock   said dz bank economist bernd weidensteiner.  the main reason is probably that the domestic economy is still weak  particularly in the retail trade.  economy and labour minister wolfgang clement called the dip in february s ifo confidence figure  a very mild decline . he said that despite the retreat  the index remained at a relatively high level and that he expected  a modest economic upswing  to continue.  germany s economy grew 1.6% last year after shrinking in 2003. however  the economy contracted by 0.2% during the last three months of 2004  mainly due to the reluctance of consumers to spend. latest indications are that growth is still proving elusive and ifo president hans-werner sinn said any improvement in german domestic demand was sluggish. exports had kept things going during the first half of 2004  but demand for exports was then hit as the value of the euro hit record levels making german products less competitive overseas. on top of that  the unemployment rate has been stuck at close to 10% and manufacturing firms  including daimlerchrysler  siemens and volkswagen  have been negotiating with unions over cost cutting measures. analysts said that the ifo figures and germany s continuing problems may delay an interest rate rise by the european central bank. eurozone interest rates are at 2%  but comments from senior officials have recently focused on the threat of inflation  prompting fears that interest rates may rise.\n",
      "\n"
     ]
    }
   ],
   "execution_count": 104
  },
  {
   "metadata": {},
   "cell_type": "markdown",
   "source": [
    "### Analysis Plan\n",
    "\n",
    "Based on the findings from the EDA analysis, we will perform the following actions in the preprocessing steps:\n",
    "\n",
    "1. Delete duplicate rows,\n",
    "2. Enable word count truncation limits within the text cleanup process,\n",
    "3. Convert to lowercase (even though the viewed articles are already lowercase),\n",
    "4. Remove punctuation,\n",
    "5. Remove numbers/digits,\n",
    "6. Remove standard english stopwords\n",
    "7. Evaluate removing short words (length < 3 chars)\n",
    "\n",
    "#### Unsupervised model\n",
    "\n",
    "Since the unsupervised model, Non-negative Matrix Factorization (NMF), has been predetermined for the initial evaluation, we only plan to focus on the following aspects for tuning the prediction accuracy:\n",
    "\n",
    "* Text Preprocessing - testing different options for tokenization and normalization (e.g., stemming/lemmatizing)\n",
    "* Vectorizing - for this project we are vectorizing using the TD-IDF vectorizer\n",
    "* Hyperparameter tuning - the project will leverage GridSearchCV to determine target hyperparameters for the final model\n",
    "\n",
    "#### Supervised model\n",
    "\n",
    "The final steps in the project will be to evaluate and select a supervised model to classify the category and then compare the results with the unsupervised approach. GridSearchCV will again be used to evaluate the different models and then tune the final supervised model. The following supervised learning models will be evaluated:\n",
    "\n",
    "* Random Forests\n",
    "* SVM (LinearSVC)\n",
    "* LogisticRegression\n"
   ],
   "id": "9ac76e426e8f5560"
  },
  {
   "metadata": {},
   "cell_type": "markdown",
   "source": "### Data Preprocessing",
   "id": "2f04e232ee48f960"
  },
  {
   "metadata": {},
   "cell_type": "markdown",
   "source": "Remove ~50 articles with duplicated text",
   "id": "54f1a982e4ab6e76"
  },
  {
   "metadata": {
    "ExecuteTime": {
     "end_time": "2025-08-01T01:49:05.803225Z",
     "start_time": "2025-08-01T01:49:05.795765Z"
    }
   },
   "cell_type": "code",
   "source": [
    "# remove duplicates\n",
    "bbcnews_train = bbcnews_train.drop_duplicates(subset = ['Text'], keep = 'first')\n",
    "remaining_dups = bbcnews_train[bbcnews_train.duplicated(subset=['Text'], keep=False)]\n",
    "print(f\"Remaining duplicates in the training dataset: {len(remaining_dups)}\")"
   ],
   "id": "30a38b60c02ebc96",
   "outputs": [
    {
     "name": "stdout",
     "output_type": "stream",
     "text": [
      "Remaining duplicates in the training dataset: 0\n"
     ]
    }
   ],
   "execution_count": 128
  },
  {
   "metadata": {},
   "cell_type": "markdown",
   "source": [
    "#### TextCleaner\n",
    "\n",
    "Create a custom transformer to perform the cleaning, vectorization, and normalization functions on the article text. Using a custom transformer for the text cleanup enables use within a pipeline process. The text cleanup function supports the following Text Preprocessing methods:\n",
    "* Simple Tokenization - split text into words\n",
    "* spaCy Lemmitizer - spaCy library for tokenization and lemmatizing\n",
    "* WordNet Lemmatizer - Simple tokenization with NLTK WordNet lemmatizing using part of speech (POS) tagging\n",
    "* Snowball Stemmer - Simple tokenization with NLTK Snowball stemming"
   ],
   "id": "ee174be11aefeb66"
  },
  {
   "metadata": {
    "ExecuteTime": {
     "end_time": "2025-08-01T01:46:06.137604Z",
     "start_time": "2025-08-01T01:46:06.127140Z"
    }
   },
   "cell_type": "code",
   "source": [
    "# Create a custom transformer to perform text cleanup (usable in pipeline later)\n",
    "class TextCleaner(BaseEstimator, TransformerMixin):\n",
    "    def __init__(self, min_word_length = 2, max_word_count = 0, method = 'simple', additional_words = None, stop_words = None):\n",
    "        self.min_word_length = min_word_length\n",
    "        self.max_word_count = max_word_count\n",
    "        self.method = method\n",
    "        self.additional_words = additional_words\n",
    "        self.stop_words = stop_words if stop_words else set(stopwords.words('english'))\n",
    "        self.remove_words = self.stop_words if not self.additional_words else self.stop_words.union(self.additional_words)\n",
    "\n",
    "    # empty fit function to support use in pipeline\n",
    "    def fit(self, X, y = None):\n",
    "        return self\n",
    "\n",
    "    # transform function for _cleanup_text to support use in pipeline\n",
    "    def transform(self, X):\n",
    "        if hasattr(X, 'apply'):\n",
    "            return X.copy().apply(self._cleanup_text)\n",
    "        else:\n",
    "            return [self._cleanup_text(text) for text in X]\n",
    "\n",
    "    # Function to perform the text cleanup and stem/lemmatize as specified\n",
    "    def _cleanup_text(self, text):\n",
    "        # Convert to lowercase\n",
    "        text = text.lower()\n",
    "\n",
    "        # Remove punctuation\n",
    "        text = re.sub(r'[^\\w\\s]', ' ', text)\n",
    "\n",
    "        # Remove numbers\n",
    "        text = re.sub(r'\\d+', ' ', text)\n",
    "\n",
    "        # Process words (lemmatize, removing stopwords and additional words supplied, short words, and extra spaces)\n",
    "        match self.method:\n",
    "            case 'spaCy' | 'spacy':\n",
    "                words = self._spacy_lemma(text)\n",
    "            case 'wordnet':\n",
    "                words = self._wordnet_lemma(text)\n",
    "            case 'snowball':\n",
    "                words = self._snowball_stemmer(text)\n",
    "            case _:  # default to 'simple'\n",
    "                words = self._simple_tokens(text)\n",
    "\n",
    "        # Limit to max word count if specified\n",
    "        if self.max_word_count > 0:\n",
    "            words = words[:self.max_word_count]\n",
    "\n",
    "        return ' '.join(words)\n",
    "\n",
    "    # Simple word tokens, removing words in the remove_words list and short words\n",
    "    def _simple_tokens(self, text):\n",
    "        tokens = text.split()\n",
    "        return [token for token in tokens if token not in self.remove_words and len(token) > self.min_word_length]\n",
    "\n",
    "    # spaCy lemmatizer\n",
    "    def _spacy_lemma(self, text):\n",
    "        # spaCy english words - Needed if using the spaCy lemmatizer option and not already downloaded - see Imports\n",
    "\n",
    "        nlp = spacy.load(\"en_core_web_sm\")  # For spaCy lemmatizing option\n",
    "        tokens = nlp(text)  # use spaCy to generate tokens\n",
    "\n",
    "        # Process words (lemmatize, removing stopwords and additional words supplied, short words, and extra spaces)\n",
    "        return [token.lemma_ for token in tokens if token.text not in self.remove_words\n",
    "                 and token.lemma_ not in self.remove_words and len(token) > self.min_word_length and not token.is_space]\n",
    "\n",
    "    # WordNetLemmatizer\n",
    "    def _get_wordnet_pos(self, nltk_tag):\n",
    "        # Map for most common matches on the first letter of the tag\n",
    "        pos_map = {'N': wordnet.NOUN, 'V': wordnet.VERB, 'J': wordnet.ADJ, 'R': wordnet.ADV}\n",
    "\n",
    "        # Map NLTK POS tags to WordNet POS tags\n",
    "        if nltk_tag[0] in pos_map:\n",
    "            return pos_map[nltk_tag[0]]\n",
    "        elif nltk_tag in ('MD', 'TO'):  # Modal, infinitive marker\n",
    "            return wordnet.VERB\n",
    "        else:\n",
    "             return wordnet.NOUN  # Default to Noun for other cases\n",
    "\n",
    "    def _wordnet_lemma(self, text):\n",
    "        # NLTK data needed for wordnet and pos_tag - see Imports\n",
    "        lemmatizer = WordNetLemmatizer()\n",
    "        tokens = self._simple_tokens(text)\n",
    "\n",
    "        # Get POS (part of speech) tags\n",
    "        tagged_tokens = pos_tag(tokens)\n",
    "\n",
    "        # Lemmatize with POS tag\n",
    "        lemmatized_words = []\n",
    "        for word, tag in tagged_tokens:\n",
    "            if word not in self.remove_words and len(word) > self.min_word_length:\n",
    "                # Get the WordNet POS tag\n",
    "                wordnet_pos = self._get_wordnet_pos(tag)\n",
    "\n",
    "                # Lemmatize with the appropriate POS tag\n",
    "                lemma = lemmatizer.lemmatize(word, wordnet_pos)\n",
    "                lemmatized_words.append(lemma)\n",
    "\n",
    "        return lemmatized_words\n",
    "\n",
    "    # SnowballStemmer\n",
    "    def _snowball_stemmer(self, text):\n",
    "        stemmer = SnowballStemmer(\"english\")\n",
    "        tokens = self._simple_tokens(text)\n",
    "\n",
    "        # apply stemming\n",
    "        words = [stemmer.stem(word) for word in tokens]\n",
    "\n",
    "        return words\n"
   ],
   "id": "503d000fa3ac63ee",
   "outputs": [],
   "execution_count": 121
  },
  {
   "metadata": {},
   "cell_type": "markdown",
   "source": [
    "#### Quick evaluation on word tokenization\n",
    "\n",
    "Using the TextCleaner transformer, we are going to perform a quick evaluation to see if there are any common words across all groups that could impact categorization"
   ],
   "id": "fb2543b9ad7a03a8"
  },
  {
   "metadata": {
    "ExecuteTime": {
     "end_time": "2025-08-01T01:49:20.498891Z",
     "start_time": "2025-08-01T01:49:20.293109Z"
    }
   },
   "cell_type": "code",
   "source": [
    "# Cleanup the article Text - default simple method\n",
    "text_cleaner = TextCleaner(method = 'simple')\n",
    "bbcnews_train['Text_cleaned'] = text_cleaner.transform(bbcnews_train['Text'])\n",
    "print(\"Original Text: \", bbcnews_train['Text'][0], \"\\n\\n\")\n",
    "print(\"Cleaned Text: \", bbcnews_train['Text_cleaned'][0])"
   ],
   "id": "39b8ede5b80c73d1",
   "outputs": [
    {
     "name": "stdout",
     "output_type": "stream",
     "text": [
      "Original Text:  worldcom ex-boss launches defence lawyers defending former worldcom chief bernie ebbers against a battery of fraud charges have called a company whistleblower as their first witness.  cynthia cooper  worldcom s ex-head of internal accounting  alerted directors to irregular accounting practices at the us telecoms giant in 2002. her warnings led to the collapse of the firm following the discovery of an $11bn (£5.7bn) accounting fraud. mr ebbers has pleaded not guilty to charges of fraud and conspiracy.  prosecution lawyers have argued that mr ebbers orchestrated a series of accounting tricks at worldcom  ordering employees to hide expenses and inflate revenues to meet wall street earnings estimates. but ms cooper  who now runs her own consulting business  told a jury in new york on wednesday that external auditors arthur andersen had approved worldcom s accounting in early 2001 and 2002. she said andersen had given a  green light  to the procedures and practices used by worldcom. mr ebber s lawyers have said he was unaware of the fraud  arguing that auditors did not alert him to any problems.  ms cooper also said that during shareholder meetings mr ebbers often passed over technical questions to the company s finance chief  giving only  brief  answers himself. the prosecution s star witness  former worldcom financial chief scott sullivan  has said that mr ebbers ordered accounting adjustments at the firm  telling him to  hit our books . however  ms cooper said mr sullivan had not mentioned  anything uncomfortable  about worldcom s accounting during a 2001 audit committee meeting. mr ebbers could face a jail sentence of 85 years if convicted of all the charges he is facing. worldcom emerged from bankruptcy protection in 2004  and is now known as mci. last week  mci agreed to a buyout by verizon communications in a deal valued at $6.75bn. \n",
      "\n",
      "\n",
      "Cleaned Text:  worldcom boss launches defence lawyers defending former worldcom chief bernie ebbers battery fraud charges called company whistleblower first witness cynthia cooper worldcom head internal accounting alerted directors irregular accounting practices telecoms giant warnings led collapse firm following discovery accounting fraud ebbers pleaded guilty charges fraud conspiracy prosecution lawyers argued ebbers orchestrated series accounting tricks worldcom ordering employees hide expenses inflate revenues meet wall street earnings estimates cooper runs consulting business told jury new york wednesday external auditors arthur andersen approved worldcom accounting early said andersen given green light procedures practices used worldcom ebber lawyers said unaware fraud arguing auditors alert problems cooper also said shareholder meetings ebbers often passed technical questions company finance chief giving brief answers prosecution star witness former worldcom financial chief scott sullivan said ebbers ordered accounting adjustments firm telling hit books however cooper said sullivan mentioned anything uncomfortable worldcom accounting audit committee meeting ebbers could face jail sentence years convicted charges facing worldcom emerged bankruptcy protection known mci last week mci agreed buyout verizon communications deal valued\n"
     ]
    }
   ],
   "execution_count": 129
  },
  {
   "metadata": {
    "ExecuteTime": {
     "end_time": "2025-08-01T01:49:26.951120Z",
     "start_time": "2025-08-01T01:49:26.877477Z"
    }
   },
   "cell_type": "code",
   "source": [
    "# Find most common words in each category and across categories\n",
    "\n",
    "# Helper function to get the top N words from a category\n",
    "def get_top_n_words(category, top_n=30):\n",
    "    # Get the articles for the specified category\n",
    "    category_data = bbcnews_train[bbcnews_train['Category'] == category]\n",
    "\n",
    "    # Combine all cleaned text for this category\n",
    "    all_words = ' '.join(category_data['Text_cleaned']).split()\n",
    "\n",
    "    # Count word frequencies and get the top N\n",
    "    top_words = Counter(all_words).most_common(top_n)\n",
    "\n",
    "    return top_words\n",
    "\n",
    "\n",
    "def get_top_m_common_words(top_m=30, top_n=100, sort_by='average'):\n",
    "    # Get the top_n words for each category\n",
    "    categories = bbcnews_train['Category'].unique()\n",
    "    category_words = {}\n",
    "    for category in categories:\n",
    "        category_words[category] = dict(get_top_n_words(category, top_n))\n",
    "\n",
    "    # Find common words in all categories\n",
    "    common_words = set(category_words[categories[0]].keys())\n",
    "    for category in categories[1:]:\n",
    "        common_words = common_words.intersection(set(category_words[category].keys()))\n",
    "\n",
    "    print(f\"The number of common words in all categories is {len(common_words)}\")\n",
    "\n",
    "    # Get the counts for each word\n",
    "    # Create a DataFrame with counts for each word in each category\n",
    "    data = []\n",
    "    for word in common_words:\n",
    "        row = {'word': word}\n",
    "        counts = []\n",
    "        for cat in categories:\n",
    "            count = category_words[cat][word]\n",
    "            row[cat] = count\n",
    "            counts.append(count)\n",
    "\n",
    "        # Calculate statistics\n",
    "        row['total_count'] = sum(counts)\n",
    "        row['avg_count'] = np.mean(counts)\n",
    "        row['min_count'] = min(counts)\n",
    "        row['max_count'] = max(counts)\n",
    "        row['std_dev'] = np.std(counts)\n",
    "        row['cv'] = row['std_dev'] / row['avg_count'] if row['avg_count'] > 0 else 0  # Coefficient of variation\n",
    "\n",
    "        data.append(row)\n",
    "    result_df = pd.DataFrame(data)\n",
    "\n",
    "    # Sort based on the specified method\n",
    "    match sort_by:\n",
    "        case 'total':\n",
    "            result_df = result_df.sort_values('total_count', ascending=False)\n",
    "        case 'min_count':\n",
    "            result_df = result_df.sort_values('min_count', ascending=False)\n",
    "        case 'consistency':\n",
    "            result_df = result_df.sort_values('cv', ascending=True)  # Lower CV means more consistent across categories\n",
    "        case _:  # default to 'average'\n",
    "            result_df = result_df.sort_values('avg_count', ascending=False)\n",
    "\n",
    "    result_df = result_df.reset_index(drop=True)\n",
    "\n",
    "    # Return top m common words\n",
    "    return result_df.head(top_m)\n",
    "\n",
    "\n",
    "common_category_words = get_top_m_common_words(top_n=30)\n",
    "display(common_category_words)"
   ],
   "id": "3b32c3c15d3405f",
   "outputs": [
    {
     "name": "stdout",
     "output_type": "stream",
     "text": [
      "The number of common words in all categories is 6\n"
     ]
    },
    {
     "data": {
      "text/plain": [
       "    word  business  tech  politics  sport  entertainment  total_count  \\\n",
       "0   said      1098   980      1412    629            576         4695   \n",
       "1  would       309   290       685    233            135         1652   \n",
       "2   year       452   224       175    330            304         1485   \n",
       "3   also       279   310       298    212            267         1366   \n",
       "4    new       273   324       271    202            229         1299   \n",
       "5    one       183   314       185    261            259         1202   \n",
       "\n",
       "   avg_count  min_count  max_count     std_dev        cv  \n",
       "0      939.0        576       1412  309.373561  0.329471  \n",
       "1      330.4        135        685  187.349513  0.567038  \n",
       "2      297.0        175        452   95.263844  0.320754  \n",
       "3      273.2        212        310   34.019994  0.124524  \n",
       "4      259.8        202        324   41.739190  0.160659  \n",
       "5      240.4        183        314   50.102295  0.208412  "
      ],
      "text/html": [
       "<div>\n",
       "<style scoped>\n",
       "    .dataframe tbody tr th:only-of-type {\n",
       "        vertical-align: middle;\n",
       "    }\n",
       "\n",
       "    .dataframe tbody tr th {\n",
       "        vertical-align: top;\n",
       "    }\n",
       "\n",
       "    .dataframe thead th {\n",
       "        text-align: right;\n",
       "    }\n",
       "</style>\n",
       "<table border=\"1\" class=\"dataframe\">\n",
       "  <thead>\n",
       "    <tr style=\"text-align: right;\">\n",
       "      <th></th>\n",
       "      <th>word</th>\n",
       "      <th>business</th>\n",
       "      <th>tech</th>\n",
       "      <th>politics</th>\n",
       "      <th>sport</th>\n",
       "      <th>entertainment</th>\n",
       "      <th>total_count</th>\n",
       "      <th>avg_count</th>\n",
       "      <th>min_count</th>\n",
       "      <th>max_count</th>\n",
       "      <th>std_dev</th>\n",
       "      <th>cv</th>\n",
       "    </tr>\n",
       "  </thead>\n",
       "  <tbody>\n",
       "    <tr>\n",
       "      <th>0</th>\n",
       "      <td>said</td>\n",
       "      <td>1098</td>\n",
       "      <td>980</td>\n",
       "      <td>1412</td>\n",
       "      <td>629</td>\n",
       "      <td>576</td>\n",
       "      <td>4695</td>\n",
       "      <td>939.0</td>\n",
       "      <td>576</td>\n",
       "      <td>1412</td>\n",
       "      <td>309.373561</td>\n",
       "      <td>0.329471</td>\n",
       "    </tr>\n",
       "    <tr>\n",
       "      <th>1</th>\n",
       "      <td>would</td>\n",
       "      <td>309</td>\n",
       "      <td>290</td>\n",
       "      <td>685</td>\n",
       "      <td>233</td>\n",
       "      <td>135</td>\n",
       "      <td>1652</td>\n",
       "      <td>330.4</td>\n",
       "      <td>135</td>\n",
       "      <td>685</td>\n",
       "      <td>187.349513</td>\n",
       "      <td>0.567038</td>\n",
       "    </tr>\n",
       "    <tr>\n",
       "      <th>2</th>\n",
       "      <td>year</td>\n",
       "      <td>452</td>\n",
       "      <td>224</td>\n",
       "      <td>175</td>\n",
       "      <td>330</td>\n",
       "      <td>304</td>\n",
       "      <td>1485</td>\n",
       "      <td>297.0</td>\n",
       "      <td>175</td>\n",
       "      <td>452</td>\n",
       "      <td>95.263844</td>\n",
       "      <td>0.320754</td>\n",
       "    </tr>\n",
       "    <tr>\n",
       "      <th>3</th>\n",
       "      <td>also</td>\n",
       "      <td>279</td>\n",
       "      <td>310</td>\n",
       "      <td>298</td>\n",
       "      <td>212</td>\n",
       "      <td>267</td>\n",
       "      <td>1366</td>\n",
       "      <td>273.2</td>\n",
       "      <td>212</td>\n",
       "      <td>310</td>\n",
       "      <td>34.019994</td>\n",
       "      <td>0.124524</td>\n",
       "    </tr>\n",
       "    <tr>\n",
       "      <th>4</th>\n",
       "      <td>new</td>\n",
       "      <td>273</td>\n",
       "      <td>324</td>\n",
       "      <td>271</td>\n",
       "      <td>202</td>\n",
       "      <td>229</td>\n",
       "      <td>1299</td>\n",
       "      <td>259.8</td>\n",
       "      <td>202</td>\n",
       "      <td>324</td>\n",
       "      <td>41.739190</td>\n",
       "      <td>0.160659</td>\n",
       "    </tr>\n",
       "    <tr>\n",
       "      <th>5</th>\n",
       "      <td>one</td>\n",
       "      <td>183</td>\n",
       "      <td>314</td>\n",
       "      <td>185</td>\n",
       "      <td>261</td>\n",
       "      <td>259</td>\n",
       "      <td>1202</td>\n",
       "      <td>240.4</td>\n",
       "      <td>183</td>\n",
       "      <td>314</td>\n",
       "      <td>50.102295</td>\n",
       "      <td>0.208412</td>\n",
       "    </tr>\n",
       "  </tbody>\n",
       "</table>\n",
       "</div>"
      ]
     },
     "metadata": {},
     "output_type": "display_data"
    }
   ],
   "execution_count": 130
  },
  {
   "metadata": {
    "ExecuteTime": {
     "end_time": "2025-08-01T01:49:33.521746Z",
     "start_time": "2025-08-01T01:49:33.086624Z"
    }
   },
   "cell_type": "code",
   "source": [
    "# Create and display treemaps for the top words in each category\n",
    "# Helper function to create the treemaps for each category\n",
    "def create_category_treemap(category, top_n=30):\n",
    "\n",
    "    # Create dataframe for treemap\n",
    "    treemap_data = pd.DataFrame(get_top_n_words(category, top_n), columns=['word', 'count'])\n",
    "\n",
    "    # Custom color schemes for each category\n",
    "    color_schemes = {\n",
    "        'business': 'Blues',\n",
    "        'entertainment': 'Teal',\n",
    "        'politics': 'Greens',\n",
    "        'sport': 'Reds',\n",
    "        'tech': 'Purples'\n",
    "    }\n",
    "\n",
    "    # Create treemap\n",
    "    fig = px.treemap(\n",
    "        treemap_data,\n",
    "        path=['word'],\n",
    "        values='count',\n",
    "        title=f'Most Common Words in {category.capitalize()} Articles',\n",
    "        color='count',\n",
    "        color_continuous_scale=color_schemes.get(category, 'Viridis'),\n",
    "        height=400,\n",
    "        width=1000\n",
    "    )\n",
    "\n",
    "    fig.update_layout(\n",
    "        margin=dict(t=50, l=25, r=25, b=25),\n",
    "        font=dict(size=14)\n",
    "    )\n",
    "\n",
    "    fig.update_traces(\n",
    "        textinfo='label+value',\n",
    "        hovertemplate='<b>%{label}</b><br>Count: %{value}<extra></extra>'\n",
    "    )\n",
    "\n",
    "    return fig\n",
    "\n",
    "\n",
    "for category in bbcnews_train['Category'].unique():\n",
    "    fig = create_category_treemap(category)\n",
    "    fig.show()\n"
   ],
   "id": "215ab8ceecdbb079",
   "outputs": [
    {
     "data": {
      "application/vnd.plotly.v1+json": {
       "data": [
        {
         "branchvalues": "total",
         "customdata": {
          "dtype": "f8",
          "bdata": "AAAAAAAokUAAAAAAAEB8QAAAAAAAUHNAAAAAAADAcUAAAAAAAHBxQAAAAAAAEHFAAAAAAABQcEAAAAAAAKBvQAAAAAAAoG9AAAAAAABAbUAAAAAAAABtQAAAAAAA4GpAAAAAAACAaUAAAAAAAEBpQAAAAAAAIGlAAAAAAACAaEAAAAAAAOBmQAAAAAAAoGZAAAAAAABAZkAAAAAAAGBlQAAAAAAAIGVAAAAAAACAZEAAAAAAAGBkQAAAAAAAQGRAAAAAAACAY0AAAAAAACBjQAAAAAAAAGNAAAAAAACAYUAAAAAAAIBhQAAAAAAAgGFA",
          "shape": "30, 1"
         },
         "domain": {
          "x": [
           0.0,
           1.0
          ],
          "y": [
           0.0,
           1.0
          ]
         },
         "hovertemplate": "<b>%{label}</b><br>Count: %{value}<extra></extra>",
         "ids": [
          "said",
          "year",
          "would",
          "market",
          "also",
          "new",
          "firm",
          "company",
          "growth",
          "last",
          "economy",
          "government",
          "bank",
          "economic",
          "sales",
          "could",
          "one",
          "may",
          "oil",
          "shares",
          "world",
          "however",
          "two",
          "years",
          "chief",
          "business",
          "deal",
          "financial",
          "china",
          "companies"
         ],
         "labels": [
          "said",
          "year",
          "would",
          "market",
          "also",
          "new",
          "firm",
          "company",
          "growth",
          "last",
          "economy",
          "government",
          "bank",
          "economic",
          "sales",
          "could",
          "one",
          "may",
          "oil",
          "shares",
          "world",
          "however",
          "two",
          "years",
          "chief",
          "business",
          "deal",
          "financial",
          "china",
          "companies"
         ],
         "marker": {
          "coloraxis": "coloraxis",
          "colors": {
           "dtype": "f8",
           "bdata": "AAAAAAAokUAAAAAAAEB8QAAAAAAAUHNAAAAAAADAcUAAAAAAAHBxQAAAAAAAEHFAAAAAAABQcEAAAAAAAKBvQAAAAAAAoG9AAAAAAABAbUAAAAAAAABtQAAAAAAA4GpAAAAAAACAaUAAAAAAAEBpQAAAAAAAIGlAAAAAAACAaEAAAAAAAOBmQAAAAAAAoGZAAAAAAABAZkAAAAAAAGBlQAAAAAAAIGVAAAAAAACAZEAAAAAAAGBkQAAAAAAAQGRAAAAAAACAY0AAAAAAACBjQAAAAAAAAGNAAAAAAACAYUAAAAAAAIBhQAAAAAAAgGFA"
          }
         },
         "name": "",
         "parents": [
          "",
          "",
          "",
          "",
          "",
          "",
          "",
          "",
          "",
          "",
          "",
          "",
          "",
          "",
          "",
          "",
          "",
          "",
          "",
          "",
          "",
          "",
          "",
          "",
          "",
          "",
          "",
          "",
          "",
          ""
         ],
         "values": {
          "dtype": "f8",
          "bdata": "AAAAAAAokUAAAAAAAEB8QAAAAAAAUHNAAAAAAADAcUAAAAAAAHBxQAAAAAAAEHFAAAAAAABQcEAAAAAAAKBvQAAAAAAAoG9AAAAAAABAbUAAAAAAAABtQAAAAAAA4GpAAAAAAACAaUAAAAAAAEBpQAAAAAAAIGlAAAAAAACAaEAAAAAAAOBmQAAAAAAAoGZAAAAAAABAZkAAAAAAAGBlQAAAAAAAIGVAAAAAAACAZEAAAAAAAGBkQAAAAAAAQGRAAAAAAACAY0AAAAAAACBjQAAAAAAAAGNAAAAAAACAYUAAAAAAAIBhQAAAAAAAgGFA"
         },
         "type": "treemap",
         "textinfo": "label+value"
        }
       ],
       "layout": {
        "template": {
         "data": {
          "histogram2dcontour": [
           {
            "type": "histogram2dcontour",
            "colorbar": {
             "outlinewidth": 0,
             "ticks": ""
            },
            "colorscale": [
             [
              0.0,
              "#0d0887"
             ],
             [
              0.1111111111111111,
              "#46039f"
             ],
             [
              0.2222222222222222,
              "#7201a8"
             ],
             [
              0.3333333333333333,
              "#9c179e"
             ],
             [
              0.4444444444444444,
              "#bd3786"
             ],
             [
              0.5555555555555556,
              "#d8576b"
             ],
             [
              0.6666666666666666,
              "#ed7953"
             ],
             [
              0.7777777777777778,
              "#fb9f3a"
             ],
             [
              0.8888888888888888,
              "#fdca26"
             ],
             [
              1.0,
              "#f0f921"
             ]
            ]
           }
          ],
          "choropleth": [
           {
            "type": "choropleth",
            "colorbar": {
             "outlinewidth": 0,
             "ticks": ""
            }
           }
          ],
          "histogram2d": [
           {
            "type": "histogram2d",
            "colorbar": {
             "outlinewidth": 0,
             "ticks": ""
            },
            "colorscale": [
             [
              0.0,
              "#0d0887"
             ],
             [
              0.1111111111111111,
              "#46039f"
             ],
             [
              0.2222222222222222,
              "#7201a8"
             ],
             [
              0.3333333333333333,
              "#9c179e"
             ],
             [
              0.4444444444444444,
              "#bd3786"
             ],
             [
              0.5555555555555556,
              "#d8576b"
             ],
             [
              0.6666666666666666,
              "#ed7953"
             ],
             [
              0.7777777777777778,
              "#fb9f3a"
             ],
             [
              0.8888888888888888,
              "#fdca26"
             ],
             [
              1.0,
              "#f0f921"
             ]
            ]
           }
          ],
          "heatmap": [
           {
            "type": "heatmap",
            "colorbar": {
             "outlinewidth": 0,
             "ticks": ""
            },
            "colorscale": [
             [
              0.0,
              "#0d0887"
             ],
             [
              0.1111111111111111,
              "#46039f"
             ],
             [
              0.2222222222222222,
              "#7201a8"
             ],
             [
              0.3333333333333333,
              "#9c179e"
             ],
             [
              0.4444444444444444,
              "#bd3786"
             ],
             [
              0.5555555555555556,
              "#d8576b"
             ],
             [
              0.6666666666666666,
              "#ed7953"
             ],
             [
              0.7777777777777778,
              "#fb9f3a"
             ],
             [
              0.8888888888888888,
              "#fdca26"
             ],
             [
              1.0,
              "#f0f921"
             ]
            ]
           }
          ],
          "contourcarpet": [
           {
            "type": "contourcarpet",
            "colorbar": {
             "outlinewidth": 0,
             "ticks": ""
            }
           }
          ],
          "contour": [
           {
            "type": "contour",
            "colorbar": {
             "outlinewidth": 0,
             "ticks": ""
            },
            "colorscale": [
             [
              0.0,
              "#0d0887"
             ],
             [
              0.1111111111111111,
              "#46039f"
             ],
             [
              0.2222222222222222,
              "#7201a8"
             ],
             [
              0.3333333333333333,
              "#9c179e"
             ],
             [
              0.4444444444444444,
              "#bd3786"
             ],
             [
              0.5555555555555556,
              "#d8576b"
             ],
             [
              0.6666666666666666,
              "#ed7953"
             ],
             [
              0.7777777777777778,
              "#fb9f3a"
             ],
             [
              0.8888888888888888,
              "#fdca26"
             ],
             [
              1.0,
              "#f0f921"
             ]
            ]
           }
          ],
          "surface": [
           {
            "type": "surface",
            "colorbar": {
             "outlinewidth": 0,
             "ticks": ""
            },
            "colorscale": [
             [
              0.0,
              "#0d0887"
             ],
             [
              0.1111111111111111,
              "#46039f"
             ],
             [
              0.2222222222222222,
              "#7201a8"
             ],
             [
              0.3333333333333333,
              "#9c179e"
             ],
             [
              0.4444444444444444,
              "#bd3786"
             ],
             [
              0.5555555555555556,
              "#d8576b"
             ],
             [
              0.6666666666666666,
              "#ed7953"
             ],
             [
              0.7777777777777778,
              "#fb9f3a"
             ],
             [
              0.8888888888888888,
              "#fdca26"
             ],
             [
              1.0,
              "#f0f921"
             ]
            ]
           }
          ],
          "mesh3d": [
           {
            "type": "mesh3d",
            "colorbar": {
             "outlinewidth": 0,
             "ticks": ""
            }
           }
          ],
          "scatter": [
           {
            "marker": {
             "line": {
              "color": "#283442"
             }
            },
            "type": "scatter"
           }
          ],
          "parcoords": [
           {
            "type": "parcoords",
            "line": {
             "colorbar": {
              "outlinewidth": 0,
              "ticks": ""
             }
            }
           }
          ],
          "scatterpolargl": [
           {
            "type": "scatterpolargl",
            "marker": {
             "colorbar": {
              "outlinewidth": 0,
              "ticks": ""
             }
            }
           }
          ],
          "bar": [
           {
            "error_x": {
             "color": "#f2f5fa"
            },
            "error_y": {
             "color": "#f2f5fa"
            },
            "marker": {
             "line": {
              "color": "rgb(17,17,17)",
              "width": 0.5
             },
             "pattern": {
              "fillmode": "overlay",
              "size": 10,
              "solidity": 0.2
             }
            },
            "type": "bar"
           }
          ],
          "scattergeo": [
           {
            "type": "scattergeo",
            "marker": {
             "colorbar": {
              "outlinewidth": 0,
              "ticks": ""
             }
            }
           }
          ],
          "scatterpolar": [
           {
            "type": "scatterpolar",
            "marker": {
             "colorbar": {
              "outlinewidth": 0,
              "ticks": ""
             }
            }
           }
          ],
          "histogram": [
           {
            "marker": {
             "pattern": {
              "fillmode": "overlay",
              "size": 10,
              "solidity": 0.2
             }
            },
            "type": "histogram"
           }
          ],
          "scattergl": [
           {
            "marker": {
             "line": {
              "color": "#283442"
             }
            },
            "type": "scattergl"
           }
          ],
          "scatter3d": [
           {
            "type": "scatter3d",
            "line": {
             "colorbar": {
              "outlinewidth": 0,
              "ticks": ""
             }
            },
            "marker": {
             "colorbar": {
              "outlinewidth": 0,
              "ticks": ""
             }
            }
           }
          ],
          "scattermap": [
           {
            "type": "scattermap",
            "marker": {
             "colorbar": {
              "outlinewidth": 0,
              "ticks": ""
             }
            }
           }
          ],
          "scattermapbox": [
           {
            "type": "scattermapbox",
            "marker": {
             "colorbar": {
              "outlinewidth": 0,
              "ticks": ""
             }
            }
           }
          ],
          "scatterternary": [
           {
            "type": "scatterternary",
            "marker": {
             "colorbar": {
              "outlinewidth": 0,
              "ticks": ""
             }
            }
           }
          ],
          "scattercarpet": [
           {
            "type": "scattercarpet",
            "marker": {
             "colorbar": {
              "outlinewidth": 0,
              "ticks": ""
             }
            }
           }
          ],
          "carpet": [
           {
            "aaxis": {
             "endlinecolor": "#A2B1C6",
             "gridcolor": "#506784",
             "linecolor": "#506784",
             "minorgridcolor": "#506784",
             "startlinecolor": "#A2B1C6"
            },
            "baxis": {
             "endlinecolor": "#A2B1C6",
             "gridcolor": "#506784",
             "linecolor": "#506784",
             "minorgridcolor": "#506784",
             "startlinecolor": "#A2B1C6"
            },
            "type": "carpet"
           }
          ],
          "table": [
           {
            "cells": {
             "fill": {
              "color": "#506784"
             },
             "line": {
              "color": "rgb(17,17,17)"
             }
            },
            "header": {
             "fill": {
              "color": "#2a3f5f"
             },
             "line": {
              "color": "rgb(17,17,17)"
             }
            },
            "type": "table"
           }
          ],
          "barpolar": [
           {
            "marker": {
             "line": {
              "color": "rgb(17,17,17)",
              "width": 0.5
             },
             "pattern": {
              "fillmode": "overlay",
              "size": 10,
              "solidity": 0.2
             }
            },
            "type": "barpolar"
           }
          ],
          "pie": [
           {
            "automargin": true,
            "type": "pie"
           }
          ]
         },
         "layout": {
          "autotypenumbers": "strict",
          "colorway": [
           "#636efa",
           "#EF553B",
           "#00cc96",
           "#ab63fa",
           "#FFA15A",
           "#19d3f3",
           "#FF6692",
           "#B6E880",
           "#FF97FF",
           "#FECB52"
          ],
          "font": {
           "color": "#f2f5fa"
          },
          "hovermode": "closest",
          "hoverlabel": {
           "align": "left"
          },
          "paper_bgcolor": "rgb(17,17,17)",
          "plot_bgcolor": "rgb(17,17,17)",
          "polar": {
           "bgcolor": "rgb(17,17,17)",
           "angularaxis": {
            "gridcolor": "#506784",
            "linecolor": "#506784",
            "ticks": ""
           },
           "radialaxis": {
            "gridcolor": "#506784",
            "linecolor": "#506784",
            "ticks": ""
           }
          },
          "ternary": {
           "bgcolor": "rgb(17,17,17)",
           "aaxis": {
            "gridcolor": "#506784",
            "linecolor": "#506784",
            "ticks": ""
           },
           "baxis": {
            "gridcolor": "#506784",
            "linecolor": "#506784",
            "ticks": ""
           },
           "caxis": {
            "gridcolor": "#506784",
            "linecolor": "#506784",
            "ticks": ""
           }
          },
          "coloraxis": {
           "colorbar": {
            "outlinewidth": 0,
            "ticks": ""
           }
          },
          "colorscale": {
           "sequential": [
            [
             0.0,
             "#0d0887"
            ],
            [
             0.1111111111111111,
             "#46039f"
            ],
            [
             0.2222222222222222,
             "#7201a8"
            ],
            [
             0.3333333333333333,
             "#9c179e"
            ],
            [
             0.4444444444444444,
             "#bd3786"
            ],
            [
             0.5555555555555556,
             "#d8576b"
            ],
            [
             0.6666666666666666,
             "#ed7953"
            ],
            [
             0.7777777777777778,
             "#fb9f3a"
            ],
            [
             0.8888888888888888,
             "#fdca26"
            ],
            [
             1.0,
             "#f0f921"
            ]
           ],
           "sequentialminus": [
            [
             0.0,
             "#0d0887"
            ],
            [
             0.1111111111111111,
             "#46039f"
            ],
            [
             0.2222222222222222,
             "#7201a8"
            ],
            [
             0.3333333333333333,
             "#9c179e"
            ],
            [
             0.4444444444444444,
             "#bd3786"
            ],
            [
             0.5555555555555556,
             "#d8576b"
            ],
            [
             0.6666666666666666,
             "#ed7953"
            ],
            [
             0.7777777777777778,
             "#fb9f3a"
            ],
            [
             0.8888888888888888,
             "#fdca26"
            ],
            [
             1.0,
             "#f0f921"
            ]
           ],
           "diverging": [
            [
             0,
             "#8e0152"
            ],
            [
             0.1,
             "#c51b7d"
            ],
            [
             0.2,
             "#de77ae"
            ],
            [
             0.3,
             "#f1b6da"
            ],
            [
             0.4,
             "#fde0ef"
            ],
            [
             0.5,
             "#f7f7f7"
            ],
            [
             0.6,
             "#e6f5d0"
            ],
            [
             0.7,
             "#b8e186"
            ],
            [
             0.8,
             "#7fbc41"
            ],
            [
             0.9,
             "#4d9221"
            ],
            [
             1,
             "#276419"
            ]
           ]
          },
          "xaxis": {
           "gridcolor": "#283442",
           "linecolor": "#506784",
           "ticks": "",
           "title": {
            "standoff": 15
           },
           "zerolinecolor": "#283442",
           "automargin": true,
           "zerolinewidth": 2
          },
          "yaxis": {
           "gridcolor": "#283442",
           "linecolor": "#506784",
           "ticks": "",
           "title": {
            "standoff": 15
           },
           "zerolinecolor": "#283442",
           "automargin": true,
           "zerolinewidth": 2
          },
          "scene": {
           "xaxis": {
            "backgroundcolor": "rgb(17,17,17)",
            "gridcolor": "#506784",
            "linecolor": "#506784",
            "showbackground": true,
            "ticks": "",
            "zerolinecolor": "#C8D4E3",
            "gridwidth": 2
           },
           "yaxis": {
            "backgroundcolor": "rgb(17,17,17)",
            "gridcolor": "#506784",
            "linecolor": "#506784",
            "showbackground": true,
            "ticks": "",
            "zerolinecolor": "#C8D4E3",
            "gridwidth": 2
           },
           "zaxis": {
            "backgroundcolor": "rgb(17,17,17)",
            "gridcolor": "#506784",
            "linecolor": "#506784",
            "showbackground": true,
            "ticks": "",
            "zerolinecolor": "#C8D4E3",
            "gridwidth": 2
           }
          },
          "shapedefaults": {
           "line": {
            "color": "#f2f5fa"
           }
          },
          "annotationdefaults": {
           "arrowcolor": "#f2f5fa",
           "arrowhead": 0,
           "arrowwidth": 1
          },
          "geo": {
           "bgcolor": "rgb(17,17,17)",
           "landcolor": "rgb(17,17,17)",
           "subunitcolor": "#506784",
           "showland": true,
           "showlakes": true,
           "lakecolor": "rgb(17,17,17)"
          },
          "title": {
           "x": 0.05
          },
          "updatemenudefaults": {
           "bgcolor": "#506784",
           "borderwidth": 0
          },
          "sliderdefaults": {
           "bgcolor": "#C8D4E3",
           "borderwidth": 1,
           "bordercolor": "rgb(17,17,17)",
           "tickwidth": 0
          },
          "mapbox": {
           "style": "dark"
          }
         }
        },
        "coloraxis": {
         "colorbar": {
          "title": {
           "text": "count"
          }
         },
         "colorscale": [
          [
           0.0,
           "rgb(247,251,255)"
          ],
          [
           0.125,
           "rgb(222,235,247)"
          ],
          [
           0.25,
           "rgb(198,219,239)"
          ],
          [
           0.375,
           "rgb(158,202,225)"
          ],
          [
           0.5,
           "rgb(107,174,214)"
          ],
          [
           0.625,
           "rgb(66,146,198)"
          ],
          [
           0.75,
           "rgb(33,113,181)"
          ],
          [
           0.875,
           "rgb(8,81,156)"
          ],
          [
           1.0,
           "rgb(8,48,107)"
          ]
         ]
        },
        "legend": {
         "tracegroupgap": 0
        },
        "title": {
         "text": "Most Common Words in Business Articles"
        },
        "height": 400,
        "width": 1000,
        "margin": {
         "t": 50,
         "l": 25,
         "r": 25,
         "b": 25
        },
        "font": {
         "size": 14
        }
       },
       "config": {
        "plotlyServerURL": "https://plot.ly"
       }
      }
     },
     "metadata": {},
     "output_type": "display_data"
    },
    {
     "data": {
      "application/vnd.plotly.v1+json": {
       "data": [
        {
         "branchvalues": "total",
         "customdata": {
          "dtype": "f8",
          "bdata": "AAAAAACgjkAAAAAAABCCQAAAAAAAQHRAAAAAAACgc0AAAAAAAGBzQAAAAAAA8HJAAAAAAAAgckAAAAAAAPBxQAAAAAAA8HBAAAAAAABAbkAAAAAAAABuQAAAAAAAoG1AAAAAAAAgbUAAAAAAAABsQAAAAAAAwGtAAAAAAABAa0AAAAAAAGBqQAAAAAAAQGpAAAAAAAAgaUAAAAAAAIBnQAAAAAAAQGdAAAAAAADAZkAAAAAAAGBmQAAAAAAAYGZAAAAAAAAAZkAAAAAAAKBlQAAAAAAAoGVAAAAAAADgZEAAAAAAAOBkQAAAAAAAwGRA",
          "shape": "30, 1"
         },
         "domain": {
          "x": [
           0.0,
           1.0
          ],
          "y": [
           0.0,
           1.0
          ]
         },
         "hovertemplate": "<b>%{label}</b><br>Count: %{value}<extra></extra>",
         "ids": [
          "said",
          "people",
          "new",
          "one",
          "also",
          "mobile",
          "would",
          "could",
          "technology",
          "use",
          "net",
          "users",
          "software",
          "year",
          "music",
          "many",
          "phone",
          "games",
          "digital",
          "like",
          "make",
          "online",
          "used",
          "time",
          "computer",
          "service",
          "microsoft",
          "get",
          "first",
          "million"
         ],
         "labels": [
          "said",
          "people",
          "new",
          "one",
          "also",
          "mobile",
          "would",
          "could",
          "technology",
          "use",
          "net",
          "users",
          "software",
          "year",
          "music",
          "many",
          "phone",
          "games",
          "digital",
          "like",
          "make",
          "online",
          "used",
          "time",
          "computer",
          "service",
          "microsoft",
          "get",
          "first",
          "million"
         ],
         "marker": {
          "coloraxis": "coloraxis",
          "colors": {
           "dtype": "f8",
           "bdata": "AAAAAACgjkAAAAAAABCCQAAAAAAAQHRAAAAAAACgc0AAAAAAAGBzQAAAAAAA8HJAAAAAAAAgckAAAAAAAPBxQAAAAAAA8HBAAAAAAABAbkAAAAAAAABuQAAAAAAAoG1AAAAAAAAgbUAAAAAAAABsQAAAAAAAwGtAAAAAAABAa0AAAAAAAGBqQAAAAAAAQGpAAAAAAAAgaUAAAAAAAIBnQAAAAAAAQGdAAAAAAADAZkAAAAAAAGBmQAAAAAAAYGZAAAAAAAAAZkAAAAAAAKBlQAAAAAAAoGVAAAAAAADgZEAAAAAAAOBkQAAAAAAAwGRA"
          }
         },
         "name": "",
         "parents": [
          "",
          "",
          "",
          "",
          "",
          "",
          "",
          "",
          "",
          "",
          "",
          "",
          "",
          "",
          "",
          "",
          "",
          "",
          "",
          "",
          "",
          "",
          "",
          "",
          "",
          "",
          "",
          "",
          "",
          ""
         ],
         "values": {
          "dtype": "f8",
          "bdata": "AAAAAACgjkAAAAAAABCCQAAAAAAAQHRAAAAAAACgc0AAAAAAAGBzQAAAAAAA8HJAAAAAAAAgckAAAAAAAPBxQAAAAAAA8HBAAAAAAABAbkAAAAAAAABuQAAAAAAAoG1AAAAAAAAgbUAAAAAAAABsQAAAAAAAwGtAAAAAAABAa0AAAAAAAGBqQAAAAAAAQGpAAAAAAAAgaUAAAAAAAIBnQAAAAAAAQGdAAAAAAADAZkAAAAAAAGBmQAAAAAAAYGZAAAAAAAAAZkAAAAAAAKBlQAAAAAAAoGVAAAAAAADgZEAAAAAAAOBkQAAAAAAAwGRA"
         },
         "type": "treemap",
         "textinfo": "label+value"
        }
       ],
       "layout": {
        "template": {
         "data": {
          "histogram2dcontour": [
           {
            "type": "histogram2dcontour",
            "colorbar": {
             "outlinewidth": 0,
             "ticks": ""
            },
            "colorscale": [
             [
              0.0,
              "#0d0887"
             ],
             [
              0.1111111111111111,
              "#46039f"
             ],
             [
              0.2222222222222222,
              "#7201a8"
             ],
             [
              0.3333333333333333,
              "#9c179e"
             ],
             [
              0.4444444444444444,
              "#bd3786"
             ],
             [
              0.5555555555555556,
              "#d8576b"
             ],
             [
              0.6666666666666666,
              "#ed7953"
             ],
             [
              0.7777777777777778,
              "#fb9f3a"
             ],
             [
              0.8888888888888888,
              "#fdca26"
             ],
             [
              1.0,
              "#f0f921"
             ]
            ]
           }
          ],
          "choropleth": [
           {
            "type": "choropleth",
            "colorbar": {
             "outlinewidth": 0,
             "ticks": ""
            }
           }
          ],
          "histogram2d": [
           {
            "type": "histogram2d",
            "colorbar": {
             "outlinewidth": 0,
             "ticks": ""
            },
            "colorscale": [
             [
              0.0,
              "#0d0887"
             ],
             [
              0.1111111111111111,
              "#46039f"
             ],
             [
              0.2222222222222222,
              "#7201a8"
             ],
             [
              0.3333333333333333,
              "#9c179e"
             ],
             [
              0.4444444444444444,
              "#bd3786"
             ],
             [
              0.5555555555555556,
              "#d8576b"
             ],
             [
              0.6666666666666666,
              "#ed7953"
             ],
             [
              0.7777777777777778,
              "#fb9f3a"
             ],
             [
              0.8888888888888888,
              "#fdca26"
             ],
             [
              1.0,
              "#f0f921"
             ]
            ]
           }
          ],
          "heatmap": [
           {
            "type": "heatmap",
            "colorbar": {
             "outlinewidth": 0,
             "ticks": ""
            },
            "colorscale": [
             [
              0.0,
              "#0d0887"
             ],
             [
              0.1111111111111111,
              "#46039f"
             ],
             [
              0.2222222222222222,
              "#7201a8"
             ],
             [
              0.3333333333333333,
              "#9c179e"
             ],
             [
              0.4444444444444444,
              "#bd3786"
             ],
             [
              0.5555555555555556,
              "#d8576b"
             ],
             [
              0.6666666666666666,
              "#ed7953"
             ],
             [
              0.7777777777777778,
              "#fb9f3a"
             ],
             [
              0.8888888888888888,
              "#fdca26"
             ],
             [
              1.0,
              "#f0f921"
             ]
            ]
           }
          ],
          "contourcarpet": [
           {
            "type": "contourcarpet",
            "colorbar": {
             "outlinewidth": 0,
             "ticks": ""
            }
           }
          ],
          "contour": [
           {
            "type": "contour",
            "colorbar": {
             "outlinewidth": 0,
             "ticks": ""
            },
            "colorscale": [
             [
              0.0,
              "#0d0887"
             ],
             [
              0.1111111111111111,
              "#46039f"
             ],
             [
              0.2222222222222222,
              "#7201a8"
             ],
             [
              0.3333333333333333,
              "#9c179e"
             ],
             [
              0.4444444444444444,
              "#bd3786"
             ],
             [
              0.5555555555555556,
              "#d8576b"
             ],
             [
              0.6666666666666666,
              "#ed7953"
             ],
             [
              0.7777777777777778,
              "#fb9f3a"
             ],
             [
              0.8888888888888888,
              "#fdca26"
             ],
             [
              1.0,
              "#f0f921"
             ]
            ]
           }
          ],
          "surface": [
           {
            "type": "surface",
            "colorbar": {
             "outlinewidth": 0,
             "ticks": ""
            },
            "colorscale": [
             [
              0.0,
              "#0d0887"
             ],
             [
              0.1111111111111111,
              "#46039f"
             ],
             [
              0.2222222222222222,
              "#7201a8"
             ],
             [
              0.3333333333333333,
              "#9c179e"
             ],
             [
              0.4444444444444444,
              "#bd3786"
             ],
             [
              0.5555555555555556,
              "#d8576b"
             ],
             [
              0.6666666666666666,
              "#ed7953"
             ],
             [
              0.7777777777777778,
              "#fb9f3a"
             ],
             [
              0.8888888888888888,
              "#fdca26"
             ],
             [
              1.0,
              "#f0f921"
             ]
            ]
           }
          ],
          "mesh3d": [
           {
            "type": "mesh3d",
            "colorbar": {
             "outlinewidth": 0,
             "ticks": ""
            }
           }
          ],
          "scatter": [
           {
            "marker": {
             "line": {
              "color": "#283442"
             }
            },
            "type": "scatter"
           }
          ],
          "parcoords": [
           {
            "type": "parcoords",
            "line": {
             "colorbar": {
              "outlinewidth": 0,
              "ticks": ""
             }
            }
           }
          ],
          "scatterpolargl": [
           {
            "type": "scatterpolargl",
            "marker": {
             "colorbar": {
              "outlinewidth": 0,
              "ticks": ""
             }
            }
           }
          ],
          "bar": [
           {
            "error_x": {
             "color": "#f2f5fa"
            },
            "error_y": {
             "color": "#f2f5fa"
            },
            "marker": {
             "line": {
              "color": "rgb(17,17,17)",
              "width": 0.5
             },
             "pattern": {
              "fillmode": "overlay",
              "size": 10,
              "solidity": 0.2
             }
            },
            "type": "bar"
           }
          ],
          "scattergeo": [
           {
            "type": "scattergeo",
            "marker": {
             "colorbar": {
              "outlinewidth": 0,
              "ticks": ""
             }
            }
           }
          ],
          "scatterpolar": [
           {
            "type": "scatterpolar",
            "marker": {
             "colorbar": {
              "outlinewidth": 0,
              "ticks": ""
             }
            }
           }
          ],
          "histogram": [
           {
            "marker": {
             "pattern": {
              "fillmode": "overlay",
              "size": 10,
              "solidity": 0.2
             }
            },
            "type": "histogram"
           }
          ],
          "scattergl": [
           {
            "marker": {
             "line": {
              "color": "#283442"
             }
            },
            "type": "scattergl"
           }
          ],
          "scatter3d": [
           {
            "type": "scatter3d",
            "line": {
             "colorbar": {
              "outlinewidth": 0,
              "ticks": ""
             }
            },
            "marker": {
             "colorbar": {
              "outlinewidth": 0,
              "ticks": ""
             }
            }
           }
          ],
          "scattermap": [
           {
            "type": "scattermap",
            "marker": {
             "colorbar": {
              "outlinewidth": 0,
              "ticks": ""
             }
            }
           }
          ],
          "scattermapbox": [
           {
            "type": "scattermapbox",
            "marker": {
             "colorbar": {
              "outlinewidth": 0,
              "ticks": ""
             }
            }
           }
          ],
          "scatterternary": [
           {
            "type": "scatterternary",
            "marker": {
             "colorbar": {
              "outlinewidth": 0,
              "ticks": ""
             }
            }
           }
          ],
          "scattercarpet": [
           {
            "type": "scattercarpet",
            "marker": {
             "colorbar": {
              "outlinewidth": 0,
              "ticks": ""
             }
            }
           }
          ],
          "carpet": [
           {
            "aaxis": {
             "endlinecolor": "#A2B1C6",
             "gridcolor": "#506784",
             "linecolor": "#506784",
             "minorgridcolor": "#506784",
             "startlinecolor": "#A2B1C6"
            },
            "baxis": {
             "endlinecolor": "#A2B1C6",
             "gridcolor": "#506784",
             "linecolor": "#506784",
             "minorgridcolor": "#506784",
             "startlinecolor": "#A2B1C6"
            },
            "type": "carpet"
           }
          ],
          "table": [
           {
            "cells": {
             "fill": {
              "color": "#506784"
             },
             "line": {
              "color": "rgb(17,17,17)"
             }
            },
            "header": {
             "fill": {
              "color": "#2a3f5f"
             },
             "line": {
              "color": "rgb(17,17,17)"
             }
            },
            "type": "table"
           }
          ],
          "barpolar": [
           {
            "marker": {
             "line": {
              "color": "rgb(17,17,17)",
              "width": 0.5
             },
             "pattern": {
              "fillmode": "overlay",
              "size": 10,
              "solidity": 0.2
             }
            },
            "type": "barpolar"
           }
          ],
          "pie": [
           {
            "automargin": true,
            "type": "pie"
           }
          ]
         },
         "layout": {
          "autotypenumbers": "strict",
          "colorway": [
           "#636efa",
           "#EF553B",
           "#00cc96",
           "#ab63fa",
           "#FFA15A",
           "#19d3f3",
           "#FF6692",
           "#B6E880",
           "#FF97FF",
           "#FECB52"
          ],
          "font": {
           "color": "#f2f5fa"
          },
          "hovermode": "closest",
          "hoverlabel": {
           "align": "left"
          },
          "paper_bgcolor": "rgb(17,17,17)",
          "plot_bgcolor": "rgb(17,17,17)",
          "polar": {
           "bgcolor": "rgb(17,17,17)",
           "angularaxis": {
            "gridcolor": "#506784",
            "linecolor": "#506784",
            "ticks": ""
           },
           "radialaxis": {
            "gridcolor": "#506784",
            "linecolor": "#506784",
            "ticks": ""
           }
          },
          "ternary": {
           "bgcolor": "rgb(17,17,17)",
           "aaxis": {
            "gridcolor": "#506784",
            "linecolor": "#506784",
            "ticks": ""
           },
           "baxis": {
            "gridcolor": "#506784",
            "linecolor": "#506784",
            "ticks": ""
           },
           "caxis": {
            "gridcolor": "#506784",
            "linecolor": "#506784",
            "ticks": ""
           }
          },
          "coloraxis": {
           "colorbar": {
            "outlinewidth": 0,
            "ticks": ""
           }
          },
          "colorscale": {
           "sequential": [
            [
             0.0,
             "#0d0887"
            ],
            [
             0.1111111111111111,
             "#46039f"
            ],
            [
             0.2222222222222222,
             "#7201a8"
            ],
            [
             0.3333333333333333,
             "#9c179e"
            ],
            [
             0.4444444444444444,
             "#bd3786"
            ],
            [
             0.5555555555555556,
             "#d8576b"
            ],
            [
             0.6666666666666666,
             "#ed7953"
            ],
            [
             0.7777777777777778,
             "#fb9f3a"
            ],
            [
             0.8888888888888888,
             "#fdca26"
            ],
            [
             1.0,
             "#f0f921"
            ]
           ],
           "sequentialminus": [
            [
             0.0,
             "#0d0887"
            ],
            [
             0.1111111111111111,
             "#46039f"
            ],
            [
             0.2222222222222222,
             "#7201a8"
            ],
            [
             0.3333333333333333,
             "#9c179e"
            ],
            [
             0.4444444444444444,
             "#bd3786"
            ],
            [
             0.5555555555555556,
             "#d8576b"
            ],
            [
             0.6666666666666666,
             "#ed7953"
            ],
            [
             0.7777777777777778,
             "#fb9f3a"
            ],
            [
             0.8888888888888888,
             "#fdca26"
            ],
            [
             1.0,
             "#f0f921"
            ]
           ],
           "diverging": [
            [
             0,
             "#8e0152"
            ],
            [
             0.1,
             "#c51b7d"
            ],
            [
             0.2,
             "#de77ae"
            ],
            [
             0.3,
             "#f1b6da"
            ],
            [
             0.4,
             "#fde0ef"
            ],
            [
             0.5,
             "#f7f7f7"
            ],
            [
             0.6,
             "#e6f5d0"
            ],
            [
             0.7,
             "#b8e186"
            ],
            [
             0.8,
             "#7fbc41"
            ],
            [
             0.9,
             "#4d9221"
            ],
            [
             1,
             "#276419"
            ]
           ]
          },
          "xaxis": {
           "gridcolor": "#283442",
           "linecolor": "#506784",
           "ticks": "",
           "title": {
            "standoff": 15
           },
           "zerolinecolor": "#283442",
           "automargin": true,
           "zerolinewidth": 2
          },
          "yaxis": {
           "gridcolor": "#283442",
           "linecolor": "#506784",
           "ticks": "",
           "title": {
            "standoff": 15
           },
           "zerolinecolor": "#283442",
           "automargin": true,
           "zerolinewidth": 2
          },
          "scene": {
           "xaxis": {
            "backgroundcolor": "rgb(17,17,17)",
            "gridcolor": "#506784",
            "linecolor": "#506784",
            "showbackground": true,
            "ticks": "",
            "zerolinecolor": "#C8D4E3",
            "gridwidth": 2
           },
           "yaxis": {
            "backgroundcolor": "rgb(17,17,17)",
            "gridcolor": "#506784",
            "linecolor": "#506784",
            "showbackground": true,
            "ticks": "",
            "zerolinecolor": "#C8D4E3",
            "gridwidth": 2
           },
           "zaxis": {
            "backgroundcolor": "rgb(17,17,17)",
            "gridcolor": "#506784",
            "linecolor": "#506784",
            "showbackground": true,
            "ticks": "",
            "zerolinecolor": "#C8D4E3",
            "gridwidth": 2
           }
          },
          "shapedefaults": {
           "line": {
            "color": "#f2f5fa"
           }
          },
          "annotationdefaults": {
           "arrowcolor": "#f2f5fa",
           "arrowhead": 0,
           "arrowwidth": 1
          },
          "geo": {
           "bgcolor": "rgb(17,17,17)",
           "landcolor": "rgb(17,17,17)",
           "subunitcolor": "#506784",
           "showland": true,
           "showlakes": true,
           "lakecolor": "rgb(17,17,17)"
          },
          "title": {
           "x": 0.05
          },
          "updatemenudefaults": {
           "bgcolor": "#506784",
           "borderwidth": 0
          },
          "sliderdefaults": {
           "bgcolor": "#C8D4E3",
           "borderwidth": 1,
           "bordercolor": "rgb(17,17,17)",
           "tickwidth": 0
          },
          "mapbox": {
           "style": "dark"
          }
         }
        },
        "coloraxis": {
         "colorbar": {
          "title": {
           "text": "count"
          }
         },
         "colorscale": [
          [
           0.0,
           "rgb(252,251,253)"
          ],
          [
           0.125,
           "rgb(239,237,245)"
          ],
          [
           0.25,
           "rgb(218,218,235)"
          ],
          [
           0.375,
           "rgb(188,189,220)"
          ],
          [
           0.5,
           "rgb(158,154,200)"
          ],
          [
           0.625,
           "rgb(128,125,186)"
          ],
          [
           0.75,
           "rgb(106,81,163)"
          ],
          [
           0.875,
           "rgb(84,39,143)"
          ],
          [
           1.0,
           "rgb(63,0,125)"
          ]
         ]
        },
        "legend": {
         "tracegroupgap": 0
        },
        "title": {
         "text": "Most Common Words in Tech Articles"
        },
        "height": 400,
        "width": 1000,
        "margin": {
         "t": 50,
         "l": 25,
         "r": 25,
         "b": 25
        },
        "font": {
         "size": 14
        }
       },
       "config": {
        "plotlyServerURL": "https://plot.ly"
       }
      }
     },
     "metadata": {},
     "output_type": "display_data"
    },
    {
     "data": {
      "application/vnd.plotly.v1+json": {
       "data": [
        {
         "branchvalues": "total",
         "customdata": {
          "dtype": "f8",
          "bdata": "AAAAAAAQlkAAAAAAAGiFQAAAAAAAoH1AAAAAAABQfEAAAAAAAFB5QAAAAAAA0HdAAAAAAACwdkAAAAAAAIB2QAAAAAAAoHJAAAAAAABgcUAAAAAAAPBwQAAAAAAAkHBAAAAAAAAQcEAAAAAAAIBqQAAAAAAA4GlAAAAAAADAZ0AAAAAAAMBnQAAAAAAAgGdAAAAAAAAgZ0AAAAAAAOBmQAAAAAAAwGZAAAAAAAAAZkAAAAAAAOBlQAAAAAAA4GVAAAAAAAAgZEAAAAAAAOBjQAAAAAAAwGNAAAAAAABgY0AAAAAAACBjQAAAAAAA4GJA",
          "shape": "30, 1"
         },
         "domain": {
          "x": [
           0.0,
           1.0
          ],
          "y": [
           0.0,
           1.0
          ]
         },
         "hovertemplate": "<b>%{label}</b><br>Count: %{value}<extra></extra>",
         "ids": [
          "said",
          "would",
          "labour",
          "government",
          "election",
          "blair",
          "people",
          "party",
          "also",
          "minister",
          "new",
          "could",
          "brown",
          "told",
          "plans",
          "howard",
          "public",
          "prime",
          "one",
          "tax",
          "say",
          "britain",
          "secretary",
          "year",
          "tory",
          "general",
          "leader",
          "tories",
          "chancellor",
          "says"
         ],
         "labels": [
          "said",
          "would",
          "labour",
          "government",
          "election",
          "blair",
          "people",
          "party",
          "also",
          "minister",
          "new",
          "could",
          "brown",
          "told",
          "plans",
          "howard",
          "public",
          "prime",
          "one",
          "tax",
          "say",
          "britain",
          "secretary",
          "year",
          "tory",
          "general",
          "leader",
          "tories",
          "chancellor",
          "says"
         ],
         "marker": {
          "coloraxis": "coloraxis",
          "colors": {
           "dtype": "f8",
           "bdata": "AAAAAAAQlkAAAAAAAGiFQAAAAAAAoH1AAAAAAABQfEAAAAAAAFB5QAAAAAAA0HdAAAAAAACwdkAAAAAAAIB2QAAAAAAAoHJAAAAAAABgcUAAAAAAAPBwQAAAAAAAkHBAAAAAAAAQcEAAAAAAAIBqQAAAAAAA4GlAAAAAAADAZ0AAAAAAAMBnQAAAAAAAgGdAAAAAAAAgZ0AAAAAAAOBmQAAAAAAAwGZAAAAAAAAAZkAAAAAAAOBlQAAAAAAA4GVAAAAAAAAgZEAAAAAAAOBjQAAAAAAAwGNAAAAAAABgY0AAAAAAACBjQAAAAAAA4GJA"
          }
         },
         "name": "",
         "parents": [
          "",
          "",
          "",
          "",
          "",
          "",
          "",
          "",
          "",
          "",
          "",
          "",
          "",
          "",
          "",
          "",
          "",
          "",
          "",
          "",
          "",
          "",
          "",
          "",
          "",
          "",
          "",
          "",
          "",
          ""
         ],
         "values": {
          "dtype": "f8",
          "bdata": "AAAAAAAQlkAAAAAAAGiFQAAAAAAAoH1AAAAAAABQfEAAAAAAAFB5QAAAAAAA0HdAAAAAAACwdkAAAAAAAIB2QAAAAAAAoHJAAAAAAABgcUAAAAAAAPBwQAAAAAAAkHBAAAAAAAAQcEAAAAAAAIBqQAAAAAAA4GlAAAAAAADAZ0AAAAAAAMBnQAAAAAAAgGdAAAAAAAAgZ0AAAAAAAOBmQAAAAAAAwGZAAAAAAAAAZkAAAAAAAOBlQAAAAAAA4GVAAAAAAAAgZEAAAAAAAOBjQAAAAAAAwGNAAAAAAABgY0AAAAAAACBjQAAAAAAA4GJA"
         },
         "type": "treemap",
         "textinfo": "label+value"
        }
       ],
       "layout": {
        "template": {
         "data": {
          "histogram2dcontour": [
           {
            "type": "histogram2dcontour",
            "colorbar": {
             "outlinewidth": 0,
             "ticks": ""
            },
            "colorscale": [
             [
              0.0,
              "#0d0887"
             ],
             [
              0.1111111111111111,
              "#46039f"
             ],
             [
              0.2222222222222222,
              "#7201a8"
             ],
             [
              0.3333333333333333,
              "#9c179e"
             ],
             [
              0.4444444444444444,
              "#bd3786"
             ],
             [
              0.5555555555555556,
              "#d8576b"
             ],
             [
              0.6666666666666666,
              "#ed7953"
             ],
             [
              0.7777777777777778,
              "#fb9f3a"
             ],
             [
              0.8888888888888888,
              "#fdca26"
             ],
             [
              1.0,
              "#f0f921"
             ]
            ]
           }
          ],
          "choropleth": [
           {
            "type": "choropleth",
            "colorbar": {
             "outlinewidth": 0,
             "ticks": ""
            }
           }
          ],
          "histogram2d": [
           {
            "type": "histogram2d",
            "colorbar": {
             "outlinewidth": 0,
             "ticks": ""
            },
            "colorscale": [
             [
              0.0,
              "#0d0887"
             ],
             [
              0.1111111111111111,
              "#46039f"
             ],
             [
              0.2222222222222222,
              "#7201a8"
             ],
             [
              0.3333333333333333,
              "#9c179e"
             ],
             [
              0.4444444444444444,
              "#bd3786"
             ],
             [
              0.5555555555555556,
              "#d8576b"
             ],
             [
              0.6666666666666666,
              "#ed7953"
             ],
             [
              0.7777777777777778,
              "#fb9f3a"
             ],
             [
              0.8888888888888888,
              "#fdca26"
             ],
             [
              1.0,
              "#f0f921"
             ]
            ]
           }
          ],
          "heatmap": [
           {
            "type": "heatmap",
            "colorbar": {
             "outlinewidth": 0,
             "ticks": ""
            },
            "colorscale": [
             [
              0.0,
              "#0d0887"
             ],
             [
              0.1111111111111111,
              "#46039f"
             ],
             [
              0.2222222222222222,
              "#7201a8"
             ],
             [
              0.3333333333333333,
              "#9c179e"
             ],
             [
              0.4444444444444444,
              "#bd3786"
             ],
             [
              0.5555555555555556,
              "#d8576b"
             ],
             [
              0.6666666666666666,
              "#ed7953"
             ],
             [
              0.7777777777777778,
              "#fb9f3a"
             ],
             [
              0.8888888888888888,
              "#fdca26"
             ],
             [
              1.0,
              "#f0f921"
             ]
            ]
           }
          ],
          "contourcarpet": [
           {
            "type": "contourcarpet",
            "colorbar": {
             "outlinewidth": 0,
             "ticks": ""
            }
           }
          ],
          "contour": [
           {
            "type": "contour",
            "colorbar": {
             "outlinewidth": 0,
             "ticks": ""
            },
            "colorscale": [
             [
              0.0,
              "#0d0887"
             ],
             [
              0.1111111111111111,
              "#46039f"
             ],
             [
              0.2222222222222222,
              "#7201a8"
             ],
             [
              0.3333333333333333,
              "#9c179e"
             ],
             [
              0.4444444444444444,
              "#bd3786"
             ],
             [
              0.5555555555555556,
              "#d8576b"
             ],
             [
              0.6666666666666666,
              "#ed7953"
             ],
             [
              0.7777777777777778,
              "#fb9f3a"
             ],
             [
              0.8888888888888888,
              "#fdca26"
             ],
             [
              1.0,
              "#f0f921"
             ]
            ]
           }
          ],
          "surface": [
           {
            "type": "surface",
            "colorbar": {
             "outlinewidth": 0,
             "ticks": ""
            },
            "colorscale": [
             [
              0.0,
              "#0d0887"
             ],
             [
              0.1111111111111111,
              "#46039f"
             ],
             [
              0.2222222222222222,
              "#7201a8"
             ],
             [
              0.3333333333333333,
              "#9c179e"
             ],
             [
              0.4444444444444444,
              "#bd3786"
             ],
             [
              0.5555555555555556,
              "#d8576b"
             ],
             [
              0.6666666666666666,
              "#ed7953"
             ],
             [
              0.7777777777777778,
              "#fb9f3a"
             ],
             [
              0.8888888888888888,
              "#fdca26"
             ],
             [
              1.0,
              "#f0f921"
             ]
            ]
           }
          ],
          "mesh3d": [
           {
            "type": "mesh3d",
            "colorbar": {
             "outlinewidth": 0,
             "ticks": ""
            }
           }
          ],
          "scatter": [
           {
            "marker": {
             "line": {
              "color": "#283442"
             }
            },
            "type": "scatter"
           }
          ],
          "parcoords": [
           {
            "type": "parcoords",
            "line": {
             "colorbar": {
              "outlinewidth": 0,
              "ticks": ""
             }
            }
           }
          ],
          "scatterpolargl": [
           {
            "type": "scatterpolargl",
            "marker": {
             "colorbar": {
              "outlinewidth": 0,
              "ticks": ""
             }
            }
           }
          ],
          "bar": [
           {
            "error_x": {
             "color": "#f2f5fa"
            },
            "error_y": {
             "color": "#f2f5fa"
            },
            "marker": {
             "line": {
              "color": "rgb(17,17,17)",
              "width": 0.5
             },
             "pattern": {
              "fillmode": "overlay",
              "size": 10,
              "solidity": 0.2
             }
            },
            "type": "bar"
           }
          ],
          "scattergeo": [
           {
            "type": "scattergeo",
            "marker": {
             "colorbar": {
              "outlinewidth": 0,
              "ticks": ""
             }
            }
           }
          ],
          "scatterpolar": [
           {
            "type": "scatterpolar",
            "marker": {
             "colorbar": {
              "outlinewidth": 0,
              "ticks": ""
             }
            }
           }
          ],
          "histogram": [
           {
            "marker": {
             "pattern": {
              "fillmode": "overlay",
              "size": 10,
              "solidity": 0.2
             }
            },
            "type": "histogram"
           }
          ],
          "scattergl": [
           {
            "marker": {
             "line": {
              "color": "#283442"
             }
            },
            "type": "scattergl"
           }
          ],
          "scatter3d": [
           {
            "type": "scatter3d",
            "line": {
             "colorbar": {
              "outlinewidth": 0,
              "ticks": ""
             }
            },
            "marker": {
             "colorbar": {
              "outlinewidth": 0,
              "ticks": ""
             }
            }
           }
          ],
          "scattermap": [
           {
            "type": "scattermap",
            "marker": {
             "colorbar": {
              "outlinewidth": 0,
              "ticks": ""
             }
            }
           }
          ],
          "scattermapbox": [
           {
            "type": "scattermapbox",
            "marker": {
             "colorbar": {
              "outlinewidth": 0,
              "ticks": ""
             }
            }
           }
          ],
          "scatterternary": [
           {
            "type": "scatterternary",
            "marker": {
             "colorbar": {
              "outlinewidth": 0,
              "ticks": ""
             }
            }
           }
          ],
          "scattercarpet": [
           {
            "type": "scattercarpet",
            "marker": {
             "colorbar": {
              "outlinewidth": 0,
              "ticks": ""
             }
            }
           }
          ],
          "carpet": [
           {
            "aaxis": {
             "endlinecolor": "#A2B1C6",
             "gridcolor": "#506784",
             "linecolor": "#506784",
             "minorgridcolor": "#506784",
             "startlinecolor": "#A2B1C6"
            },
            "baxis": {
             "endlinecolor": "#A2B1C6",
             "gridcolor": "#506784",
             "linecolor": "#506784",
             "minorgridcolor": "#506784",
             "startlinecolor": "#A2B1C6"
            },
            "type": "carpet"
           }
          ],
          "table": [
           {
            "cells": {
             "fill": {
              "color": "#506784"
             },
             "line": {
              "color": "rgb(17,17,17)"
             }
            },
            "header": {
             "fill": {
              "color": "#2a3f5f"
             },
             "line": {
              "color": "rgb(17,17,17)"
             }
            },
            "type": "table"
           }
          ],
          "barpolar": [
           {
            "marker": {
             "line": {
              "color": "rgb(17,17,17)",
              "width": 0.5
             },
             "pattern": {
              "fillmode": "overlay",
              "size": 10,
              "solidity": 0.2
             }
            },
            "type": "barpolar"
           }
          ],
          "pie": [
           {
            "automargin": true,
            "type": "pie"
           }
          ]
         },
         "layout": {
          "autotypenumbers": "strict",
          "colorway": [
           "#636efa",
           "#EF553B",
           "#00cc96",
           "#ab63fa",
           "#FFA15A",
           "#19d3f3",
           "#FF6692",
           "#B6E880",
           "#FF97FF",
           "#FECB52"
          ],
          "font": {
           "color": "#f2f5fa"
          },
          "hovermode": "closest",
          "hoverlabel": {
           "align": "left"
          },
          "paper_bgcolor": "rgb(17,17,17)",
          "plot_bgcolor": "rgb(17,17,17)",
          "polar": {
           "bgcolor": "rgb(17,17,17)",
           "angularaxis": {
            "gridcolor": "#506784",
            "linecolor": "#506784",
            "ticks": ""
           },
           "radialaxis": {
            "gridcolor": "#506784",
            "linecolor": "#506784",
            "ticks": ""
           }
          },
          "ternary": {
           "bgcolor": "rgb(17,17,17)",
           "aaxis": {
            "gridcolor": "#506784",
            "linecolor": "#506784",
            "ticks": ""
           },
           "baxis": {
            "gridcolor": "#506784",
            "linecolor": "#506784",
            "ticks": ""
           },
           "caxis": {
            "gridcolor": "#506784",
            "linecolor": "#506784",
            "ticks": ""
           }
          },
          "coloraxis": {
           "colorbar": {
            "outlinewidth": 0,
            "ticks": ""
           }
          },
          "colorscale": {
           "sequential": [
            [
             0.0,
             "#0d0887"
            ],
            [
             0.1111111111111111,
             "#46039f"
            ],
            [
             0.2222222222222222,
             "#7201a8"
            ],
            [
             0.3333333333333333,
             "#9c179e"
            ],
            [
             0.4444444444444444,
             "#bd3786"
            ],
            [
             0.5555555555555556,
             "#d8576b"
            ],
            [
             0.6666666666666666,
             "#ed7953"
            ],
            [
             0.7777777777777778,
             "#fb9f3a"
            ],
            [
             0.8888888888888888,
             "#fdca26"
            ],
            [
             1.0,
             "#f0f921"
            ]
           ],
           "sequentialminus": [
            [
             0.0,
             "#0d0887"
            ],
            [
             0.1111111111111111,
             "#46039f"
            ],
            [
             0.2222222222222222,
             "#7201a8"
            ],
            [
             0.3333333333333333,
             "#9c179e"
            ],
            [
             0.4444444444444444,
             "#bd3786"
            ],
            [
             0.5555555555555556,
             "#d8576b"
            ],
            [
             0.6666666666666666,
             "#ed7953"
            ],
            [
             0.7777777777777778,
             "#fb9f3a"
            ],
            [
             0.8888888888888888,
             "#fdca26"
            ],
            [
             1.0,
             "#f0f921"
            ]
           ],
           "diverging": [
            [
             0,
             "#8e0152"
            ],
            [
             0.1,
             "#c51b7d"
            ],
            [
             0.2,
             "#de77ae"
            ],
            [
             0.3,
             "#f1b6da"
            ],
            [
             0.4,
             "#fde0ef"
            ],
            [
             0.5,
             "#f7f7f7"
            ],
            [
             0.6,
             "#e6f5d0"
            ],
            [
             0.7,
             "#b8e186"
            ],
            [
             0.8,
             "#7fbc41"
            ],
            [
             0.9,
             "#4d9221"
            ],
            [
             1,
             "#276419"
            ]
           ]
          },
          "xaxis": {
           "gridcolor": "#283442",
           "linecolor": "#506784",
           "ticks": "",
           "title": {
            "standoff": 15
           },
           "zerolinecolor": "#283442",
           "automargin": true,
           "zerolinewidth": 2
          },
          "yaxis": {
           "gridcolor": "#283442",
           "linecolor": "#506784",
           "ticks": "",
           "title": {
            "standoff": 15
           },
           "zerolinecolor": "#283442",
           "automargin": true,
           "zerolinewidth": 2
          },
          "scene": {
           "xaxis": {
            "backgroundcolor": "rgb(17,17,17)",
            "gridcolor": "#506784",
            "linecolor": "#506784",
            "showbackground": true,
            "ticks": "",
            "zerolinecolor": "#C8D4E3",
            "gridwidth": 2
           },
           "yaxis": {
            "backgroundcolor": "rgb(17,17,17)",
            "gridcolor": "#506784",
            "linecolor": "#506784",
            "showbackground": true,
            "ticks": "",
            "zerolinecolor": "#C8D4E3",
            "gridwidth": 2
           },
           "zaxis": {
            "backgroundcolor": "rgb(17,17,17)",
            "gridcolor": "#506784",
            "linecolor": "#506784",
            "showbackground": true,
            "ticks": "",
            "zerolinecolor": "#C8D4E3",
            "gridwidth": 2
           }
          },
          "shapedefaults": {
           "line": {
            "color": "#f2f5fa"
           }
          },
          "annotationdefaults": {
           "arrowcolor": "#f2f5fa",
           "arrowhead": 0,
           "arrowwidth": 1
          },
          "geo": {
           "bgcolor": "rgb(17,17,17)",
           "landcolor": "rgb(17,17,17)",
           "subunitcolor": "#506784",
           "showland": true,
           "showlakes": true,
           "lakecolor": "rgb(17,17,17)"
          },
          "title": {
           "x": 0.05
          },
          "updatemenudefaults": {
           "bgcolor": "#506784",
           "borderwidth": 0
          },
          "sliderdefaults": {
           "bgcolor": "#C8D4E3",
           "borderwidth": 1,
           "bordercolor": "rgb(17,17,17)",
           "tickwidth": 0
          },
          "mapbox": {
           "style": "dark"
          }
         }
        },
        "coloraxis": {
         "colorbar": {
          "title": {
           "text": "count"
          }
         },
         "colorscale": [
          [
           0.0,
           "rgb(247,252,245)"
          ],
          [
           0.125,
           "rgb(229,245,224)"
          ],
          [
           0.25,
           "rgb(199,233,192)"
          ],
          [
           0.375,
           "rgb(161,217,155)"
          ],
          [
           0.5,
           "rgb(116,196,118)"
          ],
          [
           0.625,
           "rgb(65,171,93)"
          ],
          [
           0.75,
           "rgb(35,139,69)"
          ],
          [
           0.875,
           "rgb(0,109,44)"
          ],
          [
           1.0,
           "rgb(0,68,27)"
          ]
         ]
        },
        "legend": {
         "tracegroupgap": 0
        },
        "title": {
         "text": "Most Common Words in Politics Articles"
        },
        "height": 400,
        "width": 1000,
        "margin": {
         "t": 50,
         "l": 25,
         "r": 25,
         "b": 25
        },
        "font": {
         "size": 14
        }
       },
       "config": {
        "plotlyServerURL": "https://plot.ly"
       }
      }
     },
     "metadata": {},
     "output_type": "display_data"
    },
    {
     "data": {
      "application/vnd.plotly.v1+json": {
       "data": [
        {
         "branchvalues": "total",
         "customdata": {
          "dtype": "f8",
          "bdata": "AAAAAACog0AAAAAAAAB2QAAAAAAAoHVAAAAAAACgdEAAAAAAAHB0QAAAAAAAYHJAAAAAAAAwckAAAAAAABByQAAAAAAAwHBAAAAAAABQcEAAAAAAAFBwQAAAAAAAMHBAAAAAAAAgbUAAAAAAAIBqQAAAAAAAwGlAAAAAAADAaUAAAAAAAGBpQAAAAAAAQGlAAAAAAABAaEAAAAAAACBoQAAAAAAAAGhAAAAAAADAZ0AAAAAAAKBnQAAAAAAAwGZAAAAAAACAZkAAAAAAAGBmQAAAAAAAQGZAAAAAAAAgZkAAAAAAACBlQAAAAAAAIGVA",
          "shape": "30, 1"
         },
         "domain": {
          "x": [
           0.0,
           1.0
          ],
          "y": [
           0.0,
           1.0
          ]
         },
         "hovertemplate": "<b>%{label}</b><br>Count: %{value}<extra></extra>",
         "ids": [
          "said",
          "game",
          "first",
          "year",
          "england",
          "time",
          "win",
          "two",
          "world",
          "back",
          "one",
          "last",
          "would",
          "also",
          "cup",
          "players",
          "team",
          "new",
          "half",
          "play",
          "ireland",
          "side",
          "second",
          "wales",
          "final",
          "match",
          "six",
          "three",
          "good",
          "could"
         ],
         "labels": [
          "said",
          "game",
          "first",
          "year",
          "england",
          "time",
          "win",
          "two",
          "world",
          "back",
          "one",
          "last",
          "would",
          "also",
          "cup",
          "players",
          "team",
          "new",
          "half",
          "play",
          "ireland",
          "side",
          "second",
          "wales",
          "final",
          "match",
          "six",
          "three",
          "good",
          "could"
         ],
         "marker": {
          "coloraxis": "coloraxis",
          "colors": {
           "dtype": "f8",
           "bdata": "AAAAAACog0AAAAAAAAB2QAAAAAAAoHVAAAAAAACgdEAAAAAAAHB0QAAAAAAAYHJAAAAAAAAwckAAAAAAABByQAAAAAAAwHBAAAAAAABQcEAAAAAAAFBwQAAAAAAAMHBAAAAAAAAgbUAAAAAAAIBqQAAAAAAAwGlAAAAAAADAaUAAAAAAAGBpQAAAAAAAQGlAAAAAAABAaEAAAAAAACBoQAAAAAAAAGhAAAAAAADAZ0AAAAAAAKBnQAAAAAAAwGZAAAAAAACAZkAAAAAAAGBmQAAAAAAAQGZAAAAAAAAgZkAAAAAAACBlQAAAAAAAIGVA"
          }
         },
         "name": "",
         "parents": [
          "",
          "",
          "",
          "",
          "",
          "",
          "",
          "",
          "",
          "",
          "",
          "",
          "",
          "",
          "",
          "",
          "",
          "",
          "",
          "",
          "",
          "",
          "",
          "",
          "",
          "",
          "",
          "",
          "",
          ""
         ],
         "values": {
          "dtype": "f8",
          "bdata": "AAAAAACog0AAAAAAAAB2QAAAAAAAoHVAAAAAAACgdEAAAAAAAHB0QAAAAAAAYHJAAAAAAAAwckAAAAAAABByQAAAAAAAwHBAAAAAAABQcEAAAAAAAFBwQAAAAAAAMHBAAAAAAAAgbUAAAAAAAIBqQAAAAAAAwGlAAAAAAADAaUAAAAAAAGBpQAAAAAAAQGlAAAAAAABAaEAAAAAAACBoQAAAAAAAAGhAAAAAAADAZ0AAAAAAAKBnQAAAAAAAwGZAAAAAAACAZkAAAAAAAGBmQAAAAAAAQGZAAAAAAAAgZkAAAAAAACBlQAAAAAAAIGVA"
         },
         "type": "treemap",
         "textinfo": "label+value"
        }
       ],
       "layout": {
        "template": {
         "data": {
          "histogram2dcontour": [
           {
            "type": "histogram2dcontour",
            "colorbar": {
             "outlinewidth": 0,
             "ticks": ""
            },
            "colorscale": [
             [
              0.0,
              "#0d0887"
             ],
             [
              0.1111111111111111,
              "#46039f"
             ],
             [
              0.2222222222222222,
              "#7201a8"
             ],
             [
              0.3333333333333333,
              "#9c179e"
             ],
             [
              0.4444444444444444,
              "#bd3786"
             ],
             [
              0.5555555555555556,
              "#d8576b"
             ],
             [
              0.6666666666666666,
              "#ed7953"
             ],
             [
              0.7777777777777778,
              "#fb9f3a"
             ],
             [
              0.8888888888888888,
              "#fdca26"
             ],
             [
              1.0,
              "#f0f921"
             ]
            ]
           }
          ],
          "choropleth": [
           {
            "type": "choropleth",
            "colorbar": {
             "outlinewidth": 0,
             "ticks": ""
            }
           }
          ],
          "histogram2d": [
           {
            "type": "histogram2d",
            "colorbar": {
             "outlinewidth": 0,
             "ticks": ""
            },
            "colorscale": [
             [
              0.0,
              "#0d0887"
             ],
             [
              0.1111111111111111,
              "#46039f"
             ],
             [
              0.2222222222222222,
              "#7201a8"
             ],
             [
              0.3333333333333333,
              "#9c179e"
             ],
             [
              0.4444444444444444,
              "#bd3786"
             ],
             [
              0.5555555555555556,
              "#d8576b"
             ],
             [
              0.6666666666666666,
              "#ed7953"
             ],
             [
              0.7777777777777778,
              "#fb9f3a"
             ],
             [
              0.8888888888888888,
              "#fdca26"
             ],
             [
              1.0,
              "#f0f921"
             ]
            ]
           }
          ],
          "heatmap": [
           {
            "type": "heatmap",
            "colorbar": {
             "outlinewidth": 0,
             "ticks": ""
            },
            "colorscale": [
             [
              0.0,
              "#0d0887"
             ],
             [
              0.1111111111111111,
              "#46039f"
             ],
             [
              0.2222222222222222,
              "#7201a8"
             ],
             [
              0.3333333333333333,
              "#9c179e"
             ],
             [
              0.4444444444444444,
              "#bd3786"
             ],
             [
              0.5555555555555556,
              "#d8576b"
             ],
             [
              0.6666666666666666,
              "#ed7953"
             ],
             [
              0.7777777777777778,
              "#fb9f3a"
             ],
             [
              0.8888888888888888,
              "#fdca26"
             ],
             [
              1.0,
              "#f0f921"
             ]
            ]
           }
          ],
          "contourcarpet": [
           {
            "type": "contourcarpet",
            "colorbar": {
             "outlinewidth": 0,
             "ticks": ""
            }
           }
          ],
          "contour": [
           {
            "type": "contour",
            "colorbar": {
             "outlinewidth": 0,
             "ticks": ""
            },
            "colorscale": [
             [
              0.0,
              "#0d0887"
             ],
             [
              0.1111111111111111,
              "#46039f"
             ],
             [
              0.2222222222222222,
              "#7201a8"
             ],
             [
              0.3333333333333333,
              "#9c179e"
             ],
             [
              0.4444444444444444,
              "#bd3786"
             ],
             [
              0.5555555555555556,
              "#d8576b"
             ],
             [
              0.6666666666666666,
              "#ed7953"
             ],
             [
              0.7777777777777778,
              "#fb9f3a"
             ],
             [
              0.8888888888888888,
              "#fdca26"
             ],
             [
              1.0,
              "#f0f921"
             ]
            ]
           }
          ],
          "surface": [
           {
            "type": "surface",
            "colorbar": {
             "outlinewidth": 0,
             "ticks": ""
            },
            "colorscale": [
             [
              0.0,
              "#0d0887"
             ],
             [
              0.1111111111111111,
              "#46039f"
             ],
             [
              0.2222222222222222,
              "#7201a8"
             ],
             [
              0.3333333333333333,
              "#9c179e"
             ],
             [
              0.4444444444444444,
              "#bd3786"
             ],
             [
              0.5555555555555556,
              "#d8576b"
             ],
             [
              0.6666666666666666,
              "#ed7953"
             ],
             [
              0.7777777777777778,
              "#fb9f3a"
             ],
             [
              0.8888888888888888,
              "#fdca26"
             ],
             [
              1.0,
              "#f0f921"
             ]
            ]
           }
          ],
          "mesh3d": [
           {
            "type": "mesh3d",
            "colorbar": {
             "outlinewidth": 0,
             "ticks": ""
            }
           }
          ],
          "scatter": [
           {
            "marker": {
             "line": {
              "color": "#283442"
             }
            },
            "type": "scatter"
           }
          ],
          "parcoords": [
           {
            "type": "parcoords",
            "line": {
             "colorbar": {
              "outlinewidth": 0,
              "ticks": ""
             }
            }
           }
          ],
          "scatterpolargl": [
           {
            "type": "scatterpolargl",
            "marker": {
             "colorbar": {
              "outlinewidth": 0,
              "ticks": ""
             }
            }
           }
          ],
          "bar": [
           {
            "error_x": {
             "color": "#f2f5fa"
            },
            "error_y": {
             "color": "#f2f5fa"
            },
            "marker": {
             "line": {
              "color": "rgb(17,17,17)",
              "width": 0.5
             },
             "pattern": {
              "fillmode": "overlay",
              "size": 10,
              "solidity": 0.2
             }
            },
            "type": "bar"
           }
          ],
          "scattergeo": [
           {
            "type": "scattergeo",
            "marker": {
             "colorbar": {
              "outlinewidth": 0,
              "ticks": ""
             }
            }
           }
          ],
          "scatterpolar": [
           {
            "type": "scatterpolar",
            "marker": {
             "colorbar": {
              "outlinewidth": 0,
              "ticks": ""
             }
            }
           }
          ],
          "histogram": [
           {
            "marker": {
             "pattern": {
              "fillmode": "overlay",
              "size": 10,
              "solidity": 0.2
             }
            },
            "type": "histogram"
           }
          ],
          "scattergl": [
           {
            "marker": {
             "line": {
              "color": "#283442"
             }
            },
            "type": "scattergl"
           }
          ],
          "scatter3d": [
           {
            "type": "scatter3d",
            "line": {
             "colorbar": {
              "outlinewidth": 0,
              "ticks": ""
             }
            },
            "marker": {
             "colorbar": {
              "outlinewidth": 0,
              "ticks": ""
             }
            }
           }
          ],
          "scattermap": [
           {
            "type": "scattermap",
            "marker": {
             "colorbar": {
              "outlinewidth": 0,
              "ticks": ""
             }
            }
           }
          ],
          "scattermapbox": [
           {
            "type": "scattermapbox",
            "marker": {
             "colorbar": {
              "outlinewidth": 0,
              "ticks": ""
             }
            }
           }
          ],
          "scatterternary": [
           {
            "type": "scatterternary",
            "marker": {
             "colorbar": {
              "outlinewidth": 0,
              "ticks": ""
             }
            }
           }
          ],
          "scattercarpet": [
           {
            "type": "scattercarpet",
            "marker": {
             "colorbar": {
              "outlinewidth": 0,
              "ticks": ""
             }
            }
           }
          ],
          "carpet": [
           {
            "aaxis": {
             "endlinecolor": "#A2B1C6",
             "gridcolor": "#506784",
             "linecolor": "#506784",
             "minorgridcolor": "#506784",
             "startlinecolor": "#A2B1C6"
            },
            "baxis": {
             "endlinecolor": "#A2B1C6",
             "gridcolor": "#506784",
             "linecolor": "#506784",
             "minorgridcolor": "#506784",
             "startlinecolor": "#A2B1C6"
            },
            "type": "carpet"
           }
          ],
          "table": [
           {
            "cells": {
             "fill": {
              "color": "#506784"
             },
             "line": {
              "color": "rgb(17,17,17)"
             }
            },
            "header": {
             "fill": {
              "color": "#2a3f5f"
             },
             "line": {
              "color": "rgb(17,17,17)"
             }
            },
            "type": "table"
           }
          ],
          "barpolar": [
           {
            "marker": {
             "line": {
              "color": "rgb(17,17,17)",
              "width": 0.5
             },
             "pattern": {
              "fillmode": "overlay",
              "size": 10,
              "solidity": 0.2
             }
            },
            "type": "barpolar"
           }
          ],
          "pie": [
           {
            "automargin": true,
            "type": "pie"
           }
          ]
         },
         "layout": {
          "autotypenumbers": "strict",
          "colorway": [
           "#636efa",
           "#EF553B",
           "#00cc96",
           "#ab63fa",
           "#FFA15A",
           "#19d3f3",
           "#FF6692",
           "#B6E880",
           "#FF97FF",
           "#FECB52"
          ],
          "font": {
           "color": "#f2f5fa"
          },
          "hovermode": "closest",
          "hoverlabel": {
           "align": "left"
          },
          "paper_bgcolor": "rgb(17,17,17)",
          "plot_bgcolor": "rgb(17,17,17)",
          "polar": {
           "bgcolor": "rgb(17,17,17)",
           "angularaxis": {
            "gridcolor": "#506784",
            "linecolor": "#506784",
            "ticks": ""
           },
           "radialaxis": {
            "gridcolor": "#506784",
            "linecolor": "#506784",
            "ticks": ""
           }
          },
          "ternary": {
           "bgcolor": "rgb(17,17,17)",
           "aaxis": {
            "gridcolor": "#506784",
            "linecolor": "#506784",
            "ticks": ""
           },
           "baxis": {
            "gridcolor": "#506784",
            "linecolor": "#506784",
            "ticks": ""
           },
           "caxis": {
            "gridcolor": "#506784",
            "linecolor": "#506784",
            "ticks": ""
           }
          },
          "coloraxis": {
           "colorbar": {
            "outlinewidth": 0,
            "ticks": ""
           }
          },
          "colorscale": {
           "sequential": [
            [
             0.0,
             "#0d0887"
            ],
            [
             0.1111111111111111,
             "#46039f"
            ],
            [
             0.2222222222222222,
             "#7201a8"
            ],
            [
             0.3333333333333333,
             "#9c179e"
            ],
            [
             0.4444444444444444,
             "#bd3786"
            ],
            [
             0.5555555555555556,
             "#d8576b"
            ],
            [
             0.6666666666666666,
             "#ed7953"
            ],
            [
             0.7777777777777778,
             "#fb9f3a"
            ],
            [
             0.8888888888888888,
             "#fdca26"
            ],
            [
             1.0,
             "#f0f921"
            ]
           ],
           "sequentialminus": [
            [
             0.0,
             "#0d0887"
            ],
            [
             0.1111111111111111,
             "#46039f"
            ],
            [
             0.2222222222222222,
             "#7201a8"
            ],
            [
             0.3333333333333333,
             "#9c179e"
            ],
            [
             0.4444444444444444,
             "#bd3786"
            ],
            [
             0.5555555555555556,
             "#d8576b"
            ],
            [
             0.6666666666666666,
             "#ed7953"
            ],
            [
             0.7777777777777778,
             "#fb9f3a"
            ],
            [
             0.8888888888888888,
             "#fdca26"
            ],
            [
             1.0,
             "#f0f921"
            ]
           ],
           "diverging": [
            [
             0,
             "#8e0152"
            ],
            [
             0.1,
             "#c51b7d"
            ],
            [
             0.2,
             "#de77ae"
            ],
            [
             0.3,
             "#f1b6da"
            ],
            [
             0.4,
             "#fde0ef"
            ],
            [
             0.5,
             "#f7f7f7"
            ],
            [
             0.6,
             "#e6f5d0"
            ],
            [
             0.7,
             "#b8e186"
            ],
            [
             0.8,
             "#7fbc41"
            ],
            [
             0.9,
             "#4d9221"
            ],
            [
             1,
             "#276419"
            ]
           ]
          },
          "xaxis": {
           "gridcolor": "#283442",
           "linecolor": "#506784",
           "ticks": "",
           "title": {
            "standoff": 15
           },
           "zerolinecolor": "#283442",
           "automargin": true,
           "zerolinewidth": 2
          },
          "yaxis": {
           "gridcolor": "#283442",
           "linecolor": "#506784",
           "ticks": "",
           "title": {
            "standoff": 15
           },
           "zerolinecolor": "#283442",
           "automargin": true,
           "zerolinewidth": 2
          },
          "scene": {
           "xaxis": {
            "backgroundcolor": "rgb(17,17,17)",
            "gridcolor": "#506784",
            "linecolor": "#506784",
            "showbackground": true,
            "ticks": "",
            "zerolinecolor": "#C8D4E3",
            "gridwidth": 2
           },
           "yaxis": {
            "backgroundcolor": "rgb(17,17,17)",
            "gridcolor": "#506784",
            "linecolor": "#506784",
            "showbackground": true,
            "ticks": "",
            "zerolinecolor": "#C8D4E3",
            "gridwidth": 2
           },
           "zaxis": {
            "backgroundcolor": "rgb(17,17,17)",
            "gridcolor": "#506784",
            "linecolor": "#506784",
            "showbackground": true,
            "ticks": "",
            "zerolinecolor": "#C8D4E3",
            "gridwidth": 2
           }
          },
          "shapedefaults": {
           "line": {
            "color": "#f2f5fa"
           }
          },
          "annotationdefaults": {
           "arrowcolor": "#f2f5fa",
           "arrowhead": 0,
           "arrowwidth": 1
          },
          "geo": {
           "bgcolor": "rgb(17,17,17)",
           "landcolor": "rgb(17,17,17)",
           "subunitcolor": "#506784",
           "showland": true,
           "showlakes": true,
           "lakecolor": "rgb(17,17,17)"
          },
          "title": {
           "x": 0.05
          },
          "updatemenudefaults": {
           "bgcolor": "#506784",
           "borderwidth": 0
          },
          "sliderdefaults": {
           "bgcolor": "#C8D4E3",
           "borderwidth": 1,
           "bordercolor": "rgb(17,17,17)",
           "tickwidth": 0
          },
          "mapbox": {
           "style": "dark"
          }
         }
        },
        "coloraxis": {
         "colorbar": {
          "title": {
           "text": "count"
          }
         },
         "colorscale": [
          [
           0.0,
           "rgb(255,245,240)"
          ],
          [
           0.125,
           "rgb(254,224,210)"
          ],
          [
           0.25,
           "rgb(252,187,161)"
          ],
          [
           0.375,
           "rgb(252,146,114)"
          ],
          [
           0.5,
           "rgb(251,106,74)"
          ],
          [
           0.625,
           "rgb(239,59,44)"
          ],
          [
           0.75,
           "rgb(203,24,29)"
          ],
          [
           0.875,
           "rgb(165,15,21)"
          ],
          [
           1.0,
           "rgb(103,0,13)"
          ]
         ]
        },
        "legend": {
         "tracegroupgap": 0
        },
        "title": {
         "text": "Most Common Words in Sport Articles"
        },
        "height": 400,
        "width": 1000,
        "margin": {
         "t": 50,
         "l": 25,
         "r": 25,
         "b": 25
        },
        "font": {
         "size": 14
        }
       },
       "config": {
        "plotlyServerURL": "https://plot.ly"
       }
      }
     },
     "metadata": {},
     "output_type": "display_data"
    },
    {
     "data": {
      "application/vnd.plotly.v1+json": {
       "data": [
        {
         "branchvalues": "total",
         "customdata": {
          "dtype": "f8",
          "bdata": "AAAAAAAAgkAAAAAAADiBQAAAAAAA8HlAAAAAAAAAc0AAAAAAALBwQAAAAAAAMHBAAAAAAACgbkAAAAAAAKBsQAAAAAAAQGtAAAAAAACAZkAAAAAAACBmQAAAAAAAYGRAAAAAAABAY0AAAAAAACBjQAAAAAAAAGNAAAAAAADgYkAAAAAAAMBiQAAAAAAAwGJAAAAAAAAgYkAAAAAAAOBgQAAAAAAA4GBAAAAAAACAYEAAAAAAAGBgQAAAAAAAQGBAAAAAAABAYEAAAAAAAABgQAAAAAAAgF9AAAAAAADAXkAAAAAAAABeQAAAAAAAgFxA",
          "shape": "30, 1"
         },
         "domain": {
          "x": [
           0.0,
           1.0
          ],
          "y": [
           0.0,
           1.0
          ]
         },
         "hovertemplate": "<b>%{label}</b><br>Count: %{value}<extra></extra>",
         "ids": [
          "said",
          "film",
          "best",
          "year",
          "also",
          "one",
          "music",
          "new",
          "show",
          "awards",
          "first",
          "actor",
          "star",
          "director",
          "last",
          "band",
          "award",
          "number",
          "two",
          "films",
          "would",
          "time",
          "top",
          "british",
          "years",
          "bbc",
          "people",
          "three",
          "album",
          "actress"
         ],
         "labels": [
          "said",
          "film",
          "best",
          "year",
          "also",
          "one",
          "music",
          "new",
          "show",
          "awards",
          "first",
          "actor",
          "star",
          "director",
          "last",
          "band",
          "award",
          "number",
          "two",
          "films",
          "would",
          "time",
          "top",
          "british",
          "years",
          "bbc",
          "people",
          "three",
          "album",
          "actress"
         ],
         "marker": {
          "coloraxis": "coloraxis",
          "colors": {
           "dtype": "f8",
           "bdata": "AAAAAAAAgkAAAAAAADiBQAAAAAAA8HlAAAAAAAAAc0AAAAAAALBwQAAAAAAAMHBAAAAAAACgbkAAAAAAAKBsQAAAAAAAQGtAAAAAAACAZkAAAAAAACBmQAAAAAAAYGRAAAAAAABAY0AAAAAAACBjQAAAAAAAAGNAAAAAAADgYkAAAAAAAMBiQAAAAAAAwGJAAAAAAAAgYkAAAAAAAOBgQAAAAAAA4GBAAAAAAACAYEAAAAAAAGBgQAAAAAAAQGBAAAAAAABAYEAAAAAAAABgQAAAAAAAgF9AAAAAAADAXkAAAAAAAABeQAAAAAAAgFxA"
          }
         },
         "name": "",
         "parents": [
          "",
          "",
          "",
          "",
          "",
          "",
          "",
          "",
          "",
          "",
          "",
          "",
          "",
          "",
          "",
          "",
          "",
          "",
          "",
          "",
          "",
          "",
          "",
          "",
          "",
          "",
          "",
          "",
          "",
          ""
         ],
         "values": {
          "dtype": "f8",
          "bdata": "AAAAAAAAgkAAAAAAADiBQAAAAAAA8HlAAAAAAAAAc0AAAAAAALBwQAAAAAAAMHBAAAAAAACgbkAAAAAAAKBsQAAAAAAAQGtAAAAAAACAZkAAAAAAACBmQAAAAAAAYGRAAAAAAABAY0AAAAAAACBjQAAAAAAAAGNAAAAAAADgYkAAAAAAAMBiQAAAAAAAwGJAAAAAAAAgYkAAAAAAAOBgQAAAAAAA4GBAAAAAAACAYEAAAAAAAGBgQAAAAAAAQGBAAAAAAABAYEAAAAAAAABgQAAAAAAAgF9AAAAAAADAXkAAAAAAAABeQAAAAAAAgFxA"
         },
         "type": "treemap",
         "textinfo": "label+value"
        }
       ],
       "layout": {
        "template": {
         "data": {
          "histogram2dcontour": [
           {
            "type": "histogram2dcontour",
            "colorbar": {
             "outlinewidth": 0,
             "ticks": ""
            },
            "colorscale": [
             [
              0.0,
              "#0d0887"
             ],
             [
              0.1111111111111111,
              "#46039f"
             ],
             [
              0.2222222222222222,
              "#7201a8"
             ],
             [
              0.3333333333333333,
              "#9c179e"
             ],
             [
              0.4444444444444444,
              "#bd3786"
             ],
             [
              0.5555555555555556,
              "#d8576b"
             ],
             [
              0.6666666666666666,
              "#ed7953"
             ],
             [
              0.7777777777777778,
              "#fb9f3a"
             ],
             [
              0.8888888888888888,
              "#fdca26"
             ],
             [
              1.0,
              "#f0f921"
             ]
            ]
           }
          ],
          "choropleth": [
           {
            "type": "choropleth",
            "colorbar": {
             "outlinewidth": 0,
             "ticks": ""
            }
           }
          ],
          "histogram2d": [
           {
            "type": "histogram2d",
            "colorbar": {
             "outlinewidth": 0,
             "ticks": ""
            },
            "colorscale": [
             [
              0.0,
              "#0d0887"
             ],
             [
              0.1111111111111111,
              "#46039f"
             ],
             [
              0.2222222222222222,
              "#7201a8"
             ],
             [
              0.3333333333333333,
              "#9c179e"
             ],
             [
              0.4444444444444444,
              "#bd3786"
             ],
             [
              0.5555555555555556,
              "#d8576b"
             ],
             [
              0.6666666666666666,
              "#ed7953"
             ],
             [
              0.7777777777777778,
              "#fb9f3a"
             ],
             [
              0.8888888888888888,
              "#fdca26"
             ],
             [
              1.0,
              "#f0f921"
             ]
            ]
           }
          ],
          "heatmap": [
           {
            "type": "heatmap",
            "colorbar": {
             "outlinewidth": 0,
             "ticks": ""
            },
            "colorscale": [
             [
              0.0,
              "#0d0887"
             ],
             [
              0.1111111111111111,
              "#46039f"
             ],
             [
              0.2222222222222222,
              "#7201a8"
             ],
             [
              0.3333333333333333,
              "#9c179e"
             ],
             [
              0.4444444444444444,
              "#bd3786"
             ],
             [
              0.5555555555555556,
              "#d8576b"
             ],
             [
              0.6666666666666666,
              "#ed7953"
             ],
             [
              0.7777777777777778,
              "#fb9f3a"
             ],
             [
              0.8888888888888888,
              "#fdca26"
             ],
             [
              1.0,
              "#f0f921"
             ]
            ]
           }
          ],
          "contourcarpet": [
           {
            "type": "contourcarpet",
            "colorbar": {
             "outlinewidth": 0,
             "ticks": ""
            }
           }
          ],
          "contour": [
           {
            "type": "contour",
            "colorbar": {
             "outlinewidth": 0,
             "ticks": ""
            },
            "colorscale": [
             [
              0.0,
              "#0d0887"
             ],
             [
              0.1111111111111111,
              "#46039f"
             ],
             [
              0.2222222222222222,
              "#7201a8"
             ],
             [
              0.3333333333333333,
              "#9c179e"
             ],
             [
              0.4444444444444444,
              "#bd3786"
             ],
             [
              0.5555555555555556,
              "#d8576b"
             ],
             [
              0.6666666666666666,
              "#ed7953"
             ],
             [
              0.7777777777777778,
              "#fb9f3a"
             ],
             [
              0.8888888888888888,
              "#fdca26"
             ],
             [
              1.0,
              "#f0f921"
             ]
            ]
           }
          ],
          "surface": [
           {
            "type": "surface",
            "colorbar": {
             "outlinewidth": 0,
             "ticks": ""
            },
            "colorscale": [
             [
              0.0,
              "#0d0887"
             ],
             [
              0.1111111111111111,
              "#46039f"
             ],
             [
              0.2222222222222222,
              "#7201a8"
             ],
             [
              0.3333333333333333,
              "#9c179e"
             ],
             [
              0.4444444444444444,
              "#bd3786"
             ],
             [
              0.5555555555555556,
              "#d8576b"
             ],
             [
              0.6666666666666666,
              "#ed7953"
             ],
             [
              0.7777777777777778,
              "#fb9f3a"
             ],
             [
              0.8888888888888888,
              "#fdca26"
             ],
             [
              1.0,
              "#f0f921"
             ]
            ]
           }
          ],
          "mesh3d": [
           {
            "type": "mesh3d",
            "colorbar": {
             "outlinewidth": 0,
             "ticks": ""
            }
           }
          ],
          "scatter": [
           {
            "marker": {
             "line": {
              "color": "#283442"
             }
            },
            "type": "scatter"
           }
          ],
          "parcoords": [
           {
            "type": "parcoords",
            "line": {
             "colorbar": {
              "outlinewidth": 0,
              "ticks": ""
             }
            }
           }
          ],
          "scatterpolargl": [
           {
            "type": "scatterpolargl",
            "marker": {
             "colorbar": {
              "outlinewidth": 0,
              "ticks": ""
             }
            }
           }
          ],
          "bar": [
           {
            "error_x": {
             "color": "#f2f5fa"
            },
            "error_y": {
             "color": "#f2f5fa"
            },
            "marker": {
             "line": {
              "color": "rgb(17,17,17)",
              "width": 0.5
             },
             "pattern": {
              "fillmode": "overlay",
              "size": 10,
              "solidity": 0.2
             }
            },
            "type": "bar"
           }
          ],
          "scattergeo": [
           {
            "type": "scattergeo",
            "marker": {
             "colorbar": {
              "outlinewidth": 0,
              "ticks": ""
             }
            }
           }
          ],
          "scatterpolar": [
           {
            "type": "scatterpolar",
            "marker": {
             "colorbar": {
              "outlinewidth": 0,
              "ticks": ""
             }
            }
           }
          ],
          "histogram": [
           {
            "marker": {
             "pattern": {
              "fillmode": "overlay",
              "size": 10,
              "solidity": 0.2
             }
            },
            "type": "histogram"
           }
          ],
          "scattergl": [
           {
            "marker": {
             "line": {
              "color": "#283442"
             }
            },
            "type": "scattergl"
           }
          ],
          "scatter3d": [
           {
            "type": "scatter3d",
            "line": {
             "colorbar": {
              "outlinewidth": 0,
              "ticks": ""
             }
            },
            "marker": {
             "colorbar": {
              "outlinewidth": 0,
              "ticks": ""
             }
            }
           }
          ],
          "scattermap": [
           {
            "type": "scattermap",
            "marker": {
             "colorbar": {
              "outlinewidth": 0,
              "ticks": ""
             }
            }
           }
          ],
          "scattermapbox": [
           {
            "type": "scattermapbox",
            "marker": {
             "colorbar": {
              "outlinewidth": 0,
              "ticks": ""
             }
            }
           }
          ],
          "scatterternary": [
           {
            "type": "scatterternary",
            "marker": {
             "colorbar": {
              "outlinewidth": 0,
              "ticks": ""
             }
            }
           }
          ],
          "scattercarpet": [
           {
            "type": "scattercarpet",
            "marker": {
             "colorbar": {
              "outlinewidth": 0,
              "ticks": ""
             }
            }
           }
          ],
          "carpet": [
           {
            "aaxis": {
             "endlinecolor": "#A2B1C6",
             "gridcolor": "#506784",
             "linecolor": "#506784",
             "minorgridcolor": "#506784",
             "startlinecolor": "#A2B1C6"
            },
            "baxis": {
             "endlinecolor": "#A2B1C6",
             "gridcolor": "#506784",
             "linecolor": "#506784",
             "minorgridcolor": "#506784",
             "startlinecolor": "#A2B1C6"
            },
            "type": "carpet"
           }
          ],
          "table": [
           {
            "cells": {
             "fill": {
              "color": "#506784"
             },
             "line": {
              "color": "rgb(17,17,17)"
             }
            },
            "header": {
             "fill": {
              "color": "#2a3f5f"
             },
             "line": {
              "color": "rgb(17,17,17)"
             }
            },
            "type": "table"
           }
          ],
          "barpolar": [
           {
            "marker": {
             "line": {
              "color": "rgb(17,17,17)",
              "width": 0.5
             },
             "pattern": {
              "fillmode": "overlay",
              "size": 10,
              "solidity": 0.2
             }
            },
            "type": "barpolar"
           }
          ],
          "pie": [
           {
            "automargin": true,
            "type": "pie"
           }
          ]
         },
         "layout": {
          "autotypenumbers": "strict",
          "colorway": [
           "#636efa",
           "#EF553B",
           "#00cc96",
           "#ab63fa",
           "#FFA15A",
           "#19d3f3",
           "#FF6692",
           "#B6E880",
           "#FF97FF",
           "#FECB52"
          ],
          "font": {
           "color": "#f2f5fa"
          },
          "hovermode": "closest",
          "hoverlabel": {
           "align": "left"
          },
          "paper_bgcolor": "rgb(17,17,17)",
          "plot_bgcolor": "rgb(17,17,17)",
          "polar": {
           "bgcolor": "rgb(17,17,17)",
           "angularaxis": {
            "gridcolor": "#506784",
            "linecolor": "#506784",
            "ticks": ""
           },
           "radialaxis": {
            "gridcolor": "#506784",
            "linecolor": "#506784",
            "ticks": ""
           }
          },
          "ternary": {
           "bgcolor": "rgb(17,17,17)",
           "aaxis": {
            "gridcolor": "#506784",
            "linecolor": "#506784",
            "ticks": ""
           },
           "baxis": {
            "gridcolor": "#506784",
            "linecolor": "#506784",
            "ticks": ""
           },
           "caxis": {
            "gridcolor": "#506784",
            "linecolor": "#506784",
            "ticks": ""
           }
          },
          "coloraxis": {
           "colorbar": {
            "outlinewidth": 0,
            "ticks": ""
           }
          },
          "colorscale": {
           "sequential": [
            [
             0.0,
             "#0d0887"
            ],
            [
             0.1111111111111111,
             "#46039f"
            ],
            [
             0.2222222222222222,
             "#7201a8"
            ],
            [
             0.3333333333333333,
             "#9c179e"
            ],
            [
             0.4444444444444444,
             "#bd3786"
            ],
            [
             0.5555555555555556,
             "#d8576b"
            ],
            [
             0.6666666666666666,
             "#ed7953"
            ],
            [
             0.7777777777777778,
             "#fb9f3a"
            ],
            [
             0.8888888888888888,
             "#fdca26"
            ],
            [
             1.0,
             "#f0f921"
            ]
           ],
           "sequentialminus": [
            [
             0.0,
             "#0d0887"
            ],
            [
             0.1111111111111111,
             "#46039f"
            ],
            [
             0.2222222222222222,
             "#7201a8"
            ],
            [
             0.3333333333333333,
             "#9c179e"
            ],
            [
             0.4444444444444444,
             "#bd3786"
            ],
            [
             0.5555555555555556,
             "#d8576b"
            ],
            [
             0.6666666666666666,
             "#ed7953"
            ],
            [
             0.7777777777777778,
             "#fb9f3a"
            ],
            [
             0.8888888888888888,
             "#fdca26"
            ],
            [
             1.0,
             "#f0f921"
            ]
           ],
           "diverging": [
            [
             0,
             "#8e0152"
            ],
            [
             0.1,
             "#c51b7d"
            ],
            [
             0.2,
             "#de77ae"
            ],
            [
             0.3,
             "#f1b6da"
            ],
            [
             0.4,
             "#fde0ef"
            ],
            [
             0.5,
             "#f7f7f7"
            ],
            [
             0.6,
             "#e6f5d0"
            ],
            [
             0.7,
             "#b8e186"
            ],
            [
             0.8,
             "#7fbc41"
            ],
            [
             0.9,
             "#4d9221"
            ],
            [
             1,
             "#276419"
            ]
           ]
          },
          "xaxis": {
           "gridcolor": "#283442",
           "linecolor": "#506784",
           "ticks": "",
           "title": {
            "standoff": 15
           },
           "zerolinecolor": "#283442",
           "automargin": true,
           "zerolinewidth": 2
          },
          "yaxis": {
           "gridcolor": "#283442",
           "linecolor": "#506784",
           "ticks": "",
           "title": {
            "standoff": 15
           },
           "zerolinecolor": "#283442",
           "automargin": true,
           "zerolinewidth": 2
          },
          "scene": {
           "xaxis": {
            "backgroundcolor": "rgb(17,17,17)",
            "gridcolor": "#506784",
            "linecolor": "#506784",
            "showbackground": true,
            "ticks": "",
            "zerolinecolor": "#C8D4E3",
            "gridwidth": 2
           },
           "yaxis": {
            "backgroundcolor": "rgb(17,17,17)",
            "gridcolor": "#506784",
            "linecolor": "#506784",
            "showbackground": true,
            "ticks": "",
            "zerolinecolor": "#C8D4E3",
            "gridwidth": 2
           },
           "zaxis": {
            "backgroundcolor": "rgb(17,17,17)",
            "gridcolor": "#506784",
            "linecolor": "#506784",
            "showbackground": true,
            "ticks": "",
            "zerolinecolor": "#C8D4E3",
            "gridwidth": 2
           }
          },
          "shapedefaults": {
           "line": {
            "color": "#f2f5fa"
           }
          },
          "annotationdefaults": {
           "arrowcolor": "#f2f5fa",
           "arrowhead": 0,
           "arrowwidth": 1
          },
          "geo": {
           "bgcolor": "rgb(17,17,17)",
           "landcolor": "rgb(17,17,17)",
           "subunitcolor": "#506784",
           "showland": true,
           "showlakes": true,
           "lakecolor": "rgb(17,17,17)"
          },
          "title": {
           "x": 0.05
          },
          "updatemenudefaults": {
           "bgcolor": "#506784",
           "borderwidth": 0
          },
          "sliderdefaults": {
           "bgcolor": "#C8D4E3",
           "borderwidth": 1,
           "bordercolor": "rgb(17,17,17)",
           "tickwidth": 0
          },
          "mapbox": {
           "style": "dark"
          }
         }
        },
        "coloraxis": {
         "colorbar": {
          "title": {
           "text": "count"
          }
         },
         "colorscale": [
          [
           0.0,
           "rgb(209, 238, 234)"
          ],
          [
           0.16666666666666666,
           "rgb(168, 219, 217)"
          ],
          [
           0.3333333333333333,
           "rgb(133, 196, 201)"
          ],
          [
           0.5,
           "rgb(104, 171, 184)"
          ],
          [
           0.6666666666666666,
           "rgb(79, 144, 166)"
          ],
          [
           0.8333333333333334,
           "rgb(59, 115, 143)"
          ],
          [
           1.0,
           "rgb(42, 86, 116)"
          ]
         ]
        },
        "legend": {
         "tracegroupgap": 0
        },
        "title": {
         "text": "Most Common Words in Entertainment Articles"
        },
        "height": 400,
        "width": 1000,
        "margin": {
         "t": 50,
         "l": 25,
         "r": 25,
         "b": 25
        },
        "font": {
         "size": 14
        }
       },
       "config": {
        "plotlyServerURL": "https://plot.ly"
       }
      }
     },
     "metadata": {},
     "output_type": "display_data"
    }
   ],
   "execution_count": 131
  },
  {
   "metadata": {},
   "cell_type": "markdown",
   "source": [
    "#### Remove Common Words\n",
    "\n",
    "Looking at the six common words across all categories (said, would, year, also, new, one), and their prevalence within the top words, we will remove them from the text along with the standard stop words."
   ],
   "id": "fbf9fa80caa1ad8e"
  },
  {
   "metadata": {
    "ExecuteTime": {
     "end_time": "2025-08-01T01:49:38.380084Z",
     "start_time": "2025-08-01T01:49:37.737239Z"
    }
   },
   "cell_type": "code",
   "source": [
    "# Remove the common words from the word list\n",
    "remove_common = common_category_words['word'].tolist()\n",
    "\n",
    "# Cleanup the article Text\n",
    "text_cleaner = TextCleaner(additional_words=remove_common)\n",
    "bbcnews_train['Text_cleaned'] = text_cleaner.transform(bbcnews_train['Text'])\n",
    "\n",
    "# Visualize the word treemaps with the common words removed\n",
    "for category in bbcnews_train['Category'].unique():\n",
    "    fig = create_category_treemap(category)\n",
    "    fig.show()"
   ],
   "id": "e56093635b2140e5",
   "outputs": [
    {
     "data": {
      "application/vnd.plotly.v1+json": {
       "data": [
        {
         "branchvalues": "total",
         "customdata": {
          "dtype": "f8",
          "bdata": "AAAAAADAcUAAAAAAAFBwQAAAAAAAoG9AAAAAAACgb0AAAAAAAEBtQAAAAAAAAG1AAAAAAADgakAAAAAAAIBpQAAAAAAAQGlAAAAAAAAgaUAAAAAAAIBoQAAAAAAAoGZAAAAAAABAZkAAAAAAAGBlQAAAAAAAIGVAAAAAAACAZEAAAAAAAGBkQAAAAAAAQGRAAAAAAACAY0AAAAAAACBjQAAAAAAAAGNAAAAAAACAYUAAAAAAAIBhQAAAAAAAgGFAAAAAAAAgYUAAAAAAAOBgQAAAAAAAoGBAAAAAAABAYEAAAAAAAIBfQAAAAAAAQF9A",
          "shape": "30, 1"
         },
         "domain": {
          "x": [
           0.0,
           1.0
          ],
          "y": [
           0.0,
           1.0
          ]
         },
         "hovertemplate": "<b>%{label}</b><br>Count: %{value}<extra></extra>",
         "ids": [
          "market",
          "firm",
          "company",
          "growth",
          "last",
          "economy",
          "government",
          "bank",
          "economic",
          "sales",
          "could",
          "may",
          "oil",
          "shares",
          "world",
          "however",
          "two",
          "years",
          "chief",
          "business",
          "deal",
          "financial",
          "china",
          "companies",
          "prices",
          "analysts",
          "dollar",
          "expected",
          "group",
          "country"
         ],
         "labels": [
          "market",
          "firm",
          "company",
          "growth",
          "last",
          "economy",
          "government",
          "bank",
          "economic",
          "sales",
          "could",
          "may",
          "oil",
          "shares",
          "world",
          "however",
          "two",
          "years",
          "chief",
          "business",
          "deal",
          "financial",
          "china",
          "companies",
          "prices",
          "analysts",
          "dollar",
          "expected",
          "group",
          "country"
         ],
         "marker": {
          "coloraxis": "coloraxis",
          "colors": {
           "dtype": "f8",
           "bdata": "AAAAAADAcUAAAAAAAFBwQAAAAAAAoG9AAAAAAACgb0AAAAAAAEBtQAAAAAAAAG1AAAAAAADgakAAAAAAAIBpQAAAAAAAQGlAAAAAAAAgaUAAAAAAAIBoQAAAAAAAoGZAAAAAAABAZkAAAAAAAGBlQAAAAAAAIGVAAAAAAACAZEAAAAAAAGBkQAAAAAAAQGRAAAAAAACAY0AAAAAAACBjQAAAAAAAAGNAAAAAAACAYUAAAAAAAIBhQAAAAAAAgGFAAAAAAAAgYUAAAAAAAOBgQAAAAAAAoGBAAAAAAABAYEAAAAAAAIBfQAAAAAAAQF9A"
          }
         },
         "name": "",
         "parents": [
          "",
          "",
          "",
          "",
          "",
          "",
          "",
          "",
          "",
          "",
          "",
          "",
          "",
          "",
          "",
          "",
          "",
          "",
          "",
          "",
          "",
          "",
          "",
          "",
          "",
          "",
          "",
          "",
          "",
          ""
         ],
         "values": {
          "dtype": "f8",
          "bdata": "AAAAAADAcUAAAAAAAFBwQAAAAAAAoG9AAAAAAACgb0AAAAAAAEBtQAAAAAAAAG1AAAAAAADgakAAAAAAAIBpQAAAAAAAQGlAAAAAAAAgaUAAAAAAAIBoQAAAAAAAoGZAAAAAAABAZkAAAAAAAGBlQAAAAAAAIGVAAAAAAACAZEAAAAAAAGBkQAAAAAAAQGRAAAAAAACAY0AAAAAAACBjQAAAAAAAAGNAAAAAAACAYUAAAAAAAIBhQAAAAAAAgGFAAAAAAAAgYUAAAAAAAOBgQAAAAAAAoGBAAAAAAABAYEAAAAAAAIBfQAAAAAAAQF9A"
         },
         "type": "treemap",
         "textinfo": "label+value"
        }
       ],
       "layout": {
        "template": {
         "data": {
          "histogram2dcontour": [
           {
            "type": "histogram2dcontour",
            "colorbar": {
             "outlinewidth": 0,
             "ticks": ""
            },
            "colorscale": [
             [
              0.0,
              "#0d0887"
             ],
             [
              0.1111111111111111,
              "#46039f"
             ],
             [
              0.2222222222222222,
              "#7201a8"
             ],
             [
              0.3333333333333333,
              "#9c179e"
             ],
             [
              0.4444444444444444,
              "#bd3786"
             ],
             [
              0.5555555555555556,
              "#d8576b"
             ],
             [
              0.6666666666666666,
              "#ed7953"
             ],
             [
              0.7777777777777778,
              "#fb9f3a"
             ],
             [
              0.8888888888888888,
              "#fdca26"
             ],
             [
              1.0,
              "#f0f921"
             ]
            ]
           }
          ],
          "choropleth": [
           {
            "type": "choropleth",
            "colorbar": {
             "outlinewidth": 0,
             "ticks": ""
            }
           }
          ],
          "histogram2d": [
           {
            "type": "histogram2d",
            "colorbar": {
             "outlinewidth": 0,
             "ticks": ""
            },
            "colorscale": [
             [
              0.0,
              "#0d0887"
             ],
             [
              0.1111111111111111,
              "#46039f"
             ],
             [
              0.2222222222222222,
              "#7201a8"
             ],
             [
              0.3333333333333333,
              "#9c179e"
             ],
             [
              0.4444444444444444,
              "#bd3786"
             ],
             [
              0.5555555555555556,
              "#d8576b"
             ],
             [
              0.6666666666666666,
              "#ed7953"
             ],
             [
              0.7777777777777778,
              "#fb9f3a"
             ],
             [
              0.8888888888888888,
              "#fdca26"
             ],
             [
              1.0,
              "#f0f921"
             ]
            ]
           }
          ],
          "heatmap": [
           {
            "type": "heatmap",
            "colorbar": {
             "outlinewidth": 0,
             "ticks": ""
            },
            "colorscale": [
             [
              0.0,
              "#0d0887"
             ],
             [
              0.1111111111111111,
              "#46039f"
             ],
             [
              0.2222222222222222,
              "#7201a8"
             ],
             [
              0.3333333333333333,
              "#9c179e"
             ],
             [
              0.4444444444444444,
              "#bd3786"
             ],
             [
              0.5555555555555556,
              "#d8576b"
             ],
             [
              0.6666666666666666,
              "#ed7953"
             ],
             [
              0.7777777777777778,
              "#fb9f3a"
             ],
             [
              0.8888888888888888,
              "#fdca26"
             ],
             [
              1.0,
              "#f0f921"
             ]
            ]
           }
          ],
          "contourcarpet": [
           {
            "type": "contourcarpet",
            "colorbar": {
             "outlinewidth": 0,
             "ticks": ""
            }
           }
          ],
          "contour": [
           {
            "type": "contour",
            "colorbar": {
             "outlinewidth": 0,
             "ticks": ""
            },
            "colorscale": [
             [
              0.0,
              "#0d0887"
             ],
             [
              0.1111111111111111,
              "#46039f"
             ],
             [
              0.2222222222222222,
              "#7201a8"
             ],
             [
              0.3333333333333333,
              "#9c179e"
             ],
             [
              0.4444444444444444,
              "#bd3786"
             ],
             [
              0.5555555555555556,
              "#d8576b"
             ],
             [
              0.6666666666666666,
              "#ed7953"
             ],
             [
              0.7777777777777778,
              "#fb9f3a"
             ],
             [
              0.8888888888888888,
              "#fdca26"
             ],
             [
              1.0,
              "#f0f921"
             ]
            ]
           }
          ],
          "surface": [
           {
            "type": "surface",
            "colorbar": {
             "outlinewidth": 0,
             "ticks": ""
            },
            "colorscale": [
             [
              0.0,
              "#0d0887"
             ],
             [
              0.1111111111111111,
              "#46039f"
             ],
             [
              0.2222222222222222,
              "#7201a8"
             ],
             [
              0.3333333333333333,
              "#9c179e"
             ],
             [
              0.4444444444444444,
              "#bd3786"
             ],
             [
              0.5555555555555556,
              "#d8576b"
             ],
             [
              0.6666666666666666,
              "#ed7953"
             ],
             [
              0.7777777777777778,
              "#fb9f3a"
             ],
             [
              0.8888888888888888,
              "#fdca26"
             ],
             [
              1.0,
              "#f0f921"
             ]
            ]
           }
          ],
          "mesh3d": [
           {
            "type": "mesh3d",
            "colorbar": {
             "outlinewidth": 0,
             "ticks": ""
            }
           }
          ],
          "scatter": [
           {
            "marker": {
             "line": {
              "color": "#283442"
             }
            },
            "type": "scatter"
           }
          ],
          "parcoords": [
           {
            "type": "parcoords",
            "line": {
             "colorbar": {
              "outlinewidth": 0,
              "ticks": ""
             }
            }
           }
          ],
          "scatterpolargl": [
           {
            "type": "scatterpolargl",
            "marker": {
             "colorbar": {
              "outlinewidth": 0,
              "ticks": ""
             }
            }
           }
          ],
          "bar": [
           {
            "error_x": {
             "color": "#f2f5fa"
            },
            "error_y": {
             "color": "#f2f5fa"
            },
            "marker": {
             "line": {
              "color": "rgb(17,17,17)",
              "width": 0.5
             },
             "pattern": {
              "fillmode": "overlay",
              "size": 10,
              "solidity": 0.2
             }
            },
            "type": "bar"
           }
          ],
          "scattergeo": [
           {
            "type": "scattergeo",
            "marker": {
             "colorbar": {
              "outlinewidth": 0,
              "ticks": ""
             }
            }
           }
          ],
          "scatterpolar": [
           {
            "type": "scatterpolar",
            "marker": {
             "colorbar": {
              "outlinewidth": 0,
              "ticks": ""
             }
            }
           }
          ],
          "histogram": [
           {
            "marker": {
             "pattern": {
              "fillmode": "overlay",
              "size": 10,
              "solidity": 0.2
             }
            },
            "type": "histogram"
           }
          ],
          "scattergl": [
           {
            "marker": {
             "line": {
              "color": "#283442"
             }
            },
            "type": "scattergl"
           }
          ],
          "scatter3d": [
           {
            "type": "scatter3d",
            "line": {
             "colorbar": {
              "outlinewidth": 0,
              "ticks": ""
             }
            },
            "marker": {
             "colorbar": {
              "outlinewidth": 0,
              "ticks": ""
             }
            }
           }
          ],
          "scattermap": [
           {
            "type": "scattermap",
            "marker": {
             "colorbar": {
              "outlinewidth": 0,
              "ticks": ""
             }
            }
           }
          ],
          "scattermapbox": [
           {
            "type": "scattermapbox",
            "marker": {
             "colorbar": {
              "outlinewidth": 0,
              "ticks": ""
             }
            }
           }
          ],
          "scatterternary": [
           {
            "type": "scatterternary",
            "marker": {
             "colorbar": {
              "outlinewidth": 0,
              "ticks": ""
             }
            }
           }
          ],
          "scattercarpet": [
           {
            "type": "scattercarpet",
            "marker": {
             "colorbar": {
              "outlinewidth": 0,
              "ticks": ""
             }
            }
           }
          ],
          "carpet": [
           {
            "aaxis": {
             "endlinecolor": "#A2B1C6",
             "gridcolor": "#506784",
             "linecolor": "#506784",
             "minorgridcolor": "#506784",
             "startlinecolor": "#A2B1C6"
            },
            "baxis": {
             "endlinecolor": "#A2B1C6",
             "gridcolor": "#506784",
             "linecolor": "#506784",
             "minorgridcolor": "#506784",
             "startlinecolor": "#A2B1C6"
            },
            "type": "carpet"
           }
          ],
          "table": [
           {
            "cells": {
             "fill": {
              "color": "#506784"
             },
             "line": {
              "color": "rgb(17,17,17)"
             }
            },
            "header": {
             "fill": {
              "color": "#2a3f5f"
             },
             "line": {
              "color": "rgb(17,17,17)"
             }
            },
            "type": "table"
           }
          ],
          "barpolar": [
           {
            "marker": {
             "line": {
              "color": "rgb(17,17,17)",
              "width": 0.5
             },
             "pattern": {
              "fillmode": "overlay",
              "size": 10,
              "solidity": 0.2
             }
            },
            "type": "barpolar"
           }
          ],
          "pie": [
           {
            "automargin": true,
            "type": "pie"
           }
          ]
         },
         "layout": {
          "autotypenumbers": "strict",
          "colorway": [
           "#636efa",
           "#EF553B",
           "#00cc96",
           "#ab63fa",
           "#FFA15A",
           "#19d3f3",
           "#FF6692",
           "#B6E880",
           "#FF97FF",
           "#FECB52"
          ],
          "font": {
           "color": "#f2f5fa"
          },
          "hovermode": "closest",
          "hoverlabel": {
           "align": "left"
          },
          "paper_bgcolor": "rgb(17,17,17)",
          "plot_bgcolor": "rgb(17,17,17)",
          "polar": {
           "bgcolor": "rgb(17,17,17)",
           "angularaxis": {
            "gridcolor": "#506784",
            "linecolor": "#506784",
            "ticks": ""
           },
           "radialaxis": {
            "gridcolor": "#506784",
            "linecolor": "#506784",
            "ticks": ""
           }
          },
          "ternary": {
           "bgcolor": "rgb(17,17,17)",
           "aaxis": {
            "gridcolor": "#506784",
            "linecolor": "#506784",
            "ticks": ""
           },
           "baxis": {
            "gridcolor": "#506784",
            "linecolor": "#506784",
            "ticks": ""
           },
           "caxis": {
            "gridcolor": "#506784",
            "linecolor": "#506784",
            "ticks": ""
           }
          },
          "coloraxis": {
           "colorbar": {
            "outlinewidth": 0,
            "ticks": ""
           }
          },
          "colorscale": {
           "sequential": [
            [
             0.0,
             "#0d0887"
            ],
            [
             0.1111111111111111,
             "#46039f"
            ],
            [
             0.2222222222222222,
             "#7201a8"
            ],
            [
             0.3333333333333333,
             "#9c179e"
            ],
            [
             0.4444444444444444,
             "#bd3786"
            ],
            [
             0.5555555555555556,
             "#d8576b"
            ],
            [
             0.6666666666666666,
             "#ed7953"
            ],
            [
             0.7777777777777778,
             "#fb9f3a"
            ],
            [
             0.8888888888888888,
             "#fdca26"
            ],
            [
             1.0,
             "#f0f921"
            ]
           ],
           "sequentialminus": [
            [
             0.0,
             "#0d0887"
            ],
            [
             0.1111111111111111,
             "#46039f"
            ],
            [
             0.2222222222222222,
             "#7201a8"
            ],
            [
             0.3333333333333333,
             "#9c179e"
            ],
            [
             0.4444444444444444,
             "#bd3786"
            ],
            [
             0.5555555555555556,
             "#d8576b"
            ],
            [
             0.6666666666666666,
             "#ed7953"
            ],
            [
             0.7777777777777778,
             "#fb9f3a"
            ],
            [
             0.8888888888888888,
             "#fdca26"
            ],
            [
             1.0,
             "#f0f921"
            ]
           ],
           "diverging": [
            [
             0,
             "#8e0152"
            ],
            [
             0.1,
             "#c51b7d"
            ],
            [
             0.2,
             "#de77ae"
            ],
            [
             0.3,
             "#f1b6da"
            ],
            [
             0.4,
             "#fde0ef"
            ],
            [
             0.5,
             "#f7f7f7"
            ],
            [
             0.6,
             "#e6f5d0"
            ],
            [
             0.7,
             "#b8e186"
            ],
            [
             0.8,
             "#7fbc41"
            ],
            [
             0.9,
             "#4d9221"
            ],
            [
             1,
             "#276419"
            ]
           ]
          },
          "xaxis": {
           "gridcolor": "#283442",
           "linecolor": "#506784",
           "ticks": "",
           "title": {
            "standoff": 15
           },
           "zerolinecolor": "#283442",
           "automargin": true,
           "zerolinewidth": 2
          },
          "yaxis": {
           "gridcolor": "#283442",
           "linecolor": "#506784",
           "ticks": "",
           "title": {
            "standoff": 15
           },
           "zerolinecolor": "#283442",
           "automargin": true,
           "zerolinewidth": 2
          },
          "scene": {
           "xaxis": {
            "backgroundcolor": "rgb(17,17,17)",
            "gridcolor": "#506784",
            "linecolor": "#506784",
            "showbackground": true,
            "ticks": "",
            "zerolinecolor": "#C8D4E3",
            "gridwidth": 2
           },
           "yaxis": {
            "backgroundcolor": "rgb(17,17,17)",
            "gridcolor": "#506784",
            "linecolor": "#506784",
            "showbackground": true,
            "ticks": "",
            "zerolinecolor": "#C8D4E3",
            "gridwidth": 2
           },
           "zaxis": {
            "backgroundcolor": "rgb(17,17,17)",
            "gridcolor": "#506784",
            "linecolor": "#506784",
            "showbackground": true,
            "ticks": "",
            "zerolinecolor": "#C8D4E3",
            "gridwidth": 2
           }
          },
          "shapedefaults": {
           "line": {
            "color": "#f2f5fa"
           }
          },
          "annotationdefaults": {
           "arrowcolor": "#f2f5fa",
           "arrowhead": 0,
           "arrowwidth": 1
          },
          "geo": {
           "bgcolor": "rgb(17,17,17)",
           "landcolor": "rgb(17,17,17)",
           "subunitcolor": "#506784",
           "showland": true,
           "showlakes": true,
           "lakecolor": "rgb(17,17,17)"
          },
          "title": {
           "x": 0.05
          },
          "updatemenudefaults": {
           "bgcolor": "#506784",
           "borderwidth": 0
          },
          "sliderdefaults": {
           "bgcolor": "#C8D4E3",
           "borderwidth": 1,
           "bordercolor": "rgb(17,17,17)",
           "tickwidth": 0
          },
          "mapbox": {
           "style": "dark"
          }
         }
        },
        "coloraxis": {
         "colorbar": {
          "title": {
           "text": "count"
          }
         },
         "colorscale": [
          [
           0.0,
           "rgb(247,251,255)"
          ],
          [
           0.125,
           "rgb(222,235,247)"
          ],
          [
           0.25,
           "rgb(198,219,239)"
          ],
          [
           0.375,
           "rgb(158,202,225)"
          ],
          [
           0.5,
           "rgb(107,174,214)"
          ],
          [
           0.625,
           "rgb(66,146,198)"
          ],
          [
           0.75,
           "rgb(33,113,181)"
          ],
          [
           0.875,
           "rgb(8,81,156)"
          ],
          [
           1.0,
           "rgb(8,48,107)"
          ]
         ]
        },
        "legend": {
         "tracegroupgap": 0
        },
        "title": {
         "text": "Most Common Words in Business Articles"
        },
        "height": 400,
        "width": 1000,
        "margin": {
         "t": 50,
         "l": 25,
         "r": 25,
         "b": 25
        },
        "font": {
         "size": 14
        }
       },
       "config": {
        "plotlyServerURL": "https://plot.ly"
       }
      }
     },
     "metadata": {},
     "output_type": "display_data"
    },
    {
     "data": {
      "application/vnd.plotly.v1+json": {
       "data": [
        {
         "branchvalues": "total",
         "customdata": {
          "dtype": "f8",
          "bdata": "AAAAAAAQgkAAAAAAAPByQAAAAAAA8HFAAAAAAADwcEAAAAAAAEBuQAAAAAAAAG5AAAAAAACgbUAAAAAAACBtQAAAAAAAwGtAAAAAAABAa0AAAAAAAGBqQAAAAAAAQGpAAAAAAAAgaUAAAAAAAIBnQAAAAAAAQGdAAAAAAADAZkAAAAAAAGBmQAAAAAAAYGZAAAAAAAAAZkAAAAAAAKBlQAAAAAAAoGVAAAAAAADgZEAAAAAAAOBkQAAAAAAAwGRAAAAAAACgZEAAAAAAAGBkQAAAAAAAIGRAAAAAAAAAZEAAAAAAAKBjQAAAAAAAoGNA",
          "shape": "30, 1"
         },
         "domain": {
          "x": [
           0.0,
           1.0
          ],
          "y": [
           0.0,
           1.0
          ]
         },
         "hovertemplate": "<b>%{label}</b><br>Count: %{value}<extra></extra>",
         "ids": [
          "people",
          "mobile",
          "could",
          "technology",
          "use",
          "net",
          "users",
          "software",
          "music",
          "many",
          "phone",
          "games",
          "digital",
          "like",
          "make",
          "online",
          "used",
          "time",
          "computer",
          "service",
          "microsoft",
          "get",
          "first",
          "million",
          "internet",
          "game",
          "way",
          "world",
          "broadband",
          "video"
         ],
         "labels": [
          "people",
          "mobile",
          "could",
          "technology",
          "use",
          "net",
          "users",
          "software",
          "music",
          "many",
          "phone",
          "games",
          "digital",
          "like",
          "make",
          "online",
          "used",
          "time",
          "computer",
          "service",
          "microsoft",
          "get",
          "first",
          "million",
          "internet",
          "game",
          "way",
          "world",
          "broadband",
          "video"
         ],
         "marker": {
          "coloraxis": "coloraxis",
          "colors": {
           "dtype": "f8",
           "bdata": "AAAAAAAQgkAAAAAAAPByQAAAAAAA8HFAAAAAAADwcEAAAAAAAEBuQAAAAAAAAG5AAAAAAACgbUAAAAAAACBtQAAAAAAAwGtAAAAAAABAa0AAAAAAAGBqQAAAAAAAQGpAAAAAAAAgaUAAAAAAAIBnQAAAAAAAQGdAAAAAAADAZkAAAAAAAGBmQAAAAAAAYGZAAAAAAAAAZkAAAAAAAKBlQAAAAAAAoGVAAAAAAADgZEAAAAAAAOBkQAAAAAAAwGRAAAAAAACgZEAAAAAAAGBkQAAAAAAAIGRAAAAAAAAAZEAAAAAAAKBjQAAAAAAAoGNA"
          }
         },
         "name": "",
         "parents": [
          "",
          "",
          "",
          "",
          "",
          "",
          "",
          "",
          "",
          "",
          "",
          "",
          "",
          "",
          "",
          "",
          "",
          "",
          "",
          "",
          "",
          "",
          "",
          "",
          "",
          "",
          "",
          "",
          "",
          ""
         ],
         "values": {
          "dtype": "f8",
          "bdata": "AAAAAAAQgkAAAAAAAPByQAAAAAAA8HFAAAAAAADwcEAAAAAAAEBuQAAAAAAAAG5AAAAAAACgbUAAAAAAACBtQAAAAAAAwGtAAAAAAABAa0AAAAAAAGBqQAAAAAAAQGpAAAAAAAAgaUAAAAAAAIBnQAAAAAAAQGdAAAAAAADAZkAAAAAAAGBmQAAAAAAAYGZAAAAAAAAAZkAAAAAAAKBlQAAAAAAAoGVAAAAAAADgZEAAAAAAAOBkQAAAAAAAwGRAAAAAAACgZEAAAAAAAGBkQAAAAAAAIGRAAAAAAAAAZEAAAAAAAKBjQAAAAAAAoGNA"
         },
         "type": "treemap",
         "textinfo": "label+value"
        }
       ],
       "layout": {
        "template": {
         "data": {
          "histogram2dcontour": [
           {
            "type": "histogram2dcontour",
            "colorbar": {
             "outlinewidth": 0,
             "ticks": ""
            },
            "colorscale": [
             [
              0.0,
              "#0d0887"
             ],
             [
              0.1111111111111111,
              "#46039f"
             ],
             [
              0.2222222222222222,
              "#7201a8"
             ],
             [
              0.3333333333333333,
              "#9c179e"
             ],
             [
              0.4444444444444444,
              "#bd3786"
             ],
             [
              0.5555555555555556,
              "#d8576b"
             ],
             [
              0.6666666666666666,
              "#ed7953"
             ],
             [
              0.7777777777777778,
              "#fb9f3a"
             ],
             [
              0.8888888888888888,
              "#fdca26"
             ],
             [
              1.0,
              "#f0f921"
             ]
            ]
           }
          ],
          "choropleth": [
           {
            "type": "choropleth",
            "colorbar": {
             "outlinewidth": 0,
             "ticks": ""
            }
           }
          ],
          "histogram2d": [
           {
            "type": "histogram2d",
            "colorbar": {
             "outlinewidth": 0,
             "ticks": ""
            },
            "colorscale": [
             [
              0.0,
              "#0d0887"
             ],
             [
              0.1111111111111111,
              "#46039f"
             ],
             [
              0.2222222222222222,
              "#7201a8"
             ],
             [
              0.3333333333333333,
              "#9c179e"
             ],
             [
              0.4444444444444444,
              "#bd3786"
             ],
             [
              0.5555555555555556,
              "#d8576b"
             ],
             [
              0.6666666666666666,
              "#ed7953"
             ],
             [
              0.7777777777777778,
              "#fb9f3a"
             ],
             [
              0.8888888888888888,
              "#fdca26"
             ],
             [
              1.0,
              "#f0f921"
             ]
            ]
           }
          ],
          "heatmap": [
           {
            "type": "heatmap",
            "colorbar": {
             "outlinewidth": 0,
             "ticks": ""
            },
            "colorscale": [
             [
              0.0,
              "#0d0887"
             ],
             [
              0.1111111111111111,
              "#46039f"
             ],
             [
              0.2222222222222222,
              "#7201a8"
             ],
             [
              0.3333333333333333,
              "#9c179e"
             ],
             [
              0.4444444444444444,
              "#bd3786"
             ],
             [
              0.5555555555555556,
              "#d8576b"
             ],
             [
              0.6666666666666666,
              "#ed7953"
             ],
             [
              0.7777777777777778,
              "#fb9f3a"
             ],
             [
              0.8888888888888888,
              "#fdca26"
             ],
             [
              1.0,
              "#f0f921"
             ]
            ]
           }
          ],
          "contourcarpet": [
           {
            "type": "contourcarpet",
            "colorbar": {
             "outlinewidth": 0,
             "ticks": ""
            }
           }
          ],
          "contour": [
           {
            "type": "contour",
            "colorbar": {
             "outlinewidth": 0,
             "ticks": ""
            },
            "colorscale": [
             [
              0.0,
              "#0d0887"
             ],
             [
              0.1111111111111111,
              "#46039f"
             ],
             [
              0.2222222222222222,
              "#7201a8"
             ],
             [
              0.3333333333333333,
              "#9c179e"
             ],
             [
              0.4444444444444444,
              "#bd3786"
             ],
             [
              0.5555555555555556,
              "#d8576b"
             ],
             [
              0.6666666666666666,
              "#ed7953"
             ],
             [
              0.7777777777777778,
              "#fb9f3a"
             ],
             [
              0.8888888888888888,
              "#fdca26"
             ],
             [
              1.0,
              "#f0f921"
             ]
            ]
           }
          ],
          "surface": [
           {
            "type": "surface",
            "colorbar": {
             "outlinewidth": 0,
             "ticks": ""
            },
            "colorscale": [
             [
              0.0,
              "#0d0887"
             ],
             [
              0.1111111111111111,
              "#46039f"
             ],
             [
              0.2222222222222222,
              "#7201a8"
             ],
             [
              0.3333333333333333,
              "#9c179e"
             ],
             [
              0.4444444444444444,
              "#bd3786"
             ],
             [
              0.5555555555555556,
              "#d8576b"
             ],
             [
              0.6666666666666666,
              "#ed7953"
             ],
             [
              0.7777777777777778,
              "#fb9f3a"
             ],
             [
              0.8888888888888888,
              "#fdca26"
             ],
             [
              1.0,
              "#f0f921"
             ]
            ]
           }
          ],
          "mesh3d": [
           {
            "type": "mesh3d",
            "colorbar": {
             "outlinewidth": 0,
             "ticks": ""
            }
           }
          ],
          "scatter": [
           {
            "marker": {
             "line": {
              "color": "#283442"
             }
            },
            "type": "scatter"
           }
          ],
          "parcoords": [
           {
            "type": "parcoords",
            "line": {
             "colorbar": {
              "outlinewidth": 0,
              "ticks": ""
             }
            }
           }
          ],
          "scatterpolargl": [
           {
            "type": "scatterpolargl",
            "marker": {
             "colorbar": {
              "outlinewidth": 0,
              "ticks": ""
             }
            }
           }
          ],
          "bar": [
           {
            "error_x": {
             "color": "#f2f5fa"
            },
            "error_y": {
             "color": "#f2f5fa"
            },
            "marker": {
             "line": {
              "color": "rgb(17,17,17)",
              "width": 0.5
             },
             "pattern": {
              "fillmode": "overlay",
              "size": 10,
              "solidity": 0.2
             }
            },
            "type": "bar"
           }
          ],
          "scattergeo": [
           {
            "type": "scattergeo",
            "marker": {
             "colorbar": {
              "outlinewidth": 0,
              "ticks": ""
             }
            }
           }
          ],
          "scatterpolar": [
           {
            "type": "scatterpolar",
            "marker": {
             "colorbar": {
              "outlinewidth": 0,
              "ticks": ""
             }
            }
           }
          ],
          "histogram": [
           {
            "marker": {
             "pattern": {
              "fillmode": "overlay",
              "size": 10,
              "solidity": 0.2
             }
            },
            "type": "histogram"
           }
          ],
          "scattergl": [
           {
            "marker": {
             "line": {
              "color": "#283442"
             }
            },
            "type": "scattergl"
           }
          ],
          "scatter3d": [
           {
            "type": "scatter3d",
            "line": {
             "colorbar": {
              "outlinewidth": 0,
              "ticks": ""
             }
            },
            "marker": {
             "colorbar": {
              "outlinewidth": 0,
              "ticks": ""
             }
            }
           }
          ],
          "scattermap": [
           {
            "type": "scattermap",
            "marker": {
             "colorbar": {
              "outlinewidth": 0,
              "ticks": ""
             }
            }
           }
          ],
          "scattermapbox": [
           {
            "type": "scattermapbox",
            "marker": {
             "colorbar": {
              "outlinewidth": 0,
              "ticks": ""
             }
            }
           }
          ],
          "scatterternary": [
           {
            "type": "scatterternary",
            "marker": {
             "colorbar": {
              "outlinewidth": 0,
              "ticks": ""
             }
            }
           }
          ],
          "scattercarpet": [
           {
            "type": "scattercarpet",
            "marker": {
             "colorbar": {
              "outlinewidth": 0,
              "ticks": ""
             }
            }
           }
          ],
          "carpet": [
           {
            "aaxis": {
             "endlinecolor": "#A2B1C6",
             "gridcolor": "#506784",
             "linecolor": "#506784",
             "minorgridcolor": "#506784",
             "startlinecolor": "#A2B1C6"
            },
            "baxis": {
             "endlinecolor": "#A2B1C6",
             "gridcolor": "#506784",
             "linecolor": "#506784",
             "minorgridcolor": "#506784",
             "startlinecolor": "#A2B1C6"
            },
            "type": "carpet"
           }
          ],
          "table": [
           {
            "cells": {
             "fill": {
              "color": "#506784"
             },
             "line": {
              "color": "rgb(17,17,17)"
             }
            },
            "header": {
             "fill": {
              "color": "#2a3f5f"
             },
             "line": {
              "color": "rgb(17,17,17)"
             }
            },
            "type": "table"
           }
          ],
          "barpolar": [
           {
            "marker": {
             "line": {
              "color": "rgb(17,17,17)",
              "width": 0.5
             },
             "pattern": {
              "fillmode": "overlay",
              "size": 10,
              "solidity": 0.2
             }
            },
            "type": "barpolar"
           }
          ],
          "pie": [
           {
            "automargin": true,
            "type": "pie"
           }
          ]
         },
         "layout": {
          "autotypenumbers": "strict",
          "colorway": [
           "#636efa",
           "#EF553B",
           "#00cc96",
           "#ab63fa",
           "#FFA15A",
           "#19d3f3",
           "#FF6692",
           "#B6E880",
           "#FF97FF",
           "#FECB52"
          ],
          "font": {
           "color": "#f2f5fa"
          },
          "hovermode": "closest",
          "hoverlabel": {
           "align": "left"
          },
          "paper_bgcolor": "rgb(17,17,17)",
          "plot_bgcolor": "rgb(17,17,17)",
          "polar": {
           "bgcolor": "rgb(17,17,17)",
           "angularaxis": {
            "gridcolor": "#506784",
            "linecolor": "#506784",
            "ticks": ""
           },
           "radialaxis": {
            "gridcolor": "#506784",
            "linecolor": "#506784",
            "ticks": ""
           }
          },
          "ternary": {
           "bgcolor": "rgb(17,17,17)",
           "aaxis": {
            "gridcolor": "#506784",
            "linecolor": "#506784",
            "ticks": ""
           },
           "baxis": {
            "gridcolor": "#506784",
            "linecolor": "#506784",
            "ticks": ""
           },
           "caxis": {
            "gridcolor": "#506784",
            "linecolor": "#506784",
            "ticks": ""
           }
          },
          "coloraxis": {
           "colorbar": {
            "outlinewidth": 0,
            "ticks": ""
           }
          },
          "colorscale": {
           "sequential": [
            [
             0.0,
             "#0d0887"
            ],
            [
             0.1111111111111111,
             "#46039f"
            ],
            [
             0.2222222222222222,
             "#7201a8"
            ],
            [
             0.3333333333333333,
             "#9c179e"
            ],
            [
             0.4444444444444444,
             "#bd3786"
            ],
            [
             0.5555555555555556,
             "#d8576b"
            ],
            [
             0.6666666666666666,
             "#ed7953"
            ],
            [
             0.7777777777777778,
             "#fb9f3a"
            ],
            [
             0.8888888888888888,
             "#fdca26"
            ],
            [
             1.0,
             "#f0f921"
            ]
           ],
           "sequentialminus": [
            [
             0.0,
             "#0d0887"
            ],
            [
             0.1111111111111111,
             "#46039f"
            ],
            [
             0.2222222222222222,
             "#7201a8"
            ],
            [
             0.3333333333333333,
             "#9c179e"
            ],
            [
             0.4444444444444444,
             "#bd3786"
            ],
            [
             0.5555555555555556,
             "#d8576b"
            ],
            [
             0.6666666666666666,
             "#ed7953"
            ],
            [
             0.7777777777777778,
             "#fb9f3a"
            ],
            [
             0.8888888888888888,
             "#fdca26"
            ],
            [
             1.0,
             "#f0f921"
            ]
           ],
           "diverging": [
            [
             0,
             "#8e0152"
            ],
            [
             0.1,
             "#c51b7d"
            ],
            [
             0.2,
             "#de77ae"
            ],
            [
             0.3,
             "#f1b6da"
            ],
            [
             0.4,
             "#fde0ef"
            ],
            [
             0.5,
             "#f7f7f7"
            ],
            [
             0.6,
             "#e6f5d0"
            ],
            [
             0.7,
             "#b8e186"
            ],
            [
             0.8,
             "#7fbc41"
            ],
            [
             0.9,
             "#4d9221"
            ],
            [
             1,
             "#276419"
            ]
           ]
          },
          "xaxis": {
           "gridcolor": "#283442",
           "linecolor": "#506784",
           "ticks": "",
           "title": {
            "standoff": 15
           },
           "zerolinecolor": "#283442",
           "automargin": true,
           "zerolinewidth": 2
          },
          "yaxis": {
           "gridcolor": "#283442",
           "linecolor": "#506784",
           "ticks": "",
           "title": {
            "standoff": 15
           },
           "zerolinecolor": "#283442",
           "automargin": true,
           "zerolinewidth": 2
          },
          "scene": {
           "xaxis": {
            "backgroundcolor": "rgb(17,17,17)",
            "gridcolor": "#506784",
            "linecolor": "#506784",
            "showbackground": true,
            "ticks": "",
            "zerolinecolor": "#C8D4E3",
            "gridwidth": 2
           },
           "yaxis": {
            "backgroundcolor": "rgb(17,17,17)",
            "gridcolor": "#506784",
            "linecolor": "#506784",
            "showbackground": true,
            "ticks": "",
            "zerolinecolor": "#C8D4E3",
            "gridwidth": 2
           },
           "zaxis": {
            "backgroundcolor": "rgb(17,17,17)",
            "gridcolor": "#506784",
            "linecolor": "#506784",
            "showbackground": true,
            "ticks": "",
            "zerolinecolor": "#C8D4E3",
            "gridwidth": 2
           }
          },
          "shapedefaults": {
           "line": {
            "color": "#f2f5fa"
           }
          },
          "annotationdefaults": {
           "arrowcolor": "#f2f5fa",
           "arrowhead": 0,
           "arrowwidth": 1
          },
          "geo": {
           "bgcolor": "rgb(17,17,17)",
           "landcolor": "rgb(17,17,17)",
           "subunitcolor": "#506784",
           "showland": true,
           "showlakes": true,
           "lakecolor": "rgb(17,17,17)"
          },
          "title": {
           "x": 0.05
          },
          "updatemenudefaults": {
           "bgcolor": "#506784",
           "borderwidth": 0
          },
          "sliderdefaults": {
           "bgcolor": "#C8D4E3",
           "borderwidth": 1,
           "bordercolor": "rgb(17,17,17)",
           "tickwidth": 0
          },
          "mapbox": {
           "style": "dark"
          }
         }
        },
        "coloraxis": {
         "colorbar": {
          "title": {
           "text": "count"
          }
         },
         "colorscale": [
          [
           0.0,
           "rgb(252,251,253)"
          ],
          [
           0.125,
           "rgb(239,237,245)"
          ],
          [
           0.25,
           "rgb(218,218,235)"
          ],
          [
           0.375,
           "rgb(188,189,220)"
          ],
          [
           0.5,
           "rgb(158,154,200)"
          ],
          [
           0.625,
           "rgb(128,125,186)"
          ],
          [
           0.75,
           "rgb(106,81,163)"
          ],
          [
           0.875,
           "rgb(84,39,143)"
          ],
          [
           1.0,
           "rgb(63,0,125)"
          ]
         ]
        },
        "legend": {
         "tracegroupgap": 0
        },
        "title": {
         "text": "Most Common Words in Tech Articles"
        },
        "height": 400,
        "width": 1000,
        "margin": {
         "t": 50,
         "l": 25,
         "r": 25,
         "b": 25
        },
        "font": {
         "size": 14
        }
       },
       "config": {
        "plotlyServerURL": "https://plot.ly"
       }
      }
     },
     "metadata": {},
     "output_type": "display_data"
    },
    {
     "data": {
      "application/vnd.plotly.v1+json": {
       "data": [
        {
         "branchvalues": "total",
         "customdata": {
          "dtype": "f8",
          "bdata": "AAAAAACgfUAAAAAAAFB8QAAAAAAAUHlAAAAAAADQd0AAAAAAALB2QAAAAAAAgHZAAAAAAABgcUAAAAAAAJBwQAAAAAAAEHBAAAAAAACAakAAAAAAAOBpQAAAAAAAwGdAAAAAAADAZ0AAAAAAAIBnQAAAAAAA4GZAAAAAAADAZkAAAAAAAABmQAAAAAAA4GVAAAAAAAAgZEAAAAAAAOBjQAAAAAAAwGNAAAAAAABgY0AAAAAAACBjQAAAAAAA4GJAAAAAAADgYkAAAAAAAKBiQAAAAAAAgGJAAAAAAABgYkAAAAAAAGBiQAAAAAAAoGFA",
          "shape": "30, 1"
         },
         "domain": {
          "x": [
           0.0,
           1.0
          ],
          "y": [
           0.0,
           1.0
          ]
         },
         "hovertemplate": "<b>%{label}</b><br>Count: %{value}<extra></extra>",
         "ids": [
          "labour",
          "government",
          "election",
          "blair",
          "people",
          "party",
          "minister",
          "could",
          "brown",
          "told",
          "plans",
          "howard",
          "public",
          "prime",
          "tax",
          "say",
          "britain",
          "secretary",
          "tory",
          "general",
          "leader",
          "tories",
          "chancellor",
          "says",
          "home",
          "two",
          "next",
          "lord",
          "bbc",
          "campaign"
         ],
         "labels": [
          "labour",
          "government",
          "election",
          "blair",
          "people",
          "party",
          "minister",
          "could",
          "brown",
          "told",
          "plans",
          "howard",
          "public",
          "prime",
          "tax",
          "say",
          "britain",
          "secretary",
          "tory",
          "general",
          "leader",
          "tories",
          "chancellor",
          "says",
          "home",
          "two",
          "next",
          "lord",
          "bbc",
          "campaign"
         ],
         "marker": {
          "coloraxis": "coloraxis",
          "colors": {
           "dtype": "f8",
           "bdata": "AAAAAACgfUAAAAAAAFB8QAAAAAAAUHlAAAAAAADQd0AAAAAAALB2QAAAAAAAgHZAAAAAAABgcUAAAAAAAJBwQAAAAAAAEHBAAAAAAACAakAAAAAAAOBpQAAAAAAAwGdAAAAAAADAZ0AAAAAAAIBnQAAAAAAA4GZAAAAAAADAZkAAAAAAAABmQAAAAAAA4GVAAAAAAAAgZEAAAAAAAOBjQAAAAAAAwGNAAAAAAABgY0AAAAAAACBjQAAAAAAA4GJAAAAAAADgYkAAAAAAAKBiQAAAAAAAgGJAAAAAAABgYkAAAAAAAGBiQAAAAAAAoGFA"
          }
         },
         "name": "",
         "parents": [
          "",
          "",
          "",
          "",
          "",
          "",
          "",
          "",
          "",
          "",
          "",
          "",
          "",
          "",
          "",
          "",
          "",
          "",
          "",
          "",
          "",
          "",
          "",
          "",
          "",
          "",
          "",
          "",
          "",
          ""
         ],
         "values": {
          "dtype": "f8",
          "bdata": "AAAAAACgfUAAAAAAAFB8QAAAAAAAUHlAAAAAAADQd0AAAAAAALB2QAAAAAAAgHZAAAAAAABgcUAAAAAAAJBwQAAAAAAAEHBAAAAAAACAakAAAAAAAOBpQAAAAAAAwGdAAAAAAADAZ0AAAAAAAIBnQAAAAAAA4GZAAAAAAADAZkAAAAAAAABmQAAAAAAA4GVAAAAAAAAgZEAAAAAAAOBjQAAAAAAAwGNAAAAAAABgY0AAAAAAACBjQAAAAAAA4GJAAAAAAADgYkAAAAAAAKBiQAAAAAAAgGJAAAAAAABgYkAAAAAAAGBiQAAAAAAAoGFA"
         },
         "type": "treemap",
         "textinfo": "label+value"
        }
       ],
       "layout": {
        "template": {
         "data": {
          "histogram2dcontour": [
           {
            "type": "histogram2dcontour",
            "colorbar": {
             "outlinewidth": 0,
             "ticks": ""
            },
            "colorscale": [
             [
              0.0,
              "#0d0887"
             ],
             [
              0.1111111111111111,
              "#46039f"
             ],
             [
              0.2222222222222222,
              "#7201a8"
             ],
             [
              0.3333333333333333,
              "#9c179e"
             ],
             [
              0.4444444444444444,
              "#bd3786"
             ],
             [
              0.5555555555555556,
              "#d8576b"
             ],
             [
              0.6666666666666666,
              "#ed7953"
             ],
             [
              0.7777777777777778,
              "#fb9f3a"
             ],
             [
              0.8888888888888888,
              "#fdca26"
             ],
             [
              1.0,
              "#f0f921"
             ]
            ]
           }
          ],
          "choropleth": [
           {
            "type": "choropleth",
            "colorbar": {
             "outlinewidth": 0,
             "ticks": ""
            }
           }
          ],
          "histogram2d": [
           {
            "type": "histogram2d",
            "colorbar": {
             "outlinewidth": 0,
             "ticks": ""
            },
            "colorscale": [
             [
              0.0,
              "#0d0887"
             ],
             [
              0.1111111111111111,
              "#46039f"
             ],
             [
              0.2222222222222222,
              "#7201a8"
             ],
             [
              0.3333333333333333,
              "#9c179e"
             ],
             [
              0.4444444444444444,
              "#bd3786"
             ],
             [
              0.5555555555555556,
              "#d8576b"
             ],
             [
              0.6666666666666666,
              "#ed7953"
             ],
             [
              0.7777777777777778,
              "#fb9f3a"
             ],
             [
              0.8888888888888888,
              "#fdca26"
             ],
             [
              1.0,
              "#f0f921"
             ]
            ]
           }
          ],
          "heatmap": [
           {
            "type": "heatmap",
            "colorbar": {
             "outlinewidth": 0,
             "ticks": ""
            },
            "colorscale": [
             [
              0.0,
              "#0d0887"
             ],
             [
              0.1111111111111111,
              "#46039f"
             ],
             [
              0.2222222222222222,
              "#7201a8"
             ],
             [
              0.3333333333333333,
              "#9c179e"
             ],
             [
              0.4444444444444444,
              "#bd3786"
             ],
             [
              0.5555555555555556,
              "#d8576b"
             ],
             [
              0.6666666666666666,
              "#ed7953"
             ],
             [
              0.7777777777777778,
              "#fb9f3a"
             ],
             [
              0.8888888888888888,
              "#fdca26"
             ],
             [
              1.0,
              "#f0f921"
             ]
            ]
           }
          ],
          "contourcarpet": [
           {
            "type": "contourcarpet",
            "colorbar": {
             "outlinewidth": 0,
             "ticks": ""
            }
           }
          ],
          "contour": [
           {
            "type": "contour",
            "colorbar": {
             "outlinewidth": 0,
             "ticks": ""
            },
            "colorscale": [
             [
              0.0,
              "#0d0887"
             ],
             [
              0.1111111111111111,
              "#46039f"
             ],
             [
              0.2222222222222222,
              "#7201a8"
             ],
             [
              0.3333333333333333,
              "#9c179e"
             ],
             [
              0.4444444444444444,
              "#bd3786"
             ],
             [
              0.5555555555555556,
              "#d8576b"
             ],
             [
              0.6666666666666666,
              "#ed7953"
             ],
             [
              0.7777777777777778,
              "#fb9f3a"
             ],
             [
              0.8888888888888888,
              "#fdca26"
             ],
             [
              1.0,
              "#f0f921"
             ]
            ]
           }
          ],
          "surface": [
           {
            "type": "surface",
            "colorbar": {
             "outlinewidth": 0,
             "ticks": ""
            },
            "colorscale": [
             [
              0.0,
              "#0d0887"
             ],
             [
              0.1111111111111111,
              "#46039f"
             ],
             [
              0.2222222222222222,
              "#7201a8"
             ],
             [
              0.3333333333333333,
              "#9c179e"
             ],
             [
              0.4444444444444444,
              "#bd3786"
             ],
             [
              0.5555555555555556,
              "#d8576b"
             ],
             [
              0.6666666666666666,
              "#ed7953"
             ],
             [
              0.7777777777777778,
              "#fb9f3a"
             ],
             [
              0.8888888888888888,
              "#fdca26"
             ],
             [
              1.0,
              "#f0f921"
             ]
            ]
           }
          ],
          "mesh3d": [
           {
            "type": "mesh3d",
            "colorbar": {
             "outlinewidth": 0,
             "ticks": ""
            }
           }
          ],
          "scatter": [
           {
            "marker": {
             "line": {
              "color": "#283442"
             }
            },
            "type": "scatter"
           }
          ],
          "parcoords": [
           {
            "type": "parcoords",
            "line": {
             "colorbar": {
              "outlinewidth": 0,
              "ticks": ""
             }
            }
           }
          ],
          "scatterpolargl": [
           {
            "type": "scatterpolargl",
            "marker": {
             "colorbar": {
              "outlinewidth": 0,
              "ticks": ""
             }
            }
           }
          ],
          "bar": [
           {
            "error_x": {
             "color": "#f2f5fa"
            },
            "error_y": {
             "color": "#f2f5fa"
            },
            "marker": {
             "line": {
              "color": "rgb(17,17,17)",
              "width": 0.5
             },
             "pattern": {
              "fillmode": "overlay",
              "size": 10,
              "solidity": 0.2
             }
            },
            "type": "bar"
           }
          ],
          "scattergeo": [
           {
            "type": "scattergeo",
            "marker": {
             "colorbar": {
              "outlinewidth": 0,
              "ticks": ""
             }
            }
           }
          ],
          "scatterpolar": [
           {
            "type": "scatterpolar",
            "marker": {
             "colorbar": {
              "outlinewidth": 0,
              "ticks": ""
             }
            }
           }
          ],
          "histogram": [
           {
            "marker": {
             "pattern": {
              "fillmode": "overlay",
              "size": 10,
              "solidity": 0.2
             }
            },
            "type": "histogram"
           }
          ],
          "scattergl": [
           {
            "marker": {
             "line": {
              "color": "#283442"
             }
            },
            "type": "scattergl"
           }
          ],
          "scatter3d": [
           {
            "type": "scatter3d",
            "line": {
             "colorbar": {
              "outlinewidth": 0,
              "ticks": ""
             }
            },
            "marker": {
             "colorbar": {
              "outlinewidth": 0,
              "ticks": ""
             }
            }
           }
          ],
          "scattermap": [
           {
            "type": "scattermap",
            "marker": {
             "colorbar": {
              "outlinewidth": 0,
              "ticks": ""
             }
            }
           }
          ],
          "scattermapbox": [
           {
            "type": "scattermapbox",
            "marker": {
             "colorbar": {
              "outlinewidth": 0,
              "ticks": ""
             }
            }
           }
          ],
          "scatterternary": [
           {
            "type": "scatterternary",
            "marker": {
             "colorbar": {
              "outlinewidth": 0,
              "ticks": ""
             }
            }
           }
          ],
          "scattercarpet": [
           {
            "type": "scattercarpet",
            "marker": {
             "colorbar": {
              "outlinewidth": 0,
              "ticks": ""
             }
            }
           }
          ],
          "carpet": [
           {
            "aaxis": {
             "endlinecolor": "#A2B1C6",
             "gridcolor": "#506784",
             "linecolor": "#506784",
             "minorgridcolor": "#506784",
             "startlinecolor": "#A2B1C6"
            },
            "baxis": {
             "endlinecolor": "#A2B1C6",
             "gridcolor": "#506784",
             "linecolor": "#506784",
             "minorgridcolor": "#506784",
             "startlinecolor": "#A2B1C6"
            },
            "type": "carpet"
           }
          ],
          "table": [
           {
            "cells": {
             "fill": {
              "color": "#506784"
             },
             "line": {
              "color": "rgb(17,17,17)"
             }
            },
            "header": {
             "fill": {
              "color": "#2a3f5f"
             },
             "line": {
              "color": "rgb(17,17,17)"
             }
            },
            "type": "table"
           }
          ],
          "barpolar": [
           {
            "marker": {
             "line": {
              "color": "rgb(17,17,17)",
              "width": 0.5
             },
             "pattern": {
              "fillmode": "overlay",
              "size": 10,
              "solidity": 0.2
             }
            },
            "type": "barpolar"
           }
          ],
          "pie": [
           {
            "automargin": true,
            "type": "pie"
           }
          ]
         },
         "layout": {
          "autotypenumbers": "strict",
          "colorway": [
           "#636efa",
           "#EF553B",
           "#00cc96",
           "#ab63fa",
           "#FFA15A",
           "#19d3f3",
           "#FF6692",
           "#B6E880",
           "#FF97FF",
           "#FECB52"
          ],
          "font": {
           "color": "#f2f5fa"
          },
          "hovermode": "closest",
          "hoverlabel": {
           "align": "left"
          },
          "paper_bgcolor": "rgb(17,17,17)",
          "plot_bgcolor": "rgb(17,17,17)",
          "polar": {
           "bgcolor": "rgb(17,17,17)",
           "angularaxis": {
            "gridcolor": "#506784",
            "linecolor": "#506784",
            "ticks": ""
           },
           "radialaxis": {
            "gridcolor": "#506784",
            "linecolor": "#506784",
            "ticks": ""
           }
          },
          "ternary": {
           "bgcolor": "rgb(17,17,17)",
           "aaxis": {
            "gridcolor": "#506784",
            "linecolor": "#506784",
            "ticks": ""
           },
           "baxis": {
            "gridcolor": "#506784",
            "linecolor": "#506784",
            "ticks": ""
           },
           "caxis": {
            "gridcolor": "#506784",
            "linecolor": "#506784",
            "ticks": ""
           }
          },
          "coloraxis": {
           "colorbar": {
            "outlinewidth": 0,
            "ticks": ""
           }
          },
          "colorscale": {
           "sequential": [
            [
             0.0,
             "#0d0887"
            ],
            [
             0.1111111111111111,
             "#46039f"
            ],
            [
             0.2222222222222222,
             "#7201a8"
            ],
            [
             0.3333333333333333,
             "#9c179e"
            ],
            [
             0.4444444444444444,
             "#bd3786"
            ],
            [
             0.5555555555555556,
             "#d8576b"
            ],
            [
             0.6666666666666666,
             "#ed7953"
            ],
            [
             0.7777777777777778,
             "#fb9f3a"
            ],
            [
             0.8888888888888888,
             "#fdca26"
            ],
            [
             1.0,
             "#f0f921"
            ]
           ],
           "sequentialminus": [
            [
             0.0,
             "#0d0887"
            ],
            [
             0.1111111111111111,
             "#46039f"
            ],
            [
             0.2222222222222222,
             "#7201a8"
            ],
            [
             0.3333333333333333,
             "#9c179e"
            ],
            [
             0.4444444444444444,
             "#bd3786"
            ],
            [
             0.5555555555555556,
             "#d8576b"
            ],
            [
             0.6666666666666666,
             "#ed7953"
            ],
            [
             0.7777777777777778,
             "#fb9f3a"
            ],
            [
             0.8888888888888888,
             "#fdca26"
            ],
            [
             1.0,
             "#f0f921"
            ]
           ],
           "diverging": [
            [
             0,
             "#8e0152"
            ],
            [
             0.1,
             "#c51b7d"
            ],
            [
             0.2,
             "#de77ae"
            ],
            [
             0.3,
             "#f1b6da"
            ],
            [
             0.4,
             "#fde0ef"
            ],
            [
             0.5,
             "#f7f7f7"
            ],
            [
             0.6,
             "#e6f5d0"
            ],
            [
             0.7,
             "#b8e186"
            ],
            [
             0.8,
             "#7fbc41"
            ],
            [
             0.9,
             "#4d9221"
            ],
            [
             1,
             "#276419"
            ]
           ]
          },
          "xaxis": {
           "gridcolor": "#283442",
           "linecolor": "#506784",
           "ticks": "",
           "title": {
            "standoff": 15
           },
           "zerolinecolor": "#283442",
           "automargin": true,
           "zerolinewidth": 2
          },
          "yaxis": {
           "gridcolor": "#283442",
           "linecolor": "#506784",
           "ticks": "",
           "title": {
            "standoff": 15
           },
           "zerolinecolor": "#283442",
           "automargin": true,
           "zerolinewidth": 2
          },
          "scene": {
           "xaxis": {
            "backgroundcolor": "rgb(17,17,17)",
            "gridcolor": "#506784",
            "linecolor": "#506784",
            "showbackground": true,
            "ticks": "",
            "zerolinecolor": "#C8D4E3",
            "gridwidth": 2
           },
           "yaxis": {
            "backgroundcolor": "rgb(17,17,17)",
            "gridcolor": "#506784",
            "linecolor": "#506784",
            "showbackground": true,
            "ticks": "",
            "zerolinecolor": "#C8D4E3",
            "gridwidth": 2
           },
           "zaxis": {
            "backgroundcolor": "rgb(17,17,17)",
            "gridcolor": "#506784",
            "linecolor": "#506784",
            "showbackground": true,
            "ticks": "",
            "zerolinecolor": "#C8D4E3",
            "gridwidth": 2
           }
          },
          "shapedefaults": {
           "line": {
            "color": "#f2f5fa"
           }
          },
          "annotationdefaults": {
           "arrowcolor": "#f2f5fa",
           "arrowhead": 0,
           "arrowwidth": 1
          },
          "geo": {
           "bgcolor": "rgb(17,17,17)",
           "landcolor": "rgb(17,17,17)",
           "subunitcolor": "#506784",
           "showland": true,
           "showlakes": true,
           "lakecolor": "rgb(17,17,17)"
          },
          "title": {
           "x": 0.05
          },
          "updatemenudefaults": {
           "bgcolor": "#506784",
           "borderwidth": 0
          },
          "sliderdefaults": {
           "bgcolor": "#C8D4E3",
           "borderwidth": 1,
           "bordercolor": "rgb(17,17,17)",
           "tickwidth": 0
          },
          "mapbox": {
           "style": "dark"
          }
         }
        },
        "coloraxis": {
         "colorbar": {
          "title": {
           "text": "count"
          }
         },
         "colorscale": [
          [
           0.0,
           "rgb(247,252,245)"
          ],
          [
           0.125,
           "rgb(229,245,224)"
          ],
          [
           0.25,
           "rgb(199,233,192)"
          ],
          [
           0.375,
           "rgb(161,217,155)"
          ],
          [
           0.5,
           "rgb(116,196,118)"
          ],
          [
           0.625,
           "rgb(65,171,93)"
          ],
          [
           0.75,
           "rgb(35,139,69)"
          ],
          [
           0.875,
           "rgb(0,109,44)"
          ],
          [
           1.0,
           "rgb(0,68,27)"
          ]
         ]
        },
        "legend": {
         "tracegroupgap": 0
        },
        "title": {
         "text": "Most Common Words in Politics Articles"
        },
        "height": 400,
        "width": 1000,
        "margin": {
         "t": 50,
         "l": 25,
         "r": 25,
         "b": 25
        },
        "font": {
         "size": 14
        }
       },
       "config": {
        "plotlyServerURL": "https://plot.ly"
       }
      }
     },
     "metadata": {},
     "output_type": "display_data"
    },
    {
     "data": {
      "application/vnd.plotly.v1+json": {
       "data": [
        {
         "branchvalues": "total",
         "customdata": {
          "dtype": "f8",
          "bdata": "AAAAAAAAdkAAAAAAAKB1QAAAAAAAcHRAAAAAAABgckAAAAAAADByQAAAAAAAEHJAAAAAAADAcEAAAAAAAFBwQAAAAAAAMHBAAAAAAADAaUAAAAAAAMBpQAAAAAAAYGlAAAAAAABAaEAAAAAAACBoQAAAAAAAAGhAAAAAAADAZ0AAAAAAAKBnQAAAAAAAwGZAAAAAAACAZkAAAAAAAGBmQAAAAAAAQGZAAAAAAAAgZkAAAAAAACBlQAAAAAAAIGVAAAAAAADAZEAAAAAAACBkQAAAAAAAgGNAAAAAAABAY0AAAAAAAMBiQAAAAAAAgGJA",
          "shape": "30, 1"
         },
         "domain": {
          "x": [
           0.0,
           1.0
          ],
          "y": [
           0.0,
           1.0
          ]
         },
         "hovertemplate": "<b>%{label}</b><br>Count: %{value}<extra></extra>",
         "ids": [
          "game",
          "first",
          "england",
          "time",
          "win",
          "two",
          "world",
          "back",
          "last",
          "cup",
          "players",
          "team",
          "half",
          "play",
          "ireland",
          "side",
          "second",
          "wales",
          "final",
          "match",
          "six",
          "three",
          "good",
          "could",
          "season",
          "set",
          "france",
          "chelsea",
          "old",
          "coach"
         ],
         "labels": [
          "game",
          "first",
          "england",
          "time",
          "win",
          "two",
          "world",
          "back",
          "last",
          "cup",
          "players",
          "team",
          "half",
          "play",
          "ireland",
          "side",
          "second",
          "wales",
          "final",
          "match",
          "six",
          "three",
          "good",
          "could",
          "season",
          "set",
          "france",
          "chelsea",
          "old",
          "coach"
         ],
         "marker": {
          "coloraxis": "coloraxis",
          "colors": {
           "dtype": "f8",
           "bdata": "AAAAAAAAdkAAAAAAAKB1QAAAAAAAcHRAAAAAAABgckAAAAAAADByQAAAAAAAEHJAAAAAAADAcEAAAAAAAFBwQAAAAAAAMHBAAAAAAADAaUAAAAAAAMBpQAAAAAAAYGlAAAAAAABAaEAAAAAAACBoQAAAAAAAAGhAAAAAAADAZ0AAAAAAAKBnQAAAAAAAwGZAAAAAAACAZkAAAAAAAGBmQAAAAAAAQGZAAAAAAAAgZkAAAAAAACBlQAAAAAAAIGVAAAAAAADAZEAAAAAAACBkQAAAAAAAgGNAAAAAAABAY0AAAAAAAMBiQAAAAAAAgGJA"
          }
         },
         "name": "",
         "parents": [
          "",
          "",
          "",
          "",
          "",
          "",
          "",
          "",
          "",
          "",
          "",
          "",
          "",
          "",
          "",
          "",
          "",
          "",
          "",
          "",
          "",
          "",
          "",
          "",
          "",
          "",
          "",
          "",
          "",
          ""
         ],
         "values": {
          "dtype": "f8",
          "bdata": "AAAAAAAAdkAAAAAAAKB1QAAAAAAAcHRAAAAAAABgckAAAAAAADByQAAAAAAAEHJAAAAAAADAcEAAAAAAAFBwQAAAAAAAMHBAAAAAAADAaUAAAAAAAMBpQAAAAAAAYGlAAAAAAABAaEAAAAAAACBoQAAAAAAAAGhAAAAAAADAZ0AAAAAAAKBnQAAAAAAAwGZAAAAAAACAZkAAAAAAAGBmQAAAAAAAQGZAAAAAAAAgZkAAAAAAACBlQAAAAAAAIGVAAAAAAADAZEAAAAAAACBkQAAAAAAAgGNAAAAAAABAY0AAAAAAAMBiQAAAAAAAgGJA"
         },
         "type": "treemap",
         "textinfo": "label+value"
        }
       ],
       "layout": {
        "template": {
         "data": {
          "histogram2dcontour": [
           {
            "type": "histogram2dcontour",
            "colorbar": {
             "outlinewidth": 0,
             "ticks": ""
            },
            "colorscale": [
             [
              0.0,
              "#0d0887"
             ],
             [
              0.1111111111111111,
              "#46039f"
             ],
             [
              0.2222222222222222,
              "#7201a8"
             ],
             [
              0.3333333333333333,
              "#9c179e"
             ],
             [
              0.4444444444444444,
              "#bd3786"
             ],
             [
              0.5555555555555556,
              "#d8576b"
             ],
             [
              0.6666666666666666,
              "#ed7953"
             ],
             [
              0.7777777777777778,
              "#fb9f3a"
             ],
             [
              0.8888888888888888,
              "#fdca26"
             ],
             [
              1.0,
              "#f0f921"
             ]
            ]
           }
          ],
          "choropleth": [
           {
            "type": "choropleth",
            "colorbar": {
             "outlinewidth": 0,
             "ticks": ""
            }
           }
          ],
          "histogram2d": [
           {
            "type": "histogram2d",
            "colorbar": {
             "outlinewidth": 0,
             "ticks": ""
            },
            "colorscale": [
             [
              0.0,
              "#0d0887"
             ],
             [
              0.1111111111111111,
              "#46039f"
             ],
             [
              0.2222222222222222,
              "#7201a8"
             ],
             [
              0.3333333333333333,
              "#9c179e"
             ],
             [
              0.4444444444444444,
              "#bd3786"
             ],
             [
              0.5555555555555556,
              "#d8576b"
             ],
             [
              0.6666666666666666,
              "#ed7953"
             ],
             [
              0.7777777777777778,
              "#fb9f3a"
             ],
             [
              0.8888888888888888,
              "#fdca26"
             ],
             [
              1.0,
              "#f0f921"
             ]
            ]
           }
          ],
          "heatmap": [
           {
            "type": "heatmap",
            "colorbar": {
             "outlinewidth": 0,
             "ticks": ""
            },
            "colorscale": [
             [
              0.0,
              "#0d0887"
             ],
             [
              0.1111111111111111,
              "#46039f"
             ],
             [
              0.2222222222222222,
              "#7201a8"
             ],
             [
              0.3333333333333333,
              "#9c179e"
             ],
             [
              0.4444444444444444,
              "#bd3786"
             ],
             [
              0.5555555555555556,
              "#d8576b"
             ],
             [
              0.6666666666666666,
              "#ed7953"
             ],
             [
              0.7777777777777778,
              "#fb9f3a"
             ],
             [
              0.8888888888888888,
              "#fdca26"
             ],
             [
              1.0,
              "#f0f921"
             ]
            ]
           }
          ],
          "contourcarpet": [
           {
            "type": "contourcarpet",
            "colorbar": {
             "outlinewidth": 0,
             "ticks": ""
            }
           }
          ],
          "contour": [
           {
            "type": "contour",
            "colorbar": {
             "outlinewidth": 0,
             "ticks": ""
            },
            "colorscale": [
             [
              0.0,
              "#0d0887"
             ],
             [
              0.1111111111111111,
              "#46039f"
             ],
             [
              0.2222222222222222,
              "#7201a8"
             ],
             [
              0.3333333333333333,
              "#9c179e"
             ],
             [
              0.4444444444444444,
              "#bd3786"
             ],
             [
              0.5555555555555556,
              "#d8576b"
             ],
             [
              0.6666666666666666,
              "#ed7953"
             ],
             [
              0.7777777777777778,
              "#fb9f3a"
             ],
             [
              0.8888888888888888,
              "#fdca26"
             ],
             [
              1.0,
              "#f0f921"
             ]
            ]
           }
          ],
          "surface": [
           {
            "type": "surface",
            "colorbar": {
             "outlinewidth": 0,
             "ticks": ""
            },
            "colorscale": [
             [
              0.0,
              "#0d0887"
             ],
             [
              0.1111111111111111,
              "#46039f"
             ],
             [
              0.2222222222222222,
              "#7201a8"
             ],
             [
              0.3333333333333333,
              "#9c179e"
             ],
             [
              0.4444444444444444,
              "#bd3786"
             ],
             [
              0.5555555555555556,
              "#d8576b"
             ],
             [
              0.6666666666666666,
              "#ed7953"
             ],
             [
              0.7777777777777778,
              "#fb9f3a"
             ],
             [
              0.8888888888888888,
              "#fdca26"
             ],
             [
              1.0,
              "#f0f921"
             ]
            ]
           }
          ],
          "mesh3d": [
           {
            "type": "mesh3d",
            "colorbar": {
             "outlinewidth": 0,
             "ticks": ""
            }
           }
          ],
          "scatter": [
           {
            "marker": {
             "line": {
              "color": "#283442"
             }
            },
            "type": "scatter"
           }
          ],
          "parcoords": [
           {
            "type": "parcoords",
            "line": {
             "colorbar": {
              "outlinewidth": 0,
              "ticks": ""
             }
            }
           }
          ],
          "scatterpolargl": [
           {
            "type": "scatterpolargl",
            "marker": {
             "colorbar": {
              "outlinewidth": 0,
              "ticks": ""
             }
            }
           }
          ],
          "bar": [
           {
            "error_x": {
             "color": "#f2f5fa"
            },
            "error_y": {
             "color": "#f2f5fa"
            },
            "marker": {
             "line": {
              "color": "rgb(17,17,17)",
              "width": 0.5
             },
             "pattern": {
              "fillmode": "overlay",
              "size": 10,
              "solidity": 0.2
             }
            },
            "type": "bar"
           }
          ],
          "scattergeo": [
           {
            "type": "scattergeo",
            "marker": {
             "colorbar": {
              "outlinewidth": 0,
              "ticks": ""
             }
            }
           }
          ],
          "scatterpolar": [
           {
            "type": "scatterpolar",
            "marker": {
             "colorbar": {
              "outlinewidth": 0,
              "ticks": ""
             }
            }
           }
          ],
          "histogram": [
           {
            "marker": {
             "pattern": {
              "fillmode": "overlay",
              "size": 10,
              "solidity": 0.2
             }
            },
            "type": "histogram"
           }
          ],
          "scattergl": [
           {
            "marker": {
             "line": {
              "color": "#283442"
             }
            },
            "type": "scattergl"
           }
          ],
          "scatter3d": [
           {
            "type": "scatter3d",
            "line": {
             "colorbar": {
              "outlinewidth": 0,
              "ticks": ""
             }
            },
            "marker": {
             "colorbar": {
              "outlinewidth": 0,
              "ticks": ""
             }
            }
           }
          ],
          "scattermap": [
           {
            "type": "scattermap",
            "marker": {
             "colorbar": {
              "outlinewidth": 0,
              "ticks": ""
             }
            }
           }
          ],
          "scattermapbox": [
           {
            "type": "scattermapbox",
            "marker": {
             "colorbar": {
              "outlinewidth": 0,
              "ticks": ""
             }
            }
           }
          ],
          "scatterternary": [
           {
            "type": "scatterternary",
            "marker": {
             "colorbar": {
              "outlinewidth": 0,
              "ticks": ""
             }
            }
           }
          ],
          "scattercarpet": [
           {
            "type": "scattercarpet",
            "marker": {
             "colorbar": {
              "outlinewidth": 0,
              "ticks": ""
             }
            }
           }
          ],
          "carpet": [
           {
            "aaxis": {
             "endlinecolor": "#A2B1C6",
             "gridcolor": "#506784",
             "linecolor": "#506784",
             "minorgridcolor": "#506784",
             "startlinecolor": "#A2B1C6"
            },
            "baxis": {
             "endlinecolor": "#A2B1C6",
             "gridcolor": "#506784",
             "linecolor": "#506784",
             "minorgridcolor": "#506784",
             "startlinecolor": "#A2B1C6"
            },
            "type": "carpet"
           }
          ],
          "table": [
           {
            "cells": {
             "fill": {
              "color": "#506784"
             },
             "line": {
              "color": "rgb(17,17,17)"
             }
            },
            "header": {
             "fill": {
              "color": "#2a3f5f"
             },
             "line": {
              "color": "rgb(17,17,17)"
             }
            },
            "type": "table"
           }
          ],
          "barpolar": [
           {
            "marker": {
             "line": {
              "color": "rgb(17,17,17)",
              "width": 0.5
             },
             "pattern": {
              "fillmode": "overlay",
              "size": 10,
              "solidity": 0.2
             }
            },
            "type": "barpolar"
           }
          ],
          "pie": [
           {
            "automargin": true,
            "type": "pie"
           }
          ]
         },
         "layout": {
          "autotypenumbers": "strict",
          "colorway": [
           "#636efa",
           "#EF553B",
           "#00cc96",
           "#ab63fa",
           "#FFA15A",
           "#19d3f3",
           "#FF6692",
           "#B6E880",
           "#FF97FF",
           "#FECB52"
          ],
          "font": {
           "color": "#f2f5fa"
          },
          "hovermode": "closest",
          "hoverlabel": {
           "align": "left"
          },
          "paper_bgcolor": "rgb(17,17,17)",
          "plot_bgcolor": "rgb(17,17,17)",
          "polar": {
           "bgcolor": "rgb(17,17,17)",
           "angularaxis": {
            "gridcolor": "#506784",
            "linecolor": "#506784",
            "ticks": ""
           },
           "radialaxis": {
            "gridcolor": "#506784",
            "linecolor": "#506784",
            "ticks": ""
           }
          },
          "ternary": {
           "bgcolor": "rgb(17,17,17)",
           "aaxis": {
            "gridcolor": "#506784",
            "linecolor": "#506784",
            "ticks": ""
           },
           "baxis": {
            "gridcolor": "#506784",
            "linecolor": "#506784",
            "ticks": ""
           },
           "caxis": {
            "gridcolor": "#506784",
            "linecolor": "#506784",
            "ticks": ""
           }
          },
          "coloraxis": {
           "colorbar": {
            "outlinewidth": 0,
            "ticks": ""
           }
          },
          "colorscale": {
           "sequential": [
            [
             0.0,
             "#0d0887"
            ],
            [
             0.1111111111111111,
             "#46039f"
            ],
            [
             0.2222222222222222,
             "#7201a8"
            ],
            [
             0.3333333333333333,
             "#9c179e"
            ],
            [
             0.4444444444444444,
             "#bd3786"
            ],
            [
             0.5555555555555556,
             "#d8576b"
            ],
            [
             0.6666666666666666,
             "#ed7953"
            ],
            [
             0.7777777777777778,
             "#fb9f3a"
            ],
            [
             0.8888888888888888,
             "#fdca26"
            ],
            [
             1.0,
             "#f0f921"
            ]
           ],
           "sequentialminus": [
            [
             0.0,
             "#0d0887"
            ],
            [
             0.1111111111111111,
             "#46039f"
            ],
            [
             0.2222222222222222,
             "#7201a8"
            ],
            [
             0.3333333333333333,
             "#9c179e"
            ],
            [
             0.4444444444444444,
             "#bd3786"
            ],
            [
             0.5555555555555556,
             "#d8576b"
            ],
            [
             0.6666666666666666,
             "#ed7953"
            ],
            [
             0.7777777777777778,
             "#fb9f3a"
            ],
            [
             0.8888888888888888,
             "#fdca26"
            ],
            [
             1.0,
             "#f0f921"
            ]
           ],
           "diverging": [
            [
             0,
             "#8e0152"
            ],
            [
             0.1,
             "#c51b7d"
            ],
            [
             0.2,
             "#de77ae"
            ],
            [
             0.3,
             "#f1b6da"
            ],
            [
             0.4,
             "#fde0ef"
            ],
            [
             0.5,
             "#f7f7f7"
            ],
            [
             0.6,
             "#e6f5d0"
            ],
            [
             0.7,
             "#b8e186"
            ],
            [
             0.8,
             "#7fbc41"
            ],
            [
             0.9,
             "#4d9221"
            ],
            [
             1,
             "#276419"
            ]
           ]
          },
          "xaxis": {
           "gridcolor": "#283442",
           "linecolor": "#506784",
           "ticks": "",
           "title": {
            "standoff": 15
           },
           "zerolinecolor": "#283442",
           "automargin": true,
           "zerolinewidth": 2
          },
          "yaxis": {
           "gridcolor": "#283442",
           "linecolor": "#506784",
           "ticks": "",
           "title": {
            "standoff": 15
           },
           "zerolinecolor": "#283442",
           "automargin": true,
           "zerolinewidth": 2
          },
          "scene": {
           "xaxis": {
            "backgroundcolor": "rgb(17,17,17)",
            "gridcolor": "#506784",
            "linecolor": "#506784",
            "showbackground": true,
            "ticks": "",
            "zerolinecolor": "#C8D4E3",
            "gridwidth": 2
           },
           "yaxis": {
            "backgroundcolor": "rgb(17,17,17)",
            "gridcolor": "#506784",
            "linecolor": "#506784",
            "showbackground": true,
            "ticks": "",
            "zerolinecolor": "#C8D4E3",
            "gridwidth": 2
           },
           "zaxis": {
            "backgroundcolor": "rgb(17,17,17)",
            "gridcolor": "#506784",
            "linecolor": "#506784",
            "showbackground": true,
            "ticks": "",
            "zerolinecolor": "#C8D4E3",
            "gridwidth": 2
           }
          },
          "shapedefaults": {
           "line": {
            "color": "#f2f5fa"
           }
          },
          "annotationdefaults": {
           "arrowcolor": "#f2f5fa",
           "arrowhead": 0,
           "arrowwidth": 1
          },
          "geo": {
           "bgcolor": "rgb(17,17,17)",
           "landcolor": "rgb(17,17,17)",
           "subunitcolor": "#506784",
           "showland": true,
           "showlakes": true,
           "lakecolor": "rgb(17,17,17)"
          },
          "title": {
           "x": 0.05
          },
          "updatemenudefaults": {
           "bgcolor": "#506784",
           "borderwidth": 0
          },
          "sliderdefaults": {
           "bgcolor": "#C8D4E3",
           "borderwidth": 1,
           "bordercolor": "rgb(17,17,17)",
           "tickwidth": 0
          },
          "mapbox": {
           "style": "dark"
          }
         }
        },
        "coloraxis": {
         "colorbar": {
          "title": {
           "text": "count"
          }
         },
         "colorscale": [
          [
           0.0,
           "rgb(255,245,240)"
          ],
          [
           0.125,
           "rgb(254,224,210)"
          ],
          [
           0.25,
           "rgb(252,187,161)"
          ],
          [
           0.375,
           "rgb(252,146,114)"
          ],
          [
           0.5,
           "rgb(251,106,74)"
          ],
          [
           0.625,
           "rgb(239,59,44)"
          ],
          [
           0.75,
           "rgb(203,24,29)"
          ],
          [
           0.875,
           "rgb(165,15,21)"
          ],
          [
           1.0,
           "rgb(103,0,13)"
          ]
         ]
        },
        "legend": {
         "tracegroupgap": 0
        },
        "title": {
         "text": "Most Common Words in Sport Articles"
        },
        "height": 400,
        "width": 1000,
        "margin": {
         "t": 50,
         "l": 25,
         "r": 25,
         "b": 25
        },
        "font": {
         "size": 14
        }
       },
       "config": {
        "plotlyServerURL": "https://plot.ly"
       }
      }
     },
     "metadata": {},
     "output_type": "display_data"
    },
    {
     "data": {
      "application/vnd.plotly.v1+json": {
       "data": [
        {
         "branchvalues": "total",
         "customdata": {
          "dtype": "f8",
          "bdata": "AAAAAAA4gUAAAAAAAPB5QAAAAAAAoG5AAAAAAABAa0AAAAAAAIBmQAAAAAAAIGZAAAAAAABgZEAAAAAAAEBjQAAAAAAAIGNAAAAAAAAAY0AAAAAAAOBiQAAAAAAAwGJAAAAAAADAYkAAAAAAACBiQAAAAAAA4GBAAAAAAACAYEAAAAAAAGBgQAAAAAAAQGBAAAAAAABAYEAAAAAAAABgQAAAAAAAgF9AAAAAAADAXkAAAAAAAABeQAAAAAAAgFxAAAAAAADAWkAAAAAAAEBZQAAAAAAAgFhAAAAAAACAWEAAAAAAAEBYQAAAAAAAQFhA",
          "shape": "30, 1"
         },
         "domain": {
          "x": [
           0.0,
           1.0
          ],
          "y": [
           0.0,
           1.0
          ]
         },
         "hovertemplate": "<b>%{label}</b><br>Count: %{value}<extra></extra>",
         "ids": [
          "film",
          "best",
          "music",
          "show",
          "awards",
          "first",
          "actor",
          "star",
          "director",
          "last",
          "band",
          "award",
          "number",
          "two",
          "films",
          "time",
          "top",
          "british",
          "years",
          "bbc",
          "people",
          "three",
          "album",
          "actress",
          "including",
          "oscar",
          "world",
          "singer",
          "made",
          "stars"
         ],
         "labels": [
          "film",
          "best",
          "music",
          "show",
          "awards",
          "first",
          "actor",
          "star",
          "director",
          "last",
          "band",
          "award",
          "number",
          "two",
          "films",
          "time",
          "top",
          "british",
          "years",
          "bbc",
          "people",
          "three",
          "album",
          "actress",
          "including",
          "oscar",
          "world",
          "singer",
          "made",
          "stars"
         ],
         "marker": {
          "coloraxis": "coloraxis",
          "colors": {
           "dtype": "f8",
           "bdata": "AAAAAAA4gUAAAAAAAPB5QAAAAAAAoG5AAAAAAABAa0AAAAAAAIBmQAAAAAAAIGZAAAAAAABgZEAAAAAAAEBjQAAAAAAAIGNAAAAAAAAAY0AAAAAAAOBiQAAAAAAAwGJAAAAAAADAYkAAAAAAACBiQAAAAAAA4GBAAAAAAACAYEAAAAAAAGBgQAAAAAAAQGBAAAAAAABAYEAAAAAAAABgQAAAAAAAgF9AAAAAAADAXkAAAAAAAABeQAAAAAAAgFxAAAAAAADAWkAAAAAAAEBZQAAAAAAAgFhAAAAAAACAWEAAAAAAAEBYQAAAAAAAQFhA"
          }
         },
         "name": "",
         "parents": [
          "",
          "",
          "",
          "",
          "",
          "",
          "",
          "",
          "",
          "",
          "",
          "",
          "",
          "",
          "",
          "",
          "",
          "",
          "",
          "",
          "",
          "",
          "",
          "",
          "",
          "",
          "",
          "",
          "",
          ""
         ],
         "values": {
          "dtype": "f8",
          "bdata": "AAAAAAA4gUAAAAAAAPB5QAAAAAAAoG5AAAAAAABAa0AAAAAAAIBmQAAAAAAAIGZAAAAAAABgZEAAAAAAAEBjQAAAAAAAIGNAAAAAAAAAY0AAAAAAAOBiQAAAAAAAwGJAAAAAAADAYkAAAAAAACBiQAAAAAAA4GBAAAAAAACAYEAAAAAAAGBgQAAAAAAAQGBAAAAAAABAYEAAAAAAAABgQAAAAAAAgF9AAAAAAADAXkAAAAAAAABeQAAAAAAAgFxAAAAAAADAWkAAAAAAAEBZQAAAAAAAgFhAAAAAAACAWEAAAAAAAEBYQAAAAAAAQFhA"
         },
         "type": "treemap",
         "textinfo": "label+value"
        }
       ],
       "layout": {
        "template": {
         "data": {
          "histogram2dcontour": [
           {
            "type": "histogram2dcontour",
            "colorbar": {
             "outlinewidth": 0,
             "ticks": ""
            },
            "colorscale": [
             [
              0.0,
              "#0d0887"
             ],
             [
              0.1111111111111111,
              "#46039f"
             ],
             [
              0.2222222222222222,
              "#7201a8"
             ],
             [
              0.3333333333333333,
              "#9c179e"
             ],
             [
              0.4444444444444444,
              "#bd3786"
             ],
             [
              0.5555555555555556,
              "#d8576b"
             ],
             [
              0.6666666666666666,
              "#ed7953"
             ],
             [
              0.7777777777777778,
              "#fb9f3a"
             ],
             [
              0.8888888888888888,
              "#fdca26"
             ],
             [
              1.0,
              "#f0f921"
             ]
            ]
           }
          ],
          "choropleth": [
           {
            "type": "choropleth",
            "colorbar": {
             "outlinewidth": 0,
             "ticks": ""
            }
           }
          ],
          "histogram2d": [
           {
            "type": "histogram2d",
            "colorbar": {
             "outlinewidth": 0,
             "ticks": ""
            },
            "colorscale": [
             [
              0.0,
              "#0d0887"
             ],
             [
              0.1111111111111111,
              "#46039f"
             ],
             [
              0.2222222222222222,
              "#7201a8"
             ],
             [
              0.3333333333333333,
              "#9c179e"
             ],
             [
              0.4444444444444444,
              "#bd3786"
             ],
             [
              0.5555555555555556,
              "#d8576b"
             ],
             [
              0.6666666666666666,
              "#ed7953"
             ],
             [
              0.7777777777777778,
              "#fb9f3a"
             ],
             [
              0.8888888888888888,
              "#fdca26"
             ],
             [
              1.0,
              "#f0f921"
             ]
            ]
           }
          ],
          "heatmap": [
           {
            "type": "heatmap",
            "colorbar": {
             "outlinewidth": 0,
             "ticks": ""
            },
            "colorscale": [
             [
              0.0,
              "#0d0887"
             ],
             [
              0.1111111111111111,
              "#46039f"
             ],
             [
              0.2222222222222222,
              "#7201a8"
             ],
             [
              0.3333333333333333,
              "#9c179e"
             ],
             [
              0.4444444444444444,
              "#bd3786"
             ],
             [
              0.5555555555555556,
              "#d8576b"
             ],
             [
              0.6666666666666666,
              "#ed7953"
             ],
             [
              0.7777777777777778,
              "#fb9f3a"
             ],
             [
              0.8888888888888888,
              "#fdca26"
             ],
             [
              1.0,
              "#f0f921"
             ]
            ]
           }
          ],
          "contourcarpet": [
           {
            "type": "contourcarpet",
            "colorbar": {
             "outlinewidth": 0,
             "ticks": ""
            }
           }
          ],
          "contour": [
           {
            "type": "contour",
            "colorbar": {
             "outlinewidth": 0,
             "ticks": ""
            },
            "colorscale": [
             [
              0.0,
              "#0d0887"
             ],
             [
              0.1111111111111111,
              "#46039f"
             ],
             [
              0.2222222222222222,
              "#7201a8"
             ],
             [
              0.3333333333333333,
              "#9c179e"
             ],
             [
              0.4444444444444444,
              "#bd3786"
             ],
             [
              0.5555555555555556,
              "#d8576b"
             ],
             [
              0.6666666666666666,
              "#ed7953"
             ],
             [
              0.7777777777777778,
              "#fb9f3a"
             ],
             [
              0.8888888888888888,
              "#fdca26"
             ],
             [
              1.0,
              "#f0f921"
             ]
            ]
           }
          ],
          "surface": [
           {
            "type": "surface",
            "colorbar": {
             "outlinewidth": 0,
             "ticks": ""
            },
            "colorscale": [
             [
              0.0,
              "#0d0887"
             ],
             [
              0.1111111111111111,
              "#46039f"
             ],
             [
              0.2222222222222222,
              "#7201a8"
             ],
             [
              0.3333333333333333,
              "#9c179e"
             ],
             [
              0.4444444444444444,
              "#bd3786"
             ],
             [
              0.5555555555555556,
              "#d8576b"
             ],
             [
              0.6666666666666666,
              "#ed7953"
             ],
             [
              0.7777777777777778,
              "#fb9f3a"
             ],
             [
              0.8888888888888888,
              "#fdca26"
             ],
             [
              1.0,
              "#f0f921"
             ]
            ]
           }
          ],
          "mesh3d": [
           {
            "type": "mesh3d",
            "colorbar": {
             "outlinewidth": 0,
             "ticks": ""
            }
           }
          ],
          "scatter": [
           {
            "marker": {
             "line": {
              "color": "#283442"
             }
            },
            "type": "scatter"
           }
          ],
          "parcoords": [
           {
            "type": "parcoords",
            "line": {
             "colorbar": {
              "outlinewidth": 0,
              "ticks": ""
             }
            }
           }
          ],
          "scatterpolargl": [
           {
            "type": "scatterpolargl",
            "marker": {
             "colorbar": {
              "outlinewidth": 0,
              "ticks": ""
             }
            }
           }
          ],
          "bar": [
           {
            "error_x": {
             "color": "#f2f5fa"
            },
            "error_y": {
             "color": "#f2f5fa"
            },
            "marker": {
             "line": {
              "color": "rgb(17,17,17)",
              "width": 0.5
             },
             "pattern": {
              "fillmode": "overlay",
              "size": 10,
              "solidity": 0.2
             }
            },
            "type": "bar"
           }
          ],
          "scattergeo": [
           {
            "type": "scattergeo",
            "marker": {
             "colorbar": {
              "outlinewidth": 0,
              "ticks": ""
             }
            }
           }
          ],
          "scatterpolar": [
           {
            "type": "scatterpolar",
            "marker": {
             "colorbar": {
              "outlinewidth": 0,
              "ticks": ""
             }
            }
           }
          ],
          "histogram": [
           {
            "marker": {
             "pattern": {
              "fillmode": "overlay",
              "size": 10,
              "solidity": 0.2
             }
            },
            "type": "histogram"
           }
          ],
          "scattergl": [
           {
            "marker": {
             "line": {
              "color": "#283442"
             }
            },
            "type": "scattergl"
           }
          ],
          "scatter3d": [
           {
            "type": "scatter3d",
            "line": {
             "colorbar": {
              "outlinewidth": 0,
              "ticks": ""
             }
            },
            "marker": {
             "colorbar": {
              "outlinewidth": 0,
              "ticks": ""
             }
            }
           }
          ],
          "scattermap": [
           {
            "type": "scattermap",
            "marker": {
             "colorbar": {
              "outlinewidth": 0,
              "ticks": ""
             }
            }
           }
          ],
          "scattermapbox": [
           {
            "type": "scattermapbox",
            "marker": {
             "colorbar": {
              "outlinewidth": 0,
              "ticks": ""
             }
            }
           }
          ],
          "scatterternary": [
           {
            "type": "scatterternary",
            "marker": {
             "colorbar": {
              "outlinewidth": 0,
              "ticks": ""
             }
            }
           }
          ],
          "scattercarpet": [
           {
            "type": "scattercarpet",
            "marker": {
             "colorbar": {
              "outlinewidth": 0,
              "ticks": ""
             }
            }
           }
          ],
          "carpet": [
           {
            "aaxis": {
             "endlinecolor": "#A2B1C6",
             "gridcolor": "#506784",
             "linecolor": "#506784",
             "minorgridcolor": "#506784",
             "startlinecolor": "#A2B1C6"
            },
            "baxis": {
             "endlinecolor": "#A2B1C6",
             "gridcolor": "#506784",
             "linecolor": "#506784",
             "minorgridcolor": "#506784",
             "startlinecolor": "#A2B1C6"
            },
            "type": "carpet"
           }
          ],
          "table": [
           {
            "cells": {
             "fill": {
              "color": "#506784"
             },
             "line": {
              "color": "rgb(17,17,17)"
             }
            },
            "header": {
             "fill": {
              "color": "#2a3f5f"
             },
             "line": {
              "color": "rgb(17,17,17)"
             }
            },
            "type": "table"
           }
          ],
          "barpolar": [
           {
            "marker": {
             "line": {
              "color": "rgb(17,17,17)",
              "width": 0.5
             },
             "pattern": {
              "fillmode": "overlay",
              "size": 10,
              "solidity": 0.2
             }
            },
            "type": "barpolar"
           }
          ],
          "pie": [
           {
            "automargin": true,
            "type": "pie"
           }
          ]
         },
         "layout": {
          "autotypenumbers": "strict",
          "colorway": [
           "#636efa",
           "#EF553B",
           "#00cc96",
           "#ab63fa",
           "#FFA15A",
           "#19d3f3",
           "#FF6692",
           "#B6E880",
           "#FF97FF",
           "#FECB52"
          ],
          "font": {
           "color": "#f2f5fa"
          },
          "hovermode": "closest",
          "hoverlabel": {
           "align": "left"
          },
          "paper_bgcolor": "rgb(17,17,17)",
          "plot_bgcolor": "rgb(17,17,17)",
          "polar": {
           "bgcolor": "rgb(17,17,17)",
           "angularaxis": {
            "gridcolor": "#506784",
            "linecolor": "#506784",
            "ticks": ""
           },
           "radialaxis": {
            "gridcolor": "#506784",
            "linecolor": "#506784",
            "ticks": ""
           }
          },
          "ternary": {
           "bgcolor": "rgb(17,17,17)",
           "aaxis": {
            "gridcolor": "#506784",
            "linecolor": "#506784",
            "ticks": ""
           },
           "baxis": {
            "gridcolor": "#506784",
            "linecolor": "#506784",
            "ticks": ""
           },
           "caxis": {
            "gridcolor": "#506784",
            "linecolor": "#506784",
            "ticks": ""
           }
          },
          "coloraxis": {
           "colorbar": {
            "outlinewidth": 0,
            "ticks": ""
           }
          },
          "colorscale": {
           "sequential": [
            [
             0.0,
             "#0d0887"
            ],
            [
             0.1111111111111111,
             "#46039f"
            ],
            [
             0.2222222222222222,
             "#7201a8"
            ],
            [
             0.3333333333333333,
             "#9c179e"
            ],
            [
             0.4444444444444444,
             "#bd3786"
            ],
            [
             0.5555555555555556,
             "#d8576b"
            ],
            [
             0.6666666666666666,
             "#ed7953"
            ],
            [
             0.7777777777777778,
             "#fb9f3a"
            ],
            [
             0.8888888888888888,
             "#fdca26"
            ],
            [
             1.0,
             "#f0f921"
            ]
           ],
           "sequentialminus": [
            [
             0.0,
             "#0d0887"
            ],
            [
             0.1111111111111111,
             "#46039f"
            ],
            [
             0.2222222222222222,
             "#7201a8"
            ],
            [
             0.3333333333333333,
             "#9c179e"
            ],
            [
             0.4444444444444444,
             "#bd3786"
            ],
            [
             0.5555555555555556,
             "#d8576b"
            ],
            [
             0.6666666666666666,
             "#ed7953"
            ],
            [
             0.7777777777777778,
             "#fb9f3a"
            ],
            [
             0.8888888888888888,
             "#fdca26"
            ],
            [
             1.0,
             "#f0f921"
            ]
           ],
           "diverging": [
            [
             0,
             "#8e0152"
            ],
            [
             0.1,
             "#c51b7d"
            ],
            [
             0.2,
             "#de77ae"
            ],
            [
             0.3,
             "#f1b6da"
            ],
            [
             0.4,
             "#fde0ef"
            ],
            [
             0.5,
             "#f7f7f7"
            ],
            [
             0.6,
             "#e6f5d0"
            ],
            [
             0.7,
             "#b8e186"
            ],
            [
             0.8,
             "#7fbc41"
            ],
            [
             0.9,
             "#4d9221"
            ],
            [
             1,
             "#276419"
            ]
           ]
          },
          "xaxis": {
           "gridcolor": "#283442",
           "linecolor": "#506784",
           "ticks": "",
           "title": {
            "standoff": 15
           },
           "zerolinecolor": "#283442",
           "automargin": true,
           "zerolinewidth": 2
          },
          "yaxis": {
           "gridcolor": "#283442",
           "linecolor": "#506784",
           "ticks": "",
           "title": {
            "standoff": 15
           },
           "zerolinecolor": "#283442",
           "automargin": true,
           "zerolinewidth": 2
          },
          "scene": {
           "xaxis": {
            "backgroundcolor": "rgb(17,17,17)",
            "gridcolor": "#506784",
            "linecolor": "#506784",
            "showbackground": true,
            "ticks": "",
            "zerolinecolor": "#C8D4E3",
            "gridwidth": 2
           },
           "yaxis": {
            "backgroundcolor": "rgb(17,17,17)",
            "gridcolor": "#506784",
            "linecolor": "#506784",
            "showbackground": true,
            "ticks": "",
            "zerolinecolor": "#C8D4E3",
            "gridwidth": 2
           },
           "zaxis": {
            "backgroundcolor": "rgb(17,17,17)",
            "gridcolor": "#506784",
            "linecolor": "#506784",
            "showbackground": true,
            "ticks": "",
            "zerolinecolor": "#C8D4E3",
            "gridwidth": 2
           }
          },
          "shapedefaults": {
           "line": {
            "color": "#f2f5fa"
           }
          },
          "annotationdefaults": {
           "arrowcolor": "#f2f5fa",
           "arrowhead": 0,
           "arrowwidth": 1
          },
          "geo": {
           "bgcolor": "rgb(17,17,17)",
           "landcolor": "rgb(17,17,17)",
           "subunitcolor": "#506784",
           "showland": true,
           "showlakes": true,
           "lakecolor": "rgb(17,17,17)"
          },
          "title": {
           "x": 0.05
          },
          "updatemenudefaults": {
           "bgcolor": "#506784",
           "borderwidth": 0
          },
          "sliderdefaults": {
           "bgcolor": "#C8D4E3",
           "borderwidth": 1,
           "bordercolor": "rgb(17,17,17)",
           "tickwidth": 0
          },
          "mapbox": {
           "style": "dark"
          }
         }
        },
        "coloraxis": {
         "colorbar": {
          "title": {
           "text": "count"
          }
         },
         "colorscale": [
          [
           0.0,
           "rgb(209, 238, 234)"
          ],
          [
           0.16666666666666666,
           "rgb(168, 219, 217)"
          ],
          [
           0.3333333333333333,
           "rgb(133, 196, 201)"
          ],
          [
           0.5,
           "rgb(104, 171, 184)"
          ],
          [
           0.6666666666666666,
           "rgb(79, 144, 166)"
          ],
          [
           0.8333333333333334,
           "rgb(59, 115, 143)"
          ],
          [
           1.0,
           "rgb(42, 86, 116)"
          ]
         ]
        },
        "legend": {
         "tracegroupgap": 0
        },
        "title": {
         "text": "Most Common Words in Entertainment Articles"
        },
        "height": 400,
        "width": 1000,
        "margin": {
         "t": 50,
         "l": 25,
         "r": 25,
         "b": 25
        },
        "font": {
         "size": 14
        }
       },
       "config": {
        "plotlyServerURL": "https://plot.ly"
       }
      }
     },
     "metadata": {},
     "output_type": "display_data"
    }
   ],
   "execution_count": 132
  },
  {
   "metadata": {},
   "cell_type": "markdown",
   "source": "#### Create training and test data sets",
   "id": "f7ceaa0f4e217031"
  },
  {
   "metadata": {},
   "cell_type": "code",
   "outputs": [],
   "execution_count": null,
   "source": [
    "# Split the current Train data set into a train and test sets to evaluate supervised model(s)\n",
    "X_train, X_test, y_train, y_test = train_test_split(\n",
    "    bbcnews_train.Text,\n",
    "    bbcnews_train.Category,\n",
    "    test_size=0.2,\n",
    "    random_state=42,\n",
    "    stratify=bbcnews_train.Category  # Maintain class distribution\n",
    ")"
   ],
   "id": "bd91a88d8c49f6f6"
  },
  {
   "metadata": {},
   "cell_type": "markdown",
   "source": "### Step 2. Building and training the unsupervised model",
   "id": "c858750718e3ae45"
  },
  {
   "metadata": {},
   "cell_type": "markdown",
   "source": "Create a helper function to match prediction scores with category labels.  (re-using a function from a previous class module with a minor modification for the inital lable order)",
   "id": "6825138eb8af0df1"
  },
  {
   "metadata": {
    "ExecuteTime": {
     "end_time": "2025-08-01T01:54:56.308883Z",
     "start_time": "2025-08-01T01:54:56.302784Z"
    }
   },
   "cell_type": "code",
   "source": [
    "# Helper function to match categories with NMF results\n",
    "def label_permute_compare(ytdf,yp,labels):\n",
    "    \"\"\"\n",
    "    ytdf: labels dataframe object\n",
    "    yp: clustering label prediction output\n",
    "    Returns permuted label order and accuracy.\n",
    "    Example output: (3, 4, 1, 2, 0), 0.74\n",
    "    \"\"\"\n",
    "    print(f\"using labels list: {labels}\")\n",
    "    perms = [list(perm) for perm in itertools.permutations(labels, len(labels))]  # create a list of permutations for the labels\n",
    "\n",
    "    # convert target labels df to array\n",
    "    ytlist = ytdf.iloc[:, 0].to_numpy()\n",
    "\n",
    "    # iterate through the permutations and calculate accuracy\n",
    "    label_acc = []\n",
    "    for perm in perms:\n",
    "        # create an array of labels for the prediction, using the permutation list and the cluster number as the index\n",
    "        yp_labels = np.array(perm)[yp]\n",
    "        # get the accurcy score using the ground truth labels against this iteration of prediction labels\n",
    "        label_acc.append((accuracy_score(ytlist, yp_labels), perm))  #\n",
    "\n",
    "    # get the results with the highest accuracy\n",
    "    best_accuracy = max(label_acc, key=lambda x: x[0])\n",
    "    print(f\"best accuracy: {best_accuracy[0]}\")\n",
    "    print(f\"best class label order (0, 1, 2, 3, 4) = {best_accuracy[1]}\")\n",
    "\n",
    "    # map the best label order back to the original labels list for the permuted label order\n",
    "    indices = [labels.index(label) for label in best_accuracy[1]]\n",
    "    print(f\"index order from starting labels lists: {indices}\\n\")\n",
    "\n",
    "    return tuple(indices), best_accuracy[0]\n"
   ],
   "id": "67e3134704678cf0",
   "outputs": [],
   "execution_count": 133
  },
  {
   "metadata": {},
   "cell_type": "markdown",
   "source": "Create the pipeline for the process",
   "id": "a6e5b7cfc90687c4"
  },
  {
   "metadata": {
    "ExecuteTime": {
     "end_time": "2025-08-01T01:56:13.751720Z",
     "start_time": "2025-08-01T01:56:13.729468Z"
    }
   },
   "cell_type": "code",
   "source": [
    "# Number of categories\n",
    "n_categories = len(bbcnews_train['Category'].unique())\n",
    "\n",
    "# Create a pipeline to clean, tranform, and vectorize the text and perform NMF\n",
    "nmf_pipeline = Pipeline([\n",
    "    ('text_cleaner', TextCleaner(method='simple', additional_words=remove_common)),\n",
    "    ('tfidf', TfidfVectorizer(\n",
    "        min_df=5,\n",
    "        max_df=0.95,\n",
    "        analyzer='word',\n",
    "        ngram_range=(1, 2),\n",
    "        sublinear_tf=True,\n",
    "        token_pattern=r'\\b\\w+\\b'\n",
    "    )),\n",
    "    ('nmf', NMF(\n",
    "        n_components=n_categories,\n",
    "        random_state=42,\n",
    "        max_iter=200,\n",
    "        solver='mu',\n",
    "        beta_loss='kullback-leibler',\n",
    "        alpha_H=0.0,\n",
    "        l1_ratio=0.5,\n",
    "        init='nndsvda'\n",
    "    ))\n",
    "])"
   ],
   "id": "3adc96162e26586d",
   "outputs": [],
   "execution_count": 134
  },
  {
   "metadata": {},
   "cell_type": "markdown",
   "source": [
    "Clean the article text (four options tested)\n",
    "\n",
    "* Simple method, removing common words\n",
    "\n",
    "    * bbcnews_train['Text_cleaned'] = bbcnews_train['Text'].apply(lambda text: cleanup_text(text, additional_words=remove_common))\n",
    "\n",
    "    * accuracy = 0.9369, time = 3s\n",
    "\n",
    "* spaCy lemmatizer\n",
    "\n",
    "    * bbcnews_train['Text_cleaned'] = bbcnews_train['Text'].apply(lambda text: cleanup_text(text, additional_words=remove_common, method = 'spaCy'))\n",
    "\n",
    "    * accuracy = 0.9368, time = 10m50s\n",
    "\n",
    "* Wordnet lemmatizer with POS tag\n",
    "\n",
    "    * bbcnews_train['Text_cleaned'] = bbcnews_train['Text'].apply(lambda text: cleanup_text(text, additional_words=remove_common, method = 'wordnet'))\n",
    "\n",
    "    * accuracy = 0.9563, time = 19s\n",
    "\n",
    "* Snowball stemmer\n",
    "\n",
    "    * bbcnews_train['Text_cleaned'] = bbcnews_train['Text'].apply(lambda text: cleanup_text(text, additional_words=remove_common, method = 'snowball'))\n",
    "\n",
    "    * accuracy = 0.9625, time = 5s\n"
   ],
   "id": "7bcb39cc7897bf84"
  },
  {
   "metadata": {},
   "cell_type": "code",
   "outputs": [],
   "execution_count": null,
   "source": [
    "# Clean, transform, vectorize, and fit the article text\n",
    "y_hat_train = nmf_pipeline.fit_transform(bbcnews_train['Text'])\n",
    "\n",
    "# Extract and display topics\n",
    "print(\"\\nTopics extracted from training data:\")\n",
    "feature_names = nmf_pipeline.named_steps['tfidf'].get_feature_names_out()\n",
    "for topic_idx, topic in enumerate(nmf_pipeline.named_steps['nmf'].components_):\n",
    "    top_words_idx = topic.argsort()[:-11:-1]  # Get indices of top 10 words\n",
    "    top_words = [feature_names[i] for i in top_words_idx]\n",
    "    print(f\"Topic #{topic_idx}: {' '.join(top_words)}\")\n",
    "print(\"\\n\")\n",
    "\n",
    "# Assign the dominant topic as the prediction\n",
    "y_pred = y_hat_train.argmax(axis=1)\n",
    "\n",
    "# Get the true categories\n",
    "y_true = pd.DataFrame(bbcnews_train['Category'], columns=['Category'])\n",
    "\n",
    "# Get the category permutation mapping that achieves the highest accuracy for the clusters\n",
    "categories = np.unique(y_true).tolist()\n",
    "topic_to_category_idx, accuracy = label_permute_compare(y_true, y_pred, categories)\n",
    "\n",
    "# Map the predicted topics to category names from the permutation results\n",
    "category_mapping = {i: categories[idx] for i, idx in enumerate(topic_to_category_idx)}\n",
    "\n",
    "# Convert the topic numbers to category names\n",
    "predicted_categories = [category_mapping[topic] for topic in y_pred]\n",
    "\n",
    "# Add predictions to the training dataframe\n",
    "bbcnews_train['Predicted_Category'] = predicted_categories\n",
    "\n",
    "# Display the training accuracy\n",
    "accuracy = accuracy_score(bbcnews_train['Category'], bbcnews_train['Predicted_Category'])\n",
    "print(f\"Train Accuracy: {accuracy:.4f}\")\n",
    "\n",
    "# Create confusion matrix\n",
    "cm = confusion_matrix(bbcnews_train['Category'], bbcnews_train['Predicted_Category'])\n",
    "\n",
    "# Plot confusion matrix\n",
    "plt.figure(figsize=(10, 8))\n",
    "sns.heatmap(cm, annot=True, fmt='d', cmap='Blues',\n",
    "            xticklabels=categories, yticklabels=categories)\n",
    "plt.title('Confusion Matrix')\n",
    "plt.ylabel('True Category')\n",
    "plt.xlabel('Predicted Category')\n",
    "plt.tight_layout()\n",
    "plt.show()\n"
   ],
   "id": "e2d7225c3fb70f6f"
  },
  {
   "metadata": {},
   "cell_type": "code",
   "outputs": [],
   "execution_count": null,
   "source": [
    "# Generate predictions for Test data set\n",
    "nmf_test = bbcnews_test.copy()\n",
    "\n",
    "# Predict the target category on the Test data set using the train pipeline\n",
    "y_hat_test = nmf_pipeline.transform(nmf_test['Text'])\n",
    "y_pred = y_hat_test.argmax(axis=1)\n",
    "predicted_categories = [category_mapping[topic] for topic in y_pred]\n",
    "nmf_test['Category'] = predicted_categories\n",
    "\n",
    "# drop unneeded columns\n",
    "nmf_test = nmf_test.drop(['Text'], axis=1)\n",
    "nmf_test.head(10)\n"
   ],
   "id": "2aedf219f61f2f28"
  },
  {
   "metadata": {},
   "cell_type": "code",
   "outputs": [],
   "execution_count": null,
   "source": [
    "# save submission\n",
    "try:\n",
    "    nmf_test.to_csv('submission.csv', index=False)\n",
    "except:\n",
    "    ...\n"
   ],
   "id": "915636694b416b89"
  },
  {
   "metadata": {},
   "cell_type": "markdown",
   "source": "### Model Comparison",
   "id": "4e804ed27703c73e"
  },
  {
   "metadata": {},
   "cell_type": "code",
   "outputs": [],
   "execution_count": null,
   "source": [
    "# Support Vector Machine model\n",
    "svm_pipeline = Pipeline([\n",
    "    ('cleaner', TextCleaner(method='wordnet', additional_words=remove_common)),\n",
    "    ('tfidf', TfidfVectorizer(\n",
    "        min_df=5,\n",
    "        max_df=0.95,\n",
    "        analyzer='word',\n",
    "        ngram_range=(1, 2),\n",
    "        sublinear_tf=True,\n",
    "        token_pattern=r'\\b\\w+\\b'\n",
    "    )),\n",
    "    ('classifier', LinearSVC(C=1.0, dual=False))\n",
    "])\n",
    "\n",
    "# Train the model\n",
    "svm_pipeline.fit(X_train, y_train)\n",
    "\n",
    "# Predict on test data\n",
    "y_pred_svm = svm_pipeline.predict(X_test)\n",
    "\n",
    "# Calculate accuracy\n",
    "accuracy_svm = accuracy_score(y_test, y_pred_svm)\n",
    "print(f\"Accuracy on test set: {accuracy_svm:.4f}\")\n",
    "\n",
    "# Detailed classification report\n",
    "print(\"\\nClassification Report:\")\n",
    "print(classification_report(y_test, y_pred_svm))"
   ],
   "id": "c75cf7e736bc2bb"
  },
  {
   "metadata": {},
   "cell_type": "code",
   "outputs": [],
   "execution_count": null,
   "source": "",
   "id": "4773d2f53b8e9e6"
  }
 ],
 "metadata": {
  "kernelspec": {
   "display_name": "Python 3",
   "language": "python",
   "name": "python3"
  },
  "language_info": {
   "codemirror_mode": {
    "name": "ipython",
    "version": 2
   },
   "file_extension": ".py",
   "mimetype": "text/x-python",
   "name": "python",
   "nbconvert_exporter": "python",
   "pygments_lexer": "ipython2",
   "version": "2.7.6"
  }
 },
 "nbformat": 4,
 "nbformat_minor": 5
}
