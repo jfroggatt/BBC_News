{
 "cells": [
  {
   "cell_type": "code",
   "id": "initial_id",
   "metadata": {
    "collapsed": true,
    "ExecuteTime": {
     "end_time": "2025-07-30T23:01:48.857689Z",
     "start_time": "2025-07-30T23:01:48.849576Z"
    }
   },
   "source": [
    "from collections import Counter\n",
    "import itertools\n",
    "import numpy as np\n",
    "import pandas as pd\n",
    "import re\n",
    "\n",
    "import matplotlib.pyplot as plt\n",
    "import plotly.express as px\n",
    "import seaborn as sns\n",
    "\n",
    "import nltk\n",
    "from nltk import pos_tag\n",
    "from nltk.corpus import stopwords, wordnet\n",
    "from nltk.stem import SnowballStemmer, WordNetLemmatizer\n",
    "from sklearn.base import BaseEstimator, TransformerMixin\n",
    "from sklearn.decomposition import NMF\n",
    "from sklearn.feature_extraction.text import TfidfVectorizer\n",
    "from sklearn.metrics import accuracy_score, confusion_matrix, classification_report\n",
    "from sklearn.model_selection import train_test_split\n",
    "from sklearn.pipeline import Pipeline\n",
    "from sklearn.svm import LinearSVC\n",
    "import spacy\n",
    "\n",
    "# Download the following required data resources if not already downloaded and needed\n",
    "\n",
    "# NLTK stopwords\n",
    "nltk.download('stopwords', quiet=True)\n",
    "\n",
    "# If using WordNetLemmatizer with POS tag support, you'll need the following NLTK data sets\n",
    "nltk.download('wordnet')\n",
    "nltk.download('averaged_perceptron_tagger')\n",
    "\n",
    "# If using the spaCy lemmatizer, you'll need the following spaCy data set downloaded\n",
    "#  for spaCy english words:\n",
    "# !python -m spacy download en_core_web_sm\n"
   ],
   "outputs": [
    {
     "data": {
      "text/plain": [
       "True"
      ]
     },
     "execution_count": 40,
     "metadata": {},
     "output_type": "execute_result"
    }
   ],
   "execution_count": 40
  },
  {
   "metadata": {
    "ExecuteTime": {
     "end_time": "2025-07-30T20:20:59.553135Z",
     "start_time": "2025-07-30T20:20:59.485463Z"
    }
   },
   "cell_type": "code",
   "source": [
    "bbcnews_train = pd.read_csv('data/BBC News Train.csv')\n",
    "bbcnews_test = pd.read_csv('data/BBC News Test.csv')\n",
    "bbcnews_train.head()"
   ],
   "id": "c517cc41a81543e4",
   "outputs": [
    {
     "data": {
      "text/plain": [
       "   ArticleId                                               Text  Category\n",
       "0       1833  worldcom ex-boss launches defence lawyers defe...  business\n",
       "1        154  german business confidence slides german busin...  business\n",
       "2       1101  bbc poll indicates economic gloom citizens in ...  business\n",
       "3       1976  lifestyle  governs mobile choice  faster  bett...      tech\n",
       "4        917  enron bosses in $168m payout eighteen former e...  business"
      ],
      "text/html": [
       "<div>\n",
       "<style scoped>\n",
       "    .dataframe tbody tr th:only-of-type {\n",
       "        vertical-align: middle;\n",
       "    }\n",
       "\n",
       "    .dataframe tbody tr th {\n",
       "        vertical-align: top;\n",
       "    }\n",
       "\n",
       "    .dataframe thead th {\n",
       "        text-align: right;\n",
       "    }\n",
       "</style>\n",
       "<table border=\"1\" class=\"dataframe\">\n",
       "  <thead>\n",
       "    <tr style=\"text-align: right;\">\n",
       "      <th></th>\n",
       "      <th>ArticleId</th>\n",
       "      <th>Text</th>\n",
       "      <th>Category</th>\n",
       "    </tr>\n",
       "  </thead>\n",
       "  <tbody>\n",
       "    <tr>\n",
       "      <th>0</th>\n",
       "      <td>1833</td>\n",
       "      <td>worldcom ex-boss launches defence lawyers defe...</td>\n",
       "      <td>business</td>\n",
       "    </tr>\n",
       "    <tr>\n",
       "      <th>1</th>\n",
       "      <td>154</td>\n",
       "      <td>german business confidence slides german busin...</td>\n",
       "      <td>business</td>\n",
       "    </tr>\n",
       "    <tr>\n",
       "      <th>2</th>\n",
       "      <td>1101</td>\n",
       "      <td>bbc poll indicates economic gloom citizens in ...</td>\n",
       "      <td>business</td>\n",
       "    </tr>\n",
       "    <tr>\n",
       "      <th>3</th>\n",
       "      <td>1976</td>\n",
       "      <td>lifestyle  governs mobile choice  faster  bett...</td>\n",
       "      <td>tech</td>\n",
       "    </tr>\n",
       "    <tr>\n",
       "      <th>4</th>\n",
       "      <td>917</td>\n",
       "      <td>enron bosses in $168m payout eighteen former e...</td>\n",
       "      <td>business</td>\n",
       "    </tr>\n",
       "  </tbody>\n",
       "</table>\n",
       "</div>"
      ]
     },
     "execution_count": 2,
     "metadata": {},
     "output_type": "execute_result"
    }
   ],
   "execution_count": 2
  },
  {
   "metadata": {
    "ExecuteTime": {
     "end_time": "2025-07-30T20:21:00.818571Z",
     "start_time": "2025-07-30T20:21:00.811569Z"
    }
   },
   "cell_type": "code",
   "source": "bbcnews_test.head()",
   "id": "ecd93a1f76fe5db4",
   "outputs": [
    {
     "data": {
      "text/plain": [
       "   ArticleId                                               Text\n",
       "0       1018  qpr keeper day heads for preston queens park r...\n",
       "1       1319  software watching while you work software that...\n",
       "2       1138  d arcy injury adds to ireland woe gordon d arc...\n",
       "3        459  india s reliance family feud heats up the ongo...\n",
       "4       1020  boro suffer morrison injury blow middlesbrough..."
      ],
      "text/html": [
       "<div>\n",
       "<style scoped>\n",
       "    .dataframe tbody tr th:only-of-type {\n",
       "        vertical-align: middle;\n",
       "    }\n",
       "\n",
       "    .dataframe tbody tr th {\n",
       "        vertical-align: top;\n",
       "    }\n",
       "\n",
       "    .dataframe thead th {\n",
       "        text-align: right;\n",
       "    }\n",
       "</style>\n",
       "<table border=\"1\" class=\"dataframe\">\n",
       "  <thead>\n",
       "    <tr style=\"text-align: right;\">\n",
       "      <th></th>\n",
       "      <th>ArticleId</th>\n",
       "      <th>Text</th>\n",
       "    </tr>\n",
       "  </thead>\n",
       "  <tbody>\n",
       "    <tr>\n",
       "      <th>0</th>\n",
       "      <td>1018</td>\n",
       "      <td>qpr keeper day heads for preston queens park r...</td>\n",
       "    </tr>\n",
       "    <tr>\n",
       "      <th>1</th>\n",
       "      <td>1319</td>\n",
       "      <td>software watching while you work software that...</td>\n",
       "    </tr>\n",
       "    <tr>\n",
       "      <th>2</th>\n",
       "      <td>1138</td>\n",
       "      <td>d arcy injury adds to ireland woe gordon d arc...</td>\n",
       "    </tr>\n",
       "    <tr>\n",
       "      <th>3</th>\n",
       "      <td>459</td>\n",
       "      <td>india s reliance family feud heats up the ongo...</td>\n",
       "    </tr>\n",
       "    <tr>\n",
       "      <th>4</th>\n",
       "      <td>1020</td>\n",
       "      <td>boro suffer morrison injury blow middlesbrough...</td>\n",
       "    </tr>\n",
       "  </tbody>\n",
       "</table>\n",
       "</div>"
      ]
     },
     "execution_count": 3,
     "metadata": {},
     "output_type": "execute_result"
    }
   ],
   "execution_count": 3
  },
  {
   "metadata": {
    "ExecuteTime": {
     "end_time": "2025-07-30T20:21:01.562948Z",
     "start_time": "2025-07-30T20:21:01.556640Z"
    }
   },
   "cell_type": "code",
   "source": "bbcnews_train.isnull().sum()",
   "id": "3ab90be94ac7d410",
   "outputs": [
    {
     "data": {
      "text/plain": [
       "ArticleId    0\n",
       "Text         0\n",
       "Category     0\n",
       "dtype: int64"
      ]
     },
     "execution_count": 4,
     "metadata": {},
     "output_type": "execute_result"
    }
   ],
   "execution_count": 4
  },
  {
   "metadata": {
    "ExecuteTime": {
     "end_time": "2025-07-30T20:21:02.490412Z",
     "start_time": "2025-07-30T20:21:02.483496Z"
    }
   },
   "cell_type": "code",
   "source": "bbcnews_test.isnull().sum()",
   "id": "cc9ff22bd3fc91bb",
   "outputs": [
    {
     "data": {
      "text/plain": [
       "ArticleId    0\n",
       "Text         0\n",
       "dtype: int64"
      ]
     },
     "execution_count": 5,
     "metadata": {},
     "output_type": "execute_result"
    }
   ],
   "execution_count": 5
  },
  {
   "metadata": {
    "ExecuteTime": {
     "end_time": "2025-07-30T20:21:03.474597Z",
     "start_time": "2025-07-30T20:21:03.459608Z"
    }
   },
   "cell_type": "code",
   "source": "bbcnews_train.nunique()",
   "id": "e72a02b87090cb1f",
   "outputs": [
    {
     "data": {
      "text/plain": [
       "ArticleId    1490\n",
       "Text         1440\n",
       "Category        5\n",
       "dtype: int64"
      ]
     },
     "execution_count": 6,
     "metadata": {},
     "output_type": "execute_result"
    }
   ],
   "execution_count": 6
  },
  {
   "metadata": {
    "ExecuteTime": {
     "end_time": "2025-07-30T20:21:04.580549Z",
     "start_time": "2025-07-30T20:21:04.569582Z"
    }
   },
   "cell_type": "code",
   "source": [
    "# Find duplicate rows in the training dataset where 'Text' is not unique\n",
    "train_duplicates = bbcnews_train[bbcnews_train.duplicated(subset=['Text'], keep=False)]\n",
    "print(f\"Number of duplicate rows: {len(train_duplicates)}\")\n",
    "display(train_duplicates.sort_values(by='Text'))\n"
   ],
   "id": "a0bb3a34bae659b1",
   "outputs": [
    {
     "name": "stdout",
     "output_type": "stream",
     "text": [
      "Number of duplicate rows: 100\n"
     ]
    },
    {
     "data": {
      "text/plain": [
       "      ArticleId                                               Text  \\\n",
       "494        1326  ask jeeves joins web log market ask jeeves has...   \n",
       "228        1098  ask jeeves joins web log market ask jeeves has...   \n",
       "1430       1042  aviator  creator  in oscars snub the man who s...   \n",
       "695         374  aviator  creator  in oscars snub the man who s...   \n",
       "443        1847  blind student  hears in colour  a blind studen...   \n",
       "...         ...                                                ...   \n",
       "1047        789  virus poses as christmas e-mail security firms...   \n",
       "1409        957  web radio takes spanish rap global spin the ra...   \n",
       "616         110  web radio takes spanish rap global spin the ra...   \n",
       "63         2017  what high-definition will do to dvds first it ...   \n",
       "1439       1111  what high-definition will do to dvds first it ...   \n",
       "\n",
       "           Category  \n",
       "494            tech  \n",
       "228            tech  \n",
       "1430  entertainment  \n",
       "695   entertainment  \n",
       "443            tech  \n",
       "...             ...  \n",
       "1047           tech  \n",
       "1409           tech  \n",
       "616            tech  \n",
       "63             tech  \n",
       "1439           tech  \n",
       "\n",
       "[100 rows x 3 columns]"
      ],
      "text/html": [
       "<div>\n",
       "<style scoped>\n",
       "    .dataframe tbody tr th:only-of-type {\n",
       "        vertical-align: middle;\n",
       "    }\n",
       "\n",
       "    .dataframe tbody tr th {\n",
       "        vertical-align: top;\n",
       "    }\n",
       "\n",
       "    .dataframe thead th {\n",
       "        text-align: right;\n",
       "    }\n",
       "</style>\n",
       "<table border=\"1\" class=\"dataframe\">\n",
       "  <thead>\n",
       "    <tr style=\"text-align: right;\">\n",
       "      <th></th>\n",
       "      <th>ArticleId</th>\n",
       "      <th>Text</th>\n",
       "      <th>Category</th>\n",
       "    </tr>\n",
       "  </thead>\n",
       "  <tbody>\n",
       "    <tr>\n",
       "      <th>494</th>\n",
       "      <td>1326</td>\n",
       "      <td>ask jeeves joins web log market ask jeeves has...</td>\n",
       "      <td>tech</td>\n",
       "    </tr>\n",
       "    <tr>\n",
       "      <th>228</th>\n",
       "      <td>1098</td>\n",
       "      <td>ask jeeves joins web log market ask jeeves has...</td>\n",
       "      <td>tech</td>\n",
       "    </tr>\n",
       "    <tr>\n",
       "      <th>1430</th>\n",
       "      <td>1042</td>\n",
       "      <td>aviator  creator  in oscars snub the man who s...</td>\n",
       "      <td>entertainment</td>\n",
       "    </tr>\n",
       "    <tr>\n",
       "      <th>695</th>\n",
       "      <td>374</td>\n",
       "      <td>aviator  creator  in oscars snub the man who s...</td>\n",
       "      <td>entertainment</td>\n",
       "    </tr>\n",
       "    <tr>\n",
       "      <th>443</th>\n",
       "      <td>1847</td>\n",
       "      <td>blind student  hears in colour  a blind studen...</td>\n",
       "      <td>tech</td>\n",
       "    </tr>\n",
       "    <tr>\n",
       "      <th>...</th>\n",
       "      <td>...</td>\n",
       "      <td>...</td>\n",
       "      <td>...</td>\n",
       "    </tr>\n",
       "    <tr>\n",
       "      <th>1047</th>\n",
       "      <td>789</td>\n",
       "      <td>virus poses as christmas e-mail security firms...</td>\n",
       "      <td>tech</td>\n",
       "    </tr>\n",
       "    <tr>\n",
       "      <th>1409</th>\n",
       "      <td>957</td>\n",
       "      <td>web radio takes spanish rap global spin the ra...</td>\n",
       "      <td>tech</td>\n",
       "    </tr>\n",
       "    <tr>\n",
       "      <th>616</th>\n",
       "      <td>110</td>\n",
       "      <td>web radio takes spanish rap global spin the ra...</td>\n",
       "      <td>tech</td>\n",
       "    </tr>\n",
       "    <tr>\n",
       "      <th>63</th>\n",
       "      <td>2017</td>\n",
       "      <td>what high-definition will do to dvds first it ...</td>\n",
       "      <td>tech</td>\n",
       "    </tr>\n",
       "    <tr>\n",
       "      <th>1439</th>\n",
       "      <td>1111</td>\n",
       "      <td>what high-definition will do to dvds first it ...</td>\n",
       "      <td>tech</td>\n",
       "    </tr>\n",
       "  </tbody>\n",
       "</table>\n",
       "<p>100 rows × 3 columns</p>\n",
       "</div>"
      ]
     },
     "metadata": {},
     "output_type": "display_data"
    }
   ],
   "execution_count": 7
  },
  {
   "metadata": {
    "ExecuteTime": {
     "end_time": "2025-07-30T20:21:05.373779Z",
     "start_time": "2025-07-30T20:21:05.359334Z"
    }
   },
   "cell_type": "code",
   "source": [
    "# Group duplicates by Text and check if all rows in each group have the same Category\n",
    "print(\"Analysis of duplicate texts in training dataset:\")\n",
    "for text, group in train_duplicates.groupby('Text'):\n",
    "    categories = group['Category'].unique()\n",
    "    if len(categories) == 1:\n",
    "        print(f\"Text (truncated): '{text[:50]}...' has {len(group)} duplicates, all with category: {categories[0]}\")\n",
    "    else:\n",
    "        print(f\"Text (truncated): '{text[:50]}...' has {len(group)} duplicates with different categories: {categories}\")\n",
    "\n",
    "# Count how many duplicate texts have consistent vs inconsistent categories\n",
    "same_category = 0\n",
    "different_category = 0\n",
    "\n",
    "for text, group in train_duplicates.groupby('Text'):\n",
    "    if len(group['Category'].unique()) == 1:\n",
    "        same_category += 1\n",
    "    else:\n",
    "        different_category += 1\n",
    "\n",
    "print(f\"\\nSummary:\")\n",
    "print(f\"- Duplicate texts with the same category: {same_category}\")\n",
    "print(f\"- Duplicate texts with different categories: {different_category}\")"
   ],
   "id": "eef0dd3e61240d85",
   "outputs": [
    {
     "name": "stdout",
     "output_type": "stream",
     "text": [
      "Analysis of duplicate texts in training dataset:\n",
      "Text (truncated): 'ask jeeves joins web log market ask jeeves has bou...' has 2 duplicates, all with category: tech\n",
      "Text (truncated): 'aviator  creator  in oscars snub the man who said ...' has 2 duplicates, all with category: entertainment\n",
      "Text (truncated): 'blind student  hears in colour  a blind student ha...' has 2 duplicates, all with category: tech\n",
      "Text (truncated): 'bortolami predicts dour contest italy skipper marc...' has 2 duplicates, all with category: sport\n",
      "Text (truncated): 'britons fed up with net service a survey conducted...' has 2 duplicates, all with category: tech\n",
      "Text (truncated): 'brown outlines third term vision gordon brown has ...' has 2 duplicates, all with category: politics\n",
      "Text (truncated): 'california sets fines for spyware the makers of co...' has 2 duplicates, all with category: tech\n",
      "Text (truncated): 'camera phones are  must-haves  four times more mob...' has 2 duplicates, all with category: tech\n",
      "Text (truncated): 'commodore finds new lease of life the once-famous ...' has 2 duplicates, all with category: tech\n",
      "Text (truncated): 'de niro film leads us box office film star robert ...' has 2 duplicates, all with category: entertainment\n",
      "Text (truncated): 'debate needed  on donations cap a cap on donations...' has 2 duplicates, all with category: politics\n",
      "Text (truncated): 'digital guru floats sub-$100 pc nicholas negropont...' has 2 duplicates, all with category: tech\n",
      "Text (truncated): 'doors open at biggest gadget fair thousands of tec...' has 2 duplicates, all with category: tech\n",
      "Text (truncated): 'downloads enter us singles chart digital music dow...' has 2 duplicates, all with category: entertainment\n",
      "Text (truncated): 'economy  strong  in election year uk businesses ar...' has 2 duplicates, all with category: business\n",
      "Text (truncated): 'ferguson rues failure to cut gap boss sir alex fer...' has 2 duplicates, all with category: sport\n",
      "Text (truncated): 'format wars could  confuse users  technology firms...' has 2 duplicates, all with category: tech\n",
      "Text (truncated): 'fox attacks blair s tory  lies  tony blair lied wh...' has 2 duplicates, all with category: politics\n",
      "Text (truncated): 'freeze on anti-spam campaign a campaign by lycos e...' has 2 duplicates, all with category: tech\n",
      "Text (truncated): 'gadget market  to grow in 2005  the explosion in c...' has 2 duplicates, all with category: tech\n",
      "Text (truncated): 'hague  given up  his pm ambition former conservati...' has 2 duplicates, all with category: politics\n",
      "Text (truncated): 'holmes starts 2005 with gb events kelly holmes wil...' has 2 duplicates, all with category: sport\n",
      "Text (truncated): 'hotspot users gain free net calls people using wir...' has 2 duplicates, all with category: tech\n",
      "Text (truncated): 'howard denies split over id cards michael howard h...' has 2 duplicates, all with category: politics\n",
      "Text (truncated): 'junk e-mails on relentless rise spam traffic is up...' has 2 duplicates, all with category: tech\n",
      "Text (truncated): 'microsoft gets the blogging bug software giant mic...' has 2 duplicates, all with category: tech\n",
      "Text (truncated): 'microsoft seeking spyware trojan microsoft is inve...' has 2 duplicates, all with category: tech\n",
      "Text (truncated): 'mobiles  not media players yet  mobiles are not ye...' has 2 duplicates, all with category: tech\n",
      "Text (truncated): 'mobiles rack up 20 years of use mobile phones in t...' has 2 duplicates, all with category: tech\n",
      "Text (truncated): 'more power to the people says hp the digital revol...' has 2 duplicates, all with category: tech\n",
      "Text (truncated): 'mps issued with blackberry threat mps will be thro...' has 2 duplicates, all with category: politics\n",
      "Text (truncated): 'musical treatment for capra film the classic film ...' has 2 duplicates, all with category: entertainment\n",
      "Text (truncated): 'pop band busted to  take a break  chart-topping po...' has 2 duplicates, all with category: entertainment\n",
      "Text (truncated): 'prince crowned  top music earner  prince earned mo...' has 2 duplicates, all with category: entertainment\n",
      "Text (truncated): 'queen recruit singer for new tour the remaining me...' has 2 duplicates, all with category: entertainment\n",
      "Text (truncated): 'ray dvd beats box office takings oscar-nominated f...' has 2 duplicates, all with category: entertainment\n",
      "Text (truncated): 'schools to take part in mock poll record numbers o...' has 2 duplicates, all with category: politics\n",
      "Text (truncated): 'security warning over  fbi virus  the us federal b...' has 2 duplicates, all with category: tech\n",
      "Text (truncated): 'singer s film to show at festival a documentary wh...' has 2 duplicates, all with category: entertainment\n",
      "Text (truncated): 'spain coach faces racism inquiry spain s football ...' has 2 duplicates, all with category: sport\n",
      "Text (truncated): 'spam e-mails tempt net shoppers computer users acr...' has 2 duplicates, all with category: tech\n",
      "Text (truncated): 'stars pay tribute to actor davis hollywood stars i...' has 2 duplicates, all with category: entertainment\n",
      "Text (truncated): 't-mobile bets on  pocket office  t-mobile has laun...' has 2 duplicates, all with category: tech\n",
      "Text (truncated): 'talks aim to avert pension strike talks aimed at a...' has 2 duplicates, all with category: politics\n",
      "Text (truncated): 'ultimate game  award for doom 3 sci-fi shooter doo...' has 2 duplicates, all with category: tech\n",
      "Text (truncated): 'us duo in first spam conviction a brother and sist...' has 2 duplicates, all with category: tech\n",
      "Text (truncated): 'us peer-to-peer pirates convicted the first convic...' has 2 duplicates, all with category: tech\n",
      "Text (truncated): 'virus poses as christmas e-mail security firms are...' has 2 duplicates, all with category: tech\n",
      "Text (truncated): 'web radio takes spanish rap global spin the radio ...' has 2 duplicates, all with category: tech\n",
      "Text (truncated): 'what high-definition will do to dvds first it was ...' has 2 duplicates, all with category: tech\n",
      "\n",
      "Summary:\n",
      "- Duplicate texts with the same category: 50\n",
      "- Duplicate texts with different categories: 0\n"
     ]
    }
   ],
   "execution_count": 8
  },
  {
   "metadata": {
    "ExecuteTime": {
     "end_time": "2025-07-30T20:21:06.628993Z",
     "start_time": "2025-07-30T20:21:06.619989Z"
    }
   },
   "cell_type": "code",
   "source": [
    "# list categories and count for each\n",
    "bbcnews_train.groupby('Category').count()"
   ],
   "id": "e9c1444c287a9cf6",
   "outputs": [
    {
     "data": {
      "text/plain": [
       "               ArticleId  Text\n",
       "Category                      \n",
       "business             336   336\n",
       "entertainment        273   273\n",
       "politics             274   274\n",
       "sport                346   346\n",
       "tech                 261   261"
      ],
      "text/html": [
       "<div>\n",
       "<style scoped>\n",
       "    .dataframe tbody tr th:only-of-type {\n",
       "        vertical-align: middle;\n",
       "    }\n",
       "\n",
       "    .dataframe tbody tr th {\n",
       "        vertical-align: top;\n",
       "    }\n",
       "\n",
       "    .dataframe thead th {\n",
       "        text-align: right;\n",
       "    }\n",
       "</style>\n",
       "<table border=\"1\" class=\"dataframe\">\n",
       "  <thead>\n",
       "    <tr style=\"text-align: right;\">\n",
       "      <th></th>\n",
       "      <th>ArticleId</th>\n",
       "      <th>Text</th>\n",
       "    </tr>\n",
       "    <tr>\n",
       "      <th>Category</th>\n",
       "      <th></th>\n",
       "      <th></th>\n",
       "    </tr>\n",
       "  </thead>\n",
       "  <tbody>\n",
       "    <tr>\n",
       "      <th>business</th>\n",
       "      <td>336</td>\n",
       "      <td>336</td>\n",
       "    </tr>\n",
       "    <tr>\n",
       "      <th>entertainment</th>\n",
       "      <td>273</td>\n",
       "      <td>273</td>\n",
       "    </tr>\n",
       "    <tr>\n",
       "      <th>politics</th>\n",
       "      <td>274</td>\n",
       "      <td>274</td>\n",
       "    </tr>\n",
       "    <tr>\n",
       "      <th>sport</th>\n",
       "      <td>346</td>\n",
       "      <td>346</td>\n",
       "    </tr>\n",
       "    <tr>\n",
       "      <th>tech</th>\n",
       "      <td>261</td>\n",
       "      <td>261</td>\n",
       "    </tr>\n",
       "  </tbody>\n",
       "</table>\n",
       "</div>"
      ]
     },
     "execution_count": 9,
     "metadata": {},
     "output_type": "execute_result"
    }
   ],
   "execution_count": 9
  },
  {
   "metadata": {
    "ExecuteTime": {
     "end_time": "2025-07-30T20:21:07.538397Z",
     "start_time": "2025-07-30T20:21:07.532397Z"
    }
   },
   "cell_type": "code",
   "source": [
    "# remove duplicates\n",
    "bbcnews_train = bbcnews_train.drop_duplicates(subset = ['Text'], keep = 'first')\n",
    "remaining_dups = bbcnews_train[bbcnews_train.duplicated(subset=['Text'], keep=False)]\n",
    "print(f\"Remaining duplicates in the training dataset: {len(remaining_dups)}\")"
   ],
   "id": "d3f295b84d28719c",
   "outputs": [
    {
     "name": "stdout",
     "output_type": "stream",
     "text": [
      "Remaining duplicates in the training dataset: 0\n"
     ]
    }
   ],
   "execution_count": 10
  },
  {
   "metadata": {
    "ExecuteTime": {
     "end_time": "2025-07-30T20:21:09.980587Z",
     "start_time": "2025-07-30T20:21:09.752199Z"
    }
   },
   "cell_type": "code",
   "source": [
    "# Plot the number of articles in each category\n",
    "\n",
    "# Get counts by categorry\n",
    "category_counts = bbcnews_train['Category'].value_counts()\n",
    "\n",
    "# Create a bar plot\n",
    "plt.figure(figsize=(10, 6))\n",
    "ax = category_counts.plot(kind='bar', color='steelblue')\n",
    "plt.title('Number of BBC News Articles by Category', fontsize=16)\n",
    "plt.xlabel('Category', fontsize=14)\n",
    "plt.ylabel('Number of Articles', fontsize=14)\n",
    "plt.xticks(rotation=45)\n",
    "plt.grid(axis='y', linestyle='--', alpha=0.7)\n",
    "\n",
    "# Add the counts on top of each bar\n",
    "for i, count in enumerate(category_counts):\n",
    "    plt.text(i, count + 5, str(count), ha='center', fontweight='bold')\n",
    "\n",
    "plt.tight_layout()\n",
    "plt.show()\n"
   ],
   "id": "eb96794979a9078d",
   "outputs": [
    {
     "data": {
      "text/plain": [
       "<Figure size 1000x600 with 1 Axes>"
      ],
      "image/png": "[encoded data removed]"
     },
     "metadata": {},
     "output_type": "display_data"
    }
   ],
   "execution_count": 11
  },
  {
   "metadata": {
    "ExecuteTime": {
     "end_time": "2025-07-30T20:21:11.315356Z",
     "start_time": "2025-07-30T20:21:11.124471Z"
    }
   },
   "cell_type": "code",
   "source": [
    "# Distribution of article length by category\n",
    "\n",
    "# Calculate the length for each article\n",
    "bbcnews_train['text_length'] = bbcnews_train['Text'].apply(len)\n",
    "\n",
    "# Create a box plot to compare text length by category\n",
    "category_colors = {\n",
    "    'business': '#1f77b4',      # blue\n",
    "    'entertainment': '#ff7f0e', # orange\n",
    "    'politics': '#2ca02c',      # green\n",
    "    'sport': '#d62728',         # red\n",
    "    'tech': '#9467bd'           # purple\n",
    "}\n",
    "plt.figure(figsize=(12, 6))\n",
    "sns.boxplot(x='Category', y='text_length', data=bbcnews_train, palette=category_colors, hue='Category')\n",
    "plt.title('Distribution of Text Length by Category', fontsize=14)\n",
    "plt.xlabel('Category', fontsize=12)\n",
    "plt.ylabel('Text Length (characters)', fontsize=12)\n",
    "plt.grid(axis='y', alpha=0.3)\n",
    "plt.xticks(rotation=45)\n",
    "\n",
    "plt.tight_layout()\n",
    "plt.show()"
   ],
   "id": "3d1eeb4506638c5f",
   "outputs": [
    {
     "data": {
      "text/plain": [
       "<Figure size 1200x600 with 1 Axes>"
      ],
      "image/png": "[encoded data removed]"
     },
     "metadata": {},
     "output_type": "display_data"
    }
   ],
   "execution_count": 12
  },
  {
   "metadata": {
    "ExecuteTime": {
     "end_time": "2025-07-30T20:21:12.865100Z",
     "start_time": "2025-07-30T20:21:12.655520Z"
    }
   },
   "cell_type": "code",
   "source": [
    "# Plot the distribution of word counts\n",
    "\n",
    "# Calculate the word count for each article\n",
    "bbcnews_train['word_count'] = bbcnews_train['Text'].apply(lambda x: len(str(x).split()))\n",
    "\n",
    "plt.figure(figsize=(12, 6))\n",
    "sns.boxplot(x='Category', y='word_count', data=bbcnews_train, palette=category_colors, hue='Category')\n",
    "plt.title('Distribution of Word Count by Category', fontsize=14)\n",
    "plt.xlabel('Category', fontsize=12)\n",
    "plt.ylabel('Word Count', fontsize=12)\n",
    "plt.grid(axis='y', alpha=0.3)\n",
    "plt.xticks(rotation=45)\n",
    "\n",
    "plt.tight_layout()\n",
    "plt.show()\n"
   ],
   "id": "2301fefbf48cfc9d",
   "outputs": [
    {
     "data": {
      "text/plain": [
       "<Figure size 1200x600 with 1 Axes>"
      ],
      "image/png": "[encoded data removed]"
     },
     "metadata": {},
     "output_type": "display_data"
    }
   ],
   "execution_count": 13
  },
  {
   "metadata": {
    "ExecuteTime": {
     "end_time": "2025-07-30T20:21:14.690363Z",
     "start_time": "2025-07-30T20:21:14.314148Z"
    }
   },
   "cell_type": "code",
   "source": [
    "# The the distribution of the word count for all articles\n",
    "plt.figure(figsize=(12, 8))\n",
    "\n",
    "# Create the histogram of word counts\n",
    "bins = np.linspace(0, bbcnews_train['word_count'].max(), 100)\n",
    "n, bins, patches = plt.hist(bbcnews_train['word_count'], bins=bins,\n",
    "                            color='#3498db', alpha=0.8, edgecolor='white', linewidth=0.5)\n",
    "\n",
    "# Calculate statistics\n",
    "mean_val = bbcnews_train['word_count'].mean()\n",
    "median_val = bbcnews_train['word_count'].median()\n",
    "mode_val = bbcnews_train['word_count'].mode()[0]\n",
    "std_val = bbcnews_train['word_count'].std()\n",
    "\n",
    "# Add vertical lines for mean and median (with thinner lines)\n",
    "plt.axvline(x=mean_val, color='red', linestyle='--', linewidth=0.8, label=f'Mean: {mean_val:.0f}')\n",
    "plt.axvline(x=median_val, color='green', linestyle=':', linewidth=0.8, label=f'Median: {median_val:.0f}')\n",
    "\n",
    "plt.title('Distribution of Word Counts in BBC News Articles', fontsize=16, pad=20)\n",
    "plt.xlabel('Word Count', fontsize=14, labelpad=10)\n",
    "plt.ylabel('Frequency', fontsize=14, labelpad=10)\n",
    "plt.grid(axis='y', alpha=0.3, linestyle='--')\n",
    "plt.xticks(fontsize=12)\n",
    "plt.yticks(fontsize=12)\n",
    "plt.legend(fontsize=12)\n",
    "\n",
    "plt.tight_layout()\n",
    "plt.show()\n",
    "\n",
    "# Associated boxplot for the word count distribution\n",
    "plt.figure(figsize=(12, 4))\n",
    "sns.boxplot(x=bbcnews_train['word_count'], color='#3498db')\n",
    "plt.title('Boxplot of Word Counts', fontsize=16, pad=20)\n",
    "plt.xlabel('Word Count', fontsize=14, labelpad=10)\n",
    "plt.grid(axis='x', alpha=0.3, linestyle='--')\n",
    "plt.tight_layout()\n",
    "plt.show();\n"
   ],
   "id": "86753bbb79785c5c",
   "outputs": [
    {
     "data": {
      "text/plain": [
       "<Figure size 1200x800 with 1 Axes>"
      ],
      "image/png": "[encoded data removed]"
     },
     "metadata": {},
     "output_type": "display_data"
    },
    {
     "data": {
      "text/plain": [
       "<Figure size 1200x400 with 1 Axes>"
      ],
      "image/png": "[encoded data removed]"
     },
     "metadata": {},
     "output_type": "display_data"
    }
   ],
   "execution_count": 14
  },
  {
   "metadata": {
    "ExecuteTime": {
     "end_time": "2025-07-30T20:42:37.765073Z",
     "start_time": "2025-07-30T20:42:37.753856Z"
    }
   },
   "cell_type": "code",
   "source": [
    "# Create a custom transformer to perform text cleanup (usable in pipeline later)\n",
    "class TextCleaner(BaseEstimator, TransformerMixin):\n",
    "    def __init__(self, min_word_length = 2, max_word_count = 0, method = 'simple', additional_words = None, stop_words = None):\n",
    "        self.min_word_length = min_word_length\n",
    "        self.max_word_count = max_word_count\n",
    "        self.method = method\n",
    "        self.additional_words = additional_words\n",
    "        self.stop_words = stop_words if stop_words else set(stopwords.words('english'))\n",
    "        self.remove_words = self.stop_words if not self.additional_words else self.stop_words.union(self.additional_words)\n",
    "\n",
    "    # empty fit function to support use in pipeline\n",
    "    def fit(self, X, y = None):\n",
    "        return self\n",
    "\n",
    "    # transform function for _cleanup_text to support use in pipeline\n",
    "    def transform(self, X):\n",
    "        if hasattr(X, 'apply'):\n",
    "            return X.apply(self._cleanup_text)\n",
    "        else:\n",
    "            return [self._cleanup_text(text) for text in X]\n",
    "\n",
    "    # Function to perform the text cleanup and stem/lemmatize as specified\n",
    "    def _cleanup_text(self, text):\n",
    "        # Convert to lowercase\n",
    "        text = text.lower()\n",
    "\n",
    "        # Remove punctuation\n",
    "        text = re.sub(r'[^\\w\\s]', ' ', text)\n",
    "\n",
    "        # Remove numbers\n",
    "        text = re.sub(r'\\d+', ' ', text)\n",
    "\n",
    "        # Process words (lemmatize, removing stopwords and additional words supplied, short words, and extra spaces)\n",
    "        match self.method:\n",
    "            case 'spaCy' | 'spacy':\n",
    "                words = self._spacy_lemma(text)\n",
    "            case 'wordnet':\n",
    "                words = self._wordnet_lemma(text)\n",
    "            case 'snowball':\n",
    "                words = self._snowball_stemmer(text)\n",
    "            case _:  # default to 'simple'\n",
    "                words = self._simple_tokens(text)\n",
    "\n",
    "        # Limit to max word count if specified\n",
    "        if self.max_word_count > 0:\n",
    "            words = words[:self.max_word_count]\n",
    "\n",
    "        return ' '.join(words)\n",
    "\n",
    "    # Simple word tokens, removing words in the remove_words list and short words\n",
    "    def _simple_tokens(self, text):\n",
    "        tokens = text.split()\n",
    "        return [token for token in tokens if token not in self.remove_words and len(token) > self.min_word_length]\n",
    "\n",
    "    # spaCy lemmatizer\n",
    "    def _spacy_lemma(self, text):\n",
    "        # spaCy english words - Needed if using the spaCy lemmatizer option and not already downloaded - see Imports\n",
    "\n",
    "        nlp = spacy.load(\"en_core_web_sm\")  # For spaCy lemmatizing option\n",
    "        tokens = nlp(text)  # use spaCy to generate tokens\n",
    "\n",
    "        # Process words (lemmatize, removing stopwords and additional words supplied, short words, and extra spaces)\n",
    "        return [token.lemma_ for token in tokens if token.text not in self.remove_words\n",
    "                 and token.lemma_ not in self.remove_words and len(token) > self.min_word_length and not token.is_space]\n",
    "\n",
    "    # WordNetLemmatizer\n",
    "    def _get_wordnet_pos(self, nltk_tag):\n",
    "        # Map for most common matches on the first letter of the tag\n",
    "        pos_map = {'N': wordnet.NOUN, 'V': wordnet.VERB, 'J': wordnet.ADJ, 'R': wordnet.ADV}\n",
    "\n",
    "        # Map NLTK POS tags to WordNet POS tags\n",
    "        if nltk_tag[0] in pos_map:\n",
    "            return pos_map[nltk_tag[0]]\n",
    "        elif nltk_tag in ('MD', 'TO'):  # Modal, infinitive marker\n",
    "            return wordnet.VERB\n",
    "        else:\n",
    "             return wordnet.NOUN  # Default to Noun for other cases\n",
    "\n",
    "    def _wordnet_lemma(self, text):\n",
    "        # NLTK data needed for wordnet and pos_tag - see Imports\n",
    "        lemmatizer = WordNetLemmatizer()\n",
    "        tokens = self._simple_tokens(text)\n",
    "\n",
    "        # Get POS (part of speech) tags\n",
    "        tagged_tokens = pos_tag(tokens)\n",
    "\n",
    "        # Lemmatize with POS tag\n",
    "        lemmatized_words = []\n",
    "        for word, tag in tagged_tokens:\n",
    "            if word not in self.remove_words and len(word) > self.min_word_length:\n",
    "                # Get the WordNet POS tag\n",
    "                wordnet_pos = self._get_wordnet_pos(tag)\n",
    "\n",
    "                # Lemmatize with the appropriate POS tag\n",
    "                lemma = lemmatizer.lemmatize(word, wordnet_pos)\n",
    "                lemmatized_words.append(lemma)\n",
    "\n",
    "        return lemmatized_words\n",
    "\n",
    "    # SnowballStemmer\n",
    "    def _snowball_stemmer(self, text):\n",
    "        stemmer = SnowballStemmer(\"english\")\n",
    "        tokens = self._simple_tokens(text)\n",
    "\n",
    "        # apply stemming\n",
    "        words = [stemmer.stem(word) for word in tokens]\n",
    "\n",
    "        return words\n"
   ],
   "id": "80cfa93b0dc5414b",
   "outputs": [],
   "execution_count": 23
  },
  {
   "metadata": {
    "ExecuteTime": {
     "end_time": "2025-07-30T20:21:30.564454Z",
     "start_time": "2025-07-30T20:21:30.371056Z"
    }
   },
   "cell_type": "code",
   "source": [
    "# Cleanup the article Text - default simple method\n",
    "text_cleaner = TextCleaner(method = 'simple')\n",
    "bbcnews_train['Text_cleaned'] = text_cleaner.transform(bbcnews_train['Text'])\n",
    "print(\"Original Text: \", bbcnews_train['Text'][0], \"\\n\\n\")\n",
    "print(\"Cleaned Text: \", bbcnews_train['Text_cleaned'][0])"
   ],
   "id": "fdcd68bd462352d4",
   "outputs": [
    {
     "name": "stdout",
     "output_type": "stream",
     "text": [
      "Original Text:  worldcom ex-boss launches defence lawyers defending former worldcom chief bernie ebbers against a battery of fraud charges have called a company whistleblower as their first witness.  cynthia cooper  worldcom s ex-head of internal accounting  alerted directors to irregular accounting practices at the us telecoms giant in 2002. her warnings led to the collapse of the firm following the discovery of an $11bn (£5.7bn) accounting fraud. mr ebbers has pleaded not guilty to charges of fraud and conspiracy.  prosecution lawyers have argued that mr ebbers orchestrated a series of accounting tricks at worldcom  ordering employees to hide expenses and inflate revenues to meet wall street earnings estimates. but ms cooper  who now runs her own consulting business  told a jury in new york on wednesday that external auditors arthur andersen had approved worldcom s accounting in early 2001 and 2002. she said andersen had given a  green light  to the procedures and practices used by worldcom. mr ebber s lawyers have said he was unaware of the fraud  arguing that auditors did not alert him to any problems.  ms cooper also said that during shareholder meetings mr ebbers often passed over technical questions to the company s finance chief  giving only  brief  answers himself. the prosecution s star witness  former worldcom financial chief scott sullivan  has said that mr ebbers ordered accounting adjustments at the firm  telling him to  hit our books . however  ms cooper said mr sullivan had not mentioned  anything uncomfortable  about worldcom s accounting during a 2001 audit committee meeting. mr ebbers could face a jail sentence of 85 years if convicted of all the charges he is facing. worldcom emerged from bankruptcy protection in 2004  and is now known as mci. last week  mci agreed to a buyout by verizon communications in a deal valued at $6.75bn. \n",
      "\n",
      "\n",
      "Cleaned Text:  worldcom boss launches defence lawyers defending former worldcom chief bernie ebbers battery fraud charges called company whistleblower first witness cynthia cooper worldcom head internal accounting alerted directors irregular accounting practices telecoms giant warnings led collapse firm following discovery accounting fraud ebbers pleaded guilty charges fraud conspiracy prosecution lawyers argued ebbers orchestrated series accounting tricks worldcom ordering employees hide expenses inflate revenues meet wall street earnings estimates cooper runs consulting business told jury new york wednesday external auditors arthur andersen approved worldcom accounting early said andersen given green light procedures practices used worldcom ebber lawyers said unaware fraud arguing auditors alert problems cooper also said shareholder meetings ebbers often passed technical questions company finance chief giving brief answers prosecution star witness former worldcom financial chief scott sullivan said ebbers ordered accounting adjustments firm telling hit books however cooper said sullivan mentioned anything uncomfortable worldcom accounting audit committee meeting ebbers could face jail sentence years convicted charges facing worldcom emerged bankruptcy protection known mci last week mci agreed buyout verizon communications deal valued\n"
     ]
    }
   ],
   "execution_count": 16
  },
  {
   "metadata": {
    "ExecuteTime": {
     "end_time": "2025-07-30T20:43:18.963432Z",
     "start_time": "2025-07-30T20:43:18.909510Z"
    }
   },
   "cell_type": "code",
   "source": [
    "# Find most common words in each category and across categories\n",
    "\n",
    "# Helper function to get the top N words from a category\n",
    "def get_top_n_words(category, top_n=30):\n",
    "    # Get the articles for the specified category\n",
    "    category_data = bbcnews_train[bbcnews_train['Category'] == category]\n",
    "\n",
    "    # Combine all cleaned text for this category\n",
    "    all_words = ' '.join(category_data['Text_cleaned']).split()\n",
    "\n",
    "    # Count word frequencies and get the top N\n",
    "    top_words = Counter(all_words).most_common(top_n)\n",
    "\n",
    "    return top_words\n",
    "\n",
    "\n",
    "def get_top_m_common_words(top_m=30, top_n=100, sort_by='average'):\n",
    "    # Get the top_n words for each category\n",
    "    categories = bbcnews_train['Category'].unique()\n",
    "    category_words = {}\n",
    "    for category in categories:\n",
    "        category_words[category] = dict(get_top_n_words(category, top_n))\n",
    "\n",
    "    # Find common words in all categories\n",
    "    common_words = set(category_words[categories[0]].keys())\n",
    "    for category in categories[1:]:\n",
    "        common_words = common_words.intersection(set(category_words[category].keys()))\n",
    "\n",
    "    print(f\"The number of common words in all categories is {len(common_words)}\")\n",
    "\n",
    "    # Get the counts for each word\n",
    "    # Create a DataFrame with counts for each word in each category\n",
    "    data = []\n",
    "    for word in common_words:\n",
    "        row = {'word': word}\n",
    "        counts = []\n",
    "        for cat in categories:\n",
    "            count = category_words[cat][word]\n",
    "            row[cat] = count\n",
    "            counts.append(count)\n",
    "\n",
    "        # Calculate statistics\n",
    "        row['total_count'] = sum(counts)\n",
    "        row['avg_count'] = np.mean(counts)\n",
    "        row['min_count'] = min(counts)\n",
    "        row['max_count'] = max(counts)\n",
    "        row['std_dev'] = np.std(counts)\n",
    "        row['cv'] = row['std_dev'] / row['avg_count'] if row['avg_count'] > 0 else 0  # Coefficient of variation\n",
    "\n",
    "        data.append(row)\n",
    "    result_df = pd.DataFrame(data)\n",
    "\n",
    "    # Sort based on the specified method\n",
    "    match sort_by:\n",
    "        case 'total':\n",
    "            result_df = result_df.sort_values('total_count', ascending=False)\n",
    "        case 'min_count':\n",
    "            result_df = result_df.sort_values('min_count', ascending=False)\n",
    "        case 'consistency':\n",
    "            result_df = result_df.sort_values('cv', ascending=True)  # Lower CV means more consistent across categories\n",
    "        case _:  # default to 'average'\n",
    "            result_df = result_df.sort_values('avg_count', ascending=False)\n",
    "\n",
    "    result_df = result_df.reset_index(drop=True)\n",
    "\n",
    "    # Return top m common words\n",
    "    return result_df.head(top_m)\n",
    "\n",
    "\n",
    "common_category_words = get_top_m_common_words(top_n=30)\n",
    "display(common_category_words)"
   ],
   "id": "d525f7693643694e",
   "outputs": [
    {
     "name": "stdout",
     "output_type": "stream",
     "text": [
      "The number of common words in all categories is 7\n"
     ]
    },
    {
     "data": {
      "text/plain": [
       "    word  business  tech  politics  sport  entertainment  total_count  \\\n",
       "0    say      1276  1168      1841    746            676         5707   \n",
       "1   year       614   321       291    447            434         2107   \n",
       "2  would       309   290       685    233            135         1652   \n",
       "3   make       238   357       297    297            225         1414   \n",
       "4   also       279   310       298    212            267         1366   \n",
       "5    new       275   334       271    202            231         1313   \n",
       "6    one       189   325       187    264            267         1232   \n",
       "\n",
       "   avg_count  min_count  max_count     std_dev        cv  \n",
       "0     1141.4        676       1841  419.810243  0.367803  \n",
       "1      421.4        291        614  114.011578  0.270554  \n",
       "2      330.4        135        685  187.349513  0.567038  \n",
       "3      282.8        225        357   47.448498  0.167781  \n",
       "4      273.2        212        310   34.019994  0.124524  \n",
       "5      262.6        202        334   44.706152  0.170244  \n",
       "6      246.4        187        325   52.412212  0.212712  "
      ],
      "text/html": [
       "<div>\n",
       "<style scoped>\n",
       "    .dataframe tbody tr th:only-of-type {\n",
       "        vertical-align: middle;\n",
       "    }\n",
       "\n",
       "    .dataframe tbody tr th {\n",
       "        vertical-align: top;\n",
       "    }\n",
       "\n",
       "    .dataframe thead th {\n",
       "        text-align: right;\n",
       "    }\n",
       "</style>\n",
       "<table border=\"1\" class=\"dataframe\">\n",
       "  <thead>\n",
       "    <tr style=\"text-align: right;\">\n",
       "      <th></th>\n",
       "      <th>word</th>\n",
       "      <th>business</th>\n",
       "      <th>tech</th>\n",
       "      <th>politics</th>\n",
       "      <th>sport</th>\n",
       "      <th>entertainment</th>\n",
       "      <th>total_count</th>\n",
       "      <th>avg_count</th>\n",
       "      <th>min_count</th>\n",
       "      <th>max_count</th>\n",
       "      <th>std_dev</th>\n",
       "      <th>cv</th>\n",
       "    </tr>\n",
       "  </thead>\n",
       "  <tbody>\n",
       "    <tr>\n",
       "      <th>0</th>\n",
       "      <td>say</td>\n",
       "      <td>1276</td>\n",
       "      <td>1168</td>\n",
       "      <td>1841</td>\n",
       "      <td>746</td>\n",
       "      <td>676</td>\n",
       "      <td>5707</td>\n",
       "      <td>1141.4</td>\n",
       "      <td>676</td>\n",
       "      <td>1841</td>\n",
       "      <td>419.810243</td>\n",
       "      <td>0.367803</td>\n",
       "    </tr>\n",
       "    <tr>\n",
       "      <th>1</th>\n",
       "      <td>year</td>\n",
       "      <td>614</td>\n",
       "      <td>321</td>\n",
       "      <td>291</td>\n",
       "      <td>447</td>\n",
       "      <td>434</td>\n",
       "      <td>2107</td>\n",
       "      <td>421.4</td>\n",
       "      <td>291</td>\n",
       "      <td>614</td>\n",
       "      <td>114.011578</td>\n",
       "      <td>0.270554</td>\n",
       "    </tr>\n",
       "    <tr>\n",
       "      <th>2</th>\n",
       "      <td>would</td>\n",
       "      <td>309</td>\n",
       "      <td>290</td>\n",
       "      <td>685</td>\n",
       "      <td>233</td>\n",
       "      <td>135</td>\n",
       "      <td>1652</td>\n",
       "      <td>330.4</td>\n",
       "      <td>135</td>\n",
       "      <td>685</td>\n",
       "      <td>187.349513</td>\n",
       "      <td>0.567038</td>\n",
       "    </tr>\n",
       "    <tr>\n",
       "      <th>3</th>\n",
       "      <td>make</td>\n",
       "      <td>238</td>\n",
       "      <td>357</td>\n",
       "      <td>297</td>\n",
       "      <td>297</td>\n",
       "      <td>225</td>\n",
       "      <td>1414</td>\n",
       "      <td>282.8</td>\n",
       "      <td>225</td>\n",
       "      <td>357</td>\n",
       "      <td>47.448498</td>\n",
       "      <td>0.167781</td>\n",
       "    </tr>\n",
       "    <tr>\n",
       "      <th>4</th>\n",
       "      <td>also</td>\n",
       "      <td>279</td>\n",
       "      <td>310</td>\n",
       "      <td>298</td>\n",
       "      <td>212</td>\n",
       "      <td>267</td>\n",
       "      <td>1366</td>\n",
       "      <td>273.2</td>\n",
       "      <td>212</td>\n",
       "      <td>310</td>\n",
       "      <td>34.019994</td>\n",
       "      <td>0.124524</td>\n",
       "    </tr>\n",
       "    <tr>\n",
       "      <th>5</th>\n",
       "      <td>new</td>\n",
       "      <td>275</td>\n",
       "      <td>334</td>\n",
       "      <td>271</td>\n",
       "      <td>202</td>\n",
       "      <td>231</td>\n",
       "      <td>1313</td>\n",
       "      <td>262.6</td>\n",
       "      <td>202</td>\n",
       "      <td>334</td>\n",
       "      <td>44.706152</td>\n",
       "      <td>0.170244</td>\n",
       "    </tr>\n",
       "    <tr>\n",
       "      <th>6</th>\n",
       "      <td>one</td>\n",
       "      <td>189</td>\n",
       "      <td>325</td>\n",
       "      <td>187</td>\n",
       "      <td>264</td>\n",
       "      <td>267</td>\n",
       "      <td>1232</td>\n",
       "      <td>246.4</td>\n",
       "      <td>187</td>\n",
       "      <td>325</td>\n",
       "      <td>52.412212</td>\n",
       "      <td>0.212712</td>\n",
       "    </tr>\n",
       "  </tbody>\n",
       "</table>\n",
       "</div>"
      ]
     },
     "metadata": {},
     "output_type": "display_data"
    }
   ],
   "execution_count": 25
  },
  {
   "metadata": {
    "ExecuteTime": {
     "end_time": "2025-07-30T20:43:20.860271Z",
     "start_time": "2025-07-30T20:43:20.674576Z"
    }
   },
   "cell_type": "code",
   "source": [
    "# Remove the common words from the word list\n",
    "remove_common = common_category_words['word'].tolist()\n",
    "\n",
    "# Cleanup the article Text\n",
    "text_cleaner = TextCleaner(additional_words=remove_common)\n",
    "bbcnews_train['Text_cleaned'] = text_cleaner.transform(bbcnews_train['Text'])\n",
    "print(\"Original Text: \", bbcnews_train['Text'][0], \"\\n\\n\")\n",
    "print(\"Cleaned Text: \", bbcnews_train['Text_cleaned'][0])"
   ],
   "id": "a7f776b554a2aa85",
   "outputs": [
    {
     "name": "stdout",
     "output_type": "stream",
     "text": [
      "Original Text:  worldcom ex-boss launches defence lawyers defending former worldcom chief bernie ebbers against a battery of fraud charges have called a company whistleblower as their first witness.  cynthia cooper  worldcom s ex-head of internal accounting  alerted directors to irregular accounting practices at the us telecoms giant in 2002. her warnings led to the collapse of the firm following the discovery of an $11bn (£5.7bn) accounting fraud. mr ebbers has pleaded not guilty to charges of fraud and conspiracy.  prosecution lawyers have argued that mr ebbers orchestrated a series of accounting tricks at worldcom  ordering employees to hide expenses and inflate revenues to meet wall street earnings estimates. but ms cooper  who now runs her own consulting business  told a jury in new york on wednesday that external auditors arthur andersen had approved worldcom s accounting in early 2001 and 2002. she said andersen had given a  green light  to the procedures and practices used by worldcom. mr ebber s lawyers have said he was unaware of the fraud  arguing that auditors did not alert him to any problems.  ms cooper also said that during shareholder meetings mr ebbers often passed over technical questions to the company s finance chief  giving only  brief  answers himself. the prosecution s star witness  former worldcom financial chief scott sullivan  has said that mr ebbers ordered accounting adjustments at the firm  telling him to  hit our books . however  ms cooper said mr sullivan had not mentioned  anything uncomfortable  about worldcom s accounting during a 2001 audit committee meeting. mr ebbers could face a jail sentence of 85 years if convicted of all the charges he is facing. worldcom emerged from bankruptcy protection in 2004  and is now known as mci. last week  mci agreed to a buyout by verizon communications in a deal valued at $6.75bn. \n",
      "\n",
      "\n",
      "Cleaned Text:  worldcom boss launches defence lawyers defending former worldcom chief bernie ebbers battery fraud charges called company whistleblower first witness cynthia cooper worldcom head internal accounting alerted directors irregular accounting practices telecoms giant warnings led collapse firm following discovery accounting fraud ebbers pleaded guilty charges fraud conspiracy prosecution lawyers argued ebbers orchestrated series accounting tricks worldcom ordering employees hide expenses inflate revenues meet wall street earnings estimates cooper runs consulting business told jury york wednesday external auditors arthur andersen approved worldcom accounting early said andersen given green light procedures practices used worldcom ebber lawyers said unaware fraud arguing auditors alert problems cooper said shareholder meetings ebbers often passed technical questions company finance chief giving brief answers prosecution star witness former worldcom financial chief scott sullivan said ebbers ordered accounting adjustments firm telling hit books however cooper said sullivan mentioned anything uncomfortable worldcom accounting audit committee meeting ebbers could face jail sentence years convicted charges facing worldcom emerged bankruptcy protection known mci last week mci agreed buyout verizon communications deal valued\n"
     ]
    }
   ],
   "execution_count": 26
  },
  {
   "metadata": {
    "ExecuteTime": {
     "end_time": "2025-07-30T20:43:25.423578Z",
     "start_time": "2025-07-30T20:43:23.562139Z"
    }
   },
   "cell_type": "code",
   "source": [
    "# Create and display treemaps for the top words in each category\n",
    "# Helper function to create the treemaps for each category\n",
    "def create_category_treemap(category, top_n=30):\n",
    "\n",
    "    # Create dataframe for treemap\n",
    "    treemap_data = pd.DataFrame(get_top_n_words(category, top_n), columns=['word', 'count'])\n",
    "\n",
    "    # Custom color schemes for each category\n",
    "    color_schemes = {\n",
    "        'business': 'Blues',\n",
    "        'entertainment': 'Teal',\n",
    "        'politics': 'Greens',\n",
    "        'sport': 'Reds',\n",
    "        'tech': 'Purples'\n",
    "    }\n",
    "\n",
    "    # Create treemap\n",
    "    fig = px.treemap(\n",
    "        treemap_data,\n",
    "        path=['word'],\n",
    "        values='count',\n",
    "        title=f'Most Common Words in {category.capitalize()} Articles',\n",
    "        color='count',\n",
    "        color_continuous_scale=color_schemes.get(category, 'Viridis'),\n",
    "        height=600\n",
    "    )\n",
    "\n",
    "    fig.update_layout(\n",
    "        margin=dict(t=50, l=25, r=25, b=25),\n",
    "        font=dict(size=14)\n",
    "    )\n",
    "\n",
    "    fig.update_traces(\n",
    "        textinfo='label+value',\n",
    "        hovertemplate='<b>%{label}</b><br>Count: %{value}<extra></extra>'\n",
    "    )\n",
    "\n",
    "    return fig\n",
    "\n",
    "\n",
    "for category in bbcnews_train['Category'].unique():\n",
    "    fig = create_category_treemap(category)\n",
    "    fig.show()\n"
   ],
   "id": "b1528a496dce022d",
   "outputs": [
    {
     "data": {
      "application/vnd.plotly.v1+json": {
       "data": [
        {
         "branchvalues": "total",
         "customdata": {
          "dtype": "f8",
          "bdata": "AAAAAAAokUAAAAAAAMBxQAAAAAAAUHBAAAAAAACgb0AAAAAAAKBvQAAAAAAAQG1AAAAAAAAAbUAAAAAAAOBqQAAAAAAAgGlAAAAAAABAaUAAAAAAACBpQAAAAAAAgGhAAAAAAACgZkAAAAAAAEBmQAAAAAAAYGVAAAAAAAAgZUAAAAAAAIBkQAAAAAAAYGRAAAAAAABAZEAAAAAAAIBjQAAAAAAAIGNAAAAAAAAAY0AAAAAAAIBhQAAAAAAAgGFAAAAAAACAYUAAAAAAACBhQAAAAAAA4GBAAAAAAACgYEAAAAAAAEBgQAAAAAAAgF9A",
          "shape": "30, 1"
         },
         "domain": {
          "x": [
           0.0,
           1.0
          ],
          "y": [
           0.0,
           1.0
          ]
         },
         "hovertemplate": "<b>%{label}</b><br>Count: %{value}<extra></extra>",
         "ids": [
          "said",
          "market",
          "firm",
          "company",
          "growth",
          "last",
          "economy",
          "government",
          "bank",
          "economic",
          "sales",
          "could",
          "may",
          "oil",
          "shares",
          "world",
          "however",
          "two",
          "years",
          "chief",
          "business",
          "deal",
          "financial",
          "china",
          "companies",
          "prices",
          "analysts",
          "dollar",
          "expected",
          "group"
         ],
         "labels": [
          "said",
          "market",
          "firm",
          "company",
          "growth",
          "last",
          "economy",
          "government",
          "bank",
          "economic",
          "sales",
          "could",
          "may",
          "oil",
          "shares",
          "world",
          "however",
          "two",
          "years",
          "chief",
          "business",
          "deal",
          "financial",
          "china",
          "companies",
          "prices",
          "analysts",
          "dollar",
          "expected",
          "group"
         ],
         "marker": {
          "coloraxis": "coloraxis",
          "colors": {
           "dtype": "f8",
           "bdata": "AAAAAAAokUAAAAAAAMBxQAAAAAAAUHBAAAAAAACgb0AAAAAAAKBvQAAAAAAAQG1AAAAAAAAAbUAAAAAAAOBqQAAAAAAAgGlAAAAAAABAaUAAAAAAACBpQAAAAAAAgGhAAAAAAACgZkAAAAAAAEBmQAAAAAAAYGVAAAAAAAAgZUAAAAAAAIBkQAAAAAAAYGRAAAAAAABAZEAAAAAAAIBjQAAAAAAAIGNAAAAAAAAAY0AAAAAAAIBhQAAAAAAAgGFAAAAAAACAYUAAAAAAACBhQAAAAAAA4GBAAAAAAACgYEAAAAAAAEBgQAAAAAAAgF9A"
          }
         },
         "name": "",
         "parents": [
          "",
          "",
          "",
          "",
          "",
          "",
          "",
          "",
          "",
          "",
          "",
          "",
          "",
          "",
          "",
          "",
          "",
          "",
          "",
          "",
          "",
          "",
          "",
          "",
          "",
          "",
          "",
          "",
          "",
          ""
         ],
         "values": {
          "dtype": "f8",
          "bdata": "AAAAAAAokUAAAAAAAMBxQAAAAAAAUHBAAAAAAACgb0AAAAAAAKBvQAAAAAAAQG1AAAAAAAAAbUAAAAAAAOBqQAAAAAAAgGlAAAAAAABAaUAAAAAAACBpQAAAAAAAgGhAAAAAAACgZkAAAAAAAEBmQAAAAAAAYGVAAAAAAAAgZUAAAAAAAIBkQAAAAAAAYGRAAAAAAABAZEAAAAAAAIBjQAAAAAAAIGNAAAAAAAAAY0AAAAAAAIBhQAAAAAAAgGFAAAAAAACAYUAAAAAAACBhQAAAAAAA4GBAAAAAAACgYEAAAAAAAEBgQAAAAAAAgF9A"
         },
         "type": "treemap",
         "textinfo": "label+value"
        }
       ],
       "layout": {
        "template": {
         "data": {
          "histogram2dcontour": [
           {
            "type": "histogram2dcontour",
            "colorbar": {
             "outlinewidth": 0,
             "ticks": ""
            },
            "colorscale": [
             [
              0.0,
              "#0d0887"
             ],
             [
              0.1111111111111111,
              "#46039f"
             ],
             [
              0.2222222222222222,
              "#7201a8"
             ],
             [
              0.3333333333333333,
              "#9c179e"
             ],
             [
              0.4444444444444444,
              "#bd3786"
             ],
             [
              0.5555555555555556,
              "#d8576b"
             ],
             [
              0.6666666666666666,
              "#ed7953"
             ],
             [
              0.7777777777777778,
              "#fb9f3a"
             ],
             [
              0.8888888888888888,
              "#fdca26"
             ],
             [
              1.0,
              "#f0f921"
             ]
            ]
           }
          ],
          "choropleth": [
           {
            "type": "choropleth",
            "colorbar": {
             "outlinewidth": 0,
             "ticks": ""
            }
           }
          ],
          "histogram2d": [
           {
            "type": "histogram2d",
            "colorbar": {
             "outlinewidth": 0,
             "ticks": ""
            },
            "colorscale": [
             [
              0.0,
              "#0d0887"
             ],
             [
              0.1111111111111111,
              "#46039f"
             ],
             [
              0.2222222222222222,
              "#7201a8"
             ],
             [
              0.3333333333333333,
              "#9c179e"
             ],
             [
              0.4444444444444444,
              "#bd3786"
             ],
             [
              0.5555555555555556,
              "#d8576b"
             ],
             [
              0.6666666666666666,
              "#ed7953"
             ],
             [
              0.7777777777777778,
              "#fb9f3a"
             ],
             [
              0.8888888888888888,
              "#fdca26"
             ],
             [
              1.0,
              "#f0f921"
             ]
            ]
           }
          ],
          "heatmap": [
           {
            "type": "heatmap",
            "colorbar": {
             "outlinewidth": 0,
             "ticks": ""
            },
            "colorscale": [
             [
              0.0,
              "#0d0887"
             ],
             [
              0.1111111111111111,
              "#46039f"
             ],
             [
              0.2222222222222222,
              "#7201a8"
             ],
             [
              0.3333333333333333,
              "#9c179e"
             ],
             [
              0.4444444444444444,
              "#bd3786"
             ],
             [
              0.5555555555555556,
              "#d8576b"
             ],
             [
              0.6666666666666666,
              "#ed7953"
             ],
             [
              0.7777777777777778,
              "#fb9f3a"
             ],
             [
              0.8888888888888888,
              "#fdca26"
             ],
             [
              1.0,
              "#f0f921"
             ]
            ]
           }
          ],
          "contourcarpet": [
           {
            "type": "contourcarpet",
            "colorbar": {
             "outlinewidth": 0,
             "ticks": ""
            }
           }
          ],
          "contour": [
           {
            "type": "contour",
            "colorbar": {
             "outlinewidth": 0,
             "ticks": ""
            },
            "colorscale": [
             [
              0.0,
              "#0d0887"
             ],
             [
              0.1111111111111111,
              "#46039f"
             ],
             [
              0.2222222222222222,
              "#7201a8"
             ],
             [
              0.3333333333333333,
              "#9c179e"
             ],
             [
              0.4444444444444444,
              "#bd3786"
             ],
             [
              0.5555555555555556,
              "#d8576b"
             ],
             [
              0.6666666666666666,
              "#ed7953"
             ],
             [
              0.7777777777777778,
              "#fb9f3a"
             ],
             [
              0.8888888888888888,
              "#fdca26"
             ],
             [
              1.0,
              "#f0f921"
             ]
            ]
           }
          ],
          "surface": [
           {
            "type": "surface",
            "colorbar": {
             "outlinewidth": 0,
             "ticks": ""
            },
            "colorscale": [
             [
              0.0,
              "#0d0887"
             ],
             [
              0.1111111111111111,
              "#46039f"
             ],
             [
              0.2222222222222222,
              "#7201a8"
             ],
             [
              0.3333333333333333,
              "#9c179e"
             ],
             [
              0.4444444444444444,
              "#bd3786"
             ],
             [
              0.5555555555555556,
              "#d8576b"
             ],
             [
              0.6666666666666666,
              "#ed7953"
             ],
             [
              0.7777777777777778,
              "#fb9f3a"
             ],
             [
              0.8888888888888888,
              "#fdca26"
             ],
             [
              1.0,
              "#f0f921"
             ]
            ]
           }
          ],
          "mesh3d": [
           {
            "type": "mesh3d",
            "colorbar": {
             "outlinewidth": 0,
             "ticks": ""
            }
           }
          ],
          "scatter": [
           {
            "marker": {
             "line": {
              "color": "#283442"
             }
            },
            "type": "scatter"
           }
          ],
          "parcoords": [
           {
            "type": "parcoords",
            "line": {
             "colorbar": {
              "outlinewidth": 0,
              "ticks": ""
             }
            }
           }
          ],
          "scatterpolargl": [
           {
            "type": "scatterpolargl",
            "marker": {
             "colorbar": {
              "outlinewidth": 0,
              "ticks": ""
             }
            }
           }
          ],
          "bar": [
           {
            "error_x": {
             "color": "#f2f5fa"
            },
            "error_y": {
             "color": "#f2f5fa"
            },
            "marker": {
             "line": {
              "color": "rgb(17,17,17)",
              "width": 0.5
             },
             "pattern": {
              "fillmode": "overlay",
              "size": 10,
              "solidity": 0.2
             }
            },
            "type": "bar"
           }
          ],
          "scattergeo": [
           {
            "type": "scattergeo",
            "marker": {
             "colorbar": {
              "outlinewidth": 0,
              "ticks": ""
             }
            }
           }
          ],
          "scatterpolar": [
           {
            "type": "scatterpolar",
            "marker": {
             "colorbar": {
              "outlinewidth": 0,
              "ticks": ""
             }
            }
           }
          ],
          "histogram": [
           {
            "marker": {
             "pattern": {
              "fillmode": "overlay",
              "size": 10,
              "solidity": 0.2
             }
            },
            "type": "histogram"
           }
          ],
          "scattergl": [
           {
            "marker": {
             "line": {
              "color": "#283442"
             }
            },
            "type": "scattergl"
           }
          ],
          "scatter3d": [
           {
            "type": "scatter3d",
            "line": {
             "colorbar": {
              "outlinewidth": 0,
              "ticks": ""
             }
            },
            "marker": {
             "colorbar": {
              "outlinewidth": 0,
              "ticks": ""
             }
            }
           }
          ],
          "scattermap": [
           {
            "type": "scattermap",
            "marker": {
             "colorbar": {
              "outlinewidth": 0,
              "ticks": ""
             }
            }
           }
          ],
          "scattermapbox": [
           {
            "type": "scattermapbox",
            "marker": {
             "colorbar": {
              "outlinewidth": 0,
              "ticks": ""
             }
            }
           }
          ],
          "scatterternary": [
           {
            "type": "scatterternary",
            "marker": {
             "colorbar": {
              "outlinewidth": 0,
              "ticks": ""
             }
            }
           }
          ],
          "scattercarpet": [
           {
            "type": "scattercarpet",
            "marker": {
             "colorbar": {
              "outlinewidth": 0,
              "ticks": ""
             }
            }
           }
          ],
          "carpet": [
           {
            "aaxis": {
             "endlinecolor": "#A2B1C6",
             "gridcolor": "#506784",
             "linecolor": "#506784",
             "minorgridcolor": "#506784",
             "startlinecolor": "#A2B1C6"
            },
            "baxis": {
             "endlinecolor": "#A2B1C6",
             "gridcolor": "#506784",
             "linecolor": "#506784",
             "minorgridcolor": "#506784",
             "startlinecolor": "#A2B1C6"
            },
            "type": "carpet"
           }
          ],
          "table": [
           {
            "cells": {
             "fill": {
              "color": "#506784"
             },
             "line": {
              "color": "rgb(17,17,17)"
             }
            },
            "header": {
             "fill": {
              "color": "#2a3f5f"
             },
             "line": {
              "color": "rgb(17,17,17)"
             }
            },
            "type": "table"
           }
          ],
          "barpolar": [
           {
            "marker": {
             "line": {
              "color": "rgb(17,17,17)",
              "width": 0.5
             },
             "pattern": {
              "fillmode": "overlay",
              "size": 10,
              "solidity": 0.2
             }
            },
            "type": "barpolar"
           }
          ],
          "pie": [
           {
            "automargin": true,
            "type": "pie"
           }
          ]
         },
         "layout": {
          "autotypenumbers": "strict",
          "colorway": [
           "#636efa",
           "#EF553B",
           "#00cc96",
           "#ab63fa",
           "#FFA15A",
           "#19d3f3",
           "#FF6692",
           "#B6E880",
           "#FF97FF",
           "#FECB52"
          ],
          "font": {
           "color": "#f2f5fa"
          },
          "hovermode": "closest",
          "hoverlabel": {
           "align": "left"
          },
          "paper_bgcolor": "rgb(17,17,17)",
          "plot_bgcolor": "rgb(17,17,17)",
          "polar": {
           "bgcolor": "rgb(17,17,17)",
           "angularaxis": {
            "gridcolor": "#506784",
            "linecolor": "#506784",
            "ticks": ""
           },
           "radialaxis": {
            "gridcolor": "#506784",
            "linecolor": "#506784",
            "ticks": ""
           }
          },
          "ternary": {
           "bgcolor": "rgb(17,17,17)",
           "aaxis": {
            "gridcolor": "#506784",
            "linecolor": "#506784",
            "ticks": ""
           },
           "baxis": {
            "gridcolor": "#506784",
            "linecolor": "#506784",
            "ticks": ""
           },
           "caxis": {
            "gridcolor": "#506784",
            "linecolor": "#506784",
            "ticks": ""
           }
          },
          "coloraxis": {
           "colorbar": {
            "outlinewidth": 0,
            "ticks": ""
           }
          },
          "colorscale": {
           "sequential": [
            [
             0.0,
             "#0d0887"
            ],
            [
             0.1111111111111111,
             "#46039f"
            ],
            [
             0.2222222222222222,
             "#7201a8"
            ],
            [
             0.3333333333333333,
             "#9c179e"
            ],
            [
             0.4444444444444444,
             "#bd3786"
            ],
            [
             0.5555555555555556,
             "#d8576b"
            ],
            [
             0.6666666666666666,
             "#ed7953"
            ],
            [
             0.7777777777777778,
             "#fb9f3a"
            ],
            [
             0.8888888888888888,
             "#fdca26"
            ],
            [
             1.0,
             "#f0f921"
            ]
           ],
           "sequentialminus": [
            [
             0.0,
             "#0d0887"
            ],
            [
             0.1111111111111111,
             "#46039f"
            ],
            [
             0.2222222222222222,
             "#7201a8"
            ],
            [
             0.3333333333333333,
             "#9c179e"
            ],
            [
             0.4444444444444444,
             "#bd3786"
            ],
            [
             0.5555555555555556,
             "#d8576b"
            ],
            [
             0.6666666666666666,
             "#ed7953"
            ],
            [
             0.7777777777777778,
             "#fb9f3a"
            ],
            [
             0.8888888888888888,
             "#fdca26"
            ],
            [
             1.0,
             "#f0f921"
            ]
           ],
           "diverging": [
            [
             0,
             "#8e0152"
            ],
            [
             0.1,
             "#c51b7d"
            ],
            [
             0.2,
             "#de77ae"
            ],
            [
             0.3,
             "#f1b6da"
            ],
            [
             0.4,
             "#fde0ef"
            ],
            [
             0.5,
             "#f7f7f7"
            ],
            [
             0.6,
             "#e6f5d0"
            ],
            [
             0.7,
             "#b8e186"
            ],
            [
             0.8,
             "#7fbc41"
            ],
            [
             0.9,
             "#4d9221"
            ],
            [
             1,
             "#276419"
            ]
           ]
          },
          "xaxis": {
           "gridcolor": "#283442",
           "linecolor": "#506784",
           "ticks": "",
           "title": {
            "standoff": 15
           },
           "zerolinecolor": "#283442",
           "automargin": true,
           "zerolinewidth": 2
          },
          "yaxis": {
           "gridcolor": "#283442",
           "linecolor": "#506784",
           "ticks": "",
           "title": {
            "standoff": 15
           },
           "zerolinecolor": "#283442",
           "automargin": true,
           "zerolinewidth": 2
          },
          "scene": {
           "xaxis": {
            "backgroundcolor": "rgb(17,17,17)",
            "gridcolor": "#506784",
            "linecolor": "#506784",
            "showbackground": true,
            "ticks": "",
            "zerolinecolor": "#C8D4E3",
            "gridwidth": 2
           },
           "yaxis": {
            "backgroundcolor": "rgb(17,17,17)",
            "gridcolor": "#506784",
            "linecolor": "#506784",
            "showbackground": true,
            "ticks": "",
            "zerolinecolor": "#C8D4E3",
            "gridwidth": 2
           },
           "zaxis": {
            "backgroundcolor": "rgb(17,17,17)",
            "gridcolor": "#506784",
            "linecolor": "#506784",
            "showbackground": true,
            "ticks": "",
            "zerolinecolor": "#C8D4E3",
            "gridwidth": 2
           }
          },
          "shapedefaults": {
           "line": {
            "color": "#f2f5fa"
           }
          },
          "annotationdefaults": {
           "arrowcolor": "#f2f5fa",
           "arrowhead": 0,
           "arrowwidth": 1
          },
          "geo": {
           "bgcolor": "rgb(17,17,17)",
           "landcolor": "rgb(17,17,17)",
           "subunitcolor": "#506784",
           "showland": true,
           "showlakes": true,
           "lakecolor": "rgb(17,17,17)"
          },
          "title": {
           "x": 0.05
          },
          "updatemenudefaults": {
           "bgcolor": "#506784",
           "borderwidth": 0
          },
          "sliderdefaults": {
           "bgcolor": "#C8D4E3",
           "borderwidth": 1,
           "bordercolor": "rgb(17,17,17)",
           "tickwidth": 0
          },
          "mapbox": {
           "style": "dark"
          }
         }
        },
        "coloraxis": {
         "colorbar": {
          "title": {
           "text": "count"
          }
         },
         "colorscale": [
          [
           0.0,
           "rgb(247,251,255)"
          ],
          [
           0.125,
           "rgb(222,235,247)"
          ],
          [
           0.25,
           "rgb(198,219,239)"
          ],
          [
           0.375,
           "rgb(158,202,225)"
          ],
          [
           0.5,
           "rgb(107,174,214)"
          ],
          [
           0.625,
           "rgb(66,146,198)"
          ],
          [
           0.75,
           "rgb(33,113,181)"
          ],
          [
           0.875,
           "rgb(8,81,156)"
          ],
          [
           1.0,
           "rgb(8,48,107)"
          ]
         ]
        },
        "legend": {
         "tracegroupgap": 0
        },
        "title": {
         "text": "Most Common Words in Business Articles"
        },
        "height": 600,
        "margin": {
         "t": 50,
         "l": 25,
         "r": 25,
         "b": 25
        },
        "font": {
         "size": 14
        }
       },
       "config": {
        "plotlyServerURL": "https://plot.ly"
       }
      }
     },
     "metadata": {},
     "output_type": "display_data"
    },
    {
     "data": {
      "application/vnd.plotly.v1+json": {
       "data": [
        {
         "branchvalues": "total",
         "customdata": {
          "dtype": "f8",
          "bdata": "AAAAAACgjkAAAAAAABCCQAAAAAAA8HJAAAAAAADwcUAAAAAAAPBwQAAAAAAAQG5AAAAAAAAAbkAAAAAAAKBtQAAAAAAAIG1AAAAAAADAa0AAAAAAAEBrQAAAAAAAYGpAAAAAAABAakAAAAAAACBpQAAAAAAAgGdAAAAAAADAZkAAAAAAAGBmQAAAAAAAYGZAAAAAAAAAZkAAAAAAAKBlQAAAAAAAoGVAAAAAAADgZEAAAAAAAOBkQAAAAAAAwGRAAAAAAACgZEAAAAAAAGBkQAAAAAAAIGRAAAAAAAAAZEAAAAAAAKBjQAAAAAAAoGNA",
          "shape": "30, 1"
         },
         "domain": {
          "x": [
           0.0,
           1.0
          ],
          "y": [
           0.0,
           1.0
          ]
         },
         "hovertemplate": "<b>%{label}</b><br>Count: %{value}<extra></extra>",
         "ids": [
          "said",
          "people",
          "mobile",
          "could",
          "technology",
          "use",
          "net",
          "users",
          "software",
          "music",
          "many",
          "phone",
          "games",
          "digital",
          "like",
          "online",
          "used",
          "time",
          "computer",
          "service",
          "microsoft",
          "get",
          "first",
          "million",
          "internet",
          "game",
          "way",
          "world",
          "broadband",
          "video"
         ],
         "labels": [
          "said",
          "people",
          "mobile",
          "could",
          "technology",
          "use",
          "net",
          "users",
          "software",
          "music",
          "many",
          "phone",
          "games",
          "digital",
          "like",
          "online",
          "used",
          "time",
          "computer",
          "service",
          "microsoft",
          "get",
          "first",
          "million",
          "internet",
          "game",
          "way",
          "world",
          "broadband",
          "video"
         ],
         "marker": {
          "coloraxis": "coloraxis",
          "colors": {
           "dtype": "f8",
           "bdata": "AAAAAACgjkAAAAAAABCCQAAAAAAA8HJAAAAAAADwcUAAAAAAAPBwQAAAAAAAQG5AAAAAAAAAbkAAAAAAAKBtQAAAAAAAIG1AAAAAAADAa0AAAAAAAEBrQAAAAAAAYGpAAAAAAABAakAAAAAAACBpQAAAAAAAgGdAAAAAAADAZkAAAAAAAGBmQAAAAAAAYGZAAAAAAAAAZkAAAAAAAKBlQAAAAAAAoGVAAAAAAADgZEAAAAAAAOBkQAAAAAAAwGRAAAAAAACgZEAAAAAAAGBkQAAAAAAAIGRAAAAAAAAAZEAAAAAAAKBjQAAAAAAAoGNA"
          }
         },
         "name": "",
         "parents": [
          "",
          "",
          "",
          "",
          "",
          "",
          "",
          "",
          "",
          "",
          "",
          "",
          "",
          "",
          "",
          "",
          "",
          "",
          "",
          "",
          "",
          "",
          "",
          "",
          "",
          "",
          "",
          "",
          "",
          ""
         ],
         "values": {
          "dtype": "f8",
          "bdata": "AAAAAACgjkAAAAAAABCCQAAAAAAA8HJAAAAAAADwcUAAAAAAAPBwQAAAAAAAQG5AAAAAAAAAbkAAAAAAAKBtQAAAAAAAIG1AAAAAAADAa0AAAAAAAEBrQAAAAAAAYGpAAAAAAABAakAAAAAAACBpQAAAAAAAgGdAAAAAAADAZkAAAAAAAGBmQAAAAAAAYGZAAAAAAAAAZkAAAAAAAKBlQAAAAAAAoGVAAAAAAADgZEAAAAAAAOBkQAAAAAAAwGRAAAAAAACgZEAAAAAAAGBkQAAAAAAAIGRAAAAAAAAAZEAAAAAAAKBjQAAAAAAAoGNA"
         },
         "type": "treemap",
         "textinfo": "label+value"
        }
       ],
       "layout": {
        "template": {
         "data": {
          "histogram2dcontour": [
           {
            "type": "histogram2dcontour",
            "colorbar": {
             "outlinewidth": 0,
             "ticks": ""
            },
            "colorscale": [
             [
              0.0,
              "#0d0887"
             ],
             [
              0.1111111111111111,
              "#46039f"
             ],
             [
              0.2222222222222222,
              "#7201a8"
             ],
             [
              0.3333333333333333,
              "#9c179e"
             ],
             [
              0.4444444444444444,
              "#bd3786"
             ],
             [
              0.5555555555555556,
              "#d8576b"
             ],
             [
              0.6666666666666666,
              "#ed7953"
             ],
             [
              0.7777777777777778,
              "#fb9f3a"
             ],
             [
              0.8888888888888888,
              "#fdca26"
             ],
             [
              1.0,
              "#f0f921"
             ]
            ]
           }
          ],
          "choropleth": [
           {
            "type": "choropleth",
            "colorbar": {
             "outlinewidth": 0,
             "ticks": ""
            }
           }
          ],
          "histogram2d": [
           {
            "type": "histogram2d",
            "colorbar": {
             "outlinewidth": 0,
             "ticks": ""
            },
            "colorscale": [
             [
              0.0,
              "#0d0887"
             ],
             [
              0.1111111111111111,
              "#46039f"
             ],
             [
              0.2222222222222222,
              "#7201a8"
             ],
             [
              0.3333333333333333,
              "#9c179e"
             ],
             [
              0.4444444444444444,
              "#bd3786"
             ],
             [
              0.5555555555555556,
              "#d8576b"
             ],
             [
              0.6666666666666666,
              "#ed7953"
             ],
             [
              0.7777777777777778,
              "#fb9f3a"
             ],
             [
              0.8888888888888888,
              "#fdca26"
             ],
             [
              1.0,
              "#f0f921"
             ]
            ]
           }
          ],
          "heatmap": [
           {
            "type": "heatmap",
            "colorbar": {
             "outlinewidth": 0,
             "ticks": ""
            },
            "colorscale": [
             [
              0.0,
              "#0d0887"
             ],
             [
              0.1111111111111111,
              "#46039f"
             ],
             [
              0.2222222222222222,
              "#7201a8"
             ],
             [
              0.3333333333333333,
              "#9c179e"
             ],
             [
              0.4444444444444444,
              "#bd3786"
             ],
             [
              0.5555555555555556,
              "#d8576b"
             ],
             [
              0.6666666666666666,
              "#ed7953"
             ],
             [
              0.7777777777777778,
              "#fb9f3a"
             ],
             [
              0.8888888888888888,
              "#fdca26"
             ],
             [
              1.0,
              "#f0f921"
             ]
            ]
           }
          ],
          "contourcarpet": [
           {
            "type": "contourcarpet",
            "colorbar": {
             "outlinewidth": 0,
             "ticks": ""
            }
           }
          ],
          "contour": [
           {
            "type": "contour",
            "colorbar": {
             "outlinewidth": 0,
             "ticks": ""
            },
            "colorscale": [
             [
              0.0,
              "#0d0887"
             ],
             [
              0.1111111111111111,
              "#46039f"
             ],
             [
              0.2222222222222222,
              "#7201a8"
             ],
             [
              0.3333333333333333,
              "#9c179e"
             ],
             [
              0.4444444444444444,
              "#bd3786"
             ],
             [
              0.5555555555555556,
              "#d8576b"
             ],
             [
              0.6666666666666666,
              "#ed7953"
             ],
             [
              0.7777777777777778,
              "#fb9f3a"
             ],
             [
              0.8888888888888888,
              "#fdca26"
             ],
             [
              1.0,
              "#f0f921"
             ]
            ]
           }
          ],
          "surface": [
           {
            "type": "surface",
            "colorbar": {
             "outlinewidth": 0,
             "ticks": ""
            },
            "colorscale": [
             [
              0.0,
              "#0d0887"
             ],
             [
              0.1111111111111111,
              "#46039f"
             ],
             [
              0.2222222222222222,
              "#7201a8"
             ],
             [
              0.3333333333333333,
              "#9c179e"
             ],
             [
              0.4444444444444444,
              "#bd3786"
             ],
             [
              0.5555555555555556,
              "#d8576b"
             ],
             [
              0.6666666666666666,
              "#ed7953"
             ],
             [
              0.7777777777777778,
              "#fb9f3a"
             ],
             [
              0.8888888888888888,
              "#fdca26"
             ],
             [
              1.0,
              "#f0f921"
             ]
            ]
           }
          ],
          "mesh3d": [
           {
            "type": "mesh3d",
            "colorbar": {
             "outlinewidth": 0,
             "ticks": ""
            }
           }
          ],
          "scatter": [
           {
            "marker": {
             "line": {
              "color": "#283442"
             }
            },
            "type": "scatter"
           }
          ],
          "parcoords": [
           {
            "type": "parcoords",
            "line": {
             "colorbar": {
              "outlinewidth": 0,
              "ticks": ""
             }
            }
           }
          ],
          "scatterpolargl": [
           {
            "type": "scatterpolargl",
            "marker": {
             "colorbar": {
              "outlinewidth": 0,
              "ticks": ""
             }
            }
           }
          ],
          "bar": [
           {
            "error_x": {
             "color": "#f2f5fa"
            },
            "error_y": {
             "color": "#f2f5fa"
            },
            "marker": {
             "line": {
              "color": "rgb(17,17,17)",
              "width": 0.5
             },
             "pattern": {
              "fillmode": "overlay",
              "size": 10,
              "solidity": 0.2
             }
            },
            "type": "bar"
           }
          ],
          "scattergeo": [
           {
            "type": "scattergeo",
            "marker": {
             "colorbar": {
              "outlinewidth": 0,
              "ticks": ""
             }
            }
           }
          ],
          "scatterpolar": [
           {
            "type": "scatterpolar",
            "marker": {
             "colorbar": {
              "outlinewidth": 0,
              "ticks": ""
             }
            }
           }
          ],
          "histogram": [
           {
            "marker": {
             "pattern": {
              "fillmode": "overlay",
              "size": 10,
              "solidity": 0.2
             }
            },
            "type": "histogram"
           }
          ],
          "scattergl": [
           {
            "marker": {
             "line": {
              "color": "#283442"
             }
            },
            "type": "scattergl"
           }
          ],
          "scatter3d": [
           {
            "type": "scatter3d",
            "line": {
             "colorbar": {
              "outlinewidth": 0,
              "ticks": ""
             }
            },
            "marker": {
             "colorbar": {
              "outlinewidth": 0,
              "ticks": ""
             }
            }
           }
          ],
          "scattermap": [
           {
            "type": "scattermap",
            "marker": {
             "colorbar": {
              "outlinewidth": 0,
              "ticks": ""
             }
            }
           }
          ],
          "scattermapbox": [
           {
            "type": "scattermapbox",
            "marker": {
             "colorbar": {
              "outlinewidth": 0,
              "ticks": ""
             }
            }
           }
          ],
          "scatterternary": [
           {
            "type": "scatterternary",
            "marker": {
             "colorbar": {
              "outlinewidth": 0,
              "ticks": ""
             }
            }
           }
          ],
          "scattercarpet": [
           {
            "type": "scattercarpet",
            "marker": {
             "colorbar": {
              "outlinewidth": 0,
              "ticks": ""
             }
            }
           }
          ],
          "carpet": [
           {
            "aaxis": {
             "endlinecolor": "#A2B1C6",
             "gridcolor": "#506784",
             "linecolor": "#506784",
             "minorgridcolor": "#506784",
             "startlinecolor": "#A2B1C6"
            },
            "baxis": {
             "endlinecolor": "#A2B1C6",
             "gridcolor": "#506784",
             "linecolor": "#506784",
             "minorgridcolor": "#506784",
             "startlinecolor": "#A2B1C6"
            },
            "type": "carpet"
           }
          ],
          "table": [
           {
            "cells": {
             "fill": {
              "color": "#506784"
             },
             "line": {
              "color": "rgb(17,17,17)"
             }
            },
            "header": {
             "fill": {
              "color": "#2a3f5f"
             },
             "line": {
              "color": "rgb(17,17,17)"
             }
            },
            "type": "table"
           }
          ],
          "barpolar": [
           {
            "marker": {
             "line": {
              "color": "rgb(17,17,17)",
              "width": 0.5
             },
             "pattern": {
              "fillmode": "overlay",
              "size": 10,
              "solidity": 0.2
             }
            },
            "type": "barpolar"
           }
          ],
          "pie": [
           {
            "automargin": true,
            "type": "pie"
           }
          ]
         },
         "layout": {
          "autotypenumbers": "strict",
          "colorway": [
           "#636efa",
           "#EF553B",
           "#00cc96",
           "#ab63fa",
           "#FFA15A",
           "#19d3f3",
           "#FF6692",
           "#B6E880",
           "#FF97FF",
           "#FECB52"
          ],
          "font": {
           "color": "#f2f5fa"
          },
          "hovermode": "closest",
          "hoverlabel": {
           "align": "left"
          },
          "paper_bgcolor": "rgb(17,17,17)",
          "plot_bgcolor": "rgb(17,17,17)",
          "polar": {
           "bgcolor": "rgb(17,17,17)",
           "angularaxis": {
            "gridcolor": "#506784",
            "linecolor": "#506784",
            "ticks": ""
           },
           "radialaxis": {
            "gridcolor": "#506784",
            "linecolor": "#506784",
            "ticks": ""
           }
          },
          "ternary": {
           "bgcolor": "rgb(17,17,17)",
           "aaxis": {
            "gridcolor": "#506784",
            "linecolor": "#506784",
            "ticks": ""
           },
           "baxis": {
            "gridcolor": "#506784",
            "linecolor": "#506784",
            "ticks": ""
           },
           "caxis": {
            "gridcolor": "#506784",
            "linecolor": "#506784",
            "ticks": ""
           }
          },
          "coloraxis": {
           "colorbar": {
            "outlinewidth": 0,
            "ticks": ""
           }
          },
          "colorscale": {
           "sequential": [
            [
             0.0,
             "#0d0887"
            ],
            [
             0.1111111111111111,
             "#46039f"
            ],
            [
             0.2222222222222222,
             "#7201a8"
            ],
            [
             0.3333333333333333,
             "#9c179e"
            ],
            [
             0.4444444444444444,
             "#bd3786"
            ],
            [
             0.5555555555555556,
             "#d8576b"
            ],
            [
             0.6666666666666666,
             "#ed7953"
            ],
            [
             0.7777777777777778,
             "#fb9f3a"
            ],
            [
             0.8888888888888888,
             "#fdca26"
            ],
            [
             1.0,
             "#f0f921"
            ]
           ],
           "sequentialminus": [
            [
             0.0,
             "#0d0887"
            ],
            [
             0.1111111111111111,
             "#46039f"
            ],
            [
             0.2222222222222222,
             "#7201a8"
            ],
            [
             0.3333333333333333,
             "#9c179e"
            ],
            [
             0.4444444444444444,
             "#bd3786"
            ],
            [
             0.5555555555555556,
             "#d8576b"
            ],
            [
             0.6666666666666666,
             "#ed7953"
            ],
            [
             0.7777777777777778,
             "#fb9f3a"
            ],
            [
             0.8888888888888888,
             "#fdca26"
            ],
            [
             1.0,
             "#f0f921"
            ]
           ],
           "diverging": [
            [
             0,
             "#8e0152"
            ],
            [
             0.1,
             "#c51b7d"
            ],
            [
             0.2,
             "#de77ae"
            ],
            [
             0.3,
             "#f1b6da"
            ],
            [
             0.4,
             "#fde0ef"
            ],
            [
             0.5,
             "#f7f7f7"
            ],
            [
             0.6,
             "#e6f5d0"
            ],
            [
             0.7,
             "#b8e186"
            ],
            [
             0.8,
             "#7fbc41"
            ],
            [
             0.9,
             "#4d9221"
            ],
            [
             1,
             "#276419"
            ]
           ]
          },
          "xaxis": {
           "gridcolor": "#283442",
           "linecolor": "#506784",
           "ticks": "",
           "title": {
            "standoff": 15
           },
           "zerolinecolor": "#283442",
           "automargin": true,
           "zerolinewidth": 2
          },
          "yaxis": {
           "gridcolor": "#283442",
           "linecolor": "#506784",
           "ticks": "",
           "title": {
            "standoff": 15
           },
           "zerolinecolor": "#283442",
           "automargin": true,
           "zerolinewidth": 2
          },
          "scene": {
           "xaxis": {
            "backgroundcolor": "rgb(17,17,17)",
            "gridcolor": "#506784",
            "linecolor": "#506784",
            "showbackground": true,
            "ticks": "",
            "zerolinecolor": "#C8D4E3",
            "gridwidth": 2
           },
           "yaxis": {
            "backgroundcolor": "rgb(17,17,17)",
            "gridcolor": "#506784",
            "linecolor": "#506784",
            "showbackground": true,
            "ticks": "",
            "zerolinecolor": "#C8D4E3",
            "gridwidth": 2
           },
           "zaxis": {
            "backgroundcolor": "rgb(17,17,17)",
            "gridcolor": "#506784",
            "linecolor": "#506784",
            "showbackground": true,
            "ticks": "",
            "zerolinecolor": "#C8D4E3",
            "gridwidth": 2
           }
          },
          "shapedefaults": {
           "line": {
            "color": "#f2f5fa"
           }
          },
          "annotationdefaults": {
           "arrowcolor": "#f2f5fa",
           "arrowhead": 0,
           "arrowwidth": 1
          },
          "geo": {
           "bgcolor": "rgb(17,17,17)",
           "landcolor": "rgb(17,17,17)",
           "subunitcolor": "#506784",
           "showland": true,
           "showlakes": true,
           "lakecolor": "rgb(17,17,17)"
          },
          "title": {
           "x": 0.05
          },
          "updatemenudefaults": {
           "bgcolor": "#506784",
           "borderwidth": 0
          },
          "sliderdefaults": {
           "bgcolor": "#C8D4E3",
           "borderwidth": 1,
           "bordercolor": "rgb(17,17,17)",
           "tickwidth": 0
          },
          "mapbox": {
           "style": "dark"
          }
         }
        },
        "coloraxis": {
         "colorbar": {
          "title": {
           "text": "count"
          }
         },
         "colorscale": [
          [
           0.0,
           "rgb(252,251,253)"
          ],
          [
           0.125,
           "rgb(239,237,245)"
          ],
          [
           0.25,
           "rgb(218,218,235)"
          ],
          [
           0.375,
           "rgb(188,189,220)"
          ],
          [
           0.5,
           "rgb(158,154,200)"
          ],
          [
           0.625,
           "rgb(128,125,186)"
          ],
          [
           0.75,
           "rgb(106,81,163)"
          ],
          [
           0.875,
           "rgb(84,39,143)"
          ],
          [
           1.0,
           "rgb(63,0,125)"
          ]
         ]
        },
        "legend": {
         "tracegroupgap": 0
        },
        "title": {
         "text": "Most Common Words in Tech Articles"
        },
        "height": 600,
        "margin": {
         "t": 50,
         "l": 25,
         "r": 25,
         "b": 25
        },
        "font": {
         "size": 14
        }
       },
       "config": {
        "plotlyServerURL": "https://plot.ly"
       }
      }
     },
     "metadata": {},
     "output_type": "display_data"
    },
    {
     "data": {
      "application/vnd.plotly.v1+json": {
       "data": [
        {
         "branchvalues": "total",
         "customdata": {
          "dtype": "f8",
          "bdata": "AAAAAAAQlkAAAAAAAKB9QAAAAAAAUHxAAAAAAABQeUAAAAAAANB3QAAAAAAAsHZAAAAAAACAdkAAAAAAAGBxQAAAAAAAkHBAAAAAAAAQcEAAAAAAAIBqQAAAAAAA4GlAAAAAAADAZ0AAAAAAAMBnQAAAAAAAgGdAAAAAAADgZkAAAAAAAABmQAAAAAAA4GVAAAAAAAAgZEAAAAAAAOBjQAAAAAAAwGNAAAAAAABgY0AAAAAAACBjQAAAAAAA4GJAAAAAAADgYkAAAAAAAKBiQAAAAAAAgGJAAAAAAABgYkAAAAAAAGBiQAAAAAAAoGFA",
          "shape": "30, 1"
         },
         "domain": {
          "x": [
           0.0,
           1.0
          ],
          "y": [
           0.0,
           1.0
          ]
         },
         "hovertemplate": "<b>%{label}</b><br>Count: %{value}<extra></extra>",
         "ids": [
          "said",
          "labour",
          "government",
          "election",
          "blair",
          "people",
          "party",
          "minister",
          "could",
          "brown",
          "told",
          "plans",
          "howard",
          "public",
          "prime",
          "tax",
          "britain",
          "secretary",
          "tory",
          "general",
          "leader",
          "tories",
          "chancellor",
          "says",
          "home",
          "two",
          "next",
          "lord",
          "bbc",
          "campaign"
         ],
         "labels": [
          "said",
          "labour",
          "government",
          "election",
          "blair",
          "people",
          "party",
          "minister",
          "could",
          "brown",
          "told",
          "plans",
          "howard",
          "public",
          "prime",
          "tax",
          "britain",
          "secretary",
          "tory",
          "general",
          "leader",
          "tories",
          "chancellor",
          "says",
          "home",
          "two",
          "next",
          "lord",
          "bbc",
          "campaign"
         ],
         "marker": {
          "coloraxis": "coloraxis",
          "colors": {
           "dtype": "f8",
           "bdata": "AAAAAAAQlkAAAAAAAKB9QAAAAAAAUHxAAAAAAABQeUAAAAAAANB3QAAAAAAAsHZAAAAAAACAdkAAAAAAAGBxQAAAAAAAkHBAAAAAAAAQcEAAAAAAAIBqQAAAAAAA4GlAAAAAAADAZ0AAAAAAAMBnQAAAAAAAgGdAAAAAAADgZkAAAAAAAABmQAAAAAAA4GVAAAAAAAAgZEAAAAAAAOBjQAAAAAAAwGNAAAAAAABgY0AAAAAAACBjQAAAAAAA4GJAAAAAAADgYkAAAAAAAKBiQAAAAAAAgGJAAAAAAABgYkAAAAAAAGBiQAAAAAAAoGFA"
          }
         },
         "name": "",
         "parents": [
          "",
          "",
          "",
          "",
          "",
          "",
          "",
          "",
          "",
          "",
          "",
          "",
          "",
          "",
          "",
          "",
          "",
          "",
          "",
          "",
          "",
          "",
          "",
          "",
          "",
          "",
          "",
          "",
          "",
          ""
         ],
         "values": {
          "dtype": "f8",
          "bdata": "AAAAAAAQlkAAAAAAAKB9QAAAAAAAUHxAAAAAAABQeUAAAAAAANB3QAAAAAAAsHZAAAAAAACAdkAAAAAAAGBxQAAAAAAAkHBAAAAAAAAQcEAAAAAAAIBqQAAAAAAA4GlAAAAAAADAZ0AAAAAAAMBnQAAAAAAAgGdAAAAAAADgZkAAAAAAAABmQAAAAAAA4GVAAAAAAAAgZEAAAAAAAOBjQAAAAAAAwGNAAAAAAABgY0AAAAAAACBjQAAAAAAA4GJAAAAAAADgYkAAAAAAAKBiQAAAAAAAgGJAAAAAAABgYkAAAAAAAGBiQAAAAAAAoGFA"
         },
         "type": "treemap",
         "textinfo": "label+value"
        }
       ],
       "layout": {
        "template": {
         "data": {
          "histogram2dcontour": [
           {
            "type": "histogram2dcontour",
            "colorbar": {
             "outlinewidth": 0,
             "ticks": ""
            },
            "colorscale": [
             [
              0.0,
              "#0d0887"
             ],
             [
              0.1111111111111111,
              "#46039f"
             ],
             [
              0.2222222222222222,
              "#7201a8"
             ],
             [
              0.3333333333333333,
              "#9c179e"
             ],
             [
              0.4444444444444444,
              "#bd3786"
             ],
             [
              0.5555555555555556,
              "#d8576b"
             ],
             [
              0.6666666666666666,
              "#ed7953"
             ],
             [
              0.7777777777777778,
              "#fb9f3a"
             ],
             [
              0.8888888888888888,
              "#fdca26"
             ],
             [
              1.0,
              "#f0f921"
             ]
            ]
           }
          ],
          "choropleth": [
           {
            "type": "choropleth",
            "colorbar": {
             "outlinewidth": 0,
             "ticks": ""
            }
           }
          ],
          "histogram2d": [
           {
            "type": "histogram2d",
            "colorbar": {
             "outlinewidth": 0,
             "ticks": ""
            },
            "colorscale": [
             [
              0.0,
              "#0d0887"
             ],
             [
              0.1111111111111111,
              "#46039f"
             ],
             [
              0.2222222222222222,
              "#7201a8"
             ],
             [
              0.3333333333333333,
              "#9c179e"
             ],
             [
              0.4444444444444444,
              "#bd3786"
             ],
             [
              0.5555555555555556,
              "#d8576b"
             ],
             [
              0.6666666666666666,
              "#ed7953"
             ],
             [
              0.7777777777777778,
              "#fb9f3a"
             ],
             [
              0.8888888888888888,
              "#fdca26"
             ],
             [
              1.0,
              "#f0f921"
             ]
            ]
           }
          ],
          "heatmap": [
           {
            "type": "heatmap",
            "colorbar": {
             "outlinewidth": 0,
             "ticks": ""
            },
            "colorscale": [
             [
              0.0,
              "#0d0887"
             ],
             [
              0.1111111111111111,
              "#46039f"
             ],
             [
              0.2222222222222222,
              "#7201a8"
             ],
             [
              0.3333333333333333,
              "#9c179e"
             ],
             [
              0.4444444444444444,
              "#bd3786"
             ],
             [
              0.5555555555555556,
              "#d8576b"
             ],
             [
              0.6666666666666666,
              "#ed7953"
             ],
             [
              0.7777777777777778,
              "#fb9f3a"
             ],
             [
              0.8888888888888888,
              "#fdca26"
             ],
             [
              1.0,
              "#f0f921"
             ]
            ]
           }
          ],
          "contourcarpet": [
           {
            "type": "contourcarpet",
            "colorbar": {
             "outlinewidth": 0,
             "ticks": ""
            }
           }
          ],
          "contour": [
           {
            "type": "contour",
            "colorbar": {
             "outlinewidth": 0,
             "ticks": ""
            },
            "colorscale": [
             [
              0.0,
              "#0d0887"
             ],
             [
              0.1111111111111111,
              "#46039f"
             ],
             [
              0.2222222222222222,
              "#7201a8"
             ],
             [
              0.3333333333333333,
              "#9c179e"
             ],
             [
              0.4444444444444444,
              "#bd3786"
             ],
             [
              0.5555555555555556,
              "#d8576b"
             ],
             [
              0.6666666666666666,
              "#ed7953"
             ],
             [
              0.7777777777777778,
              "#fb9f3a"
             ],
             [
              0.8888888888888888,
              "#fdca26"
             ],
             [
              1.0,
              "#f0f921"
             ]
            ]
           }
          ],
          "surface": [
           {
            "type": "surface",
            "colorbar": {
             "outlinewidth": 0,
             "ticks": ""
            },
            "colorscale": [
             [
              0.0,
              "#0d0887"
             ],
             [
              0.1111111111111111,
              "#46039f"
             ],
             [
              0.2222222222222222,
              "#7201a8"
             ],
             [
              0.3333333333333333,
              "#9c179e"
             ],
             [
              0.4444444444444444,
              "#bd3786"
             ],
             [
              0.5555555555555556,
              "#d8576b"
             ],
             [
              0.6666666666666666,
              "#ed7953"
             ],
             [
              0.7777777777777778,
              "#fb9f3a"
             ],
             [
              0.8888888888888888,
              "#fdca26"
             ],
             [
              1.0,
              "#f0f921"
             ]
            ]
           }
          ],
          "mesh3d": [
           {
            "type": "mesh3d",
            "colorbar": {
             "outlinewidth": 0,
             "ticks": ""
            }
           }
          ],
          "scatter": [
           {
            "marker": {
             "line": {
              "color": "#283442"
             }
            },
            "type": "scatter"
           }
          ],
          "parcoords": [
           {
            "type": "parcoords",
            "line": {
             "colorbar": {
              "outlinewidth": 0,
              "ticks": ""
             }
            }
           }
          ],
          "scatterpolargl": [
           {
            "type": "scatterpolargl",
            "marker": {
             "colorbar": {
              "outlinewidth": 0,
              "ticks": ""
             }
            }
           }
          ],
          "bar": [
           {
            "error_x": {
             "color": "#f2f5fa"
            },
            "error_y": {
             "color": "#f2f5fa"
            },
            "marker": {
             "line": {
              "color": "rgb(17,17,17)",
              "width": 0.5
             },
             "pattern": {
              "fillmode": "overlay",
              "size": 10,
              "solidity": 0.2
             }
            },
            "type": "bar"
           }
          ],
          "scattergeo": [
           {
            "type": "scattergeo",
            "marker": {
             "colorbar": {
              "outlinewidth": 0,
              "ticks": ""
             }
            }
           }
          ],
          "scatterpolar": [
           {
            "type": "scatterpolar",
            "marker": {
             "colorbar": {
              "outlinewidth": 0,
              "ticks": ""
             }
            }
           }
          ],
          "histogram": [
           {
            "marker": {
             "pattern": {
              "fillmode": "overlay",
              "size": 10,
              "solidity": 0.2
             }
            },
            "type": "histogram"
           }
          ],
          "scattergl": [
           {
            "marker": {
             "line": {
              "color": "#283442"
             }
            },
            "type": "scattergl"
           }
          ],
          "scatter3d": [
           {
            "type": "scatter3d",
            "line": {
             "colorbar": {
              "outlinewidth": 0,
              "ticks": ""
             }
            },
            "marker": {
             "colorbar": {
              "outlinewidth": 0,
              "ticks": ""
             }
            }
           }
          ],
          "scattermap": [
           {
            "type": "scattermap",
            "marker": {
             "colorbar": {
              "outlinewidth": 0,
              "ticks": ""
             }
            }
           }
          ],
          "scattermapbox": [
           {
            "type": "scattermapbox",
            "marker": {
             "colorbar": {
              "outlinewidth": 0,
              "ticks": ""
             }
            }
           }
          ],
          "scatterternary": [
           {
            "type": "scatterternary",
            "marker": {
             "colorbar": {
              "outlinewidth": 0,
              "ticks": ""
             }
            }
           }
          ],
          "scattercarpet": [
           {
            "type": "scattercarpet",
            "marker": {
             "colorbar": {
              "outlinewidth": 0,
              "ticks": ""
             }
            }
           }
          ],
          "carpet": [
           {
            "aaxis": {
             "endlinecolor": "#A2B1C6",
             "gridcolor": "#506784",
             "linecolor": "#506784",
             "minorgridcolor": "#506784",
             "startlinecolor": "#A2B1C6"
            },
            "baxis": {
             "endlinecolor": "#A2B1C6",
             "gridcolor": "#506784",
             "linecolor": "#506784",
             "minorgridcolor": "#506784",
             "startlinecolor": "#A2B1C6"
            },
            "type": "carpet"
           }
          ],
          "table": [
           {
            "cells": {
             "fill": {
              "color": "#506784"
             },
             "line": {
              "color": "rgb(17,17,17)"
             }
            },
            "header": {
             "fill": {
              "color": "#2a3f5f"
             },
             "line": {
              "color": "rgb(17,17,17)"
             }
            },
            "type": "table"
           }
          ],
          "barpolar": [
           {
            "marker": {
             "line": {
              "color": "rgb(17,17,17)",
              "width": 0.5
             },
             "pattern": {
              "fillmode": "overlay",
              "size": 10,
              "solidity": 0.2
             }
            },
            "type": "barpolar"
           }
          ],
          "pie": [
           {
            "automargin": true,
            "type": "pie"
           }
          ]
         },
         "layout": {
          "autotypenumbers": "strict",
          "colorway": [
           "#636efa",
           "#EF553B",
           "#00cc96",
           "#ab63fa",
           "#FFA15A",
           "#19d3f3",
           "#FF6692",
           "#B6E880",
           "#FF97FF",
           "#FECB52"
          ],
          "font": {
           "color": "#f2f5fa"
          },
          "hovermode": "closest",
          "hoverlabel": {
           "align": "left"
          },
          "paper_bgcolor": "rgb(17,17,17)",
          "plot_bgcolor": "rgb(17,17,17)",
          "polar": {
           "bgcolor": "rgb(17,17,17)",
           "angularaxis": {
            "gridcolor": "#506784",
            "linecolor": "#506784",
            "ticks": ""
           },
           "radialaxis": {
            "gridcolor": "#506784",
            "linecolor": "#506784",
            "ticks": ""
           }
          },
          "ternary": {
           "bgcolor": "rgb(17,17,17)",
           "aaxis": {
            "gridcolor": "#506784",
            "linecolor": "#506784",
            "ticks": ""
           },
           "baxis": {
            "gridcolor": "#506784",
            "linecolor": "#506784",
            "ticks": ""
           },
           "caxis": {
            "gridcolor": "#506784",
            "linecolor": "#506784",
            "ticks": ""
           }
          },
          "coloraxis": {
           "colorbar": {
            "outlinewidth": 0,
            "ticks": ""
           }
          },
          "colorscale": {
           "sequential": [
            [
             0.0,
             "#0d0887"
            ],
            [
             0.1111111111111111,
             "#46039f"
            ],
            [
             0.2222222222222222,
             "#7201a8"
            ],
            [
             0.3333333333333333,
             "#9c179e"
            ],
            [
             0.4444444444444444,
             "#bd3786"
            ],
            [
             0.5555555555555556,
             "#d8576b"
            ],
            [
             0.6666666666666666,
             "#ed7953"
            ],
            [
             0.7777777777777778,
             "#fb9f3a"
            ],
            [
             0.8888888888888888,
             "#fdca26"
            ],
            [
             1.0,
             "#f0f921"
            ]
           ],
           "sequentialminus": [
            [
             0.0,
             "#0d0887"
            ],
            [
             0.1111111111111111,
             "#46039f"
            ],
            [
             0.2222222222222222,
             "#7201a8"
            ],
            [
             0.3333333333333333,
             "#9c179e"
            ],
            [
             0.4444444444444444,
             "#bd3786"
            ],
            [
             0.5555555555555556,
             "#d8576b"
            ],
            [
             0.6666666666666666,
             "#ed7953"
            ],
            [
             0.7777777777777778,
             "#fb9f3a"
            ],
            [
             0.8888888888888888,
             "#fdca26"
            ],
            [
             1.0,
             "#f0f921"
            ]
           ],
           "diverging": [
            [
             0,
             "#8e0152"
            ],
            [
             0.1,
             "#c51b7d"
            ],
            [
             0.2,
             "#de77ae"
            ],
            [
             0.3,
             "#f1b6da"
            ],
            [
             0.4,
             "#fde0ef"
            ],
            [
             0.5,
             "#f7f7f7"
            ],
            [
             0.6,
             "#e6f5d0"
            ],
            [
             0.7,
             "#b8e186"
            ],
            [
             0.8,
             "#7fbc41"
            ],
            [
             0.9,
             "#4d9221"
            ],
            [
             1,
             "#276419"
            ]
           ]
          },
          "xaxis": {
           "gridcolor": "#283442",
           "linecolor": "#506784",
           "ticks": "",
           "title": {
            "standoff": 15
           },
           "zerolinecolor": "#283442",
           "automargin": true,
           "zerolinewidth": 2
          },
          "yaxis": {
           "gridcolor": "#283442",
           "linecolor": "#506784",
           "ticks": "",
           "title": {
            "standoff": 15
           },
           "zerolinecolor": "#283442",
           "automargin": true,
           "zerolinewidth": 2
          },
          "scene": {
           "xaxis": {
            "backgroundcolor": "rgb(17,17,17)",
            "gridcolor": "#506784",
            "linecolor": "#506784",
            "showbackground": true,
            "ticks": "",
            "zerolinecolor": "#C8D4E3",
            "gridwidth": 2
           },
           "yaxis": {
            "backgroundcolor": "rgb(17,17,17)",
            "gridcolor": "#506784",
            "linecolor": "#506784",
            "showbackground": true,
            "ticks": "",
            "zerolinecolor": "#C8D4E3",
            "gridwidth": 2
           },
           "zaxis": {
            "backgroundcolor": "rgb(17,17,17)",
            "gridcolor": "#506784",
            "linecolor": "#506784",
            "showbackground": true,
            "ticks": "",
            "zerolinecolor": "#C8D4E3",
            "gridwidth": 2
           }
          },
          "shapedefaults": {
           "line": {
            "color": "#f2f5fa"
           }
          },
          "annotationdefaults": {
           "arrowcolor": "#f2f5fa",
           "arrowhead": 0,
           "arrowwidth": 1
          },
          "geo": {
           "bgcolor": "rgb(17,17,17)",
           "landcolor": "rgb(17,17,17)",
           "subunitcolor": "#506784",
           "showland": true,
           "showlakes": true,
           "lakecolor": "rgb(17,17,17)"
          },
          "title": {
           "x": 0.05
          },
          "updatemenudefaults": {
           "bgcolor": "#506784",
           "borderwidth": 0
          },
          "sliderdefaults": {
           "bgcolor": "#C8D4E3",
           "borderwidth": 1,
           "bordercolor": "rgb(17,17,17)",
           "tickwidth": 0
          },
          "mapbox": {
           "style": "dark"
          }
         }
        },
        "coloraxis": {
         "colorbar": {
          "title": {
           "text": "count"
          }
         },
         "colorscale": [
          [
           0.0,
           "rgb(247,252,245)"
          ],
          [
           0.125,
           "rgb(229,245,224)"
          ],
          [
           0.25,
           "rgb(199,233,192)"
          ],
          [
           0.375,
           "rgb(161,217,155)"
          ],
          [
           0.5,
           "rgb(116,196,118)"
          ],
          [
           0.625,
           "rgb(65,171,93)"
          ],
          [
           0.75,
           "rgb(35,139,69)"
          ],
          [
           0.875,
           "rgb(0,109,44)"
          ],
          [
           1.0,
           "rgb(0,68,27)"
          ]
         ]
        },
        "legend": {
         "tracegroupgap": 0
        },
        "title": {
         "text": "Most Common Words in Politics Articles"
        },
        "height": 600,
        "margin": {
         "t": 50,
         "l": 25,
         "r": 25,
         "b": 25
        },
        "font": {
         "size": 14
        }
       },
       "config": {
        "plotlyServerURL": "https://plot.ly"
       }
      }
     },
     "metadata": {},
     "output_type": "display_data"
    },
    {
     "data": {
      "application/vnd.plotly.v1+json": {
       "data": [
        {
         "branchvalues": "total",
         "customdata": {
          "dtype": "f8",
          "bdata": "AAAAAACog0AAAAAAAAB2QAAAAAAAoHVAAAAAAABwdEAAAAAAAGByQAAAAAAAMHJAAAAAAAAQckAAAAAAAMBwQAAAAAAAUHBAAAAAAAAwcEAAAAAAAMBpQAAAAAAAwGlAAAAAAABgaUAAAAAAAEBoQAAAAAAAIGhAAAAAAAAAaEAAAAAAAMBnQAAAAAAAoGdAAAAAAADAZkAAAAAAAIBmQAAAAAAAYGZAAAAAAABAZkAAAAAAACBmQAAAAAAAIGVAAAAAAAAgZUAAAAAAAMBkQAAAAAAAIGRAAAAAAACAY0AAAAAAAEBjQAAAAAAAwGJA",
          "shape": "30, 1"
         },
         "domain": {
          "x": [
           0.0,
           1.0
          ],
          "y": [
           0.0,
           1.0
          ]
         },
         "hovertemplate": "<b>%{label}</b><br>Count: %{value}<extra></extra>",
         "ids": [
          "said",
          "game",
          "first",
          "england",
          "time",
          "win",
          "two",
          "world",
          "back",
          "last",
          "cup",
          "players",
          "team",
          "half",
          "play",
          "ireland",
          "side",
          "second",
          "wales",
          "final",
          "match",
          "six",
          "three",
          "good",
          "could",
          "season",
          "set",
          "france",
          "chelsea",
          "old"
         ],
         "labels": [
          "said",
          "game",
          "first",
          "england",
          "time",
          "win",
          "two",
          "world",
          "back",
          "last",
          "cup",
          "players",
          "team",
          "half",
          "play",
          "ireland",
          "side",
          "second",
          "wales",
          "final",
          "match",
          "six",
          "three",
          "good",
          "could",
          "season",
          "set",
          "france",
          "chelsea",
          "old"
         ],
         "marker": {
          "coloraxis": "coloraxis",
          "colors": {
           "dtype": "f8",
           "bdata": "AAAAAACog0AAAAAAAAB2QAAAAAAAoHVAAAAAAABwdEAAAAAAAGByQAAAAAAAMHJAAAAAAAAQckAAAAAAAMBwQAAAAAAAUHBAAAAAAAAwcEAAAAAAAMBpQAAAAAAAwGlAAAAAAABgaUAAAAAAAEBoQAAAAAAAIGhAAAAAAAAAaEAAAAAAAMBnQAAAAAAAoGdAAAAAAADAZkAAAAAAAIBmQAAAAAAAYGZAAAAAAABAZkAAAAAAACBmQAAAAAAAIGVAAAAAAAAgZUAAAAAAAMBkQAAAAAAAIGRAAAAAAACAY0AAAAAAAEBjQAAAAAAAwGJA"
          }
         },
         "name": "",
         "parents": [
          "",
          "",
          "",
          "",
          "",
          "",
          "",
          "",
          "",
          "",
          "",
          "",
          "",
          "",
          "",
          "",
          "",
          "",
          "",
          "",
          "",
          "",
          "",
          "",
          "",
          "",
          "",
          "",
          "",
          ""
         ],
         "values": {
          "dtype": "f8",
          "bdata": "AAAAAACog0AAAAAAAAB2QAAAAAAAoHVAAAAAAABwdEAAAAAAAGByQAAAAAAAMHJAAAAAAAAQckAAAAAAAMBwQAAAAAAAUHBAAAAAAAAwcEAAAAAAAMBpQAAAAAAAwGlAAAAAAABgaUAAAAAAAEBoQAAAAAAAIGhAAAAAAAAAaEAAAAAAAMBnQAAAAAAAoGdAAAAAAADAZkAAAAAAAIBmQAAAAAAAYGZAAAAAAABAZkAAAAAAACBmQAAAAAAAIGVAAAAAAAAgZUAAAAAAAMBkQAAAAAAAIGRAAAAAAACAY0AAAAAAAEBjQAAAAAAAwGJA"
         },
         "type": "treemap",
         "textinfo": "label+value"
        }
       ],
       "layout": {
        "template": {
         "data": {
          "histogram2dcontour": [
           {
            "type": "histogram2dcontour",
            "colorbar": {
             "outlinewidth": 0,
             "ticks": ""
            },
            "colorscale": [
             [
              0.0,
              "#0d0887"
             ],
             [
              0.1111111111111111,
              "#46039f"
             ],
             [
              0.2222222222222222,
              "#7201a8"
             ],
             [
              0.3333333333333333,
              "#9c179e"
             ],
             [
              0.4444444444444444,
              "#bd3786"
             ],
             [
              0.5555555555555556,
              "#d8576b"
             ],
             [
              0.6666666666666666,
              "#ed7953"
             ],
             [
              0.7777777777777778,
              "#fb9f3a"
             ],
             [
              0.8888888888888888,
              "#fdca26"
             ],
             [
              1.0,
              "#f0f921"
             ]
            ]
           }
          ],
          "choropleth": [
           {
            "type": "choropleth",
            "colorbar": {
             "outlinewidth": 0,
             "ticks": ""
            }
           }
          ],
          "histogram2d": [
           {
            "type": "histogram2d",
            "colorbar": {
             "outlinewidth": 0,
             "ticks": ""
            },
            "colorscale": [
             [
              0.0,
              "#0d0887"
             ],
             [
              0.1111111111111111,
              "#46039f"
             ],
             [
              0.2222222222222222,
              "#7201a8"
             ],
             [
              0.3333333333333333,
              "#9c179e"
             ],
             [
              0.4444444444444444,
              "#bd3786"
             ],
             [
              0.5555555555555556,
              "#d8576b"
             ],
             [
              0.6666666666666666,
              "#ed7953"
             ],
             [
              0.7777777777777778,
              "#fb9f3a"
             ],
             [
              0.8888888888888888,
              "#fdca26"
             ],
             [
              1.0,
              "#f0f921"
             ]
            ]
           }
          ],
          "heatmap": [
           {
            "type": "heatmap",
            "colorbar": {
             "outlinewidth": 0,
             "ticks": ""
            },
            "colorscale": [
             [
              0.0,
              "#0d0887"
             ],
             [
              0.1111111111111111,
              "#46039f"
             ],
             [
              0.2222222222222222,
              "#7201a8"
             ],
             [
              0.3333333333333333,
              "#9c179e"
             ],
             [
              0.4444444444444444,
              "#bd3786"
             ],
             [
              0.5555555555555556,
              "#d8576b"
             ],
             [
              0.6666666666666666,
              "#ed7953"
             ],
             [
              0.7777777777777778,
              "#fb9f3a"
             ],
             [
              0.8888888888888888,
              "#fdca26"
             ],
             [
              1.0,
              "#f0f921"
             ]
            ]
           }
          ],
          "contourcarpet": [
           {
            "type": "contourcarpet",
            "colorbar": {
             "outlinewidth": 0,
             "ticks": ""
            }
           }
          ],
          "contour": [
           {
            "type": "contour",
            "colorbar": {
             "outlinewidth": 0,
             "ticks": ""
            },
            "colorscale": [
             [
              0.0,
              "#0d0887"
             ],
             [
              0.1111111111111111,
              "#46039f"
             ],
             [
              0.2222222222222222,
              "#7201a8"
             ],
             [
              0.3333333333333333,
              "#9c179e"
             ],
             [
              0.4444444444444444,
              "#bd3786"
             ],
             [
              0.5555555555555556,
              "#d8576b"
             ],
             [
              0.6666666666666666,
              "#ed7953"
             ],
             [
              0.7777777777777778,
              "#fb9f3a"
             ],
             [
              0.8888888888888888,
              "#fdca26"
             ],
             [
              1.0,
              "#f0f921"
             ]
            ]
           }
          ],
          "surface": [
           {
            "type": "surface",
            "colorbar": {
             "outlinewidth": 0,
             "ticks": ""
            },
            "colorscale": [
             [
              0.0,
              "#0d0887"
             ],
             [
              0.1111111111111111,
              "#46039f"
             ],
             [
              0.2222222222222222,
              "#7201a8"
             ],
             [
              0.3333333333333333,
              "#9c179e"
             ],
             [
              0.4444444444444444,
              "#bd3786"
             ],
             [
              0.5555555555555556,
              "#d8576b"
             ],
             [
              0.6666666666666666,
              "#ed7953"
             ],
             [
              0.7777777777777778,
              "#fb9f3a"
             ],
             [
              0.8888888888888888,
              "#fdca26"
             ],
             [
              1.0,
              "#f0f921"
             ]
            ]
           }
          ],
          "mesh3d": [
           {
            "type": "mesh3d",
            "colorbar": {
             "outlinewidth": 0,
             "ticks": ""
            }
           }
          ],
          "scatter": [
           {
            "marker": {
             "line": {
              "color": "#283442"
             }
            },
            "type": "scatter"
           }
          ],
          "parcoords": [
           {
            "type": "parcoords",
            "line": {
             "colorbar": {
              "outlinewidth": 0,
              "ticks": ""
             }
            }
           }
          ],
          "scatterpolargl": [
           {
            "type": "scatterpolargl",
            "marker": {
             "colorbar": {
              "outlinewidth": 0,
              "ticks": ""
             }
            }
           }
          ],
          "bar": [
           {
            "error_x": {
             "color": "#f2f5fa"
            },
            "error_y": {
             "color": "#f2f5fa"
            },
            "marker": {
             "line": {
              "color": "rgb(17,17,17)",
              "width": 0.5
             },
             "pattern": {
              "fillmode": "overlay",
              "size": 10,
              "solidity": 0.2
             }
            },
            "type": "bar"
           }
          ],
          "scattergeo": [
           {
            "type": "scattergeo",
            "marker": {
             "colorbar": {
              "outlinewidth": 0,
              "ticks": ""
             }
            }
           }
          ],
          "scatterpolar": [
           {
            "type": "scatterpolar",
            "marker": {
             "colorbar": {
              "outlinewidth": 0,
              "ticks": ""
             }
            }
           }
          ],
          "histogram": [
           {
            "marker": {
             "pattern": {
              "fillmode": "overlay",
              "size": 10,
              "solidity": 0.2
             }
            },
            "type": "histogram"
           }
          ],
          "scattergl": [
           {
            "marker": {
             "line": {
              "color": "#283442"
             }
            },
            "type": "scattergl"
           }
          ],
          "scatter3d": [
           {
            "type": "scatter3d",
            "line": {
             "colorbar": {
              "outlinewidth": 0,
              "ticks": ""
             }
            },
            "marker": {
             "colorbar": {
              "outlinewidth": 0,
              "ticks": ""
             }
            }
           }
          ],
          "scattermap": [
           {
            "type": "scattermap",
            "marker": {
             "colorbar": {
              "outlinewidth": 0,
              "ticks": ""
             }
            }
           }
          ],
          "scattermapbox": [
           {
            "type": "scattermapbox",
            "marker": {
             "colorbar": {
              "outlinewidth": 0,
              "ticks": ""
             }
            }
           }
          ],
          "scatterternary": [
           {
            "type": "scatterternary",
            "marker": {
             "colorbar": {
              "outlinewidth": 0,
              "ticks": ""
             }
            }
           }
          ],
          "scattercarpet": [
           {
            "type": "scattercarpet",
            "marker": {
             "colorbar": {
              "outlinewidth": 0,
              "ticks": ""
             }
            }
           }
          ],
          "carpet": [
           {
            "aaxis": {
             "endlinecolor": "#A2B1C6",
             "gridcolor": "#506784",
             "linecolor": "#506784",
             "minorgridcolor": "#506784",
             "startlinecolor": "#A2B1C6"
            },
            "baxis": {
             "endlinecolor": "#A2B1C6",
             "gridcolor": "#506784",
             "linecolor": "#506784",
             "minorgridcolor": "#506784",
             "startlinecolor": "#A2B1C6"
            },
            "type": "carpet"
           }
          ],
          "table": [
           {
            "cells": {
             "fill": {
              "color": "#506784"
             },
             "line": {
              "color": "rgb(17,17,17)"
             }
            },
            "header": {
             "fill": {
              "color": "#2a3f5f"
             },
             "line": {
              "color": "rgb(17,17,17)"
             }
            },
            "type": "table"
           }
          ],
          "barpolar": [
           {
            "marker": {
             "line": {
              "color": "rgb(17,17,17)",
              "width": 0.5
             },
             "pattern": {
              "fillmode": "overlay",
              "size": 10,
              "solidity": 0.2
             }
            },
            "type": "barpolar"
           }
          ],
          "pie": [
           {
            "automargin": true,
            "type": "pie"
           }
          ]
         },
         "layout": {
          "autotypenumbers": "strict",
          "colorway": [
           "#636efa",
           "#EF553B",
           "#00cc96",
           "#ab63fa",
           "#FFA15A",
           "#19d3f3",
           "#FF6692",
           "#B6E880",
           "#FF97FF",
           "#FECB52"
          ],
          "font": {
           "color": "#f2f5fa"
          },
          "hovermode": "closest",
          "hoverlabel": {
           "align": "left"
          },
          "paper_bgcolor": "rgb(17,17,17)",
          "plot_bgcolor": "rgb(17,17,17)",
          "polar": {
           "bgcolor": "rgb(17,17,17)",
           "angularaxis": {
            "gridcolor": "#506784",
            "linecolor": "#506784",
            "ticks": ""
           },
           "radialaxis": {
            "gridcolor": "#506784",
            "linecolor": "#506784",
            "ticks": ""
           }
          },
          "ternary": {
           "bgcolor": "rgb(17,17,17)",
           "aaxis": {
            "gridcolor": "#506784",
            "linecolor": "#506784",
            "ticks": ""
           },
           "baxis": {
            "gridcolor": "#506784",
            "linecolor": "#506784",
            "ticks": ""
           },
           "caxis": {
            "gridcolor": "#506784",
            "linecolor": "#506784",
            "ticks": ""
           }
          },
          "coloraxis": {
           "colorbar": {
            "outlinewidth": 0,
            "ticks": ""
           }
          },
          "colorscale": {
           "sequential": [
            [
             0.0,
             "#0d0887"
            ],
            [
             0.1111111111111111,
             "#46039f"
            ],
            [
             0.2222222222222222,
             "#7201a8"
            ],
            [
             0.3333333333333333,
             "#9c179e"
            ],
            [
             0.4444444444444444,
             "#bd3786"
            ],
            [
             0.5555555555555556,
             "#d8576b"
            ],
            [
             0.6666666666666666,
             "#ed7953"
            ],
            [
             0.7777777777777778,
             "#fb9f3a"
            ],
            [
             0.8888888888888888,
             "#fdca26"
            ],
            [
             1.0,
             "#f0f921"
            ]
           ],
           "sequentialminus": [
            [
             0.0,
             "#0d0887"
            ],
            [
             0.1111111111111111,
             "#46039f"
            ],
            [
             0.2222222222222222,
             "#7201a8"
            ],
            [
             0.3333333333333333,
             "#9c179e"
            ],
            [
             0.4444444444444444,
             "#bd3786"
            ],
            [
             0.5555555555555556,
             "#d8576b"
            ],
            [
             0.6666666666666666,
             "#ed7953"
            ],
            [
             0.7777777777777778,
             "#fb9f3a"
            ],
            [
             0.8888888888888888,
             "#fdca26"
            ],
            [
             1.0,
             "#f0f921"
            ]
           ],
           "diverging": [
            [
             0,
             "#8e0152"
            ],
            [
             0.1,
             "#c51b7d"
            ],
            [
             0.2,
             "#de77ae"
            ],
            [
             0.3,
             "#f1b6da"
            ],
            [
             0.4,
             "#fde0ef"
            ],
            [
             0.5,
             "#f7f7f7"
            ],
            [
             0.6,
             "#e6f5d0"
            ],
            [
             0.7,
             "#b8e186"
            ],
            [
             0.8,
             "#7fbc41"
            ],
            [
             0.9,
             "#4d9221"
            ],
            [
             1,
             "#276419"
            ]
           ]
          },
          "xaxis": {
           "gridcolor": "#283442",
           "linecolor": "#506784",
           "ticks": "",
           "title": {
            "standoff": 15
           },
           "zerolinecolor": "#283442",
           "automargin": true,
           "zerolinewidth": 2
          },
          "yaxis": {
           "gridcolor": "#283442",
           "linecolor": "#506784",
           "ticks": "",
           "title": {
            "standoff": 15
           },
           "zerolinecolor": "#283442",
           "automargin": true,
           "zerolinewidth": 2
          },
          "scene": {
           "xaxis": {
            "backgroundcolor": "rgb(17,17,17)",
            "gridcolor": "#506784",
            "linecolor": "#506784",
            "showbackground": true,
            "ticks": "",
            "zerolinecolor": "#C8D4E3",
            "gridwidth": 2
           },
           "yaxis": {
            "backgroundcolor": "rgb(17,17,17)",
            "gridcolor": "#506784",
            "linecolor": "#506784",
            "showbackground": true,
            "ticks": "",
            "zerolinecolor": "#C8D4E3",
            "gridwidth": 2
           },
           "zaxis": {
            "backgroundcolor": "rgb(17,17,17)",
            "gridcolor": "#506784",
            "linecolor": "#506784",
            "showbackground": true,
            "ticks": "",
            "zerolinecolor": "#C8D4E3",
            "gridwidth": 2
           }
          },
          "shapedefaults": {
           "line": {
            "color": "#f2f5fa"
           }
          },
          "annotationdefaults": {
           "arrowcolor": "#f2f5fa",
           "arrowhead": 0,
           "arrowwidth": 1
          },
          "geo": {
           "bgcolor": "rgb(17,17,17)",
           "landcolor": "rgb(17,17,17)",
           "subunitcolor": "#506784",
           "showland": true,
           "showlakes": true,
           "lakecolor": "rgb(17,17,17)"
          },
          "title": {
           "x": 0.05
          },
          "updatemenudefaults": {
           "bgcolor": "#506784",
           "borderwidth": 0
          },
          "sliderdefaults": {
           "bgcolor": "#C8D4E3",
           "borderwidth": 1,
           "bordercolor": "rgb(17,17,17)",
           "tickwidth": 0
          },
          "mapbox": {
           "style": "dark"
          }
         }
        },
        "coloraxis": {
         "colorbar": {
          "title": {
           "text": "count"
          }
         },
         "colorscale": [
          [
           0.0,
           "rgb(255,245,240)"
          ],
          [
           0.125,
           "rgb(254,224,210)"
          ],
          [
           0.25,
           "rgb(252,187,161)"
          ],
          [
           0.375,
           "rgb(252,146,114)"
          ],
          [
           0.5,
           "rgb(251,106,74)"
          ],
          [
           0.625,
           "rgb(239,59,44)"
          ],
          [
           0.75,
           "rgb(203,24,29)"
          ],
          [
           0.875,
           "rgb(165,15,21)"
          ],
          [
           1.0,
           "rgb(103,0,13)"
          ]
         ]
        },
        "legend": {
         "tracegroupgap": 0
        },
        "title": {
         "text": "Most Common Words in Sport Articles"
        },
        "height": 600,
        "margin": {
         "t": 50,
         "l": 25,
         "r": 25,
         "b": 25
        },
        "font": {
         "size": 14
        }
       },
       "config": {
        "plotlyServerURL": "https://plot.ly"
       }
      }
     },
     "metadata": {},
     "output_type": "display_data"
    },
    {
     "data": {
      "application/vnd.plotly.v1+json": {
       "data": [
        {
         "branchvalues": "total",
         "customdata": {
          "dtype": "f8",
          "bdata": "AAAAAAAAgkAAAAAAADiBQAAAAAAA8HlAAAAAAACgbkAAAAAAAEBrQAAAAAAAgGZAAAAAAAAgZkAAAAAAAGBkQAAAAAAAQGNAAAAAAAAgY0AAAAAAAABjQAAAAAAA4GJAAAAAAADAYkAAAAAAAMBiQAAAAAAAIGJAAAAAAADgYEAAAAAAAIBgQAAAAAAAYGBAAAAAAABAYEAAAAAAAEBgQAAAAAAAAGBAAAAAAACAX0AAAAAAAMBeQAAAAAAAAF5AAAAAAACAXEAAAAAAAMBaQAAAAAAAQFlAAAAAAACAWEAAAAAAAIBYQAAAAAAAQFhA",
          "shape": "30, 1"
         },
         "domain": {
          "x": [
           0.0,
           1.0
          ],
          "y": [
           0.0,
           1.0
          ]
         },
         "hovertemplate": "<b>%{label}</b><br>Count: %{value}<extra></extra>",
         "ids": [
          "said",
          "film",
          "best",
          "music",
          "show",
          "awards",
          "first",
          "actor",
          "star",
          "director",
          "last",
          "band",
          "award",
          "number",
          "two",
          "films",
          "time",
          "top",
          "british",
          "years",
          "bbc",
          "people",
          "three",
          "album",
          "actress",
          "including",
          "oscar",
          "world",
          "singer",
          "made"
         ],
         "labels": [
          "said",
          "film",
          "best",
          "music",
          "show",
          "awards",
          "first",
          "actor",
          "star",
          "director",
          "last",
          "band",
          "award",
          "number",
          "two",
          "films",
          "time",
          "top",
          "british",
          "years",
          "bbc",
          "people",
          "three",
          "album",
          "actress",
          "including",
          "oscar",
          "world",
          "singer",
          "made"
         ],
         "marker": {
          "coloraxis": "coloraxis",
          "colors": {
           "dtype": "f8",
           "bdata": "AAAAAAAAgkAAAAAAADiBQAAAAAAA8HlAAAAAAACgbkAAAAAAAEBrQAAAAAAAgGZAAAAAAAAgZkAAAAAAAGBkQAAAAAAAQGNAAAAAAAAgY0AAAAAAAABjQAAAAAAA4GJAAAAAAADAYkAAAAAAAMBiQAAAAAAAIGJAAAAAAADgYEAAAAAAAIBgQAAAAAAAYGBAAAAAAABAYEAAAAAAAEBgQAAAAAAAAGBAAAAAAACAX0AAAAAAAMBeQAAAAAAAAF5AAAAAAACAXEAAAAAAAMBaQAAAAAAAQFlAAAAAAACAWEAAAAAAAIBYQAAAAAAAQFhA"
          }
         },
         "name": "",
         "parents": [
          "",
          "",
          "",
          "",
          "",
          "",
          "",
          "",
          "",
          "",
          "",
          "",
          "",
          "",
          "",
          "",
          "",
          "",
          "",
          "",
          "",
          "",
          "",
          "",
          "",
          "",
          "",
          "",
          "",
          ""
         ],
         "values": {
          "dtype": "f8",
          "bdata": "AAAAAAAAgkAAAAAAADiBQAAAAAAA8HlAAAAAAACgbkAAAAAAAEBrQAAAAAAAgGZAAAAAAAAgZkAAAAAAAGBkQAAAAAAAQGNAAAAAAAAgY0AAAAAAAABjQAAAAAAA4GJAAAAAAADAYkAAAAAAAMBiQAAAAAAAIGJAAAAAAADgYEAAAAAAAIBgQAAAAAAAYGBAAAAAAABAYEAAAAAAAEBgQAAAAAAAAGBAAAAAAACAX0AAAAAAAMBeQAAAAAAAAF5AAAAAAACAXEAAAAAAAMBaQAAAAAAAQFlAAAAAAACAWEAAAAAAAIBYQAAAAAAAQFhA"
         },
         "type": "treemap",
         "textinfo": "label+value"
        }
       ],
       "layout": {
        "template": {
         "data": {
          "histogram2dcontour": [
           {
            "type": "histogram2dcontour",
            "colorbar": {
             "outlinewidth": 0,
             "ticks": ""
            },
            "colorscale": [
             [
              0.0,
              "#0d0887"
             ],
             [
              0.1111111111111111,
              "#46039f"
             ],
             [
              0.2222222222222222,
              "#7201a8"
             ],
             [
              0.3333333333333333,
              "#9c179e"
             ],
             [
              0.4444444444444444,
              "#bd3786"
             ],
             [
              0.5555555555555556,
              "#d8576b"
             ],
             [
              0.6666666666666666,
              "#ed7953"
             ],
             [
              0.7777777777777778,
              "#fb9f3a"
             ],
             [
              0.8888888888888888,
              "#fdca26"
             ],
             [
              1.0,
              "#f0f921"
             ]
            ]
           }
          ],
          "choropleth": [
           {
            "type": "choropleth",
            "colorbar": {
             "outlinewidth": 0,
             "ticks": ""
            }
           }
          ],
          "histogram2d": [
           {
            "type": "histogram2d",
            "colorbar": {
             "outlinewidth": 0,
             "ticks": ""
            },
            "colorscale": [
             [
              0.0,
              "#0d0887"
             ],
             [
              0.1111111111111111,
              "#46039f"
             ],
             [
              0.2222222222222222,
              "#7201a8"
             ],
             [
              0.3333333333333333,
              "#9c179e"
             ],
             [
              0.4444444444444444,
              "#bd3786"
             ],
             [
              0.5555555555555556,
              "#d8576b"
             ],
             [
              0.6666666666666666,
              "#ed7953"
             ],
             [
              0.7777777777777778,
              "#fb9f3a"
             ],
             [
              0.8888888888888888,
              "#fdca26"
             ],
             [
              1.0,
              "#f0f921"
             ]
            ]
           }
          ],
          "heatmap": [
           {
            "type": "heatmap",
            "colorbar": {
             "outlinewidth": 0,
             "ticks": ""
            },
            "colorscale": [
             [
              0.0,
              "#0d0887"
             ],
             [
              0.1111111111111111,
              "#46039f"
             ],
             [
              0.2222222222222222,
              "#7201a8"
             ],
             [
              0.3333333333333333,
              "#9c179e"
             ],
             [
              0.4444444444444444,
              "#bd3786"
             ],
             [
              0.5555555555555556,
              "#d8576b"
             ],
             [
              0.6666666666666666,
              "#ed7953"
             ],
             [
              0.7777777777777778,
              "#fb9f3a"
             ],
             [
              0.8888888888888888,
              "#fdca26"
             ],
             [
              1.0,
              "#f0f921"
             ]
            ]
           }
          ],
          "contourcarpet": [
           {
            "type": "contourcarpet",
            "colorbar": {
             "outlinewidth": 0,
             "ticks": ""
            }
           }
          ],
          "contour": [
           {
            "type": "contour",
            "colorbar": {
             "outlinewidth": 0,
             "ticks": ""
            },
            "colorscale": [
             [
              0.0,
              "#0d0887"
             ],
             [
              0.1111111111111111,
              "#46039f"
             ],
             [
              0.2222222222222222,
              "#7201a8"
             ],
             [
              0.3333333333333333,
              "#9c179e"
             ],
             [
              0.4444444444444444,
              "#bd3786"
             ],
             [
              0.5555555555555556,
              "#d8576b"
             ],
             [
              0.6666666666666666,
              "#ed7953"
             ],
             [
              0.7777777777777778,
              "#fb9f3a"
             ],
             [
              0.8888888888888888,
              "#fdca26"
             ],
             [
              1.0,
              "#f0f921"
             ]
            ]
           }
          ],
          "surface": [
           {
            "type": "surface",
            "colorbar": {
             "outlinewidth": 0,
             "ticks": ""
            },
            "colorscale": [
             [
              0.0,
              "#0d0887"
             ],
             [
              0.1111111111111111,
              "#46039f"
             ],
             [
              0.2222222222222222,
              "#7201a8"
             ],
             [
              0.3333333333333333,
              "#9c179e"
             ],
             [
              0.4444444444444444,
              "#bd3786"
             ],
             [
              0.5555555555555556,
              "#d8576b"
             ],
             [
              0.6666666666666666,
              "#ed7953"
             ],
             [
              0.7777777777777778,
              "#fb9f3a"
             ],
             [
              0.8888888888888888,
              "#fdca26"
             ],
             [
              1.0,
              "#f0f921"
             ]
            ]
           }
          ],
          "mesh3d": [
           {
            "type": "mesh3d",
            "colorbar": {
             "outlinewidth": 0,
             "ticks": ""
            }
           }
          ],
          "scatter": [
           {
            "marker": {
             "line": {
              "color": "#283442"
             }
            },
            "type": "scatter"
           }
          ],
          "parcoords": [
           {
            "type": "parcoords",
            "line": {
             "colorbar": {
              "outlinewidth": 0,
              "ticks": ""
             }
            }
           }
          ],
          "scatterpolargl": [
           {
            "type": "scatterpolargl",
            "marker": {
             "colorbar": {
              "outlinewidth": 0,
              "ticks": ""
             }
            }
           }
          ],
          "bar": [
           {
            "error_x": {
             "color": "#f2f5fa"
            },
            "error_y": {
             "color": "#f2f5fa"
            },
            "marker": {
             "line": {
              "color": "rgb(17,17,17)",
              "width": 0.5
             },
             "pattern": {
              "fillmode": "overlay",
              "size": 10,
              "solidity": 0.2
             }
            },
            "type": "bar"
           }
          ],
          "scattergeo": [
           {
            "type": "scattergeo",
            "marker": {
             "colorbar": {
              "outlinewidth": 0,
              "ticks": ""
             }
            }
           }
          ],
          "scatterpolar": [
           {
            "type": "scatterpolar",
            "marker": {
             "colorbar": {
              "outlinewidth": 0,
              "ticks": ""
             }
            }
           }
          ],
          "histogram": [
           {
            "marker": {
             "pattern": {
              "fillmode": "overlay",
              "size": 10,
              "solidity": 0.2
             }
            },
            "type": "histogram"
           }
          ],
          "scattergl": [
           {
            "marker": {
             "line": {
              "color": "#283442"
             }
            },
            "type": "scattergl"
           }
          ],
          "scatter3d": [
           {
            "type": "scatter3d",
            "line": {
             "colorbar": {
              "outlinewidth": 0,
              "ticks": ""
             }
            },
            "marker": {
             "colorbar": {
              "outlinewidth": 0,
              "ticks": ""
             }
            }
           }
          ],
          "scattermap": [
           {
            "type": "scattermap",
            "marker": {
             "colorbar": {
              "outlinewidth": 0,
              "ticks": ""
             }
            }
           }
          ],
          "scattermapbox": [
           {
            "type": "scattermapbox",
            "marker": {
             "colorbar": {
              "outlinewidth": 0,
              "ticks": ""
             }
            }
           }
          ],
          "scatterternary": [
           {
            "type": "scatterternary",
            "marker": {
             "colorbar": {
              "outlinewidth": 0,
              "ticks": ""
             }
            }
           }
          ],
          "scattercarpet": [
           {
            "type": "scattercarpet",
            "marker": {
             "colorbar": {
              "outlinewidth": 0,
              "ticks": ""
             }
            }
           }
          ],
          "carpet": [
           {
            "aaxis": {
             "endlinecolor": "#A2B1C6",
             "gridcolor": "#506784",
             "linecolor": "#506784",
             "minorgridcolor": "#506784",
             "startlinecolor": "#A2B1C6"
            },
            "baxis": {
             "endlinecolor": "#A2B1C6",
             "gridcolor": "#506784",
             "linecolor": "#506784",
             "minorgridcolor": "#506784",
             "startlinecolor": "#A2B1C6"
            },
            "type": "carpet"
           }
          ],
          "table": [
           {
            "cells": {
             "fill": {
              "color": "#506784"
             },
             "line": {
              "color": "rgb(17,17,17)"
             }
            },
            "header": {
             "fill": {
              "color": "#2a3f5f"
             },
             "line": {
              "color": "rgb(17,17,17)"
             }
            },
            "type": "table"
           }
          ],
          "barpolar": [
           {
            "marker": {
             "line": {
              "color": "rgb(17,17,17)",
              "width": 0.5
             },
             "pattern": {
              "fillmode": "overlay",
              "size": 10,
              "solidity": 0.2
             }
            },
            "type": "barpolar"
           }
          ],
          "pie": [
           {
            "automargin": true,
            "type": "pie"
           }
          ]
         },
         "layout": {
          "autotypenumbers": "strict",
          "colorway": [
           "#636efa",
           "#EF553B",
           "#00cc96",
           "#ab63fa",
           "#FFA15A",
           "#19d3f3",
           "#FF6692",
           "#B6E880",
           "#FF97FF",
           "#FECB52"
          ],
          "font": {
           "color": "#f2f5fa"
          },
          "hovermode": "closest",
          "hoverlabel": {
           "align": "left"
          },
          "paper_bgcolor": "rgb(17,17,17)",
          "plot_bgcolor": "rgb(17,17,17)",
          "polar": {
           "bgcolor": "rgb(17,17,17)",
           "angularaxis": {
            "gridcolor": "#506784",
            "linecolor": "#506784",
            "ticks": ""
           },
           "radialaxis": {
            "gridcolor": "#506784",
            "linecolor": "#506784",
            "ticks": ""
           }
          },
          "ternary": {
           "bgcolor": "rgb(17,17,17)",
           "aaxis": {
            "gridcolor": "#506784",
            "linecolor": "#506784",
            "ticks": ""
           },
           "baxis": {
            "gridcolor": "#506784",
            "linecolor": "#506784",
            "ticks": ""
           },
           "caxis": {
            "gridcolor": "#506784",
            "linecolor": "#506784",
            "ticks": ""
           }
          },
          "coloraxis": {
           "colorbar": {
            "outlinewidth": 0,
            "ticks": ""
           }
          },
          "colorscale": {
           "sequential": [
            [
             0.0,
             "#0d0887"
            ],
            [
             0.1111111111111111,
             "#46039f"
            ],
            [
             0.2222222222222222,
             "#7201a8"
            ],
            [
             0.3333333333333333,
             "#9c179e"
            ],
            [
             0.4444444444444444,
             "#bd3786"
            ],
            [
             0.5555555555555556,
             "#d8576b"
            ],
            [
             0.6666666666666666,
             "#ed7953"
            ],
            [
             0.7777777777777778,
             "#fb9f3a"
            ],
            [
             0.8888888888888888,
             "#fdca26"
            ],
            [
             1.0,
             "#f0f921"
            ]
           ],
           "sequentialminus": [
            [
             0.0,
             "#0d0887"
            ],
            [
             0.1111111111111111,
             "#46039f"
            ],
            [
             0.2222222222222222,
             "#7201a8"
            ],
            [
             0.3333333333333333,
             "#9c179e"
            ],
            [
             0.4444444444444444,
             "#bd3786"
            ],
            [
             0.5555555555555556,
             "#d8576b"
            ],
            [
             0.6666666666666666,
             "#ed7953"
            ],
            [
             0.7777777777777778,
             "#fb9f3a"
            ],
            [
             0.8888888888888888,
             "#fdca26"
            ],
            [
             1.0,
             "#f0f921"
            ]
           ],
           "diverging": [
            [
             0,
             "#8e0152"
            ],
            [
             0.1,
             "#c51b7d"
            ],
            [
             0.2,
             "#de77ae"
            ],
            [
             0.3,
             "#f1b6da"
            ],
            [
             0.4,
             "#fde0ef"
            ],
            [
             0.5,
             "#f7f7f7"
            ],
            [
             0.6,
             "#e6f5d0"
            ],
            [
             0.7,
             "#b8e186"
            ],
            [
             0.8,
             "#7fbc41"
            ],
            [
             0.9,
             "#4d9221"
            ],
            [
             1,
             "#276419"
            ]
           ]
          },
          "xaxis": {
           "gridcolor": "#283442",
           "linecolor": "#506784",
           "ticks": "",
           "title": {
            "standoff": 15
           },
           "zerolinecolor": "#283442",
           "automargin": true,
           "zerolinewidth": 2
          },
          "yaxis": {
           "gridcolor": "#283442",
           "linecolor": "#506784",
           "ticks": "",
           "title": {
            "standoff": 15
           },
           "zerolinecolor": "#283442",
           "automargin": true,
           "zerolinewidth": 2
          },
          "scene": {
           "xaxis": {
            "backgroundcolor": "rgb(17,17,17)",
            "gridcolor": "#506784",
            "linecolor": "#506784",
            "showbackground": true,
            "ticks": "",
            "zerolinecolor": "#C8D4E3",
            "gridwidth": 2
           },
           "yaxis": {
            "backgroundcolor": "rgb(17,17,17)",
            "gridcolor": "#506784",
            "linecolor": "#506784",
            "showbackground": true,
            "ticks": "",
            "zerolinecolor": "#C8D4E3",
            "gridwidth": 2
           },
           "zaxis": {
            "backgroundcolor": "rgb(17,17,17)",
            "gridcolor": "#506784",
            "linecolor": "#506784",
            "showbackground": true,
            "ticks": "",
            "zerolinecolor": "#C8D4E3",
            "gridwidth": 2
           }
          },
          "shapedefaults": {
           "line": {
            "color": "#f2f5fa"
           }
          },
          "annotationdefaults": {
           "arrowcolor": "#f2f5fa",
           "arrowhead": 0,
           "arrowwidth": 1
          },
          "geo": {
           "bgcolor": "rgb(17,17,17)",
           "landcolor": "rgb(17,17,17)",
           "subunitcolor": "#506784",
           "showland": true,
           "showlakes": true,
           "lakecolor": "rgb(17,17,17)"
          },
          "title": {
           "x": 0.05
          },
          "updatemenudefaults": {
           "bgcolor": "#506784",
           "borderwidth": 0
          },
          "sliderdefaults": {
           "bgcolor": "#C8D4E3",
           "borderwidth": 1,
           "bordercolor": "rgb(17,17,17)",
           "tickwidth": 0
          },
          "mapbox": {
           "style": "dark"
          }
         }
        },
        "coloraxis": {
         "colorbar": {
          "title": {
           "text": "count"
          }
         },
         "colorscale": [
          [
           0.0,
           "rgb(209, 238, 234)"
          ],
          [
           0.16666666666666666,
           "rgb(168, 219, 217)"
          ],
          [
           0.3333333333333333,
           "rgb(133, 196, 201)"
          ],
          [
           0.5,
           "rgb(104, 171, 184)"
          ],
          [
           0.6666666666666666,
           "rgb(79, 144, 166)"
          ],
          [
           0.8333333333333334,
           "rgb(59, 115, 143)"
          ],
          [
           1.0,
           "rgb(42, 86, 116)"
          ]
         ]
        },
        "legend": {
         "tracegroupgap": 0
        },
        "title": {
         "text": "Most Common Words in Entertainment Articles"
        },
        "height": 600,
        "margin": {
         "t": 50,
         "l": 25,
         "r": 25,
         "b": 25
        },
        "font": {
         "size": 14
        }
       },
       "config": {
        "plotlyServerURL": "https://plot.ly"
       }
      }
     },
     "metadata": {},
     "output_type": "display_data"
    }
   ],
   "execution_count": 27
  },
  {
   "metadata": {
    "ExecuteTime": {
     "end_time": "2025-07-30T20:47:24.479824Z",
     "start_time": "2025-07-30T20:47:24.474495Z"
    }
   },
   "cell_type": "code",
   "source": [
    "# Build and Evaluate the model\n",
    "\n",
    "# Helper function to match categories with NMF results\n",
    "def label_permute_compare(ytdf,yp,labels):\n",
    "    \"\"\"\n",
    "    ytdf: labels dataframe object\n",
    "    yp: clustering label prediction output\n",
    "    Returns permuted label order and accuracy.\n",
    "    Example output: (3, 4, 1, 2, 0), 0.74\n",
    "    \"\"\"\n",
    "    print(f\"using labels list: {labels}\")\n",
    "    perms = [list(perm) for perm in itertools.permutations(labels, len(labels))]  # create a list of permutations for the labels\n",
    "\n",
    "    # convert target labels df to array\n",
    "    ytlist = ytdf.iloc[:, 0].to_numpy()\n",
    "\n",
    "    # iterate through the permutations and calculate accuracy\n",
    "    label_acc = []\n",
    "    for perm in perms:\n",
    "        # create an array of labels for the prediction, using the permutation list and the cluster number as the index\n",
    "        yp_labels = np.array(perm)[yp]\n",
    "        # get the accurcy score using the ground truth labels against this iteration of prediction labels\n",
    "        label_acc.append((accuracy_score(ytlist, yp_labels), perm))  #\n",
    "\n",
    "    # get the results with the highest accuracy\n",
    "    best_accuracy = max(label_acc, key=lambda x: x[0])\n",
    "    print(f\"best accuracy: {best_accuracy[0]}\")\n",
    "    print(f\"best class label order (0, 1, 2, 3, 4) = {best_accuracy[1]}\")\n",
    "\n",
    "    # map the best label order back to the original labels list for the permuted label order\n",
    "    indices = [labels.index(label) for label in best_accuracy[1]]\n",
    "    print(f\"index order from starting labels lists: {indices}\\n\")\n",
    "\n",
    "    return tuple(indices), best_accuracy[0]\n"
   ],
   "id": "975d820477a4a92b",
   "outputs": [],
   "execution_count": 30
  },
  {
   "metadata": {
    "ExecuteTime": {
     "end_time": "2025-07-30T20:44:09.029435Z",
     "start_time": "2025-07-30T20:44:09.023929Z"
    }
   },
   "cell_type": "code",
   "source": [
    "# Number of categories\n",
    "n_categories = len(bbcnews_train['Category'].unique())\n",
    "\n",
    "# Create a pipeline to clean, tranform, and vectorize the text and perform NMF\n",
    "nmf_pipeline = Pipeline([\n",
    "    ('text_cleaner', TextCleaner(method='simple', additional_words=remove_common)),\n",
    "    ('tfidf', TfidfVectorizer(\n",
    "        min_df=5,\n",
    "        max_df=0.95,\n",
    "        analyzer='word',\n",
    "        ngram_range=(1, 2),\n",
    "        sublinear_tf=True,\n",
    "        token_pattern=r'\\b\\w+\\b'\n",
    "    )),\n",
    "    ('nmf', NMF(\n",
    "        n_components=n_categories,\n",
    "        random_state=42,\n",
    "        max_iter=200,\n",
    "        solver='mu',\n",
    "        beta_loss='kullback-leibler',\n",
    "        alpha_H=0.0,\n",
    "        l1_ratio=0.5,\n",
    "        init='nndsvda'\n",
    "    ))\n",
    "])"
   ],
   "id": "5921dd5c4eefea33",
   "outputs": [],
   "execution_count": 28
  },
  {
   "metadata": {},
   "cell_type": "markdown",
   "source": [
    "Clean the article text (four options tested)\n",
    "\n",
    "* Simple method, removing common words\n",
    "\n",
    "    * bbcnews_train['Text_cleaned'] = bbcnews_train['Text'].apply(lambda text: cleanup_text(text, additional_words=remove_common))\n",
    "\n",
    "    * accuracy = 0.9369, time = 3s\n",
    "\n",
    "* spaCy lemmatizer\n",
    "\n",
    "    * bbcnews_train['Text_cleaned'] = bbcnews_train['Text'].apply(lambda text: cleanup_text(text, additional_words=remove_common, method = 'spaCy'))\n",
    "\n",
    "    * accuracy = 0.9368, time = 10m50s\n",
    "\n",
    "* Wordnet lemmatizer with POS tag\n",
    "\n",
    "    * bbcnews_train['Text_cleaned'] = bbcnews_train['Text'].apply(lambda text: cleanup_text(text, additional_words=remove_common, method = 'wordnet'))\n",
    "\n",
    "    * accuracy = 0.9563, time = 19s\n",
    "\n",
    "* Snowball stemmer\n",
    "\n",
    "    * bbcnews_train['Text_cleaned'] = bbcnews_train['Text'].apply(lambda text: cleanup_text(text, additional_words=remove_common, method = 'snowball'))\n",
    "\n",
    "    * accuracy = 0.9625, time = 5s\n"
   ],
   "id": "e1ccfa40ce513fc"
  },
  {
   "metadata": {
    "ExecuteTime": {
     "end_time": "2025-07-30T20:47:32.494360Z",
     "start_time": "2025-07-30T20:47:29.941369Z"
    }
   },
   "cell_type": "code",
   "source": [
    "# Clean, transform, vectorize, and fit the article text\n",
    "y_hat_train = nmf_pipeline.fit_transform(bbcnews_train['Text'])\n",
    "\n",
    "# Extract and display topics\n",
    "print(\"\\nTopics extracted from training data:\")\n",
    "feature_names = nmf_pipeline.named_steps['tfidf'].get_feature_names_out()\n",
    "for topic_idx, topic in enumerate(nmf_pipeline.named_steps['nmf'].components_):\n",
    "    top_words_idx = topic.argsort()[:-11:-1]  # Get indices of top 10 words\n",
    "    top_words = [feature_names[i] for i in top_words_idx]\n",
    "    print(f\"Topic #{topic_idx}: {' '.join(top_words)}\")\n",
    "print(\"\\n\")\n",
    "\n",
    "# Assign the dominant topic as the prediction\n",
    "y_pred = y_hat_train.argmax(axis=1)\n",
    "\n",
    "# Get the true categories\n",
    "y_true = pd.DataFrame(bbcnews_train['Category'], columns=['Category'])\n",
    "\n",
    "# Get the category permutation mapping that achieves the highest accuracy for the clusters\n",
    "categories = np.unique(y_true).tolist()\n",
    "topic_to_category_idx, accuracy = label_permute_compare(y_true, y_pred, categories)\n",
    "\n",
    "# Map the predicted topics to category names from the permutation results\n",
    "category_mapping = {i: categories[idx] for i, idx in enumerate(topic_to_category_idx)}\n",
    "\n",
    "# Convert the topic numbers to category names\n",
    "predicted_categories = [category_mapping[topic] for topic in y_pred]\n",
    "\n",
    "# Add predictions to the training dataframe\n",
    "bbcnews_train['Predicted_Category'] = predicted_categories\n",
    "\n",
    "# Display the training accuracy\n",
    "accuracy = accuracy_score(bbcnews_train['Category'], bbcnews_train['Predicted_Category'])\n",
    "print(f\"Train Accuracy: {accuracy:.4f}\")\n",
    "\n",
    "# Create confusion matrix\n",
    "cm = confusion_matrix(bbcnews_train['Category'], bbcnews_train['Predicted_Category'])\n",
    "\n",
    "# Plot confusion matrix\n",
    "plt.figure(figsize=(10, 8))\n",
    "sns.heatmap(cm, annot=True, fmt='d', cmap='Blues',\n",
    "            xticklabels=categories, yticklabels=categories)\n",
    "plt.title('Confusion Matrix')\n",
    "plt.ylabel('True Category')\n",
    "plt.xlabel('Predicted Category')\n",
    "plt.tight_layout()\n",
    "plt.show()\n"
   ],
   "id": "487ddfa5ef8c1810",
   "outputs": [
    {
     "name": "stdout",
     "output_type": "stream",
     "text": [
      "\n",
      "Topics extracted from training data:\n",
      "Topic #0: people technology said users use mobile software internet online phone\n",
      "Topic #1: game win england cup team said match first season players\n",
      "Topic #2: government labour election blair said party minister prime prime minister people\n",
      "Topic #3: film best awards star award show actor music films band\n",
      "Topic #4: said market company firm growth shares economy bank economic financial\n",
      "\n",
      "\n",
      "using labels list: ['business', 'entertainment', 'politics', 'sport', 'tech']\n",
      "best accuracy: 0.9652777777777778\n",
      "best class label order (0, 1, 2, 3, 4) = ['tech', 'sport', 'politics', 'entertainment', 'business']\n",
      "index order from starting labels lists: [4, 3, 2, 1, 0]\n",
      "\n",
      "Train Accuracy: 0.9653\n"
     ]
    },
    {
     "data": {
      "text/plain": [
       "<Figure size 1000x800 with 2 Axes>"
      ],
      "image/png": "[encoded data removed]"
     },
     "metadata": {},
     "output_type": "display_data"
    }
   ],
   "execution_count": 31
  },
  {
   "metadata": {
    "ExecuteTime": {
     "end_time": "2025-07-30T20:47:38.571638Z",
     "start_time": "2025-07-30T20:47:38.101924Z"
    }
   },
   "cell_type": "code",
   "source": [
    "# Generate predictions for Test data set\n",
    "nmf_test = bbcnews_test.copy()\n",
    "\n",
    "# Predict the target category on the Test data set using the train pipeline\n",
    "y_hat_test = nmf_pipeline.transform(nmf_test['Text'])\n",
    "y_pred = y_hat_test.argmax(axis=1)\n",
    "predicted_categories = [category_mapping[topic] for topic in y_pred]\n",
    "nmf_test['Category'] = predicted_categories\n",
    "\n",
    "# drop unneeded columns\n",
    "nmf_test = nmf_test.drop(['Text'], axis=1)\n",
    "nmf_test.head(10)\n"
   ],
   "id": "252c8f01fbb781ba",
   "outputs": [
    {
     "data": {
      "text/plain": [
       "   ArticleId       Category\n",
       "0       1018          sport\n",
       "1       1319           tech\n",
       "2       1138          sport\n",
       "3        459       business\n",
       "4       1020          sport\n",
       "5         51          sport\n",
       "6       2025       politics\n",
       "7       1479       politics\n",
       "8         27  entertainment\n",
       "9        397       business"
      ],
      "text/html": [
       "<div>\n",
       "<style scoped>\n",
       "    .dataframe tbody tr th:only-of-type {\n",
       "        vertical-align: middle;\n",
       "    }\n",
       "\n",
       "    .dataframe tbody tr th {\n",
       "        vertical-align: top;\n",
       "    }\n",
       "\n",
       "    .dataframe thead th {\n",
       "        text-align: right;\n",
       "    }\n",
       "</style>\n",
       "<table border=\"1\" class=\"dataframe\">\n",
       "  <thead>\n",
       "    <tr style=\"text-align: right;\">\n",
       "      <th></th>\n",
       "      <th>ArticleId</th>\n",
       "      <th>Category</th>\n",
       "    </tr>\n",
       "  </thead>\n",
       "  <tbody>\n",
       "    <tr>\n",
       "      <th>0</th>\n",
       "      <td>1018</td>\n",
       "      <td>sport</td>\n",
       "    </tr>\n",
       "    <tr>\n",
       "      <th>1</th>\n",
       "      <td>1319</td>\n",
       "      <td>tech</td>\n",
       "    </tr>\n",
       "    <tr>\n",
       "      <th>2</th>\n",
       "      <td>1138</td>\n",
       "      <td>sport</td>\n",
       "    </tr>\n",
       "    <tr>\n",
       "      <th>3</th>\n",
       "      <td>459</td>\n",
       "      <td>business</td>\n",
       "    </tr>\n",
       "    <tr>\n",
       "      <th>4</th>\n",
       "      <td>1020</td>\n",
       "      <td>sport</td>\n",
       "    </tr>\n",
       "    <tr>\n",
       "      <th>5</th>\n",
       "      <td>51</td>\n",
       "      <td>sport</td>\n",
       "    </tr>\n",
       "    <tr>\n",
       "      <th>6</th>\n",
       "      <td>2025</td>\n",
       "      <td>politics</td>\n",
       "    </tr>\n",
       "    <tr>\n",
       "      <th>7</th>\n",
       "      <td>1479</td>\n",
       "      <td>politics</td>\n",
       "    </tr>\n",
       "    <tr>\n",
       "      <th>8</th>\n",
       "      <td>27</td>\n",
       "      <td>entertainment</td>\n",
       "    </tr>\n",
       "    <tr>\n",
       "      <th>9</th>\n",
       "      <td>397</td>\n",
       "      <td>business</td>\n",
       "    </tr>\n",
       "  </tbody>\n",
       "</table>\n",
       "</div>"
      ]
     },
     "execution_count": 32,
     "metadata": {},
     "output_type": "execute_result"
    }
   ],
   "execution_count": 32
  },
  {
   "metadata": {
    "ExecuteTime": {
     "end_time": "2025-07-30T20:47:55.434418Z",
     "start_time": "2025-07-30T20:47:55.425293Z"
    }
   },
   "cell_type": "code",
   "source": [
    "# save submission\n",
    "try:\n",
    "    nmf_test.to_csv('submission.csv', index=False)\n",
    "except:\n",
    "    ...\n"
   ],
   "id": "2782818515a6ef07",
   "outputs": [],
   "execution_count": 33
  },
  {
   "metadata": {},
   "cell_type": "markdown",
   "source": "### Model Comparison",
   "id": "625c6fb876df6c99"
  },
  {
   "metadata": {
    "ExecuteTime": {
     "end_time": "2025-07-30T22:55:36.972859Z",
     "start_time": "2025-07-30T22:55:36.948859Z"
    }
   },
   "cell_type": "code",
   "source": [
    "# Split the current Train data set into a train and test sets to evaluate supervised model(s)\n",
    "X_train, X_test, y_train, y_test = train_test_split(\n",
    "    bbcnews_train.Text,\n",
    "    bbcnews_train.Category,\n",
    "    test_size=0.2,\n",
    "    random_state=42,\n",
    "    stratify=bbcnews_train.Category  # Maintain class distribution\n",
    ")"
   ],
   "id": "8d100d0508f35a42",
   "outputs": [],
   "execution_count": 37
  },
  {
   "metadata": {
    "ExecuteTime": {
     "end_time": "2025-07-30T23:13:30.040861Z",
     "start_time": "2025-07-30T23:13:18.719181Z"
    }
   },
   "cell_type": "code",
   "source": [
    "# Support Vector Machine model\n",
    "svm_pipeline = Pipeline([\n",
    "    ('cleaner', TextCleaner(method='wordnet', additional_words=remove_common)),\n",
    "    ('tfidf', TfidfVectorizer(\n",
    "        min_df=5,\n",
    "        max_df=0.95,\n",
    "        analyzer='word',\n",
    "        ngram_range=(1, 2),\n",
    "        sublinear_tf=True,\n",
    "        token_pattern=r'\\b\\w+\\b'\n",
    "    )),\n",
    "    ('classifier', LinearSVC(C=1.0, dual=False))\n",
    "])\n",
    "\n",
    "# Train the model\n",
    "svm_pipeline.fit(X_train, y_train)\n",
    "\n",
    "# Predict on test data\n",
    "y_pred_svm = svm_pipeline.predict(X_test)\n",
    "\n",
    "# Calculate accuracy\n",
    "accuracy_svm = accuracy_score(y_test, y_pred_svm)\n",
    "print(f\"Accuracy on test set: {accuracy_svm:.4f}\")\n",
    "\n",
    "# Detailed classification report\n",
    "print(\"\\nClassification Report:\")\n",
    "print(classification_report(y_test, y_pred_svm))"
   ],
   "id": "df93e0f5b31de51e",
   "outputs": [
    {
     "name": "stdout",
     "output_type": "stream",
     "text": [
      "Accuracy on test set: 0.9688\n",
      "\n",
      "Classification Report:\n",
      "               precision    recall  f1-score   support\n",
      "\n",
      "     business       0.97      0.99      0.98        67\n",
      "entertainment       0.96      0.94      0.95        53\n",
      "     politics       0.98      0.96      0.97        53\n",
      "        sport       0.97      1.00      0.99        68\n",
      "         tech       0.96      0.94      0.95        47\n",
      "\n",
      "     accuracy                           0.97       288\n",
      "    macro avg       0.97      0.97      0.97       288\n",
      " weighted avg       0.97      0.97      0.97       288\n",
      "\n"
     ]
    }
   ],
   "execution_count": 54
  },
  {
   "metadata": {},
   "cell_type": "code",
   "outputs": [],
   "execution_count": null,
   "source": "",
   "id": "66b9f15dde885063"
  }
 ],
 "metadata": {
  "kernelspec": {
   "display_name": "Python 3",
   "language": "python",
   "name": "python3"
  },
  "language_info": {
   "codemirror_mode": {
    "name": "ipython",
    "version": 2
   },
   "file_extension": ".py",
   "mimetype": "text/x-python",
   "name": "python",
   "nbconvert_exporter": "python",
   "pygments_lexer": "ipython2",
   "version": "2.7.6"
  }
 },
 "nbformat": 4,
 "nbformat_minor": 5
}
