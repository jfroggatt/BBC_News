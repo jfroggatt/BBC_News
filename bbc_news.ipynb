{
 "cells": [
  {
   "cell_type": "code",
   "id": "initial_id",
   "metadata": {
    "collapsed": true,
    "ExecuteTime": {
     "end_time": "2025-07-30T18:25:10.947345Z",
     "start_time": "2025-07-30T18:25:06.482226Z"
    }
   },
   "source": [
    "from collections import Counter\n",
    "import itertools\n",
    "import numpy as np\n",
    "import pandas as pd\n",
    "import re\n",
    "\n",
    "import matplotlib.pyplot as plt\n",
    "import plotly.express as px\n",
    "import seaborn as sns\n",
    "\n",
    "import nltk\n",
    "from nltk import pos_tag\n",
    "from nltk.corpus import stopwords, wordnet\n",
    "from nltk.stem import SnowballStemmer, WordNetLemmatizer\n",
    "from sklearn.base import BaseEstimator, TransformerMixin\n",
    "from sklearn.decomposition import NMF\n",
    "from sklearn.feature_extraction.text import TfidfVectorizer\n",
    "from sklearn.metrics import accuracy_score, confusion_matrix, make_scorer\n",
    "from sklearn.model_selection import GridSearchCV\n",
    "from sklearn.pipeline import Pipeline\n",
    "import spacy\n",
    "\n",
    "# Download required resources if not already downloaded\n",
    "# NLTK stopwords\n",
    "try:\n",
    "    nltk.data.find('corpora/stopwords')\n",
    "except LookupError:\n",
    "    nltk.download('stopwords', quiet=True)\n",
    "\n",
    "# Download stemmer/lemmatizer resources\n",
    "nltk.download('punkt')\n",
    "nltk.download('wordnet')\n",
    "nltk.download('averaged_perceptron_tagger')\n",
    "\n",
    "# spaCy english words\n",
    "!python -m spacy download en_core_web_sm\n"
   ],
   "outputs": [
    {
     "name": "stderr",
     "output_type": "stream",
     "text": [
      "[nltk_data] Downloading package punkt to\n",
      "[nltk_data]     C:\\Users\\jim\\AppData\\Roaming\\nltk_data...\n",
      "[nltk_data]   Package punkt is already up-to-date!\n",
      "[nltk_data] Downloading package wordnet to\n",
      "[nltk_data]     C:\\Users\\jim\\AppData\\Roaming\\nltk_data...\n",
      "[nltk_data]   Package wordnet is already up-to-date!\n",
      "[nltk_data] Downloading package averaged_perceptron_tagger to\n",
      "[nltk_data]     C:\\Users\\jim\\AppData\\Roaming\\nltk_data...\n",
      "[nltk_data]   Package averaged_perceptron_tagger is already up-to-\n",
      "[nltk_data]       date!\n"
     ]
    },
    {
     "name": "stdout",
     "output_type": "stream",
     "text": [
      "Collecting en-core-web-sm==3.8.0\n",
      "  Downloading https://github.com/explosion/spacy-models/releases/download/en_core_web_sm-3.8.0/en_core_web_sm-3.8.0-py3-none-any.whl (12.8 MB)\n",
      "     ---------------------------------------- 0.0/12.8 MB ? eta -:--:--\n",
      "     ----------------- ---------------------- 5.5/12.8 MB 30.5 MB/s eta 0:00:01\n",
      "     --------------------------------------- 12.8/12.8 MB 36.5 MB/s eta 0:00:00\n",
      "\u001B[38;5;2m✔ Download and installation successful\u001B[0m\n",
      "You can now load the package via spacy.load('en_core_web_sm')\n"
     ]
    }
   ],
   "execution_count": 27
  },
  {
   "metadata": {
    "ExecuteTime": {
     "end_time": "2025-07-30T17:04:40.273222Z",
     "start_time": "2025-07-30T17:04:40.201624Z"
    }
   },
   "cell_type": "code",
   "source": [
    "bbcnews_train = pd.read_csv('data/BBC News Train.csv')\n",
    "bbcnews_test = pd.read_csv('data/BBC News Test.csv')\n",
    "bbcnews_train.head()"
   ],
   "id": "c517cc41a81543e4",
   "outputs": [
    {
     "data": {
      "text/plain": [
       "   ArticleId                                               Text  Category\n",
       "0       1833  worldcom ex-boss launches defence lawyers defe...  business\n",
       "1        154  german business confidence slides german busin...  business\n",
       "2       1101  bbc poll indicates economic gloom citizens in ...  business\n",
       "3       1976  lifestyle  governs mobile choice  faster  bett...      tech\n",
       "4        917  enron bosses in $168m payout eighteen former e...  business"
      ],
      "text/html": [
       "<div>\n",
       "<style scoped>\n",
       "    .dataframe tbody tr th:only-of-type {\n",
       "        vertical-align: middle;\n",
       "    }\n",
       "\n",
       "    .dataframe tbody tr th {\n",
       "        vertical-align: top;\n",
       "    }\n",
       "\n",
       "    .dataframe thead th {\n",
       "        text-align: right;\n",
       "    }\n",
       "</style>\n",
       "<table border=\"1\" class=\"dataframe\">\n",
       "  <thead>\n",
       "    <tr style=\"text-align: right;\">\n",
       "      <th></th>\n",
       "      <th>ArticleId</th>\n",
       "      <th>Text</th>\n",
       "      <th>Category</th>\n",
       "    </tr>\n",
       "  </thead>\n",
       "  <tbody>\n",
       "    <tr>\n",
       "      <th>0</th>\n",
       "      <td>1833</td>\n",
       "      <td>worldcom ex-boss launches defence lawyers defe...</td>\n",
       "      <td>business</td>\n",
       "    </tr>\n",
       "    <tr>\n",
       "      <th>1</th>\n",
       "      <td>154</td>\n",
       "      <td>german business confidence slides german busin...</td>\n",
       "      <td>business</td>\n",
       "    </tr>\n",
       "    <tr>\n",
       "      <th>2</th>\n",
       "      <td>1101</td>\n",
       "      <td>bbc poll indicates economic gloom citizens in ...</td>\n",
       "      <td>business</td>\n",
       "    </tr>\n",
       "    <tr>\n",
       "      <th>3</th>\n",
       "      <td>1976</td>\n",
       "      <td>lifestyle  governs mobile choice  faster  bett...</td>\n",
       "      <td>tech</td>\n",
       "    </tr>\n",
       "    <tr>\n",
       "      <th>4</th>\n",
       "      <td>917</td>\n",
       "      <td>enron bosses in $168m payout eighteen former e...</td>\n",
       "      <td>business</td>\n",
       "    </tr>\n",
       "  </tbody>\n",
       "</table>\n",
       "</div>"
      ]
     },
     "execution_count": 2,
     "metadata": {},
     "output_type": "execute_result"
    }
   ],
   "execution_count": 2
  },
  {
   "metadata": {
    "ExecuteTime": {
     "end_time": "2025-07-30T17:04:42.175543Z",
     "start_time": "2025-07-30T17:04:42.168395Z"
    }
   },
   "cell_type": "code",
   "source": "bbcnews_test.head()",
   "id": "ecd93a1f76fe5db4",
   "outputs": [
    {
     "data": {
      "text/plain": [
       "   ArticleId                                               Text\n",
       "0       1018  qpr keeper day heads for preston queens park r...\n",
       "1       1319  software watching while you work software that...\n",
       "2       1138  d arcy injury adds to ireland woe gordon d arc...\n",
       "3        459  india s reliance family feud heats up the ongo...\n",
       "4       1020  boro suffer morrison injury blow middlesbrough..."
      ],
      "text/html": [
       "<div>\n",
       "<style scoped>\n",
       "    .dataframe tbody tr th:only-of-type {\n",
       "        vertical-align: middle;\n",
       "    }\n",
       "\n",
       "    .dataframe tbody tr th {\n",
       "        vertical-align: top;\n",
       "    }\n",
       "\n",
       "    .dataframe thead th {\n",
       "        text-align: right;\n",
       "    }\n",
       "</style>\n",
       "<table border=\"1\" class=\"dataframe\">\n",
       "  <thead>\n",
       "    <tr style=\"text-align: right;\">\n",
       "      <th></th>\n",
       "      <th>ArticleId</th>\n",
       "      <th>Text</th>\n",
       "    </tr>\n",
       "  </thead>\n",
       "  <tbody>\n",
       "    <tr>\n",
       "      <th>0</th>\n",
       "      <td>1018</td>\n",
       "      <td>qpr keeper day heads for preston queens park r...</td>\n",
       "    </tr>\n",
       "    <tr>\n",
       "      <th>1</th>\n",
       "      <td>1319</td>\n",
       "      <td>software watching while you work software that...</td>\n",
       "    </tr>\n",
       "    <tr>\n",
       "      <th>2</th>\n",
       "      <td>1138</td>\n",
       "      <td>d arcy injury adds to ireland woe gordon d arc...</td>\n",
       "    </tr>\n",
       "    <tr>\n",
       "      <th>3</th>\n",
       "      <td>459</td>\n",
       "      <td>india s reliance family feud heats up the ongo...</td>\n",
       "    </tr>\n",
       "    <tr>\n",
       "      <th>4</th>\n",
       "      <td>1020</td>\n",
       "      <td>boro suffer morrison injury blow middlesbrough...</td>\n",
       "    </tr>\n",
       "  </tbody>\n",
       "</table>\n",
       "</div>"
      ]
     },
     "execution_count": 3,
     "metadata": {},
     "output_type": "execute_result"
    }
   ],
   "execution_count": 3
  },
  {
   "metadata": {
    "ExecuteTime": {
     "end_time": "2025-07-30T17:04:44.754368Z",
     "start_time": "2025-07-30T17:04:44.745300Z"
    }
   },
   "cell_type": "code",
   "source": "bbcnews_train.isnull().sum()",
   "id": "3ab90be94ac7d410",
   "outputs": [
    {
     "data": {
      "text/plain": [
       "ArticleId    0\n",
       "Text         0\n",
       "Category     0\n",
       "dtype: int64"
      ]
     },
     "execution_count": 4,
     "metadata": {},
     "output_type": "execute_result"
    }
   ],
   "execution_count": 4
  },
  {
   "metadata": {
    "ExecuteTime": {
     "end_time": "2025-07-30T17:04:46.730266Z",
     "start_time": "2025-07-30T17:04:46.723659Z"
    }
   },
   "cell_type": "code",
   "source": "bbcnews_test.isnull().sum()",
   "id": "cc9ff22bd3fc91bb",
   "outputs": [
    {
     "data": {
      "text/plain": [
       "ArticleId    0\n",
       "Text         0\n",
       "dtype: int64"
      ]
     },
     "execution_count": 5,
     "metadata": {},
     "output_type": "execute_result"
    }
   ],
   "execution_count": 5
  },
  {
   "metadata": {
    "ExecuteTime": {
     "end_time": "2025-07-30T17:04:48.544084Z",
     "start_time": "2025-07-30T17:04:48.529081Z"
    }
   },
   "cell_type": "code",
   "source": "bbcnews_train.nunique()",
   "id": "e72a02b87090cb1f",
   "outputs": [
    {
     "data": {
      "text/plain": [
       "ArticleId    1490\n",
       "Text         1440\n",
       "Category        5\n",
       "dtype: int64"
      ]
     },
     "execution_count": 6,
     "metadata": {},
     "output_type": "execute_result"
    }
   ],
   "execution_count": 6
  },
  {
   "metadata": {
    "ExecuteTime": {
     "end_time": "2025-07-30T17:04:50.707636Z",
     "start_time": "2025-07-30T17:04:50.696728Z"
    }
   },
   "cell_type": "code",
   "source": [
    "# Find duplicate rows in the training dataset where 'Text' is not unique\n",
    "train_duplicates = bbcnews_train[bbcnews_train.duplicated(subset=['Text'], keep=False)]\n",
    "print(f\"Number of duplicate rows: {len(train_duplicates)}\")\n",
    "display(train_duplicates.sort_values(by='Text'))\n"
   ],
   "id": "a0bb3a34bae659b1",
   "outputs": [
    {
     "name": "stdout",
     "output_type": "stream",
     "text": [
      "Number of duplicate rows: 100\n"
     ]
    },
    {
     "data": {
      "text/plain": [
       "      ArticleId                                               Text  \\\n",
       "494        1326  ask jeeves joins web log market ask jeeves has...   \n",
       "228        1098  ask jeeves joins web log market ask jeeves has...   \n",
       "1430       1042  aviator  creator  in oscars snub the man who s...   \n",
       "695         374  aviator  creator  in oscars snub the man who s...   \n",
       "443        1847  blind student  hears in colour  a blind studen...   \n",
       "...         ...                                                ...   \n",
       "1047        789  virus poses as christmas e-mail security firms...   \n",
       "1409        957  web radio takes spanish rap global spin the ra...   \n",
       "616         110  web radio takes spanish rap global spin the ra...   \n",
       "63         2017  what high-definition will do to dvds first it ...   \n",
       "1439       1111  what high-definition will do to dvds first it ...   \n",
       "\n",
       "           Category  \n",
       "494            tech  \n",
       "228            tech  \n",
       "1430  entertainment  \n",
       "695   entertainment  \n",
       "443            tech  \n",
       "...             ...  \n",
       "1047           tech  \n",
       "1409           tech  \n",
       "616            tech  \n",
       "63             tech  \n",
       "1439           tech  \n",
       "\n",
       "[100 rows x 3 columns]"
      ],
      "text/html": [
       "<div>\n",
       "<style scoped>\n",
       "    .dataframe tbody tr th:only-of-type {\n",
       "        vertical-align: middle;\n",
       "    }\n",
       "\n",
       "    .dataframe tbody tr th {\n",
       "        vertical-align: top;\n",
       "    }\n",
       "\n",
       "    .dataframe thead th {\n",
       "        text-align: right;\n",
       "    }\n",
       "</style>\n",
       "<table border=\"1\" class=\"dataframe\">\n",
       "  <thead>\n",
       "    <tr style=\"text-align: right;\">\n",
       "      <th></th>\n",
       "      <th>ArticleId</th>\n",
       "      <th>Text</th>\n",
       "      <th>Category</th>\n",
       "    </tr>\n",
       "  </thead>\n",
       "  <tbody>\n",
       "    <tr>\n",
       "      <th>494</th>\n",
       "      <td>1326</td>\n",
       "      <td>ask jeeves joins web log market ask jeeves has...</td>\n",
       "      <td>tech</td>\n",
       "    </tr>\n",
       "    <tr>\n",
       "      <th>228</th>\n",
       "      <td>1098</td>\n",
       "      <td>ask jeeves joins web log market ask jeeves has...</td>\n",
       "      <td>tech</td>\n",
       "    </tr>\n",
       "    <tr>\n",
       "      <th>1430</th>\n",
       "      <td>1042</td>\n",
       "      <td>aviator  creator  in oscars snub the man who s...</td>\n",
       "      <td>entertainment</td>\n",
       "    </tr>\n",
       "    <tr>\n",
       "      <th>695</th>\n",
       "      <td>374</td>\n",
       "      <td>aviator  creator  in oscars snub the man who s...</td>\n",
       "      <td>entertainment</td>\n",
       "    </tr>\n",
       "    <tr>\n",
       "      <th>443</th>\n",
       "      <td>1847</td>\n",
       "      <td>blind student  hears in colour  a blind studen...</td>\n",
       "      <td>tech</td>\n",
       "    </tr>\n",
       "    <tr>\n",
       "      <th>...</th>\n",
       "      <td>...</td>\n",
       "      <td>...</td>\n",
       "      <td>...</td>\n",
       "    </tr>\n",
       "    <tr>\n",
       "      <th>1047</th>\n",
       "      <td>789</td>\n",
       "      <td>virus poses as christmas e-mail security firms...</td>\n",
       "      <td>tech</td>\n",
       "    </tr>\n",
       "    <tr>\n",
       "      <th>1409</th>\n",
       "      <td>957</td>\n",
       "      <td>web radio takes spanish rap global spin the ra...</td>\n",
       "      <td>tech</td>\n",
       "    </tr>\n",
       "    <tr>\n",
       "      <th>616</th>\n",
       "      <td>110</td>\n",
       "      <td>web radio takes spanish rap global spin the ra...</td>\n",
       "      <td>tech</td>\n",
       "    </tr>\n",
       "    <tr>\n",
       "      <th>63</th>\n",
       "      <td>2017</td>\n",
       "      <td>what high-definition will do to dvds first it ...</td>\n",
       "      <td>tech</td>\n",
       "    </tr>\n",
       "    <tr>\n",
       "      <th>1439</th>\n",
       "      <td>1111</td>\n",
       "      <td>what high-definition will do to dvds first it ...</td>\n",
       "      <td>tech</td>\n",
       "    </tr>\n",
       "  </tbody>\n",
       "</table>\n",
       "<p>100 rows × 3 columns</p>\n",
       "</div>"
      ]
     },
     "metadata": {},
     "output_type": "display_data"
    }
   ],
   "execution_count": 7
  },
  {
   "metadata": {
    "ExecuteTime": {
     "end_time": "2025-07-30T17:04:55.920248Z",
     "start_time": "2025-07-30T17:04:55.905241Z"
    }
   },
   "cell_type": "code",
   "source": [
    "# Group duplicates by Text and check if all rows in each group have the same Category\n",
    "print(\"Analysis of duplicate texts in training dataset:\")\n",
    "for text, group in train_duplicates.groupby('Text'):\n",
    "    categories = group['Category'].unique()\n",
    "    if len(categories) == 1:\n",
    "        print(f\"Text (truncated): '{text[:50]}...' has {len(group)} duplicates, all with category: {categories[0]}\")\n",
    "    else:\n",
    "        print(f\"Text (truncated): '{text[:50]}...' has {len(group)} duplicates with different categories: {categories}\")\n",
    "\n",
    "# Count how many duplicate texts have consistent vs inconsistent categories\n",
    "same_category = 0\n",
    "different_category = 0\n",
    "\n",
    "for text, group in train_duplicates.groupby('Text'):\n",
    "    if len(group['Category'].unique()) == 1:\n",
    "        same_category += 1\n",
    "    else:\n",
    "        different_category += 1\n",
    "\n",
    "print(f\"\\nSummary:\")\n",
    "print(f\"- Duplicate texts with the same category: {same_category}\")\n",
    "print(f\"- Duplicate texts with different categories: {different_category}\")"
   ],
   "id": "eef0dd3e61240d85",
   "outputs": [
    {
     "name": "stdout",
     "output_type": "stream",
     "text": [
      "Analysis of duplicate texts in training dataset:\n",
      "Text (truncated): 'ask jeeves joins web log market ask jeeves has bou...' has 2 duplicates, all with category: tech\n",
      "Text (truncated): 'aviator  creator  in oscars snub the man who said ...' has 2 duplicates, all with category: entertainment\n",
      "Text (truncated): 'blind student  hears in colour  a blind student ha...' has 2 duplicates, all with category: tech\n",
      "Text (truncated): 'bortolami predicts dour contest italy skipper marc...' has 2 duplicates, all with category: sport\n",
      "Text (truncated): 'britons fed up with net service a survey conducted...' has 2 duplicates, all with category: tech\n",
      "Text (truncated): 'brown outlines third term vision gordon brown has ...' has 2 duplicates, all with category: politics\n",
      "Text (truncated): 'california sets fines for spyware the makers of co...' has 2 duplicates, all with category: tech\n",
      "Text (truncated): 'camera phones are  must-haves  four times more mob...' has 2 duplicates, all with category: tech\n",
      "Text (truncated): 'commodore finds new lease of life the once-famous ...' has 2 duplicates, all with category: tech\n",
      "Text (truncated): 'de niro film leads us box office film star robert ...' has 2 duplicates, all with category: entertainment\n",
      "Text (truncated): 'debate needed  on donations cap a cap on donations...' has 2 duplicates, all with category: politics\n",
      "Text (truncated): 'digital guru floats sub-$100 pc nicholas negropont...' has 2 duplicates, all with category: tech\n",
      "Text (truncated): 'doors open at biggest gadget fair thousands of tec...' has 2 duplicates, all with category: tech\n",
      "Text (truncated): 'downloads enter us singles chart digital music dow...' has 2 duplicates, all with category: entertainment\n",
      "Text (truncated): 'economy  strong  in election year uk businesses ar...' has 2 duplicates, all with category: business\n",
      "Text (truncated): 'ferguson rues failure to cut gap boss sir alex fer...' has 2 duplicates, all with category: sport\n",
      "Text (truncated): 'format wars could  confuse users  technology firms...' has 2 duplicates, all with category: tech\n",
      "Text (truncated): 'fox attacks blair s tory  lies  tony blair lied wh...' has 2 duplicates, all with category: politics\n",
      "Text (truncated): 'freeze on anti-spam campaign a campaign by lycos e...' has 2 duplicates, all with category: tech\n",
      "Text (truncated): 'gadget market  to grow in 2005  the explosion in c...' has 2 duplicates, all with category: tech\n",
      "Text (truncated): 'hague  given up  his pm ambition former conservati...' has 2 duplicates, all with category: politics\n",
      "Text (truncated): 'holmes starts 2005 with gb events kelly holmes wil...' has 2 duplicates, all with category: sport\n",
      "Text (truncated): 'hotspot users gain free net calls people using wir...' has 2 duplicates, all with category: tech\n",
      "Text (truncated): 'howard denies split over id cards michael howard h...' has 2 duplicates, all with category: politics\n",
      "Text (truncated): 'junk e-mails on relentless rise spam traffic is up...' has 2 duplicates, all with category: tech\n",
      "Text (truncated): 'microsoft gets the blogging bug software giant mic...' has 2 duplicates, all with category: tech\n",
      "Text (truncated): 'microsoft seeking spyware trojan microsoft is inve...' has 2 duplicates, all with category: tech\n",
      "Text (truncated): 'mobiles  not media players yet  mobiles are not ye...' has 2 duplicates, all with category: tech\n",
      "Text (truncated): 'mobiles rack up 20 years of use mobile phones in t...' has 2 duplicates, all with category: tech\n",
      "Text (truncated): 'more power to the people says hp the digital revol...' has 2 duplicates, all with category: tech\n",
      "Text (truncated): 'mps issued with blackberry threat mps will be thro...' has 2 duplicates, all with category: politics\n",
      "Text (truncated): 'musical treatment for capra film the classic film ...' has 2 duplicates, all with category: entertainment\n",
      "Text (truncated): 'pop band busted to  take a break  chart-topping po...' has 2 duplicates, all with category: entertainment\n",
      "Text (truncated): 'prince crowned  top music earner  prince earned mo...' has 2 duplicates, all with category: entertainment\n",
      "Text (truncated): 'queen recruit singer for new tour the remaining me...' has 2 duplicates, all with category: entertainment\n",
      "Text (truncated): 'ray dvd beats box office takings oscar-nominated f...' has 2 duplicates, all with category: entertainment\n",
      "Text (truncated): 'schools to take part in mock poll record numbers o...' has 2 duplicates, all with category: politics\n",
      "Text (truncated): 'security warning over  fbi virus  the us federal b...' has 2 duplicates, all with category: tech\n",
      "Text (truncated): 'singer s film to show at festival a documentary wh...' has 2 duplicates, all with category: entertainment\n",
      "Text (truncated): 'spain coach faces racism inquiry spain s football ...' has 2 duplicates, all with category: sport\n",
      "Text (truncated): 'spam e-mails tempt net shoppers computer users acr...' has 2 duplicates, all with category: tech\n",
      "Text (truncated): 'stars pay tribute to actor davis hollywood stars i...' has 2 duplicates, all with category: entertainment\n",
      "Text (truncated): 't-mobile bets on  pocket office  t-mobile has laun...' has 2 duplicates, all with category: tech\n",
      "Text (truncated): 'talks aim to avert pension strike talks aimed at a...' has 2 duplicates, all with category: politics\n",
      "Text (truncated): 'ultimate game  award for doom 3 sci-fi shooter doo...' has 2 duplicates, all with category: tech\n",
      "Text (truncated): 'us duo in first spam conviction a brother and sist...' has 2 duplicates, all with category: tech\n",
      "Text (truncated): 'us peer-to-peer pirates convicted the first convic...' has 2 duplicates, all with category: tech\n",
      "Text (truncated): 'virus poses as christmas e-mail security firms are...' has 2 duplicates, all with category: tech\n",
      "Text (truncated): 'web radio takes spanish rap global spin the radio ...' has 2 duplicates, all with category: tech\n",
      "Text (truncated): 'what high-definition will do to dvds first it was ...' has 2 duplicates, all with category: tech\n",
      "\n",
      "Summary:\n",
      "- Duplicate texts with the same category: 50\n",
      "- Duplicate texts with different categories: 0\n"
     ]
    }
   ],
   "execution_count": 8
  },
  {
   "metadata": {
    "ExecuteTime": {
     "end_time": "2025-07-30T17:04:57.800889Z",
     "start_time": "2025-07-30T17:04:57.793082Z"
    }
   },
   "cell_type": "code",
   "source": [
    "# list categories and count for each\n",
    "bbcnews_train.groupby('Category').count()"
   ],
   "id": "e9c1444c287a9cf6",
   "outputs": [
    {
     "data": {
      "text/plain": [
       "               ArticleId  Text\n",
       "Category                      \n",
       "business             336   336\n",
       "entertainment        273   273\n",
       "politics             274   274\n",
       "sport                346   346\n",
       "tech                 261   261"
      ],
      "text/html": [
       "<div>\n",
       "<style scoped>\n",
       "    .dataframe tbody tr th:only-of-type {\n",
       "        vertical-align: middle;\n",
       "    }\n",
       "\n",
       "    .dataframe tbody tr th {\n",
       "        vertical-align: top;\n",
       "    }\n",
       "\n",
       "    .dataframe thead th {\n",
       "        text-align: right;\n",
       "    }\n",
       "</style>\n",
       "<table border=\"1\" class=\"dataframe\">\n",
       "  <thead>\n",
       "    <tr style=\"text-align: right;\">\n",
       "      <th></th>\n",
       "      <th>ArticleId</th>\n",
       "      <th>Text</th>\n",
       "    </tr>\n",
       "    <tr>\n",
       "      <th>Category</th>\n",
       "      <th></th>\n",
       "      <th></th>\n",
       "    </tr>\n",
       "  </thead>\n",
       "  <tbody>\n",
       "    <tr>\n",
       "      <th>business</th>\n",
       "      <td>336</td>\n",
       "      <td>336</td>\n",
       "    </tr>\n",
       "    <tr>\n",
       "      <th>entertainment</th>\n",
       "      <td>273</td>\n",
       "      <td>273</td>\n",
       "    </tr>\n",
       "    <tr>\n",
       "      <th>politics</th>\n",
       "      <td>274</td>\n",
       "      <td>274</td>\n",
       "    </tr>\n",
       "    <tr>\n",
       "      <th>sport</th>\n",
       "      <td>346</td>\n",
       "      <td>346</td>\n",
       "    </tr>\n",
       "    <tr>\n",
       "      <th>tech</th>\n",
       "      <td>261</td>\n",
       "      <td>261</td>\n",
       "    </tr>\n",
       "  </tbody>\n",
       "</table>\n",
       "</div>"
      ]
     },
     "execution_count": 9,
     "metadata": {},
     "output_type": "execute_result"
    }
   ],
   "execution_count": 9
  },
  {
   "metadata": {
    "ExecuteTime": {
     "end_time": "2025-07-30T17:05:16.050059Z",
     "start_time": "2025-07-30T17:05:16.044058Z"
    }
   },
   "cell_type": "code",
   "source": [
    "# remove duplicates\n",
    "bbcnews_train = bbcnews_train.drop_duplicates(subset = ['Text'], keep = 'first')\n",
    "remaining_dups = bbcnews_train[bbcnews_train.duplicated(subset=['Text'], keep=False)]\n",
    "print(f\"Remaining duplicates in the training dataset: {len(remaining_dups)}\")"
   ],
   "id": "d3f295b84d28719c",
   "outputs": [
    {
     "name": "stdout",
     "output_type": "stream",
     "text": [
      "Remaining duplicates in the training dataset: 0\n"
     ]
    }
   ],
   "execution_count": 10
  },
  {
   "metadata": {
    "ExecuteTime": {
     "end_time": "2025-07-30T17:05:18.924675Z",
     "start_time": "2025-07-30T17:05:18.677241Z"
    }
   },
   "cell_type": "code",
   "source": [
    "# Plot the number of articles in each category\n",
    "\n",
    "# Get counts by categorry\n",
    "category_counts = bbcnews_train['Category'].value_counts()\n",
    "\n",
    "# Create a bar plot\n",
    "plt.figure(figsize=(10, 6))\n",
    "ax = category_counts.plot(kind='bar', color='steelblue')\n",
    "plt.title('Number of BBC News Articles by Category', fontsize=16)\n",
    "plt.xlabel('Category', fontsize=14)\n",
    "plt.ylabel('Number of Articles', fontsize=14)\n",
    "plt.xticks(rotation=45)\n",
    "plt.grid(axis='y', linestyle='--', alpha=0.7)\n",
    "\n",
    "# Add the counts on top of each bar\n",
    "for i, count in enumerate(category_counts):\n",
    "    plt.text(i, count + 5, str(count), ha='center', fontweight='bold')\n",
    "\n",
    "plt.tight_layout()\n",
    "plt.show()\n"
   ],
   "id": "eb96794979a9078d",
   "outputs": [
    {
     "data": {
      "text/plain": [
       "<Figure size 1000x600 with 1 Axes>"
      ],
      "image/png": "[encoded data removed]"
     },
     "metadata": {},
     "output_type": "display_data"
    }
   ],
   "execution_count": 11
  },
  {
   "metadata": {
    "ExecuteTime": {
     "end_time": "2025-07-30T17:05:20.584377Z",
     "start_time": "2025-07-30T17:05:20.404350Z"
    }
   },
   "cell_type": "code",
   "source": [
    "# Distribution of article length by category\n",
    "\n",
    "# Calculate the length for each article\n",
    "bbcnews_train['text_length'] = bbcnews_train['Text'].apply(len)\n",
    "\n",
    "# Create a box plot to compare text length by category\n",
    "category_colors = {\n",
    "    'business': '#1f77b4',      # blue\n",
    "    'entertainment': '#ff7f0e', # orange\n",
    "    'politics': '#2ca02c',      # green\n",
    "    'sport': '#d62728',         # red\n",
    "    'tech': '#9467bd'           # purple\n",
    "}\n",
    "plt.figure(figsize=(12, 6))\n",
    "sns.boxplot(x='Category', y='text_length', data=bbcnews_train, palette=category_colors, hue='Category')\n",
    "plt.title('Distribution of Text Length by Category', fontsize=14)\n",
    "plt.xlabel('Category', fontsize=12)\n",
    "plt.ylabel('Text Length (characters)', fontsize=12)\n",
    "plt.grid(axis='y', alpha=0.3)\n",
    "plt.xticks(rotation=45)\n",
    "\n",
    "plt.tight_layout()\n",
    "plt.show()"
   ],
   "id": "3d1eeb4506638c5f",
   "outputs": [
    {
     "data": {
      "text/plain": [
       "<Figure size 1200x600 with 1 Axes>"
      ],
      "image/png": "[encoded data removed]"
     },
     "metadata": {},
     "output_type": "display_data"
    }
   ],
   "execution_count": 12
  },
  {
   "metadata": {
    "ExecuteTime": {
     "end_time": "2025-07-30T17:05:21.977611Z",
     "start_time": "2025-07-30T17:05:21.780426Z"
    }
   },
   "cell_type": "code",
   "source": [
    "# Plot the distribution of word counts\n",
    "\n",
    "# Calculate the word count for each article\n",
    "bbcnews_train['word_count'] = bbcnews_train['Text'].apply(lambda x: len(str(x).split()))\n",
    "\n",
    "plt.figure(figsize=(12, 6))\n",
    "sns.boxplot(x='Category', y='word_count', data=bbcnews_train, palette=category_colors, hue='Category')\n",
    "plt.title('Distribution of Word Count by Category', fontsize=14)\n",
    "plt.xlabel('Category', fontsize=12)\n",
    "plt.ylabel('Word Count', fontsize=12)\n",
    "plt.grid(axis='y', alpha=0.3)\n",
    "plt.xticks(rotation=45)\n",
    "\n",
    "plt.tight_layout()\n",
    "plt.show()\n"
   ],
   "id": "2301fefbf48cfc9d",
   "outputs": [
    {
     "data": {
      "text/plain": [
       "<Figure size 1200x600 with 1 Axes>"
      ],
      "image/png": "[encoded data removed]"
     },
     "metadata": {},
     "output_type": "display_data"
    }
   ],
   "execution_count": 13
  },
  {
   "metadata": {
    "ExecuteTime": {
     "end_time": "2025-07-30T17:05:23.727679Z",
     "start_time": "2025-07-30T17:05:23.361786Z"
    }
   },
   "cell_type": "code",
   "source": [
    "# The the distribution of the word count for all articles\n",
    "plt.figure(figsize=(12, 8))\n",
    "\n",
    "# Create the histogram of word counts\n",
    "bins = np.linspace(0, bbcnews_train['word_count'].max(), 100)\n",
    "n, bins, patches = plt.hist(bbcnews_train['word_count'], bins=bins,\n",
    "                            color='#3498db', alpha=0.8, edgecolor='white', linewidth=0.5)\n",
    "\n",
    "# Calculate statistics\n",
    "mean_val = bbcnews_train['word_count'].mean()\n",
    "median_val = bbcnews_train['word_count'].median()\n",
    "mode_val = bbcnews_train['word_count'].mode()[0]\n",
    "std_val = bbcnews_train['word_count'].std()\n",
    "\n",
    "# Add vertical lines for mean and median (with thinner lines)\n",
    "plt.axvline(x=mean_val, color='red', linestyle='--', linewidth=0.8, label=f'Mean: {mean_val:.0f}')\n",
    "plt.axvline(x=median_val, color='green', linestyle=':', linewidth=0.8, label=f'Median: {median_val:.0f}')\n",
    "\n",
    "plt.title('Distribution of Word Counts in BBC News Articles', fontsize=16, pad=20)\n",
    "plt.xlabel('Word Count', fontsize=14, labelpad=10)\n",
    "plt.ylabel('Frequency', fontsize=14, labelpad=10)\n",
    "plt.grid(axis='y', alpha=0.3, linestyle='--')\n",
    "plt.xticks(fontsize=12)\n",
    "plt.yticks(fontsize=12)\n",
    "plt.legend(fontsize=12)\n",
    "\n",
    "plt.tight_layout()\n",
    "plt.show()\n",
    "\n",
    "# Associated boxplot for the word count distribution\n",
    "plt.figure(figsize=(12, 4))\n",
    "sns.boxplot(x=bbcnews_train['word_count'], color='#3498db')\n",
    "plt.title('Boxplot of Word Counts', fontsize=16, pad=20)\n",
    "plt.xlabel('Word Count', fontsize=14, labelpad=10)\n",
    "plt.grid(axis='x', alpha=0.3, linestyle='--')\n",
    "plt.tight_layout()\n",
    "plt.show();\n"
   ],
   "id": "86753bbb79785c5c",
   "outputs": [
    {
     "data": {
      "text/plain": [
       "<Figure size 1200x800 with 1 Axes>"
      ],
      "image/png": "[encoded data removed]"
     },
     "metadata": {},
     "output_type": "display_data"
    },
    {
     "data": {
      "text/plain": [
       "<Figure size 1200x400 with 1 Axes>"
      ],
      "image/png": "[encoded data removed]"
     },
     "metadata": {},
     "output_type": "display_data"
    }
   ],
   "execution_count": 14
  },
  {
   "metadata": {
    "ExecuteTime": {
     "end_time": "2025-07-30T17:05:26.716386Z",
     "start_time": "2025-07-30T17:05:26.706852Z"
    }
   },
   "cell_type": "code",
   "source": [
    "# Preprocessing Article Text\n",
    "\n",
    "# Helper functions to cleanup the article Text. Several variations to test accuracy for stem/lemma options\n",
    "\n",
    "# Simple word tokens\n",
    "def simple_tokens(text, remove_words, min_word_length = 2):\n",
    "    tokens = text.split()\n",
    "    return [token for token in tokens if token not in remove_words and len(token) > min_word_length]  # filter words to remove and short words\n",
    "\n",
    "\n",
    "# spaCy lemmatization\n",
    "def spaCy_lemma(text, remove_words, min_word_length = 2):\n",
    "    nlp = spacy.load(\"en_core_web_sm\")  # For spaCy lemmatizing option\n",
    "    tokens = nlp(text)  # use spaCy to generate tokens\n",
    "\n",
    "    # Process words (lemmatize, removing stopwords and additional words supplied, short words, and extra spaces)\n",
    "    return [token.lemma_ for token in tokens if token.text not in remove_words\n",
    "             and token.lemma_ not in remove_words and len(token) > min_word_length and not token.is_space]\n",
    "\n",
    "\n",
    "# WordNetLemmatization\n",
    "def get_wordnet_pos(nltk_tag):\n",
    "    # Map for most common matches on the first letter of the tag\n",
    "    pos_map = {'N': wordnet.NOUN, 'V': wordnet.VERB, 'J': wordnet.ADJ, 'R': wordnet.ADV}\n",
    "\n",
    "    # Map NLTK POS tags to WordNet POS tags\n",
    "    if nltk_tag[0] in pos_map:\n",
    "        return pos_map[nltk_tag[0]]\n",
    "    elif nltk_tag in ('MD', 'TO'):  # Modal, infinitive marker\n",
    "        return wordnet.VERB\n",
    "    else:\n",
    "         return wordnet.NOUN  # Default to Noun for other cases\n",
    "\n",
    "\n",
    "def wordnet_lemma(text, remove_words, min_word_length = 2):\n",
    "    # WordNet lemmatizer\n",
    "    lemmatizer = WordNetLemmatizer()\n",
    "\n",
    "    # Tokenize the text\n",
    "    tokens = nltk.word_tokenize(text)\n",
    "\n",
    "    # Get POS tags\n",
    "    tagged_tokens = pos_tag(tokens)\n",
    "\n",
    "    # Lemmatize with POS tag\n",
    "    lemmatized_words = []\n",
    "    for word, tag in tagged_tokens:\n",
    "        if word not in remove_words and len(word) > min_word_length:\n",
    "            # Get the WordNet POS tag\n",
    "            wordnet_pos = get_wordnet_pos(tag)\n",
    "\n",
    "            # Lemmatize with the appropriate POS tag\n",
    "            lemma = lemmatizer.lemmatize(word, wordnet_pos)\n",
    "            lemmatized_words.append(lemma)\n",
    "\n",
    "    return lemmatized_words\n",
    "\n",
    "\n",
    "# SnowballStemmer\n",
    "def snowball_stemmer(text, remove_words, min_word_length = 2):\n",
    "    stemmer = SnowballStemmer(\"english\")\n",
    "\n",
    "    # Simple tokenize\n",
    "    tokens = simple_tokens(text, remove_words, min_word_length)\n",
    "\n",
    "    # Remove stop words, short words, and apply stemming\n",
    "    words = [stemmer.stem(word) for word in tokens]\n",
    "\n",
    "    return words\n",
    "\n",
    "\n",
    "# Function to perform the text cleanup and stem/lemmatize as specified\n",
    "def cleanup_text(text, additional_words = None, min_word_length = 2, max_word_count = 1000, method = 'simple'):\n",
    "    # Convert to lowercase\n",
    "    text = text.lower()\n",
    "\n",
    "    # Remove punctuation\n",
    "    text = re.sub(r'[^\\w\\s]', ' ', text)\n",
    "\n",
    "    # Remove numbers\n",
    "    text = re.sub(r'\\d+', ' ', text)\n",
    "\n",
    "    # Words to remove\n",
    "    stop_words = set(stopwords.words('english'))  # Remove English stop words\n",
    "    remove_words = stop_words if not additional_words else stop_words.union(additional_words)  # Handle additional words provided\n",
    "\n",
    "    # Process words (lemmatize, removing stopwords and additional words supplied, short words, and extra spaces)\n",
    "    match method:\n",
    "        case 'spaCy':\n",
    "            words = spaCy_lemma(text, remove_words)\n",
    "        case 'wordnet':\n",
    "            words = wordnet_lemma(text, remove_words)\n",
    "        case 'snowball':\n",
    "            words = snowball_stemmer(text, remove_words)\n",
    "        case _:  # default to 'simple'\n",
    "            words = simple_tokens(text, remove_words)\n",
    "\n",
    "    # Return the cleaned text\n",
    "    return ' '.join(words)\n"
   ],
   "id": "2153f50a3a44d80b",
   "outputs": [],
   "execution_count": 15
  },
  {
   "metadata": {
    "ExecuteTime": {
     "end_time": "2025-07-30T19:06:40.394546Z",
     "start_time": "2025-07-30T19:06:40.374545Z"
    }
   },
   "cell_type": "code",
   "source": [
    "# Create a custom transformer to perform text cleanup (usable in pipeline later)\n",
    "class TextCleaner(BaseEstimator, TransformerMixin):\n",
    "    def __init__(self, min_word_length = 2, max_word_count = 0, method = 'simple', additional_words = None, stop_words = None):\n",
    "        self.min_word_length = min_word_length\n",
    "        self.max_word_count = max_word_count\n",
    "        self.method = method\n",
    "        self.additional_words = additional_words\n",
    "        self.stop_words = stop_words if stop_words else set(stopwords.words('english'))\n",
    "        self.remove_words = self.stop_words if not self.additional_words else self.stop_words.union(self.additional_words)\n",
    "\n",
    "    # empty fit function to support use in pipeline\n",
    "    def fit(self, X, y = None):\n",
    "        return self\n",
    "\n",
    "    # transform function for _cleanup_text to support use in pipeline\n",
    "    def transform(self, X):\n",
    "        if hasattr(X, 'apply'):\n",
    "            return X.apply(self._cleanup_text)\n",
    "        else:\n",
    "            return [self._cleanup_text(text) for text in X]\n",
    "\n",
    "    # Function to perform the text cleanup and stem/lemmatize as specified\n",
    "    def _cleanup_text(self, text):\n",
    "        # Convert to lowercase\n",
    "        text = text.lower()\n",
    "\n",
    "        # Remove punctuation\n",
    "        text = re.sub(r'[^\\w\\s]', ' ', text)\n",
    "\n",
    "        # Remove numbers\n",
    "        text = re.sub(r'\\d+', ' ', text)\n",
    "\n",
    "        # Process words (lemmatize, removing stopwords and additional words supplied, short words, and extra spaces)\n",
    "        match self.method:\n",
    "            case 'spaCy' | 'spacy':\n",
    "                words = self._spacy_lemma(text)\n",
    "            case 'wordnet':\n",
    "                words = self._wordnet_lemma(text)\n",
    "            case 'snowball':\n",
    "                words = self._snowball_stemmer(text)\n",
    "            case _:  # default to 'simple'\n",
    "                words = self._simple_tokens(text)\n",
    "\n",
    "        # Limit to max word count if specified\n",
    "        if self.max_word_count > 0:\n",
    "            words = words[:self.max_word_count]\n",
    "\n",
    "        return ' '.join(words)\n",
    "\n",
    "    # Simple word tokens, removing words in the remove_words list and short words\n",
    "    def _simple_tokens(self, text):\n",
    "        tokens = text.split()\n",
    "        return [token for token in tokens if token not in self.remove_words and len(token) > self.min_word_length]\n",
    "\n",
    "    # spaCy lemmatizer\n",
    "    def _spacy_lemma(self, text):\n",
    "        nlp = spacy.load(\"en_core_web_sm\")  # For spaCy lemmatizing option\n",
    "        tokens = nlp(text)  # use spaCy to generate tokens\n",
    "\n",
    "        # Process words (lemmatize, removing stopwords and additional words supplied, short words, and extra spaces)\n",
    "        return [token.lemma_ for token in tokens if token.text not in self.remove_words\n",
    "                 and token.lemma_ not in self.remove_words and len(token) > self.min_word_length and not token.is_space]\n",
    "\n",
    "    # WordNetLemmatizer\n",
    "    def _get_wordnet_pos(self, nltk_tag):\n",
    "        # Map for most common matches on the first letter of the tag\n",
    "        pos_map = {'N': wordnet.NOUN, 'V': wordnet.VERB, 'J': wordnet.ADJ, 'R': wordnet.ADV}\n",
    "\n",
    "        # Map NLTK POS tags to WordNet POS tags\n",
    "        if nltk_tag[0] in pos_map:\n",
    "            return pos_map[nltk_tag[0]]\n",
    "        elif nltk_tag in ('MD', 'TO'):  # Modal, infinitive marker\n",
    "            return wordnet.VERB\n",
    "        else:\n",
    "             return wordnet.NOUN  # Default to Noun for other cases\n",
    "\n",
    "    def _wordnet_lemma(self, text):\n",
    "        lemmatizer = WordNetLemmatizer()\n",
    "        tokens = self._simple_tokens(text)\n",
    "\n",
    "        # Get POS (part of speech) tags\n",
    "        tagged_tokens = pos_tag(tokens)\n",
    "\n",
    "        # Lemmatize with POS tag\n",
    "        lemmatized_words = []\n",
    "        for word, tag in tagged_tokens:\n",
    "            if word not in self.remove_words and len(word) > self.min_word_length:\n",
    "                # Get the WordNet POS tag\n",
    "                wordnet_pos = self._get_wordnet_pos(tag)\n",
    "\n",
    "                # Lemmatize with the appropriate POS tag\n",
    "                lemma = lemmatizer.lemmatize(word, wordnet_pos)\n",
    "                lemmatized_words.append(lemma)\n",
    "\n",
    "        return lemmatized_words\n",
    "\n",
    "    # SnowballStemmer\n",
    "    def _snowball_stemmer(self, text):\n",
    "        stemmer = SnowballStemmer(\"english\")\n",
    "        tokens = self._simple_tokens(text)\n",
    "\n",
    "        # apply stemming\n",
    "        words = [stemmer.stem(word) for word in tokens]\n",
    "\n",
    "        return words\n"
   ],
   "id": "80cfa93b0dc5414b",
   "outputs": [],
   "execution_count": 28
  },
  {
   "metadata": {
    "ExecuteTime": {
     "end_time": "2025-07-30T19:24:47.588902Z",
     "start_time": "2025-07-30T19:24:47.397138Z"
    }
   },
   "cell_type": "code",
   "source": [
    "# Cleanup the article Text - default simple method\n",
    "text_cleaner = TextCleaner(method = 'simple')\n",
    "bbcnews_train['Text_cleaned'] = text_cleaner.transform(bbcnews_train['Text'])\n",
    "print(\"Original Text: \", bbcnews_train['Text'][0], \"\\n\\n\")\n",
    "print(\"Cleaned Text: \", bbcnews_train['Text_cleaned'][0])"
   ],
   "id": "fdcd68bd462352d4",
   "outputs": [
    {
     "name": "stdout",
     "output_type": "stream",
     "text": [
      "Original Text:  worldcom ex-boss launches defence lawyers defending former worldcom chief bernie ebbers against a battery of fraud charges have called a company whistleblower as their first witness.  cynthia cooper  worldcom s ex-head of internal accounting  alerted directors to irregular accounting practices at the us telecoms giant in 2002. her warnings led to the collapse of the firm following the discovery of an $11bn (£5.7bn) accounting fraud. mr ebbers has pleaded not guilty to charges of fraud and conspiracy.  prosecution lawyers have argued that mr ebbers orchestrated a series of accounting tricks at worldcom  ordering employees to hide expenses and inflate revenues to meet wall street earnings estimates. but ms cooper  who now runs her own consulting business  told a jury in new york on wednesday that external auditors arthur andersen had approved worldcom s accounting in early 2001 and 2002. she said andersen had given a  green light  to the procedures and practices used by worldcom. mr ebber s lawyers have said he was unaware of the fraud  arguing that auditors did not alert him to any problems.  ms cooper also said that during shareholder meetings mr ebbers often passed over technical questions to the company s finance chief  giving only  brief  answers himself. the prosecution s star witness  former worldcom financial chief scott sullivan  has said that mr ebbers ordered accounting adjustments at the firm  telling him to  hit our books . however  ms cooper said mr sullivan had not mentioned  anything uncomfortable  about worldcom s accounting during a 2001 audit committee meeting. mr ebbers could face a jail sentence of 85 years if convicted of all the charges he is facing. worldcom emerged from bankruptcy protection in 2004  and is now known as mci. last week  mci agreed to a buyout by verizon communications in a deal valued at $6.75bn. \n",
      "\n",
      "\n",
      "Cleaned Text:  worldcom boss launches defence lawyers defending former worldcom chief bernie ebbers battery fraud charges called company whistleblower first witness cynthia cooper worldcom head internal accounting alerted directors irregular accounting practices telecoms giant warnings led collapse firm following discovery accounting fraud ebbers pleaded guilty charges fraud conspiracy prosecution lawyers argued ebbers orchestrated series accounting tricks worldcom ordering employees hide expenses inflate revenues meet wall street earnings estimates cooper runs consulting business told jury new york wednesday external auditors arthur andersen approved worldcom accounting early said andersen given green light procedures practices used worldcom ebber lawyers said unaware fraud arguing auditors alert problems cooper also said shareholder meetings ebbers often passed technical questions company finance chief giving brief answers prosecution star witness former worldcom financial chief scott sullivan said ebbers ordered accounting adjustments firm telling hit books however cooper said sullivan mentioned anything uncomfortable worldcom accounting audit committee meeting ebbers could face jail sentence years convicted charges facing worldcom emerged bankruptcy protection known mci last week mci agreed buyout verizon communications deal valued\n"
     ]
    }
   ],
   "execution_count": 33
  },
  {
   "metadata": {
    "ExecuteTime": {
     "end_time": "2025-07-30T19:25:45.588749Z",
     "start_time": "2025-07-30T19:25:45.528018Z"
    }
   },
   "cell_type": "code",
   "source": [
    "# Find most common words in each category and across categories\n",
    "\n",
    "# Helper function to get the top N words from a category\n",
    "def get_top_n_words(category, top_n=30):\n",
    "    # Get the articles for the specified category\n",
    "    category_data = bbcnews_train[bbcnews_train['Category'] == category]\n",
    "\n",
    "    # Combine all cleaned text for this category\n",
    "    all_words = ' '.join(category_data['Text_cleaned']).split()\n",
    "\n",
    "    # Count word frequencies and get the top N\n",
    "    top_words = Counter(all_words).most_common(top_n)\n",
    "\n",
    "    return top_words\n",
    "\n",
    "\n",
    "def get_top_m_common_words(top_m=30, top_n=100, sort_by='average'):\n",
    "    # Get the top_n words for each category\n",
    "    categories = bbcnews_train['Category'].unique()\n",
    "    category_words = {}\n",
    "    for category in categories:\n",
    "        category_words[category] = dict(get_top_n_words(category, top_n))\n",
    "\n",
    "    # Find common words in all categories\n",
    "    common_words = set(category_words[categories[0]].keys())\n",
    "    for category in categories[1:]:\n",
    "        common_words = common_words.intersection(set(category_words[category].keys()))\n",
    "\n",
    "    print(f\"The number of common words in all categories is {len(common_words)}\")\n",
    "\n",
    "    # Get the counts for each word\n",
    "    # Create a DataFrame with counts for each word in each category\n",
    "    data = []\n",
    "    for word in common_words:\n",
    "        row = {'word': word}\n",
    "        counts = []\n",
    "        for cat in categories:\n",
    "            count = category_words[cat][word]\n",
    "            row[cat] = count\n",
    "            counts.append(count)\n",
    "\n",
    "        # Calculate statistics\n",
    "        row['total_count'] = sum(counts)\n",
    "        row['avg_count'] = np.mean(counts)\n",
    "        row['min_count'] = min(counts)\n",
    "        row['max_count'] = max(counts)\n",
    "        row['std_dev'] = np.std(counts)\n",
    "        row['cv'] = row['std_dev'] / row['avg_count'] if row['avg_count'] > 0 else 0  # Coefficient of variation\n",
    "\n",
    "        data.append(row)\n",
    "    result_df = pd.DataFrame(data)\n",
    "\n",
    "    # Sort based on the specified method\n",
    "    match sort_by:\n",
    "        case 'total':\n",
    "            result_df = result_df.sort_values('total_count', ascending=False)\n",
    "        case 'min_count':\n",
    "            result_df = result_df.sort_values('min_count', ascending=False)\n",
    "        case 'consistency':\n",
    "            result_df = result_df.sort_values('cv', ascending=True)  # Lower CV means more consistent across categories\n",
    "        case _:  # default to 'average'\n",
    "            result_df = result_df.sort_values('avg_count', ascending=False)\n",
    "\n",
    "    result_df = result_df.reset_index(drop=True)\n",
    "\n",
    "    # Return top m common words\n",
    "    return result_df.head(top_m)\n",
    "\n",
    "\n",
    "common_category_words = get_top_m_common_words(top_n=30)\n",
    "display(common_category_words)"
   ],
   "id": "d525f7693643694e",
   "outputs": [
    {
     "name": "stdout",
     "output_type": "stream",
     "text": [
      "The number of common words in all categories is 6\n"
     ]
    },
    {
     "data": {
      "text/plain": [
       "    word  business  tech  politics  sport  entertainment  total_count  \\\n",
       "0   said      1098   980      1412    629            576         4695   \n",
       "1  would       309   290       685    233            135         1652   \n",
       "2   year       452   224       175    330            304         1485   \n",
       "3   also       279   310       298    212            267         1366   \n",
       "4    new       273   324       271    202            229         1299   \n",
       "5    one       183   314       185    261            259         1202   \n",
       "\n",
       "   avg_count  min_count  max_count     std_dev        cv  \n",
       "0      939.0        576       1412  309.373561  0.329471  \n",
       "1      330.4        135        685  187.349513  0.567038  \n",
       "2      297.0        175        452   95.263844  0.320754  \n",
       "3      273.2        212        310   34.019994  0.124524  \n",
       "4      259.8        202        324   41.739190  0.160659  \n",
       "5      240.4        183        314   50.102295  0.208412  "
      ],
      "text/html": [
       "<div>\n",
       "<style scoped>\n",
       "    .dataframe tbody tr th:only-of-type {\n",
       "        vertical-align: middle;\n",
       "    }\n",
       "\n",
       "    .dataframe tbody tr th {\n",
       "        vertical-align: top;\n",
       "    }\n",
       "\n",
       "    .dataframe thead th {\n",
       "        text-align: right;\n",
       "    }\n",
       "</style>\n",
       "<table border=\"1\" class=\"dataframe\">\n",
       "  <thead>\n",
       "    <tr style=\"text-align: right;\">\n",
       "      <th></th>\n",
       "      <th>word</th>\n",
       "      <th>business</th>\n",
       "      <th>tech</th>\n",
       "      <th>politics</th>\n",
       "      <th>sport</th>\n",
       "      <th>entertainment</th>\n",
       "      <th>total_count</th>\n",
       "      <th>avg_count</th>\n",
       "      <th>min_count</th>\n",
       "      <th>max_count</th>\n",
       "      <th>std_dev</th>\n",
       "      <th>cv</th>\n",
       "    </tr>\n",
       "  </thead>\n",
       "  <tbody>\n",
       "    <tr>\n",
       "      <th>0</th>\n",
       "      <td>said</td>\n",
       "      <td>1098</td>\n",
       "      <td>980</td>\n",
       "      <td>1412</td>\n",
       "      <td>629</td>\n",
       "      <td>576</td>\n",
       "      <td>4695</td>\n",
       "      <td>939.0</td>\n",
       "      <td>576</td>\n",
       "      <td>1412</td>\n",
       "      <td>309.373561</td>\n",
       "      <td>0.329471</td>\n",
       "    </tr>\n",
       "    <tr>\n",
       "      <th>1</th>\n",
       "      <td>would</td>\n",
       "      <td>309</td>\n",
       "      <td>290</td>\n",
       "      <td>685</td>\n",
       "      <td>233</td>\n",
       "      <td>135</td>\n",
       "      <td>1652</td>\n",
       "      <td>330.4</td>\n",
       "      <td>135</td>\n",
       "      <td>685</td>\n",
       "      <td>187.349513</td>\n",
       "      <td>0.567038</td>\n",
       "    </tr>\n",
       "    <tr>\n",
       "      <th>2</th>\n",
       "      <td>year</td>\n",
       "      <td>452</td>\n",
       "      <td>224</td>\n",
       "      <td>175</td>\n",
       "      <td>330</td>\n",
       "      <td>304</td>\n",
       "      <td>1485</td>\n",
       "      <td>297.0</td>\n",
       "      <td>175</td>\n",
       "      <td>452</td>\n",
       "      <td>95.263844</td>\n",
       "      <td>0.320754</td>\n",
       "    </tr>\n",
       "    <tr>\n",
       "      <th>3</th>\n",
       "      <td>also</td>\n",
       "      <td>279</td>\n",
       "      <td>310</td>\n",
       "      <td>298</td>\n",
       "      <td>212</td>\n",
       "      <td>267</td>\n",
       "      <td>1366</td>\n",
       "      <td>273.2</td>\n",
       "      <td>212</td>\n",
       "      <td>310</td>\n",
       "      <td>34.019994</td>\n",
       "      <td>0.124524</td>\n",
       "    </tr>\n",
       "    <tr>\n",
       "      <th>4</th>\n",
       "      <td>new</td>\n",
       "      <td>273</td>\n",
       "      <td>324</td>\n",
       "      <td>271</td>\n",
       "      <td>202</td>\n",
       "      <td>229</td>\n",
       "      <td>1299</td>\n",
       "      <td>259.8</td>\n",
       "      <td>202</td>\n",
       "      <td>324</td>\n",
       "      <td>41.739190</td>\n",
       "      <td>0.160659</td>\n",
       "    </tr>\n",
       "    <tr>\n",
       "      <th>5</th>\n",
       "      <td>one</td>\n",
       "      <td>183</td>\n",
       "      <td>314</td>\n",
       "      <td>185</td>\n",
       "      <td>261</td>\n",
       "      <td>259</td>\n",
       "      <td>1202</td>\n",
       "      <td>240.4</td>\n",
       "      <td>183</td>\n",
       "      <td>314</td>\n",
       "      <td>50.102295</td>\n",
       "      <td>0.208412</td>\n",
       "    </tr>\n",
       "  </tbody>\n",
       "</table>\n",
       "</div>"
      ]
     },
     "metadata": {},
     "output_type": "display_data"
    }
   ],
   "execution_count": 34
  },
  {
   "metadata": {
    "ExecuteTime": {
     "end_time": "2025-07-30T17:06:08.696475Z",
     "start_time": "2025-07-30T17:06:07.815462Z"
    }
   },
   "cell_type": "code",
   "source": [
    "# Remove the common words from the word list\n",
    "remove_common = common_category_words['word'].tolist()\n",
    "\n",
    "# Cleanup the article Text\n",
    "bbcnews_train['Text_cleaned'] = bbcnews_train['Text'].apply(lambda text: cleanup_text(text, additional_words=remove_common))\n",
    "print(\"Original Text: \", bbcnews_train['Text'][0], \"\\n\\n\")\n",
    "print(\"Cleaned Text: \", bbcnews_train['Text_cleaned'][0])"
   ],
   "id": "a7f776b554a2aa85",
   "outputs": [
    {
     "name": "stdout",
     "output_type": "stream",
     "text": [
      "Original Text:  worldcom ex-boss launches defence lawyers defending former worldcom chief bernie ebbers against a battery of fraud charges have called a company whistleblower as their first witness.  cynthia cooper  worldcom s ex-head of internal accounting  alerted directors to irregular accounting practices at the us telecoms giant in 2002. her warnings led to the collapse of the firm following the discovery of an $11bn (£5.7bn) accounting fraud. mr ebbers has pleaded not guilty to charges of fraud and conspiracy.  prosecution lawyers have argued that mr ebbers orchestrated a series of accounting tricks at worldcom  ordering employees to hide expenses and inflate revenues to meet wall street earnings estimates. but ms cooper  who now runs her own consulting business  told a jury in new york on wednesday that external auditors arthur andersen had approved worldcom s accounting in early 2001 and 2002. she said andersen had given a  green light  to the procedures and practices used by worldcom. mr ebber s lawyers have said he was unaware of the fraud  arguing that auditors did not alert him to any problems.  ms cooper also said that during shareholder meetings mr ebbers often passed over technical questions to the company s finance chief  giving only  brief  answers himself. the prosecution s star witness  former worldcom financial chief scott sullivan  has said that mr ebbers ordered accounting adjustments at the firm  telling him to  hit our books . however  ms cooper said mr sullivan had not mentioned  anything uncomfortable  about worldcom s accounting during a 2001 audit committee meeting. mr ebbers could face a jail sentence of 85 years if convicted of all the charges he is facing. worldcom emerged from bankruptcy protection in 2004  and is now known as mci. last week  mci agreed to a buyout by verizon communications in a deal valued at $6.75bn. \n",
      "\n",
      "\n",
      "Cleaned Text:  worldcom boss launches defence lawyers defending former worldcom chief bernie ebbers battery fraud charges called company whistleblower first witness cynthia cooper worldcom head internal accounting alerted directors irregular accounting practices telecoms giant warnings led collapse firm following discovery accounting fraud ebbers pleaded guilty charges fraud conspiracy prosecution lawyers argued ebbers orchestrated series accounting tricks worldcom ordering employees hide expenses inflate revenues meet wall street earnings estimates cooper runs consulting business told jury york wednesday external auditors arthur andersen approved worldcom accounting early andersen given green light procedures practices used worldcom ebber lawyers unaware fraud arguing auditors alert problems cooper shareholder meetings ebbers often passed technical questions company finance chief giving brief answers prosecution star witness former worldcom financial chief scott sullivan ebbers ordered accounting adjustments firm telling hit books however cooper sullivan mentioned anything uncomfortable worldcom accounting audit committee meeting ebbers could face jail sentence years convicted charges facing worldcom emerged bankruptcy protection known mci last week mci agreed buyout verizon communications deal valued\n"
     ]
    }
   ],
   "execution_count": 18
  },
  {
   "metadata": {
    "ExecuteTime": {
     "end_time": "2025-07-30T17:06:14.688857Z",
     "start_time": "2025-07-30T17:06:12.954391Z"
    }
   },
   "cell_type": "code",
   "source": [
    "# Create and display treemaps for the top words in each category\n",
    "# Helper function to create the treemaps for each category\n",
    "def create_category_treemap(category, top_n=30):\n",
    "\n",
    "    # Create dataframe for treemap\n",
    "    treemap_data = pd.DataFrame(get_top_n_words(category, top_n), columns=['word', 'count'])\n",
    "\n",
    "    # Custom color schemes for each category\n",
    "    color_schemes = {\n",
    "        'business': 'Blues',\n",
    "        'entertainment': 'Teal',\n",
    "        'politics': 'Greens',\n",
    "        'sport': 'Reds',\n",
    "        'tech': 'Purples'\n",
    "    }\n",
    "\n",
    "    # Create treemap\n",
    "    fig = px.treemap(\n",
    "        treemap_data,\n",
    "        path=['word'],\n",
    "        values='count',\n",
    "        title=f'Most Common Words in {category.capitalize()} Articles',\n",
    "        color='count',\n",
    "        color_continuous_scale=color_schemes.get(category, 'Viridis'),\n",
    "        height=600\n",
    "    )\n",
    "\n",
    "    fig.update_layout(\n",
    "        margin=dict(t=50, l=25, r=25, b=25),\n",
    "        font=dict(size=14)\n",
    "    )\n",
    "\n",
    "    fig.update_traces(\n",
    "        textinfo='label+value',\n",
    "        hovertemplate='<b>%{label}</b><br>Count: %{value}<extra></extra>'\n",
    "    )\n",
    "\n",
    "    return fig\n",
    "\n",
    "\n",
    "for category in bbcnews_train['Category'].unique():\n",
    "    fig = create_category_treemap(category)\n",
    "    fig.show()\n"
   ],
   "id": "b1528a496dce022d",
   "outputs": [
    {
     "data": {
      "application/vnd.plotly.v1+json": {
       "data": [
        {
         "branchvalues": "total",
         "customdata": {
          "dtype": "f8",
          "bdata": "AAAAAADAcUAAAAAAAFBwQAAAAAAAoG9AAAAAAACgb0AAAAAAAEBtQAAAAAAAAG1AAAAAAADgakAAAAAAAIBpQAAAAAAAQGlAAAAAAAAgaUAAAAAAAIBoQAAAAAAAoGZAAAAAAABAZkAAAAAAAGBlQAAAAAAAIGVAAAAAAACAZEAAAAAAAGBkQAAAAAAAQGRAAAAAAACAY0AAAAAAACBjQAAAAAAAAGNAAAAAAACAYUAAAAAAAIBhQAAAAAAAgGFAAAAAAAAgYUAAAAAAAOBgQAAAAAAAoGBAAAAAAABAYEAAAAAAAIBfQAAAAAAAQF9A",
          "shape": "30, 1"
         },
         "domain": {
          "x": [
           0.0,
           1.0
          ],
          "y": [
           0.0,
           1.0
          ]
         },
         "hovertemplate": "<b>%{label}</b><br>Count: %{value}<extra></extra>",
         "ids": [
          "market",
          "firm",
          "company",
          "growth",
          "last",
          "economy",
          "government",
          "bank",
          "economic",
          "sales",
          "could",
          "may",
          "oil",
          "shares",
          "world",
          "however",
          "two",
          "years",
          "chief",
          "business",
          "deal",
          "financial",
          "china",
          "companies",
          "prices",
          "analysts",
          "dollar",
          "expected",
          "group",
          "country"
         ],
         "labels": [
          "market",
          "firm",
          "company",
          "growth",
          "last",
          "economy",
          "government",
          "bank",
          "economic",
          "sales",
          "could",
          "may",
          "oil",
          "shares",
          "world",
          "however",
          "two",
          "years",
          "chief",
          "business",
          "deal",
          "financial",
          "china",
          "companies",
          "prices",
          "analysts",
          "dollar",
          "expected",
          "group",
          "country"
         ],
         "marker": {
          "coloraxis": "coloraxis",
          "colors": {
           "dtype": "f8",
           "bdata": "AAAAAADAcUAAAAAAAFBwQAAAAAAAoG9AAAAAAACgb0AAAAAAAEBtQAAAAAAAAG1AAAAAAADgakAAAAAAAIBpQAAAAAAAQGlAAAAAAAAgaUAAAAAAAIBoQAAAAAAAoGZAAAAAAABAZkAAAAAAAGBlQAAAAAAAIGVAAAAAAACAZEAAAAAAAGBkQAAAAAAAQGRAAAAAAACAY0AAAAAAACBjQAAAAAAAAGNAAAAAAACAYUAAAAAAAIBhQAAAAAAAgGFAAAAAAAAgYUAAAAAAAOBgQAAAAAAAoGBAAAAAAABAYEAAAAAAAIBfQAAAAAAAQF9A"
          }
         },
         "name": "",
         "parents": [
          "",
          "",
          "",
          "",
          "",
          "",
          "",
          "",
          "",
          "",
          "",
          "",
          "",
          "",
          "",
          "",
          "",
          "",
          "",
          "",
          "",
          "",
          "",
          "",
          "",
          "",
          "",
          "",
          "",
          ""
         ],
         "values": {
          "dtype": "f8",
          "bdata": "AAAAAADAcUAAAAAAAFBwQAAAAAAAoG9AAAAAAACgb0AAAAAAAEBtQAAAAAAAAG1AAAAAAADgakAAAAAAAIBpQAAAAAAAQGlAAAAAAAAgaUAAAAAAAIBoQAAAAAAAoGZAAAAAAABAZkAAAAAAAGBlQAAAAAAAIGVAAAAAAACAZEAAAAAAAGBkQAAAAAAAQGRAAAAAAACAY0AAAAAAACBjQAAAAAAAAGNAAAAAAACAYUAAAAAAAIBhQAAAAAAAgGFAAAAAAAAgYUAAAAAAAOBgQAAAAAAAoGBAAAAAAABAYEAAAAAAAIBfQAAAAAAAQF9A"
         },
         "type": "treemap",
         "textinfo": "label+value"
        }
       ],
       "layout": {
        "template": {
         "data": {
          "histogram2dcontour": [
           {
            "type": "histogram2dcontour",
            "colorbar": {
             "outlinewidth": 0,
             "ticks": ""
            },
            "colorscale": [
             [
              0.0,
              "#0d0887"
             ],
             [
              0.1111111111111111,
              "#46039f"
             ],
             [
              0.2222222222222222,
              "#7201a8"
             ],
             [
              0.3333333333333333,
              "#9c179e"
             ],
             [
              0.4444444444444444,
              "#bd3786"
             ],
             [
              0.5555555555555556,
              "#d8576b"
             ],
             [
              0.6666666666666666,
              "#ed7953"
             ],
             [
              0.7777777777777778,
              "#fb9f3a"
             ],
             [
              0.8888888888888888,
              "#fdca26"
             ],
             [
              1.0,
              "#f0f921"
             ]
            ]
           }
          ],
          "choropleth": [
           {
            "type": "choropleth",
            "colorbar": {
             "outlinewidth": 0,
             "ticks": ""
            }
           }
          ],
          "histogram2d": [
           {
            "type": "histogram2d",
            "colorbar": {
             "outlinewidth": 0,
             "ticks": ""
            },
            "colorscale": [
             [
              0.0,
              "#0d0887"
             ],
             [
              0.1111111111111111,
              "#46039f"
             ],
             [
              0.2222222222222222,
              "#7201a8"
             ],
             [
              0.3333333333333333,
              "#9c179e"
             ],
             [
              0.4444444444444444,
              "#bd3786"
             ],
             [
              0.5555555555555556,
              "#d8576b"
             ],
             [
              0.6666666666666666,
              "#ed7953"
             ],
             [
              0.7777777777777778,
              "#fb9f3a"
             ],
             [
              0.8888888888888888,
              "#fdca26"
             ],
             [
              1.0,
              "#f0f921"
             ]
            ]
           }
          ],
          "heatmap": [
           {
            "type": "heatmap",
            "colorbar": {
             "outlinewidth": 0,
             "ticks": ""
            },
            "colorscale": [
             [
              0.0,
              "#0d0887"
             ],
             [
              0.1111111111111111,
              "#46039f"
             ],
             [
              0.2222222222222222,
              "#7201a8"
             ],
             [
              0.3333333333333333,
              "#9c179e"
             ],
             [
              0.4444444444444444,
              "#bd3786"
             ],
             [
              0.5555555555555556,
              "#d8576b"
             ],
             [
              0.6666666666666666,
              "#ed7953"
             ],
             [
              0.7777777777777778,
              "#fb9f3a"
             ],
             [
              0.8888888888888888,
              "#fdca26"
             ],
             [
              1.0,
              "#f0f921"
             ]
            ]
           }
          ],
          "contourcarpet": [
           {
            "type": "contourcarpet",
            "colorbar": {
             "outlinewidth": 0,
             "ticks": ""
            }
           }
          ],
          "contour": [
           {
            "type": "contour",
            "colorbar": {
             "outlinewidth": 0,
             "ticks": ""
            },
            "colorscale": [
             [
              0.0,
              "#0d0887"
             ],
             [
              0.1111111111111111,
              "#46039f"
             ],
             [
              0.2222222222222222,
              "#7201a8"
             ],
             [
              0.3333333333333333,
              "#9c179e"
             ],
             [
              0.4444444444444444,
              "#bd3786"
             ],
             [
              0.5555555555555556,
              "#d8576b"
             ],
             [
              0.6666666666666666,
              "#ed7953"
             ],
             [
              0.7777777777777778,
              "#fb9f3a"
             ],
             [
              0.8888888888888888,
              "#fdca26"
             ],
             [
              1.0,
              "#f0f921"
             ]
            ]
           }
          ],
          "surface": [
           {
            "type": "surface",
            "colorbar": {
             "outlinewidth": 0,
             "ticks": ""
            },
            "colorscale": [
             [
              0.0,
              "#0d0887"
             ],
             [
              0.1111111111111111,
              "#46039f"
             ],
             [
              0.2222222222222222,
              "#7201a8"
             ],
             [
              0.3333333333333333,
              "#9c179e"
             ],
             [
              0.4444444444444444,
              "#bd3786"
             ],
             [
              0.5555555555555556,
              "#d8576b"
             ],
             [
              0.6666666666666666,
              "#ed7953"
             ],
             [
              0.7777777777777778,
              "#fb9f3a"
             ],
             [
              0.8888888888888888,
              "#fdca26"
             ],
             [
              1.0,
              "#f0f921"
             ]
            ]
           }
          ],
          "mesh3d": [
           {
            "type": "mesh3d",
            "colorbar": {
             "outlinewidth": 0,
             "ticks": ""
            }
           }
          ],
          "scatter": [
           {
            "marker": {
             "line": {
              "color": "#283442"
             }
            },
            "type": "scatter"
           }
          ],
          "parcoords": [
           {
            "type": "parcoords",
            "line": {
             "colorbar": {
              "outlinewidth": 0,
              "ticks": ""
             }
            }
           }
          ],
          "scatterpolargl": [
           {
            "type": "scatterpolargl",
            "marker": {
             "colorbar": {
              "outlinewidth": 0,
              "ticks": ""
             }
            }
           }
          ],
          "bar": [
           {
            "error_x": {
             "color": "#f2f5fa"
            },
            "error_y": {
             "color": "#f2f5fa"
            },
            "marker": {
             "line": {
              "color": "rgb(17,17,17)",
              "width": 0.5
             },
             "pattern": {
              "fillmode": "overlay",
              "size": 10,
              "solidity": 0.2
             }
            },
            "type": "bar"
           }
          ],
          "scattergeo": [
           {
            "type": "scattergeo",
            "marker": {
             "colorbar": {
              "outlinewidth": 0,
              "ticks": ""
             }
            }
           }
          ],
          "scatterpolar": [
           {
            "type": "scatterpolar",
            "marker": {
             "colorbar": {
              "outlinewidth": 0,
              "ticks": ""
             }
            }
           }
          ],
          "histogram": [
           {
            "marker": {
             "pattern": {
              "fillmode": "overlay",
              "size": 10,
              "solidity": 0.2
             }
            },
            "type": "histogram"
           }
          ],
          "scattergl": [
           {
            "marker": {
             "line": {
              "color": "#283442"
             }
            },
            "type": "scattergl"
           }
          ],
          "scatter3d": [
           {
            "type": "scatter3d",
            "line": {
             "colorbar": {
              "outlinewidth": 0,
              "ticks": ""
             }
            },
            "marker": {
             "colorbar": {
              "outlinewidth": 0,
              "ticks": ""
             }
            }
           }
          ],
          "scattermap": [
           {
            "type": "scattermap",
            "marker": {
             "colorbar": {
              "outlinewidth": 0,
              "ticks": ""
             }
            }
           }
          ],
          "scattermapbox": [
           {
            "type": "scattermapbox",
            "marker": {
             "colorbar": {
              "outlinewidth": 0,
              "ticks": ""
             }
            }
           }
          ],
          "scatterternary": [
           {
            "type": "scatterternary",
            "marker": {
             "colorbar": {
              "outlinewidth": 0,
              "ticks": ""
             }
            }
           }
          ],
          "scattercarpet": [
           {
            "type": "scattercarpet",
            "marker": {
             "colorbar": {
              "outlinewidth": 0,
              "ticks": ""
             }
            }
           }
          ],
          "carpet": [
           {
            "aaxis": {
             "endlinecolor": "#A2B1C6",
             "gridcolor": "#506784",
             "linecolor": "#506784",
             "minorgridcolor": "#506784",
             "startlinecolor": "#A2B1C6"
            },
            "baxis": {
             "endlinecolor": "#A2B1C6",
             "gridcolor": "#506784",
             "linecolor": "#506784",
             "minorgridcolor": "#506784",
             "startlinecolor": "#A2B1C6"
            },
            "type": "carpet"
           }
          ],
          "table": [
           {
            "cells": {
             "fill": {
              "color": "#506784"
             },
             "line": {
              "color": "rgb(17,17,17)"
             }
            },
            "header": {
             "fill": {
              "color": "#2a3f5f"
             },
             "line": {
              "color": "rgb(17,17,17)"
             }
            },
            "type": "table"
           }
          ],
          "barpolar": [
           {
            "marker": {
             "line": {
              "color": "rgb(17,17,17)",
              "width": 0.5
             },
             "pattern": {
              "fillmode": "overlay",
              "size": 10,
              "solidity": 0.2
             }
            },
            "type": "barpolar"
           }
          ],
          "pie": [
           {
            "automargin": true,
            "type": "pie"
           }
          ]
         },
         "layout": {
          "autotypenumbers": "strict",
          "colorway": [
           "#636efa",
           "#EF553B",
           "#00cc96",
           "#ab63fa",
           "#FFA15A",
           "#19d3f3",
           "#FF6692",
           "#B6E880",
           "#FF97FF",
           "#FECB52"
          ],
          "font": {
           "color": "#f2f5fa"
          },
          "hovermode": "closest",
          "hoverlabel": {
           "align": "left"
          },
          "paper_bgcolor": "rgb(17,17,17)",
          "plot_bgcolor": "rgb(17,17,17)",
          "polar": {
           "bgcolor": "rgb(17,17,17)",
           "angularaxis": {
            "gridcolor": "#506784",
            "linecolor": "#506784",
            "ticks": ""
           },
           "radialaxis": {
            "gridcolor": "#506784",
            "linecolor": "#506784",
            "ticks": ""
           }
          },
          "ternary": {
           "bgcolor": "rgb(17,17,17)",
           "aaxis": {
            "gridcolor": "#506784",
            "linecolor": "#506784",
            "ticks": ""
           },
           "baxis": {
            "gridcolor": "#506784",
            "linecolor": "#506784",
            "ticks": ""
           },
           "caxis": {
            "gridcolor": "#506784",
            "linecolor": "#506784",
            "ticks": ""
           }
          },
          "coloraxis": {
           "colorbar": {
            "outlinewidth": 0,
            "ticks": ""
           }
          },
          "colorscale": {
           "sequential": [
            [
             0.0,
             "#0d0887"
            ],
            [
             0.1111111111111111,
             "#46039f"
            ],
            [
             0.2222222222222222,
             "#7201a8"
            ],
            [
             0.3333333333333333,
             "#9c179e"
            ],
            [
             0.4444444444444444,
             "#bd3786"
            ],
            [
             0.5555555555555556,
             "#d8576b"
            ],
            [
             0.6666666666666666,
             "#ed7953"
            ],
            [
             0.7777777777777778,
             "#fb9f3a"
            ],
            [
             0.8888888888888888,
             "#fdca26"
            ],
            [
             1.0,
             "#f0f921"
            ]
           ],
           "sequentialminus": [
            [
             0.0,
             "#0d0887"
            ],
            [
             0.1111111111111111,
             "#46039f"
            ],
            [
             0.2222222222222222,
             "#7201a8"
            ],
            [
             0.3333333333333333,
             "#9c179e"
            ],
            [
             0.4444444444444444,
             "#bd3786"
            ],
            [
             0.5555555555555556,
             "#d8576b"
            ],
            [
             0.6666666666666666,
             "#ed7953"
            ],
            [
             0.7777777777777778,
             "#fb9f3a"
            ],
            [
             0.8888888888888888,
             "#fdca26"
            ],
            [
             1.0,
             "#f0f921"
            ]
           ],
           "diverging": [
            [
             0,
             "#8e0152"
            ],
            [
             0.1,
             "#c51b7d"
            ],
            [
             0.2,
             "#de77ae"
            ],
            [
             0.3,
             "#f1b6da"
            ],
            [
             0.4,
             "#fde0ef"
            ],
            [
             0.5,
             "#f7f7f7"
            ],
            [
             0.6,
             "#e6f5d0"
            ],
            [
             0.7,
             "#b8e186"
            ],
            [
             0.8,
             "#7fbc41"
            ],
            [
             0.9,
             "#4d9221"
            ],
            [
             1,
             "#276419"
            ]
           ]
          },
          "xaxis": {
           "gridcolor": "#283442",
           "linecolor": "#506784",
           "ticks": "",
           "title": {
            "standoff": 15
           },
           "zerolinecolor": "#283442",
           "automargin": true,
           "zerolinewidth": 2
          },
          "yaxis": {
           "gridcolor": "#283442",
           "linecolor": "#506784",
           "ticks": "",
           "title": {
            "standoff": 15
           },
           "zerolinecolor": "#283442",
           "automargin": true,
           "zerolinewidth": 2
          },
          "scene": {
           "xaxis": {
            "backgroundcolor": "rgb(17,17,17)",
            "gridcolor": "#506784",
            "linecolor": "#506784",
            "showbackground": true,
            "ticks": "",
            "zerolinecolor": "#C8D4E3",
            "gridwidth": 2
           },
           "yaxis": {
            "backgroundcolor": "rgb(17,17,17)",
            "gridcolor": "#506784",
            "linecolor": "#506784",
            "showbackground": true,
            "ticks": "",
            "zerolinecolor": "#C8D4E3",
            "gridwidth": 2
           },
           "zaxis": {
            "backgroundcolor": "rgb(17,17,17)",
            "gridcolor": "#506784",
            "linecolor": "#506784",
            "showbackground": true,
            "ticks": "",
            "zerolinecolor": "#C8D4E3",
            "gridwidth": 2
           }
          },
          "shapedefaults": {
           "line": {
            "color": "#f2f5fa"
           }
          },
          "annotationdefaults": {
           "arrowcolor": "#f2f5fa",
           "arrowhead": 0,
           "arrowwidth": 1
          },
          "geo": {
           "bgcolor": "rgb(17,17,17)",
           "landcolor": "rgb(17,17,17)",
           "subunitcolor": "#506784",
           "showland": true,
           "showlakes": true,
           "lakecolor": "rgb(17,17,17)"
          },
          "title": {
           "x": 0.05
          },
          "updatemenudefaults": {
           "bgcolor": "#506784",
           "borderwidth": 0
          },
          "sliderdefaults": {
           "bgcolor": "#C8D4E3",
           "borderwidth": 1,
           "bordercolor": "rgb(17,17,17)",
           "tickwidth": 0
          },
          "mapbox": {
           "style": "dark"
          }
         }
        },
        "coloraxis": {
         "colorbar": {
          "title": {
           "text": "count"
          }
         },
         "colorscale": [
          [
           0.0,
           "rgb(247,251,255)"
          ],
          [
           0.125,
           "rgb(222,235,247)"
          ],
          [
           0.25,
           "rgb(198,219,239)"
          ],
          [
           0.375,
           "rgb(158,202,225)"
          ],
          [
           0.5,
           "rgb(107,174,214)"
          ],
          [
           0.625,
           "rgb(66,146,198)"
          ],
          [
           0.75,
           "rgb(33,113,181)"
          ],
          [
           0.875,
           "rgb(8,81,156)"
          ],
          [
           1.0,
           "rgb(8,48,107)"
          ]
         ]
        },
        "legend": {
         "tracegroupgap": 0
        },
        "title": {
         "text": "Most Common Words in Business Articles"
        },
        "height": 600,
        "margin": {
         "t": 50,
         "l": 25,
         "r": 25,
         "b": 25
        },
        "font": {
         "size": 14
        }
       },
       "config": {
        "plotlyServerURL": "https://plot.ly"
       }
      }
     },
     "metadata": {},
     "output_type": "display_data"
    },
    {
     "data": {
      "application/vnd.plotly.v1+json": {
       "data": [
        {
         "branchvalues": "total",
         "customdata": {
          "dtype": "f8",
          "bdata": "AAAAAAAQgkAAAAAAAPByQAAAAAAA8HFAAAAAAADwcEAAAAAAAEBuQAAAAAAAAG5AAAAAAACgbUAAAAAAACBtQAAAAAAAwGtAAAAAAABAa0AAAAAAAGBqQAAAAAAAQGpAAAAAAAAgaUAAAAAAAIBnQAAAAAAAQGdAAAAAAADAZkAAAAAAAGBmQAAAAAAAYGZAAAAAAAAAZkAAAAAAAKBlQAAAAAAAoGVAAAAAAADgZEAAAAAAAOBkQAAAAAAAwGRAAAAAAACgZEAAAAAAAGBkQAAAAAAAIGRAAAAAAAAAZEAAAAAAAKBjQAAAAAAAoGNA",
          "shape": "30, 1"
         },
         "domain": {
          "x": [
           0.0,
           1.0
          ],
          "y": [
           0.0,
           1.0
          ]
         },
         "hovertemplate": "<b>%{label}</b><br>Count: %{value}<extra></extra>",
         "ids": [
          "people",
          "mobile",
          "could",
          "technology",
          "use",
          "net",
          "users",
          "software",
          "music",
          "many",
          "phone",
          "games",
          "digital",
          "like",
          "make",
          "online",
          "used",
          "time",
          "computer",
          "service",
          "microsoft",
          "get",
          "first",
          "million",
          "internet",
          "game",
          "way",
          "world",
          "broadband",
          "video"
         ],
         "labels": [
          "people",
          "mobile",
          "could",
          "technology",
          "use",
          "net",
          "users",
          "software",
          "music",
          "many",
          "phone",
          "games",
          "digital",
          "like",
          "make",
          "online",
          "used",
          "time",
          "computer",
          "service",
          "microsoft",
          "get",
          "first",
          "million",
          "internet",
          "game",
          "way",
          "world",
          "broadband",
          "video"
         ],
         "marker": {
          "coloraxis": "coloraxis",
          "colors": {
           "dtype": "f8",
           "bdata": "AAAAAAAQgkAAAAAAAPByQAAAAAAA8HFAAAAAAADwcEAAAAAAAEBuQAAAAAAAAG5AAAAAAACgbUAAAAAAACBtQAAAAAAAwGtAAAAAAABAa0AAAAAAAGBqQAAAAAAAQGpAAAAAAAAgaUAAAAAAAIBnQAAAAAAAQGdAAAAAAADAZkAAAAAAAGBmQAAAAAAAYGZAAAAAAAAAZkAAAAAAAKBlQAAAAAAAoGVAAAAAAADgZEAAAAAAAOBkQAAAAAAAwGRAAAAAAACgZEAAAAAAAGBkQAAAAAAAIGRAAAAAAAAAZEAAAAAAAKBjQAAAAAAAoGNA"
          }
         },
         "name": "",
         "parents": [
          "",
          "",
          "",
          "",
          "",
          "",
          "",
          "",
          "",
          "",
          "",
          "",
          "",
          "",
          "",
          "",
          "",
          "",
          "",
          "",
          "",
          "",
          "",
          "",
          "",
          "",
          "",
          "",
          "",
          ""
         ],
         "values": {
          "dtype": "f8",
          "bdata": "AAAAAAAQgkAAAAAAAPByQAAAAAAA8HFAAAAAAADwcEAAAAAAAEBuQAAAAAAAAG5AAAAAAACgbUAAAAAAACBtQAAAAAAAwGtAAAAAAABAa0AAAAAAAGBqQAAAAAAAQGpAAAAAAAAgaUAAAAAAAIBnQAAAAAAAQGdAAAAAAADAZkAAAAAAAGBmQAAAAAAAYGZAAAAAAAAAZkAAAAAAAKBlQAAAAAAAoGVAAAAAAADgZEAAAAAAAOBkQAAAAAAAwGRAAAAAAACgZEAAAAAAAGBkQAAAAAAAIGRAAAAAAAAAZEAAAAAAAKBjQAAAAAAAoGNA"
         },
         "type": "treemap",
         "textinfo": "label+value"
        }
       ],
       "layout": {
        "template": {
         "data": {
          "histogram2dcontour": [
           {
            "type": "histogram2dcontour",
            "colorbar": {
             "outlinewidth": 0,
             "ticks": ""
            },
            "colorscale": [
             [
              0.0,
              "#0d0887"
             ],
             [
              0.1111111111111111,
              "#46039f"
             ],
             [
              0.2222222222222222,
              "#7201a8"
             ],
             [
              0.3333333333333333,
              "#9c179e"
             ],
             [
              0.4444444444444444,
              "#bd3786"
             ],
             [
              0.5555555555555556,
              "#d8576b"
             ],
             [
              0.6666666666666666,
              "#ed7953"
             ],
             [
              0.7777777777777778,
              "#fb9f3a"
             ],
             [
              0.8888888888888888,
              "#fdca26"
             ],
             [
              1.0,
              "#f0f921"
             ]
            ]
           }
          ],
          "choropleth": [
           {
            "type": "choropleth",
            "colorbar": {
             "outlinewidth": 0,
             "ticks": ""
            }
           }
          ],
          "histogram2d": [
           {
            "type": "histogram2d",
            "colorbar": {
             "outlinewidth": 0,
             "ticks": ""
            },
            "colorscale": [
             [
              0.0,
              "#0d0887"
             ],
             [
              0.1111111111111111,
              "#46039f"
             ],
             [
              0.2222222222222222,
              "#7201a8"
             ],
             [
              0.3333333333333333,
              "#9c179e"
             ],
             [
              0.4444444444444444,
              "#bd3786"
             ],
             [
              0.5555555555555556,
              "#d8576b"
             ],
             [
              0.6666666666666666,
              "#ed7953"
             ],
             [
              0.7777777777777778,
              "#fb9f3a"
             ],
             [
              0.8888888888888888,
              "#fdca26"
             ],
             [
              1.0,
              "#f0f921"
             ]
            ]
           }
          ],
          "heatmap": [
           {
            "type": "heatmap",
            "colorbar": {
             "outlinewidth": 0,
             "ticks": ""
            },
            "colorscale": [
             [
              0.0,
              "#0d0887"
             ],
             [
              0.1111111111111111,
              "#46039f"
             ],
             [
              0.2222222222222222,
              "#7201a8"
             ],
             [
              0.3333333333333333,
              "#9c179e"
             ],
             [
              0.4444444444444444,
              "#bd3786"
             ],
             [
              0.5555555555555556,
              "#d8576b"
             ],
             [
              0.6666666666666666,
              "#ed7953"
             ],
             [
              0.7777777777777778,
              "#fb9f3a"
             ],
             [
              0.8888888888888888,
              "#fdca26"
             ],
             [
              1.0,
              "#f0f921"
             ]
            ]
           }
          ],
          "contourcarpet": [
           {
            "type": "contourcarpet",
            "colorbar": {
             "outlinewidth": 0,
             "ticks": ""
            }
           }
          ],
          "contour": [
           {
            "type": "contour",
            "colorbar": {
             "outlinewidth": 0,
             "ticks": ""
            },
            "colorscale": [
             [
              0.0,
              "#0d0887"
             ],
             [
              0.1111111111111111,
              "#46039f"
             ],
             [
              0.2222222222222222,
              "#7201a8"
             ],
             [
              0.3333333333333333,
              "#9c179e"
             ],
             [
              0.4444444444444444,
              "#bd3786"
             ],
             [
              0.5555555555555556,
              "#d8576b"
             ],
             [
              0.6666666666666666,
              "#ed7953"
             ],
             [
              0.7777777777777778,
              "#fb9f3a"
             ],
             [
              0.8888888888888888,
              "#fdca26"
             ],
             [
              1.0,
              "#f0f921"
             ]
            ]
           }
          ],
          "surface": [
           {
            "type": "surface",
            "colorbar": {
             "outlinewidth": 0,
             "ticks": ""
            },
            "colorscale": [
             [
              0.0,
              "#0d0887"
             ],
             [
              0.1111111111111111,
              "#46039f"
             ],
             [
              0.2222222222222222,
              "#7201a8"
             ],
             [
              0.3333333333333333,
              "#9c179e"
             ],
             [
              0.4444444444444444,
              "#bd3786"
             ],
             [
              0.5555555555555556,
              "#d8576b"
             ],
             [
              0.6666666666666666,
              "#ed7953"
             ],
             [
              0.7777777777777778,
              "#fb9f3a"
             ],
             [
              0.8888888888888888,
              "#fdca26"
             ],
             [
              1.0,
              "#f0f921"
             ]
            ]
           }
          ],
          "mesh3d": [
           {
            "type": "mesh3d",
            "colorbar": {
             "outlinewidth": 0,
             "ticks": ""
            }
           }
          ],
          "scatter": [
           {
            "marker": {
             "line": {
              "color": "#283442"
             }
            },
            "type": "scatter"
           }
          ],
          "parcoords": [
           {
            "type": "parcoords",
            "line": {
             "colorbar": {
              "outlinewidth": 0,
              "ticks": ""
             }
            }
           }
          ],
          "scatterpolargl": [
           {
            "type": "scatterpolargl",
            "marker": {
             "colorbar": {
              "outlinewidth": 0,
              "ticks": ""
             }
            }
           }
          ],
          "bar": [
           {
            "error_x": {
             "color": "#f2f5fa"
            },
            "error_y": {
             "color": "#f2f5fa"
            },
            "marker": {
             "line": {
              "color": "rgb(17,17,17)",
              "width": 0.5
             },
             "pattern": {
              "fillmode": "overlay",
              "size": 10,
              "solidity": 0.2
             }
            },
            "type": "bar"
           }
          ],
          "scattergeo": [
           {
            "type": "scattergeo",
            "marker": {
             "colorbar": {
              "outlinewidth": 0,
              "ticks": ""
             }
            }
           }
          ],
          "scatterpolar": [
           {
            "type": "scatterpolar",
            "marker": {
             "colorbar": {
              "outlinewidth": 0,
              "ticks": ""
             }
            }
           }
          ],
          "histogram": [
           {
            "marker": {
             "pattern": {
              "fillmode": "overlay",
              "size": 10,
              "solidity": 0.2
             }
            },
            "type": "histogram"
           }
          ],
          "scattergl": [
           {
            "marker": {
             "line": {
              "color": "#283442"
             }
            },
            "type": "scattergl"
           }
          ],
          "scatter3d": [
           {
            "type": "scatter3d",
            "line": {
             "colorbar": {
              "outlinewidth": 0,
              "ticks": ""
             }
            },
            "marker": {
             "colorbar": {
              "outlinewidth": 0,
              "ticks": ""
             }
            }
           }
          ],
          "scattermap": [
           {
            "type": "scattermap",
            "marker": {
             "colorbar": {
              "outlinewidth": 0,
              "ticks": ""
             }
            }
           }
          ],
          "scattermapbox": [
           {
            "type": "scattermapbox",
            "marker": {
             "colorbar": {
              "outlinewidth": 0,
              "ticks": ""
             }
            }
           }
          ],
          "scatterternary": [
           {
            "type": "scatterternary",
            "marker": {
             "colorbar": {
              "outlinewidth": 0,
              "ticks": ""
             }
            }
           }
          ],
          "scattercarpet": [
           {
            "type": "scattercarpet",
            "marker": {
             "colorbar": {
              "outlinewidth": 0,
              "ticks": ""
             }
            }
           }
          ],
          "carpet": [
           {
            "aaxis": {
             "endlinecolor": "#A2B1C6",
             "gridcolor": "#506784",
             "linecolor": "#506784",
             "minorgridcolor": "#506784",
             "startlinecolor": "#A2B1C6"
            },
            "baxis": {
             "endlinecolor": "#A2B1C6",
             "gridcolor": "#506784",
             "linecolor": "#506784",
             "minorgridcolor": "#506784",
             "startlinecolor": "#A2B1C6"
            },
            "type": "carpet"
           }
          ],
          "table": [
           {
            "cells": {
             "fill": {
              "color": "#506784"
             },
             "line": {
              "color": "rgb(17,17,17)"
             }
            },
            "header": {
             "fill": {
              "color": "#2a3f5f"
             },
             "line": {
              "color": "rgb(17,17,17)"
             }
            },
            "type": "table"
           }
          ],
          "barpolar": [
           {
            "marker": {
             "line": {
              "color": "rgb(17,17,17)",
              "width": 0.5
             },
             "pattern": {
              "fillmode": "overlay",
              "size": 10,
              "solidity": 0.2
             }
            },
            "type": "barpolar"
           }
          ],
          "pie": [
           {
            "automargin": true,
            "type": "pie"
           }
          ]
         },
         "layout": {
          "autotypenumbers": "strict",
          "colorway": [
           "#636efa",
           "#EF553B",
           "#00cc96",
           "#ab63fa",
           "#FFA15A",
           "#19d3f3",
           "#FF6692",
           "#B6E880",
           "#FF97FF",
           "#FECB52"
          ],
          "font": {
           "color": "#f2f5fa"
          },
          "hovermode": "closest",
          "hoverlabel": {
           "align": "left"
          },
          "paper_bgcolor": "rgb(17,17,17)",
          "plot_bgcolor": "rgb(17,17,17)",
          "polar": {
           "bgcolor": "rgb(17,17,17)",
           "angularaxis": {
            "gridcolor": "#506784",
            "linecolor": "#506784",
            "ticks": ""
           },
           "radialaxis": {
            "gridcolor": "#506784",
            "linecolor": "#506784",
            "ticks": ""
           }
          },
          "ternary": {
           "bgcolor": "rgb(17,17,17)",
           "aaxis": {
            "gridcolor": "#506784",
            "linecolor": "#506784",
            "ticks": ""
           },
           "baxis": {
            "gridcolor": "#506784",
            "linecolor": "#506784",
            "ticks": ""
           },
           "caxis": {
            "gridcolor": "#506784",
            "linecolor": "#506784",
            "ticks": ""
           }
          },
          "coloraxis": {
           "colorbar": {
            "outlinewidth": 0,
            "ticks": ""
           }
          },
          "colorscale": {
           "sequential": [
            [
             0.0,
             "#0d0887"
            ],
            [
             0.1111111111111111,
             "#46039f"
            ],
            [
             0.2222222222222222,
             "#7201a8"
            ],
            [
             0.3333333333333333,
             "#9c179e"
            ],
            [
             0.4444444444444444,
             "#bd3786"
            ],
            [
             0.5555555555555556,
             "#d8576b"
            ],
            [
             0.6666666666666666,
             "#ed7953"
            ],
            [
             0.7777777777777778,
             "#fb9f3a"
            ],
            [
             0.8888888888888888,
             "#fdca26"
            ],
            [
             1.0,
             "#f0f921"
            ]
           ],
           "sequentialminus": [
            [
             0.0,
             "#0d0887"
            ],
            [
             0.1111111111111111,
             "#46039f"
            ],
            [
             0.2222222222222222,
             "#7201a8"
            ],
            [
             0.3333333333333333,
             "#9c179e"
            ],
            [
             0.4444444444444444,
             "#bd3786"
            ],
            [
             0.5555555555555556,
             "#d8576b"
            ],
            [
             0.6666666666666666,
             "#ed7953"
            ],
            [
             0.7777777777777778,
             "#fb9f3a"
            ],
            [
             0.8888888888888888,
             "#fdca26"
            ],
            [
             1.0,
             "#f0f921"
            ]
           ],
           "diverging": [
            [
             0,
             "#8e0152"
            ],
            [
             0.1,
             "#c51b7d"
            ],
            [
             0.2,
             "#de77ae"
            ],
            [
             0.3,
             "#f1b6da"
            ],
            [
             0.4,
             "#fde0ef"
            ],
            [
             0.5,
             "#f7f7f7"
            ],
            [
             0.6,
             "#e6f5d0"
            ],
            [
             0.7,
             "#b8e186"
            ],
            [
             0.8,
             "#7fbc41"
            ],
            [
             0.9,
             "#4d9221"
            ],
            [
             1,
             "#276419"
            ]
           ]
          },
          "xaxis": {
           "gridcolor": "#283442",
           "linecolor": "#506784",
           "ticks": "",
           "title": {
            "standoff": 15
           },
           "zerolinecolor": "#283442",
           "automargin": true,
           "zerolinewidth": 2
          },
          "yaxis": {
           "gridcolor": "#283442",
           "linecolor": "#506784",
           "ticks": "",
           "title": {
            "standoff": 15
           },
           "zerolinecolor": "#283442",
           "automargin": true,
           "zerolinewidth": 2
          },
          "scene": {
           "xaxis": {
            "backgroundcolor": "rgb(17,17,17)",
            "gridcolor": "#506784",
            "linecolor": "#506784",
            "showbackground": true,
            "ticks": "",
            "zerolinecolor": "#C8D4E3",
            "gridwidth": 2
           },
           "yaxis": {
            "backgroundcolor": "rgb(17,17,17)",
            "gridcolor": "#506784",
            "linecolor": "#506784",
            "showbackground": true,
            "ticks": "",
            "zerolinecolor": "#C8D4E3",
            "gridwidth": 2
           },
           "zaxis": {
            "backgroundcolor": "rgb(17,17,17)",
            "gridcolor": "#506784",
            "linecolor": "#506784",
            "showbackground": true,
            "ticks": "",
            "zerolinecolor": "#C8D4E3",
            "gridwidth": 2
           }
          },
          "shapedefaults": {
           "line": {
            "color": "#f2f5fa"
           }
          },
          "annotationdefaults": {
           "arrowcolor": "#f2f5fa",
           "arrowhead": 0,
           "arrowwidth": 1
          },
          "geo": {
           "bgcolor": "rgb(17,17,17)",
           "landcolor": "rgb(17,17,17)",
           "subunitcolor": "#506784",
           "showland": true,
           "showlakes": true,
           "lakecolor": "rgb(17,17,17)"
          },
          "title": {
           "x": 0.05
          },
          "updatemenudefaults": {
           "bgcolor": "#506784",
           "borderwidth": 0
          },
          "sliderdefaults": {
           "bgcolor": "#C8D4E3",
           "borderwidth": 1,
           "bordercolor": "rgb(17,17,17)",
           "tickwidth": 0
          },
          "mapbox": {
           "style": "dark"
          }
         }
        },
        "coloraxis": {
         "colorbar": {
          "title": {
           "text": "count"
          }
         },
         "colorscale": [
          [
           0.0,
           "rgb(252,251,253)"
          ],
          [
           0.125,
           "rgb(239,237,245)"
          ],
          [
           0.25,
           "rgb(218,218,235)"
          ],
          [
           0.375,
           "rgb(188,189,220)"
          ],
          [
           0.5,
           "rgb(158,154,200)"
          ],
          [
           0.625,
           "rgb(128,125,186)"
          ],
          [
           0.75,
           "rgb(106,81,163)"
          ],
          [
           0.875,
           "rgb(84,39,143)"
          ],
          [
           1.0,
           "rgb(63,0,125)"
          ]
         ]
        },
        "legend": {
         "tracegroupgap": 0
        },
        "title": {
         "text": "Most Common Words in Tech Articles"
        },
        "height": 600,
        "margin": {
         "t": 50,
         "l": 25,
         "r": 25,
         "b": 25
        },
        "font": {
         "size": 14
        }
       },
       "config": {
        "plotlyServerURL": "https://plot.ly"
       }
      }
     },
     "metadata": {},
     "output_type": "display_data"
    },
    {
     "data": {
      "application/vnd.plotly.v1+json": {
       "data": [
        {
         "branchvalues": "total",
         "customdata": {
          "dtype": "f8",
          "bdata": "AAAAAACgfUAAAAAAAFB8QAAAAAAAUHlAAAAAAADQd0AAAAAAALB2QAAAAAAAgHZAAAAAAABgcUAAAAAAAJBwQAAAAAAAEHBAAAAAAACAakAAAAAAAOBpQAAAAAAAwGdAAAAAAADAZ0AAAAAAAIBnQAAAAAAA4GZAAAAAAADAZkAAAAAAAABmQAAAAAAA4GVAAAAAAAAgZEAAAAAAAOBjQAAAAAAAwGNAAAAAAABgY0AAAAAAACBjQAAAAAAA4GJAAAAAAADgYkAAAAAAAKBiQAAAAAAAgGJAAAAAAABgYkAAAAAAAGBiQAAAAAAAoGFA",
          "shape": "30, 1"
         },
         "domain": {
          "x": [
           0.0,
           1.0
          ],
          "y": [
           0.0,
           1.0
          ]
         },
         "hovertemplate": "<b>%{label}</b><br>Count: %{value}<extra></extra>",
         "ids": [
          "labour",
          "government",
          "election",
          "blair",
          "people",
          "party",
          "minister",
          "could",
          "brown",
          "told",
          "plans",
          "howard",
          "public",
          "prime",
          "tax",
          "say",
          "britain",
          "secretary",
          "tory",
          "general",
          "leader",
          "tories",
          "chancellor",
          "says",
          "home",
          "two",
          "next",
          "lord",
          "bbc",
          "campaign"
         ],
         "labels": [
          "labour",
          "government",
          "election",
          "blair",
          "people",
          "party",
          "minister",
          "could",
          "brown",
          "told",
          "plans",
          "howard",
          "public",
          "prime",
          "tax",
          "say",
          "britain",
          "secretary",
          "tory",
          "general",
          "leader",
          "tories",
          "chancellor",
          "says",
          "home",
          "two",
          "next",
          "lord",
          "bbc",
          "campaign"
         ],
         "marker": {
          "coloraxis": "coloraxis",
          "colors": {
           "dtype": "f8",
           "bdata": "AAAAAACgfUAAAAAAAFB8QAAAAAAAUHlAAAAAAADQd0AAAAAAALB2QAAAAAAAgHZAAAAAAABgcUAAAAAAAJBwQAAAAAAAEHBAAAAAAACAakAAAAAAAOBpQAAAAAAAwGdAAAAAAADAZ0AAAAAAAIBnQAAAAAAA4GZAAAAAAADAZkAAAAAAAABmQAAAAAAA4GVAAAAAAAAgZEAAAAAAAOBjQAAAAAAAwGNAAAAAAABgY0AAAAAAACBjQAAAAAAA4GJAAAAAAADgYkAAAAAAAKBiQAAAAAAAgGJAAAAAAABgYkAAAAAAAGBiQAAAAAAAoGFA"
          }
         },
         "name": "",
         "parents": [
          "",
          "",
          "",
          "",
          "",
          "",
          "",
          "",
          "",
          "",
          "",
          "",
          "",
          "",
          "",
          "",
          "",
          "",
          "",
          "",
          "",
          "",
          "",
          "",
          "",
          "",
          "",
          "",
          "",
          ""
         ],
         "values": {
          "dtype": "f8",
          "bdata": "AAAAAACgfUAAAAAAAFB8QAAAAAAAUHlAAAAAAADQd0AAAAAAALB2QAAAAAAAgHZAAAAAAABgcUAAAAAAAJBwQAAAAAAAEHBAAAAAAACAakAAAAAAAOBpQAAAAAAAwGdAAAAAAADAZ0AAAAAAAIBnQAAAAAAA4GZAAAAAAADAZkAAAAAAAABmQAAAAAAA4GVAAAAAAAAgZEAAAAAAAOBjQAAAAAAAwGNAAAAAAABgY0AAAAAAACBjQAAAAAAA4GJAAAAAAADgYkAAAAAAAKBiQAAAAAAAgGJAAAAAAABgYkAAAAAAAGBiQAAAAAAAoGFA"
         },
         "type": "treemap",
         "textinfo": "label+value"
        }
       ],
       "layout": {
        "template": {
         "data": {
          "histogram2dcontour": [
           {
            "type": "histogram2dcontour",
            "colorbar": {
             "outlinewidth": 0,
             "ticks": ""
            },
            "colorscale": [
             [
              0.0,
              "#0d0887"
             ],
             [
              0.1111111111111111,
              "#46039f"
             ],
             [
              0.2222222222222222,
              "#7201a8"
             ],
             [
              0.3333333333333333,
              "#9c179e"
             ],
             [
              0.4444444444444444,
              "#bd3786"
             ],
             [
              0.5555555555555556,
              "#d8576b"
             ],
             [
              0.6666666666666666,
              "#ed7953"
             ],
             [
              0.7777777777777778,
              "#fb9f3a"
             ],
             [
              0.8888888888888888,
              "#fdca26"
             ],
             [
              1.0,
              "#f0f921"
             ]
            ]
           }
          ],
          "choropleth": [
           {
            "type": "choropleth",
            "colorbar": {
             "outlinewidth": 0,
             "ticks": ""
            }
           }
          ],
          "histogram2d": [
           {
            "type": "histogram2d",
            "colorbar": {
             "outlinewidth": 0,
             "ticks": ""
            },
            "colorscale": [
             [
              0.0,
              "#0d0887"
             ],
             [
              0.1111111111111111,
              "#46039f"
             ],
             [
              0.2222222222222222,
              "#7201a8"
             ],
             [
              0.3333333333333333,
              "#9c179e"
             ],
             [
              0.4444444444444444,
              "#bd3786"
             ],
             [
              0.5555555555555556,
              "#d8576b"
             ],
             [
              0.6666666666666666,
              "#ed7953"
             ],
             [
              0.7777777777777778,
              "#fb9f3a"
             ],
             [
              0.8888888888888888,
              "#fdca26"
             ],
             [
              1.0,
              "#f0f921"
             ]
            ]
           }
          ],
          "heatmap": [
           {
            "type": "heatmap",
            "colorbar": {
             "outlinewidth": 0,
             "ticks": ""
            },
            "colorscale": [
             [
              0.0,
              "#0d0887"
             ],
             [
              0.1111111111111111,
              "#46039f"
             ],
             [
              0.2222222222222222,
              "#7201a8"
             ],
             [
              0.3333333333333333,
              "#9c179e"
             ],
             [
              0.4444444444444444,
              "#bd3786"
             ],
             [
              0.5555555555555556,
              "#d8576b"
             ],
             [
              0.6666666666666666,
              "#ed7953"
             ],
             [
              0.7777777777777778,
              "#fb9f3a"
             ],
             [
              0.8888888888888888,
              "#fdca26"
             ],
             [
              1.0,
              "#f0f921"
             ]
            ]
           }
          ],
          "contourcarpet": [
           {
            "type": "contourcarpet",
            "colorbar": {
             "outlinewidth": 0,
             "ticks": ""
            }
           }
          ],
          "contour": [
           {
            "type": "contour",
            "colorbar": {
             "outlinewidth": 0,
             "ticks": ""
            },
            "colorscale": [
             [
              0.0,
              "#0d0887"
             ],
             [
              0.1111111111111111,
              "#46039f"
             ],
             [
              0.2222222222222222,
              "#7201a8"
             ],
             [
              0.3333333333333333,
              "#9c179e"
             ],
             [
              0.4444444444444444,
              "#bd3786"
             ],
             [
              0.5555555555555556,
              "#d8576b"
             ],
             [
              0.6666666666666666,
              "#ed7953"
             ],
             [
              0.7777777777777778,
              "#fb9f3a"
             ],
             [
              0.8888888888888888,
              "#fdca26"
             ],
             [
              1.0,
              "#f0f921"
             ]
            ]
           }
          ],
          "surface": [
           {
            "type": "surface",
            "colorbar": {
             "outlinewidth": 0,
             "ticks": ""
            },
            "colorscale": [
             [
              0.0,
              "#0d0887"
             ],
             [
              0.1111111111111111,
              "#46039f"
             ],
             [
              0.2222222222222222,
              "#7201a8"
             ],
             [
              0.3333333333333333,
              "#9c179e"
             ],
             [
              0.4444444444444444,
              "#bd3786"
             ],
             [
              0.5555555555555556,
              "#d8576b"
             ],
             [
              0.6666666666666666,
              "#ed7953"
             ],
             [
              0.7777777777777778,
              "#fb9f3a"
             ],
             [
              0.8888888888888888,
              "#fdca26"
             ],
             [
              1.0,
              "#f0f921"
             ]
            ]
           }
          ],
          "mesh3d": [
           {
            "type": "mesh3d",
            "colorbar": {
             "outlinewidth": 0,
             "ticks": ""
            }
           }
          ],
          "scatter": [
           {
            "marker": {
             "line": {
              "color": "#283442"
             }
            },
            "type": "scatter"
           }
          ],
          "parcoords": [
           {
            "type": "parcoords",
            "line": {
             "colorbar": {
              "outlinewidth": 0,
              "ticks": ""
             }
            }
           }
          ],
          "scatterpolargl": [
           {
            "type": "scatterpolargl",
            "marker": {
             "colorbar": {
              "outlinewidth": 0,
              "ticks": ""
             }
            }
           }
          ],
          "bar": [
           {
            "error_x": {
             "color": "#f2f5fa"
            },
            "error_y": {
             "color": "#f2f5fa"
            },
            "marker": {
             "line": {
              "color": "rgb(17,17,17)",
              "width": 0.5
             },
             "pattern": {
              "fillmode": "overlay",
              "size": 10,
              "solidity": 0.2
             }
            },
            "type": "bar"
           }
          ],
          "scattergeo": [
           {
            "type": "scattergeo",
            "marker": {
             "colorbar": {
              "outlinewidth": 0,
              "ticks": ""
             }
            }
           }
          ],
          "scatterpolar": [
           {
            "type": "scatterpolar",
            "marker": {
             "colorbar": {
              "outlinewidth": 0,
              "ticks": ""
             }
            }
           }
          ],
          "histogram": [
           {
            "marker": {
             "pattern": {
              "fillmode": "overlay",
              "size": 10,
              "solidity": 0.2
             }
            },
            "type": "histogram"
           }
          ],
          "scattergl": [
           {
            "marker": {
             "line": {
              "color": "#283442"
             }
            },
            "type": "scattergl"
           }
          ],
          "scatter3d": [
           {
            "type": "scatter3d",
            "line": {
             "colorbar": {
              "outlinewidth": 0,
              "ticks": ""
             }
            },
            "marker": {
             "colorbar": {
              "outlinewidth": 0,
              "ticks": ""
             }
            }
           }
          ],
          "scattermap": [
           {
            "type": "scattermap",
            "marker": {
             "colorbar": {
              "outlinewidth": 0,
              "ticks": ""
             }
            }
           }
          ],
          "scattermapbox": [
           {
            "type": "scattermapbox",
            "marker": {
             "colorbar": {
              "outlinewidth": 0,
              "ticks": ""
             }
            }
           }
          ],
          "scatterternary": [
           {
            "type": "scatterternary",
            "marker": {
             "colorbar": {
              "outlinewidth": 0,
              "ticks": ""
             }
            }
           }
          ],
          "scattercarpet": [
           {
            "type": "scattercarpet",
            "marker": {
             "colorbar": {
              "outlinewidth": 0,
              "ticks": ""
             }
            }
           }
          ],
          "carpet": [
           {
            "aaxis": {
             "endlinecolor": "#A2B1C6",
             "gridcolor": "#506784",
             "linecolor": "#506784",
             "minorgridcolor": "#506784",
             "startlinecolor": "#A2B1C6"
            },
            "baxis": {
             "endlinecolor": "#A2B1C6",
             "gridcolor": "#506784",
             "linecolor": "#506784",
             "minorgridcolor": "#506784",
             "startlinecolor": "#A2B1C6"
            },
            "type": "carpet"
           }
          ],
          "table": [
           {
            "cells": {
             "fill": {
              "color": "#506784"
             },
             "line": {
              "color": "rgb(17,17,17)"
             }
            },
            "header": {
             "fill": {
              "color": "#2a3f5f"
             },
             "line": {
              "color": "rgb(17,17,17)"
             }
            },
            "type": "table"
           }
          ],
          "barpolar": [
           {
            "marker": {
             "line": {
              "color": "rgb(17,17,17)",
              "width": 0.5
             },
             "pattern": {
              "fillmode": "overlay",
              "size": 10,
              "solidity": 0.2
             }
            },
            "type": "barpolar"
           }
          ],
          "pie": [
           {
            "automargin": true,
            "type": "pie"
           }
          ]
         },
         "layout": {
          "autotypenumbers": "strict",
          "colorway": [
           "#636efa",
           "#EF553B",
           "#00cc96",
           "#ab63fa",
           "#FFA15A",
           "#19d3f3",
           "#FF6692",
           "#B6E880",
           "#FF97FF",
           "#FECB52"
          ],
          "font": {
           "color": "#f2f5fa"
          },
          "hovermode": "closest",
          "hoverlabel": {
           "align": "left"
          },
          "paper_bgcolor": "rgb(17,17,17)",
          "plot_bgcolor": "rgb(17,17,17)",
          "polar": {
           "bgcolor": "rgb(17,17,17)",
           "angularaxis": {
            "gridcolor": "#506784",
            "linecolor": "#506784",
            "ticks": ""
           },
           "radialaxis": {
            "gridcolor": "#506784",
            "linecolor": "#506784",
            "ticks": ""
           }
          },
          "ternary": {
           "bgcolor": "rgb(17,17,17)",
           "aaxis": {
            "gridcolor": "#506784",
            "linecolor": "#506784",
            "ticks": ""
           },
           "baxis": {
            "gridcolor": "#506784",
            "linecolor": "#506784",
            "ticks": ""
           },
           "caxis": {
            "gridcolor": "#506784",
            "linecolor": "#506784",
            "ticks": ""
           }
          },
          "coloraxis": {
           "colorbar": {
            "outlinewidth": 0,
            "ticks": ""
           }
          },
          "colorscale": {
           "sequential": [
            [
             0.0,
             "#0d0887"
            ],
            [
             0.1111111111111111,
             "#46039f"
            ],
            [
             0.2222222222222222,
             "#7201a8"
            ],
            [
             0.3333333333333333,
             "#9c179e"
            ],
            [
             0.4444444444444444,
             "#bd3786"
            ],
            [
             0.5555555555555556,
             "#d8576b"
            ],
            [
             0.6666666666666666,
             "#ed7953"
            ],
            [
             0.7777777777777778,
             "#fb9f3a"
            ],
            [
             0.8888888888888888,
             "#fdca26"
            ],
            [
             1.0,
             "#f0f921"
            ]
           ],
           "sequentialminus": [
            [
             0.0,
             "#0d0887"
            ],
            [
             0.1111111111111111,
             "#46039f"
            ],
            [
             0.2222222222222222,
             "#7201a8"
            ],
            [
             0.3333333333333333,
             "#9c179e"
            ],
            [
             0.4444444444444444,
             "#bd3786"
            ],
            [
             0.5555555555555556,
             "#d8576b"
            ],
            [
             0.6666666666666666,
             "#ed7953"
            ],
            [
             0.7777777777777778,
             "#fb9f3a"
            ],
            [
             0.8888888888888888,
             "#fdca26"
            ],
            [
             1.0,
             "#f0f921"
            ]
           ],
           "diverging": [
            [
             0,
             "#8e0152"
            ],
            [
             0.1,
             "#c51b7d"
            ],
            [
             0.2,
             "#de77ae"
            ],
            [
             0.3,
             "#f1b6da"
            ],
            [
             0.4,
             "#fde0ef"
            ],
            [
             0.5,
             "#f7f7f7"
            ],
            [
             0.6,
             "#e6f5d0"
            ],
            [
             0.7,
             "#b8e186"
            ],
            [
             0.8,
             "#7fbc41"
            ],
            [
             0.9,
             "#4d9221"
            ],
            [
             1,
             "#276419"
            ]
           ]
          },
          "xaxis": {
           "gridcolor": "#283442",
           "linecolor": "#506784",
           "ticks": "",
           "title": {
            "standoff": 15
           },
           "zerolinecolor": "#283442",
           "automargin": true,
           "zerolinewidth": 2
          },
          "yaxis": {
           "gridcolor": "#283442",
           "linecolor": "#506784",
           "ticks": "",
           "title": {
            "standoff": 15
           },
           "zerolinecolor": "#283442",
           "automargin": true,
           "zerolinewidth": 2
          },
          "scene": {
           "xaxis": {
            "backgroundcolor": "rgb(17,17,17)",
            "gridcolor": "#506784",
            "linecolor": "#506784",
            "showbackground": true,
            "ticks": "",
            "zerolinecolor": "#C8D4E3",
            "gridwidth": 2
           },
           "yaxis": {
            "backgroundcolor": "rgb(17,17,17)",
            "gridcolor": "#506784",
            "linecolor": "#506784",
            "showbackground": true,
            "ticks": "",
            "zerolinecolor": "#C8D4E3",
            "gridwidth": 2
           },
           "zaxis": {
            "backgroundcolor": "rgb(17,17,17)",
            "gridcolor": "#506784",
            "linecolor": "#506784",
            "showbackground": true,
            "ticks": "",
            "zerolinecolor": "#C8D4E3",
            "gridwidth": 2
           }
          },
          "shapedefaults": {
           "line": {
            "color": "#f2f5fa"
           }
          },
          "annotationdefaults": {
           "arrowcolor": "#f2f5fa",
           "arrowhead": 0,
           "arrowwidth": 1
          },
          "geo": {
           "bgcolor": "rgb(17,17,17)",
           "landcolor": "rgb(17,17,17)",
           "subunitcolor": "#506784",
           "showland": true,
           "showlakes": true,
           "lakecolor": "rgb(17,17,17)"
          },
          "title": {
           "x": 0.05
          },
          "updatemenudefaults": {
           "bgcolor": "#506784",
           "borderwidth": 0
          },
          "sliderdefaults": {
           "bgcolor": "#C8D4E3",
           "borderwidth": 1,
           "bordercolor": "rgb(17,17,17)",
           "tickwidth": 0
          },
          "mapbox": {
           "style": "dark"
          }
         }
        },
        "coloraxis": {
         "colorbar": {
          "title": {
           "text": "count"
          }
         },
         "colorscale": [
          [
           0.0,
           "rgb(247,252,245)"
          ],
          [
           0.125,
           "rgb(229,245,224)"
          ],
          [
           0.25,
           "rgb(199,233,192)"
          ],
          [
           0.375,
           "rgb(161,217,155)"
          ],
          [
           0.5,
           "rgb(116,196,118)"
          ],
          [
           0.625,
           "rgb(65,171,93)"
          ],
          [
           0.75,
           "rgb(35,139,69)"
          ],
          [
           0.875,
           "rgb(0,109,44)"
          ],
          [
           1.0,
           "rgb(0,68,27)"
          ]
         ]
        },
        "legend": {
         "tracegroupgap": 0
        },
        "title": {
         "text": "Most Common Words in Politics Articles"
        },
        "height": 600,
        "margin": {
         "t": 50,
         "l": 25,
         "r": 25,
         "b": 25
        },
        "font": {
         "size": 14
        }
       },
       "config": {
        "plotlyServerURL": "https://plot.ly"
       }
      }
     },
     "metadata": {},
     "output_type": "display_data"
    },
    {
     "data": {
      "application/vnd.plotly.v1+json": {
       "data": [
        {
         "branchvalues": "total",
         "customdata": {
          "dtype": "f8",
          "bdata": "AAAAAAAAdkAAAAAAAKB1QAAAAAAAcHRAAAAAAABgckAAAAAAADByQAAAAAAAEHJAAAAAAADAcEAAAAAAAFBwQAAAAAAAMHBAAAAAAADAaUAAAAAAAMBpQAAAAAAAYGlAAAAAAABAaEAAAAAAACBoQAAAAAAAAGhAAAAAAADAZ0AAAAAAAKBnQAAAAAAAwGZAAAAAAACAZkAAAAAAAGBmQAAAAAAAQGZAAAAAAAAgZkAAAAAAACBlQAAAAAAAIGVAAAAAAADAZEAAAAAAACBkQAAAAAAAgGNAAAAAAABAY0AAAAAAAMBiQAAAAAAAgGJA",
          "shape": "30, 1"
         },
         "domain": {
          "x": [
           0.0,
           1.0
          ],
          "y": [
           0.0,
           1.0
          ]
         },
         "hovertemplate": "<b>%{label}</b><br>Count: %{value}<extra></extra>",
         "ids": [
          "game",
          "first",
          "england",
          "time",
          "win",
          "two",
          "world",
          "back",
          "last",
          "cup",
          "players",
          "team",
          "half",
          "play",
          "ireland",
          "side",
          "second",
          "wales",
          "final",
          "match",
          "six",
          "three",
          "good",
          "could",
          "season",
          "set",
          "france",
          "chelsea",
          "old",
          "coach"
         ],
         "labels": [
          "game",
          "first",
          "england",
          "time",
          "win",
          "two",
          "world",
          "back",
          "last",
          "cup",
          "players",
          "team",
          "half",
          "play",
          "ireland",
          "side",
          "second",
          "wales",
          "final",
          "match",
          "six",
          "three",
          "good",
          "could",
          "season",
          "set",
          "france",
          "chelsea",
          "old",
          "coach"
         ],
         "marker": {
          "coloraxis": "coloraxis",
          "colors": {
           "dtype": "f8",
           "bdata": "AAAAAAAAdkAAAAAAAKB1QAAAAAAAcHRAAAAAAABgckAAAAAAADByQAAAAAAAEHJAAAAAAADAcEAAAAAAAFBwQAAAAAAAMHBAAAAAAADAaUAAAAAAAMBpQAAAAAAAYGlAAAAAAABAaEAAAAAAACBoQAAAAAAAAGhAAAAAAADAZ0AAAAAAAKBnQAAAAAAAwGZAAAAAAACAZkAAAAAAAGBmQAAAAAAAQGZAAAAAAAAgZkAAAAAAACBlQAAAAAAAIGVAAAAAAADAZEAAAAAAACBkQAAAAAAAgGNAAAAAAABAY0AAAAAAAMBiQAAAAAAAgGJA"
          }
         },
         "name": "",
         "parents": [
          "",
          "",
          "",
          "",
          "",
          "",
          "",
          "",
          "",
          "",
          "",
          "",
          "",
          "",
          "",
          "",
          "",
          "",
          "",
          "",
          "",
          "",
          "",
          "",
          "",
          "",
          "",
          "",
          "",
          ""
         ],
         "values": {
          "dtype": "f8",
          "bdata": "AAAAAAAAdkAAAAAAAKB1QAAAAAAAcHRAAAAAAABgckAAAAAAADByQAAAAAAAEHJAAAAAAADAcEAAAAAAAFBwQAAAAAAAMHBAAAAAAADAaUAAAAAAAMBpQAAAAAAAYGlAAAAAAABAaEAAAAAAACBoQAAAAAAAAGhAAAAAAADAZ0AAAAAAAKBnQAAAAAAAwGZAAAAAAACAZkAAAAAAAGBmQAAAAAAAQGZAAAAAAAAgZkAAAAAAACBlQAAAAAAAIGVAAAAAAADAZEAAAAAAACBkQAAAAAAAgGNAAAAAAABAY0AAAAAAAMBiQAAAAAAAgGJA"
         },
         "type": "treemap",
         "textinfo": "label+value"
        }
       ],
       "layout": {
        "template": {
         "data": {
          "histogram2dcontour": [
           {
            "type": "histogram2dcontour",
            "colorbar": {
             "outlinewidth": 0,
             "ticks": ""
            },
            "colorscale": [
             [
              0.0,
              "#0d0887"
             ],
             [
              0.1111111111111111,
              "#46039f"
             ],
             [
              0.2222222222222222,
              "#7201a8"
             ],
             [
              0.3333333333333333,
              "#9c179e"
             ],
             [
              0.4444444444444444,
              "#bd3786"
             ],
             [
              0.5555555555555556,
              "#d8576b"
             ],
             [
              0.6666666666666666,
              "#ed7953"
             ],
             [
              0.7777777777777778,
              "#fb9f3a"
             ],
             [
              0.8888888888888888,
              "#fdca26"
             ],
             [
              1.0,
              "#f0f921"
             ]
            ]
           }
          ],
          "choropleth": [
           {
            "type": "choropleth",
            "colorbar": {
             "outlinewidth": 0,
             "ticks": ""
            }
           }
          ],
          "histogram2d": [
           {
            "type": "histogram2d",
            "colorbar": {
             "outlinewidth": 0,
             "ticks": ""
            },
            "colorscale": [
             [
              0.0,
              "#0d0887"
             ],
             [
              0.1111111111111111,
              "#46039f"
             ],
             [
              0.2222222222222222,
              "#7201a8"
             ],
             [
              0.3333333333333333,
              "#9c179e"
             ],
             [
              0.4444444444444444,
              "#bd3786"
             ],
             [
              0.5555555555555556,
              "#d8576b"
             ],
             [
              0.6666666666666666,
              "#ed7953"
             ],
             [
              0.7777777777777778,
              "#fb9f3a"
             ],
             [
              0.8888888888888888,
              "#fdca26"
             ],
             [
              1.0,
              "#f0f921"
             ]
            ]
           }
          ],
          "heatmap": [
           {
            "type": "heatmap",
            "colorbar": {
             "outlinewidth": 0,
             "ticks": ""
            },
            "colorscale": [
             [
              0.0,
              "#0d0887"
             ],
             [
              0.1111111111111111,
              "#46039f"
             ],
             [
              0.2222222222222222,
              "#7201a8"
             ],
             [
              0.3333333333333333,
              "#9c179e"
             ],
             [
              0.4444444444444444,
              "#bd3786"
             ],
             [
              0.5555555555555556,
              "#d8576b"
             ],
             [
              0.6666666666666666,
              "#ed7953"
             ],
             [
              0.7777777777777778,
              "#fb9f3a"
             ],
             [
              0.8888888888888888,
              "#fdca26"
             ],
             [
              1.0,
              "#f0f921"
             ]
            ]
           }
          ],
          "contourcarpet": [
           {
            "type": "contourcarpet",
            "colorbar": {
             "outlinewidth": 0,
             "ticks": ""
            }
           }
          ],
          "contour": [
           {
            "type": "contour",
            "colorbar": {
             "outlinewidth": 0,
             "ticks": ""
            },
            "colorscale": [
             [
              0.0,
              "#0d0887"
             ],
             [
              0.1111111111111111,
              "#46039f"
             ],
             [
              0.2222222222222222,
              "#7201a8"
             ],
             [
              0.3333333333333333,
              "#9c179e"
             ],
             [
              0.4444444444444444,
              "#bd3786"
             ],
             [
              0.5555555555555556,
              "#d8576b"
             ],
             [
              0.6666666666666666,
              "#ed7953"
             ],
             [
              0.7777777777777778,
              "#fb9f3a"
             ],
             [
              0.8888888888888888,
              "#fdca26"
             ],
             [
              1.0,
              "#f0f921"
             ]
            ]
           }
          ],
          "surface": [
           {
            "type": "surface",
            "colorbar": {
             "outlinewidth": 0,
             "ticks": ""
            },
            "colorscale": [
             [
              0.0,
              "#0d0887"
             ],
             [
              0.1111111111111111,
              "#46039f"
             ],
             [
              0.2222222222222222,
              "#7201a8"
             ],
             [
              0.3333333333333333,
              "#9c179e"
             ],
             [
              0.4444444444444444,
              "#bd3786"
             ],
             [
              0.5555555555555556,
              "#d8576b"
             ],
             [
              0.6666666666666666,
              "#ed7953"
             ],
             [
              0.7777777777777778,
              "#fb9f3a"
             ],
             [
              0.8888888888888888,
              "#fdca26"
             ],
             [
              1.0,
              "#f0f921"
             ]
            ]
           }
          ],
          "mesh3d": [
           {
            "type": "mesh3d",
            "colorbar": {
             "outlinewidth": 0,
             "ticks": ""
            }
           }
          ],
          "scatter": [
           {
            "marker": {
             "line": {
              "color": "#283442"
             }
            },
            "type": "scatter"
           }
          ],
          "parcoords": [
           {
            "type": "parcoords",
            "line": {
             "colorbar": {
              "outlinewidth": 0,
              "ticks": ""
             }
            }
           }
          ],
          "scatterpolargl": [
           {
            "type": "scatterpolargl",
            "marker": {
             "colorbar": {
              "outlinewidth": 0,
              "ticks": ""
             }
            }
           }
          ],
          "bar": [
           {
            "error_x": {
             "color": "#f2f5fa"
            },
            "error_y": {
             "color": "#f2f5fa"
            },
            "marker": {
             "line": {
              "color": "rgb(17,17,17)",
              "width": 0.5
             },
             "pattern": {
              "fillmode": "overlay",
              "size": 10,
              "solidity": 0.2
             }
            },
            "type": "bar"
           }
          ],
          "scattergeo": [
           {
            "type": "scattergeo",
            "marker": {
             "colorbar": {
              "outlinewidth": 0,
              "ticks": ""
             }
            }
           }
          ],
          "scatterpolar": [
           {
            "type": "scatterpolar",
            "marker": {
             "colorbar": {
              "outlinewidth": 0,
              "ticks": ""
             }
            }
           }
          ],
          "histogram": [
           {
            "marker": {
             "pattern": {
              "fillmode": "overlay",
              "size": 10,
              "solidity": 0.2
             }
            },
            "type": "histogram"
           }
          ],
          "scattergl": [
           {
            "marker": {
             "line": {
              "color": "#283442"
             }
            },
            "type": "scattergl"
           }
          ],
          "scatter3d": [
           {
            "type": "scatter3d",
            "line": {
             "colorbar": {
              "outlinewidth": 0,
              "ticks": ""
             }
            },
            "marker": {
             "colorbar": {
              "outlinewidth": 0,
              "ticks": ""
             }
            }
           }
          ],
          "scattermap": [
           {
            "type": "scattermap",
            "marker": {
             "colorbar": {
              "outlinewidth": 0,
              "ticks": ""
             }
            }
           }
          ],
          "scattermapbox": [
           {
            "type": "scattermapbox",
            "marker": {
             "colorbar": {
              "outlinewidth": 0,
              "ticks": ""
             }
            }
           }
          ],
          "scatterternary": [
           {
            "type": "scatterternary",
            "marker": {
             "colorbar": {
              "outlinewidth": 0,
              "ticks": ""
             }
            }
           }
          ],
          "scattercarpet": [
           {
            "type": "scattercarpet",
            "marker": {
             "colorbar": {
              "outlinewidth": 0,
              "ticks": ""
             }
            }
           }
          ],
          "carpet": [
           {
            "aaxis": {
             "endlinecolor": "#A2B1C6",
             "gridcolor": "#506784",
             "linecolor": "#506784",
             "minorgridcolor": "#506784",
             "startlinecolor": "#A2B1C6"
            },
            "baxis": {
             "endlinecolor": "#A2B1C6",
             "gridcolor": "#506784",
             "linecolor": "#506784",
             "minorgridcolor": "#506784",
             "startlinecolor": "#A2B1C6"
            },
            "type": "carpet"
           }
          ],
          "table": [
           {
            "cells": {
             "fill": {
              "color": "#506784"
             },
             "line": {
              "color": "rgb(17,17,17)"
             }
            },
            "header": {
             "fill": {
              "color": "#2a3f5f"
             },
             "line": {
              "color": "rgb(17,17,17)"
             }
            },
            "type": "table"
           }
          ],
          "barpolar": [
           {
            "marker": {
             "line": {
              "color": "rgb(17,17,17)",
              "width": 0.5
             },
             "pattern": {
              "fillmode": "overlay",
              "size": 10,
              "solidity": 0.2
             }
            },
            "type": "barpolar"
           }
          ],
          "pie": [
           {
            "automargin": true,
            "type": "pie"
           }
          ]
         },
         "layout": {
          "autotypenumbers": "strict",
          "colorway": [
           "#636efa",
           "#EF553B",
           "#00cc96",
           "#ab63fa",
           "#FFA15A",
           "#19d3f3",
           "#FF6692",
           "#B6E880",
           "#FF97FF",
           "#FECB52"
          ],
          "font": {
           "color": "#f2f5fa"
          },
          "hovermode": "closest",
          "hoverlabel": {
           "align": "left"
          },
          "paper_bgcolor": "rgb(17,17,17)",
          "plot_bgcolor": "rgb(17,17,17)",
          "polar": {
           "bgcolor": "rgb(17,17,17)",
           "angularaxis": {
            "gridcolor": "#506784",
            "linecolor": "#506784",
            "ticks": ""
           },
           "radialaxis": {
            "gridcolor": "#506784",
            "linecolor": "#506784",
            "ticks": ""
           }
          },
          "ternary": {
           "bgcolor": "rgb(17,17,17)",
           "aaxis": {
            "gridcolor": "#506784",
            "linecolor": "#506784",
            "ticks": ""
           },
           "baxis": {
            "gridcolor": "#506784",
            "linecolor": "#506784",
            "ticks": ""
           },
           "caxis": {
            "gridcolor": "#506784",
            "linecolor": "#506784",
            "ticks": ""
           }
          },
          "coloraxis": {
           "colorbar": {
            "outlinewidth": 0,
            "ticks": ""
           }
          },
          "colorscale": {
           "sequential": [
            [
             0.0,
             "#0d0887"
            ],
            [
             0.1111111111111111,
             "#46039f"
            ],
            [
             0.2222222222222222,
             "#7201a8"
            ],
            [
             0.3333333333333333,
             "#9c179e"
            ],
            [
             0.4444444444444444,
             "#bd3786"
            ],
            [
             0.5555555555555556,
             "#d8576b"
            ],
            [
             0.6666666666666666,
             "#ed7953"
            ],
            [
             0.7777777777777778,
             "#fb9f3a"
            ],
            [
             0.8888888888888888,
             "#fdca26"
            ],
            [
             1.0,
             "#f0f921"
            ]
           ],
           "sequentialminus": [
            [
             0.0,
             "#0d0887"
            ],
            [
             0.1111111111111111,
             "#46039f"
            ],
            [
             0.2222222222222222,
             "#7201a8"
            ],
            [
             0.3333333333333333,
             "#9c179e"
            ],
            [
             0.4444444444444444,
             "#bd3786"
            ],
            [
             0.5555555555555556,
             "#d8576b"
            ],
            [
             0.6666666666666666,
             "#ed7953"
            ],
            [
             0.7777777777777778,
             "#fb9f3a"
            ],
            [
             0.8888888888888888,
             "#fdca26"
            ],
            [
             1.0,
             "#f0f921"
            ]
           ],
           "diverging": [
            [
             0,
             "#8e0152"
            ],
            [
             0.1,
             "#c51b7d"
            ],
            [
             0.2,
             "#de77ae"
            ],
            [
             0.3,
             "#f1b6da"
            ],
            [
             0.4,
             "#fde0ef"
            ],
            [
             0.5,
             "#f7f7f7"
            ],
            [
             0.6,
             "#e6f5d0"
            ],
            [
             0.7,
             "#b8e186"
            ],
            [
             0.8,
             "#7fbc41"
            ],
            [
             0.9,
             "#4d9221"
            ],
            [
             1,
             "#276419"
            ]
           ]
          },
          "xaxis": {
           "gridcolor": "#283442",
           "linecolor": "#506784",
           "ticks": "",
           "title": {
            "standoff": 15
           },
           "zerolinecolor": "#283442",
           "automargin": true,
           "zerolinewidth": 2
          },
          "yaxis": {
           "gridcolor": "#283442",
           "linecolor": "#506784",
           "ticks": "",
           "title": {
            "standoff": 15
           },
           "zerolinecolor": "#283442",
           "automargin": true,
           "zerolinewidth": 2
          },
          "scene": {
           "xaxis": {
            "backgroundcolor": "rgb(17,17,17)",
            "gridcolor": "#506784",
            "linecolor": "#506784",
            "showbackground": true,
            "ticks": "",
            "zerolinecolor": "#C8D4E3",
            "gridwidth": 2
           },
           "yaxis": {
            "backgroundcolor": "rgb(17,17,17)",
            "gridcolor": "#506784",
            "linecolor": "#506784",
            "showbackground": true,
            "ticks": "",
            "zerolinecolor": "#C8D4E3",
            "gridwidth": 2
           },
           "zaxis": {
            "backgroundcolor": "rgb(17,17,17)",
            "gridcolor": "#506784",
            "linecolor": "#506784",
            "showbackground": true,
            "ticks": "",
            "zerolinecolor": "#C8D4E3",
            "gridwidth": 2
           }
          },
          "shapedefaults": {
           "line": {
            "color": "#f2f5fa"
           }
          },
          "annotationdefaults": {
           "arrowcolor": "#f2f5fa",
           "arrowhead": 0,
           "arrowwidth": 1
          },
          "geo": {
           "bgcolor": "rgb(17,17,17)",
           "landcolor": "rgb(17,17,17)",
           "subunitcolor": "#506784",
           "showland": true,
           "showlakes": true,
           "lakecolor": "rgb(17,17,17)"
          },
          "title": {
           "x": 0.05
          },
          "updatemenudefaults": {
           "bgcolor": "#506784",
           "borderwidth": 0
          },
          "sliderdefaults": {
           "bgcolor": "#C8D4E3",
           "borderwidth": 1,
           "bordercolor": "rgb(17,17,17)",
           "tickwidth": 0
          },
          "mapbox": {
           "style": "dark"
          }
         }
        },
        "coloraxis": {
         "colorbar": {
          "title": {
           "text": "count"
          }
         },
         "colorscale": [
          [
           0.0,
           "rgb(255,245,240)"
          ],
          [
           0.125,
           "rgb(254,224,210)"
          ],
          [
           0.25,
           "rgb(252,187,161)"
          ],
          [
           0.375,
           "rgb(252,146,114)"
          ],
          [
           0.5,
           "rgb(251,106,74)"
          ],
          [
           0.625,
           "rgb(239,59,44)"
          ],
          [
           0.75,
           "rgb(203,24,29)"
          ],
          [
           0.875,
           "rgb(165,15,21)"
          ],
          [
           1.0,
           "rgb(103,0,13)"
          ]
         ]
        },
        "legend": {
         "tracegroupgap": 0
        },
        "title": {
         "text": "Most Common Words in Sport Articles"
        },
        "height": 600,
        "margin": {
         "t": 50,
         "l": 25,
         "r": 25,
         "b": 25
        },
        "font": {
         "size": 14
        }
       },
       "config": {
        "plotlyServerURL": "https://plot.ly"
       }
      }
     },
     "metadata": {},
     "output_type": "display_data"
    },
    {
     "data": {
      "application/vnd.plotly.v1+json": {
       "data": [
        {
         "branchvalues": "total",
         "customdata": {
          "dtype": "f8",
          "bdata": "AAAAAAA4gUAAAAAAAPB5QAAAAAAAoG5AAAAAAABAa0AAAAAAAIBmQAAAAAAAIGZAAAAAAABgZEAAAAAAAEBjQAAAAAAAIGNAAAAAAAAAY0AAAAAAAOBiQAAAAAAAwGJAAAAAAADAYkAAAAAAACBiQAAAAAAA4GBAAAAAAACAYEAAAAAAAGBgQAAAAAAAQGBAAAAAAABAYEAAAAAAAABgQAAAAAAAgF9AAAAAAADAXkAAAAAAAABeQAAAAAAAgFxAAAAAAADAWkAAAAAAAEBZQAAAAAAAgFhAAAAAAACAWEAAAAAAAEBYQAAAAAAAQFhA",
          "shape": "30, 1"
         },
         "domain": {
          "x": [
           0.0,
           1.0
          ],
          "y": [
           0.0,
           1.0
          ]
         },
         "hovertemplate": "<b>%{label}</b><br>Count: %{value}<extra></extra>",
         "ids": [
          "film",
          "best",
          "music",
          "show",
          "awards",
          "first",
          "actor",
          "star",
          "director",
          "last",
          "band",
          "award",
          "number",
          "two",
          "films",
          "time",
          "top",
          "british",
          "years",
          "bbc",
          "people",
          "three",
          "album",
          "actress",
          "including",
          "oscar",
          "world",
          "singer",
          "made",
          "stars"
         ],
         "labels": [
          "film",
          "best",
          "music",
          "show",
          "awards",
          "first",
          "actor",
          "star",
          "director",
          "last",
          "band",
          "award",
          "number",
          "two",
          "films",
          "time",
          "top",
          "british",
          "years",
          "bbc",
          "people",
          "three",
          "album",
          "actress",
          "including",
          "oscar",
          "world",
          "singer",
          "made",
          "stars"
         ],
         "marker": {
          "coloraxis": "coloraxis",
          "colors": {
           "dtype": "f8",
           "bdata": "AAAAAAA4gUAAAAAAAPB5QAAAAAAAoG5AAAAAAABAa0AAAAAAAIBmQAAAAAAAIGZAAAAAAABgZEAAAAAAAEBjQAAAAAAAIGNAAAAAAAAAY0AAAAAAAOBiQAAAAAAAwGJAAAAAAADAYkAAAAAAACBiQAAAAAAA4GBAAAAAAACAYEAAAAAAAGBgQAAAAAAAQGBAAAAAAABAYEAAAAAAAABgQAAAAAAAgF9AAAAAAADAXkAAAAAAAABeQAAAAAAAgFxAAAAAAADAWkAAAAAAAEBZQAAAAAAAgFhAAAAAAACAWEAAAAAAAEBYQAAAAAAAQFhA"
          }
         },
         "name": "",
         "parents": [
          "",
          "",
          "",
          "",
          "",
          "",
          "",
          "",
          "",
          "",
          "",
          "",
          "",
          "",
          "",
          "",
          "",
          "",
          "",
          "",
          "",
          "",
          "",
          "",
          "",
          "",
          "",
          "",
          "",
          ""
         ],
         "values": {
          "dtype": "f8",
          "bdata": "AAAAAAA4gUAAAAAAAPB5QAAAAAAAoG5AAAAAAABAa0AAAAAAAIBmQAAAAAAAIGZAAAAAAABgZEAAAAAAAEBjQAAAAAAAIGNAAAAAAAAAY0AAAAAAAOBiQAAAAAAAwGJAAAAAAADAYkAAAAAAACBiQAAAAAAA4GBAAAAAAACAYEAAAAAAAGBgQAAAAAAAQGBAAAAAAABAYEAAAAAAAABgQAAAAAAAgF9AAAAAAADAXkAAAAAAAABeQAAAAAAAgFxAAAAAAADAWkAAAAAAAEBZQAAAAAAAgFhAAAAAAACAWEAAAAAAAEBYQAAAAAAAQFhA"
         },
         "type": "treemap",
         "textinfo": "label+value"
        }
       ],
       "layout": {
        "template": {
         "data": {
          "histogram2dcontour": [
           {
            "type": "histogram2dcontour",
            "colorbar": {
             "outlinewidth": 0,
             "ticks": ""
            },
            "colorscale": [
             [
              0.0,
              "#0d0887"
             ],
             [
              0.1111111111111111,
              "#46039f"
             ],
             [
              0.2222222222222222,
              "#7201a8"
             ],
             [
              0.3333333333333333,
              "#9c179e"
             ],
             [
              0.4444444444444444,
              "#bd3786"
             ],
             [
              0.5555555555555556,
              "#d8576b"
             ],
             [
              0.6666666666666666,
              "#ed7953"
             ],
             [
              0.7777777777777778,
              "#fb9f3a"
             ],
             [
              0.8888888888888888,
              "#fdca26"
             ],
             [
              1.0,
              "#f0f921"
             ]
            ]
           }
          ],
          "choropleth": [
           {
            "type": "choropleth",
            "colorbar": {
             "outlinewidth": 0,
             "ticks": ""
            }
           }
          ],
          "histogram2d": [
           {
            "type": "histogram2d",
            "colorbar": {
             "outlinewidth": 0,
             "ticks": ""
            },
            "colorscale": [
             [
              0.0,
              "#0d0887"
             ],
             [
              0.1111111111111111,
              "#46039f"
             ],
             [
              0.2222222222222222,
              "#7201a8"
             ],
             [
              0.3333333333333333,
              "#9c179e"
             ],
             [
              0.4444444444444444,
              "#bd3786"
             ],
             [
              0.5555555555555556,
              "#d8576b"
             ],
             [
              0.6666666666666666,
              "#ed7953"
             ],
             [
              0.7777777777777778,
              "#fb9f3a"
             ],
             [
              0.8888888888888888,
              "#fdca26"
             ],
             [
              1.0,
              "#f0f921"
             ]
            ]
           }
          ],
          "heatmap": [
           {
            "type": "heatmap",
            "colorbar": {
             "outlinewidth": 0,
             "ticks": ""
            },
            "colorscale": [
             [
              0.0,
              "#0d0887"
             ],
             [
              0.1111111111111111,
              "#46039f"
             ],
             [
              0.2222222222222222,
              "#7201a8"
             ],
             [
              0.3333333333333333,
              "#9c179e"
             ],
             [
              0.4444444444444444,
              "#bd3786"
             ],
             [
              0.5555555555555556,
              "#d8576b"
             ],
             [
              0.6666666666666666,
              "#ed7953"
             ],
             [
              0.7777777777777778,
              "#fb9f3a"
             ],
             [
              0.8888888888888888,
              "#fdca26"
             ],
             [
              1.0,
              "#f0f921"
             ]
            ]
           }
          ],
          "contourcarpet": [
           {
            "type": "contourcarpet",
            "colorbar": {
             "outlinewidth": 0,
             "ticks": ""
            }
           }
          ],
          "contour": [
           {
            "type": "contour",
            "colorbar": {
             "outlinewidth": 0,
             "ticks": ""
            },
            "colorscale": [
             [
              0.0,
              "#0d0887"
             ],
             [
              0.1111111111111111,
              "#46039f"
             ],
             [
              0.2222222222222222,
              "#7201a8"
             ],
             [
              0.3333333333333333,
              "#9c179e"
             ],
             [
              0.4444444444444444,
              "#bd3786"
             ],
             [
              0.5555555555555556,
              "#d8576b"
             ],
             [
              0.6666666666666666,
              "#ed7953"
             ],
             [
              0.7777777777777778,
              "#fb9f3a"
             ],
             [
              0.8888888888888888,
              "#fdca26"
             ],
             [
              1.0,
              "#f0f921"
             ]
            ]
           }
          ],
          "surface": [
           {
            "type": "surface",
            "colorbar": {
             "outlinewidth": 0,
             "ticks": ""
            },
            "colorscale": [
             [
              0.0,
              "#0d0887"
             ],
             [
              0.1111111111111111,
              "#46039f"
             ],
             [
              0.2222222222222222,
              "#7201a8"
             ],
             [
              0.3333333333333333,
              "#9c179e"
             ],
             [
              0.4444444444444444,
              "#bd3786"
             ],
             [
              0.5555555555555556,
              "#d8576b"
             ],
             [
              0.6666666666666666,
              "#ed7953"
             ],
             [
              0.7777777777777778,
              "#fb9f3a"
             ],
             [
              0.8888888888888888,
              "#fdca26"
             ],
             [
              1.0,
              "#f0f921"
             ]
            ]
           }
          ],
          "mesh3d": [
           {
            "type": "mesh3d",
            "colorbar": {
             "outlinewidth": 0,
             "ticks": ""
            }
           }
          ],
          "scatter": [
           {
            "marker": {
             "line": {
              "color": "#283442"
             }
            },
            "type": "scatter"
           }
          ],
          "parcoords": [
           {
            "type": "parcoords",
            "line": {
             "colorbar": {
              "outlinewidth": 0,
              "ticks": ""
             }
            }
           }
          ],
          "scatterpolargl": [
           {
            "type": "scatterpolargl",
            "marker": {
             "colorbar": {
              "outlinewidth": 0,
              "ticks": ""
             }
            }
           }
          ],
          "bar": [
           {
            "error_x": {
             "color": "#f2f5fa"
            },
            "error_y": {
             "color": "#f2f5fa"
            },
            "marker": {
             "line": {
              "color": "rgb(17,17,17)",
              "width": 0.5
             },
             "pattern": {
              "fillmode": "overlay",
              "size": 10,
              "solidity": 0.2
             }
            },
            "type": "bar"
           }
          ],
          "scattergeo": [
           {
            "type": "scattergeo",
            "marker": {
             "colorbar": {
              "outlinewidth": 0,
              "ticks": ""
             }
            }
           }
          ],
          "scatterpolar": [
           {
            "type": "scatterpolar",
            "marker": {
             "colorbar": {
              "outlinewidth": 0,
              "ticks": ""
             }
            }
           }
          ],
          "histogram": [
           {
            "marker": {
             "pattern": {
              "fillmode": "overlay",
              "size": 10,
              "solidity": 0.2
             }
            },
            "type": "histogram"
           }
          ],
          "scattergl": [
           {
            "marker": {
             "line": {
              "color": "#283442"
             }
            },
            "type": "scattergl"
           }
          ],
          "scatter3d": [
           {
            "type": "scatter3d",
            "line": {
             "colorbar": {
              "outlinewidth": 0,
              "ticks": ""
             }
            },
            "marker": {
             "colorbar": {
              "outlinewidth": 0,
              "ticks": ""
             }
            }
           }
          ],
          "scattermap": [
           {
            "type": "scattermap",
            "marker": {
             "colorbar": {
              "outlinewidth": 0,
              "ticks": ""
             }
            }
           }
          ],
          "scattermapbox": [
           {
            "type": "scattermapbox",
            "marker": {
             "colorbar": {
              "outlinewidth": 0,
              "ticks": ""
             }
            }
           }
          ],
          "scatterternary": [
           {
            "type": "scatterternary",
            "marker": {
             "colorbar": {
              "outlinewidth": 0,
              "ticks": ""
             }
            }
           }
          ],
          "scattercarpet": [
           {
            "type": "scattercarpet",
            "marker": {
             "colorbar": {
              "outlinewidth": 0,
              "ticks": ""
             }
            }
           }
          ],
          "carpet": [
           {
            "aaxis": {
             "endlinecolor": "#A2B1C6",
             "gridcolor": "#506784",
             "linecolor": "#506784",
             "minorgridcolor": "#506784",
             "startlinecolor": "#A2B1C6"
            },
            "baxis": {
             "endlinecolor": "#A2B1C6",
             "gridcolor": "#506784",
             "linecolor": "#506784",
             "minorgridcolor": "#506784",
             "startlinecolor": "#A2B1C6"
            },
            "type": "carpet"
           }
          ],
          "table": [
           {
            "cells": {
             "fill": {
              "color": "#506784"
             },
             "line": {
              "color": "rgb(17,17,17)"
             }
            },
            "header": {
             "fill": {
              "color": "#2a3f5f"
             },
             "line": {
              "color": "rgb(17,17,17)"
             }
            },
            "type": "table"
           }
          ],
          "barpolar": [
           {
            "marker": {
             "line": {
              "color": "rgb(17,17,17)",
              "width": 0.5
             },
             "pattern": {
              "fillmode": "overlay",
              "size": 10,
              "solidity": 0.2
             }
            },
            "type": "barpolar"
           }
          ],
          "pie": [
           {
            "automargin": true,
            "type": "pie"
           }
          ]
         },
         "layout": {
          "autotypenumbers": "strict",
          "colorway": [
           "#636efa",
           "#EF553B",
           "#00cc96",
           "#ab63fa",
           "#FFA15A",
           "#19d3f3",
           "#FF6692",
           "#B6E880",
           "#FF97FF",
           "#FECB52"
          ],
          "font": {
           "color": "#f2f5fa"
          },
          "hovermode": "closest",
          "hoverlabel": {
           "align": "left"
          },
          "paper_bgcolor": "rgb(17,17,17)",
          "plot_bgcolor": "rgb(17,17,17)",
          "polar": {
           "bgcolor": "rgb(17,17,17)",
           "angularaxis": {
            "gridcolor": "#506784",
            "linecolor": "#506784",
            "ticks": ""
           },
           "radialaxis": {
            "gridcolor": "#506784",
            "linecolor": "#506784",
            "ticks": ""
           }
          },
          "ternary": {
           "bgcolor": "rgb(17,17,17)",
           "aaxis": {
            "gridcolor": "#506784",
            "linecolor": "#506784",
            "ticks": ""
           },
           "baxis": {
            "gridcolor": "#506784",
            "linecolor": "#506784",
            "ticks": ""
           },
           "caxis": {
            "gridcolor": "#506784",
            "linecolor": "#506784",
            "ticks": ""
           }
          },
          "coloraxis": {
           "colorbar": {
            "outlinewidth": 0,
            "ticks": ""
           }
          },
          "colorscale": {
           "sequential": [
            [
             0.0,
             "#0d0887"
            ],
            [
             0.1111111111111111,
             "#46039f"
            ],
            [
             0.2222222222222222,
             "#7201a8"
            ],
            [
             0.3333333333333333,
             "#9c179e"
            ],
            [
             0.4444444444444444,
             "#bd3786"
            ],
            [
             0.5555555555555556,
             "#d8576b"
            ],
            [
             0.6666666666666666,
             "#ed7953"
            ],
            [
             0.7777777777777778,
             "#fb9f3a"
            ],
            [
             0.8888888888888888,
             "#fdca26"
            ],
            [
             1.0,
             "#f0f921"
            ]
           ],
           "sequentialminus": [
            [
             0.0,
             "#0d0887"
            ],
            [
             0.1111111111111111,
             "#46039f"
            ],
            [
             0.2222222222222222,
             "#7201a8"
            ],
            [
             0.3333333333333333,
             "#9c179e"
            ],
            [
             0.4444444444444444,
             "#bd3786"
            ],
            [
             0.5555555555555556,
             "#d8576b"
            ],
            [
             0.6666666666666666,
             "#ed7953"
            ],
            [
             0.7777777777777778,
             "#fb9f3a"
            ],
            [
             0.8888888888888888,
             "#fdca26"
            ],
            [
             1.0,
             "#f0f921"
            ]
           ],
           "diverging": [
            [
             0,
             "#8e0152"
            ],
            [
             0.1,
             "#c51b7d"
            ],
            [
             0.2,
             "#de77ae"
            ],
            [
             0.3,
             "#f1b6da"
            ],
            [
             0.4,
             "#fde0ef"
            ],
            [
             0.5,
             "#f7f7f7"
            ],
            [
             0.6,
             "#e6f5d0"
            ],
            [
             0.7,
             "#b8e186"
            ],
            [
             0.8,
             "#7fbc41"
            ],
            [
             0.9,
             "#4d9221"
            ],
            [
             1,
             "#276419"
            ]
           ]
          },
          "xaxis": {
           "gridcolor": "#283442",
           "linecolor": "#506784",
           "ticks": "",
           "title": {
            "standoff": 15
           },
           "zerolinecolor": "#283442",
           "automargin": true,
           "zerolinewidth": 2
          },
          "yaxis": {
           "gridcolor": "#283442",
           "linecolor": "#506784",
           "ticks": "",
           "title": {
            "standoff": 15
           },
           "zerolinecolor": "#283442",
           "automargin": true,
           "zerolinewidth": 2
          },
          "scene": {
           "xaxis": {
            "backgroundcolor": "rgb(17,17,17)",
            "gridcolor": "#506784",
            "linecolor": "#506784",
            "showbackground": true,
            "ticks": "",
            "zerolinecolor": "#C8D4E3",
            "gridwidth": 2
           },
           "yaxis": {
            "backgroundcolor": "rgb(17,17,17)",
            "gridcolor": "#506784",
            "linecolor": "#506784",
            "showbackground": true,
            "ticks": "",
            "zerolinecolor": "#C8D4E3",
            "gridwidth": 2
           },
           "zaxis": {
            "backgroundcolor": "rgb(17,17,17)",
            "gridcolor": "#506784",
            "linecolor": "#506784",
            "showbackground": true,
            "ticks": "",
            "zerolinecolor": "#C8D4E3",
            "gridwidth": 2
           }
          },
          "shapedefaults": {
           "line": {
            "color": "#f2f5fa"
           }
          },
          "annotationdefaults": {
           "arrowcolor": "#f2f5fa",
           "arrowhead": 0,
           "arrowwidth": 1
          },
          "geo": {
           "bgcolor": "rgb(17,17,17)",
           "landcolor": "rgb(17,17,17)",
           "subunitcolor": "#506784",
           "showland": true,
           "showlakes": true,
           "lakecolor": "rgb(17,17,17)"
          },
          "title": {
           "x": 0.05
          },
          "updatemenudefaults": {
           "bgcolor": "#506784",
           "borderwidth": 0
          },
          "sliderdefaults": {
           "bgcolor": "#C8D4E3",
           "borderwidth": 1,
           "bordercolor": "rgb(17,17,17)",
           "tickwidth": 0
          },
          "mapbox": {
           "style": "dark"
          }
         }
        },
        "coloraxis": {
         "colorbar": {
          "title": {
           "text": "count"
          }
         },
         "colorscale": [
          [
           0.0,
           "rgb(209, 238, 234)"
          ],
          [
           0.16666666666666666,
           "rgb(168, 219, 217)"
          ],
          [
           0.3333333333333333,
           "rgb(133, 196, 201)"
          ],
          [
           0.5,
           "rgb(104, 171, 184)"
          ],
          [
           0.6666666666666666,
           "rgb(79, 144, 166)"
          ],
          [
           0.8333333333333334,
           "rgb(59, 115, 143)"
          ],
          [
           1.0,
           "rgb(42, 86, 116)"
          ]
         ]
        },
        "legend": {
         "tracegroupgap": 0
        },
        "title": {
         "text": "Most Common Words in Entertainment Articles"
        },
        "height": 600,
        "margin": {
         "t": 50,
         "l": 25,
         "r": 25,
         "b": 25
        },
        "font": {
         "size": 14
        }
       },
       "config": {
        "plotlyServerURL": "https://plot.ly"
       }
      }
     },
     "metadata": {},
     "output_type": "display_data"
    }
   ],
   "execution_count": 19
  },
  {
   "metadata": {
    "ExecuteTime": {
     "end_time": "2025-07-30T17:06:18.036294Z",
     "start_time": "2025-07-30T17:06:18.029317Z"
    }
   },
   "cell_type": "code",
   "source": [
    "# Build and Evaluate the model\n",
    "\n",
    "# Helper function to match categories with NMF results\n",
    "def label_permute_compare(ytdf,yp,n=5):\n",
    "    \"\"\"\n",
    "    ytdf: labels dataframe object\n",
    "    yp: clustering label prediction output\n",
    "    Returns permuted label order and accuracy.\n",
    "    Example output: (3, 4, 1, 2, 0), 0.74\n",
    "    \"\"\"\n",
    "    labels = np.unique(ytdf).tolist()  # get labels list from dataframe\n",
    "    print(f\"using labels list: {labels}\")\n",
    "    perms = [list(perm) for perm in itertools.permutations(labels, n)]  # create a list of permutations for the labels\n",
    "\n",
    "    # convert target labels df to array\n",
    "    ytlist = ytdf.iloc[:, 0].to_numpy()\n",
    "\n",
    "    # iterate through the permutations and calculate accuracy\n",
    "    label_acc = []\n",
    "    for perm in perms:\n",
    "        # create an array of labels for the prediction, using the permutation list and the cluster number as the index\n",
    "        yp_labels = np.array(perm)[yp]\n",
    "        # get the accurcy score using the ground truth labels against this iteration of prediction labels\n",
    "        label_acc.append((accuracy_score(ytlist, yp_labels), perm))  #\n",
    "\n",
    "    # get the results with the highest accuracy\n",
    "    best_accuracy = max(label_acc, key=lambda x: x[0])\n",
    "    print(f\"best accuracy: {best_accuracy[0]}\")\n",
    "    print(f\"best class label order (0, 1, 2, 3, 4) = {best_accuracy[1]}\")\n",
    "\n",
    "    # map the best label order back to the original labels list for the permuted label order\n",
    "    indices = [labels.index(label) for label in best_accuracy[1]]\n",
    "    print(f\"index order from starting labels lists: {indices}\\n\")\n",
    "\n",
    "    return tuple(indices), best_accuracy[0]"
   ],
   "id": "975d820477a4a92b",
   "outputs": [],
   "execution_count": 20
  },
  {
   "metadata": {
    "ExecuteTime": {
     "end_time": "2025-07-30T17:06:20.844310Z",
     "start_time": "2025-07-30T17:06:20.840281Z"
    }
   },
   "cell_type": "code",
   "source": [
    "# Build the model\n",
    "\n",
    "# Create TF-IDF vectorizer\n",
    "tfidf_vectorizer = TfidfVectorizer(\n",
    "    min_df=5,\n",
    "    max_df=0.95,\n",
    "    analyzer='word',\n",
    "    ngram_range=(1, 2),\n",
    "    sublinear_tf=True,\n",
    "    token_pattern=r'\\b\\w+\\b'\n",
    ")\n",
    "\n",
    "# Apply NMF with corrected parameters\n",
    "nmf_model = NMF(\n",
    "    n_components=5,\n",
    "    random_state=42,\n",
    "    max_iter=200,\n",
    "    solver='mu',\n",
    "    beta_loss='kullback-leibler',\n",
    "    alpha_H=0.0,\n",
    "    l1_ratio=0.5,\n",
    "    init='nndsvda'\n",
    ")\n",
    "\n",
    "nmf_pipeline = Pipeline([\n",
    "    ('tfidf', tfidf_vectorizer),\n",
    "    ('nmf', nmf_model)\n",
    "])"
   ],
   "id": "5921dd5c4eefea33",
   "outputs": [],
   "execution_count": 21
  },
  {
   "metadata": {
    "ExecuteTime": {
     "end_time": "2025-07-30T17:06:52.002721Z",
     "start_time": "2025-07-30T17:06:49.755227Z"
    }
   },
   "cell_type": "code",
   "source": [
    "# Clean the article text (four options tested)\n",
    "## Simple method, removing common words\n",
    "# bbcnews_train['Text_cleaned'] = bbcnews_train['Text'].apply(lambda text: cleanup_text(text, additional_words=remove_common))\n",
    "#    accuracy = 0.9369, time = 3s\n",
    "## spaCy lemmatizer\n",
    "# bbcnews_train['Text_cleaned'] = bbcnews_train['Text'].apply(lambda text: cleanup_text(text, additional_words=remove_common, method = 'spaCy'))\n",
    "#    accuracy = 0.9368, time = 10m50s\n",
    "## Wordnet lemmatizer with POS tag\n",
    "# bbcnews_train['Text_cleaned'] = bbcnews_train['Text'].apply(lambda text: cleanup_text(text, additional_words=remove_common, method = 'wordnet'))\n",
    "#    accuracy = 0.9563, time = 19s\n",
    "## Snowball stemmer\n",
    "# bbcnews_train['Text_cleaned'] = bbcnews_train['Text'].apply(lambda text: cleanup_text(text, additional_words=remove_common, method = 'snowball'))\n",
    "#    accuracy = 0.9625, time = 5s\n",
    "\n",
    "\n",
    "# Transform the cleaned text\n",
    "X_train = tfidf_vectorizer.fit_transform(bbcnews_train['Text_cleaned'])\n",
    "\n",
    "# Fit the model\n",
    "y_hat_train = nmf_model.fit_transform(X_train)\n",
    "\n",
    "# Extract and display topics\n",
    "print(\"\\nTopics extracted from training data:\")\n",
    "feature_names = tfidf_vectorizer.get_feature_names_out()\n",
    "for topic_idx, topic in enumerate(nmf_model.components_):\n",
    "    top_words_idx = topic.argsort()[:-11:-1]  # Get indices of top 10 words\n",
    "    top_words = [feature_names[i] for i in top_words_idx]\n",
    "    print(f\"Topic #{topic_idx}: {' '.join(top_words)}\")\n",
    "print(\"\\n\")\n",
    "\n",
    "# Assign the dominant topic as the prediction\n",
    "y_pred = y_hat_train.argmax(axis=1)\n",
    "\n",
    "# Get the true categories\n",
    "y_true = pd.DataFrame(bbcnews_train['Category'], columns=['Category'])\n",
    "\n",
    "# Get the category permutation mapping that achieves the highest accuracy for the clusters\n",
    "topic_to_category_idx, accuracy = label_permute_compare(y_true, y_pred, n=5)\n",
    "\n",
    "# Map the predicted topics to category names from the permutation results\n",
    "categories = np.unique(y_true).tolist()\n",
    "category_mapping = {i: categories[idx] for i, idx in enumerate(topic_to_category_idx)}\n",
    "\n",
    "# Convert the topic numbers to category names\n",
    "predicted_categories = [category_mapping[topic] for topic in y_pred]\n",
    "\n",
    "# Add predictions to the training dataframe\n",
    "bbcnews_train['Predicted_Category'] = predicted_categories\n",
    "\n",
    "# Display the training accuracy\n",
    "accuracy = accuracy_score(bbcnews_train['Category'], bbcnews_train['Predicted_Category'])\n",
    "print(f\"Train Accuracy: {accuracy:.4f}\")\n",
    "\n",
    "# Create confusion matrix\n",
    "cm = confusion_matrix(bbcnews_train['Category'], bbcnews_train['Predicted_Category'])\n",
    "\n",
    "# Plot confusion matrix\n",
    "plt.figure(figsize=(10, 8))\n",
    "sns.heatmap(cm, annot=True, fmt='d', cmap='Blues',\n",
    "            xticklabels=categories, yticklabels=categories)\n",
    "plt.title('Confusion Matrix')\n",
    "plt.ylabel('True Category')\n",
    "plt.xlabel('Predicted Category')\n",
    "plt.tight_layout()\n",
    "plt.show()\n"
   ],
   "id": "487ddfa5ef8c1810",
   "outputs": [
    {
     "name": "stdout",
     "output_type": "stream",
     "text": [
      "\n",
      "Topics extracted from training data:\n",
      "Topic #0: people technology users use mobile software internet online phone computer\n",
      "Topic #1: game win england cup team match first players season club\n",
      "Topic #2: government labour election blair party minister prime prime minister people public\n",
      "Topic #3: film best awards star award show actor music films band\n",
      "Topic #4: market company firm growth shares economy bank economic oil financial\n",
      "\n",
      "\n",
      "using labels list: ['business', 'entertainment', 'politics', 'sport', 'tech']\n",
      "best accuracy: 0.9638888888888889\n",
      "best class label order (0, 1, 2, 3, 4) = ['tech', 'sport', 'politics', 'entertainment', 'business']\n",
      "index order from starting labels lists: [4, 3, 2, 1, 0]\n",
      "\n",
      "Train Accuracy: 0.9639\n"
     ]
    },
    {
     "data": {
      "text/plain": [
       "<Figure size 1000x800 with 2 Axes>"
      ],
      "image/png": "[encoded data removed]"
     },
     "metadata": {},
     "output_type": "display_data"
    }
   ],
   "execution_count": 22
  },
  {
   "metadata": {
    "ExecuteTime": {
     "end_time": "2025-07-30T17:10:12.429592Z",
     "start_time": "2025-07-30T17:10:11.601987Z"
    }
   },
   "cell_type": "code",
   "source": [
    "# Generate predictions for Test data set\n",
    "nmf_test = bbcnews_test.copy()\n",
    "\n",
    "# Clean and transform the article text\n",
    "nmf_test['Text_cleaned'] = nmf_test['Text'].apply(lambda text: cleanup_text(text, additional_words=remove_common))\n",
    "X_test = tfidf_vectorizer.transform(nmf_test['Text_cleaned'])\n",
    "\n",
    "# Predict the target category on the Test data set\n",
    "y_hat_test = nmf_model.transform(X_test)\n",
    "y_pred = y_hat_test.argmax(axis=1)\n",
    "predicted_categories = [category_mapping[topic] for topic in y_pred]\n",
    "nmf_test['Category'] = predicted_categories\n",
    "\n",
    "# drop unneeded columns\n",
    "nmf_test = nmf_test.drop(['Text', 'Text_cleaned'], axis=1)\n",
    "nmf_test.head(10)\n"
   ],
   "id": "252c8f01fbb781ba",
   "outputs": [
    {
     "data": {
      "text/plain": [
       "   ArticleId       Category\n",
       "0       1018          sport\n",
       "1       1319           tech\n",
       "2       1138          sport\n",
       "3        459       business\n",
       "4       1020          sport\n",
       "5         51          sport\n",
       "6       2025       politics\n",
       "7       1479       politics\n",
       "8         27  entertainment\n",
       "9        397       business"
      ],
      "text/html": [
       "<div>\n",
       "<style scoped>\n",
       "    .dataframe tbody tr th:only-of-type {\n",
       "        vertical-align: middle;\n",
       "    }\n",
       "\n",
       "    .dataframe tbody tr th {\n",
       "        vertical-align: top;\n",
       "    }\n",
       "\n",
       "    .dataframe thead th {\n",
       "        text-align: right;\n",
       "    }\n",
       "</style>\n",
       "<table border=\"1\" class=\"dataframe\">\n",
       "  <thead>\n",
       "    <tr style=\"text-align: right;\">\n",
       "      <th></th>\n",
       "      <th>ArticleId</th>\n",
       "      <th>Category</th>\n",
       "    </tr>\n",
       "  </thead>\n",
       "  <tbody>\n",
       "    <tr>\n",
       "      <th>0</th>\n",
       "      <td>1018</td>\n",
       "      <td>sport</td>\n",
       "    </tr>\n",
       "    <tr>\n",
       "      <th>1</th>\n",
       "      <td>1319</td>\n",
       "      <td>tech</td>\n",
       "    </tr>\n",
       "    <tr>\n",
       "      <th>2</th>\n",
       "      <td>1138</td>\n",
       "      <td>sport</td>\n",
       "    </tr>\n",
       "    <tr>\n",
       "      <th>3</th>\n",
       "      <td>459</td>\n",
       "      <td>business</td>\n",
       "    </tr>\n",
       "    <tr>\n",
       "      <th>4</th>\n",
       "      <td>1020</td>\n",
       "      <td>sport</td>\n",
       "    </tr>\n",
       "    <tr>\n",
       "      <th>5</th>\n",
       "      <td>51</td>\n",
       "      <td>sport</td>\n",
       "    </tr>\n",
       "    <tr>\n",
       "      <th>6</th>\n",
       "      <td>2025</td>\n",
       "      <td>politics</td>\n",
       "    </tr>\n",
       "    <tr>\n",
       "      <th>7</th>\n",
       "      <td>1479</td>\n",
       "      <td>politics</td>\n",
       "    </tr>\n",
       "    <tr>\n",
       "      <th>8</th>\n",
       "      <td>27</td>\n",
       "      <td>entertainment</td>\n",
       "    </tr>\n",
       "    <tr>\n",
       "      <th>9</th>\n",
       "      <td>397</td>\n",
       "      <td>business</td>\n",
       "    </tr>\n",
       "  </tbody>\n",
       "</table>\n",
       "</div>"
      ]
     },
     "execution_count": 25,
     "metadata": {},
     "output_type": "execute_result"
    }
   ],
   "execution_count": 25
  },
  {
   "metadata": {
    "ExecuteTime": {
     "end_time": "2025-07-30T17:11:50.123138Z",
     "start_time": "2025-07-30T17:11:50.108118Z"
    }
   },
   "cell_type": "code",
   "source": [
    "# save submission\n",
    "try:\n",
    "    nmf_test.to_csv('submission.csv', index=False)\n",
    "except:\n",
    "    ...\n"
   ],
   "id": "2782818515a6ef07",
   "outputs": [],
   "execution_count": 26
  },
  {
   "metadata": {},
   "cell_type": "code",
   "outputs": [],
   "execution_count": null,
   "source": "",
   "id": "df93e0f5b31de51e"
  }
 ],
 "metadata": {
  "kernelspec": {
   "display_name": "Python 3",
   "language": "python",
   "name": "python3"
  },
  "language_info": {
   "codemirror_mode": {
    "name": "ipython",
    "version": 2
   },
   "file_extension": ".py",
   "mimetype": "text/x-python",
   "name": "python",
   "nbconvert_exporter": "python",
   "pygments_lexer": "ipython2",
   "version": "2.7.6"
  }
 },
 "nbformat": 4,
 "nbformat_minor": 5
}
