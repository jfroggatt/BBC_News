{
 "cells": [
  {
   "cell_type": "markdown",
   "id": "eaf9b590",
   "metadata": {
    "papermill": {
     "duration": 0.013673,
     "end_time": "2025-08-03T18:16:47.202244",
     "exception": false,
     "start_time": "2025-08-03T18:16:47.188571",
     "status": "completed"
    },
    "tags": []
   },
   "source": [
    "## BBC News Classification with NMF Project\n",
    "\n",
    "University of Colorado, Boulder - CSCA 5632: Unsupervised Algorithms in Machine Learning\n",
    "\n",
    "### Project\n",
    "\n",
    "This project is about categorizing the BBC News articles using matrix factorization to predict the category. The project will work to follow a typical machine learning project, with an exception that the specific unsupervised model, Non-negative Matrix Factorization (NMF), is already determined. After evaluations have been perfomed for the NMF model, the project will then select and compare the performance for against a supervised model. The guidelines for this project are as follows:\n",
    "\n",
    "#### Step 1. Exploratory Data Analysis\n",
    "\n",
    "In this section we will inspect, visualize, and clean the data. As part of the process, we will also select a word embedding method and review associated visualizations and statistics. Following a review of the EDA, we will then generate a plan for the analysis, including data cleaning, preprocessing, and feature engineering steps.\n",
    "\n",
    "#### Step 2. Building and training the unsupervised model\n",
    "\n",
    "In this section we will build a model using the Non-negative Matrix Factorization method and predict train and test data labels. The model's performance across various hyperparameter configurations will be evaluated to determine the optimal configuration. The performance will be inpected through results of the accuracy score and confusion matrix. Finally, we may look at additional methods to improve the final model performance.\n",
    "\n",
    "#### Step 3. Compare with supervised learning\n",
    "\n",
    "In this section we will evaluate and select a supervised model to generate the predicted category and compare the test results with the NMF model. This comparison will also include an evaluation of how each model performs based on the size of the training data.\n",
    "\n",
    "#### Step 4. Project Report and Conclusion\n",
    "\n",
    "Finally, we will evaluate the project results."
   ]
  },
  {
   "cell_type": "markdown",
   "id": "29767e28",
   "metadata": {
    "papermill": {
     "duration": 0.011818,
     "end_time": "2025-08-03T18:16:47.225588",
     "exception": false,
     "start_time": "2025-08-03T18:16:47.213770",
     "status": "completed"
    },
    "tags": []
   },
   "source": [
    "Import the necessary libraries"
   ]
  },
  {
   "cell_type": "code",
   "execution_count": 1,
   "id": "0a3d721c",
   "metadata": {
    "ExecuteTime": {
     "end_time": "2025-08-02T17:03:40.100065Z",
     "start_time": "2025-08-02T17:03:38.580898Z"
    },
    "execution": {
     "iopub.execute_input": "2025-08-03T18:16:47.249559Z",
     "iopub.status.busy": "2025-08-03T18:16:47.249129Z",
     "iopub.status.idle": "2025-08-03T18:16:54.055442Z",
     "shell.execute_reply": "2025-08-03T18:16:54.054347Z"
    },
    "papermill": {
     "duration": 6.820319,
     "end_time": "2025-08-03T18:16:54.057054",
     "exception": false,
     "start_time": "2025-08-03T18:16:47.236735",
     "status": "completed"
    },
    "tags": []
   },
   "outputs": [
    {
     "name": "stderr",
     "output_type": "stream",
     "text": [
      "[nltk_data] Downloading package wordnet to /usr/share/nltk_data...\n",
      "[nltk_data]   Package wordnet is already up-to-date!\n",
      "[nltk_data] Downloading package averaged_perceptron_tagger_eng to\n",
      "[nltk_data]     /usr/share/nltk_data...\n",
      "[nltk_data]   Unzipping taggers/averaged_perceptron_tagger_eng.zip.\n"
     ]
    },
    {
     "data": {
      "text/plain": [
       "True"
      ]
     },
     "execution_count": 1,
     "metadata": {},
     "output_type": "execute_result"
    }
   ],
   "source": [
    "from collections import Counter\n",
    "import itertools\n",
    "import numpy as np\n",
    "import os\n",
    "import pandas as pd\n",
    "import re\n",
    "\n",
    "import matplotlib.pyplot as plt\n",
    "import plotly.express as px\n",
    "import seaborn as sns\n",
    "\n",
    "import nltk\n",
    "from nltk import pos_tag\n",
    "from nltk.corpus import stopwords, wordnet\n",
    "from nltk.stem import SnowballStemmer, WordNetLemmatizer\n",
    "from sklearn.base import BaseEstimator, TransformerMixin, clone\n",
    "from sklearn.calibration import CalibratedClassifierCV\n",
    "from sklearn.decomposition import NMF\n",
    "from sklearn.ensemble import RandomForestClassifier, VotingClassifier\n",
    "from sklearn.feature_extraction.text import TfidfVectorizer\n",
    "from sklearn.linear_model import LogisticRegression\n",
    "from sklearn.metrics import accuracy_score, confusion_matrix, classification_report, make_scorer\n",
    "from sklearn.model_selection import train_test_split, GridSearchCV, StratifiedKFold\n",
    "from sklearn.pipeline import Pipeline\n",
    "from sklearn.svm import LinearSVC\n",
    "\n",
    "# Download the following required data resources if not already downloaded and needed\n",
    "\n",
    "# NLTK stopwords\n",
    "nltk.download('stopwords', quiet=True)\n",
    "\n",
    "# If using WordNetLemmatizer with POS tag support, you'll need the following NLTK data sets\n",
    "nltk.download('wordnet')\n",
    "nltk.download('averaged_perceptron_tagger_eng')\n",
    "\n",
    "# If using the spaCy lemmatizer, you'll need the following spaCy data set downloaded\n",
    "#  for spaCy english words:\n",
    "# !python -m spacy download en_core_web_sm\n"
   ]
  },
  {
   "cell_type": "code",
   "execution_count": 2,
   "id": "e8c2f767",
   "metadata": {
    "ExecuteTime": {
     "end_time": "2025-08-02T17:03:43.752357Z",
     "start_time": "2025-08-02T17:03:43.744361Z"
    },
    "execution": {
     "iopub.execute_input": "2025-08-03T18:16:54.081715Z",
     "iopub.status.busy": "2025-08-03T18:16:54.081129Z",
     "iopub.status.idle": "2025-08-03T18:16:54.089347Z",
     "shell.execute_reply": "2025-08-03T18:16:54.088507Z"
    },
    "papermill": {
     "duration": 0.022011,
     "end_time": "2025-08-03T18:16:54.090677",
     "exception": false,
     "start_time": "2025-08-03T18:16:54.068666",
     "status": "completed"
    },
    "tags": []
   },
   "outputs": [
    {
     "name": "stdout",
     "output_type": "stream",
     "text": [
      "/kaggle/input/learn-ai-bbc/BBC News Train.csv\n",
      "/kaggle/input/learn-ai-bbc/BBC News Sample Solution.csv\n",
      "/kaggle/input/learn-ai-bbc/BBC News Test.csv\n"
     ]
    }
   ],
   "source": [
    "# list project data files\n",
    "for dirname, _, filenames in os.walk('/kaggle/input'):\n",
    "    for filename in filenames:\n",
    "        print(os.path.join(dirname, filename))"
   ]
  },
  {
   "cell_type": "markdown",
   "id": "933c86db",
   "metadata": {
    "papermill": {
     "duration": 0.011061,
     "end_time": "2025-08-03T18:16:54.113248",
     "exception": false,
     "start_time": "2025-08-03T18:16:54.102187",
     "status": "completed"
    },
    "tags": []
   },
   "source": [
    "### Load the data files"
   ]
  },
  {
   "cell_type": "code",
   "execution_count": 3,
   "id": "b3473dd1",
   "metadata": {
    "ExecuteTime": {
     "end_time": "2025-08-02T17:03:46.322954Z",
     "start_time": "2025-08-02T17:03:46.206813Z"
    },
    "execution": {
     "iopub.execute_input": "2025-08-03T18:16:54.137282Z",
     "iopub.status.busy": "2025-08-03T18:16:54.136961Z",
     "iopub.status.idle": "2025-08-03T18:16:54.357523Z",
     "shell.execute_reply": "2025-08-03T18:16:54.356661Z"
    },
    "papermill": {
     "duration": 0.234594,
     "end_time": "2025-08-03T18:16:54.359211",
     "exception": false,
     "start_time": "2025-08-03T18:16:54.124617",
     "status": "completed"
    },
    "tags": []
   },
   "outputs": [],
   "source": [
    "bbcnews_train = pd.read_csv('/kaggle/input/learn-ai-bbc/BBC News Train.csv')\n",
    "bbcnews_test = pd.read_csv('/kaggle/input/learn-ai-bbc/BBC News Test.csv')\n",
    "submission_sample = pd.read_csv('/kaggle/input/learn-ai-bbc/BBC News Sample Solution.csv')"
   ]
  },
  {
   "cell_type": "markdown",
   "id": "09d57379",
   "metadata": {
    "papermill": {
     "duration": 0.011113,
     "end_time": "2025-08-03T18:16:54.381807",
     "exception": false,
     "start_time": "2025-08-03T18:16:54.370694",
     "status": "completed"
    },
    "tags": []
   },
   "source": [
    "### Step 1. Exploratory Data Analysis (EDA)"
   ]
  },
  {
   "cell_type": "markdown",
   "id": "b6ff20b8",
   "metadata": {
    "papermill": {
     "duration": 0.011104,
     "end_time": "2025-08-03T18:16:54.404357",
     "exception": false,
     "start_time": "2025-08-03T18:16:54.393253",
     "status": "completed"
    },
    "tags": []
   },
   "source": [
    "#### Examine data sets\n",
    "\n",
    "Let's take a look at the train, test, and sample submission data sets"
   ]
  },
  {
   "cell_type": "code",
   "execution_count": 4,
   "id": "c965eba6",
   "metadata": {
    "ExecuteTime": {
     "end_time": "2025-08-02T17:03:49.809986Z",
     "start_time": "2025-08-02T17:03:49.771662Z"
    },
    "execution": {
     "iopub.execute_input": "2025-08-03T18:16:54.428421Z",
     "iopub.status.busy": "2025-08-03T18:16:54.428077Z",
     "iopub.status.idle": "2025-08-03T18:16:54.474169Z",
     "shell.execute_reply": "2025-08-03T18:16:54.473429Z"
    },
    "papermill": {
     "duration": 0.059739,
     "end_time": "2025-08-03T18:16:54.475622",
     "exception": false,
     "start_time": "2025-08-03T18:16:54.415883",
     "status": "completed"
    },
    "tags": []
   },
   "outputs": [
    {
     "name": "stdout",
     "output_type": "stream",
     "text": [
      "Train data set: (1490, 3)\n",
      "\n",
      "<class 'pandas.core.frame.DataFrame'>\n",
      "RangeIndex: 1490 entries, 0 to 1489\n",
      "Data columns (total 3 columns):\n",
      " #   Column     Non-Null Count  Dtype \n",
      "---  ------     --------------  ----- \n",
      " 0   ArticleId  1490 non-null   int64 \n",
      " 1   Text       1490 non-null   object\n",
      " 2   Category   1490 non-null   object\n",
      "dtypes: int64(1), object(2)\n",
      "memory usage: 35.1+ KB\n",
      "None\n"
     ]
    },
    {
     "data": {
      "text/html": [
       "<div>\n",
       "<style scoped>\n",
       "    .dataframe tbody tr th:only-of-type {\n",
       "        vertical-align: middle;\n",
       "    }\n",
       "\n",
       "    .dataframe tbody tr th {\n",
       "        vertical-align: top;\n",
       "    }\n",
       "\n",
       "    .dataframe thead th {\n",
       "        text-align: right;\n",
       "    }\n",
       "</style>\n",
       "<table border=\"1\" class=\"dataframe\">\n",
       "  <thead>\n",
       "    <tr style=\"text-align: right;\">\n",
       "      <th></th>\n",
       "      <th>ArticleId</th>\n",
       "      <th>Text</th>\n",
       "      <th>Category</th>\n",
       "    </tr>\n",
       "  </thead>\n",
       "  <tbody>\n",
       "    <tr>\n",
       "      <th>0</th>\n",
       "      <td>1833</td>\n",
       "      <td>worldcom ex-boss launches defence lawyers defe...</td>\n",
       "      <td>business</td>\n",
       "    </tr>\n",
       "    <tr>\n",
       "      <th>1</th>\n",
       "      <td>154</td>\n",
       "      <td>german business confidence slides german busin...</td>\n",
       "      <td>business</td>\n",
       "    </tr>\n",
       "    <tr>\n",
       "      <th>2</th>\n",
       "      <td>1101</td>\n",
       "      <td>bbc poll indicates economic gloom citizens in ...</td>\n",
       "      <td>business</td>\n",
       "    </tr>\n",
       "    <tr>\n",
       "      <th>3</th>\n",
       "      <td>1976</td>\n",
       "      <td>lifestyle  governs mobile choice  faster  bett...</td>\n",
       "      <td>tech</td>\n",
       "    </tr>\n",
       "    <tr>\n",
       "      <th>4</th>\n",
       "      <td>917</td>\n",
       "      <td>enron bosses in $168m payout eighteen former e...</td>\n",
       "      <td>business</td>\n",
       "    </tr>\n",
       "  </tbody>\n",
       "</table>\n",
       "</div>"
      ],
      "text/plain": [
       "   ArticleId                                               Text  Category\n",
       "0       1833  worldcom ex-boss launches defence lawyers defe...  business\n",
       "1        154  german business confidence slides german busin...  business\n",
       "2       1101  bbc poll indicates economic gloom citizens in ...  business\n",
       "3       1976  lifestyle  governs mobile choice  faster  bett...      tech\n",
       "4        917  enron bosses in $168m payout eighteen former e...  business"
      ]
     },
     "execution_count": 4,
     "metadata": {},
     "output_type": "execute_result"
    }
   ],
   "source": [
    "print(f'Train data set: {bbcnews_train.shape}\\n')\n",
    "print(bbcnews_train.info())\n",
    "bbcnews_train.head()"
   ]
  },
  {
   "cell_type": "code",
   "execution_count": 5,
   "id": "7cb82e86",
   "metadata": {
    "ExecuteTime": {
     "end_time": "2025-08-02T17:03:51.358728Z",
     "start_time": "2025-08-02T17:03:51.346837Z"
    },
    "execution": {
     "iopub.execute_input": "2025-08-03T18:16:54.500946Z",
     "iopub.status.busy": "2025-08-03T18:16:54.500629Z",
     "iopub.status.idle": "2025-08-03T18:16:54.515354Z",
     "shell.execute_reply": "2025-08-03T18:16:54.514423Z"
    },
    "papermill": {
     "duration": 0.029341,
     "end_time": "2025-08-03T18:16:54.516825",
     "exception": false,
     "start_time": "2025-08-03T18:16:54.487484",
     "status": "completed"
    },
    "tags": []
   },
   "outputs": [
    {
     "name": "stdout",
     "output_type": "stream",
     "text": [
      "Test data set: (735, 2)\n",
      "\n",
      "<class 'pandas.core.frame.DataFrame'>\n",
      "RangeIndex: 735 entries, 0 to 734\n",
      "Data columns (total 2 columns):\n",
      " #   Column     Non-Null Count  Dtype \n",
      "---  ------     --------------  ----- \n",
      " 0   ArticleId  735 non-null    int64 \n",
      " 1   Text       735 non-null    object\n",
      "dtypes: int64(1), object(1)\n",
      "memory usage: 11.6+ KB\n",
      "None\n"
     ]
    },
    {
     "data": {
      "text/html": [
       "<div>\n",
       "<style scoped>\n",
       "    .dataframe tbody tr th:only-of-type {\n",
       "        vertical-align: middle;\n",
       "    }\n",
       "\n",
       "    .dataframe tbody tr th {\n",
       "        vertical-align: top;\n",
       "    }\n",
       "\n",
       "    .dataframe thead th {\n",
       "        text-align: right;\n",
       "    }\n",
       "</style>\n",
       "<table border=\"1\" class=\"dataframe\">\n",
       "  <thead>\n",
       "    <tr style=\"text-align: right;\">\n",
       "      <th></th>\n",
       "      <th>ArticleId</th>\n",
       "      <th>Text</th>\n",
       "    </tr>\n",
       "  </thead>\n",
       "  <tbody>\n",
       "    <tr>\n",
       "      <th>0</th>\n",
       "      <td>1018</td>\n",
       "      <td>qpr keeper day heads for preston queens park r...</td>\n",
       "    </tr>\n",
       "    <tr>\n",
       "      <th>1</th>\n",
       "      <td>1319</td>\n",
       "      <td>software watching while you work software that...</td>\n",
       "    </tr>\n",
       "    <tr>\n",
       "      <th>2</th>\n",
       "      <td>1138</td>\n",
       "      <td>d arcy injury adds to ireland woe gordon d arc...</td>\n",
       "    </tr>\n",
       "    <tr>\n",
       "      <th>3</th>\n",
       "      <td>459</td>\n",
       "      <td>india s reliance family feud heats up the ongo...</td>\n",
       "    </tr>\n",
       "    <tr>\n",
       "      <th>4</th>\n",
       "      <td>1020</td>\n",
       "      <td>boro suffer morrison injury blow middlesbrough...</td>\n",
       "    </tr>\n",
       "  </tbody>\n",
       "</table>\n",
       "</div>"
      ],
      "text/plain": [
       "   ArticleId                                               Text\n",
       "0       1018  qpr keeper day heads for preston queens park r...\n",
       "1       1319  software watching while you work software that...\n",
       "2       1138  d arcy injury adds to ireland woe gordon d arc...\n",
       "3        459  india s reliance family feud heats up the ongo...\n",
       "4       1020  boro suffer morrison injury blow middlesbrough..."
      ]
     },
     "execution_count": 5,
     "metadata": {},
     "output_type": "execute_result"
    }
   ],
   "source": [
    "print(f'Test data set: {bbcnews_test.shape}\\n')\n",
    "print(bbcnews_test.info())\n",
    "bbcnews_test.head()"
   ]
  },
  {
   "cell_type": "code",
   "execution_count": 6,
   "id": "84ca958f",
   "metadata": {
    "ExecuteTime": {
     "end_time": "2025-08-02T17:03:52.547535Z",
     "start_time": "2025-08-02T17:03:52.533366Z"
    },
    "execution": {
     "iopub.execute_input": "2025-08-03T18:16:54.541740Z",
     "iopub.status.busy": "2025-08-03T18:16:54.541421Z",
     "iopub.status.idle": "2025-08-03T18:16:54.552660Z",
     "shell.execute_reply": "2025-08-03T18:16:54.551829Z"
    },
    "papermill": {
     "duration": 0.025108,
     "end_time": "2025-08-03T18:16:54.553977",
     "exception": false,
     "start_time": "2025-08-03T18:16:54.528869",
     "status": "completed"
    },
    "tags": []
   },
   "outputs": [
    {
     "name": "stdout",
     "output_type": "stream",
     "text": [
      "Sample submission data set: (735, 2)\n",
      "\n"
     ]
    },
    {
     "data": {
      "text/html": [
       "<div>\n",
       "<style scoped>\n",
       "    .dataframe tbody tr th:only-of-type {\n",
       "        vertical-align: middle;\n",
       "    }\n",
       "\n",
       "    .dataframe tbody tr th {\n",
       "        vertical-align: top;\n",
       "    }\n",
       "\n",
       "    .dataframe thead th {\n",
       "        text-align: right;\n",
       "    }\n",
       "</style>\n",
       "<table border=\"1\" class=\"dataframe\">\n",
       "  <thead>\n",
       "    <tr style=\"text-align: right;\">\n",
       "      <th></th>\n",
       "      <th>ArticleId</th>\n",
       "      <th>Category</th>\n",
       "    </tr>\n",
       "  </thead>\n",
       "  <tbody>\n",
       "    <tr>\n",
       "      <th>0</th>\n",
       "      <td>1018</td>\n",
       "      <td>sport</td>\n",
       "    </tr>\n",
       "    <tr>\n",
       "      <th>1</th>\n",
       "      <td>1319</td>\n",
       "      <td>tech</td>\n",
       "    </tr>\n",
       "    <tr>\n",
       "      <th>2</th>\n",
       "      <td>1138</td>\n",
       "      <td>business</td>\n",
       "    </tr>\n",
       "    <tr>\n",
       "      <th>3</th>\n",
       "      <td>459</td>\n",
       "      <td>entertainment</td>\n",
       "    </tr>\n",
       "    <tr>\n",
       "      <th>4</th>\n",
       "      <td>1020</td>\n",
       "      <td>politics</td>\n",
       "    </tr>\n",
       "    <tr>\n",
       "      <th>...</th>\n",
       "      <td>...</td>\n",
       "      <td>...</td>\n",
       "    </tr>\n",
       "    <tr>\n",
       "      <th>730</th>\n",
       "      <td>1923</td>\n",
       "      <td>sport</td>\n",
       "    </tr>\n",
       "    <tr>\n",
       "      <th>731</th>\n",
       "      <td>373</td>\n",
       "      <td>tech</td>\n",
       "    </tr>\n",
       "    <tr>\n",
       "      <th>732</th>\n",
       "      <td>1704</td>\n",
       "      <td>business</td>\n",
       "    </tr>\n",
       "    <tr>\n",
       "      <th>733</th>\n",
       "      <td>206</td>\n",
       "      <td>entertainment</td>\n",
       "    </tr>\n",
       "    <tr>\n",
       "      <th>734</th>\n",
       "      <td>471</td>\n",
       "      <td>politics</td>\n",
       "    </tr>\n",
       "  </tbody>\n",
       "</table>\n",
       "<p>735 rows × 2 columns</p>\n",
       "</div>"
      ],
      "text/plain": [
       "     ArticleId       Category\n",
       "0         1018          sport\n",
       "1         1319           tech\n",
       "2         1138       business\n",
       "3          459  entertainment\n",
       "4         1020       politics\n",
       "..         ...            ...\n",
       "730       1923          sport\n",
       "731        373           tech\n",
       "732       1704       business\n",
       "733        206  entertainment\n",
       "734        471       politics\n",
       "\n",
       "[735 rows x 2 columns]"
      ]
     },
     "execution_count": 6,
     "metadata": {},
     "output_type": "execute_result"
    }
   ],
   "source": [
    "print(f'Sample submission data set: {submission_sample.shape}\\n')\n",
    "submission_sample"
   ]
  },
  {
   "cell_type": "markdown",
   "id": "33d59688",
   "metadata": {
    "papermill": {
     "duration": 0.011801,
     "end_time": "2025-08-03T18:16:54.577951",
     "exception": false,
     "start_time": "2025-08-03T18:16:54.566150",
     "status": "completed"
    },
    "tags": []
   },
   "source": [
    "Confirmed that the training data has 1490 rows, containing no NaN/None/null values, and the following three columns:\n",
    "* ArticleId - Article id, unique # given to the record\n",
    "* Text - text of the header and article\n",
    "* Category - cateogry of the article (tech, business, sport, entertainment, politics)\n",
    "\n",
    "The test set has 735 rows, containing no NaN/None/null values, with the ArticleId and Text data, without the Category label. This is the data set that will be used for the submission.\n",
    "\n",
    "The sample submission format inclcudes only the ArticleId and predicted Category."
   ]
  },
  {
   "cell_type": "markdown",
   "id": "fa8697b3",
   "metadata": {
    "papermill": {
     "duration": 0.012974,
     "end_time": "2025-08-03T18:16:54.665965",
     "exception": false,
     "start_time": "2025-08-03T18:16:54.652991",
     "status": "completed"
    },
    "tags": []
   },
   "source": [
    "#### Explore distributions of data by category"
   ]
  },
  {
   "cell_type": "code",
   "execution_count": 7,
   "id": "e82acbc7",
   "metadata": {
    "ExecuteTime": {
     "end_time": "2025-08-02T17:04:00.352753Z",
     "start_time": "2025-08-02T17:04:00.334869Z"
    },
    "execution": {
     "iopub.execute_input": "2025-08-03T18:16:54.691930Z",
     "iopub.status.busy": "2025-08-03T18:16:54.691647Z",
     "iopub.status.idle": "2025-08-03T18:16:54.701637Z",
     "shell.execute_reply": "2025-08-03T18:16:54.700796Z"
    },
    "papermill": {
     "duration": 0.024788,
     "end_time": "2025-08-03T18:16:54.702972",
     "exception": false,
     "start_time": "2025-08-03T18:16:54.678184",
     "status": "completed"
    },
    "tags": []
   },
   "outputs": [
    {
     "data": {
      "text/html": [
       "<div>\n",
       "<style scoped>\n",
       "    .dataframe tbody tr th:only-of-type {\n",
       "        vertical-align: middle;\n",
       "    }\n",
       "\n",
       "    .dataframe tbody tr th {\n",
       "        vertical-align: top;\n",
       "    }\n",
       "\n",
       "    .dataframe thead th {\n",
       "        text-align: right;\n",
       "    }\n",
       "</style>\n",
       "<table border=\"1\" class=\"dataframe\">\n",
       "  <thead>\n",
       "    <tr style=\"text-align: right;\">\n",
       "      <th></th>\n",
       "      <th>ArticleId</th>\n",
       "      <th>Text</th>\n",
       "    </tr>\n",
       "    <tr>\n",
       "      <th>Category</th>\n",
       "      <th></th>\n",
       "      <th></th>\n",
       "    </tr>\n",
       "  </thead>\n",
       "  <tbody>\n",
       "    <tr>\n",
       "      <th>business</th>\n",
       "      <td>336</td>\n",
       "      <td>336</td>\n",
       "    </tr>\n",
       "    <tr>\n",
       "      <th>entertainment</th>\n",
       "      <td>273</td>\n",
       "      <td>273</td>\n",
       "    </tr>\n",
       "    <tr>\n",
       "      <th>politics</th>\n",
       "      <td>274</td>\n",
       "      <td>274</td>\n",
       "    </tr>\n",
       "    <tr>\n",
       "      <th>sport</th>\n",
       "      <td>346</td>\n",
       "      <td>346</td>\n",
       "    </tr>\n",
       "    <tr>\n",
       "      <th>tech</th>\n",
       "      <td>261</td>\n",
       "      <td>261</td>\n",
       "    </tr>\n",
       "  </tbody>\n",
       "</table>\n",
       "</div>"
      ],
      "text/plain": [
       "               ArticleId  Text\n",
       "Category                      \n",
       "business             336   336\n",
       "entertainment        273   273\n",
       "politics             274   274\n",
       "sport                346   346\n",
       "tech                 261   261"
      ]
     },
     "execution_count": 7,
     "metadata": {},
     "output_type": "execute_result"
    }
   ],
   "source": [
    "# list categories and count for each\n",
    "bbcnews_train.groupby('Category').count()"
   ]
  },
  {
   "cell_type": "markdown",
   "id": "865167a6",
   "metadata": {
    "papermill": {
     "duration": 0.011962,
     "end_time": "2025-08-03T18:16:54.727395",
     "exception": false,
     "start_time": "2025-08-03T18:16:54.715433",
     "status": "completed"
    },
    "tags": []
   },
   "source": [
    "#### Let's generate some visualizations"
   ]
  },
  {
   "cell_type": "code",
   "execution_count": 8,
   "id": "2e6d65ea",
   "metadata": {
    "ExecuteTime": {
     "end_time": "2025-08-02T17:04:03.124598Z",
     "start_time": "2025-08-02T17:04:02.800478Z"
    },
    "execution": {
     "iopub.execute_input": "2025-08-03T18:16:54.753263Z",
     "iopub.status.busy": "2025-08-03T18:16:54.752966Z",
     "iopub.status.idle": "2025-08-03T18:16:55.194407Z",
     "shell.execute_reply": "2025-08-03T18:16:55.193487Z"
    },
    "papermill": {
     "duration": 0.456309,
     "end_time": "2025-08-03T18:16:55.195996",
     "exception": false,
     "start_time": "2025-08-03T18:16:54.739687",
     "status": "completed"
    },
    "tags": []
   },
   "outputs": [
    {
     "data": {
      "image/png": "[encoded data removed]",
      "text/plain": [
       "<Figure size 1000x600 with 1 Axes>"
      ]
     },
     "metadata": {},
     "output_type": "display_data"
    }
   ],
   "source": [
    "# Plot the number of articles in each category\n",
    "\n",
    "# Get counts by categorry\n",
    "category_counts = bbcnews_train['Category'].value_counts()\n",
    "\n",
    "# Create a bar plot\n",
    "plt.figure(figsize=(10, 6))\n",
    "ax = category_counts.plot(kind='bar', color='steelblue')\n",
    "\n",
    "# Add horizontal lines for mean and median\n",
    "mean_count = category_counts.mean()\n",
    "median_count = category_counts.median()\n",
    "ax.axhline(y=mean_count, color='red', linestyle='--', linewidth=1.5, label=f'Mean: {mean_count:.1f}')\n",
    "ax.axhline(y=median_count, color='green', linestyle=':', linewidth=1.5, label=f'Median: {median_count:.1f}')\n",
    "\n",
    "plt.title('Number of BBC News Articles by Category', fontsize=16)\n",
    "plt.xlabel('Category', fontsize=14)\n",
    "plt.ylabel('Number of Articles', fontsize=14)\n",
    "plt.xticks(rotation=45)\n",
    "plt.grid(axis='y', linestyle='--', alpha=0.7)\n",
    "plt.legend()\n",
    "\n",
    "# Add the counts on top of each bar\n",
    "for i, category_count in enumerate(category_counts):\n",
    "    plt.text(i, category_count + 5, str(category_count), ha='center', fontweight='bold')\n",
    "\n",
    "plt.tight_layout()\n",
    "plt.show()\n"
   ]
  },
  {
   "cell_type": "code",
   "execution_count": 9,
   "id": "b7842da8",
   "metadata": {
    "ExecuteTime": {
     "end_time": "2025-08-02T17:04:05.808215Z",
     "start_time": "2025-08-02T17:04:05.377888Z"
    },
    "execution": {
     "iopub.execute_input": "2025-08-03T18:16:55.226182Z",
     "iopub.status.busy": "2025-08-03T18:16:55.225885Z",
     "iopub.status.idle": "2025-08-03T18:16:55.575322Z",
     "shell.execute_reply": "2025-08-03T18:16:55.574413Z"
    },
    "papermill": {
     "duration": 0.365762,
     "end_time": "2025-08-03T18:16:55.577035",
     "exception": false,
     "start_time": "2025-08-03T18:16:55.211273",
     "status": "completed"
    },
    "tags": []
   },
   "outputs": [
    {
     "data": {
      "image/png": "[encoded data removed]",
      "text/plain": [
       "<Figure size 1200x600 with 1 Axes>"
      ]
     },
     "metadata": {},
     "output_type": "display_data"
    }
   ],
   "source": [
    "# Distribution of article length by category\n",
    "\n",
    "# Calculate the length for each article\n",
    "bbcnews_train['text_length'] = bbcnews_train['Text'].apply(len)\n",
    "\n",
    "# Create a box plot to compare text length by category\n",
    "category_colors = {\n",
    "    'business': '#1f77b4',      # blue\n",
    "    'entertainment': '#ff7f0e', # orange\n",
    "    'politics': '#2ca02c',      # green\n",
    "    'sport': '#d62728',         # red\n",
    "    'tech': '#9467bd'           # purple\n",
    "}\n",
    "plt.figure(figsize=(12, 6))\n",
    "sns.boxplot(x='Category', y='text_length', data=bbcnews_train, palette=category_colors, hue='Category')\n",
    "plt.title('Distribution of Text Length by Category', fontsize=14)\n",
    "plt.xlabel('Category', fontsize=12)\n",
    "plt.ylabel('Text Length (characters)', fontsize=12)\n",
    "plt.grid(axis='y', alpha=0.3)\n",
    "plt.xticks(rotation=45)\n",
    "\n",
    "plt.tight_layout()\n",
    "plt.show()"
   ]
  },
  {
   "cell_type": "code",
   "execution_count": 10,
   "id": "ea87d76d",
   "metadata": {
    "ExecuteTime": {
     "end_time": "2025-08-02T17:04:08.404902Z",
     "start_time": "2025-08-02T17:04:08.159214Z"
    },
    "execution": {
     "iopub.execute_input": "2025-08-03T18:16:55.607502Z",
     "iopub.status.busy": "2025-08-03T18:16:55.607144Z",
     "iopub.status.idle": "2025-08-03T18:16:55.973452Z",
     "shell.execute_reply": "2025-08-03T18:16:55.972595Z"
    },
    "papermill": {
     "duration": 0.383157,
     "end_time": "2025-08-03T18:16:55.975050",
     "exception": false,
     "start_time": "2025-08-03T18:16:55.591893",
     "status": "completed"
    },
    "tags": []
   },
   "outputs": [
    {
     "data": {
      "image/png": "[encoded data removed]",
      "text/plain": [
       "<Figure size 1200x600 with 1 Axes>"
      ]
     },
     "metadata": {},
     "output_type": "display_data"
    }
   ],
   "source": [
    "# Plot the distribution of word counts\n",
    "\n",
    "# Calculate the word count for each article\n",
    "bbcnews_train['word_count'] = bbcnews_train['Text'].apply(lambda x: len(str(x).split()))\n",
    "\n",
    "plt.figure(figsize=(12, 6))\n",
    "sns.boxplot(x='Category', y='word_count', data=bbcnews_train, palette=category_colors, hue='Category')\n",
    "plt.title('Distribution of Word Count by Category', fontsize=14)\n",
    "plt.xlabel('Category', fontsize=12)\n",
    "plt.ylabel('Word Count', fontsize=12)\n",
    "plt.grid(axis='y', alpha=0.3)\n",
    "plt.xticks(rotation=45)\n",
    "\n",
    "plt.tight_layout()\n",
    "plt.show()\n"
   ]
  },
  {
   "cell_type": "markdown",
   "id": "923205bb",
   "metadata": {
    "papermill": {
     "duration": 0.015133,
     "end_time": "2025-08-03T18:16:56.005699",
     "exception": false,
     "start_time": "2025-08-03T18:16:55.990566",
     "status": "completed"
    },
    "tags": []
   },
   "source": [
    "#### Let's explore the distribution of words across all articles"
   ]
  },
  {
   "cell_type": "code",
   "execution_count": 11,
   "id": "55e8d21b",
   "metadata": {
    "ExecuteTime": {
     "end_time": "2025-08-02T17:04:12.137095Z",
     "start_time": "2025-08-02T17:04:11.637178Z"
    },
    "execution": {
     "iopub.execute_input": "2025-08-03T18:16:56.037796Z",
     "iopub.status.busy": "2025-08-03T18:16:56.037479Z",
     "iopub.status.idle": "2025-08-03T18:16:56.650264Z",
     "shell.execute_reply": "2025-08-03T18:16:56.649138Z"
    },
    "papermill": {
     "duration": 0.630906,
     "end_time": "2025-08-03T18:16:56.651928",
     "exception": false,
     "start_time": "2025-08-03T18:16:56.021022",
     "status": "completed"
    },
    "tags": []
   },
   "outputs": [
    {
     "data": {
      "image/png": "[encoded data removed]",
      "text/plain": [
       "<Figure size 1200x800 with 1 Axes>"
      ]
     },
     "metadata": {},
     "output_type": "display_data"
    },
    {
     "data": {
      "image/png": "[encoded data removed]",
      "text/plain": [
       "<Figure size 1200x400 with 1 Axes>"
      ]
     },
     "metadata": {},
     "output_type": "display_data"
    }
   ],
   "source": [
    "# The the distribution of the word count for all articles\n",
    "plt.figure(figsize=(12, 8))\n",
    "\n",
    "# Create the histogram of word counts\n",
    "bins = np.linspace(0, bbcnews_train['word_count'].max(), 100)\n",
    "n, bins, patches = plt.hist(bbcnews_train['word_count'], bins=bins,\n",
    "                            color='#3498db', alpha=0.8, edgecolor='white', linewidth=0.5)\n",
    "\n",
    "# Calculate statistics\n",
    "mean_val = bbcnews_train['word_count'].mean()\n",
    "median_val = bbcnews_train['word_count'].median()\n",
    "mode_val = bbcnews_train['word_count'].mode()[0]\n",
    "std_val = bbcnews_train['word_count'].std()\n",
    "\n",
    "# Add vertical lines for mean and median (with thinner lines)\n",
    "plt.axvline(x=mean_val, color='red', linestyle='--', linewidth=0.8, label=f'Mean: {mean_val:.0f}')\n",
    "plt.axvline(x=median_val, color='green', linestyle=':', linewidth=0.8, label=f'Median: {median_val:.0f}')\n",
    "\n",
    "plt.title('Distribution of Word Counts in BBC News Articles', fontsize=16, pad=20)\n",
    "plt.xlabel('Word Count', fontsize=14, labelpad=10)\n",
    "plt.ylabel('Frequency', fontsize=14, labelpad=10)\n",
    "plt.grid(axis='y', alpha=0.3, linestyle='--')\n",
    "plt.xticks(fontsize=12)\n",
    "plt.yticks(fontsize=12)\n",
    "plt.legend(fontsize=12)\n",
    "\n",
    "plt.tight_layout()\n",
    "plt.show()\n",
    "\n",
    "# Associated boxplot for the word count distribution\n",
    "plt.figure(figsize=(12, 4))\n",
    "ax = sns.boxplot(x=bbcnews_train['word_count'], color='#3498db')\n",
    "\n",
    "# Calculate and display whisker values\n",
    "Q1 = bbcnews_train['word_count'].quantile(0.25)\n",
    "Q3 = bbcnews_train['word_count'].quantile(0.75)\n",
    "IQR = Q3 - Q1\n",
    "lower_whisker = Q1 - 1.5 * IQR\n",
    "upper_whisker = Q3 + 1.5 * IQR\n",
    "\n",
    "# Text annotations\n",
    "plt.text(upper_whisker, -0.3, f'Max Normal: {upper_whisker:.0f}', ha='center', va='bottom', fontweight='bold')  # plot upper whisker\n",
    "plt.title('Boxplot of Word Counts', fontsize=16, pad=20)\n",
    "plt.xlabel('Word Count', fontsize=14, labelpad=10)\n",
    "plt.grid(axis='x', alpha=0.3, linestyle='--')\n",
    "plt.tight_layout()\n",
    "plt.show()\n"
   ]
  },
  {
   "cell_type": "markdown",
   "id": "2a7d07ae",
   "metadata": {
    "papermill": {
     "duration": 0.017881,
     "end_time": "2025-08-03T18:16:56.687790",
     "exception": false,
     "start_time": "2025-08-03T18:16:56.669909",
     "status": "completed"
    },
    "tags": []
   },
   "source": [
    "The data looks to have some significant outliers, where the number of words in some articles exceed the max normal of 792. Given that these are news articles, a general principle in jouranlism is to provide the most newsworthy information (who, what, when, where, why) towards the beginning of the article (inverted pyramid structure). Based on this principle, we can likely truncate the longer articles and still retain the necessary text to categorize it appropriately. We can play with some options and compare the results."
   ]
  },
  {
   "cell_type": "markdown",
   "id": "34b733b3",
   "metadata": {
    "papermill": {
     "duration": 0.017156,
     "end_time": "2025-08-03T18:16:56.721955",
     "exception": false,
     "start_time": "2025-08-03T18:16:56.704799",
     "status": "completed"
    },
    "tags": []
   },
   "source": [
    "#### Check for duplicates"
   ]
  },
  {
   "cell_type": "code",
   "execution_count": 12,
   "id": "22067848",
   "metadata": {
    "ExecuteTime": {
     "end_time": "2025-08-02T17:04:16.867653Z",
     "start_time": "2025-08-02T17:04:16.853163Z"
    },
    "execution": {
     "iopub.execute_input": "2025-08-03T18:16:56.759592Z",
     "iopub.status.busy": "2025-08-03T18:16:56.758965Z",
     "iopub.status.idle": "2025-08-03T18:16:56.778402Z",
     "shell.execute_reply": "2025-08-03T18:16:56.777461Z"
    },
    "papermill": {
     "duration": 0.040519,
     "end_time": "2025-08-03T18:16:56.780039",
     "exception": false,
     "start_time": "2025-08-03T18:16:56.739520",
     "status": "completed"
    },
    "tags": []
   },
   "outputs": [
    {
     "data": {
      "text/plain": [
       "ArticleId      1490\n",
       "Text           1440\n",
       "Category          5\n",
       "text_length    1172\n",
       "word_count      558\n",
       "dtype: int64"
      ]
     },
     "execution_count": 12,
     "metadata": {},
     "output_type": "execute_result"
    }
   ],
   "source": [
    "bbcnews_train.nunique()"
   ]
  },
  {
   "cell_type": "markdown",
   "id": "a83bb175",
   "metadata": {
    "papermill": {
     "duration": 0.017743,
     "end_time": "2025-08-03T18:16:56.815649",
     "exception": false,
     "start_time": "2025-08-03T18:16:56.797906",
     "status": "completed"
    },
    "tags": []
   },
   "source": [
    "It looks like we have 50 articles where the text is not unique. Let's explore that further."
   ]
  },
  {
   "cell_type": "code",
   "execution_count": 13,
   "id": "2283e9d7",
   "metadata": {
    "ExecuteTime": {
     "end_time": "2025-08-02T17:04:19.207301Z",
     "start_time": "2025-08-02T17:04:19.192703Z"
    },
    "execution": {
     "iopub.execute_input": "2025-08-03T18:16:56.853131Z",
     "iopub.status.busy": "2025-08-03T18:16:56.852511Z",
     "iopub.status.idle": "2025-08-03T18:16:56.868076Z",
     "shell.execute_reply": "2025-08-03T18:16:56.867133Z"
    },
    "papermill": {
     "duration": 0.036007,
     "end_time": "2025-08-03T18:16:56.869833",
     "exception": false,
     "start_time": "2025-08-03T18:16:56.833826",
     "status": "completed"
    },
    "tags": []
   },
   "outputs": [
    {
     "name": "stdout",
     "output_type": "stream",
     "text": [
      "Number of duplicate rows: 100\n"
     ]
    },
    {
     "data": {
      "text/html": [
       "<div>\n",
       "<style scoped>\n",
       "    .dataframe tbody tr th:only-of-type {\n",
       "        vertical-align: middle;\n",
       "    }\n",
       "\n",
       "    .dataframe tbody tr th {\n",
       "        vertical-align: top;\n",
       "    }\n",
       "\n",
       "    .dataframe thead th {\n",
       "        text-align: right;\n",
       "    }\n",
       "</style>\n",
       "<table border=\"1\" class=\"dataframe\">\n",
       "  <thead>\n",
       "    <tr style=\"text-align: right;\">\n",
       "      <th></th>\n",
       "      <th>ArticleId</th>\n",
       "      <th>Text</th>\n",
       "      <th>Category</th>\n",
       "      <th>text_length</th>\n",
       "      <th>word_count</th>\n",
       "    </tr>\n",
       "  </thead>\n",
       "  <tbody>\n",
       "    <tr>\n",
       "      <th>494</th>\n",
       "      <td>1326</td>\n",
       "      <td>ask jeeves joins web log market ask jeeves has...</td>\n",
       "      <td>tech</td>\n",
       "      <td>2480</td>\n",
       "      <td>435</td>\n",
       "    </tr>\n",
       "    <tr>\n",
       "      <th>228</th>\n",
       "      <td>1098</td>\n",
       "      <td>ask jeeves joins web log market ask jeeves has...</td>\n",
       "      <td>tech</td>\n",
       "      <td>2480</td>\n",
       "      <td>435</td>\n",
       "    </tr>\n",
       "    <tr>\n",
       "      <th>1430</th>\n",
       "      <td>1042</td>\n",
       "      <td>aviator  creator  in oscars snub the man who s...</td>\n",
       "      <td>entertainment</td>\n",
       "      <td>2147</td>\n",
       "      <td>391</td>\n",
       "    </tr>\n",
       "    <tr>\n",
       "      <th>695</th>\n",
       "      <td>374</td>\n",
       "      <td>aviator  creator  in oscars snub the man who s...</td>\n",
       "      <td>entertainment</td>\n",
       "      <td>2147</td>\n",
       "      <td>391</td>\n",
       "    </tr>\n",
       "    <tr>\n",
       "      <th>443</th>\n",
       "      <td>1847</td>\n",
       "      <td>blind student  hears in colour  a blind studen...</td>\n",
       "      <td>tech</td>\n",
       "      <td>2172</td>\n",
       "      <td>397</td>\n",
       "    </tr>\n",
       "    <tr>\n",
       "      <th>...</th>\n",
       "      <td>...</td>\n",
       "      <td>...</td>\n",
       "      <td>...</td>\n",
       "      <td>...</td>\n",
       "      <td>...</td>\n",
       "    </tr>\n",
       "    <tr>\n",
       "      <th>1047</th>\n",
       "      <td>789</td>\n",
       "      <td>virus poses as christmas e-mail security firms...</td>\n",
       "      <td>tech</td>\n",
       "      <td>1733</td>\n",
       "      <td>285</td>\n",
       "    </tr>\n",
       "    <tr>\n",
       "      <th>1409</th>\n",
       "      <td>957</td>\n",
       "      <td>web radio takes spanish rap global spin the ra...</td>\n",
       "      <td>tech</td>\n",
       "      <td>4041</td>\n",
       "      <td>710</td>\n",
       "    </tr>\n",
       "    <tr>\n",
       "      <th>616</th>\n",
       "      <td>110</td>\n",
       "      <td>web radio takes spanish rap global spin the ra...</td>\n",
       "      <td>tech</td>\n",
       "      <td>4041</td>\n",
       "      <td>710</td>\n",
       "    </tr>\n",
       "    <tr>\n",
       "      <th>63</th>\n",
       "      <td>2017</td>\n",
       "      <td>what high-definition will do to dvds first it ...</td>\n",
       "      <td>tech</td>\n",
       "      <td>5101</td>\n",
       "      <td>901</td>\n",
       "    </tr>\n",
       "    <tr>\n",
       "      <th>1439</th>\n",
       "      <td>1111</td>\n",
       "      <td>what high-definition will do to dvds first it ...</td>\n",
       "      <td>tech</td>\n",
       "      <td>5101</td>\n",
       "      <td>901</td>\n",
       "    </tr>\n",
       "  </tbody>\n",
       "</table>\n",
       "<p>100 rows × 5 columns</p>\n",
       "</div>"
      ],
      "text/plain": [
       "      ArticleId                                               Text  \\\n",
       "494        1326  ask jeeves joins web log market ask jeeves has...   \n",
       "228        1098  ask jeeves joins web log market ask jeeves has...   \n",
       "1430       1042  aviator  creator  in oscars snub the man who s...   \n",
       "695         374  aviator  creator  in oscars snub the man who s...   \n",
       "443        1847  blind student  hears in colour  a blind studen...   \n",
       "...         ...                                                ...   \n",
       "1047        789  virus poses as christmas e-mail security firms...   \n",
       "1409        957  web radio takes spanish rap global spin the ra...   \n",
       "616         110  web radio takes spanish rap global spin the ra...   \n",
       "63         2017  what high-definition will do to dvds first it ...   \n",
       "1439       1111  what high-definition will do to dvds first it ...   \n",
       "\n",
       "           Category  text_length  word_count  \n",
       "494            tech         2480         435  \n",
       "228            tech         2480         435  \n",
       "1430  entertainment         2147         391  \n",
       "695   entertainment         2147         391  \n",
       "443            tech         2172         397  \n",
       "...             ...          ...         ...  \n",
       "1047           tech         1733         285  \n",
       "1409           tech         4041         710  \n",
       "616            tech         4041         710  \n",
       "63             tech         5101         901  \n",
       "1439           tech         5101         901  \n",
       "\n",
       "[100 rows x 5 columns]"
      ]
     },
     "metadata": {},
     "output_type": "display_data"
    }
   ],
   "source": [
    "# Find duplicate rows in the training dataset where 'Text' is not unique\n",
    "train_duplicates = bbcnews_train[bbcnews_train.duplicated(subset=['Text'], keep=False)]\n",
    "print(f\"Number of duplicate rows: {len(train_duplicates)}\")\n",
    "display(train_duplicates.sort_values(by='Text'))\n"
   ]
  },
  {
   "cell_type": "markdown",
   "id": "05d589bf",
   "metadata": {
    "papermill": {
     "duration": 0.01748,
     "end_time": "2025-08-03T18:16:56.905288",
     "exception": false,
     "start_time": "2025-08-03T18:16:56.887808",
     "status": "completed"
    },
    "tags": []
   },
   "source": [
    "Let's verify that articles with identical text is also labeled with the same category"
   ]
  },
  {
   "cell_type": "code",
   "execution_count": 14,
   "id": "5c2fc01f",
   "metadata": {
    "ExecuteTime": {
     "end_time": "2025-08-02T17:04:22.303689Z",
     "start_time": "2025-08-02T17:04:22.284178Z"
    },
    "execution": {
     "iopub.execute_input": "2025-08-03T18:16:56.944214Z",
     "iopub.status.busy": "2025-08-03T18:16:56.943487Z",
     "iopub.status.idle": "2025-08-03T18:16:56.963875Z",
     "shell.execute_reply": "2025-08-03T18:16:56.962727Z"
    },
    "papermill": {
     "duration": 0.042283,
     "end_time": "2025-08-03T18:16:56.965323",
     "exception": false,
     "start_time": "2025-08-03T18:16:56.923040",
     "status": "completed"
    },
    "tags": []
   },
   "outputs": [
    {
     "name": "stdout",
     "output_type": "stream",
     "text": [
      "Analysis of duplicate texts in training dataset:\n",
      "Text (truncated): 'ask jeeves joins web log market ask jeeves has bou...' has 2 duplicates, all with category: tech\n",
      "Text (truncated): 'aviator  creator  in oscars snub the man who said ...' has 2 duplicates, all with category: entertainment\n",
      "Text (truncated): 'blind student  hears in colour  a blind student ha...' has 2 duplicates, all with category: tech\n",
      "Text (truncated): 'bortolami predicts dour contest italy skipper marc...' has 2 duplicates, all with category: sport\n",
      "Text (truncated): 'britons fed up with net service a survey conducted...' has 2 duplicates, all with category: tech\n",
      "Text (truncated): 'brown outlines third term vision gordon brown has ...' has 2 duplicates, all with category: politics\n",
      "Text (truncated): 'california sets fines for spyware the makers of co...' has 2 duplicates, all with category: tech\n",
      "Text (truncated): 'camera phones are  must-haves  four times more mob...' has 2 duplicates, all with category: tech\n",
      "Text (truncated): 'commodore finds new lease of life the once-famous ...' has 2 duplicates, all with category: tech\n",
      "Text (truncated): 'de niro film leads us box office film star robert ...' has 2 duplicates, all with category: entertainment\n",
      "Text (truncated): 'debate needed  on donations cap a cap on donations...' has 2 duplicates, all with category: politics\n",
      "Text (truncated): 'digital guru floats sub-$100 pc nicholas negropont...' has 2 duplicates, all with category: tech\n",
      "Text (truncated): 'doors open at biggest gadget fair thousands of tec...' has 2 duplicates, all with category: tech\n",
      "Text (truncated): 'downloads enter us singles chart digital music dow...' has 2 duplicates, all with category: entertainment\n",
      "Text (truncated): 'economy  strong  in election year uk businesses ar...' has 2 duplicates, all with category: business\n",
      "Text (truncated): 'ferguson rues failure to cut gap boss sir alex fer...' has 2 duplicates, all with category: sport\n",
      "Text (truncated): 'format wars could  confuse users  technology firms...' has 2 duplicates, all with category: tech\n",
      "Text (truncated): 'fox attacks blair s tory  lies  tony blair lied wh...' has 2 duplicates, all with category: politics\n",
      "Text (truncated): 'freeze on anti-spam campaign a campaign by lycos e...' has 2 duplicates, all with category: tech\n",
      "Text (truncated): 'gadget market  to grow in 2005  the explosion in c...' has 2 duplicates, all with category: tech\n",
      "Text (truncated): 'hague  given up  his pm ambition former conservati...' has 2 duplicates, all with category: politics\n",
      "Text (truncated): 'holmes starts 2005 with gb events kelly holmes wil...' has 2 duplicates, all with category: sport\n",
      "Text (truncated): 'hotspot users gain free net calls people using wir...' has 2 duplicates, all with category: tech\n",
      "Text (truncated): 'howard denies split over id cards michael howard h...' has 2 duplicates, all with category: politics\n",
      "Text (truncated): 'junk e-mails on relentless rise spam traffic is up...' has 2 duplicates, all with category: tech\n",
      "Text (truncated): 'microsoft gets the blogging bug software giant mic...' has 2 duplicates, all with category: tech\n",
      "Text (truncated): 'microsoft seeking spyware trojan microsoft is inve...' has 2 duplicates, all with category: tech\n",
      "Text (truncated): 'mobiles  not media players yet  mobiles are not ye...' has 2 duplicates, all with category: tech\n",
      "Text (truncated): 'mobiles rack up 20 years of use mobile phones in t...' has 2 duplicates, all with category: tech\n",
      "Text (truncated): 'more power to the people says hp the digital revol...' has 2 duplicates, all with category: tech\n",
      "Text (truncated): 'mps issued with blackberry threat mps will be thro...' has 2 duplicates, all with category: politics\n",
      "Text (truncated): 'musical treatment for capra film the classic film ...' has 2 duplicates, all with category: entertainment\n",
      "Text (truncated): 'pop band busted to  take a break  chart-topping po...' has 2 duplicates, all with category: entertainment\n",
      "Text (truncated): 'prince crowned  top music earner  prince earned mo...' has 2 duplicates, all with category: entertainment\n",
      "Text (truncated): 'queen recruit singer for new tour the remaining me...' has 2 duplicates, all with category: entertainment\n",
      "Text (truncated): 'ray dvd beats box office takings oscar-nominated f...' has 2 duplicates, all with category: entertainment\n",
      "Text (truncated): 'schools to take part in mock poll record numbers o...' has 2 duplicates, all with category: politics\n",
      "Text (truncated): 'security warning over  fbi virus  the us federal b...' has 2 duplicates, all with category: tech\n",
      "Text (truncated): 'singer s film to show at festival a documentary wh...' has 2 duplicates, all with category: entertainment\n",
      "Text (truncated): 'spain coach faces racism inquiry spain s football ...' has 2 duplicates, all with category: sport\n",
      "Text (truncated): 'spam e-mails tempt net shoppers computer users acr...' has 2 duplicates, all with category: tech\n",
      "Text (truncated): 'stars pay tribute to actor davis hollywood stars i...' has 2 duplicates, all with category: entertainment\n",
      "Text (truncated): 't-mobile bets on  pocket office  t-mobile has laun...' has 2 duplicates, all with category: tech\n",
      "Text (truncated): 'talks aim to avert pension strike talks aimed at a...' has 2 duplicates, all with category: politics\n",
      "Text (truncated): 'ultimate game  award for doom 3 sci-fi shooter doo...' has 2 duplicates, all with category: tech\n",
      "Text (truncated): 'us duo in first spam conviction a brother and sist...' has 2 duplicates, all with category: tech\n",
      "Text (truncated): 'us peer-to-peer pirates convicted the first convic...' has 2 duplicates, all with category: tech\n",
      "Text (truncated): 'virus poses as christmas e-mail security firms are...' has 2 duplicates, all with category: tech\n",
      "Text (truncated): 'web radio takes spanish rap global spin the radio ...' has 2 duplicates, all with category: tech\n",
      "Text (truncated): 'what high-definition will do to dvds first it was ...' has 2 duplicates, all with category: tech\n",
      "\n",
      "Summary:\n",
      "- Duplicate texts with the same category: 50\n",
      "- Duplicate texts with different categories: 0\n"
     ]
    }
   ],
   "source": [
    "# Group duplicates by Text and check if all rows in each group have the same Category\n",
    "print(\"Analysis of duplicate texts in training dataset:\")\n",
    "for text_with_dups, text_categories in train_duplicates.groupby('Text'):\n",
    "    dup_categories = text_categories['Category'].unique()\n",
    "    if len(dup_categories) == 1:\n",
    "        print(f\"Text (truncated): '{text_with_dups[:50]}...' has {len(text_categories)} duplicates, all with category: {dup_categories[0]}\")\n",
    "    else:\n",
    "        print(f\"Text (truncated): '{text_with_dups[:50]}...' has {len(text_categories)} duplicates with different categories: {dup_categories}\")\n",
    "\n",
    "# Count how many duplicate texts have consistent vs inconsistent categories\n",
    "same_category = 0\n",
    "different_category = 0\n",
    "\n",
    "for dup_text, dup_cat in train_duplicates.groupby('Text'):\n",
    "    if len(dup_cat['Category'].unique()) == 1:\n",
    "        same_category += 1\n",
    "    else:\n",
    "        different_category += 1\n",
    "\n",
    "print(f\"\\nSummary:\")\n",
    "print(f\"- Duplicate texts with the same category: {same_category}\")\n",
    "print(f\"- Duplicate texts with different categories: {different_category}\")"
   ]
  },
  {
   "cell_type": "markdown",
   "id": "212ba45b",
   "metadata": {
    "papermill": {
     "duration": 0.017415,
     "end_time": "2025-08-03T18:16:57.000519",
     "exception": false,
     "start_time": "2025-08-03T18:16:56.983104",
     "status": "completed"
    },
    "tags": []
   },
   "source": [
    "We found no article text duplicates with different categories, so we should just remove the duplicates. Let's take a quick look at the structure of an article."
   ]
  },
  {
   "cell_type": "code",
   "execution_count": 15,
   "id": "00639790",
   "metadata": {
    "ExecuteTime": {
     "end_time": "2025-08-02T17:04:26.174010Z",
     "start_time": "2025-08-02T17:04:26.167291Z"
    },
    "execution": {
     "iopub.execute_input": "2025-08-03T18:16:57.038812Z",
     "iopub.status.busy": "2025-08-03T18:16:57.038474Z",
     "iopub.status.idle": "2025-08-03T18:16:57.044136Z",
     "shell.execute_reply": "2025-08-03T18:16:57.043154Z"
    },
    "papermill": {
     "duration": 0.027684,
     "end_time": "2025-08-03T18:16:57.045978",
     "exception": false,
     "start_time": "2025-08-03T18:16:57.018294",
     "status": "completed"
    },
    "tags": []
   },
   "outputs": [
    {
     "name": "stdout",
     "output_type": "stream",
     "text": [
      "Article[0]: worldcom ex-boss launches defence lawyers defending former worldcom chief bernie ebbers against a battery of fraud charges have called a company whistleblower as their first witness.  cynthia cooper  worldcom s ex-head of internal accounting  alerted directors to irregular accounting practices at the us telecoms giant in 2002. her warnings led to the collapse of the firm following the discovery of an $11bn (£5.7bn) accounting fraud. mr ebbers has pleaded not guilty to charges of fraud and conspiracy.  prosecution lawyers have argued that mr ebbers orchestrated a series of accounting tricks at worldcom  ordering employees to hide expenses and inflate revenues to meet wall street earnings estimates. but ms cooper  who now runs her own consulting business  told a jury in new york on wednesday that external auditors arthur andersen had approved worldcom s accounting in early 2001 and 2002. she said andersen had given a  green light  to the procedures and practices used by worldcom. mr ebber s lawyers have said he was unaware of the fraud  arguing that auditors did not alert him to any problems.  ms cooper also said that during shareholder meetings mr ebbers often passed over technical questions to the company s finance chief  giving only  brief  answers himself. the prosecution s star witness  former worldcom financial chief scott sullivan  has said that mr ebbers ordered accounting adjustments at the firm  telling him to  hit our books . however  ms cooper said mr sullivan had not mentioned  anything uncomfortable  about worldcom s accounting during a 2001 audit committee meeting. mr ebbers could face a jail sentence of 85 years if convicted of all the charges he is facing. worldcom emerged from bankruptcy protection in 2004  and is now known as mci. last week  mci agreed to a buyout by verizon communications in a deal valued at $6.75bn.\n",
      "\n",
      "Article[1]: german business confidence slides german business confidence fell in february knocking hopes of a speedy recovery in europe s largest economy.  munich-based research institute ifo said that its confidence index fell to 95.5 in february from 97.5 in january  its first decline in three months. the study found that the outlook in both the manufacturing and retail sectors had worsened. observers had been hoping that a more confident business sector would signal that economic activity was picking up.   we re surprised that the ifo index has taken such a knock   said dz bank economist bernd weidensteiner.  the main reason is probably that the domestic economy is still weak  particularly in the retail trade.  economy and labour minister wolfgang clement called the dip in february s ifo confidence figure  a very mild decline . he said that despite the retreat  the index remained at a relatively high level and that he expected  a modest economic upswing  to continue.  germany s economy grew 1.6% last year after shrinking in 2003. however  the economy contracted by 0.2% during the last three months of 2004  mainly due to the reluctance of consumers to spend. latest indications are that growth is still proving elusive and ifo president hans-werner sinn said any improvement in german domestic demand was sluggish. exports had kept things going during the first half of 2004  but demand for exports was then hit as the value of the euro hit record levels making german products less competitive overseas. on top of that  the unemployment rate has been stuck at close to 10% and manufacturing firms  including daimlerchrysler  siemens and volkswagen  have been negotiating with unions over cost cutting measures. analysts said that the ifo figures and germany s continuing problems may delay an interest rate rise by the european central bank. eurozone interest rates are at 2%  but comments from senior officials have recently focused on the threat of inflation  prompting fears that interest rates may rise.\n",
      "\n"
     ]
    }
   ],
   "source": [
    "print(f\"Article[0]: {bbcnews_train['Text'][0]}\\n\")\n",
    "print(f\"Article[1]: {bbcnews_train['Text'][1]}\\n\")"
   ]
  },
  {
   "cell_type": "markdown",
   "id": "88cbcfe7",
   "metadata": {
    "papermill": {
     "duration": 0.017725,
     "end_time": "2025-08-03T18:16:57.081859",
     "exception": false,
     "start_time": "2025-08-03T18:16:57.064134",
     "status": "completed"
    },
    "tags": []
   },
   "source": [
    "### Analysis Plan\n",
    "\n",
    "Based on the findings from the EDA analysis, we will perform the following actions in the preprocessing steps:\n",
    "\n",
    "1. Delete duplicate rows,\n",
    "2. Enable word count truncation limits within the text cleanup process,\n",
    "3. Convert to lowercase (even though the viewed articles are already lowercase),\n",
    "4. Remove punctuation,\n",
    "5. Remove numbers/digits,\n",
    "6. Remove standard english stopwords\n",
    "7. Evaluate removing short words (length < 3 chars)\n",
    "\n",
    "#### Unsupervised model\n",
    "\n",
    "Since the unsupervised model, Non-negative Matrix Factorization (NMF), has been predetermined for the initial evaluation, we only plan to focus on the following aspects for tuning the prediction accuracy:\n",
    "\n",
    "* Text Preprocessing - testing different options for tokenization and normalization (e.g., stemming/lemmatizing)\n",
    "* Vectorizing - for this project we are vectorizing using the TD-IDF vectorizer\n",
    "* Hyperparameter tuning - the project will leverage GridSearchCV to determine target hyperparameters for the final model\n",
    "\n",
    "#### Supervised model\n",
    "\n",
    "The final steps in the project will be to evaluate and select a supervised model to classify the category and then compare the results with the unsupervised approach. GridSearchCV will again be used to evaluate the different models and then tune the final supervised model. The following supervised learning models will be evaluated:\n",
    "\n",
    "* Random Forests\n",
    "* SVM (LinearSVC)\n",
    "* LogisticRegression\n"
   ]
  },
  {
   "cell_type": "markdown",
   "id": "7926fc4f",
   "metadata": {
    "papermill": {
     "duration": 0.017545,
     "end_time": "2025-08-03T18:16:57.117383",
     "exception": false,
     "start_time": "2025-08-03T18:16:57.099838",
     "status": "completed"
    },
    "tags": []
   },
   "source": [
    "### Data Preprocessing"
   ]
  },
  {
   "cell_type": "markdown",
   "id": "912190ec",
   "metadata": {
    "papermill": {
     "duration": 0.01767,
     "end_time": "2025-08-03T18:16:57.153018",
     "exception": false,
     "start_time": "2025-08-03T18:16:57.135348",
     "status": "completed"
    },
    "tags": []
   },
   "source": [
    "Remove ~50 articles with duplicated text"
   ]
  },
  {
   "cell_type": "code",
   "execution_count": 16,
   "id": "d0b13fee",
   "metadata": {
    "ExecuteTime": {
     "end_time": "2025-08-02T17:04:31.840688Z",
     "start_time": "2025-08-02T17:04:31.831254Z"
    },
    "execution": {
     "iopub.execute_input": "2025-08-03T18:16:57.190267Z",
     "iopub.status.busy": "2025-08-03T18:16:57.189976Z",
     "iopub.status.idle": "2025-08-03T18:16:57.198527Z",
     "shell.execute_reply": "2025-08-03T18:16:57.197564Z"
    },
    "papermill": {
     "duration": 0.028795,
     "end_time": "2025-08-03T18:16:57.199844",
     "exception": false,
     "start_time": "2025-08-03T18:16:57.171049",
     "status": "completed"
    },
    "tags": []
   },
   "outputs": [
    {
     "name": "stdout",
     "output_type": "stream",
     "text": [
      "Remaining duplicates in the training dataset: 0\n"
     ]
    }
   ],
   "source": [
    "# remove duplicates\n",
    "bbcnews_train = bbcnews_train.drop_duplicates(subset = ['Text'], keep = 'first')\n",
    "remaining_dups = bbcnews_train[bbcnews_train.duplicated(subset=['Text'], keep=False)]\n",
    "print(f\"Remaining duplicates in the training dataset: {len(remaining_dups)}\")"
   ]
  },
  {
   "cell_type": "markdown",
   "id": "b6244eed",
   "metadata": {
    "papermill": {
     "duration": 0.018006,
     "end_time": "2025-08-03T18:16:57.237040",
     "exception": false,
     "start_time": "2025-08-03T18:16:57.219034",
     "status": "completed"
    },
    "tags": []
   },
   "source": [
    "#### TextCleaner\n",
    "\n",
    "Create a custom transformer to perform the cleaning, vectorization, and normalization functions on the article text. Using a custom transformer for the text cleanup enables use within a pipeline process. The text cleanup function supports the following Text Preprocessing methods:\n",
    "* Simple Tokenization - split text into words\n",
    "* spaCy Lemmitizer - spaCy library for tokenization and lemmatizing\n",
    "* WordNet Lemmatizer - Simple tokenization with NLTK WordNet lemmatizing using part of speech (POS) tagging\n",
    "* Snowball Stemmer - Simple tokenization with NLTK Snowball stemming"
   ]
  },
  {
   "cell_type": "code",
   "execution_count": 17,
   "id": "56186890",
   "metadata": {
    "ExecuteTime": {
     "end_time": "2025-08-02T17:04:35.791527Z",
     "start_time": "2025-08-02T17:04:35.779394Z"
    },
    "execution": {
     "iopub.execute_input": "2025-08-03T18:16:57.276278Z",
     "iopub.status.busy": "2025-08-03T18:16:57.275926Z",
     "iopub.status.idle": "2025-08-03T18:16:57.292644Z",
     "shell.execute_reply": "2025-08-03T18:16:57.291541Z"
    },
    "papermill": {
     "duration": 0.037911,
     "end_time": "2025-08-03T18:16:57.294215",
     "exception": false,
     "start_time": "2025-08-03T18:16:57.256304",
     "status": "completed"
    },
    "tags": []
   },
   "outputs": [],
   "source": [
    "# Create a custom transformer to perform text cleanup (usable in pipeline later)\n",
    "class TextCleaner(BaseEstimator, TransformerMixin):\n",
    "    def __init__(self, min_word_length=2, max_word_count=0, method='simple', additional_words=None, stop_words=None):\n",
    "        self.min_word_length = min_word_length\n",
    "        self.max_word_count = max_word_count\n",
    "        self.method = method\n",
    "        self.additional_words = additional_words\n",
    "        self.stop_words = stop_words\n",
    "\n",
    "    def __getstate__(self):\n",
    "        # Return state for pickling, excluding unpickleable objects\n",
    "        state = self.__dict__.copy()\n",
    "        return state\n",
    "\n",
    "    def __setstate__(self, state):\n",
    "        # Restore state from pickle\n",
    "        self.__dict__.update(state)\n",
    "        # Recreate remove_words_ if it exists\n",
    "        if hasattr(self, 'remove_words_'):\n",
    "            self._create_remove_words()\n",
    "\n",
    "    # empty fit function to support use in pipeline\n",
    "    def fit(self, X, y=None):\n",
    "        # Initialize the remove_words set when fitting\n",
    "        self._create_remove_words()\n",
    "        return self\n",
    "\n",
    "    # transform function for _cleanup_text to support use in pipeline\n",
    "    def transform(self, X):\n",
    "        if not hasattr(self, 'remove_words_'):\n",
    "            self._create_remove_words()\n",
    "\n",
    "        if hasattr(X, 'apply'):\n",
    "            return X.copy().apply(self._cleanup_text)\n",
    "        else:\n",
    "            return [self._cleanup_text(text) for text in X]\n",
    "\n",
    "    # function to generate the remove_words_ set\n",
    "    def _create_remove_words(self):\n",
    "        # Create a local stop_words variable - don't modify self.stop_words\n",
    "        if self.stop_words is None:\n",
    "            stop_words = set(stopwords.words('english'))\n",
    "        else:\n",
    "            stop_words = set(self.stop_words)\n",
    "\n",
    "        if self.additional_words:\n",
    "            # Convert to list first, then back to set to avoid pickle issues\n",
    "            combined = list(stop_words) + list(self.additional_words)\n",
    "            self.remove_words_ = set(combined)\n",
    "        else:\n",
    "            self.remove_words_ = stop_words\n",
    "\n",
    "    # Function to perform the text cleanup and stem/lemmatize as specified\n",
    "    def _cleanup_text(self, text):\n",
    "        # Convert to lowercase\n",
    "        text = text.lower()\n",
    "\n",
    "        # Remove punctuation\n",
    "        text = re.sub(r'[^\\w\\s]', ' ', text)\n",
    "\n",
    "        # Remove numbers\n",
    "        text = re.sub(r'\\d+', ' ', text)\n",
    "\n",
    "        # Process words (lemmatize, removing stopwords and additional words supplied, short words, and extra spaces)\n",
    "        match self.method:\n",
    "            case 'wordnet':\n",
    "                words = self._wordnet_lemma(text)\n",
    "            case 'snowball':\n",
    "                words = self._snowball_stemmer(text)\n",
    "            case _:  # default to 'simple'\n",
    "                words = self._simple_tokens(text)\n",
    "\n",
    "        # Limit to max word count if specified\n",
    "        if self.max_word_count > 0:\n",
    "            words = words[:self.max_word_count]\n",
    "\n",
    "        return ' '.join(words)\n",
    "\n",
    "    # Simple word tokens, removing words in the remove_words list and short words\n",
    "    def _simple_tokens(self, text):\n",
    "        tokens = text.split()\n",
    "        return [token for token in tokens if token not in self.remove_words_ and len(token) > self.min_word_length]\n",
    "\n",
    "    # WordNetLemmatizer\n",
    "    def _get_wordnet_pos(self, nltk_tag):\n",
    "        # Map for most common matches on the first letter of the tag\n",
    "        pos_map = {'N': wordnet.NOUN, 'V': wordnet.VERB, 'J': wordnet.ADJ, 'R': wordnet.ADV}\n",
    "\n",
    "        # Map NLTK POS tags to WordNet POS tags\n",
    "        if nltk_tag[0] in pos_map:\n",
    "            return pos_map[nltk_tag[0]]\n",
    "        elif nltk_tag in ('MD', 'TO'):  # Modal, infinitive marker\n",
    "            return wordnet.VERB\n",
    "        else:\n",
    "             return wordnet.NOUN  # Default to Noun for other cases\n",
    "\n",
    "    def _wordnet_lemma(self, text):\n",
    "        # NLTK data needed for wordnet and pos_tag - see Imports\n",
    "        lemmatizer = WordNetLemmatizer()\n",
    "        tokens = self._simple_tokens(text)\n",
    "\n",
    "        # Get POS (part of speech) tags\n",
    "        tagged_tokens = pos_tag(tokens)\n",
    "\n",
    "        # Lemmatize with POS tag\n",
    "        lemmatized_words = []\n",
    "        for word, tag in tagged_tokens:\n",
    "            if word not in self.remove_words_ and len(word) > self.min_word_length:\n",
    "                # Get the WordNet POS tag\n",
    "                wordnet_pos = self._get_wordnet_pos(tag)\n",
    "\n",
    "                # Lemmatize with the appropriate POS tag\n",
    "                lemma = lemmatizer.lemmatize(word, wordnet_pos)\n",
    "                lemmatized_words.append(lemma)\n",
    "\n",
    "        return lemmatized_words\n",
    "\n",
    "    # SnowballStemmer\n",
    "    def _snowball_stemmer(self, text):\n",
    "        stemmer = SnowballStemmer(\"english\")\n",
    "        tokens = self._simple_tokens(text)\n",
    "\n",
    "        # apply stemming\n",
    "        words = [stemmer.stem(word) for word in tokens]\n",
    "\n",
    "        return words\n"
   ]
  },
  {
   "cell_type": "markdown",
   "id": "b7a017bf",
   "metadata": {
    "papermill": {
     "duration": 0.017619,
     "end_time": "2025-08-03T18:16:57.330334",
     "exception": false,
     "start_time": "2025-08-03T18:16:57.312715",
     "status": "completed"
    },
    "tags": []
   },
   "source": [
    "#### Quick evaluation on word tokenization\n",
    "\n",
    "Using the TextCleaner transformer, we are going to perform a quick evaluation to see if there are any common words across all groups that could impact categorization"
   ]
  },
  {
   "cell_type": "code",
   "execution_count": 18,
   "id": "b5f6d301",
   "metadata": {
    "ExecuteTime": {
     "end_time": "2025-08-02T17:04:40.597687Z",
     "start_time": "2025-08-02T17:04:40.396110Z"
    },
    "execution": {
     "iopub.execute_input": "2025-08-03T18:16:57.367271Z",
     "iopub.status.busy": "2025-08-03T18:16:57.366918Z",
     "iopub.status.idle": "2025-08-03T18:16:57.628900Z",
     "shell.execute_reply": "2025-08-03T18:16:57.627885Z"
    },
    "papermill": {
     "duration": 0.282599,
     "end_time": "2025-08-03T18:16:57.630757",
     "exception": false,
     "start_time": "2025-08-03T18:16:57.348158",
     "status": "completed"
    },
    "tags": []
   },
   "outputs": [
    {
     "name": "stdout",
     "output_type": "stream",
     "text": [
      "Original Text:  worldcom ex-boss launches defence lawyers defending former worldcom chief bernie ebbers against a battery of fraud charges have called a company whistleblower as their first witness.  cynthia cooper  worldcom s ex-head of internal accounting  alerted directors to irregular accounting practices at the us telecoms giant in 2002. her warnings led to the collapse of the firm following the discovery of an $11bn (£5.7bn) accounting fraud. mr ebbers has pleaded not guilty to charges of fraud and conspiracy.  prosecution lawyers have argued that mr ebbers orchestrated a series of accounting tricks at worldcom  ordering employees to hide expenses and inflate revenues to meet wall street earnings estimates. but ms cooper  who now runs her own consulting business  told a jury in new york on wednesday that external auditors arthur andersen had approved worldcom s accounting in early 2001 and 2002. she said andersen had given a  green light  to the procedures and practices used by worldcom. mr ebber s lawyers have said he was unaware of the fraud  arguing that auditors did not alert him to any problems.  ms cooper also said that during shareholder meetings mr ebbers often passed over technical questions to the company s finance chief  giving only  brief  answers himself. the prosecution s star witness  former worldcom financial chief scott sullivan  has said that mr ebbers ordered accounting adjustments at the firm  telling him to  hit our books . however  ms cooper said mr sullivan had not mentioned  anything uncomfortable  about worldcom s accounting during a 2001 audit committee meeting. mr ebbers could face a jail sentence of 85 years if convicted of all the charges he is facing. worldcom emerged from bankruptcy protection in 2004  and is now known as mci. last week  mci agreed to a buyout by verizon communications in a deal valued at $6.75bn. \n",
      "\n",
      "\n",
      "Cleaned Text:  worldcom boss launches defence lawyers defending former worldcom chief bernie ebbers battery fraud charges called company whistleblower first witness cynthia cooper worldcom head internal accounting alerted directors irregular accounting practices telecoms giant warnings led collapse firm following discovery accounting fraud ebbers pleaded guilty charges fraud conspiracy prosecution lawyers argued ebbers orchestrated series accounting tricks worldcom ordering employees hide expenses inflate revenues meet wall street earnings estimates cooper runs consulting business told jury new york wednesday external auditors arthur andersen approved worldcom accounting early said andersen given green light procedures practices used worldcom ebber lawyers said unaware fraud arguing auditors alert problems cooper also said shareholder meetings ebbers often passed technical questions company finance chief giving brief answers prosecution star witness former worldcom financial chief scott sullivan said ebbers ordered accounting adjustments firm telling hit books however cooper said sullivan mentioned anything uncomfortable worldcom accounting audit committee meeting ebbers could face jail sentence years convicted charges facing worldcom emerged bankruptcy protection known mci last week mci agreed buyout verizon communications deal valued\n"
     ]
    }
   ],
   "source": [
    "# Cleanup the article Text - default simple method\n",
    "text_cleaner = TextCleaner(method = 'simple')\n",
    "bbcnews_train['Text_cleaned'] = text_cleaner.transform(bbcnews_train['Text'])\n",
    "print(\"Original Text: \", bbcnews_train['Text'][0], \"\\n\\n\")\n",
    "print(\"Cleaned Text: \", bbcnews_train['Text_cleaned'][0])"
   ]
  },
  {
   "cell_type": "code",
   "execution_count": 19,
   "id": "3e4b4539",
   "metadata": {
    "ExecuteTime": {
     "end_time": "2025-08-02T17:04:44.472162Z",
     "start_time": "2025-08-02T17:04:44.390093Z"
    },
    "execution": {
     "iopub.execute_input": "2025-08-03T18:16:57.668494Z",
     "iopub.status.busy": "2025-08-03T18:16:57.668148Z",
     "iopub.status.idle": "2025-08-03T18:16:57.763571Z",
     "shell.execute_reply": "2025-08-03T18:16:57.762671Z"
    },
    "papermill": {
     "duration": 0.116445,
     "end_time": "2025-08-03T18:16:57.765085",
     "exception": false,
     "start_time": "2025-08-03T18:16:57.648640",
     "status": "completed"
    },
    "tags": []
   },
   "outputs": [
    {
     "name": "stdout",
     "output_type": "stream",
     "text": [
      "The number of common words in all categories is 6\n"
     ]
    },
    {
     "data": {
      "text/html": [
       "<div>\n",
       "<style scoped>\n",
       "    .dataframe tbody tr th:only-of-type {\n",
       "        vertical-align: middle;\n",
       "    }\n",
       "\n",
       "    .dataframe tbody tr th {\n",
       "        vertical-align: top;\n",
       "    }\n",
       "\n",
       "    .dataframe thead th {\n",
       "        text-align: right;\n",
       "    }\n",
       "</style>\n",
       "<table border=\"1\" class=\"dataframe\">\n",
       "  <thead>\n",
       "    <tr style=\"text-align: right;\">\n",
       "      <th></th>\n",
       "      <th>word</th>\n",
       "      <th>business</th>\n",
       "      <th>tech</th>\n",
       "      <th>politics</th>\n",
       "      <th>sport</th>\n",
       "      <th>entertainment</th>\n",
       "      <th>total_count</th>\n",
       "      <th>avg_count</th>\n",
       "      <th>min_count</th>\n",
       "      <th>max_count</th>\n",
       "      <th>std_dev</th>\n",
       "      <th>cv</th>\n",
       "    </tr>\n",
       "  </thead>\n",
       "  <tbody>\n",
       "    <tr>\n",
       "      <th>0</th>\n",
       "      <td>said</td>\n",
       "      <td>1098</td>\n",
       "      <td>980</td>\n",
       "      <td>1412</td>\n",
       "      <td>629</td>\n",
       "      <td>576</td>\n",
       "      <td>4695</td>\n",
       "      <td>939.0</td>\n",
       "      <td>576</td>\n",
       "      <td>1412</td>\n",
       "      <td>309.373561</td>\n",
       "      <td>0.329471</td>\n",
       "    </tr>\n",
       "    <tr>\n",
       "      <th>1</th>\n",
       "      <td>would</td>\n",
       "      <td>309</td>\n",
       "      <td>290</td>\n",
       "      <td>685</td>\n",
       "      <td>233</td>\n",
       "      <td>135</td>\n",
       "      <td>1652</td>\n",
       "      <td>330.4</td>\n",
       "      <td>135</td>\n",
       "      <td>685</td>\n",
       "      <td>187.349513</td>\n",
       "      <td>0.567038</td>\n",
       "    </tr>\n",
       "    <tr>\n",
       "      <th>2</th>\n",
       "      <td>year</td>\n",
       "      <td>452</td>\n",
       "      <td>224</td>\n",
       "      <td>175</td>\n",
       "      <td>330</td>\n",
       "      <td>304</td>\n",
       "      <td>1485</td>\n",
       "      <td>297.0</td>\n",
       "      <td>175</td>\n",
       "      <td>452</td>\n",
       "      <td>95.263844</td>\n",
       "      <td>0.320754</td>\n",
       "    </tr>\n",
       "    <tr>\n",
       "      <th>3</th>\n",
       "      <td>also</td>\n",
       "      <td>279</td>\n",
       "      <td>310</td>\n",
       "      <td>298</td>\n",
       "      <td>212</td>\n",
       "      <td>267</td>\n",
       "      <td>1366</td>\n",
       "      <td>273.2</td>\n",
       "      <td>212</td>\n",
       "      <td>310</td>\n",
       "      <td>34.019994</td>\n",
       "      <td>0.124524</td>\n",
       "    </tr>\n",
       "    <tr>\n",
       "      <th>4</th>\n",
       "      <td>new</td>\n",
       "      <td>273</td>\n",
       "      <td>324</td>\n",
       "      <td>271</td>\n",
       "      <td>202</td>\n",
       "      <td>229</td>\n",
       "      <td>1299</td>\n",
       "      <td>259.8</td>\n",
       "      <td>202</td>\n",
       "      <td>324</td>\n",
       "      <td>41.739190</td>\n",
       "      <td>0.160659</td>\n",
       "    </tr>\n",
       "    <tr>\n",
       "      <th>5</th>\n",
       "      <td>one</td>\n",
       "      <td>183</td>\n",
       "      <td>314</td>\n",
       "      <td>185</td>\n",
       "      <td>261</td>\n",
       "      <td>259</td>\n",
       "      <td>1202</td>\n",
       "      <td>240.4</td>\n",
       "      <td>183</td>\n",
       "      <td>314</td>\n",
       "      <td>50.102295</td>\n",
       "      <td>0.208412</td>\n",
       "    </tr>\n",
       "  </tbody>\n",
       "</table>\n",
       "</div>"
      ],
      "text/plain": [
       "    word  business  tech  politics  sport  entertainment  total_count  \\\n",
       "0   said      1098   980      1412    629            576         4695   \n",
       "1  would       309   290       685    233            135         1652   \n",
       "2   year       452   224       175    330            304         1485   \n",
       "3   also       279   310       298    212            267         1366   \n",
       "4    new       273   324       271    202            229         1299   \n",
       "5    one       183   314       185    261            259         1202   \n",
       "\n",
       "   avg_count  min_count  max_count     std_dev        cv  \n",
       "0      939.0        576       1412  309.373561  0.329471  \n",
       "1      330.4        135        685  187.349513  0.567038  \n",
       "2      297.0        175        452   95.263844  0.320754  \n",
       "3      273.2        212        310   34.019994  0.124524  \n",
       "4      259.8        202        324   41.739190  0.160659  \n",
       "5      240.4        183        314   50.102295  0.208412  "
      ]
     },
     "metadata": {},
     "output_type": "display_data"
    }
   ],
   "source": [
    "# Find most common words in each category and across categories\n",
    "\n",
    "# Helper function to get the top N words from a category\n",
    "def get_top_n_words(category, top_n=30):\n",
    "    # Get the articles for the specified category\n",
    "    category_data = bbcnews_train[bbcnews_train['Category'] == category]\n",
    "\n",
    "    # Combine all cleaned text for this category\n",
    "    all_words = ' '.join(category_data['Text_cleaned']).split()\n",
    "\n",
    "    # Count word frequencies and get the top N\n",
    "    top_words = Counter(all_words).most_common(top_n)\n",
    "\n",
    "    return top_words\n",
    "\n",
    "\n",
    "def get_top_m_common_words(top_m=30, top_n=100, sort_by='average'):\n",
    "    # Get the top_n words for each category\n",
    "    categories = bbcnews_train['Category'].unique()\n",
    "    category_words = {}\n",
    "    for category in categories:\n",
    "        category_words[category] = dict(get_top_n_words(category, top_n))\n",
    "\n",
    "    # Find common words in all categories\n",
    "    common_words = set(category_words[categories[0]].keys())\n",
    "    for category in categories[1:]:\n",
    "        common_words = common_words.intersection(set(category_words[category].keys()))\n",
    "\n",
    "    print(f\"The number of common words in all categories is {len(common_words)}\")\n",
    "\n",
    "    # Get the counts for each word\n",
    "    # Create a DataFrame with counts for each word in each category\n",
    "    data = []\n",
    "    for word in common_words:\n",
    "        row = {'word': word}\n",
    "        counts = []\n",
    "        for cat in categories:\n",
    "            count = category_words[cat][word]\n",
    "            row[cat] = count\n",
    "            counts.append(count)\n",
    "\n",
    "        # Calculate statistics\n",
    "        row['total_count'] = sum(counts)\n",
    "        row['avg_count'] = np.mean(counts)\n",
    "        row['min_count'] = min(counts)\n",
    "        row['max_count'] = max(counts)\n",
    "        row['std_dev'] = np.std(counts)\n",
    "        row['cv'] = row['std_dev'] / row['avg_count'] if row['avg_count'] > 0 else 0  # Coefficient of variation\n",
    "\n",
    "        data.append(row)\n",
    "    result_df = pd.DataFrame(data)\n",
    "\n",
    "    # Sort based on the specified method\n",
    "    match sort_by:\n",
    "        case 'total':\n",
    "            result_df = result_df.sort_values('total_count', ascending=False)\n",
    "        case 'min_count':\n",
    "            result_df = result_df.sort_values('min_count', ascending=False)\n",
    "        case 'consistency':\n",
    "            result_df = result_df.sort_values('cv', ascending=True)  # Lower CV means more consistent across categories\n",
    "        case _:  # default to 'average'\n",
    "            result_df = result_df.sort_values('avg_count', ascending=False)\n",
    "\n",
    "    result_df = result_df.reset_index(drop=True)\n",
    "\n",
    "    # Return top m common words\n",
    "    return result_df.head(top_m)\n",
    "\n",
    "\n",
    "common_category_words = get_top_m_common_words(top_n=30)\n",
    "display(common_category_words)"
   ]
  },
  {
   "cell_type": "code",
   "execution_count": 20,
   "id": "c34f4ce3",
   "metadata": {
    "ExecuteTime": {
     "end_time": "2025-08-02T17:04:49.790509Z",
     "start_time": "2025-08-02T17:04:47.262435Z"
    },
    "execution": {
     "iopub.execute_input": "2025-08-03T18:16:57.805123Z",
     "iopub.status.busy": "2025-08-03T18:16:57.804768Z",
     "iopub.status.idle": "2025-08-03T18:17:00.318974Z",
     "shell.execute_reply": "2025-08-03T18:17:00.317806Z"
    },
    "papermill": {
     "duration": 2.537065,
     "end_time": "2025-08-03T18:17:00.321299",
     "exception": false,
     "start_time": "2025-08-03T18:16:57.784234",
     "status": "completed"
    },
    "tags": []
   },
   "outputs": [
    {
     "data": {
      "text/html": [
       "<html>\n",
       "<head><meta charset=\"utf-8\" /></head>\n",
       "<body>\n",
       "    <div>            <script src=\"https://cdnjs.cloudflare.com/ajax/libs/mathjax/2.7.5/MathJax.js?config=TeX-AMS-MML_SVG\"></script><script type=\"text/javascript\">if (window.MathJax && window.MathJax.Hub && window.MathJax.Hub.Config) {window.MathJax.Hub.Config({SVG: {font: \"STIX-Web\"}});}</script>                <script type=\"text/javascript\">window.PlotlyConfig = {MathJaxConfig: 'local'};</script>\n",
       "        <script charset=\"utf-8\" src=\"https://cdn.plot.ly/plotly-2.35.2.min.js\"></script>                <div id=\"b551e0ef-20a5-434a-b70e-a0b8c36062e7\" class=\"plotly-graph-div\" style=\"height:400px; width:1000px;\"></div>            <script type=\"text/javascript\">                                    window.PLOTLYENV=window.PLOTLYENV || {};                                    if (document.getElementById(\"b551e0ef-20a5-434a-b70e-a0b8c36062e7\")) {                    Plotly.newPlot(                        \"b551e0ef-20a5-434a-b70e-a0b8c36062e7\",                        [{\"branchvalues\":\"total\",\"customdata\":[[279.0],[204.0],[153.0],[156.0],[140.0],[140.0],[253.0],[196.0],[152.0],[202.0],[232.0],[140.0],[261.0],[215.0],[253.0],[164.0],[234.0],[284.0],[181.0],[273.0],[178.0],[183.0],[1098.0],[201.0],[171.0],[163.0],[169.0],[309.0],[452.0],[162.0]],\"domain\":{\"x\":[0.0,1.0],\"y\":[0.0,1.0]},\"hovertemplate\":\"\\u003cb\\u003e%{label}\\u003c\\u002fb\\u003e\\u003cbr\\u003eCount: %{value}\\u003cextra\\u003e\\u003c\\u002fextra\\u003e\",\"ids\":[\"also\",\"bank\",\"business\",\"chief\",\"china\",\"companies\",\"company\",\"could\",\"deal\",\"economic\",\"economy\",\"financial\",\"firm\",\"government\",\"growth\",\"however\",\"last\",\"market\",\"may\",\"new\",\"oil\",\"one\",\"said\",\"sales\",\"shares\",\"two\",\"world\",\"would\",\"year\",\"years\"],\"labels\":[\"also\",\"bank\",\"business\",\"chief\",\"china\",\"companies\",\"company\",\"could\",\"deal\",\"economic\",\"economy\",\"financial\",\"firm\",\"government\",\"growth\",\"however\",\"last\",\"market\",\"may\",\"new\",\"oil\",\"one\",\"said\",\"sales\",\"shares\",\"two\",\"world\",\"would\",\"year\",\"years\"],\"marker\":{\"coloraxis\":\"coloraxis\",\"colors\":[279.0,204.0,153.0,156.0,140.0,140.0,253.0,196.0,152.0,202.0,232.0,140.0,261.0,215.0,253.0,164.0,234.0,284.0,181.0,273.0,178.0,183.0,1098.0,201.0,171.0,163.0,169.0,309.0,452.0,162.0]},\"name\":\"\",\"parents\":[\"\",\"\",\"\",\"\",\"\",\"\",\"\",\"\",\"\",\"\",\"\",\"\",\"\",\"\",\"\",\"\",\"\",\"\",\"\",\"\",\"\",\"\",\"\",\"\",\"\",\"\",\"\",\"\",\"\",\"\"],\"values\":[279,204,153,156,140,140,253,196,152,202,232,140,261,215,253,164,234,284,181,273,178,183,1098,201,171,163,169,309,452,162],\"type\":\"treemap\",\"textinfo\":\"label+value\"}],                        {\"template\":{\"data\":{\"histogram2dcontour\":[{\"type\":\"histogram2dcontour\",\"colorbar\":{\"outlinewidth\":0,\"ticks\":\"\"},\"colorscale\":[[0.0,\"#0d0887\"],[0.1111111111111111,\"#46039f\"],[0.2222222222222222,\"#7201a8\"],[0.3333333333333333,\"#9c179e\"],[0.4444444444444444,\"#bd3786\"],[0.5555555555555556,\"#d8576b\"],[0.6666666666666666,\"#ed7953\"],[0.7777777777777778,\"#fb9f3a\"],[0.8888888888888888,\"#fdca26\"],[1.0,\"#f0f921\"]]}],\"choropleth\":[{\"type\":\"choropleth\",\"colorbar\":{\"outlinewidth\":0,\"ticks\":\"\"}}],\"histogram2d\":[{\"type\":\"histogram2d\",\"colorbar\":{\"outlinewidth\":0,\"ticks\":\"\"},\"colorscale\":[[0.0,\"#0d0887\"],[0.1111111111111111,\"#46039f\"],[0.2222222222222222,\"#7201a8\"],[0.3333333333333333,\"#9c179e\"],[0.4444444444444444,\"#bd3786\"],[0.5555555555555556,\"#d8576b\"],[0.6666666666666666,\"#ed7953\"],[0.7777777777777778,\"#fb9f3a\"],[0.8888888888888888,\"#fdca26\"],[1.0,\"#f0f921\"]]}],\"heatmap\":[{\"type\":\"heatmap\",\"colorbar\":{\"outlinewidth\":0,\"ticks\":\"\"},\"colorscale\":[[0.0,\"#0d0887\"],[0.1111111111111111,\"#46039f\"],[0.2222222222222222,\"#7201a8\"],[0.3333333333333333,\"#9c179e\"],[0.4444444444444444,\"#bd3786\"],[0.5555555555555556,\"#d8576b\"],[0.6666666666666666,\"#ed7953\"],[0.7777777777777778,\"#fb9f3a\"],[0.8888888888888888,\"#fdca26\"],[1.0,\"#f0f921\"]]}],\"heatmapgl\":[{\"type\":\"heatmapgl\",\"colorbar\":{\"outlinewidth\":0,\"ticks\":\"\"},\"colorscale\":[[0.0,\"#0d0887\"],[0.1111111111111111,\"#46039f\"],[0.2222222222222222,\"#7201a8\"],[0.3333333333333333,\"#9c179e\"],[0.4444444444444444,\"#bd3786\"],[0.5555555555555556,\"#d8576b\"],[0.6666666666666666,\"#ed7953\"],[0.7777777777777778,\"#fb9f3a\"],[0.8888888888888888,\"#fdca26\"],[1.0,\"#f0f921\"]]}],\"contourcarpet\":[{\"type\":\"contourcarpet\",\"colorbar\":{\"outlinewidth\":0,\"ticks\":\"\"}}],\"contour\":[{\"type\":\"contour\",\"colorbar\":{\"outlinewidth\":0,\"ticks\":\"\"},\"colorscale\":[[0.0,\"#0d0887\"],[0.1111111111111111,\"#46039f\"],[0.2222222222222222,\"#7201a8\"],[0.3333333333333333,\"#9c179e\"],[0.4444444444444444,\"#bd3786\"],[0.5555555555555556,\"#d8576b\"],[0.6666666666666666,\"#ed7953\"],[0.7777777777777778,\"#fb9f3a\"],[0.8888888888888888,\"#fdca26\"],[1.0,\"#f0f921\"]]}],\"surface\":[{\"type\":\"surface\",\"colorbar\":{\"outlinewidth\":0,\"ticks\":\"\"},\"colorscale\":[[0.0,\"#0d0887\"],[0.1111111111111111,\"#46039f\"],[0.2222222222222222,\"#7201a8\"],[0.3333333333333333,\"#9c179e\"],[0.4444444444444444,\"#bd3786\"],[0.5555555555555556,\"#d8576b\"],[0.6666666666666666,\"#ed7953\"],[0.7777777777777778,\"#fb9f3a\"],[0.8888888888888888,\"#fdca26\"],[1.0,\"#f0f921\"]]}],\"mesh3d\":[{\"type\":\"mesh3d\",\"colorbar\":{\"outlinewidth\":0,\"ticks\":\"\"}}],\"scatter\":[{\"fillpattern\":{\"fillmode\":\"overlay\",\"size\":10,\"solidity\":0.2},\"type\":\"scatter\"}],\"parcoords\":[{\"type\":\"parcoords\",\"line\":{\"colorbar\":{\"outlinewidth\":0,\"ticks\":\"\"}}}],\"scatterpolargl\":[{\"type\":\"scatterpolargl\",\"marker\":{\"colorbar\":{\"outlinewidth\":0,\"ticks\":\"\"}}}],\"bar\":[{\"error_x\":{\"color\":\"#2a3f5f\"},\"error_y\":{\"color\":\"#2a3f5f\"},\"marker\":{\"line\":{\"color\":\"#E5ECF6\",\"width\":0.5},\"pattern\":{\"fillmode\":\"overlay\",\"size\":10,\"solidity\":0.2}},\"type\":\"bar\"}],\"scattergeo\":[{\"type\":\"scattergeo\",\"marker\":{\"colorbar\":{\"outlinewidth\":0,\"ticks\":\"\"}}}],\"scatterpolar\":[{\"type\":\"scatterpolar\",\"marker\":{\"colorbar\":{\"outlinewidth\":0,\"ticks\":\"\"}}}],\"histogram\":[{\"marker\":{\"pattern\":{\"fillmode\":\"overlay\",\"size\":10,\"solidity\":0.2}},\"type\":\"histogram\"}],\"scattergl\":[{\"type\":\"scattergl\",\"marker\":{\"colorbar\":{\"outlinewidth\":0,\"ticks\":\"\"}}}],\"scatter3d\":[{\"type\":\"scatter3d\",\"line\":{\"colorbar\":{\"outlinewidth\":0,\"ticks\":\"\"}},\"marker\":{\"colorbar\":{\"outlinewidth\":0,\"ticks\":\"\"}}}],\"scattermapbox\":[{\"type\":\"scattermapbox\",\"marker\":{\"colorbar\":{\"outlinewidth\":0,\"ticks\":\"\"}}}],\"scatterternary\":[{\"type\":\"scatterternary\",\"marker\":{\"colorbar\":{\"outlinewidth\":0,\"ticks\":\"\"}}}],\"scattercarpet\":[{\"type\":\"scattercarpet\",\"marker\":{\"colorbar\":{\"outlinewidth\":0,\"ticks\":\"\"}}}],\"carpet\":[{\"aaxis\":{\"endlinecolor\":\"#2a3f5f\",\"gridcolor\":\"white\",\"linecolor\":\"white\",\"minorgridcolor\":\"white\",\"startlinecolor\":\"#2a3f5f\"},\"baxis\":{\"endlinecolor\":\"#2a3f5f\",\"gridcolor\":\"white\",\"linecolor\":\"white\",\"minorgridcolor\":\"white\",\"startlinecolor\":\"#2a3f5f\"},\"type\":\"carpet\"}],\"table\":[{\"cells\":{\"fill\":{\"color\":\"#EBF0F8\"},\"line\":{\"color\":\"white\"}},\"header\":{\"fill\":{\"color\":\"#C8D4E3\"},\"line\":{\"color\":\"white\"}},\"type\":\"table\"}],\"barpolar\":[{\"marker\":{\"line\":{\"color\":\"#E5ECF6\",\"width\":0.5},\"pattern\":{\"fillmode\":\"overlay\",\"size\":10,\"solidity\":0.2}},\"type\":\"barpolar\"}],\"pie\":[{\"automargin\":true,\"type\":\"pie\"}]},\"layout\":{\"autotypenumbers\":\"strict\",\"colorway\":[\"#636efa\",\"#EF553B\",\"#00cc96\",\"#ab63fa\",\"#FFA15A\",\"#19d3f3\",\"#FF6692\",\"#B6E880\",\"#FF97FF\",\"#FECB52\"],\"font\":{\"color\":\"#2a3f5f\"},\"hovermode\":\"closest\",\"hoverlabel\":{\"align\":\"left\"},\"paper_bgcolor\":\"white\",\"plot_bgcolor\":\"#E5ECF6\",\"polar\":{\"bgcolor\":\"#E5ECF6\",\"angularaxis\":{\"gridcolor\":\"white\",\"linecolor\":\"white\",\"ticks\":\"\"},\"radialaxis\":{\"gridcolor\":\"white\",\"linecolor\":\"white\",\"ticks\":\"\"}},\"ternary\":{\"bgcolor\":\"#E5ECF6\",\"aaxis\":{\"gridcolor\":\"white\",\"linecolor\":\"white\",\"ticks\":\"\"},\"baxis\":{\"gridcolor\":\"white\",\"linecolor\":\"white\",\"ticks\":\"\"},\"caxis\":{\"gridcolor\":\"white\",\"linecolor\":\"white\",\"ticks\":\"\"}},\"coloraxis\":{\"colorbar\":{\"outlinewidth\":0,\"ticks\":\"\"}},\"colorscale\":{\"sequential\":[[0.0,\"#0d0887\"],[0.1111111111111111,\"#46039f\"],[0.2222222222222222,\"#7201a8\"],[0.3333333333333333,\"#9c179e\"],[0.4444444444444444,\"#bd3786\"],[0.5555555555555556,\"#d8576b\"],[0.6666666666666666,\"#ed7953\"],[0.7777777777777778,\"#fb9f3a\"],[0.8888888888888888,\"#fdca26\"],[1.0,\"#f0f921\"]],\"sequentialminus\":[[0.0,\"#0d0887\"],[0.1111111111111111,\"#46039f\"],[0.2222222222222222,\"#7201a8\"],[0.3333333333333333,\"#9c179e\"],[0.4444444444444444,\"#bd3786\"],[0.5555555555555556,\"#d8576b\"],[0.6666666666666666,\"#ed7953\"],[0.7777777777777778,\"#fb9f3a\"],[0.8888888888888888,\"#fdca26\"],[1.0,\"#f0f921\"]],\"diverging\":[[0,\"#8e0152\"],[0.1,\"#c51b7d\"],[0.2,\"#de77ae\"],[0.3,\"#f1b6da\"],[0.4,\"#fde0ef\"],[0.5,\"#f7f7f7\"],[0.6,\"#e6f5d0\"],[0.7,\"#b8e186\"],[0.8,\"#7fbc41\"],[0.9,\"#4d9221\"],[1,\"#276419\"]]},\"xaxis\":{\"gridcolor\":\"white\",\"linecolor\":\"white\",\"ticks\":\"\",\"title\":{\"standoff\":15},\"zerolinecolor\":\"white\",\"automargin\":true,\"zerolinewidth\":2},\"yaxis\":{\"gridcolor\":\"white\",\"linecolor\":\"white\",\"ticks\":\"\",\"title\":{\"standoff\":15},\"zerolinecolor\":\"white\",\"automargin\":true,\"zerolinewidth\":2},\"scene\":{\"xaxis\":{\"backgroundcolor\":\"#E5ECF6\",\"gridcolor\":\"white\",\"linecolor\":\"white\",\"showbackground\":true,\"ticks\":\"\",\"zerolinecolor\":\"white\",\"gridwidth\":2},\"yaxis\":{\"backgroundcolor\":\"#E5ECF6\",\"gridcolor\":\"white\",\"linecolor\":\"white\",\"showbackground\":true,\"ticks\":\"\",\"zerolinecolor\":\"white\",\"gridwidth\":2},\"zaxis\":{\"backgroundcolor\":\"#E5ECF6\",\"gridcolor\":\"white\",\"linecolor\":\"white\",\"showbackground\":true,\"ticks\":\"\",\"zerolinecolor\":\"white\",\"gridwidth\":2}},\"shapedefaults\":{\"line\":{\"color\":\"#2a3f5f\"}},\"annotationdefaults\":{\"arrowcolor\":\"#2a3f5f\",\"arrowhead\":0,\"arrowwidth\":1},\"geo\":{\"bgcolor\":\"white\",\"landcolor\":\"#E5ECF6\",\"subunitcolor\":\"white\",\"showland\":true,\"showlakes\":true,\"lakecolor\":\"white\"},\"title\":{\"x\":0.05},\"mapbox\":{\"style\":\"light\"}}},\"coloraxis\":{\"colorbar\":{\"title\":{\"text\":\"count\"}},\"colorscale\":[[0.0,\"rgb(247,251,255)\"],[0.125,\"rgb(222,235,247)\"],[0.25,\"rgb(198,219,239)\"],[0.375,\"rgb(158,202,225)\"],[0.5,\"rgb(107,174,214)\"],[0.625,\"rgb(66,146,198)\"],[0.75,\"rgb(33,113,181)\"],[0.875,\"rgb(8,81,156)\"],[1.0,\"rgb(8,48,107)\"]]},\"legend\":{\"tracegroupgap\":0},\"title\":{\"text\":\"Most Common Words in Business Articles\"},\"height\":400,\"width\":1000,\"margin\":{\"t\":50,\"l\":25,\"r\":25,\"b\":25},\"font\":{\"size\":14}},                        {\"responsive\": true}                    ).then(function(){\n",
       "                            \n",
       "var gd = document.getElementById('b551e0ef-20a5-434a-b70e-a0b8c36062e7');\n",
       "var x = new MutationObserver(function (mutations, observer) {{\n",
       "        var display = window.getComputedStyle(gd).display;\n",
       "        if (!display || display === 'none') {{\n",
       "            console.log([gd, 'removed!']);\n",
       "            Plotly.purge(gd);\n",
       "            observer.disconnect();\n",
       "        }}\n",
       "}});\n",
       "\n",
       "// Listen for the removal of the full notebook cells\n",
       "var notebookContainer = gd.closest('#notebook-container');\n",
       "if (notebookContainer) {{\n",
       "    x.observe(notebookContainer, {childList: true});\n",
       "}}\n",
       "\n",
       "// Listen for the clearing of the current output cell\n",
       "var outputEl = gd.closest('.output');\n",
       "if (outputEl) {{\n",
       "    x.observe(outputEl, {childList: true});\n",
       "}}\n",
       "\n",
       "                        })                };                            </script>        </div>\n",
       "</body>\n",
       "</html>"
      ]
     },
     "metadata": {},
     "output_type": "display_data"
    },
    {
     "data": {
      "text/html": [
       "<html>\n",
       "<head><meta charset=\"utf-8\" /></head>\n",
       "<body>\n",
       "    <div>            <script src=\"https://cdnjs.cloudflare.com/ajax/libs/mathjax/2.7.5/MathJax.js?config=TeX-AMS-MML_SVG\"></script><script type=\"text/javascript\">if (window.MathJax && window.MathJax.Hub && window.MathJax.Hub.Config) {window.MathJax.Hub.Config({SVG: {font: \"STIX-Web\"}});}</script>                <script type=\"text/javascript\">window.PlotlyConfig = {MathJaxConfig: 'local'};</script>\n",
       "        <script charset=\"utf-8\" src=\"https://cdn.plot.ly/plotly-2.35.2.min.js\"></script>                <div id=\"c7b78749-5063-47a1-8663-b9a378eb040e\" class=\"plotly-graph-div\" style=\"height:400px; width:1000px;\"></div>            <script type=\"text/javascript\">                                    window.PLOTLYENV=window.PLOTLYENV || {};                                    if (document.getElementById(\"c7b78749-5063-47a1-8663-b9a378eb040e\")) {                    Plotly.newPlot(                        \"c7b78749-5063-47a1-8663-b9a378eb040e\",                        [{\"branchvalues\":\"total\",\"customdata\":[[310.0],[176.0],[287.0],[201.0],[167.0],[210.0],[167.0],[188.0],[186.0],[218.0],[173.0],[166.0],[303.0],[222.0],[240.0],[324.0],[314.0],[182.0],[578.0],[211.0],[980.0],[173.0],[233.0],[271.0],[179.0],[242.0],[179.0],[237.0],[290.0],[224.0]],\"domain\":{\"x\":[0.0,1.0],\"y\":[0.0,1.0]},\"hovertemplate\":\"\\u003cb\\u003e%{label}\\u003c\\u002fb\\u003e\\u003cbr\\u003eCount: %{value}\\u003cextra\\u003e\\u003c\\u002fextra\\u003e\",\"ids\":[\"also\",\"computer\",\"could\",\"digital\",\"first\",\"games\",\"get\",\"like\",\"make\",\"many\",\"microsoft\",\"million\",\"mobile\",\"music\",\"net\",\"new\",\"one\",\"online\",\"people\",\"phone\",\"said\",\"service\",\"software\",\"technology\",\"time\",\"use\",\"used\",\"users\",\"would\",\"year\"],\"labels\":[\"also\",\"computer\",\"could\",\"digital\",\"first\",\"games\",\"get\",\"like\",\"make\",\"many\",\"microsoft\",\"million\",\"mobile\",\"music\",\"net\",\"new\",\"one\",\"online\",\"people\",\"phone\",\"said\",\"service\",\"software\",\"technology\",\"time\",\"use\",\"used\",\"users\",\"would\",\"year\"],\"marker\":{\"coloraxis\":\"coloraxis\",\"colors\":[310.0,176.0,287.0,201.0,167.0,210.0,167.0,188.0,186.0,218.0,173.0,166.0,303.0,222.0,240.0,324.0,314.0,182.0,578.0,211.0,980.0,173.0,233.0,271.0,179.0,242.0,179.0,237.0,290.0,224.0]},\"name\":\"\",\"parents\":[\"\",\"\",\"\",\"\",\"\",\"\",\"\",\"\",\"\",\"\",\"\",\"\",\"\",\"\",\"\",\"\",\"\",\"\",\"\",\"\",\"\",\"\",\"\",\"\",\"\",\"\",\"\",\"\",\"\",\"\"],\"values\":[310,176,287,201,167,210,167,188,186,218,173,166,303,222,240,324,314,182,578,211,980,173,233,271,179,242,179,237,290,224],\"type\":\"treemap\",\"textinfo\":\"label+value\"}],                        {\"template\":{\"data\":{\"histogram2dcontour\":[{\"type\":\"histogram2dcontour\",\"colorbar\":{\"outlinewidth\":0,\"ticks\":\"\"},\"colorscale\":[[0.0,\"#0d0887\"],[0.1111111111111111,\"#46039f\"],[0.2222222222222222,\"#7201a8\"],[0.3333333333333333,\"#9c179e\"],[0.4444444444444444,\"#bd3786\"],[0.5555555555555556,\"#d8576b\"],[0.6666666666666666,\"#ed7953\"],[0.7777777777777778,\"#fb9f3a\"],[0.8888888888888888,\"#fdca26\"],[1.0,\"#f0f921\"]]}],\"choropleth\":[{\"type\":\"choropleth\",\"colorbar\":{\"outlinewidth\":0,\"ticks\":\"\"}}],\"histogram2d\":[{\"type\":\"histogram2d\",\"colorbar\":{\"outlinewidth\":0,\"ticks\":\"\"},\"colorscale\":[[0.0,\"#0d0887\"],[0.1111111111111111,\"#46039f\"],[0.2222222222222222,\"#7201a8\"],[0.3333333333333333,\"#9c179e\"],[0.4444444444444444,\"#bd3786\"],[0.5555555555555556,\"#d8576b\"],[0.6666666666666666,\"#ed7953\"],[0.7777777777777778,\"#fb9f3a\"],[0.8888888888888888,\"#fdca26\"],[1.0,\"#f0f921\"]]}],\"heatmap\":[{\"type\":\"heatmap\",\"colorbar\":{\"outlinewidth\":0,\"ticks\":\"\"},\"colorscale\":[[0.0,\"#0d0887\"],[0.1111111111111111,\"#46039f\"],[0.2222222222222222,\"#7201a8\"],[0.3333333333333333,\"#9c179e\"],[0.4444444444444444,\"#bd3786\"],[0.5555555555555556,\"#d8576b\"],[0.6666666666666666,\"#ed7953\"],[0.7777777777777778,\"#fb9f3a\"],[0.8888888888888888,\"#fdca26\"],[1.0,\"#f0f921\"]]}],\"heatmapgl\":[{\"type\":\"heatmapgl\",\"colorbar\":{\"outlinewidth\":0,\"ticks\":\"\"},\"colorscale\":[[0.0,\"#0d0887\"],[0.1111111111111111,\"#46039f\"],[0.2222222222222222,\"#7201a8\"],[0.3333333333333333,\"#9c179e\"],[0.4444444444444444,\"#bd3786\"],[0.5555555555555556,\"#d8576b\"],[0.6666666666666666,\"#ed7953\"],[0.7777777777777778,\"#fb9f3a\"],[0.8888888888888888,\"#fdca26\"],[1.0,\"#f0f921\"]]}],\"contourcarpet\":[{\"type\":\"contourcarpet\",\"colorbar\":{\"outlinewidth\":0,\"ticks\":\"\"}}],\"contour\":[{\"type\":\"contour\",\"colorbar\":{\"outlinewidth\":0,\"ticks\":\"\"},\"colorscale\":[[0.0,\"#0d0887\"],[0.1111111111111111,\"#46039f\"],[0.2222222222222222,\"#7201a8\"],[0.3333333333333333,\"#9c179e\"],[0.4444444444444444,\"#bd3786\"],[0.5555555555555556,\"#d8576b\"],[0.6666666666666666,\"#ed7953\"],[0.7777777777777778,\"#fb9f3a\"],[0.8888888888888888,\"#fdca26\"],[1.0,\"#f0f921\"]]}],\"surface\":[{\"type\":\"surface\",\"colorbar\":{\"outlinewidth\":0,\"ticks\":\"\"},\"colorscale\":[[0.0,\"#0d0887\"],[0.1111111111111111,\"#46039f\"],[0.2222222222222222,\"#7201a8\"],[0.3333333333333333,\"#9c179e\"],[0.4444444444444444,\"#bd3786\"],[0.5555555555555556,\"#d8576b\"],[0.6666666666666666,\"#ed7953\"],[0.7777777777777778,\"#fb9f3a\"],[0.8888888888888888,\"#fdca26\"],[1.0,\"#f0f921\"]]}],\"mesh3d\":[{\"type\":\"mesh3d\",\"colorbar\":{\"outlinewidth\":0,\"ticks\":\"\"}}],\"scatter\":[{\"fillpattern\":{\"fillmode\":\"overlay\",\"size\":10,\"solidity\":0.2},\"type\":\"scatter\"}],\"parcoords\":[{\"type\":\"parcoords\",\"line\":{\"colorbar\":{\"outlinewidth\":0,\"ticks\":\"\"}}}],\"scatterpolargl\":[{\"type\":\"scatterpolargl\",\"marker\":{\"colorbar\":{\"outlinewidth\":0,\"ticks\":\"\"}}}],\"bar\":[{\"error_x\":{\"color\":\"#2a3f5f\"},\"error_y\":{\"color\":\"#2a3f5f\"},\"marker\":{\"line\":{\"color\":\"#E5ECF6\",\"width\":0.5},\"pattern\":{\"fillmode\":\"overlay\",\"size\":10,\"solidity\":0.2}},\"type\":\"bar\"}],\"scattergeo\":[{\"type\":\"scattergeo\",\"marker\":{\"colorbar\":{\"outlinewidth\":0,\"ticks\":\"\"}}}],\"scatterpolar\":[{\"type\":\"scatterpolar\",\"marker\":{\"colorbar\":{\"outlinewidth\":0,\"ticks\":\"\"}}}],\"histogram\":[{\"marker\":{\"pattern\":{\"fillmode\":\"overlay\",\"size\":10,\"solidity\":0.2}},\"type\":\"histogram\"}],\"scattergl\":[{\"type\":\"scattergl\",\"marker\":{\"colorbar\":{\"outlinewidth\":0,\"ticks\":\"\"}}}],\"scatter3d\":[{\"type\":\"scatter3d\",\"line\":{\"colorbar\":{\"outlinewidth\":0,\"ticks\":\"\"}},\"marker\":{\"colorbar\":{\"outlinewidth\":0,\"ticks\":\"\"}}}],\"scattermapbox\":[{\"type\":\"scattermapbox\",\"marker\":{\"colorbar\":{\"outlinewidth\":0,\"ticks\":\"\"}}}],\"scatterternary\":[{\"type\":\"scatterternary\",\"marker\":{\"colorbar\":{\"outlinewidth\":0,\"ticks\":\"\"}}}],\"scattercarpet\":[{\"type\":\"scattercarpet\",\"marker\":{\"colorbar\":{\"outlinewidth\":0,\"ticks\":\"\"}}}],\"carpet\":[{\"aaxis\":{\"endlinecolor\":\"#2a3f5f\",\"gridcolor\":\"white\",\"linecolor\":\"white\",\"minorgridcolor\":\"white\",\"startlinecolor\":\"#2a3f5f\"},\"baxis\":{\"endlinecolor\":\"#2a3f5f\",\"gridcolor\":\"white\",\"linecolor\":\"white\",\"minorgridcolor\":\"white\",\"startlinecolor\":\"#2a3f5f\"},\"type\":\"carpet\"}],\"table\":[{\"cells\":{\"fill\":{\"color\":\"#EBF0F8\"},\"line\":{\"color\":\"white\"}},\"header\":{\"fill\":{\"color\":\"#C8D4E3\"},\"line\":{\"color\":\"white\"}},\"type\":\"table\"}],\"barpolar\":[{\"marker\":{\"line\":{\"color\":\"#E5ECF6\",\"width\":0.5},\"pattern\":{\"fillmode\":\"overlay\",\"size\":10,\"solidity\":0.2}},\"type\":\"barpolar\"}],\"pie\":[{\"automargin\":true,\"type\":\"pie\"}]},\"layout\":{\"autotypenumbers\":\"strict\",\"colorway\":[\"#636efa\",\"#EF553B\",\"#00cc96\",\"#ab63fa\",\"#FFA15A\",\"#19d3f3\",\"#FF6692\",\"#B6E880\",\"#FF97FF\",\"#FECB52\"],\"font\":{\"color\":\"#2a3f5f\"},\"hovermode\":\"closest\",\"hoverlabel\":{\"align\":\"left\"},\"paper_bgcolor\":\"white\",\"plot_bgcolor\":\"#E5ECF6\",\"polar\":{\"bgcolor\":\"#E5ECF6\",\"angularaxis\":{\"gridcolor\":\"white\",\"linecolor\":\"white\",\"ticks\":\"\"},\"radialaxis\":{\"gridcolor\":\"white\",\"linecolor\":\"white\",\"ticks\":\"\"}},\"ternary\":{\"bgcolor\":\"#E5ECF6\",\"aaxis\":{\"gridcolor\":\"white\",\"linecolor\":\"white\",\"ticks\":\"\"},\"baxis\":{\"gridcolor\":\"white\",\"linecolor\":\"white\",\"ticks\":\"\"},\"caxis\":{\"gridcolor\":\"white\",\"linecolor\":\"white\",\"ticks\":\"\"}},\"coloraxis\":{\"colorbar\":{\"outlinewidth\":0,\"ticks\":\"\"}},\"colorscale\":{\"sequential\":[[0.0,\"#0d0887\"],[0.1111111111111111,\"#46039f\"],[0.2222222222222222,\"#7201a8\"],[0.3333333333333333,\"#9c179e\"],[0.4444444444444444,\"#bd3786\"],[0.5555555555555556,\"#d8576b\"],[0.6666666666666666,\"#ed7953\"],[0.7777777777777778,\"#fb9f3a\"],[0.8888888888888888,\"#fdca26\"],[1.0,\"#f0f921\"]],\"sequentialminus\":[[0.0,\"#0d0887\"],[0.1111111111111111,\"#46039f\"],[0.2222222222222222,\"#7201a8\"],[0.3333333333333333,\"#9c179e\"],[0.4444444444444444,\"#bd3786\"],[0.5555555555555556,\"#d8576b\"],[0.6666666666666666,\"#ed7953\"],[0.7777777777777778,\"#fb9f3a\"],[0.8888888888888888,\"#fdca26\"],[1.0,\"#f0f921\"]],\"diverging\":[[0,\"#8e0152\"],[0.1,\"#c51b7d\"],[0.2,\"#de77ae\"],[0.3,\"#f1b6da\"],[0.4,\"#fde0ef\"],[0.5,\"#f7f7f7\"],[0.6,\"#e6f5d0\"],[0.7,\"#b8e186\"],[0.8,\"#7fbc41\"],[0.9,\"#4d9221\"],[1,\"#276419\"]]},\"xaxis\":{\"gridcolor\":\"white\",\"linecolor\":\"white\",\"ticks\":\"\",\"title\":{\"standoff\":15},\"zerolinecolor\":\"white\",\"automargin\":true,\"zerolinewidth\":2},\"yaxis\":{\"gridcolor\":\"white\",\"linecolor\":\"white\",\"ticks\":\"\",\"title\":{\"standoff\":15},\"zerolinecolor\":\"white\",\"automargin\":true,\"zerolinewidth\":2},\"scene\":{\"xaxis\":{\"backgroundcolor\":\"#E5ECF6\",\"gridcolor\":\"white\",\"linecolor\":\"white\",\"showbackground\":true,\"ticks\":\"\",\"zerolinecolor\":\"white\",\"gridwidth\":2},\"yaxis\":{\"backgroundcolor\":\"#E5ECF6\",\"gridcolor\":\"white\",\"linecolor\":\"white\",\"showbackground\":true,\"ticks\":\"\",\"zerolinecolor\":\"white\",\"gridwidth\":2},\"zaxis\":{\"backgroundcolor\":\"#E5ECF6\",\"gridcolor\":\"white\",\"linecolor\":\"white\",\"showbackground\":true,\"ticks\":\"\",\"zerolinecolor\":\"white\",\"gridwidth\":2}},\"shapedefaults\":{\"line\":{\"color\":\"#2a3f5f\"}},\"annotationdefaults\":{\"arrowcolor\":\"#2a3f5f\",\"arrowhead\":0,\"arrowwidth\":1},\"geo\":{\"bgcolor\":\"white\",\"landcolor\":\"#E5ECF6\",\"subunitcolor\":\"white\",\"showland\":true,\"showlakes\":true,\"lakecolor\":\"white\"},\"title\":{\"x\":0.05},\"mapbox\":{\"style\":\"light\"}}},\"coloraxis\":{\"colorbar\":{\"title\":{\"text\":\"count\"}},\"colorscale\":[[0.0,\"rgb(252,251,253)\"],[0.125,\"rgb(239,237,245)\"],[0.25,\"rgb(218,218,235)\"],[0.375,\"rgb(188,189,220)\"],[0.5,\"rgb(158,154,200)\"],[0.625,\"rgb(128,125,186)\"],[0.75,\"rgb(106,81,163)\"],[0.875,\"rgb(84,39,143)\"],[1.0,\"rgb(63,0,125)\"]]},\"legend\":{\"tracegroupgap\":0},\"title\":{\"text\":\"Most Common Words in Tech Articles\"},\"height\":400,\"width\":1000,\"margin\":{\"t\":50,\"l\":25,\"r\":25,\"b\":25},\"font\":{\"size\":14}},                        {\"responsive\": true}                    ).then(function(){\n",
       "                            \n",
       "var gd = document.getElementById('c7b78749-5063-47a1-8663-b9a378eb040e');\n",
       "var x = new MutationObserver(function (mutations, observer) {{\n",
       "        var display = window.getComputedStyle(gd).display;\n",
       "        if (!display || display === 'none') {{\n",
       "            console.log([gd, 'removed!']);\n",
       "            Plotly.purge(gd);\n",
       "            observer.disconnect();\n",
       "        }}\n",
       "}});\n",
       "\n",
       "// Listen for the removal of the full notebook cells\n",
       "var notebookContainer = gd.closest('#notebook-container');\n",
       "if (notebookContainer) {{\n",
       "    x.observe(notebookContainer, {childList: true});\n",
       "}}\n",
       "\n",
       "// Listen for the clearing of the current output cell\n",
       "var outputEl = gd.closest('.output');\n",
       "if (outputEl) {{\n",
       "    x.observe(outputEl, {childList: true});\n",
       "}}\n",
       "\n",
       "                        })                };                            </script>        </div>\n",
       "</body>\n",
       "</html>"
      ]
     },
     "metadata": {},
     "output_type": "display_data"
    },
    {
     "data": {
      "text/html": [
       "<html>\n",
       "<head><meta charset=\"utf-8\" /></head>\n",
       "<body>\n",
       "    <div>            <script src=\"https://cdnjs.cloudflare.com/ajax/libs/mathjax/2.7.5/MathJax.js?config=TeX-AMS-MML_SVG\"></script><script type=\"text/javascript\">if (window.MathJax && window.MathJax.Hub && window.MathJax.Hub.Config) {window.MathJax.Hub.Config({SVG: {font: \"STIX-Web\"}});}</script>                <script type=\"text/javascript\">window.PlotlyConfig = {MathJaxConfig: 'local'};</script>\n",
       "        <script charset=\"utf-8\" src=\"https://cdn.plot.ly/plotly-2.35.2.min.js\"></script>                <div id=\"b9fa1b58-ac38-4c5e-9d09-1fd60d90ef04\" class=\"plotly-graph-div\" style=\"height:400px; width:1000px;\"></div>            <script type=\"text/javascript\">                                    window.PLOTLYENV=window.PLOTLYENV || {};                                    if (document.getElementById(\"b9fa1b58-ac38-4c5e-9d09-1fd60d90ef04\")) {                    Plotly.newPlot(                        \"b9fa1b58-ac38-4c5e-9d09-1fd60d90ef04\",                        [{\"branchvalues\":\"total\",\"customdata\":[[298.0],[381.0],[176.0],[257.0],[153.0],[265.0],[405.0],[159.0],[453.0],[190.0],[474.0],[158.0],[278.0],[271.0],[185.0],[360.0],[363.0],[207.0],[188.0],[190.0],[1412.0],[182.0],[151.0],[175.0],[183.0],[212.0],[155.0],[161.0],[685.0],[175.0]],\"domain\":{\"x\":[0.0,1.0],\"y\":[0.0,1.0]},\"hovertemplate\":\"\\u003cb\\u003e%{label}\\u003c\\u002fb\\u003e\\u003cbr\\u003eCount: %{value}\\u003cextra\\u003e\\u003c\\u002fextra\\u003e\",\"ids\":[\"also\",\"blair\",\"britain\",\"brown\",\"chancellor\",\"could\",\"election\",\"general\",\"government\",\"howard\",\"labour\",\"leader\",\"minister\",\"new\",\"one\",\"party\",\"people\",\"plans\",\"prime\",\"public\",\"said\",\"say\",\"says\",\"secretary\",\"tax\",\"told\",\"tories\",\"tory\",\"would\",\"year\"],\"labels\":[\"also\",\"blair\",\"britain\",\"brown\",\"chancellor\",\"could\",\"election\",\"general\",\"government\",\"howard\",\"labour\",\"leader\",\"minister\",\"new\",\"one\",\"party\",\"people\",\"plans\",\"prime\",\"public\",\"said\",\"say\",\"says\",\"secretary\",\"tax\",\"told\",\"tories\",\"tory\",\"would\",\"year\"],\"marker\":{\"coloraxis\":\"coloraxis\",\"colors\":[298.0,381.0,176.0,257.0,153.0,265.0,405.0,159.0,453.0,190.0,474.0,158.0,278.0,271.0,185.0,360.0,363.0,207.0,188.0,190.0,1412.0,182.0,151.0,175.0,183.0,212.0,155.0,161.0,685.0,175.0]},\"name\":\"\",\"parents\":[\"\",\"\",\"\",\"\",\"\",\"\",\"\",\"\",\"\",\"\",\"\",\"\",\"\",\"\",\"\",\"\",\"\",\"\",\"\",\"\",\"\",\"\",\"\",\"\",\"\",\"\",\"\",\"\",\"\",\"\"],\"values\":[298,381,176,257,153,265,405,159,453,190,474,158,278,271,185,360,363,207,188,190,1412,182,151,175,183,212,155,161,685,175],\"type\":\"treemap\",\"textinfo\":\"label+value\"}],                        {\"template\":{\"data\":{\"histogram2dcontour\":[{\"type\":\"histogram2dcontour\",\"colorbar\":{\"outlinewidth\":0,\"ticks\":\"\"},\"colorscale\":[[0.0,\"#0d0887\"],[0.1111111111111111,\"#46039f\"],[0.2222222222222222,\"#7201a8\"],[0.3333333333333333,\"#9c179e\"],[0.4444444444444444,\"#bd3786\"],[0.5555555555555556,\"#d8576b\"],[0.6666666666666666,\"#ed7953\"],[0.7777777777777778,\"#fb9f3a\"],[0.8888888888888888,\"#fdca26\"],[1.0,\"#f0f921\"]]}],\"choropleth\":[{\"type\":\"choropleth\",\"colorbar\":{\"outlinewidth\":0,\"ticks\":\"\"}}],\"histogram2d\":[{\"type\":\"histogram2d\",\"colorbar\":{\"outlinewidth\":0,\"ticks\":\"\"},\"colorscale\":[[0.0,\"#0d0887\"],[0.1111111111111111,\"#46039f\"],[0.2222222222222222,\"#7201a8\"],[0.3333333333333333,\"#9c179e\"],[0.4444444444444444,\"#bd3786\"],[0.5555555555555556,\"#d8576b\"],[0.6666666666666666,\"#ed7953\"],[0.7777777777777778,\"#fb9f3a\"],[0.8888888888888888,\"#fdca26\"],[1.0,\"#f0f921\"]]}],\"heatmap\":[{\"type\":\"heatmap\",\"colorbar\":{\"outlinewidth\":0,\"ticks\":\"\"},\"colorscale\":[[0.0,\"#0d0887\"],[0.1111111111111111,\"#46039f\"],[0.2222222222222222,\"#7201a8\"],[0.3333333333333333,\"#9c179e\"],[0.4444444444444444,\"#bd3786\"],[0.5555555555555556,\"#d8576b\"],[0.6666666666666666,\"#ed7953\"],[0.7777777777777778,\"#fb9f3a\"],[0.8888888888888888,\"#fdca26\"],[1.0,\"#f0f921\"]]}],\"heatmapgl\":[{\"type\":\"heatmapgl\",\"colorbar\":{\"outlinewidth\":0,\"ticks\":\"\"},\"colorscale\":[[0.0,\"#0d0887\"],[0.1111111111111111,\"#46039f\"],[0.2222222222222222,\"#7201a8\"],[0.3333333333333333,\"#9c179e\"],[0.4444444444444444,\"#bd3786\"],[0.5555555555555556,\"#d8576b\"],[0.6666666666666666,\"#ed7953\"],[0.7777777777777778,\"#fb9f3a\"],[0.8888888888888888,\"#fdca26\"],[1.0,\"#f0f921\"]]}],\"contourcarpet\":[{\"type\":\"contourcarpet\",\"colorbar\":{\"outlinewidth\":0,\"ticks\":\"\"}}],\"contour\":[{\"type\":\"contour\",\"colorbar\":{\"outlinewidth\":0,\"ticks\":\"\"},\"colorscale\":[[0.0,\"#0d0887\"],[0.1111111111111111,\"#46039f\"],[0.2222222222222222,\"#7201a8\"],[0.3333333333333333,\"#9c179e\"],[0.4444444444444444,\"#bd3786\"],[0.5555555555555556,\"#d8576b\"],[0.6666666666666666,\"#ed7953\"],[0.7777777777777778,\"#fb9f3a\"],[0.8888888888888888,\"#fdca26\"],[1.0,\"#f0f921\"]]}],\"surface\":[{\"type\":\"surface\",\"colorbar\":{\"outlinewidth\":0,\"ticks\":\"\"},\"colorscale\":[[0.0,\"#0d0887\"],[0.1111111111111111,\"#46039f\"],[0.2222222222222222,\"#7201a8\"],[0.3333333333333333,\"#9c179e\"],[0.4444444444444444,\"#bd3786\"],[0.5555555555555556,\"#d8576b\"],[0.6666666666666666,\"#ed7953\"],[0.7777777777777778,\"#fb9f3a\"],[0.8888888888888888,\"#fdca26\"],[1.0,\"#f0f921\"]]}],\"mesh3d\":[{\"type\":\"mesh3d\",\"colorbar\":{\"outlinewidth\":0,\"ticks\":\"\"}}],\"scatter\":[{\"fillpattern\":{\"fillmode\":\"overlay\",\"size\":10,\"solidity\":0.2},\"type\":\"scatter\"}],\"parcoords\":[{\"type\":\"parcoords\",\"line\":{\"colorbar\":{\"outlinewidth\":0,\"ticks\":\"\"}}}],\"scatterpolargl\":[{\"type\":\"scatterpolargl\",\"marker\":{\"colorbar\":{\"outlinewidth\":0,\"ticks\":\"\"}}}],\"bar\":[{\"error_x\":{\"color\":\"#2a3f5f\"},\"error_y\":{\"color\":\"#2a3f5f\"},\"marker\":{\"line\":{\"color\":\"#E5ECF6\",\"width\":0.5},\"pattern\":{\"fillmode\":\"overlay\",\"size\":10,\"solidity\":0.2}},\"type\":\"bar\"}],\"scattergeo\":[{\"type\":\"scattergeo\",\"marker\":{\"colorbar\":{\"outlinewidth\":0,\"ticks\":\"\"}}}],\"scatterpolar\":[{\"type\":\"scatterpolar\",\"marker\":{\"colorbar\":{\"outlinewidth\":0,\"ticks\":\"\"}}}],\"histogram\":[{\"marker\":{\"pattern\":{\"fillmode\":\"overlay\",\"size\":10,\"solidity\":0.2}},\"type\":\"histogram\"}],\"scattergl\":[{\"type\":\"scattergl\",\"marker\":{\"colorbar\":{\"outlinewidth\":0,\"ticks\":\"\"}}}],\"scatter3d\":[{\"type\":\"scatter3d\",\"line\":{\"colorbar\":{\"outlinewidth\":0,\"ticks\":\"\"}},\"marker\":{\"colorbar\":{\"outlinewidth\":0,\"ticks\":\"\"}}}],\"scattermapbox\":[{\"type\":\"scattermapbox\",\"marker\":{\"colorbar\":{\"outlinewidth\":0,\"ticks\":\"\"}}}],\"scatterternary\":[{\"type\":\"scatterternary\",\"marker\":{\"colorbar\":{\"outlinewidth\":0,\"ticks\":\"\"}}}],\"scattercarpet\":[{\"type\":\"scattercarpet\",\"marker\":{\"colorbar\":{\"outlinewidth\":0,\"ticks\":\"\"}}}],\"carpet\":[{\"aaxis\":{\"endlinecolor\":\"#2a3f5f\",\"gridcolor\":\"white\",\"linecolor\":\"white\",\"minorgridcolor\":\"white\",\"startlinecolor\":\"#2a3f5f\"},\"baxis\":{\"endlinecolor\":\"#2a3f5f\",\"gridcolor\":\"white\",\"linecolor\":\"white\",\"minorgridcolor\":\"white\",\"startlinecolor\":\"#2a3f5f\"},\"type\":\"carpet\"}],\"table\":[{\"cells\":{\"fill\":{\"color\":\"#EBF0F8\"},\"line\":{\"color\":\"white\"}},\"header\":{\"fill\":{\"color\":\"#C8D4E3\"},\"line\":{\"color\":\"white\"}},\"type\":\"table\"}],\"barpolar\":[{\"marker\":{\"line\":{\"color\":\"#E5ECF6\",\"width\":0.5},\"pattern\":{\"fillmode\":\"overlay\",\"size\":10,\"solidity\":0.2}},\"type\":\"barpolar\"}],\"pie\":[{\"automargin\":true,\"type\":\"pie\"}]},\"layout\":{\"autotypenumbers\":\"strict\",\"colorway\":[\"#636efa\",\"#EF553B\",\"#00cc96\",\"#ab63fa\",\"#FFA15A\",\"#19d3f3\",\"#FF6692\",\"#B6E880\",\"#FF97FF\",\"#FECB52\"],\"font\":{\"color\":\"#2a3f5f\"},\"hovermode\":\"closest\",\"hoverlabel\":{\"align\":\"left\"},\"paper_bgcolor\":\"white\",\"plot_bgcolor\":\"#E5ECF6\",\"polar\":{\"bgcolor\":\"#E5ECF6\",\"angularaxis\":{\"gridcolor\":\"white\",\"linecolor\":\"white\",\"ticks\":\"\"},\"radialaxis\":{\"gridcolor\":\"white\",\"linecolor\":\"white\",\"ticks\":\"\"}},\"ternary\":{\"bgcolor\":\"#E5ECF6\",\"aaxis\":{\"gridcolor\":\"white\",\"linecolor\":\"white\",\"ticks\":\"\"},\"baxis\":{\"gridcolor\":\"white\",\"linecolor\":\"white\",\"ticks\":\"\"},\"caxis\":{\"gridcolor\":\"white\",\"linecolor\":\"white\",\"ticks\":\"\"}},\"coloraxis\":{\"colorbar\":{\"outlinewidth\":0,\"ticks\":\"\"}},\"colorscale\":{\"sequential\":[[0.0,\"#0d0887\"],[0.1111111111111111,\"#46039f\"],[0.2222222222222222,\"#7201a8\"],[0.3333333333333333,\"#9c179e\"],[0.4444444444444444,\"#bd3786\"],[0.5555555555555556,\"#d8576b\"],[0.6666666666666666,\"#ed7953\"],[0.7777777777777778,\"#fb9f3a\"],[0.8888888888888888,\"#fdca26\"],[1.0,\"#f0f921\"]],\"sequentialminus\":[[0.0,\"#0d0887\"],[0.1111111111111111,\"#46039f\"],[0.2222222222222222,\"#7201a8\"],[0.3333333333333333,\"#9c179e\"],[0.4444444444444444,\"#bd3786\"],[0.5555555555555556,\"#d8576b\"],[0.6666666666666666,\"#ed7953\"],[0.7777777777777778,\"#fb9f3a\"],[0.8888888888888888,\"#fdca26\"],[1.0,\"#f0f921\"]],\"diverging\":[[0,\"#8e0152\"],[0.1,\"#c51b7d\"],[0.2,\"#de77ae\"],[0.3,\"#f1b6da\"],[0.4,\"#fde0ef\"],[0.5,\"#f7f7f7\"],[0.6,\"#e6f5d0\"],[0.7,\"#b8e186\"],[0.8,\"#7fbc41\"],[0.9,\"#4d9221\"],[1,\"#276419\"]]},\"xaxis\":{\"gridcolor\":\"white\",\"linecolor\":\"white\",\"ticks\":\"\",\"title\":{\"standoff\":15},\"zerolinecolor\":\"white\",\"automargin\":true,\"zerolinewidth\":2},\"yaxis\":{\"gridcolor\":\"white\",\"linecolor\":\"white\",\"ticks\":\"\",\"title\":{\"standoff\":15},\"zerolinecolor\":\"white\",\"automargin\":true,\"zerolinewidth\":2},\"scene\":{\"xaxis\":{\"backgroundcolor\":\"#E5ECF6\",\"gridcolor\":\"white\",\"linecolor\":\"white\",\"showbackground\":true,\"ticks\":\"\",\"zerolinecolor\":\"white\",\"gridwidth\":2},\"yaxis\":{\"backgroundcolor\":\"#E5ECF6\",\"gridcolor\":\"white\",\"linecolor\":\"white\",\"showbackground\":true,\"ticks\":\"\",\"zerolinecolor\":\"white\",\"gridwidth\":2},\"zaxis\":{\"backgroundcolor\":\"#E5ECF6\",\"gridcolor\":\"white\",\"linecolor\":\"white\",\"showbackground\":true,\"ticks\":\"\",\"zerolinecolor\":\"white\",\"gridwidth\":2}},\"shapedefaults\":{\"line\":{\"color\":\"#2a3f5f\"}},\"annotationdefaults\":{\"arrowcolor\":\"#2a3f5f\",\"arrowhead\":0,\"arrowwidth\":1},\"geo\":{\"bgcolor\":\"white\",\"landcolor\":\"#E5ECF6\",\"subunitcolor\":\"white\",\"showland\":true,\"showlakes\":true,\"lakecolor\":\"white\"},\"title\":{\"x\":0.05},\"mapbox\":{\"style\":\"light\"}}},\"coloraxis\":{\"colorbar\":{\"title\":{\"text\":\"count\"}},\"colorscale\":[[0.0,\"rgb(247,252,245)\"],[0.125,\"rgb(229,245,224)\"],[0.25,\"rgb(199,233,192)\"],[0.375,\"rgb(161,217,155)\"],[0.5,\"rgb(116,196,118)\"],[0.625,\"rgb(65,171,93)\"],[0.75,\"rgb(35,139,69)\"],[0.875,\"rgb(0,109,44)\"],[1.0,\"rgb(0,68,27)\"]]},\"legend\":{\"tracegroupgap\":0},\"title\":{\"text\":\"Most Common Words in Politics Articles\"},\"height\":400,\"width\":1000,\"margin\":{\"t\":50,\"l\":25,\"r\":25,\"b\":25},\"font\":{\"size\":14}},                        {\"responsive\": true}                    ).then(function(){\n",
       "                            \n",
       "var gd = document.getElementById('b9fa1b58-ac38-4c5e-9d09-1fd60d90ef04');\n",
       "var x = new MutationObserver(function (mutations, observer) {{\n",
       "        var display = window.getComputedStyle(gd).display;\n",
       "        if (!display || display === 'none') {{\n",
       "            console.log([gd, 'removed!']);\n",
       "            Plotly.purge(gd);\n",
       "            observer.disconnect();\n",
       "        }}\n",
       "}});\n",
       "\n",
       "// Listen for the removal of the full notebook cells\n",
       "var notebookContainer = gd.closest('#notebook-container');\n",
       "if (notebookContainer) {{\n",
       "    x.observe(notebookContainer, {childList: true});\n",
       "}}\n",
       "\n",
       "// Listen for the clearing of the current output cell\n",
       "var outputEl = gd.closest('.output');\n",
       "if (outputEl) {{\n",
       "    x.observe(outputEl, {childList: true});\n",
       "}}\n",
       "\n",
       "                        })                };                            </script>        </div>\n",
       "</body>\n",
       "</html>"
      ]
     },
     "metadata": {},
     "output_type": "display_data"
    },
    {
     "data": {
      "text/html": [
       "<html>\n",
       "<head><meta charset=\"utf-8\" /></head>\n",
       "<body>\n",
       "    <div>            <script src=\"https://cdnjs.cloudflare.com/ajax/libs/mathjax/2.7.5/MathJax.js?config=TeX-AMS-MML_SVG\"></script><script type=\"text/javascript\">if (window.MathJax && window.MathJax.Hub && window.MathJax.Hub.Config) {window.MathJax.Hub.Config({SVG: {font: \"STIX-Web\"}});}</script>                <script type=\"text/javascript\">window.PlotlyConfig = {MathJaxConfig: 'local'};</script>\n",
       "        <script charset=\"utf-8\" src=\"https://cdn.plot.ly/plotly-2.35.2.min.js\"></script>                <div id=\"f53c44ad-bb4b-410f-9b99-f1df6e0ef517\" class=\"plotly-graph-div\" style=\"height:400px; width:1000px;\"></div>            <script type=\"text/javascript\">                                    window.PLOTLYENV=window.PLOTLYENV || {};                                    if (document.getElementById(\"f53c44ad-bb4b-410f-9b99-f1df6e0ef517\")) {                    Plotly.newPlot(                        \"f53c44ad-bb4b-410f-9b99-f1df6e0ef517\",                        [{\"branchvalues\":\"total\",\"customdata\":[[212.0],[261.0],[169.0],[206.0],[327.0],[180.0],[346.0],[352.0],[169.0],[194.0],[192.0],[259.0],[179.0],[202.0],[261.0],[193.0],[206.0],[629.0],[189.0],[190.0],[178.0],[203.0],[177.0],[294.0],[289.0],[182.0],[291.0],[268.0],[233.0],[330.0]],\"domain\":{\"x\":[0.0,1.0],\"y\":[0.0,1.0]},\"hovertemplate\":\"\\u003cb\\u003e%{label}\\u003c\\u002fb\\u003e\\u003cbr\\u003eCount: %{value}\\u003cextra\\u003e\\u003c\\u002fextra\\u003e\",\"ids\":[\"also\",\"back\",\"could\",\"cup\",\"england\",\"final\",\"first\",\"game\",\"good\",\"half\",\"ireland\",\"last\",\"match\",\"new\",\"one\",\"play\",\"players\",\"said\",\"second\",\"side\",\"six\",\"team\",\"three\",\"time\",\"two\",\"wales\",\"win\",\"world\",\"would\",\"year\"],\"labels\":[\"also\",\"back\",\"could\",\"cup\",\"england\",\"final\",\"first\",\"game\",\"good\",\"half\",\"ireland\",\"last\",\"match\",\"new\",\"one\",\"play\",\"players\",\"said\",\"second\",\"side\",\"six\",\"team\",\"three\",\"time\",\"two\",\"wales\",\"win\",\"world\",\"would\",\"year\"],\"marker\":{\"coloraxis\":\"coloraxis\",\"colors\":[212.0,261.0,169.0,206.0,327.0,180.0,346.0,352.0,169.0,194.0,192.0,259.0,179.0,202.0,261.0,193.0,206.0,629.0,189.0,190.0,178.0,203.0,177.0,294.0,289.0,182.0,291.0,268.0,233.0,330.0]},\"name\":\"\",\"parents\":[\"\",\"\",\"\",\"\",\"\",\"\",\"\",\"\",\"\",\"\",\"\",\"\",\"\",\"\",\"\",\"\",\"\",\"\",\"\",\"\",\"\",\"\",\"\",\"\",\"\",\"\",\"\",\"\",\"\",\"\"],\"values\":[212,261,169,206,327,180,346,352,169,194,192,259,179,202,261,193,206,629,189,190,178,203,177,294,289,182,291,268,233,330],\"type\":\"treemap\",\"textinfo\":\"label+value\"}],                        {\"template\":{\"data\":{\"histogram2dcontour\":[{\"type\":\"histogram2dcontour\",\"colorbar\":{\"outlinewidth\":0,\"ticks\":\"\"},\"colorscale\":[[0.0,\"#0d0887\"],[0.1111111111111111,\"#46039f\"],[0.2222222222222222,\"#7201a8\"],[0.3333333333333333,\"#9c179e\"],[0.4444444444444444,\"#bd3786\"],[0.5555555555555556,\"#d8576b\"],[0.6666666666666666,\"#ed7953\"],[0.7777777777777778,\"#fb9f3a\"],[0.8888888888888888,\"#fdca26\"],[1.0,\"#f0f921\"]]}],\"choropleth\":[{\"type\":\"choropleth\",\"colorbar\":{\"outlinewidth\":0,\"ticks\":\"\"}}],\"histogram2d\":[{\"type\":\"histogram2d\",\"colorbar\":{\"outlinewidth\":0,\"ticks\":\"\"},\"colorscale\":[[0.0,\"#0d0887\"],[0.1111111111111111,\"#46039f\"],[0.2222222222222222,\"#7201a8\"],[0.3333333333333333,\"#9c179e\"],[0.4444444444444444,\"#bd3786\"],[0.5555555555555556,\"#d8576b\"],[0.6666666666666666,\"#ed7953\"],[0.7777777777777778,\"#fb9f3a\"],[0.8888888888888888,\"#fdca26\"],[1.0,\"#f0f921\"]]}],\"heatmap\":[{\"type\":\"heatmap\",\"colorbar\":{\"outlinewidth\":0,\"ticks\":\"\"},\"colorscale\":[[0.0,\"#0d0887\"],[0.1111111111111111,\"#46039f\"],[0.2222222222222222,\"#7201a8\"],[0.3333333333333333,\"#9c179e\"],[0.4444444444444444,\"#bd3786\"],[0.5555555555555556,\"#d8576b\"],[0.6666666666666666,\"#ed7953\"],[0.7777777777777778,\"#fb9f3a\"],[0.8888888888888888,\"#fdca26\"],[1.0,\"#f0f921\"]]}],\"heatmapgl\":[{\"type\":\"heatmapgl\",\"colorbar\":{\"outlinewidth\":0,\"ticks\":\"\"},\"colorscale\":[[0.0,\"#0d0887\"],[0.1111111111111111,\"#46039f\"],[0.2222222222222222,\"#7201a8\"],[0.3333333333333333,\"#9c179e\"],[0.4444444444444444,\"#bd3786\"],[0.5555555555555556,\"#d8576b\"],[0.6666666666666666,\"#ed7953\"],[0.7777777777777778,\"#fb9f3a\"],[0.8888888888888888,\"#fdca26\"],[1.0,\"#f0f921\"]]}],\"contourcarpet\":[{\"type\":\"contourcarpet\",\"colorbar\":{\"outlinewidth\":0,\"ticks\":\"\"}}],\"contour\":[{\"type\":\"contour\",\"colorbar\":{\"outlinewidth\":0,\"ticks\":\"\"},\"colorscale\":[[0.0,\"#0d0887\"],[0.1111111111111111,\"#46039f\"],[0.2222222222222222,\"#7201a8\"],[0.3333333333333333,\"#9c179e\"],[0.4444444444444444,\"#bd3786\"],[0.5555555555555556,\"#d8576b\"],[0.6666666666666666,\"#ed7953\"],[0.7777777777777778,\"#fb9f3a\"],[0.8888888888888888,\"#fdca26\"],[1.0,\"#f0f921\"]]}],\"surface\":[{\"type\":\"surface\",\"colorbar\":{\"outlinewidth\":0,\"ticks\":\"\"},\"colorscale\":[[0.0,\"#0d0887\"],[0.1111111111111111,\"#46039f\"],[0.2222222222222222,\"#7201a8\"],[0.3333333333333333,\"#9c179e\"],[0.4444444444444444,\"#bd3786\"],[0.5555555555555556,\"#d8576b\"],[0.6666666666666666,\"#ed7953\"],[0.7777777777777778,\"#fb9f3a\"],[0.8888888888888888,\"#fdca26\"],[1.0,\"#f0f921\"]]}],\"mesh3d\":[{\"type\":\"mesh3d\",\"colorbar\":{\"outlinewidth\":0,\"ticks\":\"\"}}],\"scatter\":[{\"fillpattern\":{\"fillmode\":\"overlay\",\"size\":10,\"solidity\":0.2},\"type\":\"scatter\"}],\"parcoords\":[{\"type\":\"parcoords\",\"line\":{\"colorbar\":{\"outlinewidth\":0,\"ticks\":\"\"}}}],\"scatterpolargl\":[{\"type\":\"scatterpolargl\",\"marker\":{\"colorbar\":{\"outlinewidth\":0,\"ticks\":\"\"}}}],\"bar\":[{\"error_x\":{\"color\":\"#2a3f5f\"},\"error_y\":{\"color\":\"#2a3f5f\"},\"marker\":{\"line\":{\"color\":\"#E5ECF6\",\"width\":0.5},\"pattern\":{\"fillmode\":\"overlay\",\"size\":10,\"solidity\":0.2}},\"type\":\"bar\"}],\"scattergeo\":[{\"type\":\"scattergeo\",\"marker\":{\"colorbar\":{\"outlinewidth\":0,\"ticks\":\"\"}}}],\"scatterpolar\":[{\"type\":\"scatterpolar\",\"marker\":{\"colorbar\":{\"outlinewidth\":0,\"ticks\":\"\"}}}],\"histogram\":[{\"marker\":{\"pattern\":{\"fillmode\":\"overlay\",\"size\":10,\"solidity\":0.2}},\"type\":\"histogram\"}],\"scattergl\":[{\"type\":\"scattergl\",\"marker\":{\"colorbar\":{\"outlinewidth\":0,\"ticks\":\"\"}}}],\"scatter3d\":[{\"type\":\"scatter3d\",\"line\":{\"colorbar\":{\"outlinewidth\":0,\"ticks\":\"\"}},\"marker\":{\"colorbar\":{\"outlinewidth\":0,\"ticks\":\"\"}}}],\"scattermapbox\":[{\"type\":\"scattermapbox\",\"marker\":{\"colorbar\":{\"outlinewidth\":0,\"ticks\":\"\"}}}],\"scatterternary\":[{\"type\":\"scatterternary\",\"marker\":{\"colorbar\":{\"outlinewidth\":0,\"ticks\":\"\"}}}],\"scattercarpet\":[{\"type\":\"scattercarpet\",\"marker\":{\"colorbar\":{\"outlinewidth\":0,\"ticks\":\"\"}}}],\"carpet\":[{\"aaxis\":{\"endlinecolor\":\"#2a3f5f\",\"gridcolor\":\"white\",\"linecolor\":\"white\",\"minorgridcolor\":\"white\",\"startlinecolor\":\"#2a3f5f\"},\"baxis\":{\"endlinecolor\":\"#2a3f5f\",\"gridcolor\":\"white\",\"linecolor\":\"white\",\"minorgridcolor\":\"white\",\"startlinecolor\":\"#2a3f5f\"},\"type\":\"carpet\"}],\"table\":[{\"cells\":{\"fill\":{\"color\":\"#EBF0F8\"},\"line\":{\"color\":\"white\"}},\"header\":{\"fill\":{\"color\":\"#C8D4E3\"},\"line\":{\"color\":\"white\"}},\"type\":\"table\"}],\"barpolar\":[{\"marker\":{\"line\":{\"color\":\"#E5ECF6\",\"width\":0.5},\"pattern\":{\"fillmode\":\"overlay\",\"size\":10,\"solidity\":0.2}},\"type\":\"barpolar\"}],\"pie\":[{\"automargin\":true,\"type\":\"pie\"}]},\"layout\":{\"autotypenumbers\":\"strict\",\"colorway\":[\"#636efa\",\"#EF553B\",\"#00cc96\",\"#ab63fa\",\"#FFA15A\",\"#19d3f3\",\"#FF6692\",\"#B6E880\",\"#FF97FF\",\"#FECB52\"],\"font\":{\"color\":\"#2a3f5f\"},\"hovermode\":\"closest\",\"hoverlabel\":{\"align\":\"left\"},\"paper_bgcolor\":\"white\",\"plot_bgcolor\":\"#E5ECF6\",\"polar\":{\"bgcolor\":\"#E5ECF6\",\"angularaxis\":{\"gridcolor\":\"white\",\"linecolor\":\"white\",\"ticks\":\"\"},\"radialaxis\":{\"gridcolor\":\"white\",\"linecolor\":\"white\",\"ticks\":\"\"}},\"ternary\":{\"bgcolor\":\"#E5ECF6\",\"aaxis\":{\"gridcolor\":\"white\",\"linecolor\":\"white\",\"ticks\":\"\"},\"baxis\":{\"gridcolor\":\"white\",\"linecolor\":\"white\",\"ticks\":\"\"},\"caxis\":{\"gridcolor\":\"white\",\"linecolor\":\"white\",\"ticks\":\"\"}},\"coloraxis\":{\"colorbar\":{\"outlinewidth\":0,\"ticks\":\"\"}},\"colorscale\":{\"sequential\":[[0.0,\"#0d0887\"],[0.1111111111111111,\"#46039f\"],[0.2222222222222222,\"#7201a8\"],[0.3333333333333333,\"#9c179e\"],[0.4444444444444444,\"#bd3786\"],[0.5555555555555556,\"#d8576b\"],[0.6666666666666666,\"#ed7953\"],[0.7777777777777778,\"#fb9f3a\"],[0.8888888888888888,\"#fdca26\"],[1.0,\"#f0f921\"]],\"sequentialminus\":[[0.0,\"#0d0887\"],[0.1111111111111111,\"#46039f\"],[0.2222222222222222,\"#7201a8\"],[0.3333333333333333,\"#9c179e\"],[0.4444444444444444,\"#bd3786\"],[0.5555555555555556,\"#d8576b\"],[0.6666666666666666,\"#ed7953\"],[0.7777777777777778,\"#fb9f3a\"],[0.8888888888888888,\"#fdca26\"],[1.0,\"#f0f921\"]],\"diverging\":[[0,\"#8e0152\"],[0.1,\"#c51b7d\"],[0.2,\"#de77ae\"],[0.3,\"#f1b6da\"],[0.4,\"#fde0ef\"],[0.5,\"#f7f7f7\"],[0.6,\"#e6f5d0\"],[0.7,\"#b8e186\"],[0.8,\"#7fbc41\"],[0.9,\"#4d9221\"],[1,\"#276419\"]]},\"xaxis\":{\"gridcolor\":\"white\",\"linecolor\":\"white\",\"ticks\":\"\",\"title\":{\"standoff\":15},\"zerolinecolor\":\"white\",\"automargin\":true,\"zerolinewidth\":2},\"yaxis\":{\"gridcolor\":\"white\",\"linecolor\":\"white\",\"ticks\":\"\",\"title\":{\"standoff\":15},\"zerolinecolor\":\"white\",\"automargin\":true,\"zerolinewidth\":2},\"scene\":{\"xaxis\":{\"backgroundcolor\":\"#E5ECF6\",\"gridcolor\":\"white\",\"linecolor\":\"white\",\"showbackground\":true,\"ticks\":\"\",\"zerolinecolor\":\"white\",\"gridwidth\":2},\"yaxis\":{\"backgroundcolor\":\"#E5ECF6\",\"gridcolor\":\"white\",\"linecolor\":\"white\",\"showbackground\":true,\"ticks\":\"\",\"zerolinecolor\":\"white\",\"gridwidth\":2},\"zaxis\":{\"backgroundcolor\":\"#E5ECF6\",\"gridcolor\":\"white\",\"linecolor\":\"white\",\"showbackground\":true,\"ticks\":\"\",\"zerolinecolor\":\"white\",\"gridwidth\":2}},\"shapedefaults\":{\"line\":{\"color\":\"#2a3f5f\"}},\"annotationdefaults\":{\"arrowcolor\":\"#2a3f5f\",\"arrowhead\":0,\"arrowwidth\":1},\"geo\":{\"bgcolor\":\"white\",\"landcolor\":\"#E5ECF6\",\"subunitcolor\":\"white\",\"showland\":true,\"showlakes\":true,\"lakecolor\":\"white\"},\"title\":{\"x\":0.05},\"mapbox\":{\"style\":\"light\"}}},\"coloraxis\":{\"colorbar\":{\"title\":{\"text\":\"count\"}},\"colorscale\":[[0.0,\"rgb(255,245,240)\"],[0.125,\"rgb(254,224,210)\"],[0.25,\"rgb(252,187,161)\"],[0.375,\"rgb(252,146,114)\"],[0.5,\"rgb(251,106,74)\"],[0.625,\"rgb(239,59,44)\"],[0.75,\"rgb(203,24,29)\"],[0.875,\"rgb(165,15,21)\"],[1.0,\"rgb(103,0,13)\"]]},\"legend\":{\"tracegroupgap\":0},\"title\":{\"text\":\"Most Common Words in Sport Articles\"},\"height\":400,\"width\":1000,\"margin\":{\"t\":50,\"l\":25,\"r\":25,\"b\":25},\"font\":{\"size\":14}},                        {\"responsive\": true}                    ).then(function(){\n",
       "                            \n",
       "var gd = document.getElementById('f53c44ad-bb4b-410f-9b99-f1df6e0ef517');\n",
       "var x = new MutationObserver(function (mutations, observer) {{\n",
       "        var display = window.getComputedStyle(gd).display;\n",
       "        if (!display || display === 'none') {{\n",
       "            console.log([gd, 'removed!']);\n",
       "            Plotly.purge(gd);\n",
       "            observer.disconnect();\n",
       "        }}\n",
       "}});\n",
       "\n",
       "// Listen for the removal of the full notebook cells\n",
       "var notebookContainer = gd.closest('#notebook-container');\n",
       "if (notebookContainer) {{\n",
       "    x.observe(notebookContainer, {childList: true});\n",
       "}}\n",
       "\n",
       "// Listen for the clearing of the current output cell\n",
       "var outputEl = gd.closest('.output');\n",
       "if (outputEl) {{\n",
       "    x.observe(outputEl, {childList: true});\n",
       "}}\n",
       "\n",
       "                        })                };                            </script>        </div>\n",
       "</body>\n",
       "</html>"
      ]
     },
     "metadata": {},
     "output_type": "display_data"
    },
    {
     "data": {
      "text/html": [
       "<html>\n",
       "<head><meta charset=\"utf-8\" /></head>\n",
       "<body>\n",
       "    <div>            <script src=\"https://cdnjs.cloudflare.com/ajax/libs/mathjax/2.7.5/MathJax.js?config=TeX-AMS-MML_SVG\"></script><script type=\"text/javascript\">if (window.MathJax && window.MathJax.Hub && window.MathJax.Hub.Config) {window.MathJax.Hub.Config({SVG: {font: \"STIX-Web\"}});}</script>                <script type=\"text/javascript\">window.PlotlyConfig = {MathJaxConfig: 'local'};</script>\n",
       "        <script charset=\"utf-8\" src=\"https://cdn.plot.ly/plotly-2.35.2.min.js\"></script>                <div id=\"87c8c5b0-5809-44f1-a9f7-15503acc4338\" class=\"plotly-graph-div\" style=\"height:400px; width:1000px;\"></div>            <script type=\"text/javascript\">                                    window.PLOTLYENV=window.PLOTLYENV || {};                                    if (document.getElementById(\"87c8c5b0-5809-44f1-a9f7-15503acc4338\")) {                    Plotly.newPlot(                        \"87c8c5b0-5809-44f1-a9f7-15503acc4338\",                        [{\"branchvalues\":\"total\",\"customdata\":[[163.0],[114.0],[120.0],[267.0],[150.0],[180.0],[151.0],[128.0],[415.0],[130.0],[153.0],[551.0],[135.0],[177.0],[152.0],[245.0],[229.0],[150.0],[259.0],[126.0],[576.0],[218.0],[154.0],[123.0],[132.0],[131.0],[145.0],[135.0],[304.0],[130.0]],\"domain\":{\"x\":[0.0,1.0],\"y\":[0.0,1.0]},\"hovertemplate\":\"\\u003cb\\u003e%{label}\\u003c\\u002fb\\u003e\\u003cbr\\u003eCount: %{value}\\u003cextra\\u003e\\u003c\\u002fextra\\u003e\",\"ids\":[\"actor\",\"actress\",\"album\",\"also\",\"award\",\"awards\",\"band\",\"bbc\",\"best\",\"british\",\"director\",\"film\",\"films\",\"first\",\"last\",\"music\",\"new\",\"number\",\"one\",\"people\",\"said\",\"show\",\"star\",\"three\",\"time\",\"top\",\"two\",\"would\",\"year\",\"years\"],\"labels\":[\"actor\",\"actress\",\"album\",\"also\",\"award\",\"awards\",\"band\",\"bbc\",\"best\",\"british\",\"director\",\"film\",\"films\",\"first\",\"last\",\"music\",\"new\",\"number\",\"one\",\"people\",\"said\",\"show\",\"star\",\"three\",\"time\",\"top\",\"two\",\"would\",\"year\",\"years\"],\"marker\":{\"coloraxis\":\"coloraxis\",\"colors\":[163.0,114.0,120.0,267.0,150.0,180.0,151.0,128.0,415.0,130.0,153.0,551.0,135.0,177.0,152.0,245.0,229.0,150.0,259.0,126.0,576.0,218.0,154.0,123.0,132.0,131.0,145.0,135.0,304.0,130.0]},\"name\":\"\",\"parents\":[\"\",\"\",\"\",\"\",\"\",\"\",\"\",\"\",\"\",\"\",\"\",\"\",\"\",\"\",\"\",\"\",\"\",\"\",\"\",\"\",\"\",\"\",\"\",\"\",\"\",\"\",\"\",\"\",\"\",\"\"],\"values\":[163,114,120,267,150,180,151,128,415,130,153,551,135,177,152,245,229,150,259,126,576,218,154,123,132,131,145,135,304,130],\"type\":\"treemap\",\"textinfo\":\"label+value\"}],                        {\"template\":{\"data\":{\"histogram2dcontour\":[{\"type\":\"histogram2dcontour\",\"colorbar\":{\"outlinewidth\":0,\"ticks\":\"\"},\"colorscale\":[[0.0,\"#0d0887\"],[0.1111111111111111,\"#46039f\"],[0.2222222222222222,\"#7201a8\"],[0.3333333333333333,\"#9c179e\"],[0.4444444444444444,\"#bd3786\"],[0.5555555555555556,\"#d8576b\"],[0.6666666666666666,\"#ed7953\"],[0.7777777777777778,\"#fb9f3a\"],[0.8888888888888888,\"#fdca26\"],[1.0,\"#f0f921\"]]}],\"choropleth\":[{\"type\":\"choropleth\",\"colorbar\":{\"outlinewidth\":0,\"ticks\":\"\"}}],\"histogram2d\":[{\"type\":\"histogram2d\",\"colorbar\":{\"outlinewidth\":0,\"ticks\":\"\"},\"colorscale\":[[0.0,\"#0d0887\"],[0.1111111111111111,\"#46039f\"],[0.2222222222222222,\"#7201a8\"],[0.3333333333333333,\"#9c179e\"],[0.4444444444444444,\"#bd3786\"],[0.5555555555555556,\"#d8576b\"],[0.6666666666666666,\"#ed7953\"],[0.7777777777777778,\"#fb9f3a\"],[0.8888888888888888,\"#fdca26\"],[1.0,\"#f0f921\"]]}],\"heatmap\":[{\"type\":\"heatmap\",\"colorbar\":{\"outlinewidth\":0,\"ticks\":\"\"},\"colorscale\":[[0.0,\"#0d0887\"],[0.1111111111111111,\"#46039f\"],[0.2222222222222222,\"#7201a8\"],[0.3333333333333333,\"#9c179e\"],[0.4444444444444444,\"#bd3786\"],[0.5555555555555556,\"#d8576b\"],[0.6666666666666666,\"#ed7953\"],[0.7777777777777778,\"#fb9f3a\"],[0.8888888888888888,\"#fdca26\"],[1.0,\"#f0f921\"]]}],\"heatmapgl\":[{\"type\":\"heatmapgl\",\"colorbar\":{\"outlinewidth\":0,\"ticks\":\"\"},\"colorscale\":[[0.0,\"#0d0887\"],[0.1111111111111111,\"#46039f\"],[0.2222222222222222,\"#7201a8\"],[0.3333333333333333,\"#9c179e\"],[0.4444444444444444,\"#bd3786\"],[0.5555555555555556,\"#d8576b\"],[0.6666666666666666,\"#ed7953\"],[0.7777777777777778,\"#fb9f3a\"],[0.8888888888888888,\"#fdca26\"],[1.0,\"#f0f921\"]]}],\"contourcarpet\":[{\"type\":\"contourcarpet\",\"colorbar\":{\"outlinewidth\":0,\"ticks\":\"\"}}],\"contour\":[{\"type\":\"contour\",\"colorbar\":{\"outlinewidth\":0,\"ticks\":\"\"},\"colorscale\":[[0.0,\"#0d0887\"],[0.1111111111111111,\"#46039f\"],[0.2222222222222222,\"#7201a8\"],[0.3333333333333333,\"#9c179e\"],[0.4444444444444444,\"#bd3786\"],[0.5555555555555556,\"#d8576b\"],[0.6666666666666666,\"#ed7953\"],[0.7777777777777778,\"#fb9f3a\"],[0.8888888888888888,\"#fdca26\"],[1.0,\"#f0f921\"]]}],\"surface\":[{\"type\":\"surface\",\"colorbar\":{\"outlinewidth\":0,\"ticks\":\"\"},\"colorscale\":[[0.0,\"#0d0887\"],[0.1111111111111111,\"#46039f\"],[0.2222222222222222,\"#7201a8\"],[0.3333333333333333,\"#9c179e\"],[0.4444444444444444,\"#bd3786\"],[0.5555555555555556,\"#d8576b\"],[0.6666666666666666,\"#ed7953\"],[0.7777777777777778,\"#fb9f3a\"],[0.8888888888888888,\"#fdca26\"],[1.0,\"#f0f921\"]]}],\"mesh3d\":[{\"type\":\"mesh3d\",\"colorbar\":{\"outlinewidth\":0,\"ticks\":\"\"}}],\"scatter\":[{\"fillpattern\":{\"fillmode\":\"overlay\",\"size\":10,\"solidity\":0.2},\"type\":\"scatter\"}],\"parcoords\":[{\"type\":\"parcoords\",\"line\":{\"colorbar\":{\"outlinewidth\":0,\"ticks\":\"\"}}}],\"scatterpolargl\":[{\"type\":\"scatterpolargl\",\"marker\":{\"colorbar\":{\"outlinewidth\":0,\"ticks\":\"\"}}}],\"bar\":[{\"error_x\":{\"color\":\"#2a3f5f\"},\"error_y\":{\"color\":\"#2a3f5f\"},\"marker\":{\"line\":{\"color\":\"#E5ECF6\",\"width\":0.5},\"pattern\":{\"fillmode\":\"overlay\",\"size\":10,\"solidity\":0.2}},\"type\":\"bar\"}],\"scattergeo\":[{\"type\":\"scattergeo\",\"marker\":{\"colorbar\":{\"outlinewidth\":0,\"ticks\":\"\"}}}],\"scatterpolar\":[{\"type\":\"scatterpolar\",\"marker\":{\"colorbar\":{\"outlinewidth\":0,\"ticks\":\"\"}}}],\"histogram\":[{\"marker\":{\"pattern\":{\"fillmode\":\"overlay\",\"size\":10,\"solidity\":0.2}},\"type\":\"histogram\"}],\"scattergl\":[{\"type\":\"scattergl\",\"marker\":{\"colorbar\":{\"outlinewidth\":0,\"ticks\":\"\"}}}],\"scatter3d\":[{\"type\":\"scatter3d\",\"line\":{\"colorbar\":{\"outlinewidth\":0,\"ticks\":\"\"}},\"marker\":{\"colorbar\":{\"outlinewidth\":0,\"ticks\":\"\"}}}],\"scattermapbox\":[{\"type\":\"scattermapbox\",\"marker\":{\"colorbar\":{\"outlinewidth\":0,\"ticks\":\"\"}}}],\"scatterternary\":[{\"type\":\"scatterternary\",\"marker\":{\"colorbar\":{\"outlinewidth\":0,\"ticks\":\"\"}}}],\"scattercarpet\":[{\"type\":\"scattercarpet\",\"marker\":{\"colorbar\":{\"outlinewidth\":0,\"ticks\":\"\"}}}],\"carpet\":[{\"aaxis\":{\"endlinecolor\":\"#2a3f5f\",\"gridcolor\":\"white\",\"linecolor\":\"white\",\"minorgridcolor\":\"white\",\"startlinecolor\":\"#2a3f5f\"},\"baxis\":{\"endlinecolor\":\"#2a3f5f\",\"gridcolor\":\"white\",\"linecolor\":\"white\",\"minorgridcolor\":\"white\",\"startlinecolor\":\"#2a3f5f\"},\"type\":\"carpet\"}],\"table\":[{\"cells\":{\"fill\":{\"color\":\"#EBF0F8\"},\"line\":{\"color\":\"white\"}},\"header\":{\"fill\":{\"color\":\"#C8D4E3\"},\"line\":{\"color\":\"white\"}},\"type\":\"table\"}],\"barpolar\":[{\"marker\":{\"line\":{\"color\":\"#E5ECF6\",\"width\":0.5},\"pattern\":{\"fillmode\":\"overlay\",\"size\":10,\"solidity\":0.2}},\"type\":\"barpolar\"}],\"pie\":[{\"automargin\":true,\"type\":\"pie\"}]},\"layout\":{\"autotypenumbers\":\"strict\",\"colorway\":[\"#636efa\",\"#EF553B\",\"#00cc96\",\"#ab63fa\",\"#FFA15A\",\"#19d3f3\",\"#FF6692\",\"#B6E880\",\"#FF97FF\",\"#FECB52\"],\"font\":{\"color\":\"#2a3f5f\"},\"hovermode\":\"closest\",\"hoverlabel\":{\"align\":\"left\"},\"paper_bgcolor\":\"white\",\"plot_bgcolor\":\"#E5ECF6\",\"polar\":{\"bgcolor\":\"#E5ECF6\",\"angularaxis\":{\"gridcolor\":\"white\",\"linecolor\":\"white\",\"ticks\":\"\"},\"radialaxis\":{\"gridcolor\":\"white\",\"linecolor\":\"white\",\"ticks\":\"\"}},\"ternary\":{\"bgcolor\":\"#E5ECF6\",\"aaxis\":{\"gridcolor\":\"white\",\"linecolor\":\"white\",\"ticks\":\"\"},\"baxis\":{\"gridcolor\":\"white\",\"linecolor\":\"white\",\"ticks\":\"\"},\"caxis\":{\"gridcolor\":\"white\",\"linecolor\":\"white\",\"ticks\":\"\"}},\"coloraxis\":{\"colorbar\":{\"outlinewidth\":0,\"ticks\":\"\"}},\"colorscale\":{\"sequential\":[[0.0,\"#0d0887\"],[0.1111111111111111,\"#46039f\"],[0.2222222222222222,\"#7201a8\"],[0.3333333333333333,\"#9c179e\"],[0.4444444444444444,\"#bd3786\"],[0.5555555555555556,\"#d8576b\"],[0.6666666666666666,\"#ed7953\"],[0.7777777777777778,\"#fb9f3a\"],[0.8888888888888888,\"#fdca26\"],[1.0,\"#f0f921\"]],\"sequentialminus\":[[0.0,\"#0d0887\"],[0.1111111111111111,\"#46039f\"],[0.2222222222222222,\"#7201a8\"],[0.3333333333333333,\"#9c179e\"],[0.4444444444444444,\"#bd3786\"],[0.5555555555555556,\"#d8576b\"],[0.6666666666666666,\"#ed7953\"],[0.7777777777777778,\"#fb9f3a\"],[0.8888888888888888,\"#fdca26\"],[1.0,\"#f0f921\"]],\"diverging\":[[0,\"#8e0152\"],[0.1,\"#c51b7d\"],[0.2,\"#de77ae\"],[0.3,\"#f1b6da\"],[0.4,\"#fde0ef\"],[0.5,\"#f7f7f7\"],[0.6,\"#e6f5d0\"],[0.7,\"#b8e186\"],[0.8,\"#7fbc41\"],[0.9,\"#4d9221\"],[1,\"#276419\"]]},\"xaxis\":{\"gridcolor\":\"white\",\"linecolor\":\"white\",\"ticks\":\"\",\"title\":{\"standoff\":15},\"zerolinecolor\":\"white\",\"automargin\":true,\"zerolinewidth\":2},\"yaxis\":{\"gridcolor\":\"white\",\"linecolor\":\"white\",\"ticks\":\"\",\"title\":{\"standoff\":15},\"zerolinecolor\":\"white\",\"automargin\":true,\"zerolinewidth\":2},\"scene\":{\"xaxis\":{\"backgroundcolor\":\"#E5ECF6\",\"gridcolor\":\"white\",\"linecolor\":\"white\",\"showbackground\":true,\"ticks\":\"\",\"zerolinecolor\":\"white\",\"gridwidth\":2},\"yaxis\":{\"backgroundcolor\":\"#E5ECF6\",\"gridcolor\":\"white\",\"linecolor\":\"white\",\"showbackground\":true,\"ticks\":\"\",\"zerolinecolor\":\"white\",\"gridwidth\":2},\"zaxis\":{\"backgroundcolor\":\"#E5ECF6\",\"gridcolor\":\"white\",\"linecolor\":\"white\",\"showbackground\":true,\"ticks\":\"\",\"zerolinecolor\":\"white\",\"gridwidth\":2}},\"shapedefaults\":{\"line\":{\"color\":\"#2a3f5f\"}},\"annotationdefaults\":{\"arrowcolor\":\"#2a3f5f\",\"arrowhead\":0,\"arrowwidth\":1},\"geo\":{\"bgcolor\":\"white\",\"landcolor\":\"#E5ECF6\",\"subunitcolor\":\"white\",\"showland\":true,\"showlakes\":true,\"lakecolor\":\"white\"},\"title\":{\"x\":0.05},\"mapbox\":{\"style\":\"light\"}}},\"coloraxis\":{\"colorbar\":{\"title\":{\"text\":\"count\"}},\"colorscale\":[[0.0,\"rgb(209, 238, 234)\"],[0.16666666666666666,\"rgb(168, 219, 217)\"],[0.3333333333333333,\"rgb(133, 196, 201)\"],[0.5,\"rgb(104, 171, 184)\"],[0.6666666666666666,\"rgb(79, 144, 166)\"],[0.8333333333333334,\"rgb(59, 115, 143)\"],[1.0,\"rgb(42, 86, 116)\"]]},\"legend\":{\"tracegroupgap\":0},\"title\":{\"text\":\"Most Common Words in Entertainment Articles\"},\"height\":400,\"width\":1000,\"margin\":{\"t\":50,\"l\":25,\"r\":25,\"b\":25},\"font\":{\"size\":14}},                        {\"responsive\": true}                    ).then(function(){\n",
       "                            \n",
       "var gd = document.getElementById('87c8c5b0-5809-44f1-a9f7-15503acc4338');\n",
       "var x = new MutationObserver(function (mutations, observer) {{\n",
       "        var display = window.getComputedStyle(gd).display;\n",
       "        if (!display || display === 'none') {{\n",
       "            console.log([gd, 'removed!']);\n",
       "            Plotly.purge(gd);\n",
       "            observer.disconnect();\n",
       "        }}\n",
       "}});\n",
       "\n",
       "// Listen for the removal of the full notebook cells\n",
       "var notebookContainer = gd.closest('#notebook-container');\n",
       "if (notebookContainer) {{\n",
       "    x.observe(notebookContainer, {childList: true});\n",
       "}}\n",
       "\n",
       "// Listen for the clearing of the current output cell\n",
       "var outputEl = gd.closest('.output');\n",
       "if (outputEl) {{\n",
       "    x.observe(outputEl, {childList: true});\n",
       "}}\n",
       "\n",
       "                        })                };                            </script>        </div>\n",
       "</body>\n",
       "</html>"
      ]
     },
     "metadata": {},
     "output_type": "display_data"
    }
   ],
   "source": [
    "# Create and display treemaps for the top words in each category\n",
    "# Helper function to create the treemaps for each category\n",
    "def create_category_treemap(category, top_n=30):\n",
    "\n",
    "    # Create dataframe for treemap\n",
    "    treemap_data = pd.DataFrame(get_top_n_words(category, top_n), columns=['word', 'count'])\n",
    "\n",
    "    # Custom color schemes for each category\n",
    "    color_schemes = {\n",
    "        'business': 'Blues',\n",
    "        'entertainment': 'Teal',\n",
    "        'politics': 'Greens',\n",
    "        'sport': 'Reds',\n",
    "        'tech': 'Purples'\n",
    "    }\n",
    "\n",
    "    # Create treemap\n",
    "    fig = px.treemap(\n",
    "        treemap_data,\n",
    "        path=['word'],\n",
    "        values='count',\n",
    "        title=f'Most Common Words in {category.capitalize()} Articles',\n",
    "        color='count',\n",
    "        color_continuous_scale=color_schemes.get(category, 'Viridis'),\n",
    "        height=400,\n",
    "        width=1000\n",
    "    )\n",
    "\n",
    "    fig.update_layout(\n",
    "        margin=dict(t=50, l=25, r=25, b=25),\n",
    "        font=dict(size=14)\n",
    "    )\n",
    "\n",
    "    fig.update_traces(\n",
    "        textinfo='label+value',\n",
    "        hovertemplate='<b>%{label}</b><br>Count: %{value}<extra></extra>'\n",
    "    )\n",
    "\n",
    "    return fig\n",
    "\n",
    "def display_category_treemaps(category_list, top_n=30):\n",
    "    for category in category_list:\n",
    "        fig = create_category_treemap(category, top_n)\n",
    "        fig.show()\n",
    "\n",
    "display_category_treemaps(bbcnews_train['Category'].unique())"
   ]
  },
  {
   "cell_type": "markdown",
   "id": "5709b6a8",
   "metadata": {
    "papermill": {
     "duration": 0.025946,
     "end_time": "2025-08-03T18:17:00.376882",
     "exception": false,
     "start_time": "2025-08-03T18:17:00.350936",
     "status": "completed"
    },
    "tags": []
   },
   "source": [
    "#### Remove Common Words\n",
    "\n",
    "Looking at the six common words across all categories (said, would, year, also, new, one), and their prevalence within the top words, we will remove them from the text along with the standard stop words."
   ]
  },
  {
   "cell_type": "code",
   "execution_count": 21,
   "id": "50b1f314",
   "metadata": {
    "ExecuteTime": {
     "end_time": "2025-08-02T17:04:55.486961Z",
     "start_time": "2025-08-02T17:04:54.278786Z"
    },
    "execution": {
     "iopub.execute_input": "2025-08-03T18:17:00.418259Z",
     "iopub.status.busy": "2025-08-03T18:17:00.417957Z",
     "iopub.status.idle": "2025-08-03T18:17:01.074999Z",
     "shell.execute_reply": "2025-08-03T18:17:01.074020Z"
    },
    "papermill": {
     "duration": 0.67983,
     "end_time": "2025-08-03T18:17:01.076626",
     "exception": false,
     "start_time": "2025-08-03T18:17:00.396796",
     "status": "completed"
    },
    "tags": []
   },
   "outputs": [
    {
     "data": {
      "text/html": [
       "<html>\n",
       "<head><meta charset=\"utf-8\" /></head>\n",
       "<body>\n",
       "    <div>            <script src=\"https://cdnjs.cloudflare.com/ajax/libs/mathjax/2.7.5/MathJax.js?config=TeX-AMS-MML_SVG\"></script><script type=\"text/javascript\">if (window.MathJax && window.MathJax.Hub && window.MathJax.Hub.Config) {window.MathJax.Hub.Config({SVG: {font: \"STIX-Web\"}});}</script>                <script type=\"text/javascript\">window.PlotlyConfig = {MathJaxConfig: 'local'};</script>\n",
       "        <script charset=\"utf-8\" src=\"https://cdn.plot.ly/plotly-2.35.2.min.js\"></script>                <div id=\"152ca407-33f7-4df9-9cda-a5b0cd4b63ab\" class=\"plotly-graph-div\" style=\"height:400px; width:1000px;\"></div>            <script type=\"text/javascript\">                                    window.PLOTLYENV=window.PLOTLYENV || {};                                    if (document.getElementById(\"152ca407-33f7-4df9-9cda-a5b0cd4b63ab\")) {                    Plotly.newPlot(                        \"152ca407-33f7-4df9-9cda-a5b0cd4b63ab\",                        [{\"branchvalues\":\"total\",\"customdata\":[[135.0],[204.0],[153.0],[156.0],[140.0],[140.0],[253.0],[196.0],[125.0],[152.0],[133.0],[202.0],[232.0],[130.0],[140.0],[261.0],[215.0],[126.0],[253.0],[164.0],[234.0],[284.0],[181.0],[178.0],[137.0],[201.0],[171.0],[163.0],[169.0],[162.0]],\"domain\":{\"x\":[0.0,1.0],\"y\":[0.0,1.0]},\"hovertemplate\":\"\\u003cb\\u003e%{label}\\u003c\\u002fb\\u003e\\u003cbr\\u003eCount: %{value}\\u003cextra\\u003e\\u003c\\u002fextra\\u003e\",\"ids\":[\"analysts\",\"bank\",\"business\",\"chief\",\"china\",\"companies\",\"company\",\"could\",\"country\",\"deal\",\"dollar\",\"economic\",\"economy\",\"expected\",\"financial\",\"firm\",\"government\",\"group\",\"growth\",\"however\",\"last\",\"market\",\"may\",\"oil\",\"prices\",\"sales\",\"shares\",\"two\",\"world\",\"years\"],\"labels\":[\"analysts\",\"bank\",\"business\",\"chief\",\"china\",\"companies\",\"company\",\"could\",\"country\",\"deal\",\"dollar\",\"economic\",\"economy\",\"expected\",\"financial\",\"firm\",\"government\",\"group\",\"growth\",\"however\",\"last\",\"market\",\"may\",\"oil\",\"prices\",\"sales\",\"shares\",\"two\",\"world\",\"years\"],\"marker\":{\"coloraxis\":\"coloraxis\",\"colors\":[135.0,204.0,153.0,156.0,140.0,140.0,253.0,196.0,125.0,152.0,133.0,202.0,232.0,130.0,140.0,261.0,215.0,126.0,253.0,164.0,234.0,284.0,181.0,178.0,137.0,201.0,171.0,163.0,169.0,162.0]},\"name\":\"\",\"parents\":[\"\",\"\",\"\",\"\",\"\",\"\",\"\",\"\",\"\",\"\",\"\",\"\",\"\",\"\",\"\",\"\",\"\",\"\",\"\",\"\",\"\",\"\",\"\",\"\",\"\",\"\",\"\",\"\",\"\",\"\"],\"values\":[135,204,153,156,140,140,253,196,125,152,133,202,232,130,140,261,215,126,253,164,234,284,181,178,137,201,171,163,169,162],\"type\":\"treemap\",\"textinfo\":\"label+value\"}],                        {\"template\":{\"data\":{\"histogram2dcontour\":[{\"type\":\"histogram2dcontour\",\"colorbar\":{\"outlinewidth\":0,\"ticks\":\"\"},\"colorscale\":[[0.0,\"#0d0887\"],[0.1111111111111111,\"#46039f\"],[0.2222222222222222,\"#7201a8\"],[0.3333333333333333,\"#9c179e\"],[0.4444444444444444,\"#bd3786\"],[0.5555555555555556,\"#d8576b\"],[0.6666666666666666,\"#ed7953\"],[0.7777777777777778,\"#fb9f3a\"],[0.8888888888888888,\"#fdca26\"],[1.0,\"#f0f921\"]]}],\"choropleth\":[{\"type\":\"choropleth\",\"colorbar\":{\"outlinewidth\":0,\"ticks\":\"\"}}],\"histogram2d\":[{\"type\":\"histogram2d\",\"colorbar\":{\"outlinewidth\":0,\"ticks\":\"\"},\"colorscale\":[[0.0,\"#0d0887\"],[0.1111111111111111,\"#46039f\"],[0.2222222222222222,\"#7201a8\"],[0.3333333333333333,\"#9c179e\"],[0.4444444444444444,\"#bd3786\"],[0.5555555555555556,\"#d8576b\"],[0.6666666666666666,\"#ed7953\"],[0.7777777777777778,\"#fb9f3a\"],[0.8888888888888888,\"#fdca26\"],[1.0,\"#f0f921\"]]}],\"heatmap\":[{\"type\":\"heatmap\",\"colorbar\":{\"outlinewidth\":0,\"ticks\":\"\"},\"colorscale\":[[0.0,\"#0d0887\"],[0.1111111111111111,\"#46039f\"],[0.2222222222222222,\"#7201a8\"],[0.3333333333333333,\"#9c179e\"],[0.4444444444444444,\"#bd3786\"],[0.5555555555555556,\"#d8576b\"],[0.6666666666666666,\"#ed7953\"],[0.7777777777777778,\"#fb9f3a\"],[0.8888888888888888,\"#fdca26\"],[1.0,\"#f0f921\"]]}],\"heatmapgl\":[{\"type\":\"heatmapgl\",\"colorbar\":{\"outlinewidth\":0,\"ticks\":\"\"},\"colorscale\":[[0.0,\"#0d0887\"],[0.1111111111111111,\"#46039f\"],[0.2222222222222222,\"#7201a8\"],[0.3333333333333333,\"#9c179e\"],[0.4444444444444444,\"#bd3786\"],[0.5555555555555556,\"#d8576b\"],[0.6666666666666666,\"#ed7953\"],[0.7777777777777778,\"#fb9f3a\"],[0.8888888888888888,\"#fdca26\"],[1.0,\"#f0f921\"]]}],\"contourcarpet\":[{\"type\":\"contourcarpet\",\"colorbar\":{\"outlinewidth\":0,\"ticks\":\"\"}}],\"contour\":[{\"type\":\"contour\",\"colorbar\":{\"outlinewidth\":0,\"ticks\":\"\"},\"colorscale\":[[0.0,\"#0d0887\"],[0.1111111111111111,\"#46039f\"],[0.2222222222222222,\"#7201a8\"],[0.3333333333333333,\"#9c179e\"],[0.4444444444444444,\"#bd3786\"],[0.5555555555555556,\"#d8576b\"],[0.6666666666666666,\"#ed7953\"],[0.7777777777777778,\"#fb9f3a\"],[0.8888888888888888,\"#fdca26\"],[1.0,\"#f0f921\"]]}],\"surface\":[{\"type\":\"surface\",\"colorbar\":{\"outlinewidth\":0,\"ticks\":\"\"},\"colorscale\":[[0.0,\"#0d0887\"],[0.1111111111111111,\"#46039f\"],[0.2222222222222222,\"#7201a8\"],[0.3333333333333333,\"#9c179e\"],[0.4444444444444444,\"#bd3786\"],[0.5555555555555556,\"#d8576b\"],[0.6666666666666666,\"#ed7953\"],[0.7777777777777778,\"#fb9f3a\"],[0.8888888888888888,\"#fdca26\"],[1.0,\"#f0f921\"]]}],\"mesh3d\":[{\"type\":\"mesh3d\",\"colorbar\":{\"outlinewidth\":0,\"ticks\":\"\"}}],\"scatter\":[{\"fillpattern\":{\"fillmode\":\"overlay\",\"size\":10,\"solidity\":0.2},\"type\":\"scatter\"}],\"parcoords\":[{\"type\":\"parcoords\",\"line\":{\"colorbar\":{\"outlinewidth\":0,\"ticks\":\"\"}}}],\"scatterpolargl\":[{\"type\":\"scatterpolargl\",\"marker\":{\"colorbar\":{\"outlinewidth\":0,\"ticks\":\"\"}}}],\"bar\":[{\"error_x\":{\"color\":\"#2a3f5f\"},\"error_y\":{\"color\":\"#2a3f5f\"},\"marker\":{\"line\":{\"color\":\"#E5ECF6\",\"width\":0.5},\"pattern\":{\"fillmode\":\"overlay\",\"size\":10,\"solidity\":0.2}},\"type\":\"bar\"}],\"scattergeo\":[{\"type\":\"scattergeo\",\"marker\":{\"colorbar\":{\"outlinewidth\":0,\"ticks\":\"\"}}}],\"scatterpolar\":[{\"type\":\"scatterpolar\",\"marker\":{\"colorbar\":{\"outlinewidth\":0,\"ticks\":\"\"}}}],\"histogram\":[{\"marker\":{\"pattern\":{\"fillmode\":\"overlay\",\"size\":10,\"solidity\":0.2}},\"type\":\"histogram\"}],\"scattergl\":[{\"type\":\"scattergl\",\"marker\":{\"colorbar\":{\"outlinewidth\":0,\"ticks\":\"\"}}}],\"scatter3d\":[{\"type\":\"scatter3d\",\"line\":{\"colorbar\":{\"outlinewidth\":0,\"ticks\":\"\"}},\"marker\":{\"colorbar\":{\"outlinewidth\":0,\"ticks\":\"\"}}}],\"scattermapbox\":[{\"type\":\"scattermapbox\",\"marker\":{\"colorbar\":{\"outlinewidth\":0,\"ticks\":\"\"}}}],\"scatterternary\":[{\"type\":\"scatterternary\",\"marker\":{\"colorbar\":{\"outlinewidth\":0,\"ticks\":\"\"}}}],\"scattercarpet\":[{\"type\":\"scattercarpet\",\"marker\":{\"colorbar\":{\"outlinewidth\":0,\"ticks\":\"\"}}}],\"carpet\":[{\"aaxis\":{\"endlinecolor\":\"#2a3f5f\",\"gridcolor\":\"white\",\"linecolor\":\"white\",\"minorgridcolor\":\"white\",\"startlinecolor\":\"#2a3f5f\"},\"baxis\":{\"endlinecolor\":\"#2a3f5f\",\"gridcolor\":\"white\",\"linecolor\":\"white\",\"minorgridcolor\":\"white\",\"startlinecolor\":\"#2a3f5f\"},\"type\":\"carpet\"}],\"table\":[{\"cells\":{\"fill\":{\"color\":\"#EBF0F8\"},\"line\":{\"color\":\"white\"}},\"header\":{\"fill\":{\"color\":\"#C8D4E3\"},\"line\":{\"color\":\"white\"}},\"type\":\"table\"}],\"barpolar\":[{\"marker\":{\"line\":{\"color\":\"#E5ECF6\",\"width\":0.5},\"pattern\":{\"fillmode\":\"overlay\",\"size\":10,\"solidity\":0.2}},\"type\":\"barpolar\"}],\"pie\":[{\"automargin\":true,\"type\":\"pie\"}]},\"layout\":{\"autotypenumbers\":\"strict\",\"colorway\":[\"#636efa\",\"#EF553B\",\"#00cc96\",\"#ab63fa\",\"#FFA15A\",\"#19d3f3\",\"#FF6692\",\"#B6E880\",\"#FF97FF\",\"#FECB52\"],\"font\":{\"color\":\"#2a3f5f\"},\"hovermode\":\"closest\",\"hoverlabel\":{\"align\":\"left\"},\"paper_bgcolor\":\"white\",\"plot_bgcolor\":\"#E5ECF6\",\"polar\":{\"bgcolor\":\"#E5ECF6\",\"angularaxis\":{\"gridcolor\":\"white\",\"linecolor\":\"white\",\"ticks\":\"\"},\"radialaxis\":{\"gridcolor\":\"white\",\"linecolor\":\"white\",\"ticks\":\"\"}},\"ternary\":{\"bgcolor\":\"#E5ECF6\",\"aaxis\":{\"gridcolor\":\"white\",\"linecolor\":\"white\",\"ticks\":\"\"},\"baxis\":{\"gridcolor\":\"white\",\"linecolor\":\"white\",\"ticks\":\"\"},\"caxis\":{\"gridcolor\":\"white\",\"linecolor\":\"white\",\"ticks\":\"\"}},\"coloraxis\":{\"colorbar\":{\"outlinewidth\":0,\"ticks\":\"\"}},\"colorscale\":{\"sequential\":[[0.0,\"#0d0887\"],[0.1111111111111111,\"#46039f\"],[0.2222222222222222,\"#7201a8\"],[0.3333333333333333,\"#9c179e\"],[0.4444444444444444,\"#bd3786\"],[0.5555555555555556,\"#d8576b\"],[0.6666666666666666,\"#ed7953\"],[0.7777777777777778,\"#fb9f3a\"],[0.8888888888888888,\"#fdca26\"],[1.0,\"#f0f921\"]],\"sequentialminus\":[[0.0,\"#0d0887\"],[0.1111111111111111,\"#46039f\"],[0.2222222222222222,\"#7201a8\"],[0.3333333333333333,\"#9c179e\"],[0.4444444444444444,\"#bd3786\"],[0.5555555555555556,\"#d8576b\"],[0.6666666666666666,\"#ed7953\"],[0.7777777777777778,\"#fb9f3a\"],[0.8888888888888888,\"#fdca26\"],[1.0,\"#f0f921\"]],\"diverging\":[[0,\"#8e0152\"],[0.1,\"#c51b7d\"],[0.2,\"#de77ae\"],[0.3,\"#f1b6da\"],[0.4,\"#fde0ef\"],[0.5,\"#f7f7f7\"],[0.6,\"#e6f5d0\"],[0.7,\"#b8e186\"],[0.8,\"#7fbc41\"],[0.9,\"#4d9221\"],[1,\"#276419\"]]},\"xaxis\":{\"gridcolor\":\"white\",\"linecolor\":\"white\",\"ticks\":\"\",\"title\":{\"standoff\":15},\"zerolinecolor\":\"white\",\"automargin\":true,\"zerolinewidth\":2},\"yaxis\":{\"gridcolor\":\"white\",\"linecolor\":\"white\",\"ticks\":\"\",\"title\":{\"standoff\":15},\"zerolinecolor\":\"white\",\"automargin\":true,\"zerolinewidth\":2},\"scene\":{\"xaxis\":{\"backgroundcolor\":\"#E5ECF6\",\"gridcolor\":\"white\",\"linecolor\":\"white\",\"showbackground\":true,\"ticks\":\"\",\"zerolinecolor\":\"white\",\"gridwidth\":2},\"yaxis\":{\"backgroundcolor\":\"#E5ECF6\",\"gridcolor\":\"white\",\"linecolor\":\"white\",\"showbackground\":true,\"ticks\":\"\",\"zerolinecolor\":\"white\",\"gridwidth\":2},\"zaxis\":{\"backgroundcolor\":\"#E5ECF6\",\"gridcolor\":\"white\",\"linecolor\":\"white\",\"showbackground\":true,\"ticks\":\"\",\"zerolinecolor\":\"white\",\"gridwidth\":2}},\"shapedefaults\":{\"line\":{\"color\":\"#2a3f5f\"}},\"annotationdefaults\":{\"arrowcolor\":\"#2a3f5f\",\"arrowhead\":0,\"arrowwidth\":1},\"geo\":{\"bgcolor\":\"white\",\"landcolor\":\"#E5ECF6\",\"subunitcolor\":\"white\",\"showland\":true,\"showlakes\":true,\"lakecolor\":\"white\"},\"title\":{\"x\":0.05},\"mapbox\":{\"style\":\"light\"}}},\"coloraxis\":{\"colorbar\":{\"title\":{\"text\":\"count\"}},\"colorscale\":[[0.0,\"rgb(247,251,255)\"],[0.125,\"rgb(222,235,247)\"],[0.25,\"rgb(198,219,239)\"],[0.375,\"rgb(158,202,225)\"],[0.5,\"rgb(107,174,214)\"],[0.625,\"rgb(66,146,198)\"],[0.75,\"rgb(33,113,181)\"],[0.875,\"rgb(8,81,156)\"],[1.0,\"rgb(8,48,107)\"]]},\"legend\":{\"tracegroupgap\":0},\"title\":{\"text\":\"Most Common Words in Business Articles\"},\"height\":400,\"width\":1000,\"margin\":{\"t\":50,\"l\":25,\"r\":25,\"b\":25},\"font\":{\"size\":14}},                        {\"responsive\": true}                    ).then(function(){\n",
       "                            \n",
       "var gd = document.getElementById('152ca407-33f7-4df9-9cda-a5b0cd4b63ab');\n",
       "var x = new MutationObserver(function (mutations, observer) {{\n",
       "        var display = window.getComputedStyle(gd).display;\n",
       "        if (!display || display === 'none') {{\n",
       "            console.log([gd, 'removed!']);\n",
       "            Plotly.purge(gd);\n",
       "            observer.disconnect();\n",
       "        }}\n",
       "}});\n",
       "\n",
       "// Listen for the removal of the full notebook cells\n",
       "var notebookContainer = gd.closest('#notebook-container');\n",
       "if (notebookContainer) {{\n",
       "    x.observe(notebookContainer, {childList: true});\n",
       "}}\n",
       "\n",
       "// Listen for the clearing of the current output cell\n",
       "var outputEl = gd.closest('.output');\n",
       "if (outputEl) {{\n",
       "    x.observe(outputEl, {childList: true});\n",
       "}}\n",
       "\n",
       "                        })                };                            </script>        </div>\n",
       "</body>\n",
       "</html>"
      ]
     },
     "metadata": {},
     "output_type": "display_data"
    },
    {
     "data": {
      "text/html": [
       "<html>\n",
       "<head><meta charset=\"utf-8\" /></head>\n",
       "<body>\n",
       "    <div>            <script src=\"https://cdnjs.cloudflare.com/ajax/libs/mathjax/2.7.5/MathJax.js?config=TeX-AMS-MML_SVG\"></script><script type=\"text/javascript\">if (window.MathJax && window.MathJax.Hub && window.MathJax.Hub.Config) {window.MathJax.Hub.Config({SVG: {font: \"STIX-Web\"}});}</script>                <script type=\"text/javascript\">window.PlotlyConfig = {MathJaxConfig: 'local'};</script>\n",
       "        <script charset=\"utf-8\" src=\"https://cdn.plot.ly/plotly-2.35.2.min.js\"></script>                <div id=\"3d3d4550-5d1e-4139-9b03-23cbd23d2c1a\" class=\"plotly-graph-div\" style=\"height:400px; width:1000px;\"></div>            <script type=\"text/javascript\">                                    window.PLOTLYENV=window.PLOTLYENV || {};                                    if (document.getElementById(\"3d3d4550-5d1e-4139-9b03-23cbd23d2c1a\")) {                    Plotly.newPlot(                        \"3d3d4550-5d1e-4139-9b03-23cbd23d2c1a\",                        [{\"branchvalues\":\"total\",\"customdata\":[[157.0],[176.0],[287.0],[201.0],[167.0],[163.0],[210.0],[167.0],[165.0],[188.0],[186.0],[218.0],[173.0],[166.0],[303.0],[222.0],[240.0],[182.0],[578.0],[211.0],[173.0],[233.0],[271.0],[179.0],[242.0],[179.0],[237.0],[157.0],[161.0],[160.0]],\"domain\":{\"x\":[0.0,1.0],\"y\":[0.0,1.0]},\"hovertemplate\":\"\\u003cb\\u003e%{label}\\u003c\\u002fb\\u003e\\u003cbr\\u003eCount: %{value}\\u003cextra\\u003e\\u003c\\u002fextra\\u003e\",\"ids\":[\"broadband\",\"computer\",\"could\",\"digital\",\"first\",\"game\",\"games\",\"get\",\"internet\",\"like\",\"make\",\"many\",\"microsoft\",\"million\",\"mobile\",\"music\",\"net\",\"online\",\"people\",\"phone\",\"service\",\"software\",\"technology\",\"time\",\"use\",\"used\",\"users\",\"video\",\"way\",\"world\"],\"labels\":[\"broadband\",\"computer\",\"could\",\"digital\",\"first\",\"game\",\"games\",\"get\",\"internet\",\"like\",\"make\",\"many\",\"microsoft\",\"million\",\"mobile\",\"music\",\"net\",\"online\",\"people\",\"phone\",\"service\",\"software\",\"technology\",\"time\",\"use\",\"used\",\"users\",\"video\",\"way\",\"world\"],\"marker\":{\"coloraxis\":\"coloraxis\",\"colors\":[157.0,176.0,287.0,201.0,167.0,163.0,210.0,167.0,165.0,188.0,186.0,218.0,173.0,166.0,303.0,222.0,240.0,182.0,578.0,211.0,173.0,233.0,271.0,179.0,242.0,179.0,237.0,157.0,161.0,160.0]},\"name\":\"\",\"parents\":[\"\",\"\",\"\",\"\",\"\",\"\",\"\",\"\",\"\",\"\",\"\",\"\",\"\",\"\",\"\",\"\",\"\",\"\",\"\",\"\",\"\",\"\",\"\",\"\",\"\",\"\",\"\",\"\",\"\",\"\"],\"values\":[157,176,287,201,167,163,210,167,165,188,186,218,173,166,303,222,240,182,578,211,173,233,271,179,242,179,237,157,161,160],\"type\":\"treemap\",\"textinfo\":\"label+value\"}],                        {\"template\":{\"data\":{\"histogram2dcontour\":[{\"type\":\"histogram2dcontour\",\"colorbar\":{\"outlinewidth\":0,\"ticks\":\"\"},\"colorscale\":[[0.0,\"#0d0887\"],[0.1111111111111111,\"#46039f\"],[0.2222222222222222,\"#7201a8\"],[0.3333333333333333,\"#9c179e\"],[0.4444444444444444,\"#bd3786\"],[0.5555555555555556,\"#d8576b\"],[0.6666666666666666,\"#ed7953\"],[0.7777777777777778,\"#fb9f3a\"],[0.8888888888888888,\"#fdca26\"],[1.0,\"#f0f921\"]]}],\"choropleth\":[{\"type\":\"choropleth\",\"colorbar\":{\"outlinewidth\":0,\"ticks\":\"\"}}],\"histogram2d\":[{\"type\":\"histogram2d\",\"colorbar\":{\"outlinewidth\":0,\"ticks\":\"\"},\"colorscale\":[[0.0,\"#0d0887\"],[0.1111111111111111,\"#46039f\"],[0.2222222222222222,\"#7201a8\"],[0.3333333333333333,\"#9c179e\"],[0.4444444444444444,\"#bd3786\"],[0.5555555555555556,\"#d8576b\"],[0.6666666666666666,\"#ed7953\"],[0.7777777777777778,\"#fb9f3a\"],[0.8888888888888888,\"#fdca26\"],[1.0,\"#f0f921\"]]}],\"heatmap\":[{\"type\":\"heatmap\",\"colorbar\":{\"outlinewidth\":0,\"ticks\":\"\"},\"colorscale\":[[0.0,\"#0d0887\"],[0.1111111111111111,\"#46039f\"],[0.2222222222222222,\"#7201a8\"],[0.3333333333333333,\"#9c179e\"],[0.4444444444444444,\"#bd3786\"],[0.5555555555555556,\"#d8576b\"],[0.6666666666666666,\"#ed7953\"],[0.7777777777777778,\"#fb9f3a\"],[0.8888888888888888,\"#fdca26\"],[1.0,\"#f0f921\"]]}],\"heatmapgl\":[{\"type\":\"heatmapgl\",\"colorbar\":{\"outlinewidth\":0,\"ticks\":\"\"},\"colorscale\":[[0.0,\"#0d0887\"],[0.1111111111111111,\"#46039f\"],[0.2222222222222222,\"#7201a8\"],[0.3333333333333333,\"#9c179e\"],[0.4444444444444444,\"#bd3786\"],[0.5555555555555556,\"#d8576b\"],[0.6666666666666666,\"#ed7953\"],[0.7777777777777778,\"#fb9f3a\"],[0.8888888888888888,\"#fdca26\"],[1.0,\"#f0f921\"]]}],\"contourcarpet\":[{\"type\":\"contourcarpet\",\"colorbar\":{\"outlinewidth\":0,\"ticks\":\"\"}}],\"contour\":[{\"type\":\"contour\",\"colorbar\":{\"outlinewidth\":0,\"ticks\":\"\"},\"colorscale\":[[0.0,\"#0d0887\"],[0.1111111111111111,\"#46039f\"],[0.2222222222222222,\"#7201a8\"],[0.3333333333333333,\"#9c179e\"],[0.4444444444444444,\"#bd3786\"],[0.5555555555555556,\"#d8576b\"],[0.6666666666666666,\"#ed7953\"],[0.7777777777777778,\"#fb9f3a\"],[0.8888888888888888,\"#fdca26\"],[1.0,\"#f0f921\"]]}],\"surface\":[{\"type\":\"surface\",\"colorbar\":{\"outlinewidth\":0,\"ticks\":\"\"},\"colorscale\":[[0.0,\"#0d0887\"],[0.1111111111111111,\"#46039f\"],[0.2222222222222222,\"#7201a8\"],[0.3333333333333333,\"#9c179e\"],[0.4444444444444444,\"#bd3786\"],[0.5555555555555556,\"#d8576b\"],[0.6666666666666666,\"#ed7953\"],[0.7777777777777778,\"#fb9f3a\"],[0.8888888888888888,\"#fdca26\"],[1.0,\"#f0f921\"]]}],\"mesh3d\":[{\"type\":\"mesh3d\",\"colorbar\":{\"outlinewidth\":0,\"ticks\":\"\"}}],\"scatter\":[{\"fillpattern\":{\"fillmode\":\"overlay\",\"size\":10,\"solidity\":0.2},\"type\":\"scatter\"}],\"parcoords\":[{\"type\":\"parcoords\",\"line\":{\"colorbar\":{\"outlinewidth\":0,\"ticks\":\"\"}}}],\"scatterpolargl\":[{\"type\":\"scatterpolargl\",\"marker\":{\"colorbar\":{\"outlinewidth\":0,\"ticks\":\"\"}}}],\"bar\":[{\"error_x\":{\"color\":\"#2a3f5f\"},\"error_y\":{\"color\":\"#2a3f5f\"},\"marker\":{\"line\":{\"color\":\"#E5ECF6\",\"width\":0.5},\"pattern\":{\"fillmode\":\"overlay\",\"size\":10,\"solidity\":0.2}},\"type\":\"bar\"}],\"scattergeo\":[{\"type\":\"scattergeo\",\"marker\":{\"colorbar\":{\"outlinewidth\":0,\"ticks\":\"\"}}}],\"scatterpolar\":[{\"type\":\"scatterpolar\",\"marker\":{\"colorbar\":{\"outlinewidth\":0,\"ticks\":\"\"}}}],\"histogram\":[{\"marker\":{\"pattern\":{\"fillmode\":\"overlay\",\"size\":10,\"solidity\":0.2}},\"type\":\"histogram\"}],\"scattergl\":[{\"type\":\"scattergl\",\"marker\":{\"colorbar\":{\"outlinewidth\":0,\"ticks\":\"\"}}}],\"scatter3d\":[{\"type\":\"scatter3d\",\"line\":{\"colorbar\":{\"outlinewidth\":0,\"ticks\":\"\"}},\"marker\":{\"colorbar\":{\"outlinewidth\":0,\"ticks\":\"\"}}}],\"scattermapbox\":[{\"type\":\"scattermapbox\",\"marker\":{\"colorbar\":{\"outlinewidth\":0,\"ticks\":\"\"}}}],\"scatterternary\":[{\"type\":\"scatterternary\",\"marker\":{\"colorbar\":{\"outlinewidth\":0,\"ticks\":\"\"}}}],\"scattercarpet\":[{\"type\":\"scattercarpet\",\"marker\":{\"colorbar\":{\"outlinewidth\":0,\"ticks\":\"\"}}}],\"carpet\":[{\"aaxis\":{\"endlinecolor\":\"#2a3f5f\",\"gridcolor\":\"white\",\"linecolor\":\"white\",\"minorgridcolor\":\"white\",\"startlinecolor\":\"#2a3f5f\"},\"baxis\":{\"endlinecolor\":\"#2a3f5f\",\"gridcolor\":\"white\",\"linecolor\":\"white\",\"minorgridcolor\":\"white\",\"startlinecolor\":\"#2a3f5f\"},\"type\":\"carpet\"}],\"table\":[{\"cells\":{\"fill\":{\"color\":\"#EBF0F8\"},\"line\":{\"color\":\"white\"}},\"header\":{\"fill\":{\"color\":\"#C8D4E3\"},\"line\":{\"color\":\"white\"}},\"type\":\"table\"}],\"barpolar\":[{\"marker\":{\"line\":{\"color\":\"#E5ECF6\",\"width\":0.5},\"pattern\":{\"fillmode\":\"overlay\",\"size\":10,\"solidity\":0.2}},\"type\":\"barpolar\"}],\"pie\":[{\"automargin\":true,\"type\":\"pie\"}]},\"layout\":{\"autotypenumbers\":\"strict\",\"colorway\":[\"#636efa\",\"#EF553B\",\"#00cc96\",\"#ab63fa\",\"#FFA15A\",\"#19d3f3\",\"#FF6692\",\"#B6E880\",\"#FF97FF\",\"#FECB52\"],\"font\":{\"color\":\"#2a3f5f\"},\"hovermode\":\"closest\",\"hoverlabel\":{\"align\":\"left\"},\"paper_bgcolor\":\"white\",\"plot_bgcolor\":\"#E5ECF6\",\"polar\":{\"bgcolor\":\"#E5ECF6\",\"angularaxis\":{\"gridcolor\":\"white\",\"linecolor\":\"white\",\"ticks\":\"\"},\"radialaxis\":{\"gridcolor\":\"white\",\"linecolor\":\"white\",\"ticks\":\"\"}},\"ternary\":{\"bgcolor\":\"#E5ECF6\",\"aaxis\":{\"gridcolor\":\"white\",\"linecolor\":\"white\",\"ticks\":\"\"},\"baxis\":{\"gridcolor\":\"white\",\"linecolor\":\"white\",\"ticks\":\"\"},\"caxis\":{\"gridcolor\":\"white\",\"linecolor\":\"white\",\"ticks\":\"\"}},\"coloraxis\":{\"colorbar\":{\"outlinewidth\":0,\"ticks\":\"\"}},\"colorscale\":{\"sequential\":[[0.0,\"#0d0887\"],[0.1111111111111111,\"#46039f\"],[0.2222222222222222,\"#7201a8\"],[0.3333333333333333,\"#9c179e\"],[0.4444444444444444,\"#bd3786\"],[0.5555555555555556,\"#d8576b\"],[0.6666666666666666,\"#ed7953\"],[0.7777777777777778,\"#fb9f3a\"],[0.8888888888888888,\"#fdca26\"],[1.0,\"#f0f921\"]],\"sequentialminus\":[[0.0,\"#0d0887\"],[0.1111111111111111,\"#46039f\"],[0.2222222222222222,\"#7201a8\"],[0.3333333333333333,\"#9c179e\"],[0.4444444444444444,\"#bd3786\"],[0.5555555555555556,\"#d8576b\"],[0.6666666666666666,\"#ed7953\"],[0.7777777777777778,\"#fb9f3a\"],[0.8888888888888888,\"#fdca26\"],[1.0,\"#f0f921\"]],\"diverging\":[[0,\"#8e0152\"],[0.1,\"#c51b7d\"],[0.2,\"#de77ae\"],[0.3,\"#f1b6da\"],[0.4,\"#fde0ef\"],[0.5,\"#f7f7f7\"],[0.6,\"#e6f5d0\"],[0.7,\"#b8e186\"],[0.8,\"#7fbc41\"],[0.9,\"#4d9221\"],[1,\"#276419\"]]},\"xaxis\":{\"gridcolor\":\"white\",\"linecolor\":\"white\",\"ticks\":\"\",\"title\":{\"standoff\":15},\"zerolinecolor\":\"white\",\"automargin\":true,\"zerolinewidth\":2},\"yaxis\":{\"gridcolor\":\"white\",\"linecolor\":\"white\",\"ticks\":\"\",\"title\":{\"standoff\":15},\"zerolinecolor\":\"white\",\"automargin\":true,\"zerolinewidth\":2},\"scene\":{\"xaxis\":{\"backgroundcolor\":\"#E5ECF6\",\"gridcolor\":\"white\",\"linecolor\":\"white\",\"showbackground\":true,\"ticks\":\"\",\"zerolinecolor\":\"white\",\"gridwidth\":2},\"yaxis\":{\"backgroundcolor\":\"#E5ECF6\",\"gridcolor\":\"white\",\"linecolor\":\"white\",\"showbackground\":true,\"ticks\":\"\",\"zerolinecolor\":\"white\",\"gridwidth\":2},\"zaxis\":{\"backgroundcolor\":\"#E5ECF6\",\"gridcolor\":\"white\",\"linecolor\":\"white\",\"showbackground\":true,\"ticks\":\"\",\"zerolinecolor\":\"white\",\"gridwidth\":2}},\"shapedefaults\":{\"line\":{\"color\":\"#2a3f5f\"}},\"annotationdefaults\":{\"arrowcolor\":\"#2a3f5f\",\"arrowhead\":0,\"arrowwidth\":1},\"geo\":{\"bgcolor\":\"white\",\"landcolor\":\"#E5ECF6\",\"subunitcolor\":\"white\",\"showland\":true,\"showlakes\":true,\"lakecolor\":\"white\"},\"title\":{\"x\":0.05},\"mapbox\":{\"style\":\"light\"}}},\"coloraxis\":{\"colorbar\":{\"title\":{\"text\":\"count\"}},\"colorscale\":[[0.0,\"rgb(252,251,253)\"],[0.125,\"rgb(239,237,245)\"],[0.25,\"rgb(218,218,235)\"],[0.375,\"rgb(188,189,220)\"],[0.5,\"rgb(158,154,200)\"],[0.625,\"rgb(128,125,186)\"],[0.75,\"rgb(106,81,163)\"],[0.875,\"rgb(84,39,143)\"],[1.0,\"rgb(63,0,125)\"]]},\"legend\":{\"tracegroupgap\":0},\"title\":{\"text\":\"Most Common Words in Tech Articles\"},\"height\":400,\"width\":1000,\"margin\":{\"t\":50,\"l\":25,\"r\":25,\"b\":25},\"font\":{\"size\":14}},                        {\"responsive\": true}                    ).then(function(){\n",
       "                            \n",
       "var gd = document.getElementById('3d3d4550-5d1e-4139-9b03-23cbd23d2c1a');\n",
       "var x = new MutationObserver(function (mutations, observer) {{\n",
       "        var display = window.getComputedStyle(gd).display;\n",
       "        if (!display || display === 'none') {{\n",
       "            console.log([gd, 'removed!']);\n",
       "            Plotly.purge(gd);\n",
       "            observer.disconnect();\n",
       "        }}\n",
       "}});\n",
       "\n",
       "// Listen for the removal of the full notebook cells\n",
       "var notebookContainer = gd.closest('#notebook-container');\n",
       "if (notebookContainer) {{\n",
       "    x.observe(notebookContainer, {childList: true});\n",
       "}}\n",
       "\n",
       "// Listen for the clearing of the current output cell\n",
       "var outputEl = gd.closest('.output');\n",
       "if (outputEl) {{\n",
       "    x.observe(outputEl, {childList: true});\n",
       "}}\n",
       "\n",
       "                        })                };                            </script>        </div>\n",
       "</body>\n",
       "</html>"
      ]
     },
     "metadata": {},
     "output_type": "display_data"
    },
    {
     "data": {
      "text/html": [
       "<html>\n",
       "<head><meta charset=\"utf-8\" /></head>\n",
       "<body>\n",
       "    <div>            <script src=\"https://cdnjs.cloudflare.com/ajax/libs/mathjax/2.7.5/MathJax.js?config=TeX-AMS-MML_SVG\"></script><script type=\"text/javascript\">if (window.MathJax && window.MathJax.Hub && window.MathJax.Hub.Config) {window.MathJax.Hub.Config({SVG: {font: \"STIX-Web\"}});}</script>                <script type=\"text/javascript\">window.PlotlyConfig = {MathJaxConfig: 'local'};</script>\n",
       "        <script charset=\"utf-8\" src=\"https://cdn.plot.ly/plotly-2.35.2.min.js\"></script>                <div id=\"50c80d38-6826-4edf-922b-a8c48f263cbe\" class=\"plotly-graph-div\" style=\"height:400px; width:1000px;\"></div>            <script type=\"text/javascript\">                                    window.PLOTLYENV=window.PLOTLYENV || {};                                    if (document.getElementById(\"50c80d38-6826-4edf-922b-a8c48f263cbe\")) {                    Plotly.newPlot(                        \"50c80d38-6826-4edf-922b-a8c48f263cbe\",                        [{\"branchvalues\":\"total\",\"customdata\":[[147.0],[381.0],[176.0],[257.0],[141.0],[153.0],[265.0],[405.0],[159.0],[453.0],[151.0],[190.0],[474.0],[158.0],[147.0],[278.0],[148.0],[360.0],[363.0],[207.0],[188.0],[190.0],[182.0],[151.0],[175.0],[183.0],[212.0],[155.0],[161.0],[149.0]],\"domain\":{\"x\":[0.0,1.0],\"y\":[0.0,1.0]},\"hovertemplate\":\"\\u003cb\\u003e%{label}\\u003c\\u002fb\\u003e\\u003cbr\\u003eCount: %{value}\\u003cextra\\u003e\\u003c\\u002fextra\\u003e\",\"ids\":[\"bbc\",\"blair\",\"britain\",\"brown\",\"campaign\",\"chancellor\",\"could\",\"election\",\"general\",\"government\",\"home\",\"howard\",\"labour\",\"leader\",\"lord\",\"minister\",\"next\",\"party\",\"people\",\"plans\",\"prime\",\"public\",\"say\",\"says\",\"secretary\",\"tax\",\"told\",\"tories\",\"tory\",\"two\"],\"labels\":[\"bbc\",\"blair\",\"britain\",\"brown\",\"campaign\",\"chancellor\",\"could\",\"election\",\"general\",\"government\",\"home\",\"howard\",\"labour\",\"leader\",\"lord\",\"minister\",\"next\",\"party\",\"people\",\"plans\",\"prime\",\"public\",\"say\",\"says\",\"secretary\",\"tax\",\"told\",\"tories\",\"tory\",\"two\"],\"marker\":{\"coloraxis\":\"coloraxis\",\"colors\":[147.0,381.0,176.0,257.0,141.0,153.0,265.0,405.0,159.0,453.0,151.0,190.0,474.0,158.0,147.0,278.0,148.0,360.0,363.0,207.0,188.0,190.0,182.0,151.0,175.0,183.0,212.0,155.0,161.0,149.0]},\"name\":\"\",\"parents\":[\"\",\"\",\"\",\"\",\"\",\"\",\"\",\"\",\"\",\"\",\"\",\"\",\"\",\"\",\"\",\"\",\"\",\"\",\"\",\"\",\"\",\"\",\"\",\"\",\"\",\"\",\"\",\"\",\"\",\"\"],\"values\":[147,381,176,257,141,153,265,405,159,453,151,190,474,158,147,278,148,360,363,207,188,190,182,151,175,183,212,155,161,149],\"type\":\"treemap\",\"textinfo\":\"label+value\"}],                        {\"template\":{\"data\":{\"histogram2dcontour\":[{\"type\":\"histogram2dcontour\",\"colorbar\":{\"outlinewidth\":0,\"ticks\":\"\"},\"colorscale\":[[0.0,\"#0d0887\"],[0.1111111111111111,\"#46039f\"],[0.2222222222222222,\"#7201a8\"],[0.3333333333333333,\"#9c179e\"],[0.4444444444444444,\"#bd3786\"],[0.5555555555555556,\"#d8576b\"],[0.6666666666666666,\"#ed7953\"],[0.7777777777777778,\"#fb9f3a\"],[0.8888888888888888,\"#fdca26\"],[1.0,\"#f0f921\"]]}],\"choropleth\":[{\"type\":\"choropleth\",\"colorbar\":{\"outlinewidth\":0,\"ticks\":\"\"}}],\"histogram2d\":[{\"type\":\"histogram2d\",\"colorbar\":{\"outlinewidth\":0,\"ticks\":\"\"},\"colorscale\":[[0.0,\"#0d0887\"],[0.1111111111111111,\"#46039f\"],[0.2222222222222222,\"#7201a8\"],[0.3333333333333333,\"#9c179e\"],[0.4444444444444444,\"#bd3786\"],[0.5555555555555556,\"#d8576b\"],[0.6666666666666666,\"#ed7953\"],[0.7777777777777778,\"#fb9f3a\"],[0.8888888888888888,\"#fdca26\"],[1.0,\"#f0f921\"]]}],\"heatmap\":[{\"type\":\"heatmap\",\"colorbar\":{\"outlinewidth\":0,\"ticks\":\"\"},\"colorscale\":[[0.0,\"#0d0887\"],[0.1111111111111111,\"#46039f\"],[0.2222222222222222,\"#7201a8\"],[0.3333333333333333,\"#9c179e\"],[0.4444444444444444,\"#bd3786\"],[0.5555555555555556,\"#d8576b\"],[0.6666666666666666,\"#ed7953\"],[0.7777777777777778,\"#fb9f3a\"],[0.8888888888888888,\"#fdca26\"],[1.0,\"#f0f921\"]]}],\"heatmapgl\":[{\"type\":\"heatmapgl\",\"colorbar\":{\"outlinewidth\":0,\"ticks\":\"\"},\"colorscale\":[[0.0,\"#0d0887\"],[0.1111111111111111,\"#46039f\"],[0.2222222222222222,\"#7201a8\"],[0.3333333333333333,\"#9c179e\"],[0.4444444444444444,\"#bd3786\"],[0.5555555555555556,\"#d8576b\"],[0.6666666666666666,\"#ed7953\"],[0.7777777777777778,\"#fb9f3a\"],[0.8888888888888888,\"#fdca26\"],[1.0,\"#f0f921\"]]}],\"contourcarpet\":[{\"type\":\"contourcarpet\",\"colorbar\":{\"outlinewidth\":0,\"ticks\":\"\"}}],\"contour\":[{\"type\":\"contour\",\"colorbar\":{\"outlinewidth\":0,\"ticks\":\"\"},\"colorscale\":[[0.0,\"#0d0887\"],[0.1111111111111111,\"#46039f\"],[0.2222222222222222,\"#7201a8\"],[0.3333333333333333,\"#9c179e\"],[0.4444444444444444,\"#bd3786\"],[0.5555555555555556,\"#d8576b\"],[0.6666666666666666,\"#ed7953\"],[0.7777777777777778,\"#fb9f3a\"],[0.8888888888888888,\"#fdca26\"],[1.0,\"#f0f921\"]]}],\"surface\":[{\"type\":\"surface\",\"colorbar\":{\"outlinewidth\":0,\"ticks\":\"\"},\"colorscale\":[[0.0,\"#0d0887\"],[0.1111111111111111,\"#46039f\"],[0.2222222222222222,\"#7201a8\"],[0.3333333333333333,\"#9c179e\"],[0.4444444444444444,\"#bd3786\"],[0.5555555555555556,\"#d8576b\"],[0.6666666666666666,\"#ed7953\"],[0.7777777777777778,\"#fb9f3a\"],[0.8888888888888888,\"#fdca26\"],[1.0,\"#f0f921\"]]}],\"mesh3d\":[{\"type\":\"mesh3d\",\"colorbar\":{\"outlinewidth\":0,\"ticks\":\"\"}}],\"scatter\":[{\"fillpattern\":{\"fillmode\":\"overlay\",\"size\":10,\"solidity\":0.2},\"type\":\"scatter\"}],\"parcoords\":[{\"type\":\"parcoords\",\"line\":{\"colorbar\":{\"outlinewidth\":0,\"ticks\":\"\"}}}],\"scatterpolargl\":[{\"type\":\"scatterpolargl\",\"marker\":{\"colorbar\":{\"outlinewidth\":0,\"ticks\":\"\"}}}],\"bar\":[{\"error_x\":{\"color\":\"#2a3f5f\"},\"error_y\":{\"color\":\"#2a3f5f\"},\"marker\":{\"line\":{\"color\":\"#E5ECF6\",\"width\":0.5},\"pattern\":{\"fillmode\":\"overlay\",\"size\":10,\"solidity\":0.2}},\"type\":\"bar\"}],\"scattergeo\":[{\"type\":\"scattergeo\",\"marker\":{\"colorbar\":{\"outlinewidth\":0,\"ticks\":\"\"}}}],\"scatterpolar\":[{\"type\":\"scatterpolar\",\"marker\":{\"colorbar\":{\"outlinewidth\":0,\"ticks\":\"\"}}}],\"histogram\":[{\"marker\":{\"pattern\":{\"fillmode\":\"overlay\",\"size\":10,\"solidity\":0.2}},\"type\":\"histogram\"}],\"scattergl\":[{\"type\":\"scattergl\",\"marker\":{\"colorbar\":{\"outlinewidth\":0,\"ticks\":\"\"}}}],\"scatter3d\":[{\"type\":\"scatter3d\",\"line\":{\"colorbar\":{\"outlinewidth\":0,\"ticks\":\"\"}},\"marker\":{\"colorbar\":{\"outlinewidth\":0,\"ticks\":\"\"}}}],\"scattermapbox\":[{\"type\":\"scattermapbox\",\"marker\":{\"colorbar\":{\"outlinewidth\":0,\"ticks\":\"\"}}}],\"scatterternary\":[{\"type\":\"scatterternary\",\"marker\":{\"colorbar\":{\"outlinewidth\":0,\"ticks\":\"\"}}}],\"scattercarpet\":[{\"type\":\"scattercarpet\",\"marker\":{\"colorbar\":{\"outlinewidth\":0,\"ticks\":\"\"}}}],\"carpet\":[{\"aaxis\":{\"endlinecolor\":\"#2a3f5f\",\"gridcolor\":\"white\",\"linecolor\":\"white\",\"minorgridcolor\":\"white\",\"startlinecolor\":\"#2a3f5f\"},\"baxis\":{\"endlinecolor\":\"#2a3f5f\",\"gridcolor\":\"white\",\"linecolor\":\"white\",\"minorgridcolor\":\"white\",\"startlinecolor\":\"#2a3f5f\"},\"type\":\"carpet\"}],\"table\":[{\"cells\":{\"fill\":{\"color\":\"#EBF0F8\"},\"line\":{\"color\":\"white\"}},\"header\":{\"fill\":{\"color\":\"#C8D4E3\"},\"line\":{\"color\":\"white\"}},\"type\":\"table\"}],\"barpolar\":[{\"marker\":{\"line\":{\"color\":\"#E5ECF6\",\"width\":0.5},\"pattern\":{\"fillmode\":\"overlay\",\"size\":10,\"solidity\":0.2}},\"type\":\"barpolar\"}],\"pie\":[{\"automargin\":true,\"type\":\"pie\"}]},\"layout\":{\"autotypenumbers\":\"strict\",\"colorway\":[\"#636efa\",\"#EF553B\",\"#00cc96\",\"#ab63fa\",\"#FFA15A\",\"#19d3f3\",\"#FF6692\",\"#B6E880\",\"#FF97FF\",\"#FECB52\"],\"font\":{\"color\":\"#2a3f5f\"},\"hovermode\":\"closest\",\"hoverlabel\":{\"align\":\"left\"},\"paper_bgcolor\":\"white\",\"plot_bgcolor\":\"#E5ECF6\",\"polar\":{\"bgcolor\":\"#E5ECF6\",\"angularaxis\":{\"gridcolor\":\"white\",\"linecolor\":\"white\",\"ticks\":\"\"},\"radialaxis\":{\"gridcolor\":\"white\",\"linecolor\":\"white\",\"ticks\":\"\"}},\"ternary\":{\"bgcolor\":\"#E5ECF6\",\"aaxis\":{\"gridcolor\":\"white\",\"linecolor\":\"white\",\"ticks\":\"\"},\"baxis\":{\"gridcolor\":\"white\",\"linecolor\":\"white\",\"ticks\":\"\"},\"caxis\":{\"gridcolor\":\"white\",\"linecolor\":\"white\",\"ticks\":\"\"}},\"coloraxis\":{\"colorbar\":{\"outlinewidth\":0,\"ticks\":\"\"}},\"colorscale\":{\"sequential\":[[0.0,\"#0d0887\"],[0.1111111111111111,\"#46039f\"],[0.2222222222222222,\"#7201a8\"],[0.3333333333333333,\"#9c179e\"],[0.4444444444444444,\"#bd3786\"],[0.5555555555555556,\"#d8576b\"],[0.6666666666666666,\"#ed7953\"],[0.7777777777777778,\"#fb9f3a\"],[0.8888888888888888,\"#fdca26\"],[1.0,\"#f0f921\"]],\"sequentialminus\":[[0.0,\"#0d0887\"],[0.1111111111111111,\"#46039f\"],[0.2222222222222222,\"#7201a8\"],[0.3333333333333333,\"#9c179e\"],[0.4444444444444444,\"#bd3786\"],[0.5555555555555556,\"#d8576b\"],[0.6666666666666666,\"#ed7953\"],[0.7777777777777778,\"#fb9f3a\"],[0.8888888888888888,\"#fdca26\"],[1.0,\"#f0f921\"]],\"diverging\":[[0,\"#8e0152\"],[0.1,\"#c51b7d\"],[0.2,\"#de77ae\"],[0.3,\"#f1b6da\"],[0.4,\"#fde0ef\"],[0.5,\"#f7f7f7\"],[0.6,\"#e6f5d0\"],[0.7,\"#b8e186\"],[0.8,\"#7fbc41\"],[0.9,\"#4d9221\"],[1,\"#276419\"]]},\"xaxis\":{\"gridcolor\":\"white\",\"linecolor\":\"white\",\"ticks\":\"\",\"title\":{\"standoff\":15},\"zerolinecolor\":\"white\",\"automargin\":true,\"zerolinewidth\":2},\"yaxis\":{\"gridcolor\":\"white\",\"linecolor\":\"white\",\"ticks\":\"\",\"title\":{\"standoff\":15},\"zerolinecolor\":\"white\",\"automargin\":true,\"zerolinewidth\":2},\"scene\":{\"xaxis\":{\"backgroundcolor\":\"#E5ECF6\",\"gridcolor\":\"white\",\"linecolor\":\"white\",\"showbackground\":true,\"ticks\":\"\",\"zerolinecolor\":\"white\",\"gridwidth\":2},\"yaxis\":{\"backgroundcolor\":\"#E5ECF6\",\"gridcolor\":\"white\",\"linecolor\":\"white\",\"showbackground\":true,\"ticks\":\"\",\"zerolinecolor\":\"white\",\"gridwidth\":2},\"zaxis\":{\"backgroundcolor\":\"#E5ECF6\",\"gridcolor\":\"white\",\"linecolor\":\"white\",\"showbackground\":true,\"ticks\":\"\",\"zerolinecolor\":\"white\",\"gridwidth\":2}},\"shapedefaults\":{\"line\":{\"color\":\"#2a3f5f\"}},\"annotationdefaults\":{\"arrowcolor\":\"#2a3f5f\",\"arrowhead\":0,\"arrowwidth\":1},\"geo\":{\"bgcolor\":\"white\",\"landcolor\":\"#E5ECF6\",\"subunitcolor\":\"white\",\"showland\":true,\"showlakes\":true,\"lakecolor\":\"white\"},\"title\":{\"x\":0.05},\"mapbox\":{\"style\":\"light\"}}},\"coloraxis\":{\"colorbar\":{\"title\":{\"text\":\"count\"}},\"colorscale\":[[0.0,\"rgb(247,252,245)\"],[0.125,\"rgb(229,245,224)\"],[0.25,\"rgb(199,233,192)\"],[0.375,\"rgb(161,217,155)\"],[0.5,\"rgb(116,196,118)\"],[0.625,\"rgb(65,171,93)\"],[0.75,\"rgb(35,139,69)\"],[0.875,\"rgb(0,109,44)\"],[1.0,\"rgb(0,68,27)\"]]},\"legend\":{\"tracegroupgap\":0},\"title\":{\"text\":\"Most Common Words in Politics Articles\"},\"height\":400,\"width\":1000,\"margin\":{\"t\":50,\"l\":25,\"r\":25,\"b\":25},\"font\":{\"size\":14}},                        {\"responsive\": true}                    ).then(function(){\n",
       "                            \n",
       "var gd = document.getElementById('50c80d38-6826-4edf-922b-a8c48f263cbe');\n",
       "var x = new MutationObserver(function (mutations, observer) {{\n",
       "        var display = window.getComputedStyle(gd).display;\n",
       "        if (!display || display === 'none') {{\n",
       "            console.log([gd, 'removed!']);\n",
       "            Plotly.purge(gd);\n",
       "            observer.disconnect();\n",
       "        }}\n",
       "}});\n",
       "\n",
       "// Listen for the removal of the full notebook cells\n",
       "var notebookContainer = gd.closest('#notebook-container');\n",
       "if (notebookContainer) {{\n",
       "    x.observe(notebookContainer, {childList: true});\n",
       "}}\n",
       "\n",
       "// Listen for the clearing of the current output cell\n",
       "var outputEl = gd.closest('.output');\n",
       "if (outputEl) {{\n",
       "    x.observe(outputEl, {childList: true});\n",
       "}}\n",
       "\n",
       "                        })                };                            </script>        </div>\n",
       "</body>\n",
       "</html>"
      ]
     },
     "metadata": {},
     "output_type": "display_data"
    },
    {
     "data": {
      "text/html": [
       "<html>\n",
       "<head><meta charset=\"utf-8\" /></head>\n",
       "<body>\n",
       "    <div>            <script src=\"https://cdnjs.cloudflare.com/ajax/libs/mathjax/2.7.5/MathJax.js?config=TeX-AMS-MML_SVG\"></script><script type=\"text/javascript\">if (window.MathJax && window.MathJax.Hub && window.MathJax.Hub.Config) {window.MathJax.Hub.Config({SVG: {font: \"STIX-Web\"}});}</script>                <script type=\"text/javascript\">window.PlotlyConfig = {MathJaxConfig: 'local'};</script>\n",
       "        <script charset=\"utf-8\" src=\"https://cdn.plot.ly/plotly-2.35.2.min.js\"></script>                <div id=\"786528e1-c37f-489f-a0f1-dc9fa0683e75\" class=\"plotly-graph-div\" style=\"height:400px; width:1000px;\"></div>            <script type=\"text/javascript\">                                    window.PLOTLYENV=window.PLOTLYENV || {};                                    if (document.getElementById(\"786528e1-c37f-489f-a0f1-dc9fa0683e75\")) {                    Plotly.newPlot(                        \"786528e1-c37f-489f-a0f1-dc9fa0683e75\",                        [{\"branchvalues\":\"total\",\"customdata\":[[261.0],[154.0],[148.0],[169.0],[206.0],[327.0],[180.0],[346.0],[156.0],[352.0],[169.0],[194.0],[192.0],[259.0],[179.0],[150.0],[193.0],[206.0],[166.0],[189.0],[161.0],[190.0],[178.0],[203.0],[177.0],[294.0],[289.0],[182.0],[291.0],[268.0]],\"domain\":{\"x\":[0.0,1.0],\"y\":[0.0,1.0]},\"hovertemplate\":\"\\u003cb\\u003e%{label}\\u003c\\u002fb\\u003e\\u003cbr\\u003eCount: %{value}\\u003cextra\\u003e\\u003c\\u002fextra\\u003e\",\"ids\":[\"back\",\"chelsea\",\"coach\",\"could\",\"cup\",\"england\",\"final\",\"first\",\"france\",\"game\",\"good\",\"half\",\"ireland\",\"last\",\"match\",\"old\",\"play\",\"players\",\"season\",\"second\",\"set\",\"side\",\"six\",\"team\",\"three\",\"time\",\"two\",\"wales\",\"win\",\"world\"],\"labels\":[\"back\",\"chelsea\",\"coach\",\"could\",\"cup\",\"england\",\"final\",\"first\",\"france\",\"game\",\"good\",\"half\",\"ireland\",\"last\",\"match\",\"old\",\"play\",\"players\",\"season\",\"second\",\"set\",\"side\",\"six\",\"team\",\"three\",\"time\",\"two\",\"wales\",\"win\",\"world\"],\"marker\":{\"coloraxis\":\"coloraxis\",\"colors\":[261.0,154.0,148.0,169.0,206.0,327.0,180.0,346.0,156.0,352.0,169.0,194.0,192.0,259.0,179.0,150.0,193.0,206.0,166.0,189.0,161.0,190.0,178.0,203.0,177.0,294.0,289.0,182.0,291.0,268.0]},\"name\":\"\",\"parents\":[\"\",\"\",\"\",\"\",\"\",\"\",\"\",\"\",\"\",\"\",\"\",\"\",\"\",\"\",\"\",\"\",\"\",\"\",\"\",\"\",\"\",\"\",\"\",\"\",\"\",\"\",\"\",\"\",\"\",\"\"],\"values\":[261,154,148,169,206,327,180,346,156,352,169,194,192,259,179,150,193,206,166,189,161,190,178,203,177,294,289,182,291,268],\"type\":\"treemap\",\"textinfo\":\"label+value\"}],                        {\"template\":{\"data\":{\"histogram2dcontour\":[{\"type\":\"histogram2dcontour\",\"colorbar\":{\"outlinewidth\":0,\"ticks\":\"\"},\"colorscale\":[[0.0,\"#0d0887\"],[0.1111111111111111,\"#46039f\"],[0.2222222222222222,\"#7201a8\"],[0.3333333333333333,\"#9c179e\"],[0.4444444444444444,\"#bd3786\"],[0.5555555555555556,\"#d8576b\"],[0.6666666666666666,\"#ed7953\"],[0.7777777777777778,\"#fb9f3a\"],[0.8888888888888888,\"#fdca26\"],[1.0,\"#f0f921\"]]}],\"choropleth\":[{\"type\":\"choropleth\",\"colorbar\":{\"outlinewidth\":0,\"ticks\":\"\"}}],\"histogram2d\":[{\"type\":\"histogram2d\",\"colorbar\":{\"outlinewidth\":0,\"ticks\":\"\"},\"colorscale\":[[0.0,\"#0d0887\"],[0.1111111111111111,\"#46039f\"],[0.2222222222222222,\"#7201a8\"],[0.3333333333333333,\"#9c179e\"],[0.4444444444444444,\"#bd3786\"],[0.5555555555555556,\"#d8576b\"],[0.6666666666666666,\"#ed7953\"],[0.7777777777777778,\"#fb9f3a\"],[0.8888888888888888,\"#fdca26\"],[1.0,\"#f0f921\"]]}],\"heatmap\":[{\"type\":\"heatmap\",\"colorbar\":{\"outlinewidth\":0,\"ticks\":\"\"},\"colorscale\":[[0.0,\"#0d0887\"],[0.1111111111111111,\"#46039f\"],[0.2222222222222222,\"#7201a8\"],[0.3333333333333333,\"#9c179e\"],[0.4444444444444444,\"#bd3786\"],[0.5555555555555556,\"#d8576b\"],[0.6666666666666666,\"#ed7953\"],[0.7777777777777778,\"#fb9f3a\"],[0.8888888888888888,\"#fdca26\"],[1.0,\"#f0f921\"]]}],\"heatmapgl\":[{\"type\":\"heatmapgl\",\"colorbar\":{\"outlinewidth\":0,\"ticks\":\"\"},\"colorscale\":[[0.0,\"#0d0887\"],[0.1111111111111111,\"#46039f\"],[0.2222222222222222,\"#7201a8\"],[0.3333333333333333,\"#9c179e\"],[0.4444444444444444,\"#bd3786\"],[0.5555555555555556,\"#d8576b\"],[0.6666666666666666,\"#ed7953\"],[0.7777777777777778,\"#fb9f3a\"],[0.8888888888888888,\"#fdca26\"],[1.0,\"#f0f921\"]]}],\"contourcarpet\":[{\"type\":\"contourcarpet\",\"colorbar\":{\"outlinewidth\":0,\"ticks\":\"\"}}],\"contour\":[{\"type\":\"contour\",\"colorbar\":{\"outlinewidth\":0,\"ticks\":\"\"},\"colorscale\":[[0.0,\"#0d0887\"],[0.1111111111111111,\"#46039f\"],[0.2222222222222222,\"#7201a8\"],[0.3333333333333333,\"#9c179e\"],[0.4444444444444444,\"#bd3786\"],[0.5555555555555556,\"#d8576b\"],[0.6666666666666666,\"#ed7953\"],[0.7777777777777778,\"#fb9f3a\"],[0.8888888888888888,\"#fdca26\"],[1.0,\"#f0f921\"]]}],\"surface\":[{\"type\":\"surface\",\"colorbar\":{\"outlinewidth\":0,\"ticks\":\"\"},\"colorscale\":[[0.0,\"#0d0887\"],[0.1111111111111111,\"#46039f\"],[0.2222222222222222,\"#7201a8\"],[0.3333333333333333,\"#9c179e\"],[0.4444444444444444,\"#bd3786\"],[0.5555555555555556,\"#d8576b\"],[0.6666666666666666,\"#ed7953\"],[0.7777777777777778,\"#fb9f3a\"],[0.8888888888888888,\"#fdca26\"],[1.0,\"#f0f921\"]]}],\"mesh3d\":[{\"type\":\"mesh3d\",\"colorbar\":{\"outlinewidth\":0,\"ticks\":\"\"}}],\"scatter\":[{\"fillpattern\":{\"fillmode\":\"overlay\",\"size\":10,\"solidity\":0.2},\"type\":\"scatter\"}],\"parcoords\":[{\"type\":\"parcoords\",\"line\":{\"colorbar\":{\"outlinewidth\":0,\"ticks\":\"\"}}}],\"scatterpolargl\":[{\"type\":\"scatterpolargl\",\"marker\":{\"colorbar\":{\"outlinewidth\":0,\"ticks\":\"\"}}}],\"bar\":[{\"error_x\":{\"color\":\"#2a3f5f\"},\"error_y\":{\"color\":\"#2a3f5f\"},\"marker\":{\"line\":{\"color\":\"#E5ECF6\",\"width\":0.5},\"pattern\":{\"fillmode\":\"overlay\",\"size\":10,\"solidity\":0.2}},\"type\":\"bar\"}],\"scattergeo\":[{\"type\":\"scattergeo\",\"marker\":{\"colorbar\":{\"outlinewidth\":0,\"ticks\":\"\"}}}],\"scatterpolar\":[{\"type\":\"scatterpolar\",\"marker\":{\"colorbar\":{\"outlinewidth\":0,\"ticks\":\"\"}}}],\"histogram\":[{\"marker\":{\"pattern\":{\"fillmode\":\"overlay\",\"size\":10,\"solidity\":0.2}},\"type\":\"histogram\"}],\"scattergl\":[{\"type\":\"scattergl\",\"marker\":{\"colorbar\":{\"outlinewidth\":0,\"ticks\":\"\"}}}],\"scatter3d\":[{\"type\":\"scatter3d\",\"line\":{\"colorbar\":{\"outlinewidth\":0,\"ticks\":\"\"}},\"marker\":{\"colorbar\":{\"outlinewidth\":0,\"ticks\":\"\"}}}],\"scattermapbox\":[{\"type\":\"scattermapbox\",\"marker\":{\"colorbar\":{\"outlinewidth\":0,\"ticks\":\"\"}}}],\"scatterternary\":[{\"type\":\"scatterternary\",\"marker\":{\"colorbar\":{\"outlinewidth\":0,\"ticks\":\"\"}}}],\"scattercarpet\":[{\"type\":\"scattercarpet\",\"marker\":{\"colorbar\":{\"outlinewidth\":0,\"ticks\":\"\"}}}],\"carpet\":[{\"aaxis\":{\"endlinecolor\":\"#2a3f5f\",\"gridcolor\":\"white\",\"linecolor\":\"white\",\"minorgridcolor\":\"white\",\"startlinecolor\":\"#2a3f5f\"},\"baxis\":{\"endlinecolor\":\"#2a3f5f\",\"gridcolor\":\"white\",\"linecolor\":\"white\",\"minorgridcolor\":\"white\",\"startlinecolor\":\"#2a3f5f\"},\"type\":\"carpet\"}],\"table\":[{\"cells\":{\"fill\":{\"color\":\"#EBF0F8\"},\"line\":{\"color\":\"white\"}},\"header\":{\"fill\":{\"color\":\"#C8D4E3\"},\"line\":{\"color\":\"white\"}},\"type\":\"table\"}],\"barpolar\":[{\"marker\":{\"line\":{\"color\":\"#E5ECF6\",\"width\":0.5},\"pattern\":{\"fillmode\":\"overlay\",\"size\":10,\"solidity\":0.2}},\"type\":\"barpolar\"}],\"pie\":[{\"automargin\":true,\"type\":\"pie\"}]},\"layout\":{\"autotypenumbers\":\"strict\",\"colorway\":[\"#636efa\",\"#EF553B\",\"#00cc96\",\"#ab63fa\",\"#FFA15A\",\"#19d3f3\",\"#FF6692\",\"#B6E880\",\"#FF97FF\",\"#FECB52\"],\"font\":{\"color\":\"#2a3f5f\"},\"hovermode\":\"closest\",\"hoverlabel\":{\"align\":\"left\"},\"paper_bgcolor\":\"white\",\"plot_bgcolor\":\"#E5ECF6\",\"polar\":{\"bgcolor\":\"#E5ECF6\",\"angularaxis\":{\"gridcolor\":\"white\",\"linecolor\":\"white\",\"ticks\":\"\"},\"radialaxis\":{\"gridcolor\":\"white\",\"linecolor\":\"white\",\"ticks\":\"\"}},\"ternary\":{\"bgcolor\":\"#E5ECF6\",\"aaxis\":{\"gridcolor\":\"white\",\"linecolor\":\"white\",\"ticks\":\"\"},\"baxis\":{\"gridcolor\":\"white\",\"linecolor\":\"white\",\"ticks\":\"\"},\"caxis\":{\"gridcolor\":\"white\",\"linecolor\":\"white\",\"ticks\":\"\"}},\"coloraxis\":{\"colorbar\":{\"outlinewidth\":0,\"ticks\":\"\"}},\"colorscale\":{\"sequential\":[[0.0,\"#0d0887\"],[0.1111111111111111,\"#46039f\"],[0.2222222222222222,\"#7201a8\"],[0.3333333333333333,\"#9c179e\"],[0.4444444444444444,\"#bd3786\"],[0.5555555555555556,\"#d8576b\"],[0.6666666666666666,\"#ed7953\"],[0.7777777777777778,\"#fb9f3a\"],[0.8888888888888888,\"#fdca26\"],[1.0,\"#f0f921\"]],\"sequentialminus\":[[0.0,\"#0d0887\"],[0.1111111111111111,\"#46039f\"],[0.2222222222222222,\"#7201a8\"],[0.3333333333333333,\"#9c179e\"],[0.4444444444444444,\"#bd3786\"],[0.5555555555555556,\"#d8576b\"],[0.6666666666666666,\"#ed7953\"],[0.7777777777777778,\"#fb9f3a\"],[0.8888888888888888,\"#fdca26\"],[1.0,\"#f0f921\"]],\"diverging\":[[0,\"#8e0152\"],[0.1,\"#c51b7d\"],[0.2,\"#de77ae\"],[0.3,\"#f1b6da\"],[0.4,\"#fde0ef\"],[0.5,\"#f7f7f7\"],[0.6,\"#e6f5d0\"],[0.7,\"#b8e186\"],[0.8,\"#7fbc41\"],[0.9,\"#4d9221\"],[1,\"#276419\"]]},\"xaxis\":{\"gridcolor\":\"white\",\"linecolor\":\"white\",\"ticks\":\"\",\"title\":{\"standoff\":15},\"zerolinecolor\":\"white\",\"automargin\":true,\"zerolinewidth\":2},\"yaxis\":{\"gridcolor\":\"white\",\"linecolor\":\"white\",\"ticks\":\"\",\"title\":{\"standoff\":15},\"zerolinecolor\":\"white\",\"automargin\":true,\"zerolinewidth\":2},\"scene\":{\"xaxis\":{\"backgroundcolor\":\"#E5ECF6\",\"gridcolor\":\"white\",\"linecolor\":\"white\",\"showbackground\":true,\"ticks\":\"\",\"zerolinecolor\":\"white\",\"gridwidth\":2},\"yaxis\":{\"backgroundcolor\":\"#E5ECF6\",\"gridcolor\":\"white\",\"linecolor\":\"white\",\"showbackground\":true,\"ticks\":\"\",\"zerolinecolor\":\"white\",\"gridwidth\":2},\"zaxis\":{\"backgroundcolor\":\"#E5ECF6\",\"gridcolor\":\"white\",\"linecolor\":\"white\",\"showbackground\":true,\"ticks\":\"\",\"zerolinecolor\":\"white\",\"gridwidth\":2}},\"shapedefaults\":{\"line\":{\"color\":\"#2a3f5f\"}},\"annotationdefaults\":{\"arrowcolor\":\"#2a3f5f\",\"arrowhead\":0,\"arrowwidth\":1},\"geo\":{\"bgcolor\":\"white\",\"landcolor\":\"#E5ECF6\",\"subunitcolor\":\"white\",\"showland\":true,\"showlakes\":true,\"lakecolor\":\"white\"},\"title\":{\"x\":0.05},\"mapbox\":{\"style\":\"light\"}}},\"coloraxis\":{\"colorbar\":{\"title\":{\"text\":\"count\"}},\"colorscale\":[[0.0,\"rgb(255,245,240)\"],[0.125,\"rgb(254,224,210)\"],[0.25,\"rgb(252,187,161)\"],[0.375,\"rgb(252,146,114)\"],[0.5,\"rgb(251,106,74)\"],[0.625,\"rgb(239,59,44)\"],[0.75,\"rgb(203,24,29)\"],[0.875,\"rgb(165,15,21)\"],[1.0,\"rgb(103,0,13)\"]]},\"legend\":{\"tracegroupgap\":0},\"title\":{\"text\":\"Most Common Words in Sport Articles\"},\"height\":400,\"width\":1000,\"margin\":{\"t\":50,\"l\":25,\"r\":25,\"b\":25},\"font\":{\"size\":14}},                        {\"responsive\": true}                    ).then(function(){\n",
       "                            \n",
       "var gd = document.getElementById('786528e1-c37f-489f-a0f1-dc9fa0683e75');\n",
       "var x = new MutationObserver(function (mutations, observer) {{\n",
       "        var display = window.getComputedStyle(gd).display;\n",
       "        if (!display || display === 'none') {{\n",
       "            console.log([gd, 'removed!']);\n",
       "            Plotly.purge(gd);\n",
       "            observer.disconnect();\n",
       "        }}\n",
       "}});\n",
       "\n",
       "// Listen for the removal of the full notebook cells\n",
       "var notebookContainer = gd.closest('#notebook-container');\n",
       "if (notebookContainer) {{\n",
       "    x.observe(notebookContainer, {childList: true});\n",
       "}}\n",
       "\n",
       "// Listen for the clearing of the current output cell\n",
       "var outputEl = gd.closest('.output');\n",
       "if (outputEl) {{\n",
       "    x.observe(outputEl, {childList: true});\n",
       "}}\n",
       "\n",
       "                        })                };                            </script>        </div>\n",
       "</body>\n",
       "</html>"
      ]
     },
     "metadata": {},
     "output_type": "display_data"
    },
    {
     "data": {
      "text/html": [
       "<html>\n",
       "<head><meta charset=\"utf-8\" /></head>\n",
       "<body>\n",
       "    <div>            <script src=\"https://cdnjs.cloudflare.com/ajax/libs/mathjax/2.7.5/MathJax.js?config=TeX-AMS-MML_SVG\"></script><script type=\"text/javascript\">if (window.MathJax && window.MathJax.Hub && window.MathJax.Hub.Config) {window.MathJax.Hub.Config({SVG: {font: \"STIX-Web\"}});}</script>                <script type=\"text/javascript\">window.PlotlyConfig = {MathJaxConfig: 'local'};</script>\n",
       "        <script charset=\"utf-8\" src=\"https://cdn.plot.ly/plotly-2.35.2.min.js\"></script>                <div id=\"95a2e40b-5092-4f3f-8c41-dfc659f5a9f6\" class=\"plotly-graph-div\" style=\"height:400px; width:1000px;\"></div>            <script type=\"text/javascript\">                                    window.PLOTLYENV=window.PLOTLYENV || {};                                    if (document.getElementById(\"95a2e40b-5092-4f3f-8c41-dfc659f5a9f6\")) {                    Plotly.newPlot(                        \"95a2e40b-5092-4f3f-8c41-dfc659f5a9f6\",                        [{\"branchvalues\":\"total\",\"customdata\":[[163.0],[114.0],[120.0],[150.0],[180.0],[151.0],[128.0],[415.0],[130.0],[153.0],[551.0],[135.0],[177.0],[107.0],[152.0],[97.0],[245.0],[150.0],[101.0],[126.0],[218.0],[98.0],[154.0],[97.0],[123.0],[132.0],[131.0],[145.0],[98.0],[130.0]],\"domain\":{\"x\":[0.0,1.0],\"y\":[0.0,1.0]},\"hovertemplate\":\"\\u003cb\\u003e%{label}\\u003c\\u002fb\\u003e\\u003cbr\\u003eCount: %{value}\\u003cextra\\u003e\\u003c\\u002fextra\\u003e\",\"ids\":[\"actor\",\"actress\",\"album\",\"award\",\"awards\",\"band\",\"bbc\",\"best\",\"british\",\"director\",\"film\",\"films\",\"first\",\"including\",\"last\",\"made\",\"music\",\"number\",\"oscar\",\"people\",\"show\",\"singer\",\"star\",\"stars\",\"three\",\"time\",\"top\",\"two\",\"world\",\"years\"],\"labels\":[\"actor\",\"actress\",\"album\",\"award\",\"awards\",\"band\",\"bbc\",\"best\",\"british\",\"director\",\"film\",\"films\",\"first\",\"including\",\"last\",\"made\",\"music\",\"number\",\"oscar\",\"people\",\"show\",\"singer\",\"star\",\"stars\",\"three\",\"time\",\"top\",\"two\",\"world\",\"years\"],\"marker\":{\"coloraxis\":\"coloraxis\",\"colors\":[163.0,114.0,120.0,150.0,180.0,151.0,128.0,415.0,130.0,153.0,551.0,135.0,177.0,107.0,152.0,97.0,245.0,150.0,101.0,126.0,218.0,98.0,154.0,97.0,123.0,132.0,131.0,145.0,98.0,130.0]},\"name\":\"\",\"parents\":[\"\",\"\",\"\",\"\",\"\",\"\",\"\",\"\",\"\",\"\",\"\",\"\",\"\",\"\",\"\",\"\",\"\",\"\",\"\",\"\",\"\",\"\",\"\",\"\",\"\",\"\",\"\",\"\",\"\",\"\"],\"values\":[163,114,120,150,180,151,128,415,130,153,551,135,177,107,152,97,245,150,101,126,218,98,154,97,123,132,131,145,98,130],\"type\":\"treemap\",\"textinfo\":\"label+value\"}],                        {\"template\":{\"data\":{\"histogram2dcontour\":[{\"type\":\"histogram2dcontour\",\"colorbar\":{\"outlinewidth\":0,\"ticks\":\"\"},\"colorscale\":[[0.0,\"#0d0887\"],[0.1111111111111111,\"#46039f\"],[0.2222222222222222,\"#7201a8\"],[0.3333333333333333,\"#9c179e\"],[0.4444444444444444,\"#bd3786\"],[0.5555555555555556,\"#d8576b\"],[0.6666666666666666,\"#ed7953\"],[0.7777777777777778,\"#fb9f3a\"],[0.8888888888888888,\"#fdca26\"],[1.0,\"#f0f921\"]]}],\"choropleth\":[{\"type\":\"choropleth\",\"colorbar\":{\"outlinewidth\":0,\"ticks\":\"\"}}],\"histogram2d\":[{\"type\":\"histogram2d\",\"colorbar\":{\"outlinewidth\":0,\"ticks\":\"\"},\"colorscale\":[[0.0,\"#0d0887\"],[0.1111111111111111,\"#46039f\"],[0.2222222222222222,\"#7201a8\"],[0.3333333333333333,\"#9c179e\"],[0.4444444444444444,\"#bd3786\"],[0.5555555555555556,\"#d8576b\"],[0.6666666666666666,\"#ed7953\"],[0.7777777777777778,\"#fb9f3a\"],[0.8888888888888888,\"#fdca26\"],[1.0,\"#f0f921\"]]}],\"heatmap\":[{\"type\":\"heatmap\",\"colorbar\":{\"outlinewidth\":0,\"ticks\":\"\"},\"colorscale\":[[0.0,\"#0d0887\"],[0.1111111111111111,\"#46039f\"],[0.2222222222222222,\"#7201a8\"],[0.3333333333333333,\"#9c179e\"],[0.4444444444444444,\"#bd3786\"],[0.5555555555555556,\"#d8576b\"],[0.6666666666666666,\"#ed7953\"],[0.7777777777777778,\"#fb9f3a\"],[0.8888888888888888,\"#fdca26\"],[1.0,\"#f0f921\"]]}],\"heatmapgl\":[{\"type\":\"heatmapgl\",\"colorbar\":{\"outlinewidth\":0,\"ticks\":\"\"},\"colorscale\":[[0.0,\"#0d0887\"],[0.1111111111111111,\"#46039f\"],[0.2222222222222222,\"#7201a8\"],[0.3333333333333333,\"#9c179e\"],[0.4444444444444444,\"#bd3786\"],[0.5555555555555556,\"#d8576b\"],[0.6666666666666666,\"#ed7953\"],[0.7777777777777778,\"#fb9f3a\"],[0.8888888888888888,\"#fdca26\"],[1.0,\"#f0f921\"]]}],\"contourcarpet\":[{\"type\":\"contourcarpet\",\"colorbar\":{\"outlinewidth\":0,\"ticks\":\"\"}}],\"contour\":[{\"type\":\"contour\",\"colorbar\":{\"outlinewidth\":0,\"ticks\":\"\"},\"colorscale\":[[0.0,\"#0d0887\"],[0.1111111111111111,\"#46039f\"],[0.2222222222222222,\"#7201a8\"],[0.3333333333333333,\"#9c179e\"],[0.4444444444444444,\"#bd3786\"],[0.5555555555555556,\"#d8576b\"],[0.6666666666666666,\"#ed7953\"],[0.7777777777777778,\"#fb9f3a\"],[0.8888888888888888,\"#fdca26\"],[1.0,\"#f0f921\"]]}],\"surface\":[{\"type\":\"surface\",\"colorbar\":{\"outlinewidth\":0,\"ticks\":\"\"},\"colorscale\":[[0.0,\"#0d0887\"],[0.1111111111111111,\"#46039f\"],[0.2222222222222222,\"#7201a8\"],[0.3333333333333333,\"#9c179e\"],[0.4444444444444444,\"#bd3786\"],[0.5555555555555556,\"#d8576b\"],[0.6666666666666666,\"#ed7953\"],[0.7777777777777778,\"#fb9f3a\"],[0.8888888888888888,\"#fdca26\"],[1.0,\"#f0f921\"]]}],\"mesh3d\":[{\"type\":\"mesh3d\",\"colorbar\":{\"outlinewidth\":0,\"ticks\":\"\"}}],\"scatter\":[{\"fillpattern\":{\"fillmode\":\"overlay\",\"size\":10,\"solidity\":0.2},\"type\":\"scatter\"}],\"parcoords\":[{\"type\":\"parcoords\",\"line\":{\"colorbar\":{\"outlinewidth\":0,\"ticks\":\"\"}}}],\"scatterpolargl\":[{\"type\":\"scatterpolargl\",\"marker\":{\"colorbar\":{\"outlinewidth\":0,\"ticks\":\"\"}}}],\"bar\":[{\"error_x\":{\"color\":\"#2a3f5f\"},\"error_y\":{\"color\":\"#2a3f5f\"},\"marker\":{\"line\":{\"color\":\"#E5ECF6\",\"width\":0.5},\"pattern\":{\"fillmode\":\"overlay\",\"size\":10,\"solidity\":0.2}},\"type\":\"bar\"}],\"scattergeo\":[{\"type\":\"scattergeo\",\"marker\":{\"colorbar\":{\"outlinewidth\":0,\"ticks\":\"\"}}}],\"scatterpolar\":[{\"type\":\"scatterpolar\",\"marker\":{\"colorbar\":{\"outlinewidth\":0,\"ticks\":\"\"}}}],\"histogram\":[{\"marker\":{\"pattern\":{\"fillmode\":\"overlay\",\"size\":10,\"solidity\":0.2}},\"type\":\"histogram\"}],\"scattergl\":[{\"type\":\"scattergl\",\"marker\":{\"colorbar\":{\"outlinewidth\":0,\"ticks\":\"\"}}}],\"scatter3d\":[{\"type\":\"scatter3d\",\"line\":{\"colorbar\":{\"outlinewidth\":0,\"ticks\":\"\"}},\"marker\":{\"colorbar\":{\"outlinewidth\":0,\"ticks\":\"\"}}}],\"scattermapbox\":[{\"type\":\"scattermapbox\",\"marker\":{\"colorbar\":{\"outlinewidth\":0,\"ticks\":\"\"}}}],\"scatterternary\":[{\"type\":\"scatterternary\",\"marker\":{\"colorbar\":{\"outlinewidth\":0,\"ticks\":\"\"}}}],\"scattercarpet\":[{\"type\":\"scattercarpet\",\"marker\":{\"colorbar\":{\"outlinewidth\":0,\"ticks\":\"\"}}}],\"carpet\":[{\"aaxis\":{\"endlinecolor\":\"#2a3f5f\",\"gridcolor\":\"white\",\"linecolor\":\"white\",\"minorgridcolor\":\"white\",\"startlinecolor\":\"#2a3f5f\"},\"baxis\":{\"endlinecolor\":\"#2a3f5f\",\"gridcolor\":\"white\",\"linecolor\":\"white\",\"minorgridcolor\":\"white\",\"startlinecolor\":\"#2a3f5f\"},\"type\":\"carpet\"}],\"table\":[{\"cells\":{\"fill\":{\"color\":\"#EBF0F8\"},\"line\":{\"color\":\"white\"}},\"header\":{\"fill\":{\"color\":\"#C8D4E3\"},\"line\":{\"color\":\"white\"}},\"type\":\"table\"}],\"barpolar\":[{\"marker\":{\"line\":{\"color\":\"#E5ECF6\",\"width\":0.5},\"pattern\":{\"fillmode\":\"overlay\",\"size\":10,\"solidity\":0.2}},\"type\":\"barpolar\"}],\"pie\":[{\"automargin\":true,\"type\":\"pie\"}]},\"layout\":{\"autotypenumbers\":\"strict\",\"colorway\":[\"#636efa\",\"#EF553B\",\"#00cc96\",\"#ab63fa\",\"#FFA15A\",\"#19d3f3\",\"#FF6692\",\"#B6E880\",\"#FF97FF\",\"#FECB52\"],\"font\":{\"color\":\"#2a3f5f\"},\"hovermode\":\"closest\",\"hoverlabel\":{\"align\":\"left\"},\"paper_bgcolor\":\"white\",\"plot_bgcolor\":\"#E5ECF6\",\"polar\":{\"bgcolor\":\"#E5ECF6\",\"angularaxis\":{\"gridcolor\":\"white\",\"linecolor\":\"white\",\"ticks\":\"\"},\"radialaxis\":{\"gridcolor\":\"white\",\"linecolor\":\"white\",\"ticks\":\"\"}},\"ternary\":{\"bgcolor\":\"#E5ECF6\",\"aaxis\":{\"gridcolor\":\"white\",\"linecolor\":\"white\",\"ticks\":\"\"},\"baxis\":{\"gridcolor\":\"white\",\"linecolor\":\"white\",\"ticks\":\"\"},\"caxis\":{\"gridcolor\":\"white\",\"linecolor\":\"white\",\"ticks\":\"\"}},\"coloraxis\":{\"colorbar\":{\"outlinewidth\":0,\"ticks\":\"\"}},\"colorscale\":{\"sequential\":[[0.0,\"#0d0887\"],[0.1111111111111111,\"#46039f\"],[0.2222222222222222,\"#7201a8\"],[0.3333333333333333,\"#9c179e\"],[0.4444444444444444,\"#bd3786\"],[0.5555555555555556,\"#d8576b\"],[0.6666666666666666,\"#ed7953\"],[0.7777777777777778,\"#fb9f3a\"],[0.8888888888888888,\"#fdca26\"],[1.0,\"#f0f921\"]],\"sequentialminus\":[[0.0,\"#0d0887\"],[0.1111111111111111,\"#46039f\"],[0.2222222222222222,\"#7201a8\"],[0.3333333333333333,\"#9c179e\"],[0.4444444444444444,\"#bd3786\"],[0.5555555555555556,\"#d8576b\"],[0.6666666666666666,\"#ed7953\"],[0.7777777777777778,\"#fb9f3a\"],[0.8888888888888888,\"#fdca26\"],[1.0,\"#f0f921\"]],\"diverging\":[[0,\"#8e0152\"],[0.1,\"#c51b7d\"],[0.2,\"#de77ae\"],[0.3,\"#f1b6da\"],[0.4,\"#fde0ef\"],[0.5,\"#f7f7f7\"],[0.6,\"#e6f5d0\"],[0.7,\"#b8e186\"],[0.8,\"#7fbc41\"],[0.9,\"#4d9221\"],[1,\"#276419\"]]},\"xaxis\":{\"gridcolor\":\"white\",\"linecolor\":\"white\",\"ticks\":\"\",\"title\":{\"standoff\":15},\"zerolinecolor\":\"white\",\"automargin\":true,\"zerolinewidth\":2},\"yaxis\":{\"gridcolor\":\"white\",\"linecolor\":\"white\",\"ticks\":\"\",\"title\":{\"standoff\":15},\"zerolinecolor\":\"white\",\"automargin\":true,\"zerolinewidth\":2},\"scene\":{\"xaxis\":{\"backgroundcolor\":\"#E5ECF6\",\"gridcolor\":\"white\",\"linecolor\":\"white\",\"showbackground\":true,\"ticks\":\"\",\"zerolinecolor\":\"white\",\"gridwidth\":2},\"yaxis\":{\"backgroundcolor\":\"#E5ECF6\",\"gridcolor\":\"white\",\"linecolor\":\"white\",\"showbackground\":true,\"ticks\":\"\",\"zerolinecolor\":\"white\",\"gridwidth\":2},\"zaxis\":{\"backgroundcolor\":\"#E5ECF6\",\"gridcolor\":\"white\",\"linecolor\":\"white\",\"showbackground\":true,\"ticks\":\"\",\"zerolinecolor\":\"white\",\"gridwidth\":2}},\"shapedefaults\":{\"line\":{\"color\":\"#2a3f5f\"}},\"annotationdefaults\":{\"arrowcolor\":\"#2a3f5f\",\"arrowhead\":0,\"arrowwidth\":1},\"geo\":{\"bgcolor\":\"white\",\"landcolor\":\"#E5ECF6\",\"subunitcolor\":\"white\",\"showland\":true,\"showlakes\":true,\"lakecolor\":\"white\"},\"title\":{\"x\":0.05},\"mapbox\":{\"style\":\"light\"}}},\"coloraxis\":{\"colorbar\":{\"title\":{\"text\":\"count\"}},\"colorscale\":[[0.0,\"rgb(209, 238, 234)\"],[0.16666666666666666,\"rgb(168, 219, 217)\"],[0.3333333333333333,\"rgb(133, 196, 201)\"],[0.5,\"rgb(104, 171, 184)\"],[0.6666666666666666,\"rgb(79, 144, 166)\"],[0.8333333333333334,\"rgb(59, 115, 143)\"],[1.0,\"rgb(42, 86, 116)\"]]},\"legend\":{\"tracegroupgap\":0},\"title\":{\"text\":\"Most Common Words in Entertainment Articles\"},\"height\":400,\"width\":1000,\"margin\":{\"t\":50,\"l\":25,\"r\":25,\"b\":25},\"font\":{\"size\":14}},                        {\"responsive\": true}                    ).then(function(){\n",
       "                            \n",
       "var gd = document.getElementById('95a2e40b-5092-4f3f-8c41-dfc659f5a9f6');\n",
       "var x = new MutationObserver(function (mutations, observer) {{\n",
       "        var display = window.getComputedStyle(gd).display;\n",
       "        if (!display || display === 'none') {{\n",
       "            console.log([gd, 'removed!']);\n",
       "            Plotly.purge(gd);\n",
       "            observer.disconnect();\n",
       "        }}\n",
       "}});\n",
       "\n",
       "// Listen for the removal of the full notebook cells\n",
       "var notebookContainer = gd.closest('#notebook-container');\n",
       "if (notebookContainer) {{\n",
       "    x.observe(notebookContainer, {childList: true});\n",
       "}}\n",
       "\n",
       "// Listen for the clearing of the current output cell\n",
       "var outputEl = gd.closest('.output');\n",
       "if (outputEl) {{\n",
       "    x.observe(outputEl, {childList: true});\n",
       "}}\n",
       "\n",
       "                        })                };                            </script>        </div>\n",
       "</body>\n",
       "</html>"
      ]
     },
     "metadata": {},
     "output_type": "display_data"
    }
   ],
   "source": [
    "# Remove the common words from the word list\n",
    "remove_common = common_category_words['word'].tolist()\n",
    "\n",
    "# Cleanup the article Text\n",
    "text_cleaner = TextCleaner(additional_words=remove_common)\n",
    "bbcnews_train['Text_cleaned'] = text_cleaner.transform(bbcnews_train['Text'])\n",
    "\n",
    "# Visualize the word treemaps with the common words removed\n",
    "display_category_treemaps(bbcnews_train['Category'].unique())"
   ]
  },
  {
   "cell_type": "markdown",
   "id": "f3490dbe",
   "metadata": {
    "papermill": {
     "duration": 0.021703,
     "end_time": "2025-08-03T18:17:01.119851",
     "exception": false,
     "start_time": "2025-08-03T18:17:01.098148",
     "status": "completed"
    },
    "tags": []
   },
   "source": [
    "The word treemaps look better without the common words, especially given 'said' was the top word across all categories"
   ]
  },
  {
   "cell_type": "markdown",
   "id": "34658a70",
   "metadata": {
    "papermill": {
     "duration": 0.02203,
     "end_time": "2025-08-03T18:17:01.163727",
     "exception": false,
     "start_time": "2025-08-03T18:17:01.141697",
     "status": "completed"
    },
    "tags": []
   },
   "source": [
    "#### Create training and test data sets"
   ]
  },
  {
   "cell_type": "code",
   "execution_count": 22,
   "id": "a37a7c77",
   "metadata": {
    "ExecuteTime": {
     "end_time": "2025-08-02T17:05:00.338647Z",
     "start_time": "2025-08-02T17:05:00.324849Z"
    },
    "execution": {
     "iopub.execute_input": "2025-08-03T18:17:01.210288Z",
     "iopub.status.busy": "2025-08-03T18:17:01.209973Z",
     "iopub.status.idle": "2025-08-03T18:17:01.223465Z",
     "shell.execute_reply": "2025-08-03T18:17:01.222614Z"
    },
    "papermill": {
     "duration": 0.038057,
     "end_time": "2025-08-03T18:17:01.224816",
     "exception": false,
     "start_time": "2025-08-03T18:17:01.186759",
     "status": "completed"
    },
    "tags": []
   },
   "outputs": [
    {
     "data": {
      "text/plain": [
       "587    blog  picked as word of the year the term  blo...\n",
       "363    ronaldo considering new contract manchester un...\n",
       "311    ask jeeves tips online ad revival ask jeeves h...\n",
       "509    virus poses as christmas e-mail security firms...\n",
       "441    google to scan famous libraries the libraries ...\n",
       "Name: Text, dtype: object"
      ]
     },
     "execution_count": 22,
     "metadata": {},
     "output_type": "execute_result"
    }
   ],
   "source": [
    "# Split the current Train data set into a train and test sets to evaluate the models\n",
    "X_train, X_test, y_train, y_test = train_test_split(\n",
    "    bbcnews_train.Text,\n",
    "    bbcnews_train.Category,\n",
    "    test_size=0.2,\n",
    "    random_state=42,\n",
    "    stratify=bbcnews_train.Category  # Maintain class distribution\n",
    ")\n",
    "X_train.head()"
   ]
  },
  {
   "cell_type": "markdown",
   "id": "d7a27e3b",
   "metadata": {
    "papermill": {
     "duration": 0.022009,
     "end_time": "2025-08-03T18:17:01.271771",
     "exception": false,
     "start_time": "2025-08-03T18:17:01.249762",
     "status": "completed"
    },
    "tags": []
   },
   "source": [
    "### Step 2. Building and training the unsupervised model"
   ]
  },
  {
   "cell_type": "markdown",
   "id": "ebc661cb",
   "metadata": {
    "papermill": {
     "duration": 0.021833,
     "end_time": "2025-08-03T18:17:01.315569",
     "exception": false,
     "start_time": "2025-08-03T18:17:01.293736",
     "status": "completed"
    },
    "tags": []
   },
   "source": [
    "Create a helper function to match prediction scores with category labels.  (re-using a function from a previous class module with some modification for the inital lable order and data types)"
   ]
  },
  {
   "cell_type": "code",
   "execution_count": 23,
   "id": "1b009baf",
   "metadata": {
    "ExecuteTime": {
     "end_time": "2025-08-02T22:06:24.288183Z",
     "start_time": "2025-08-02T22:06:24.279823Z"
    },
    "execution": {
     "iopub.execute_input": "2025-08-03T18:17:01.361066Z",
     "iopub.status.busy": "2025-08-03T18:17:01.360691Z",
     "iopub.status.idle": "2025-08-03T18:17:01.371542Z",
     "shell.execute_reply": "2025-08-03T18:17:01.370825Z"
    },
    "papermill": {
     "duration": 0.035524,
     "end_time": "2025-08-03T18:17:01.373079",
     "exception": false,
     "start_time": "2025-08-03T18:17:01.337555",
     "status": "completed"
    },
    "tags": []
   },
   "outputs": [],
   "source": [
    "# Helper function to match categories with NMF results\n",
    "def label_permute_compare(yt, yp, labels):\n",
    "    # To support use in GridSearchCV/pipeline, need to handle the passed data formats\n",
    "    # Make sure yt is a numpy array\n",
    "    if isinstance(yt, pd.DataFrame):\n",
    "        # Original data is a DataFrame input\n",
    "        ytlist = yt.iloc[:, 0].to_numpy()\n",
    "    elif isinstance(yt, pd.Series):\n",
    "        # Cross-validation passes Series\n",
    "        ytlist = yt.to_numpy()\n",
    "    elif hasattr(yt, '__iter__') and not isinstance(yt, str):\n",
    "        # List, array, or other iterable\n",
    "        ytlist = np.array(list(yt))\n",
    "    else:\n",
    "        # Single value\n",
    "        ytlist = np.array([yt])\n",
    "\n",
    "    # Make sure yp is a numpy array)\n",
    "    if isinstance(yp, pd.Series):\n",
    "        yp = yp.to_numpy()\n",
    "    elif not isinstance(yp, np.ndarray):\n",
    "        yp = np.array(yp)\n",
    "\n",
    "    # Both arrays should have the same length\n",
    "    if len(ytlist) != len(yp):\n",
    "        raise ValueError(f\"yt (y_true) and yp (y_pred) must have same length. Got {len(ytlist)} and {len(yp)}\")\n",
    "\n",
    "    # Create permutations - only use as many as we have unique predicted values\n",
    "    unique_predictions = len(np.unique(yp))\n",
    "    labels_to_use = labels[:unique_predictions] if len(labels) >= unique_predictions else labels\n",
    "\n",
    "    # Create a list of permutations for the labels\n",
    "    perms = [list(perm) for perm in itertools.permutations(labels_to_use, len(labels_to_use))]\n",
    "\n",
    "    # iterate through the permutations and calculate accuracy\n",
    "    label_acc = []\n",
    "    for perm in perms:\n",
    "        try:\n",
    "            # Create an array of labels for the prediction, using the permutation list and the cluster number as the index\n",
    "            yp_labels = np.array(perm)[yp]\n",
    "            # Get the accuracy score using the ground truth labels against this iteration of prediction labels\n",
    "            accuracy = accuracy_score(ytlist, yp_labels)\n",
    "            label_acc.append((accuracy, perm))\n",
    "        except IndexError as e:\n",
    "            # Handle case where yp has values outside the range of perm\n",
    "            print(f\"Warning: IndexError with permutation {perm}: {e}\")\n",
    "            continue\n",
    "\n",
    "    # Handle issue with permutations\n",
    "    if not label_acc:\n",
    "        print(\"Warning: No valid permutations found, returning 0 accuracy\")\n",
    "        return tuple(range(len(labels))), 0.0\n",
    "\n",
    "    # Get the results with the highest accuracy\n",
    "    best_accuracy = max(label_acc, key=lambda x: x[0])\n",
    "\n",
    "    # Map the best label order back to the original labels list for the permuted label order\n",
    "    try:\n",
    "        indices = [labels.index(label) for label in best_accuracy[1]]\n",
    "        return tuple(indices), best_accuracy[0]\n",
    "    except ValueError as e:\n",
    "        print(f\"Warning: Could not find all labels in original list: {e}\")\n",
    "        # Return default indices if mapping fails\n",
    "        return tuple(range(len(best_accuracy[1]))), best_accuracy[0]\n"
   ]
  },
  {
   "cell_type": "markdown",
   "id": "06bb980f",
   "metadata": {
    "papermill": {
     "duration": 0.021431,
     "end_time": "2025-08-03T18:17:01.416399",
     "exception": false,
     "start_time": "2025-08-03T18:17:01.394968",
     "status": "completed"
    },
    "tags": []
   },
   "source": [
    "Create the pipeline for the process with an initial configuration for the text tokenizer, TF-IDF vectorizer, and NMF model."
   ]
  },
  {
   "cell_type": "code",
   "execution_count": 24,
   "id": "09dbc0d4",
   "metadata": {
    "ExecuteTime": {
     "end_time": "2025-08-02T22:07:29.089292Z",
     "start_time": "2025-08-02T22:07:29.084155Z"
    },
    "execution": {
     "iopub.execute_input": "2025-08-03T18:17:01.461115Z",
     "iopub.status.busy": "2025-08-03T18:17:01.460815Z",
     "iopub.status.idle": "2025-08-03T18:17:01.466921Z",
     "shell.execute_reply": "2025-08-03T18:17:01.465901Z"
    },
    "papermill": {
     "duration": 0.030493,
     "end_time": "2025-08-03T18:17:01.468522",
     "exception": false,
     "start_time": "2025-08-03T18:17:01.438029",
     "status": "completed"
    },
    "tags": []
   },
   "outputs": [],
   "source": [
    "# Create a pipeline to clean, transform, and vectorize the text and perform NMF\n",
    "text_cleaner_simple = TextCleaner(method='simple', max_word_count=792, additional_words=remove_common)\n",
    "\n",
    "tfidf_vectorizer = TfidfVectorizer(\n",
    "    min_df=5,\n",
    "    max_df=0.95,\n",
    "    analyzer='word',\n",
    "    ngram_range=(1, 2),\n",
    "    sublinear_tf=True,\n",
    "    token_pattern=r'\\b\\w+\\b'\n",
    ")\n",
    "\n",
    "nmf_model = NMF(\n",
    "    n_components=5,\n",
    "    random_state=42,\n",
    "    max_iter=300,\n",
    "    solver='cd',\n",
    "    beta_loss='frobenius',\n",
    "    alpha_H=0.0,\n",
    "    l1_ratio=0.5,\n",
    "    init='nndsvd'\n",
    ")\n",
    "\n",
    "nmf_pipeline = Pipeline([\n",
    "    ('text_cleaner', text_cleaner_simple),\n",
    "    ('tfidf', tfidf_vectorizer),\n",
    "    ('nmf', nmf_model)\n",
    "])"
   ]
  },
  {
   "cell_type": "markdown",
   "id": "e06accdd",
   "metadata": {
    "papermill": {
     "duration": 0.022812,
     "end_time": "2025-08-03T18:17:01.513869",
     "exception": false,
     "start_time": "2025-08-03T18:17:01.491057",
     "status": "completed"
    },
    "tags": []
   },
   "source": [
    "Perform an initial run of the pipeline and check the resutls"
   ]
  },
  {
   "cell_type": "code",
   "execution_count": 25,
   "id": "46e8d887",
   "metadata": {
    "ExecuteTime": {
     "end_time": "2025-08-02T22:07:31.744488Z",
     "start_time": "2025-08-02T22:07:30.830045Z"
    },
    "execution": {
     "iopub.execute_input": "2025-08-03T18:17:01.560687Z",
     "iopub.status.busy": "2025-08-03T18:17:01.560337Z",
     "iopub.status.idle": "2025-08-03T18:17:03.126181Z",
     "shell.execute_reply": "2025-08-03T18:17:03.125251Z"
    },
    "papermill": {
     "duration": 1.591091,
     "end_time": "2025-08-03T18:17:03.127817",
     "exception": false,
     "start_time": "2025-08-03T18:17:01.536726",
     "status": "completed"
    },
    "tags": []
   },
   "outputs": [
    {
     "name": "stdout",
     "output_type": "stream",
     "text": [
      "\n",
      "Topics extracted from training data (top 10 words):\n",
      "Topic #0: people mobile technology users phone use music software digital online\n",
      "Topic #1: game england win side cup team first back play match\n",
      "Topic #2: labour election blair government party minister prime minister prime tories tory\n",
      "Topic #3: film best awards award actor films star oscar actress director\n",
      "Topic #4: growth market economy economic shares bank firm company analysts prices\n",
      "\n",
      "\n",
      "Train Accuracy: 0.9531\n"
     ]
    },
    {
     "data": {
      "image/png": "[encoded data removed]",
      "text/plain": [
       "<Figure size 1000x800 with 2 Axes>"
      ]
     },
     "metadata": {},
     "output_type": "display_data"
    }
   ],
   "source": [
    "# Clean, transform, vectorize, and fit the article text\n",
    "y_hat_train = nmf_pipeline.fit_transform(X_train)\n",
    "\n",
    "# Assign the dominant topic as the prediction\n",
    "y_pred = y_hat_train.argmax(axis=1)\n",
    "\n",
    "# Extract and display topics\n",
    "print(\"\\nTopics extracted from training data (top 10 words):\")\n",
    "feature_names = nmf_pipeline.named_steps['tfidf'].get_feature_names_out()\n",
    "for topic_idx, topic in enumerate(nmf_pipeline.named_steps['nmf'].components_):\n",
    "    top_10_words_idx = topic.argsort()[:-11:-1]  # Get indices of top 10 words\n",
    "    top_10_words = [feature_names[i] for i in top_10_words_idx]\n",
    "    print(f\"Topic #{topic_idx}: {' '.join(top_10_words)}\")\n",
    "print(\"\\n\")\n",
    "\n",
    "# Get the category permutation mapping that achieves the highest accuracy for the clusters\n",
    "base_category_list = np.unique(y_train).tolist()\n",
    "topic_to_category_idx, accuracy = label_permute_compare(y_train, y_pred, base_category_list)\n",
    "print(f\"Train Accuracy: {accuracy:.4f}\")\n",
    "\n",
    "# Map the predicted topics to category names from the permutation results\n",
    "category_mapping = {i: base_category_list[idx] for i, idx in enumerate(topic_to_category_idx)}\n",
    "\n",
    "# Convert the topic numbers to category names\n",
    "predicted_categories = [category_mapping[topic] for topic in y_pred]\n",
    "\n",
    "# Create confusion matrix\n",
    "cm = confusion_matrix(y_train, predicted_categories)\n",
    "plt.figure(figsize=(10, 8))\n",
    "sns.heatmap(cm, annot=True, fmt='d', cmap='Blues',\n",
    "            xticklabels=base_category_list, yticklabels=base_category_list)\n",
    "plt.title('Confusion Matrix')\n",
    "plt.ylabel('True Category')\n",
    "plt.xlabel('Predicted Category')\n",
    "plt.tight_layout()\n",
    "plt.show()\n"
   ]
  },
  {
   "cell_type": "markdown",
   "id": "6a858953",
   "metadata": {
    "papermill": {
     "duration": 0.022444,
     "end_time": "2025-08-03T18:17:03.173070",
     "exception": false,
     "start_time": "2025-08-03T18:17:03.150626",
     "status": "completed"
    },
    "tags": []
   },
   "source": [
    "#### Setup GridSearchCV to tune model hyperparameters and generate the \"best\" model\n",
    "* not including solver = 'cd', because it is not compatible with the other beta_loss functions and we can compare with above results\n",
    "* including text transformation options for 'simple', 'wordnet', and 'snowball'\n",
    "* not including init = 'nndsvd' as option, because it is not compatible with the other beta_loss functions\n",
    "\n",
    "For the GridSearchCV process, we will:\n",
    "* Create a custom scorer function to work with the NMF model and categorical response needed to determine the accuracy\n",
    "* Perform a GridSearchCV process for the text transformer and TF-IDF vectorizer hyperparameters\n",
    "* Perform a GridSearchCV process for the NMF model hyperparameters, using the best text transformer and TF-IDF vectorizer"
   ]
  },
  {
   "cell_type": "code",
   "execution_count": 26,
   "id": "7e795ef8",
   "metadata": {
    "ExecuteTime": {
     "end_time": "2025-08-02T17:05:17.531366Z",
     "start_time": "2025-08-02T17:05:17.526392Z"
    },
    "execution": {
     "iopub.execute_input": "2025-08-03T18:17:03.220533Z",
     "iopub.status.busy": "2025-08-03T18:17:03.219552Z",
     "iopub.status.idle": "2025-08-03T18:17:03.226425Z",
     "shell.execute_reply": "2025-08-03T18:17:03.225459Z"
    },
    "papermill": {
     "duration": 0.032776,
     "end_time": "2025-08-03T18:17:03.228426",
     "exception": false,
     "start_time": "2025-08-03T18:17:03.195650",
     "status": "completed"
    },
    "tags": []
   },
   "outputs": [],
   "source": [
    "# Create a wrapper class to support a customer scoring function for a pipeline/GridSearchCV since NMF doesn't support .predict()\n",
    "def create_nmf_scorer(score_func):\n",
    "    class NMFScorer:\n",
    "        def __init__(self, score_func):\n",
    "            self.score_func = score_func\n",
    "\n",
    "        def __call__(self, estimator, X, y_true, sample_weight=None):\n",
    "            return self.score_func(estimator, X, y_true)\n",
    "\n",
    "    return NMFScorer(score_func)\n",
    "\n",
    "# Create a custom scorer for GridSearchCV, using the label_permute_compare function\n",
    "def nmf_category_scorer(estimator, X, y):\n",
    "    # Get the transform for the current model\n",
    "    doc_topic_matrix = estimator.transform(X)\n",
    "\n",
    "    # Get dominant topic for each document\n",
    "    predicted_topics = doc_topic_matrix.argmax(axis=1)\n",
    "\n",
    "    # Use your label_permute_compare function\n",
    "    labels = np.unique(y).tolist()\n",
    "    indices, best_accuracy = label_permute_compare(y, predicted_topics, labels)\n",
    "\n",
    "    return best_accuracy\n",
    "\n",
    "# Initialize the custom scorer\n",
    "category_scorer = create_nmf_scorer(nmf_category_scorer)"
   ]
  },
  {
   "cell_type": "markdown",
   "id": "e24160a5",
   "metadata": {
    "papermill": {
     "duration": 0.022171,
     "end_time": "2025-08-03T18:17:03.274163",
     "exception": false,
     "start_time": "2025-08-03T18:17:03.251992",
     "status": "completed"
    },
    "tags": []
   },
   "source": [
    "Let's run a GridSearchCV process on the text transformation and TF-IDF vectorizer to find the \"best\" parameter configuration for our data. We'll just use the NMF model from above for this process."
   ]
  },
  {
   "cell_type": "code",
   "execution_count": 27,
   "id": "810bc217",
   "metadata": {
    "ExecuteTime": {
     "end_time": "2025-08-02T20:35:50.530021Z",
     "start_time": "2025-08-02T20:17:55.225229Z"
    },
    "execution": {
     "iopub.execute_input": "2025-08-03T18:17:03.321332Z",
     "iopub.status.busy": "2025-08-03T18:17:03.321038Z",
     "iopub.status.idle": "2025-08-03T18:49:29.872481Z",
     "shell.execute_reply": "2025-08-03T18:49:29.871421Z"
    },
    "papermill": {
     "duration": 1946.5778,
     "end_time": "2025-08-03T18:49:29.874999",
     "exception": false,
     "start_time": "2025-08-03T18:17:03.297199",
     "status": "completed"
    },
    "tags": []
   },
   "outputs": [
    {
     "name": "stdout",
     "output_type": "stream",
     "text": [
      "Fitting 5 folds for each of 162 candidates, totalling 810 fits\n",
      "\n",
      "Best score: 0.9522454357236965\n",
      "Best_params: {'text_cleaner__method': 'wordnet', 'tfidf__max_df': 0.85, 'tfidf__min_df': 3, 'tfidf__ngram_range': (1, 2), 'tfidf__norm': 'l2'}\n"
     ]
    }
   ],
   "source": [
    "# Use stratified K-fold to maintain class distribution\n",
    "cv = StratifiedKFold(n_splits=5, shuffle=True, random_state=42)\n",
    "\n",
    "# Define parameter grid for TF-IDF options\n",
    "tfidf_param_grid = {\n",
    "    'text_cleaner__method': ['simple', 'wordnet', 'snowball'],\n",
    "    'tfidf__min_df': [3, 5, 10],  # Document frequency threshold\n",
    "    'tfidf__max_df': [0.85, 0.9, 0.95],  # Ignore terms that appear too frequently\n",
    "    'tfidf__ngram_range': [(1, 1), (1, 2), (1, 3)],  # Unigrams, bigrams, and trigrams\n",
    "    'tfidf__norm': ['l1', 'l2'],  # Normalization method\n",
    "}\n",
    "\n",
    "# Utilize caching to avoid processing times for recomputing text transformation on every iteration\n",
    "from joblib import Memory\n",
    "cache_dir = './cachedir'\n",
    "os.makedirs(cache_dir, exist_ok=True)\n",
    "memory = Memory(cache_dir, verbose=0)\n",
    "\n",
    "# Create a pipeline\n",
    "tfidf_pipeline = Pipeline([\n",
    "    ('text_cleaner', text_cleaner_simple),\n",
    "    ('tfidf', tfidf_vectorizer),\n",
    "    ('nmf', nmf_model)\n",
    "], memory=memory)\n",
    "\n",
    "# Create GridSearchCV with the custom scorer and the current NMF model\n",
    "tfidf_grid_search = GridSearchCV(\n",
    "    tfidf_pipeline,\n",
    "    param_grid=tfidf_param_grid,\n",
    "    scoring=category_scorer,\n",
    "    cv=cv,\n",
    "    n_jobs=1,\n",
    "    verbose=1\n",
    ")\n",
    "\n",
    "# Transform the text using the 'simple' transformer initialized above\n",
    "X_train_simple = text_cleaner_simple.transform(X_train)\n",
    "\n",
    "# Run grid search with the article text already transformed and vectorized\n",
    "tfidf_grid_search.fit(X_train_simple, y_train)\n",
    "\n",
    "print(\"\\nBest score:\", tfidf_grid_search.best_score_)\n",
    "print(\"Best_params:\", tfidf_grid_search.best_params_)\n",
    "\n",
    "# Cleanup cache\n",
    "memory.clear()"
   ]
  },
  {
   "cell_type": "markdown",
   "id": "3d3c3564",
   "metadata": {
    "papermill": {
     "duration": 0.022916,
     "end_time": "2025-08-03T18:49:29.922200",
     "exception": false,
     "start_time": "2025-08-03T18:49:29.899284",
     "status": "completed"
    },
    "tags": []
   },
   "source": [
    "Setup and run GridSearchCV to find the best NMF model hyperparameters"
   ]
  },
  {
   "cell_type": "code",
   "execution_count": 28,
   "id": "42c71b85",
   "metadata": {
    "ExecuteTime": {
     "end_time": "2025-08-02T20:37:51.121076Z",
     "start_time": "2025-08-02T20:36:57.194933Z"
    },
    "execution": {
     "iopub.execute_input": "2025-08-03T18:49:29.970095Z",
     "iopub.status.busy": "2025-08-03T18:49:29.969639Z",
     "iopub.status.idle": "2025-08-03T18:51:24.850239Z",
     "shell.execute_reply": "2025-08-03T18:51:24.849115Z"
    },
    "papermill": {
     "duration": 114.930403,
     "end_time": "2025-08-03T18:51:24.875296",
     "exception": false,
     "start_time": "2025-08-03T18:49:29.944893",
     "status": "completed"
    },
    "tags": []
   },
   "outputs": [
    {
     "name": "stdout",
     "output_type": "stream",
     "text": [
      "Fitting 5 folds for each of 18 candidates, totalling 90 fits\n",
      "\n",
      "Best model: NMF(alpha_H=0.0, init='nndsvda', l1_ratio=0.5, max_iter=300, n_components=5,\n",
      "    random_state=42, solver='mu')\n",
      "Best score: 0.9461810653115\n",
      "Best_params: {'alpha_H': 0.0, 'beta_loss': 'frobenius', 'init': 'nndsvda', 'solver': 'mu'}\n"
     ]
    }
   ],
   "source": [
    "# Save the best text transformer options\n",
    "best_text_cleaner = TextCleaner(method='wordnet', max_word_count=792, additional_words=remove_common)\n",
    "\n",
    "# Update the TF-IDF vectorizer with the best options\n",
    "best_tfidf_vectorizer = TfidfVectorizer(\n",
    "    min_df=3,\n",
    "    max_df=0.85,\n",
    "    analyzer='word',\n",
    "    ngram_range=(1, 2),\n",
    "    norm='l2',\n",
    "    sublinear_tf=True,\n",
    "    token_pattern=r'\\b\\w+\\b'\n",
    ")\n",
    "\n",
    "# Define parameter grid for the NMF model test options\n",
    "nmf_param_grid = {\n",
    "    'solver': ['mu'],\n",
    "    'beta_loss': ['frobenius', 'kullback-leibler'],\n",
    "    'alpha_H': [0.0, 0.1, 0.5],\n",
    "    'init': ['random', 'nndsvda', 'nndsvdar']\n",
    "}\n",
    "\n",
    "# Transform and vectorize the text\n",
    "X_train_cleaned = best_tfidf_vectorizer.fit_transform(best_text_cleaner.transform(X_train))\n",
    "\n",
    "# Create GridSearchCV with your custom scorer\n",
    "nmf_grid_search = GridSearchCV(\n",
    "    nmf_model,\n",
    "    param_grid=nmf_param_grid,\n",
    "    scoring=category_scorer,\n",
    "    cv=cv,\n",
    "    n_jobs=-1,\n",
    "    verbose=1\n",
    ")\n",
    "\n",
    "# Run grid search with the article text already transformed and vectorized\n",
    "nmf_grid_search.fit(X_train_cleaned, y_train)\n",
    "\n",
    "print(\"\\nBest model:\", nmf_grid_search.best_estimator_)\n",
    "print(\"Best score:\", nmf_grid_search.best_score_)\n",
    "print(\"Best_params:\", nmf_grid_search.best_params_)"
   ]
  },
  {
   "cell_type": "markdown",
   "id": "f7d8b390",
   "metadata": {
    "papermill": {
     "duration": 0.022858,
     "end_time": "2025-08-03T18:51:24.921469",
     "exception": false,
     "start_time": "2025-08-03T18:51:24.898611",
     "status": "completed"
    },
    "tags": []
   },
   "source": [
    "Now we can save the \"best\" NMF model and run it against the test subset of the Train data."
   ]
  },
  {
   "cell_type": "code",
   "execution_count": 29,
   "id": "41f7c14c",
   "metadata": {
    "ExecuteTime": {
     "end_time": "2025-08-02T21:25:07.948429Z",
     "start_time": "2025-08-02T21:24:56.557189Z"
    },
    "execution": {
     "iopub.execute_input": "2025-08-03T18:51:24.969499Z",
     "iopub.status.busy": "2025-08-03T18:51:24.969148Z",
     "iopub.status.idle": "2025-08-03T18:51:42.443935Z",
     "shell.execute_reply": "2025-08-03T18:51:42.443017Z"
    },
    "papermill": {
     "duration": 17.500924,
     "end_time": "2025-08-03T18:51:42.445545",
     "exception": false,
     "start_time": "2025-08-03T18:51:24.944621",
     "status": "completed"
    },
    "tags": []
   },
   "outputs": [
    {
     "name": "stdout",
     "output_type": "stream",
     "text": [
      "Best Model Accuracy on the test subset: 0.9479\n"
     ]
    },
    {
     "data": {
      "image/png": "[encoded data removed]",
      "text/plain": [
       "<Figure size 1000x800 with 2 Axes>"
      ]
     },
     "metadata": {},
     "output_type": "display_data"
    }
   ],
   "source": [
    "# Save the best estimator\n",
    "best_nmf_model = NMF(\n",
    "    n_components=5,\n",
    "    random_state=42,\n",
    "    max_iter=300,\n",
    "    solver='mu',\n",
    "    beta_loss='frobenius',\n",
    "    alpha_H=0.0,\n",
    "    l1_ratio=0.5,\n",
    "    init='nndsvda'\n",
    ")\n",
    "\n",
    "# Create a pipeline with the best model\n",
    "best_nmf_pipeline = (Pipeline([\n",
    "    ('text_cleaner', best_text_cleaner),\n",
    "    ('tfidf', best_tfidf_vectorizer),\n",
    "    ('nmf', best_nmf_model)\n",
    "]))\n",
    "\n",
    "# Perform a fit_transform on the training data\n",
    "y_hat_train = best_nmf_pipeline.fit_transform(X_train, y_train)\n",
    "y_pred_train = y_hat_train.argmax(axis=1)\n",
    "\n",
    "# Re-generate the category mapping, to make sure nothing has changed\n",
    "topic_to_category_idx, accuracy = label_permute_compare(y_train, y_pred_train, base_category_list)\n",
    "category_mapping = {i: base_category_list[idx] for i, idx in enumerate(topic_to_category_idx)}\n",
    "\n",
    "# Run the best pipeline/model on the test subset of the Train data\n",
    "y_hat = best_nmf_pipeline.transform(X_test)\n",
    "y_pred = y_hat.argmax(axis=1)\n",
    "y_pred_categories = [category_mapping[topic] for topic in y_pred]\n",
    "\n",
    "# Calculate accuracy\n",
    "test_accuracy = accuracy_score(y_test, y_pred_categories)\n",
    "print(f\"Best Model Accuracy on the test subset: {test_accuracy:.4f}\")\n",
    "\n",
    "# Create confusion matrix\n",
    "cm = confusion_matrix(y_test, y_pred_categories)\n",
    "plt.figure(figsize=(10, 8))\n",
    "sns.heatmap(cm, annot=True, fmt='d', cmap='Blues',\n",
    "            xticklabels=base_category_list, yticklabels=base_category_list)\n",
    "plt.title('Confusion Matrix')\n",
    "plt.ylabel('True Category')\n",
    "plt.xlabel('Predicted Category')\n",
    "plt.tight_layout()\n",
    "plt.show()"
   ]
  },
  {
   "cell_type": "markdown",
   "id": "0e66a40c",
   "metadata": {
    "papermill": {
     "duration": 0.023537,
     "end_time": "2025-08-03T18:51:42.493029",
     "exception": false,
     "start_time": "2025-08-03T18:51:42.469492",
     "status": "completed"
    },
    "tags": []
   },
   "source": [
    "Finally, generate a prediction on the competition Test data set using the best NMF model."
   ]
  },
  {
   "cell_type": "code",
   "execution_count": 30,
   "id": "66f171a0",
   "metadata": {
    "ExecuteTime": {
     "end_time": "2025-08-02T20:39:49.056118Z",
     "start_time": "2025-08-02T20:39:43.138526Z"
    },
    "execution": {
     "iopub.execute_input": "2025-08-03T18:51:42.545303Z",
     "iopub.status.busy": "2025-08-03T18:51:42.544354Z",
     "iopub.status.idle": "2025-08-03T18:51:50.997448Z",
     "shell.execute_reply": "2025-08-03T18:51:50.996301Z"
    },
    "papermill": {
     "duration": 8.481196,
     "end_time": "2025-08-03T18:51:50.999202",
     "exception": false,
     "start_time": "2025-08-03T18:51:42.518006",
     "status": "completed"
    },
    "tags": []
   },
   "outputs": [
    {
     "data": {
      "text/html": [
       "<div>\n",
       "<style scoped>\n",
       "    .dataframe tbody tr th:only-of-type {\n",
       "        vertical-align: middle;\n",
       "    }\n",
       "\n",
       "    .dataframe tbody tr th {\n",
       "        vertical-align: top;\n",
       "    }\n",
       "\n",
       "    .dataframe thead th {\n",
       "        text-align: right;\n",
       "    }\n",
       "</style>\n",
       "<table border=\"1\" class=\"dataframe\">\n",
       "  <thead>\n",
       "    <tr style=\"text-align: right;\">\n",
       "      <th></th>\n",
       "      <th>ArticleId</th>\n",
       "      <th>Category</th>\n",
       "    </tr>\n",
       "  </thead>\n",
       "  <tbody>\n",
       "    <tr>\n",
       "      <th>0</th>\n",
       "      <td>1018</td>\n",
       "      <td>sport</td>\n",
       "    </tr>\n",
       "    <tr>\n",
       "      <th>1</th>\n",
       "      <td>1319</td>\n",
       "      <td>tech</td>\n",
       "    </tr>\n",
       "    <tr>\n",
       "      <th>2</th>\n",
       "      <td>1138</td>\n",
       "      <td>sport</td>\n",
       "    </tr>\n",
       "    <tr>\n",
       "      <th>3</th>\n",
       "      <td>459</td>\n",
       "      <td>business</td>\n",
       "    </tr>\n",
       "    <tr>\n",
       "      <th>4</th>\n",
       "      <td>1020</td>\n",
       "      <td>sport</td>\n",
       "    </tr>\n",
       "    <tr>\n",
       "      <th>5</th>\n",
       "      <td>51</td>\n",
       "      <td>sport</td>\n",
       "    </tr>\n",
       "    <tr>\n",
       "      <th>6</th>\n",
       "      <td>2025</td>\n",
       "      <td>politics</td>\n",
       "    </tr>\n",
       "    <tr>\n",
       "      <th>7</th>\n",
       "      <td>1479</td>\n",
       "      <td>politics</td>\n",
       "    </tr>\n",
       "    <tr>\n",
       "      <th>8</th>\n",
       "      <td>27</td>\n",
       "      <td>entertainment</td>\n",
       "    </tr>\n",
       "    <tr>\n",
       "      <th>9</th>\n",
       "      <td>397</td>\n",
       "      <td>business</td>\n",
       "    </tr>\n",
       "  </tbody>\n",
       "</table>\n",
       "</div>"
      ],
      "text/plain": [
       "   ArticleId       Category\n",
       "0       1018          sport\n",
       "1       1319           tech\n",
       "2       1138          sport\n",
       "3        459       business\n",
       "4       1020          sport\n",
       "5         51          sport\n",
       "6       2025       politics\n",
       "7       1479       politics\n",
       "8         27  entertainment\n",
       "9        397       business"
      ]
     },
     "execution_count": 30,
     "metadata": {},
     "output_type": "execute_result"
    }
   ],
   "source": [
    "# Generate predictions for submission Test data set\n",
    "nmf_test = bbcnews_test.copy()\n",
    "\n",
    "# Predict the target category on the Test data set using the best nmf pipeline\n",
    "y_hat_test = best_nmf_pipeline.transform(nmf_test['Text'])\n",
    "y_pred = y_hat_test.argmax(axis=1)\n",
    "y_pred_categories = [category_mapping[topic] for topic in y_pred]\n",
    "nmf_test['Category'] = y_pred_categories\n",
    "\n",
    "# drop unneeded columns\n",
    "nmf_test = nmf_test.drop(['Text'], axis=1)\n",
    "nmf_test.head(10)\n"
   ]
  },
  {
   "cell_type": "markdown",
   "id": "132a0955",
   "metadata": {
    "papermill": {
     "duration": 0.02324,
     "end_time": "2025-08-03T18:51:51.048128",
     "exception": false,
     "start_time": "2025-08-03T18:51:51.024888",
     "status": "completed"
    },
    "tags": []
   },
   "source": [
    "... and create the prediction submission file."
   ]
  },
  {
   "cell_type": "code",
   "execution_count": 31,
   "id": "d0c33f7b",
   "metadata": {
    "ExecuteTime": {
     "end_time": "2025-08-01T21:59:40.740375Z",
     "start_time": "2025-08-01T21:59:40.722247Z"
    },
    "execution": {
     "iopub.execute_input": "2025-08-03T18:51:51.096965Z",
     "iopub.status.busy": "2025-08-03T18:51:51.096649Z",
     "iopub.status.idle": "2025-08-03T18:51:51.108632Z",
     "shell.execute_reply": "2025-08-03T18:51:51.107515Z"
    },
    "papermill": {
     "duration": 0.038383,
     "end_time": "2025-08-03T18:51:51.110176",
     "exception": false,
     "start_time": "2025-08-03T18:51:51.071793",
     "status": "completed"
    },
    "tags": []
   },
   "outputs": [
    {
     "name": "stdout",
     "output_type": "stream",
     "text": [
      "Submission file saved.\n"
     ]
    }
   ],
   "source": [
    "# save submission for NMF model\n",
    "try:\n",
    "    nmf_test.to_csv('submission.csv', index=False)\n",
    "    print(\"Submission file saved.\")\n",
    "except PermissionError:\n",
    "    print(\"Could not write the submission file.\")\n"
   ]
  },
  {
   "cell_type": "markdown",
   "id": "08f97b44",
   "metadata": {
    "papermill": {
     "duration": 0.023633,
     "end_time": "2025-08-03T18:51:51.158241",
     "exception": false,
     "start_time": "2025-08-03T18:51:51.134608",
     "status": "completed"
    },
    "tags": []
   },
   "source": [
    "### Step 3. Compare with Supervised Learning\n",
    "\n",
    "For this section, we will determine a \"best\" supervised learning model and then compare the results with the NFM unsupervised learning model. The supervised learning models that we will evaluate are:\n",
    "* Support Vector Machine (SVM), using LinearSVC\n",
    "* Logistic Regression\n",
    "* Random Forest Classifier\n",
    "\n",
    "We will use GridSearchCV to determine which model and hyperparameters perform the \"best\" for the comparison"
   ]
  },
  {
   "cell_type": "code",
   "execution_count": 32,
   "id": "2253bdc3",
   "metadata": {
    "ExecuteTime": {
     "end_time": "2025-08-02T20:58:08.624766Z",
     "start_time": "2025-08-02T20:57:20.453163Z"
    },
    "execution": {
     "iopub.execute_input": "2025-08-03T18:51:51.207819Z",
     "iopub.status.busy": "2025-08-03T18:51:51.207469Z",
     "iopub.status.idle": "2025-08-03T18:55:08.211669Z",
     "shell.execute_reply": "2025-08-03T18:55:08.210873Z"
    },
    "papermill": {
     "duration": 197.031268,
     "end_time": "2025-08-03T18:55:08.213708",
     "exception": false,
     "start_time": "2025-08-03T18:51:51.182440",
     "status": "completed"
    },
    "tags": []
   },
   "outputs": [
    {
     "name": "stdout",
     "output_type": "stream",
     "text": [
      "Fitting 5 folds for each of 66 candidates, totalling 330 fits\n"
     ]
    },
    {
     "name": "stderr",
     "output_type": "stream",
     "text": [
      "/usr/local/lib/python3.11/dist-packages/sklearn/svm/_base.py:1244: ConvergenceWarning: Liblinear failed to converge, increase the number of iterations.\n",
      "  warnings.warn(\n",
      "/usr/local/lib/python3.11/dist-packages/sklearn/svm/_base.py:1244: ConvergenceWarning: Liblinear failed to converge, increase the number of iterations.\n",
      "  warnings.warn(\n",
      "/usr/local/lib/python3.11/dist-packages/sklearn/svm/_base.py:1244: ConvergenceWarning: Liblinear failed to converge, increase the number of iterations.\n",
      "  warnings.warn(\n",
      "/usr/local/lib/python3.11/dist-packages/sklearn/svm/_base.py:1244: ConvergenceWarning: Liblinear failed to converge, increase the number of iterations.\n",
      "  warnings.warn(\n",
      "/usr/local/lib/python3.11/dist-packages/sklearn/svm/_base.py:1244: ConvergenceWarning: Liblinear failed to converge, increase the number of iterations.\n",
      "  warnings.warn(\n",
      "/usr/local/lib/python3.11/dist-packages/sklearn/svm/_base.py:1244: ConvergenceWarning: Liblinear failed to converge, increase the number of iterations.\n",
      "  warnings.warn(\n",
      "/usr/local/lib/python3.11/dist-packages/sklearn/svm/_base.py:1244: ConvergenceWarning: Liblinear failed to converge, increase the number of iterations.\n",
      "  warnings.warn(\n",
      "/usr/local/lib/python3.11/dist-packages/sklearn/svm/_base.py:1244: ConvergenceWarning: Liblinear failed to converge, increase the number of iterations.\n",
      "  warnings.warn(\n",
      "/usr/local/lib/python3.11/dist-packages/sklearn/svm/_base.py:1244: ConvergenceWarning: Liblinear failed to converge, increase the number of iterations.\n",
      "  warnings.warn(\n",
      "/usr/local/lib/python3.11/dist-packages/sklearn/svm/_base.py:1244: ConvergenceWarning: Liblinear failed to converge, increase the number of iterations.\n",
      "  warnings.warn(\n"
     ]
    },
    {
     "name": "stdout",
     "output_type": "stream",
     "text": [
      "\n",
      "Best model: Pipeline(steps=[('classifier', LinearSVC(class_weight='balanced', dual=False))])\n",
      "Best score: 0.9765518539431582\n",
      "Best_params: {'classifier': LinearSVC(class_weight='balanced', dual=False), 'classifier__C': 1.0, 'classifier__class_weight': 'balanced', 'classifier__penalty': 'l2'}\n"
     ]
    }
   ],
   "source": [
    "# Base pipeline for testing the three models\n",
    "classifier_pipeline = Pipeline([('classifier', LogisticRegression())])\n",
    "\n",
    "# Support Vector Maching (SVM) model - LinearSVC\n",
    "svm = LinearSVC(\n",
    "    C=1.0,\n",
    "    dual=False,\n",
    "    loss='squared_hinge',\n",
    "    class_weight=None,\n",
    ")\n",
    "\n",
    "# Logistic Regression model\n",
    "lr = LogisticRegression(\n",
    "    C=1.0,\n",
    "    penalty='l2',\n",
    "    solver='liblinear',\n",
    "    max_iter=1000,\n",
    "    class_weight='balanced',\n",
    "    random_state=42,\n",
    "    multi_class='ovr'\n",
    ")\n",
    "\n",
    "# Random Forests Classifier model\n",
    "rfc = RandomForestClassifier(\n",
    "    n_estimators=300,\n",
    "    max_depth=30,\n",
    "    min_samples_split=5,\n",
    "    min_samples_leaf=1,\n",
    "    bootstrap=True,\n",
    "    class_weight='balanced',\n",
    "    random_state=42,\n",
    "    n_jobs=-1\n",
    ")\n",
    "\n",
    "classifier_param_grid = [\n",
    "    {\n",
    "        'classifier': [lr],\n",
    "        'classifier__C': [0.1, 1.0, 10],\n",
    "        'classifier__penalty': ['l1', 'l2'],\n",
    "    },\n",
    "    {\n",
    "        'classifier': [rfc],\n",
    "        'classifier__n_estimators': [200, 300],\n",
    "        'classifier__max_depth': [None, 30, 50],\n",
    "        'classifier__min_samples_split': [2, 5],\n",
    "        'classifier__min_samples_leaf': [1, 2],\n",
    "        'classifier__class_weight': ['balanced', None],\n",
    "    },\n",
    "    {\n",
    "        'classifier': [svm],\n",
    "        'classifier__C': [0.1, 1.0, 10],\n",
    "        'classifier__penalty': ['l1', 'l2'],\n",
    "        'classifier__class_weight': ['balanced', None],\n",
    "    }\n",
    "]\n",
    "\n",
    "# Create GridSearchCV\n",
    "grid_search = GridSearchCV(\n",
    "    classifier_pipeline,\n",
    "    classifier_param_grid,\n",
    "    cv=cv,\n",
    "    scoring='accuracy',\n",
    "    n_jobs=-1,\n",
    "    verbose=1\n",
    ")\n",
    "\n",
    "# Run grid search with the article text already transformed and vectorized\n",
    "grid_search.fit(X_train_cleaned, y_train)\n",
    "\n",
    "print(\"\\nBest model:\", grid_search.best_estimator_)\n",
    "print(\"Best score:\", grid_search.best_score_)\n",
    "print(\"Best_params:\", grid_search.best_params_)"
   ]
  },
  {
   "cell_type": "markdown",
   "id": "4e69d45c",
   "metadata": {
    "papermill": {
     "duration": 0.040041,
     "end_time": "2025-08-03T18:55:08.295803",
     "exception": false,
     "start_time": "2025-08-03T18:55:08.255762",
     "status": "completed"
    },
    "tags": []
   },
   "source": [
    "LinearSVC had the higher accuracy score of the three, so we save that model as the \"best\" supervised learning model and predict against the test subset data."
   ]
  },
  {
   "cell_type": "code",
   "execution_count": 33,
   "id": "1a7db155",
   "metadata": {
    "ExecuteTime": {
     "end_time": "2025-08-02T21:01:16.825488Z",
     "start_time": "2025-08-02T21:01:04.913618Z"
    },
    "execution": {
     "iopub.execute_input": "2025-08-03T18:55:08.358416Z",
     "iopub.status.busy": "2025-08-03T18:55:08.358085Z",
     "iopub.status.idle": "2025-08-03T18:55:25.080171Z",
     "shell.execute_reply": "2025-08-03T18:55:25.078948Z"
    },
    "papermill": {
     "duration": 16.749474,
     "end_time": "2025-08-03T18:55:25.081945",
     "exception": false,
     "start_time": "2025-08-03T18:55:08.332471",
     "status": "completed"
    },
    "tags": []
   },
   "outputs": [
    {
     "name": "stdout",
     "output_type": "stream",
     "text": [
      "Accuracy on test set: 0.9722\n",
      "\n",
      "Classification Report:\n",
      "               precision    recall  f1-score   support\n",
      "\n",
      "     business       0.97      0.99      0.98        67\n",
      "entertainment       0.96      0.96      0.96        53\n",
      "     politics       0.98      0.96      0.97        53\n",
      "        sport       0.99      1.00      0.99        68\n",
      "         tech       0.96      0.94      0.95        47\n",
      "\n",
      "     accuracy                           0.97       288\n",
      "    macro avg       0.97      0.97      0.97       288\n",
      " weighted avg       0.97      0.97      0.97       288\n",
      "\n"
     ]
    }
   ],
   "source": [
    "# Test the best SVM model on the test subset of the Train data\n",
    "best_svm_model = LinearSVC(\n",
    "    C=1.0,\n",
    "    dual=False,\n",
    "    loss='squared_hinge',\n",
    "    class_weight='balanced',\n",
    "    penalty='l2',\n",
    ")\n",
    "\n",
    "best_svm_pipeline = Pipeline([\n",
    "    ('text_cleaner', best_text_cleaner),\n",
    "    ('tfidf', best_tfidf_vectorizer),\n",
    "    ('svm', best_svm_model)\n",
    "])\n",
    "\n",
    "# Train the model\n",
    "best_svm_pipeline.fit(X_train, y_train)\n",
    "\n",
    "# Predict on test data\n",
    "y_pred_svm = best_svm_pipeline.predict(X_test)\n",
    "\n",
    "# Calculate accuracy\n",
    "accuracy_svm = accuracy_score(y_test, y_pred_svm)\n",
    "print(f\"Accuracy on test set: {accuracy_svm:.4f}\")\n",
    "\n",
    "# Detailed classification report\n",
    "print(\"\\nClassification Report:\")\n",
    "print(classification_report(y_test, y_pred_svm))"
   ]
  },
  {
   "cell_type": "markdown",
   "id": "f6ae9a91",
   "metadata": {
    "papermill": {
     "duration": 0.024506,
     "end_time": "2025-08-03T18:55:25.131906",
     "exception": false,
     "start_time": "2025-08-03T18:55:25.107400",
     "status": "completed"
    },
    "tags": []
   },
   "source": [
    "Next, we can use this model to generate a prediction on the competition Test data set."
   ]
  },
  {
   "cell_type": "code",
   "execution_count": 34,
   "id": "a354a8c2",
   "metadata": {
    "ExecuteTime": {
     "end_time": "2025-08-02T21:02:00.420196Z",
     "start_time": "2025-08-02T21:01:53.661479Z"
    },
    "execution": {
     "iopub.execute_input": "2025-08-03T18:55:25.183941Z",
     "iopub.status.busy": "2025-08-03T18:55:25.183596Z",
     "iopub.status.idle": "2025-08-03T18:55:33.696479Z",
     "shell.execute_reply": "2025-08-03T18:55:33.695526Z"
    },
    "papermill": {
     "duration": 8.541048,
     "end_time": "2025-08-03T18:55:33.698030",
     "exception": false,
     "start_time": "2025-08-03T18:55:25.156982",
     "status": "completed"
    },
    "tags": []
   },
   "outputs": [
    {
     "data": {
      "text/html": [
       "<div>\n",
       "<style scoped>\n",
       "    .dataframe tbody tr th:only-of-type {\n",
       "        vertical-align: middle;\n",
       "    }\n",
       "\n",
       "    .dataframe tbody tr th {\n",
       "        vertical-align: top;\n",
       "    }\n",
       "\n",
       "    .dataframe thead th {\n",
       "        text-align: right;\n",
       "    }\n",
       "</style>\n",
       "<table border=\"1\" class=\"dataframe\">\n",
       "  <thead>\n",
       "    <tr style=\"text-align: right;\">\n",
       "      <th></th>\n",
       "      <th>ArticleId</th>\n",
       "      <th>Category</th>\n",
       "    </tr>\n",
       "  </thead>\n",
       "  <tbody>\n",
       "    <tr>\n",
       "      <th>0</th>\n",
       "      <td>1018</td>\n",
       "      <td>sport</td>\n",
       "    </tr>\n",
       "    <tr>\n",
       "      <th>1</th>\n",
       "      <td>1319</td>\n",
       "      <td>tech</td>\n",
       "    </tr>\n",
       "    <tr>\n",
       "      <th>2</th>\n",
       "      <td>1138</td>\n",
       "      <td>sport</td>\n",
       "    </tr>\n",
       "    <tr>\n",
       "      <th>3</th>\n",
       "      <td>459</td>\n",
       "      <td>business</td>\n",
       "    </tr>\n",
       "    <tr>\n",
       "      <th>4</th>\n",
       "      <td>1020</td>\n",
       "      <td>sport</td>\n",
       "    </tr>\n",
       "    <tr>\n",
       "      <th>5</th>\n",
       "      <td>51</td>\n",
       "      <td>sport</td>\n",
       "    </tr>\n",
       "    <tr>\n",
       "      <th>6</th>\n",
       "      <td>2025</td>\n",
       "      <td>politics</td>\n",
       "    </tr>\n",
       "    <tr>\n",
       "      <th>7</th>\n",
       "      <td>1479</td>\n",
       "      <td>politics</td>\n",
       "    </tr>\n",
       "    <tr>\n",
       "      <th>8</th>\n",
       "      <td>27</td>\n",
       "      <td>entertainment</td>\n",
       "    </tr>\n",
       "    <tr>\n",
       "      <th>9</th>\n",
       "      <td>397</td>\n",
       "      <td>business</td>\n",
       "    </tr>\n",
       "  </tbody>\n",
       "</table>\n",
       "</div>"
      ],
      "text/plain": [
       "   ArticleId       Category\n",
       "0       1018          sport\n",
       "1       1319           tech\n",
       "2       1138          sport\n",
       "3        459       business\n",
       "4       1020          sport\n",
       "5         51          sport\n",
       "6       2025       politics\n",
       "7       1479       politics\n",
       "8         27  entertainment\n",
       "9        397       business"
      ]
     },
     "execution_count": 34,
     "metadata": {},
     "output_type": "execute_result"
    }
   ],
   "source": [
    "# Generate predictions for submission Test data set\n",
    "svm_test = bbcnews_test.copy()\n",
    "\n",
    "# Predict the target category on the Test data set using the best nmf pipeline\n",
    "svm_test['Category'] = best_svm_pipeline.predict(svm_test['Text'])\n",
    "\n",
    "# drop unneeded columns\n",
    "svm_test = svm_test.drop(['Text'], axis=1)\n",
    "svm_test.head(10)\n"
   ]
  },
  {
   "cell_type": "markdown",
   "id": "5b00a35d",
   "metadata": {
    "papermill": {
     "duration": 0.024598,
     "end_time": "2025-08-03T18:55:33.747605",
     "exception": false,
     "start_time": "2025-08-03T18:55:33.723007",
     "status": "completed"
    },
    "tags": []
   },
   "source": [
    "... and then save a corresponding submission file."
   ]
  },
  {
   "cell_type": "code",
   "execution_count": 35,
   "id": "9b79a81b",
   "metadata": {
    "execution": {
     "iopub.execute_input": "2025-08-03T18:55:33.799970Z",
     "iopub.status.busy": "2025-08-03T18:55:33.799668Z",
     "iopub.status.idle": "2025-08-03T18:55:33.804442Z",
     "shell.execute_reply": "2025-08-03T18:55:33.803648Z"
    },
    "papermill": {
     "duration": 0.033164,
     "end_time": "2025-08-03T18:55:33.805926",
     "exception": false,
     "start_time": "2025-08-03T18:55:33.772762",
     "status": "completed"
    },
    "tags": []
   },
   "outputs": [],
   "source": [
    "# save submission for SVM model\n",
    "try:\n",
    "    # svm_test.to_csv('submission.csv', index=False)\n",
    "    pass\n",
    "except PermissionError:\n",
    "    print(\"Could not write the submission file.\")\n"
   ]
  },
  {
   "cell_type": "markdown",
   "id": "df1bd7db",
   "metadata": {
    "papermill": {
     "duration": 0.024788,
     "end_time": "2025-08-03T18:55:33.855709",
     "exception": false,
     "start_time": "2025-08-03T18:55:33.830921",
     "status": "completed"
    },
    "tags": []
   },
   "source": [
    "Overall, it looks like the LinearSVC supervised learning model performed better on the category prediction over the Non-negative Matrix Factorization unsupervised model. In general, this makes sense, given that the supervised model can learn based on a known outcome, while the unsupervised model is clustering based on a determination of similarities/differences."
   ]
  },
  {
   "cell_type": "markdown",
   "id": "5f031a7d",
   "metadata": {
    "papermill": {
     "duration": 0.024621,
     "end_time": "2025-08-03T18:55:33.905252",
     "exception": false,
     "start_time": "2025-08-03T18:55:33.880631",
     "status": "completed"
    },
    "tags": []
   },
   "source": [
    "#### Does training sample size matter?\n",
    "\n",
    "For experimentation, we are going to compare the NMF and LinearSVC models across different training sample sizes. This will be done by creating splits for 20%, 40%, 60%, and 80%, running fit/predict for each model, and then comparing the results across each."
   ]
  },
  {
   "cell_type": "code",
   "execution_count": 36,
   "id": "525e0537",
   "metadata": {
    "ExecuteTime": {
     "end_time": "2025-08-02T22:47:17.993108Z",
     "start_time": "2025-08-02T22:45:46.671476Z"
    },
    "execution": {
     "iopub.execute_input": "2025-08-03T18:55:33.958218Z",
     "iopub.status.busy": "2025-08-03T18:55:33.957344Z",
     "iopub.status.idle": "2025-08-03T18:57:44.717316Z",
     "shell.execute_reply": "2025-08-03T18:57:44.716406Z"
    },
    "papermill": {
     "duration": 130.813912,
     "end_time": "2025-08-03T18:57:44.744160",
     "exception": false,
     "start_time": "2025-08-03T18:55:33.930248",
     "status": "completed"
    },
    "tags": []
   },
   "outputs": [
    {
     "data": {
      "text/html": [
       "<div>\n",
       "<style scoped>\n",
       "    .dataframe tbody tr th:only-of-type {\n",
       "        vertical-align: middle;\n",
       "    }\n",
       "\n",
       "    .dataframe tbody tr th {\n",
       "        vertical-align: top;\n",
       "    }\n",
       "\n",
       "    .dataframe thead th {\n",
       "        text-align: right;\n",
       "    }\n",
       "</style>\n",
       "<table border=\"1\" class=\"dataframe\">\n",
       "  <thead>\n",
       "    <tr style=\"text-align: right;\">\n",
       "      <th></th>\n",
       "      <th>nmf</th>\n",
       "      <th>svm</th>\n",
       "    </tr>\n",
       "    <tr>\n",
       "      <th>split</th>\n",
       "      <th></th>\n",
       "      <th></th>\n",
       "    </tr>\n",
       "  </thead>\n",
       "  <tbody>\n",
       "    <tr>\n",
       "      <th>0.2</th>\n",
       "      <td>0.947917</td>\n",
       "      <td>0.989583</td>\n",
       "    </tr>\n",
       "    <tr>\n",
       "      <th>0.4</th>\n",
       "      <td>0.960069</td>\n",
       "      <td>0.982639</td>\n",
       "    </tr>\n",
       "    <tr>\n",
       "      <th>0.6</th>\n",
       "      <td>0.946759</td>\n",
       "      <td>0.975694</td>\n",
       "    </tr>\n",
       "    <tr>\n",
       "      <th>0.8</th>\n",
       "      <td>0.940104</td>\n",
       "      <td>0.967014</td>\n",
       "    </tr>\n",
       "  </tbody>\n",
       "</table>\n",
       "</div>"
      ],
      "text/plain": [
       "            nmf       svm\n",
       "split                    \n",
       "0.2    0.947917  0.989583\n",
       "0.4    0.960069  0.982639\n",
       "0.6    0.946759  0.975694\n",
       "0.8    0.940104  0.967014"
      ]
     },
     "execution_count": 36,
     "metadata": {},
     "output_type": "execute_result"
    }
   ],
   "source": [
    "# Split the Train data set into different size train and test sets to evaluate supervised model(s)\n",
    "splits = [0.2, 0.4, 0.6, 0.8]\n",
    "\n",
    "# DataFrame to store results\n",
    "split_results = pd.DataFrame(\n",
    "    {\n",
    "        'nmf': [0.0] * len(splits),\n",
    "        'svm': [0.0] * len(splits)\n",
    "    },\n",
    "    index=splits\n",
    ")\n",
    "split_results.index.name = 'split'\n",
    "\n",
    "# Iterate the test for each training set size\n",
    "for split in splits:\n",
    "    X_train_s, X_test_s, y_train_s, y_test_s = train_test_split(\n",
    "        bbcnews_train.Text,\n",
    "        bbcnews_train.Category,\n",
    "        test_size=split,\n",
    "        random_state=42,\n",
    "        # stratify=bbcnews_train.Category  # Maintain class distribution\n",
    "    )\n",
    "\n",
    "    # fit/predict for NMF\n",
    "    y_hat_train_s = best_nmf_pipeline.fit_transform(X_train_s, y_train_s)\n",
    "    y_pred_train_s = y_hat_train_s.argmax(axis=1)\n",
    "    labels_s = np.unique(y_train_s).tolist()\n",
    "    nmf_train_idx, nmf_train_accuracy = label_permute_compare(y_train_s, y_pred_train_s, labels_s)\n",
    "    category_mapping_s = {i: labels_s[idx] for i, idx in enumerate(nmf_train_idx)}\n",
    "\n",
    "    # Run on the test subset data for NMF\n",
    "    y_hat_s = best_nmf_pipeline.transform(X_test_s)\n",
    "    y_pred_s = y_hat_s.argmax(axis=1)\n",
    "    y_pred_categories = [category_mapping_s[topic] for topic in y_pred_s]\n",
    "    nmf_test_accuracy = accuracy_score(y_test_s, y_pred_categories)\n",
    "\n",
    "    # Save results\n",
    "    split_results.at[split, 'nmf'] = accuracy_score(y_test_s, y_pred_categories)\n",
    "\n",
    "    # fit/predit for SVM\n",
    "    best_svm_pipeline.fit(X_train_s, y_train_s)\n",
    "\n",
    "    # Run on the test subset data for SVM\n",
    "    y_pred_s = best_svm_pipeline.predict(X_test_s)\n",
    "    split_results.at[split, 'svm'] = accuracy_score(y_test_s, y_pred_s)\n",
    "\n",
    "split_results"
   ]
  },
  {
   "cell_type": "markdown",
   "id": "d37fded8",
   "metadata": {
    "papermill": {
     "duration": 0.025832,
     "end_time": "2025-08-03T18:57:44.795027",
     "exception": false,
     "start_time": "2025-08-03T18:57:44.769195",
     "status": "completed"
    },
    "tags": []
   },
   "source": [
    "Again, the LinearSVC supervised learning model had better accuracy than NMF across all variations of the split percentage."
   ]
  },
  {
   "cell_type": "markdown",
   "id": "3ef8991f",
   "metadata": {
    "papermill": {
     "duration": 0.025287,
     "end_time": "2025-08-03T18:57:44.845757",
     "exception": false,
     "start_time": "2025-08-03T18:57:44.820470",
     "status": "completed"
    },
    "tags": []
   },
   "source": [
    "#### Ensemble\n",
    "\n",
    "For the final evaluation, let's see how an ensemble would work with both the NMF and LinearSVC models together. As an experiment, I will also add a Random Forest Classifier and test the voting weights to see the affects on the outcome. Instead of creating a custom transformer to enable NMF predictions, the NMF results were fed into a LogisticRegression classifier for the category prediction."
   ]
  },
  {
   "cell_type": "code",
   "execution_count": 37,
   "id": "0634a96e",
   "metadata": {
    "ExecuteTime": {
     "end_time": "2025-08-02T19:50:06.597672Z",
     "start_time": "2025-08-02T19:49:29.033869Z"
    },
    "execution": {
     "iopub.execute_input": "2025-08-03T18:57:44.897803Z",
     "iopub.status.busy": "2025-08-03T18:57:44.897461Z",
     "iopub.status.idle": "2025-08-03T18:58:42.427668Z",
     "shell.execute_reply": "2025-08-03T18:58:42.426567Z"
    },
    "papermill": {
     "duration": 57.584259,
     "end_time": "2025-08-03T18:58:42.455300",
     "exception": false,
     "start_time": "2025-08-03T18:57:44.871041",
     "status": "completed"
    },
    "tags": []
   },
   "outputs": [
    {
     "name": "stdout",
     "output_type": "stream",
     "text": [
      "Accuracy on test set: 0.9618\n",
      "\n",
      "Classification Report:\n",
      "               precision    recall  f1-score   support\n",
      "\n",
      "     business       0.97      0.99      0.98        67\n",
      "entertainment       0.94      0.94      0.94        53\n",
      "     politics       0.96      0.96      0.96        53\n",
      "        sport       0.97      1.00      0.99        68\n",
      "         tech       0.95      0.89      0.92        47\n",
      "\n",
      "     accuracy                           0.96       288\n",
      "    macro avg       0.96      0.96      0.96       288\n",
      " weighted avg       0.96      0.96      0.96       288\n",
      "\n"
     ]
    }
   ],
   "source": [
    "# Build an Ensemble that uses the NMF/Logistic Regression, SVM, and RFC models together\n",
    "\n",
    "# Create a NMF-based classifier with LogisticRegression to generate predictions in a supervised learning process\n",
    "nmf_classifier_pipeline = Pipeline([\n",
    "    ('text_cleaner', clone(best_text_cleaner)),\n",
    "    ('tfidf', clone(best_tfidf_vectorizer)),\n",
    "    ('nmf_extractor', best_nmf_model),\n",
    "    ('classifier', LogisticRegression(max_iter=1000, random_state=42))\n",
    "])\n",
    "\n",
    "# Create a calibrated SVM classifier to return results in probability estimates\n",
    "calibrated_svm_pipeline = Pipeline([\n",
    "    ('text_cleaner', clone(best_text_cleaner)),\n",
    "    ('tfidf', clone(best_tfidf_vectorizer)),\n",
    "    ('svm', CalibratedClassifierCV(best_svm_model, cv=5))\n",
    "])\n",
    "\n",
    "# Create a calibrated Random Forest Classifier\n",
    "calibrated_rfc_pipeline = Pipeline([\n",
    "    ('text_cleaner', clone(best_text_cleaner)),\n",
    "    ('tfidf', clone(best_tfidf_vectorizer)),\n",
    "    ('rfc', CalibratedClassifierCV(rfc, cv=5))\n",
    "])\n",
    "\n",
    "# Create voting ensemble\n",
    "ensemble = VotingClassifier(\n",
    "    estimators=[\n",
    "        ('nmf', nmf_classifier_pipeline),\n",
    "        ('svm', calibrated_svm_pipeline),\n",
    "        ('rfc', calibrated_rfc_pipeline)\n",
    "    ],\n",
    "    voting='soft',\n",
    "    weights=[0.2, 0.4, 0.4]\n",
    ")\n",
    "\n",
    "# Fit the ensemble\n",
    "ensemble.fit(X_train, y_train)\n",
    "\n",
    "# Evaluate the model on test data\n",
    "y_pred_ensemble = ensemble.predict(X_test)\n",
    "\n",
    "# Calculate accuracy\n",
    "accuracy_ensemble = accuracy_score(y_test, y_pred_ensemble)\n",
    "print(f\"Accuracy on test set: {accuracy_ensemble:.4f}\")\n",
    "\n",
    "# Detailed classification report\n",
    "print(\"\\nClassification Report:\")\n",
    "print(classification_report(y_test, y_pred_ensemble))"
   ]
  },
  {
   "cell_type": "code",
   "execution_count": 38,
   "id": "80a2a526",
   "metadata": {
    "ExecuteTime": {
     "end_time": "2025-08-02T19:52:44.321797Z",
     "start_time": "2025-08-02T19:52:25.817360Z"
    },
    "execution": {
     "iopub.execute_input": "2025-08-03T18:58:42.508154Z",
     "iopub.status.busy": "2025-08-03T18:58:42.507822Z",
     "iopub.status.idle": "2025-08-03T18:59:08.398834Z",
     "shell.execute_reply": "2025-08-03T18:59:08.397778Z"
    },
    "papermill": {
     "duration": 25.919441,
     "end_time": "2025-08-03T18:59:08.400635",
     "exception": false,
     "start_time": "2025-08-03T18:58:42.481194",
     "status": "completed"
    },
    "tags": []
   },
   "outputs": [
    {
     "data": {
      "text/html": [
       "<div>\n",
       "<style scoped>\n",
       "    .dataframe tbody tr th:only-of-type {\n",
       "        vertical-align: middle;\n",
       "    }\n",
       "\n",
       "    .dataframe tbody tr th {\n",
       "        vertical-align: top;\n",
       "    }\n",
       "\n",
       "    .dataframe thead th {\n",
       "        text-align: right;\n",
       "    }\n",
       "</style>\n",
       "<table border=\"1\" class=\"dataframe\">\n",
       "  <thead>\n",
       "    <tr style=\"text-align: right;\">\n",
       "      <th></th>\n",
       "      <th>ArticleId</th>\n",
       "      <th>Category</th>\n",
       "    </tr>\n",
       "  </thead>\n",
       "  <tbody>\n",
       "    <tr>\n",
       "      <th>0</th>\n",
       "      <td>1018</td>\n",
       "      <td>sport</td>\n",
       "    </tr>\n",
       "    <tr>\n",
       "      <th>1</th>\n",
       "      <td>1319</td>\n",
       "      <td>tech</td>\n",
       "    </tr>\n",
       "    <tr>\n",
       "      <th>2</th>\n",
       "      <td>1138</td>\n",
       "      <td>sport</td>\n",
       "    </tr>\n",
       "    <tr>\n",
       "      <th>3</th>\n",
       "      <td>459</td>\n",
       "      <td>business</td>\n",
       "    </tr>\n",
       "    <tr>\n",
       "      <th>4</th>\n",
       "      <td>1020</td>\n",
       "      <td>sport</td>\n",
       "    </tr>\n",
       "    <tr>\n",
       "      <th>5</th>\n",
       "      <td>51</td>\n",
       "      <td>sport</td>\n",
       "    </tr>\n",
       "    <tr>\n",
       "      <th>6</th>\n",
       "      <td>2025</td>\n",
       "      <td>politics</td>\n",
       "    </tr>\n",
       "    <tr>\n",
       "      <th>7</th>\n",
       "      <td>1479</td>\n",
       "      <td>politics</td>\n",
       "    </tr>\n",
       "    <tr>\n",
       "      <th>8</th>\n",
       "      <td>27</td>\n",
       "      <td>entertainment</td>\n",
       "    </tr>\n",
       "    <tr>\n",
       "      <th>9</th>\n",
       "      <td>397</td>\n",
       "      <td>business</td>\n",
       "    </tr>\n",
       "  </tbody>\n",
       "</table>\n",
       "</div>"
      ],
      "text/plain": [
       "   ArticleId       Category\n",
       "0       1018          sport\n",
       "1       1319           tech\n",
       "2       1138          sport\n",
       "3        459       business\n",
       "4       1020          sport\n",
       "5         51          sport\n",
       "6       2025       politics\n",
       "7       1479       politics\n",
       "8         27  entertainment\n",
       "9        397       business"
      ]
     },
     "execution_count": 38,
     "metadata": {},
     "output_type": "execute_result"
    }
   ],
   "source": [
    "# Generate predictions for submission Test data set\n",
    "ensemble_test = bbcnews_test.copy()\n",
    "\n",
    "# Predict the target category on the Test data set using the best nmf pipeline\n",
    "ensemble_test['Category'] = ensemble.predict(ensemble_test['Text'])\n",
    "\n",
    "# drop unneeded columns\n",
    "ensemble_test = ensemble_test.drop(['Text'], axis=1)\n",
    "ensemble_test.head(10)\n"
   ]
  },
  {
   "cell_type": "code",
   "execution_count": 39,
   "id": "0b8e8a6b",
   "metadata": {
    "execution": {
     "iopub.execute_input": "2025-08-03T18:59:08.452781Z",
     "iopub.status.busy": "2025-08-03T18:59:08.452475Z",
     "iopub.status.idle": "2025-08-03T18:59:08.457127Z",
     "shell.execute_reply": "2025-08-03T18:59:08.456209Z"
    },
    "papermill": {
     "duration": 0.032491,
     "end_time": "2025-08-03T18:59:08.458622",
     "exception": false,
     "start_time": "2025-08-03T18:59:08.426131",
     "status": "completed"
    },
    "tags": []
   },
   "outputs": [],
   "source": [
    "# save submission for SVM model\n",
    "try:\n",
    "    # svm_test.to_csv('submission.csv', index=False)\n",
    "    pass\n",
    "except PermissionError:\n",
    "    print(\"Could not write the submission file.\")\n"
   ]
  },
  {
   "cell_type": "markdown",
   "id": "da72e51c",
   "metadata": {
    "papermill": {
     "duration": 0.025162,
     "end_time": "2025-08-03T18:59:08.510225",
     "exception": false,
     "start_time": "2025-08-03T18:59:08.485063",
     "status": "completed"
    },
    "tags": []
   },
   "source": [
    "Playing with the weight parameters, I found that the LinearSVC model still had the best accuracy and contributed the most to higher accuracy outcomes. The Random Forest Classifier also had a reasonable accuracy, with the NMF model seeming to contribute less towards the better prediction accuracies. In the end, the best prediction accuracy on the test subset data seemed to fall around 20%, 40%, 40% for NMF/LR, SVM, and RFC, respectively."
   ]
  },
  {
   "cell_type": "code",
   "execution_count": 40,
   "id": "45e1dac0",
   "metadata": {
    "execution": {
     "iopub.execute_input": "2025-08-03T18:59:08.563746Z",
     "iopub.status.busy": "2025-08-03T18:59:08.563433Z",
     "iopub.status.idle": "2025-08-03T18:59:08.567431Z",
     "shell.execute_reply": "2025-08-03T18:59:08.566525Z"
    },
    "papermill": {
     "duration": 0.033117,
     "end_time": "2025-08-03T18:59:08.568977",
     "exception": false,
     "start_time": "2025-08-03T18:59:08.535860",
     "status": "completed"
    },
    "tags": []
   },
   "outputs": [],
   "source": [
    "### Conclusions\n",
    "\n"
   ]
  }
 ],
 "metadata": {
  "kaggle": {
   "accelerator": "none",
   "dataSources": [
    {
     "databundleVersionId": 324297,
     "sourceId": 13351,
     "sourceType": "competition"
    }
   ],
   "dockerImageVersionId": 31089,
   "isGpuEnabled": false,
   "isInternetEnabled": true,
   "language": "python",
   "sourceType": "notebook"
  },
  "kernelspec": {
   "display_name": "Python 3",
   "language": "python",
   "name": "python3"
  },
  "language_info": {
   "codemirror_mode": {
    "name": "ipython",
    "version": 3
   },
   "file_extension": ".py",
   "mimetype": "text/x-python",
   "name": "python",
   "nbconvert_exporter": "python",
   "pygments_lexer": "ipython3",
   "version": "3.11.13"
  },
  "papermill": {
   "default_parameters": {},
   "duration": 2548.894927,
   "end_time": "2025-08-03T18:59:11.226138",
   "environment_variables": {},
   "exception": null,
   "input_path": "__notebook__.ipynb",
   "output_path": "__notebook__.ipynb",
   "parameters": {},
   "start_time": "2025-08-03T18:16:42.331211",
   "version": "2.6.0"
  }
 },
 "nbformat": 4,
 "nbformat_minor": 5
}
